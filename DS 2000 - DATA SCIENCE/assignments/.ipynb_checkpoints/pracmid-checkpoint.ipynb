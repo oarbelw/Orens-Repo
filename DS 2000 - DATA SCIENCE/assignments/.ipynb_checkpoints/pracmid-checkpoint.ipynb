{
 "cells": [
  {
   "cell_type": "markdown",
   "metadata": {},
   "source": [
    "# DS2002 Midterm exam 2022\n",
    "# YourUserID: xxxxxxxx\n",
    "## General \n",
    "This Midterm integrates knowledge and skills acquired in the first half of the semester, especially in the last 6 Assignments. Some basic rules: \n",
    "- You are allowed to use any document and source and look up documents on the internet. \n",
    "- You or not allowed to share documents, or communicate in any other way with people during period of final. Given that there are students with extra time, this is until 3pm, March 3d.  \n",
    "- All the code you are using from previous assignments or labs needs to be included in the notebook. \n",
    "- Most questions also require some written answer. The answer to these questions should be given in full English sentences. \n",
    "- All Figures should be appropriately labeled and should have a figure caption. \n",
    "- The Midterm needs to be submitted on OWL (Test + Quizzes) before 12 30 pm. If you have approved accommodation, you need to submit after 2 hrs + your extra time after the start of the exam at 10 30am. \n",
    "\n",
    "## Preliminaries"
   ]
  },
  {
   "cell_type": "code",
   "execution_count": null,
   "metadata": {},
   "outputs": [],
   "source": [
    "import matplotlib\n",
    "import matplotlib.pyplot as plt \n",
    "%matplotlib inline\n",
    "import scipy.stats as sps\n",
    "import pandas as pd \n",
    "import numpy as np\n",
    "import scipy.optimize as so\n",
    "import seaborn as sns"
   ]
  },
  {
   "cell_type": "markdown",
   "metadata": {},
   "source": [
    "## Data set\n",
    "With growing challenges of congestion, excessive land use for parking, climate change, health-cost due to lack of exercise, and dying downtowns, cities across the world are looking towards finding ways of encouraging walking and cycling as alternative modes of transportation. How to achieve a sustainable change is a complex issue and a topic of extensive discussion in many North-American cities. The data set consists of daily counts of the number of bicycles at two selected locations on bike trails in Ottawa from January 2016- June 2020. The two locations are 08SOMO: Somerset bridge over O-Train and 10OGLD: O-Train Pathway just north of Galdstone Avenue. The csv-file (`bike_count.csv`) has the following columns: \n",
    "\n",
    "-year: Year of recording 2016-2020\n",
    "\n",
    "-month: Month running from January (1) to December (12)\n",
    "\n",
    "-day: Day of the week: Monday (0) to Sunday (6) \n",
    "\n",
    "-daysSince: Days since the begin of the data set (since 1/1/2016)\n",
    "\n",
    "-monthsSince: Month since the begin of the data set (since 1/1/2016)\n",
    "\n",
    "-place: Place of recording: 08SOMO ot 10OGLD. \n",
    "\n",
    "-bikecount: Number of bikes per day in both directions, assessed with automatic counter. Note that some counters are not very good, especially in the winter. \n",
    "\n",
    "Source and more information: \n",
    "https://open.ottawa.ca/datasets/bicycle-trip-counters\n",
    "\n"
   ]
  },
  {
   "cell_type": "markdown",
   "metadata": {},
   "source": [
    "# Task 1: Days of the Week (22 pts)\n",
    "In the first task, we will look at bike counts and study if there is more weekend (recreational, shopping) or weekday (likely commuting) bike traffic. \n",
    "\n",
    "## Question 1.1 (3 pts)\n",
    "Read the data set `bike_count.csv` into a pandas data frame. Written answer: How many observations and how many variables do you have?  "
   ]
  },
  {
   "cell_type": "code",
   "execution_count": null,
   "metadata": {},
   "outputs": [],
   "source": []
  },
  {
   "cell_type": "markdown",
   "metadata": {},
   "source": [
    "Written answer:"
   ]
  },
  {
   "cell_type": "markdown",
   "metadata": {},
   "source": [
    "##  Question 1.2 (4 pts)\n",
    "Generate a bar plot of the bicycle count as a function of the day of week (on the x-axis). Written answer: What weekday-weekend effect do you see (if any)?"
   ]
  },
  {
   "cell_type": "code",
   "execution_count": null,
   "metadata": {},
   "outputs": [],
   "source": []
  },
  {
   "cell_type": "markdown",
   "metadata": {},
   "source": [
    "Written answer:"
   ]
  },
  {
   "cell_type": "markdown",
   "metadata": {},
   "source": [
    "##  Question 1.3 (5 pts)\n",
    "Create a new variable/column ('weekend') in the dataframe that encodes whether the day is a weekend day (day==5 or day==6) vs. a week day (day between 0-4). \n",
    "\n",
    "Calculate and report the mean number of bikes separately for weekdays and weekends. Then, calculate and report the median for each group. How do mean and median compare?"
   ]
  },
  {
   "cell_type": "code",
   "execution_count": null,
   "metadata": {},
   "outputs": [],
   "source": []
  },
  {
   "cell_type": "markdown",
   "metadata": {},
   "source": [
    "Written answer: "
   ]
  },
  {
   "cell_type": "markdown",
   "metadata": {},
   "source": [
    "##  Question 1.4 (5 pts)\n",
    "As you will see from Question 1.3, looking at the mean counts and the median counts gives quite different answers. Which analysis would you trust more? To answer this, look at the distribution of the bike counts. Written answer: What characteristic of the distribution makes the means or medians a better description of central tendency? "
   ]
  },
  {
   "cell_type": "code",
   "execution_count": null,
   "metadata": {},
   "outputs": [],
   "source": []
  },
  {
   "cell_type": "markdown",
   "metadata": {},
   "source": [
    "Written answer: "
   ]
  },
  {
   "cell_type": "markdown",
   "metadata": {},
   "source": [
    "##  Question 1.5 (5 pts)\n",
    "Create a figure with two panels. In one panel, visualize bike counts for weekdays and weekends separately using boxplot. On the second panel, visualize the same data using violinplot.\n",
    "\n",
    "Written answer: compare the two graphs. Which plot gives you a better idea about the shape of the distributon? What are the benefits/strengths of using each of these plots? "
   ]
  },
  {
   "cell_type": "code",
   "execution_count": null,
   "metadata": {},
   "outputs": [],
   "source": []
  },
  {
   "cell_type": "markdown",
   "metadata": {},
   "source": [
    "Written answer:"
   ]
  },
  {
   "cell_type": "markdown",
   "metadata": {},
   "source": [
    "# Task 2:  Randomization (25 pts)\n",
    "## Question 2.1 (3pts)\n",
    "We want to test whether there is a significant difference between the median number of people riding their bikes on weekdays and weekdays. How would you formulate this hypothesis? What is the null-hypothesis in this case? Is H1 a one-sided or two-sided hypothesis?"
   ]
  },
  {
   "cell_type": "markdown",
   "metadata": {},
   "source": [
    "Written answer: "
   ]
  },
  {
   "cell_type": "markdown",
   "metadata": {},
   "source": [
    "##  Question 2.2 (7pts)\n",
    "Define a function that takes in a dataframe and calculates and returns the difference between the median number of bikes observed on weekdays and weekends. Apply this function to the dataframe and report the empirical statistic (median difference).\n",
    "\n",
    "NOTE: If you are missing the 'weekend' variable from the previous questions, think of a different variable to use in its place so that you can still complete the task."
   ]
  },
  {
   "cell_type": "code",
   "execution_count": null,
   "metadata": {},
   "outputs": [],
   "source": []
  },
  {
   "cell_type": "markdown",
   "metadata": {},
   "source": [
    "## Question 2.3 (15pts)\n",
    "Perform a randomization test to test whether you can reject the Null-hypothesis formulated in Question 2.1. Your code should produce a figure that shows the distribution of chosen test statistics under the Null hypothesis, as well as the empirical value as a vertical line.  Remember to provide axis lables and a caption. Written answer: Report the value of the statistics and the associated p-value, using at least 1000 iterations. What do you conclude regarding the hypotheses formulated above? \n"
   ]
  },
  {
   "cell_type": "code",
   "execution_count": null,
   "metadata": {},
   "outputs": [],
   "source": []
  },
  {
   "cell_type": "markdown",
   "metadata": {},
   "source": [
    "Written answer:"
   ]
  },
  {
   "cell_type": "markdown",
   "metadata": {},
   "source": [
    "# Task 3: Year-to-year change in bike use (43 pts)\n",
    "In 2016, the City of Ottawa constructed a 15km network of bike lanes, with the goal to increase bike traffic to and from downtown. The construction was finished in the end of 2017 and bike lanes were opened in 2018. The city meticulously counted bike traffic at two critical locations of the main bike trail leading to downtown. We want to compare the number of bikes observed in 2017 and 2018 in order to see whether the number of bikes increased after the bike lanes were built."
   ]
  },
  {
   "cell_type": "markdown",
   "metadata": {},
   "source": [
    "## Question 3.1 (4 pts)\n",
    "Plot bike counts as a function of year (on the x axis) using the bar plot. Written answer: Based on what you observe, do you think there is a difference in number of bikes in 2018 (right after the bike lanes were opened) and previous year (2017)?"
   ]
  },
  {
   "cell_type": "code",
   "execution_count": null,
   "metadata": {},
   "outputs": [],
   "source": []
  },
  {
   "cell_type": "markdown",
   "metadata": {},
   "source": [
    "Written answer:"
   ]
  },
  {
   "cell_type": "markdown",
   "metadata": {},
   "source": [
    "## Question 3.2 (5 pts)\n",
    "As we can see from the plot above, there seems to be an increase in average bike count from 2017 to 2018. We want to test whether this difference is significant by again using the randomization test. Formulate null- and alternative hypotheses. Is H1 one-sided or two-sided? Why?\n"
   ]
  },
  {
   "cell_type": "markdown",
   "metadata": {},
   "source": [
    "Written answer: "
   ]
  },
  {
   "cell_type": "markdown",
   "metadata": {},
   "source": [
    "## Question 3.3 (8 pts)\n",
    "Create a copy of the original dataset. Next, create a subset of this full dataset so that it only includes the data from the years 2017 and 2018 (4 points). Visualize the bike counts as a function of year using boxplot (4 points)."
   ]
  },
  {
   "cell_type": "code",
   "execution_count": null,
   "metadata": {},
   "outputs": [],
   "source": []
  },
  {
   "cell_type": "markdown",
   "metadata": {},
   "source": [
    "## Question 3.4 (8 pts)\n",
    "Define a function that calculates the mean difference in bike counts between 2017 and 2018 (4 points) Use the randomization function from question 2.3 again to test whether this difference is significant (2 points). Written answer: what do you conclude? (2 points)\n"
   ]
  },
  {
   "cell_type": "code",
   "execution_count": null,
   "metadata": {},
   "outputs": [],
   "source": []
  },
  {
   "cell_type": "markdown",
   "metadata": {},
   "source": [
    "Written answer:"
   ]
  },
  {
   "cell_type": "markdown",
   "metadata": {},
   "source": [
    "## Question 3.5 (11 pts)\n",
    "Now that we established that there is a significant increase in mean bike counts in 2018, we want to make a more precise claim about how much it increased between 2017 and 2018. Written answer: formulate two competing hypotheses, one stating that the increase was 10% and another one that it was 30% (1 point).\n",
    "\n",
    "Use groupby to calculate the mean bike count for 2017 and 2018 and calculate the difference between them (2 points). Calculate the values that represent a 10% and a 30% increase in mean bike count from the mean of 2017 (3 points). Use the function for the normal distribution to simulate the distributions under the two hypotheses using the corresponding means and the standard deviation from the null distribution from question 3.4 (5 points).\n"
   ]
  },
  {
   "cell_type": "markdown",
   "metadata": {},
   "source": [
    "Written answer:"
   ]
  },
  {
   "cell_type": "code",
   "execution_count": null,
   "metadata": {},
   "outputs": [],
   "source": [
    "\n"
   ]
  },
  {
   "cell_type": "markdown",
   "metadata": {},
   "source": [
    "## Question 3.6 (2 pts)\n",
    "Plot the histograms for the two distributions in the same plot. Plot a vertical line showing the empirical mean difference that we just calculated in question 3.4."
   ]
  },
  {
   "cell_type": "code",
   "execution_count": null,
   "metadata": {},
   "outputs": [],
   "source": []
  },
  {
   "cell_type": "markdown",
   "metadata": {},
   "source": [
    "## Question 3.7 (6 pts)\n",
    "Calculate and report the Bayes Factor for these hypotheses. Written answer: how do you interpret the resulting Bayes factor?"
   ]
  },
  {
   "cell_type": "code",
   "execution_count": null,
   "metadata": {},
   "outputs": [],
   "source": []
  },
  {
   "cell_type": "markdown",
   "metadata": {},
   "source": [
    "Written answer: "
   ]
  },
  {
   "attachments": {
    "image.png": {
     "image/png": "[encoded data removed]"
    }
   },
   "cell_type": "markdown",
   "metadata": {},
   "source": [
    "# Task 4: Interpretation (10 points)\n",
    "**Experiment failed: Bike lanes only temporary encourage biking.** \n",
    "\n",
    "In 2016, the City of Ottawa decided to conduct an $40M *experiment*. They constructed a 15km network of bike lanes, with the goal to increase bike traffic to and from downtown. The construction was finished in the end of 2017 and bike lanes were opened early in 2018. The city meticulously counted bike traffic at two critical locations of the main bike trail leading to downtown. As can be seem from the figure below, number of bike trips per day showed a modest increase to slightly more than an average of 600 per day. From this we can clearly conclude that the construction of the bike network *caused* an increase of bike traffic *in all of Ottawa*. However, by 2020, the average number of bike trips had already reduced again to *below the level of 2016*. Thus, *constructing more bike lanes increases bicycle use in cities for a brief period only*.   ![image.png](attachment:image.png)"
   ]
  },
  {
   "cell_type": "markdown",
   "metadata": {},
   "source": [
    "Written answer: Criticize the above report in terms of the way the data scientist uses the available evidence to construct an argument. Focus on the words / phrases that are highlighted in *italics*. For each of these phrases, state to what degree this statement is justified, and / or why the statement is wrong / why one would need to be careful with arriving at such a conclusion. Think about causal claims, generalization, and confounding variables. For each point you raise, sketch out how the study or report would need to be fixed to address the problem.  \n"
   ]
  },
  {
   "cell_type": "markdown",
   "metadata": {},
   "source": []
  }
 ],
 "metadata": {
  "kernelspec": {
   "display_name": "Python 3",
   "language": "python",
   "name": "python3"
  },
  "language_info": {
   "codemirror_mode": {
    "name": "ipython",
    "version": 3
   },
   "file_extension": ".py",
   "mimetype": "text/x-python",
   "name": "python",
   "nbconvert_exporter": "python",
   "pygments_lexer": "ipython3",
   "version": "3.7.1"
  }
 },
 "nbformat": 4,
 "nbformat_minor": 4
}

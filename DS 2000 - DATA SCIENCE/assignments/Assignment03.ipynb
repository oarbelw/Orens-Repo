{
 "cells": [
  {
   "cell_type": "markdown",
   "metadata": {},
   "source": [
    "# Assignment 3: Bootstrap, confidence intervals & standard errors\n",
    "\n",
    "## Learning Outcomes:\n",
    "In this homework we will look at Estimates, Bootstrap, Confidence intervals, and Standard error.\n",
    "## Dataset \n",
    "The data set run10sample.csv contains data from random sample of 25 runner of the 16923 competitor in the 2012 Cherry blossom run (cherryblossom.org). The variables in the file are: \n",
    "\n",
    "- Place:  Finishing position. Separate positions are provided for each gender.\n",
    "- time: The total run time (in min) \n",
    "- Pace: The listed pace (/mile) for each runner.\n",
    "- Age: Age.\n",
    "- Gender: Gender.\n",
    "- Location: Hometown city. \n",
    "- State: Hometown state \n",
    "- divPlace: Age Division place, also broken up by gender.\n",
    "- divTot: Total number of people in the division (again, also split by gender).\n",
    "\n",
    "The data set run10.csv contains the data from all 16923 competitors, so you can also analyze the whole population. \n",
    "\n",
    "## Preliminaries\n",
    "Set up the environment by importing pandas, numpy, scipy, and matplotlib. Because we are using plots make sure that you configure your notebook such that plots are shown inline (see Assignment 2). "
   ]
  },
  {
   "cell_type": "code",
   "execution_count": 1,
   "metadata": {},
   "outputs": [],
   "source": [
    "import pandas as pd\n",
    "import numpy as np\n",
    "import scipy as sp\n",
    "import matplotlib\n",
    "matplotlib.use('TkAgg')\n",
    "import matplotlib.pyplot as plt\n",
    "%matplotlib inline"
   ]
  },
  {
   "cell_type": "markdown",
   "metadata": {},
   "source": [
    "## Task 1: Analyzing a sample from the  population (12pt)\n",
    "In this task you will use the sample of runners that you got. \n",
    "### Question 1 (4pt)\n",
    "What was the mean finishing time in the random sample?"
   ]
  },
  {
   "cell_type": "code",
   "execution_count": 2,
   "metadata": {},
   "outputs": [],
   "source": [
    "run_samp = pd.read_csv(\"run10sample.csv\")"
   ]
  },
  {
   "cell_type": "code",
   "execution_count": 14,
   "metadata": {},
   "outputs": [
    {
     "name": "stdout",
     "output_type": "stream",
     "text": [
      "the mean finishing time for this sample is 98.1504\n"
     ]
    }
   ],
   "source": [
    "mean_samp_finishing_time = run_samp['time'].mean()\n",
    "print(f'the mean finishing time for this sample is {mean_samp_finishing_time}')"
   ]
  },
  {
   "cell_type": "markdown",
   "metadata": {},
   "source": [
    "### Question 2 (4pt)\n",
    "What is the number of men and women in your sample (tip: use groupby and size or count)?"
   ]
  },
  {
   "cell_type": "code",
   "execution_count": 10,
   "metadata": {},
   "outputs": [
    {
     "name": "stdout",
     "output_type": "stream",
     "text": [
      "Unnamed: 0      11\n",
      "Unnamed: 0.1    11\n",
      "place           11\n",
      "time            11\n",
      "pace            11\n",
      "age             11\n",
      "gender          11\n",
      "location        11\n",
      "state           11\n",
      "divPlace        11\n",
      "divTot          11\n",
      "dtype: int64\n",
      "Unnamed: 0      14\n",
      "Unnamed: 0.1    14\n",
      "place           14\n",
      "time            14\n",
      "pace            14\n",
      "age             14\n",
      "gender          14\n",
      "location        14\n",
      "state           14\n",
      "divPlace        14\n",
      "divTot          14\n",
      "dtype: int64\n"
     ]
    }
   ],
   "source": [
    "grouped = run_samp.groupby(run_samp['gender'])\n",
    "male_group = grouped.get_group('M')\n",
    "female_group = grouped.get_group('F')\n",
    "n_males = male_group.count()\n",
    "n_females = female_group.count()\n",
    "print(n_males)\n",
    "print(n_females)\n",
    "\n"
   ]
  },
  {
   "cell_type": "markdown",
   "metadata": {},
   "source": [
    "Therefore, there are 11 males and 14 females"
   ]
  },
  {
   "cell_type": "markdown",
   "metadata": {},
   "source": [
    "### Question 3 (4pt)\n",
    "What was the mean finishing time when you split the sample up by gender (see Homework 2, task 4)? "
   ]
  },
  {
   "cell_type": "code",
   "execution_count": 12,
   "metadata": {},
   "outputs": [
    {
     "name": "stdout",
     "output_type": "stream",
     "text": [
      "gender\n",
      "F    103.496429\n",
      "M     91.346364\n",
      "Name: time, dtype: float64\n"
     ]
    }
   ],
   "source": [
    "g_gender = run_samp['time'].groupby(run_samp['gender'])\n",
    "sub_groups_mean = g_gender.mean()\n",
    "print(sub_groups_mean)"
   ]
  },
  {
   "cell_type": "markdown",
   "metadata": {},
   "source": [
    "## Task 2: Resampling from the population (47 Points)\n",
    "In this task you will have access to the data from the whole population to determine how much confidence you should have in the numbers you obained in Task 1.The dataset run10.csv contain the total population of 16923 competitors in the 2012 Cherry blossom run (cherryblossom.org). Having the whole population gives us the opportunity to check how good our sample estimate is. \n",
    "\n",
    "### Question 1 (10pt)\n",
    "\n",
    "What is the mean finishing time in the whole population of runners? Written answer: How much does it differ from the mean finishing time of the sample analyzed in Task 1? Can this difference be explained by the fact that our sample differs from the population in terms of gender distribution? How about age? Knowing these differences, how could we have improved our estimate?"
   ]
  },
  {
   "cell_type": "code",
   "execution_count": 15,
   "metadata": {},
   "outputs": [],
   "source": [
    "runners = pd.read_csv(\"run10.csv\")"
   ]
  },
  {
   "cell_type": "code",
   "execution_count": 16,
   "metadata": {},
   "outputs": [
    {
     "name": "stdout",
     "output_type": "stream",
     "text": [
      "the mean finishing time is 94.51597470897607\n"
     ]
    }
   ],
   "source": [
    "mean_finishing_time = runners['time'].mean()\n",
    "print(f'the mean finishing time is {mean_finishing_time}')"
   ]
  },
  {
   "cell_type": "markdown",
   "metadata": {},
   "source": [
    "This mean differs by 5 units. This may be explained by several variables including a low sample size compared to the massive population, because 25 people out of 16923 is extremely unlikely to accurately depict the trends of the whole population. Factors like gender and age distribution could have influenced the change in mean because maybe one gender runs faster than the other and it wasn't sampled enough or was sampled too much, or maybe as age increases, time decreases, and perhaps older people were sampled higher than the real average."
   ]
  },
  {
   "cell_type": "markdown",
   "metadata": {},
   "source": [
    "### Question 2 (10pt)\n",
    "Write a function **bootstrap**, which takes a data series (data) as an input and then performs a bootstrap. The function should take numIter samples from the data (with replacement) of size N. It should then calculate the statistics defined in fcn for each iteration and record it in a numpy-array, which it should then return.\n",
    "\n",
    "Input arguments \n",
    "- data: data series to resample\n",
    "- N: Sample size for each iteration \n",
    "- fcn: function to apply to the sample to get the statistics\n",
    "- numIter: Number of resamples (should default to 1000) \n",
    "\n",
    "Output argument: \n",
    "- Numpy array of size numIter that contains the estimates of the statistics\n"
   ]
  },
  {
   "cell_type": "code",
   "execution_count": 98,
   "metadata": {},
   "outputs": [],
   "source": [
    "def resample(data, N, fcn = np.mean, numIter = 1000, replace_opt = True):\n",
    "    sample_array = np.zeros([N, numIter])\n",
    "    for i in range(numIter):\n",
    "        samp_temp = np.random.choice(data, size = N, replace = replace_opt)\n",
    "        sample_array[:, i] = samp_temp\n",
    "        result = fcn(samp_temp)\n",
    "    print(f' the function applied yielded a result of {result}')\n",
    "    return sample_array"
   ]
  },
  {
   "cell_type": "markdown",
   "metadata": {},
   "source": [
    "### Question 3 (8pt)\n",
    "Call the resample (bootstrap) function from Question 2 with time from the whole population as the data series, mean as the statistic, and a sample size of 25. Plot a histogram of the samples – make sure your x-axis and y-axis are labeled. Report the mean and the standard deviation of the resampled estimates. "
   ]
  },
  {
   "cell_type": "code",
   "execution_count": 99,
   "metadata": {},
   "outputs": [
    {
     "name": "stdout",
     "output_type": "stream",
     "text": [
      " the function applied yielded a result of 96.3016\n",
      "<class 'numpy.ndarray'>\n",
      "[[117.63  95.55  97.3  ...  86.27 110.33  94.98]\n",
      " [109.9  104.47 112.95 ...  84.92 108.75  67.17]\n",
      " [ 82.13  78.97  87.72 ... 117.58  88.93 122.57]\n",
      " ...\n",
      " [ 87.15 100.77 102.37 ... 106.35  97.4  108.85]\n",
      " [109.62 128.92  96.15 ...  77.77  98.17  91.55]\n",
      " [ 96.08  84.65  77.97 ...  97.15 110.7   66.33]]\n"
     ]
    }
   ],
   "source": [
    "array = resample(runners[\"time\"], fcn = np.mean, N = 25, replace_opt = True)\n",
    "print(type(array))\n",
    "#print(array.shape)\n",
    "print(array)"
   ]
  },
  {
   "cell_type": "code",
   "execution_count": 100,
   "metadata": {},
   "outputs": [
    {
     "data": {
      "text/plain": [
       "Text(0, 0.5, 'Count')"
      ]
     },
     "execution_count": 100,
     "metadata": {},
     "output_type": "execute_result"
    },
    {
     "data": {
      "image/png": "[encoded data removed]",
      "text/plain": [
       "<Figure size 432x288 with 1 Axes>"
      ]
     },
     "metadata": {
      "needs_background": "light"
     },
     "output_type": "display_data"
    }
   ],
   "source": [
    "plt.hist(array[:, 0])\n",
    "plt.xlabel('Average Time')\n",
    "plt.ylabel('Count')"
   ]
  },
  {
   "cell_type": "code",
   "execution_count": 170,
   "metadata": {},
   "outputs": [
    {
     "name": "stdout",
     "output_type": "stream",
     "text": [
      " the function applied yielded a result of 98.36319999999999\n",
      " the function applied yielded a result of 16.892847035357896\n"
     ]
    }
   ],
   "source": [
    "#for mean:\n",
    "mean = resample(runners[\"time\"], fcn = np.mean, N = 25, replace_opt = True)\n",
    "#for standard deviation:\n",
    "std = resample(runners[\"time\"], fcn = np.std, N = 25, replace_opt = True)"
   ]
  },
  {
   "cell_type": "markdown",
   "metadata": {},
   "source": [
    "### Question 4 (8pt)\n",
    "Call your bootstrap function again as in question 3, this time increasing the sample size first to 50, and then to 100. Which of the values (mean, standard deviation) of the means distribution changes most and why? "
   ]
  },
  {
   "cell_type": "code",
   "execution_count": 177,
   "metadata": {},
   "outputs": [
    {
     "name": "stdout",
     "output_type": "stream",
     "text": [
      " the function applied yielded a result of 93.94179999999999\n",
      " the function applied yielded a result of 16.4082668493659\n",
      " the function applied yielded a result of 98.37469999999999\n",
      " the function applied yielded a result of 14.865134341471657\n"
     ]
    }
   ],
   "source": [
    "#changing size to 50\n",
    "mean1 = resample(runners[\"time\"], fcn = np.mean, N = 50, replace_opt = True)\n",
    "std1 = resample(runners[\"time\"], fcn = np.std, N = 50, replace_opt = True)\n",
    "#changing size to 100\n",
    "mean2 = resample(runners[\"time\"], fcn = np.mean, N = 100, replace_opt = True)\n",
    "std2 = resample(runners[\"time\"], fcn = np.std, N = 100, replace_opt = True)\n"
   ]
  },
  {
   "cell_type": "markdown",
   "metadata": {},
   "source": [
    "As N, the sample size increases, the less the values are spread out, and this is because increasing the sample size depicts the true data more precisely, as the values represent more and more of all the data"
   ]
  },
  {
   "cell_type": "markdown",
   "metadata": {},
   "source": [
    "### Question 5 (6pt)\n",
    "Calculate the predicted standard error of the mean from the population standard deviation and the same size for  N=25, N=50, and N=100. Write a line of code for each sample size that prints the answer in a full sentence. Written answer: Do these match up with the SEMs that you got from question 4? "
   ]
  },
  {
   "cell_type": "code",
   "execution_count": 181,
   "metadata": {},
   "outputs": [
    {
     "name": "stdout",
     "output_type": "stream",
     "text": [
      " the predicted standard error of the mean for N = 25 is 3.3785694070715793\n",
      " the predicted standard error of the mean for N = 50 is 2.320479351341011\n",
      " the predicted standard error of the mean for N = 100 is 1.4865134341471657\n"
     ]
    }
   ],
   "source": [
    "import math\n",
    "#from data from question 3 and 4:\n",
    "#for N = 25:\n",
    "SEM = 16.892847035357896/math.sqrt(25)\n",
    "print(f' the predicted standard error of the mean for N = 25 is {SEM}')\n",
    "#for N = 50:\n",
    "SEM1 = 16.4082668493659/math.sqrt(50)\n",
    "print(f' the predicted standard error of the mean for N = 50 is {SEM1}')\n",
    "#for N = 100:\n",
    "SEM2 = 14.865134341471657/math.sqrt(100)\n",
    "print(f' the predicted standard error of the mean for N = 100 is {SEM2}')\n"
   ]
  },
  {
   "cell_type": "markdown",
   "metadata": {},
   "source": [
    "this supports the findings from question four that as N increases, so does the accuracy of the values, which is depicted as the standard deviation additionally decreases"
   ]
  },
  {
   "cell_type": "markdown",
   "metadata": {},
   "source": [
    "## Task 3: Calculating confidence intervals (24pt) \n",
    "### Question 1 (8pt)\n",
    "Write a function (confidenceInt) that determines a confidence interval for a data series. \t\n",
    "\n",
    "Input arguments \n",
    "- data: Sample of estimates – usually this is output from “bootstrap” (resample function from task 3 Q2)\n",
    "- prec: What Confidence interval in percent? 95= 95% confidence interval <br/>\n",
    "Output argument: \n",
    "- A list with 2 values: the lower and upper bound of the interval. \n",
    "\n",
    "Tip: Use np.percentile to get a specific percentile of the data. The lower bound of a 95% confidence interval is the (100-95)/2=2.5 percentile. "
   ]
  },
  {
   "cell_type": "code",
   "execution_count": 248,
   "metadata": {},
   "outputs": [],
   "source": [
    "def confidenceInt(data, prec):\n",
    "    lower = np.percentile(data, q = (100-prec)/2)\n",
    "    upper = np.percentile(data, q = (100+prec)/2)\n",
    "    lst = [lower, upper]\n",
    "    return lst"
   ]
  },
  {
   "cell_type": "markdown",
   "metadata": {},
   "source": [
    "### Question 2 (8pt)\n",
    "Determine the confidence 95% interval for the mean estimate of your sample of 25. Use your bootstrap function (resample from Task 3 Q2) above to generate 1000 artificial samples of 25. Then use your confidenceInt function to get the 95% confidence interval.  Report the interval. \n"
   ]
  },
  {
   "cell_type": "code",
   "execution_count": 255,
   "metadata": {},
   "outputs": [
    {
     "name": "stdout",
     "output_type": "stream",
     "text": [
      "[64.92875000000001, 128.37]\n",
      " the function applied yielded a result of 97.16839999999998\n",
      "[64.63, 129.0]\n"
     ]
    }
   ],
   "source": [
    "#for samlpe of 25:\n",
    "test = confidenceInt(mean, 95)\n",
    "print(test)\n",
    "\n",
    "#generating 1000 samples of 25:\n",
    "g = resample(runners[\"time\"], fcn = np.mean, N = 25, replace_opt = True)\n",
    "test2 = confidenceInt(g, 95)\n",
    "print(test2)"
   ]
  },
  {
   "cell_type": "markdown",
   "metadata": {},
   "source": [
    "### Question 3  (8pt)\n",
    "Repeat the plotting of the histogram from task 2.3 – but this time plot the lower and upper bound of the confidence interval as a vertical line – see plt.axvline. Make sure that the graph has x- and y-labels and a caption."
   ]
  },
  {
   "cell_type": "code",
   "execution_count": 256,
   "metadata": {},
   "outputs": [
    {
     "data": {
      "text/plain": [
       "<matplotlib.lines.Line2D at 0x7faead92f6d0>"
      ]
     },
     "execution_count": 256,
     "metadata": {},
     "output_type": "execute_result"
    },
    {
     "data": {
      "image/png": "[encoded data removed]",
      "text/plain": [
       "<Figure size 432x288 with 1 Axes>"
      ]
     },
     "metadata": {
      "needs_background": "light"
     },
     "output_type": "display_data"
    }
   ],
   "source": [
    "plt.hist(array)\n",
    "plt.xlabel('Average Time')\n",
    "plt.ylabel('Count')\n",
    "plt.axvline(x = test[0], color = 'green')\n",
    "plt.axvline(x = test[1], color = 'red')"
   ]
  },
  {
   "cell_type": "markdown",
   "metadata": {},
   "source": [
    "## Task 4: Bootstraping from the sample (22pt)\n",
    "Now let's forget that you ever had the data from the whole population. Say, you only have your initial sample of 25 participants. How would you get an estimate of the confidence interval of the mean of the sample? \n",
    "### Question 1 (8pt)\n",
    "Load the sample stored in run10sample.csv. Now call the resample function with that time data, in each loop resampling 25 data points from 25 data points (with replacement!). You have now taken 1000 bootstrap samples. Report the mean of the bootstrap samples, the standard deviation of the the samples, and the 95% confidence interval."
   ]
  },
  {
   "cell_type": "code",
   "execution_count": 265,
   "metadata": {},
   "outputs": [
    {
     "name": "stdout",
     "output_type": "stream",
     "text": [
      " the predicted mean:\n",
      " the function applied yielded a result of 95.98119999999999\n",
      " the predicted standard deviation:\n",
      " the function applied yielded a result of 15.54849674534487\n"
     ]
    }
   ],
   "source": [
    "print(f' the predicted mean:')\n",
    "run10sample = resample(run_samp[\"time\"], fcn = np.mean, N = 25, replace_opt = True)\n",
    "print(f' the predicted standard deviation:')\n",
    "run10sample_std = resample(run_samp[\"time\"], fcn = np.std, N = 25, replace_opt = True)\n"
   ]
  },
  {
   "cell_type": "markdown",
   "metadata": {},
   "source": [
    "### Question 2 (8pt)\n",
    "Plot of the histogram of your bootstrap samples –plot the lower and upper bound of the confidence interval as a vertical line – see plt.axvline (see homework 3). Plot the true population mean (Task 2.1) as a red vertical line. Make sure that the graph has x- and y-labels. "
   ]
  },
  {
   "cell_type": "code",
   "execution_count": 268,
   "metadata": {},
   "outputs": [
    {
     "name": "stdout",
     "output_type": "stream",
     "text": [
      "[72.37, 134.18]\n"
     ]
    },
    {
     "data": {
      "text/plain": [
       "\"\\nplt.hist(run10sample)\\n\\nplt.hist(array)\\nplt.xlabel('Average Time')\\nplt.ylabel('Count')\\nplt.axvline(x = test[0], color = 'green')\\nplt.axvline(x = test[1], color = 'red')\\n\""
      ]
     },
     "execution_count": 268,
     "metadata": {},
     "output_type": "execute_result"
    },
    {
     "data": {
      "image/png": "[encoded data removed]",
      "text/plain": [
       "<Figure size 432x288 with 1 Axes>"
      ]
     },
     "metadata": {
      "needs_background": "light"
     },
     "output_type": "display_data"
    }
   ],
   "source": [
    "#confidence intervals:\n",
    "conint = confidenceInt(run10sample, 95)\n",
    "print(conint)\n",
    "\n",
    "#plotting:\n",
    "plt.hist(run10sample)\n",
    "plt.xlabel('Average Time')\n",
    "plt.ylabel('Count')\n",
    "plt.axvline(x = test[0], color ='green')\n",
    "plt.axvline(x = test[1], color ='red')\n",
    "\n",
    "\n",
    "\"\"\"\n",
    "plt.hist(run10sample)\n",
    "\n",
    "plt.hist(array)\n",
    "plt.xlabel('Average Time')\n",
    "plt.ylabel('Count')\n",
    "plt.axvline(x = test[0], color = 'green')\n",
    "plt.axvline(x = test[1], color = 'red')\n",
    "\"\"\""
   ]
  },
  {
   "cell_type": "markdown",
   "metadata": {},
   "source": [
    "### Question 3: (6pt)\n",
    "Written answer: Does the 95% confidence interval include the true population mean? Does it include the mean value from last year’s cherry blossom run (101min)? Is there statistical evidence from your sample of N=25, that the race times have gotten faster from last year? "
   ]
  },
  {
   "cell_type": "markdown",
   "metadata": {},
   "source": [
    "This confidence interval includes the true population mean of 94.51597470897607, it also inlcudes the mean value from last years run. considering that the mean from last years run is higher than the mean from the sample, it is probable that the race times have gotten faster, but it is not definitive, only probable"
   ]
  },
  {
   "cell_type": "code",
   "execution_count": null,
   "metadata": {},
   "outputs": [],
   "source": []
  }
 ],
 "metadata": {
  "kernelspec": {
   "display_name": "Python 3",
   "language": "python",
   "name": "python3"
  },
  "language_info": {
   "codemirror_mode": {
    "name": "ipython",
    "version": 3
   },
   "file_extension": ".py",
   "mimetype": "text/x-python",
   "name": "python",
   "nbconvert_exporter": "python",
   "pygments_lexer": "ipython3",
   "version": "3.8.8"
  }
 },
 "nbformat": 4,
 "nbformat_minor": 4
}

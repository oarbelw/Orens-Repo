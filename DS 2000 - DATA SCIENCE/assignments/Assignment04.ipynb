{
 "cells": [
  {
   "cell_type": "markdown",
   "metadata": {},
   "source": [
    "# Assignment 4: Permutation test 1\n",
    "## Learning Outcomes\n",
    "By completing this assignment, you will be able to implement and use randomization tests to determine whether a specific effect is statistically significant. Randomization tests are a highly universal and powerful way to do this, and form an essential part of the toolkit of any Data Scientist. \n",
    "\n",
    "## Problem Description\n",
    "An increasingly common statistical tool for determining whether a difference is significant is the randomization or permutation test. A randomization test builds - rather than assumes – a sampling distribution of the test statistics. This is achieved by exchanging or permuting variables which are “exchangeable” under the Null-hypothesis. A randomization test gives a simple way to compute the sampling distribution for any test statistic under the null hypothesis that the dependent variable is statistically not dependent on the shuffled variable. \n",
    "In this assignment, we continue with the movie dataset from last week. This week your main task is to determine whether the difference in proportion for female vs. male directors to direct action movies is significant. \n",
    "You are allowed to use standard numpy and pandas functions such as mean, groupby, shuffle. But you are not allowed to use a permutation functions that have been already been designed. Numeric calculations in python that are printed should be rounded to 6 decimal places. \n",
    "\n",
    "Methods that you may find beneficial. \n",
    "Pandas: crosstab, iloc. Numpy: random.shuffle, reset_index, matplotlib: hist, axvline \n",
    "\n",
    "## Preliminaries \n",
    "Import pandas, numpy, matplotlib, and load the dataset file"
   ]
  },
  {
   "cell_type": "code",
   "execution_count": 355,
   "metadata": {},
   "outputs": [],
   "source": [
    "# importing packages\n",
    "import matplotlib\n",
    "matplotlib.use('TkAgg')\n",
    "import matplotlib.pyplot as plt \n",
    "%matplotlib inline\n",
    "\n",
    "import numpy as np\n",
    "import pandas as pd\n",
    "# import scipy.stats as stats"
   ]
  },
  {
   "cell_type": "code",
   "execution_count": 356,
   "metadata": {},
   "outputs": [],
   "source": [
    "df = pd.read_csv(\"movieDataset.csv\")"
   ]
  },
  {
   "cell_type": "markdown",
   "metadata": {},
   "source": [
    "## TASK 1: Defining the test statistics (40pts)\n",
    "### Question 1 - Create contingency table of adventure (yes/no) by director gender (10pts)\n",
    "Generate a cross-tabulation table of the 2x2 proportions of directorGender vs. whether the movie is an adventure or not (all other genres should be combined into non-adventure movies)."
   ]
  },
  {
   "cell_type": "code",
   "execution_count": 357,
   "metadata": {},
   "outputs": [
    {
     "data": {
      "text/html": [
       "<div>\n",
       "<style scoped>\n",
       "    .dataframe tbody tr th:only-of-type {\n",
       "        vertical-align: middle;\n",
       "    }\n",
       "\n",
       "    .dataframe tbody tr th {\n",
       "        vertical-align: top;\n",
       "    }\n",
       "\n",
       "    .dataframe thead th {\n",
       "        text-align: right;\n",
       "    }\n",
       "</style>\n",
       "<table border=\"1\" class=\"dataframe\">\n",
       "  <thead>\n",
       "    <tr style=\"text-align: right;\">\n",
       "      <th>dirGender</th>\n",
       "      <th>female</th>\n",
       "      <th>male</th>\n",
       "      <th>All</th>\n",
       "    </tr>\n",
       "    <tr>\n",
       "      <th>genre</th>\n",
       "      <th></th>\n",
       "      <th></th>\n",
       "      <th></th>\n",
       "    </tr>\n",
       "  </thead>\n",
       "  <tbody>\n",
       "    <tr>\n",
       "      <th>False</th>\n",
       "      <td>31</td>\n",
       "      <td>155</td>\n",
       "      <td>186</td>\n",
       "    </tr>\n",
       "    <tr>\n",
       "      <th>True</th>\n",
       "      <td>6</td>\n",
       "      <td>58</td>\n",
       "      <td>64</td>\n",
       "    </tr>\n",
       "    <tr>\n",
       "      <th>All</th>\n",
       "      <td>37</td>\n",
       "      <td>213</td>\n",
       "      <td>250</td>\n",
       "    </tr>\n",
       "  </tbody>\n",
       "</table>\n",
       "</div>"
      ],
      "text/plain": [
       "dirGender  female  male  All\n",
       "genre                       \n",
       "False          31   155  186\n",
       "True            6    58   64\n",
       "All            37   213  250"
      ]
     },
     "metadata": {},
     "output_type": "display_data"
    }
   ],
   "source": [
    "ctable = pd.crosstab(df['genre'] == 'adventure', df['dirGender'], margins = True)\n",
    "display(ctable)"
   ]
  },
  {
   "cell_type": "markdown",
   "metadata": {},
   "source": [
    "### Question 2 - Calculate p(adventure|female)-p(adventure|male) (20pts)\n",
    "Calculate the probability that the movie is an adventure given that the director Gender is female, p(adventure|female), the probability of the movie is an adventure given that the director Gender is male, p(adventure|male), as well as the difference between these two numbers, p(adventure|female)- p(adventure|male) (for help, see solution to homework 2)."
   ]
  },
  {
   "cell_type": "code",
   "execution_count": 358,
   "metadata": {},
   "outputs": [
    {
     "name": "stdout",
     "output_type": "stream",
     "text": [
      "the probability that the movie is an adventure given that the director is female: 0.162162\n",
      "the probability that the movie is an adventure given that the director is male: 0.272300\n",
      "the difference between the probability these probabilities are -0.110138\n"
     ]
    }
   ],
   "source": [
    "p_female = ctable['female'][True] / ctable['female']['All']\n",
    "print(\"the probability that the movie is an adventure given that the director is female: %.6f\" % (p_female))\n",
    "p_male = ctable['male'][True] / ctable['male']['All']\n",
    "print(\"the probability that the movie is an adventure given that the director is male: %.6f\" % (p_male))\n",
    "p_diff = p_female - p_male\n",
    "print(\"the difference between the probability these probabilities are %.6f\" % (p_diff))\n"
   ]
  },
  {
   "cell_type": "markdown",
   "metadata": {},
   "source": [
    "### Question 3 - Define a function that calculates the difference in average income by gender (10pts)\n",
    "Write a function (e.g., https://www.tutorialspoint.com/python/python_functions.htm) that takes the data frame as an input and returns the difference between the average income of male directors in adventure and the average income of female directors in adventure."
   ]
  },
  {
   "cell_type": "code",
   "execution_count": 359,
   "metadata": {},
   "outputs": [],
   "source": [
    "def avg_inc(dataframe, col_name = \"dirIncome\"):\n",
    "    \"\"\"\n",
    "        \n",
    "        we want:\n",
    "        male : average dirIncome for adventure genre\n",
    "        female : average dirIncome for adventure genre\n",
    "        \n",
    "    \"\"\"\n",
    "    \n",
    "    grouped_gend = dataframe.groupby(df['dirGender'])\n",
    "    male_g = grouped_gend.get_group('male')\n",
    "    female_g = grouped_gend.get_group('female')\n",
    "    male_adv = male_g.groupby(df['genre'])\n",
    "    female_adv = female_g.groupby(df['genre'])\n",
    "    male = male_adv.get_group('adventure')\n",
    "    female = female_adv.get_group('adventure')\n",
    "    col_mean_m = male[col_name].mean()\n",
    "    col_mean_f = female[col_name].mean()\n",
    "\n",
    "    \n",
    "    \n",
    "    #print(\"the average male director income: %.6f\" % (col_mean_m))\n",
    "    #print(\"the average female director income: %.6f\" % (col_mean_f))\n",
    "    \n",
    "    diff = col_mean_m - col_mean_f\n",
    "\n",
    "    \n",
    "    return diff"
   ]
  },
  {
   "cell_type": "code",
   "execution_count": 360,
   "metadata": {},
   "outputs": [
    {
     "name": "stdout",
     "output_type": "stream",
     "text": [
      "1.44593386942614\n"
     ]
    }
   ],
   "source": [
    "test = avg_inc(df)\n",
    "print(test)"
   ]
  },
  {
   "cell_type": "markdown",
   "metadata": {},
   "source": [
    "## Task 2: Perform a permutation test (60pts)\n",
    "### Question 1 (10pts)\n",
    "Written answer: We want to test the hypothesis that female directors of adventure movies earn less, on average, than male directors of adventure movies. What is the Null-hypothesis we need to consider? "
   ]
  },
  {
   "cell_type": "markdown",
   "metadata": {},
   "source": [
    "If we want to test the hypothesis that female directors of adventure movies earn less on average than male directors, our null-hypothesis would be that female directors earn the same if not more on average as male directors of adventure movies."
   ]
  },
  {
   "cell_type": "markdown",
   "metadata": {},
   "source": [
    "### Question 2 (40pts)\n",
    "Perform a permutation test. Under the Null-hypothesis the director gender is exchangeable. Write a function that takes the data frame as an input and then randomly permutes the directorGender column. For each iteration, the function then calls the function written for Task1, Q3 to get the test statistic. Each iteration, the test statistic should  be stored in a list. It is important to mention that the gender must be randomly assigned each time prior to calculating the difference of the conditional probabilities. \n",
    "\n",
    "After bulding up the numpy array of test statistics, the function should plot a histogram of the test statistics and mark the value of the empirical test statistics by a vertical line (see https://matplotlib.org/api/_as_gen/matplotlib.axes.Axes.axvline.html). Finally, it should report the p-value. \n",
    "\n",
    "For Pseudo code see lecture. Start with 500 iterations to test your code – for the final result, use 5000 iterations."
   ]
  },
  {
   "cell_type": "markdown",
   "metadata": {},
   "source": [
    "p=randomizationTest(Data)\n",
    "      calculate test statistics from Data -> y\n",
    "      for numIter times\n",
    "            reassign the independent\n",
    "               variable randomly -> Data*\n",
    "            calculate test statistics from Data*\n",
    "            record test statistics in array X\n",
    "      plot histogram of X\n",
    "      see where y falls in X\n",
    "      p = the proportion of X >= y"
   ]
  },
  {
   "cell_type": "code",
   "execution_count": 384,
   "metadata": {},
   "outputs": [],
   "source": [
    "def randomizationTest(dataframe, col_name = \"dirGender\"):\n",
    "    real_stats = avg_inc(dataframe)\n",
    "    df_copy = dataframe.copy()\n",
    "    n_rows = len(df_copy.index)\n",
    "    #print(n_rows)\n",
    "    indices = np.arange(n_rows)\n",
    "    #print(indices)\n",
    "    np.random.shuffle(indices)\n",
    "    #print(indices)\n",
    "    array = np.empty(500,dtype=object)\n",
    "    for numIter in range(500):\n",
    "        shuffle_gender = df_copy[\"dirGender\"].iloc[indices]\n",
    "        #print(shuffle_gender)\n",
    "        #print(df[\"dirGender\"])\n",
    "        shuffle_gender = shuffle_gender.reset_index(drop = True)\n",
    "        #print(shuffle_gender)\n",
    "        df_copy[\"dirGender\"] = shuffle_gender\n",
    "        \n",
    "        #ctab3 = pd.crosstab(df[\"dirGender\"], df[\"genre\"], margins = True)\n",
    "        #ctab4 = pd.crosstab(df_copy[\"dirGender\"], df_copy[\"genre\"], margins = True)\n",
    "\n",
    "        #display(ctab3)\n",
    "        #display(ctab4)\n",
    "        \n",
    "        test_stats = avg_inc(df_copy)\n",
    "        array[numIter] = test_stats\n",
    "    return array\n",
    "    "
   ]
  },
  {
   "cell_type": "code",
   "execution_count": 385,
   "metadata": {},
   "outputs": [
    {
     "name": "stdout",
     "output_type": "stream",
     "text": [
      "[1.44593386942614 1.44593386942614 1.44593386942614 1.44593386942614\n",
      " 1.44593386942614 1.44593386942614 1.44593386942614 1.44593386942614\n",
      " 1.44593386942614 1.44593386942614 1.44593386942614 1.44593386942614\n",
      " 1.44593386942614 1.44593386942614 1.44593386942614 1.44593386942614\n",
      " 1.44593386942614 1.44593386942614 1.44593386942614 1.44593386942614\n",
      " 1.44593386942614 1.44593386942614 1.44593386942614 1.44593386942614\n",
      " 1.44593386942614 1.44593386942614 1.44593386942614 1.44593386942614\n",
      " 1.44593386942614 1.44593386942614 1.44593386942614 1.44593386942614\n",
      " 1.44593386942614 1.44593386942614 1.44593386942614 1.44593386942614\n",
      " 1.44593386942614 1.44593386942614 1.44593386942614 1.44593386942614\n",
      " 1.44593386942614 1.44593386942614 1.44593386942614 1.44593386942614\n",
      " 1.44593386942614 1.44593386942614 1.44593386942614 1.44593386942614\n",
      " 1.44593386942614 1.44593386942614 1.44593386942614 1.44593386942614\n",
      " 1.44593386942614 1.44593386942614 1.44593386942614 1.44593386942614\n",
      " 1.44593386942614 1.44593386942614 1.44593386942614 1.44593386942614\n",
      " 1.44593386942614 1.44593386942614 1.44593386942614 1.44593386942614\n",
      " 1.44593386942614 1.44593386942614 1.44593386942614 1.44593386942614\n",
      " 1.44593386942614 1.44593386942614 1.44593386942614 1.44593386942614\n",
      " 1.44593386942614 1.44593386942614 1.44593386942614 1.44593386942614\n",
      " 1.44593386942614 1.44593386942614 1.44593386942614 1.44593386942614\n",
      " 1.44593386942614 1.44593386942614 1.44593386942614 1.44593386942614\n",
      " 1.44593386942614 1.44593386942614 1.44593386942614 1.44593386942614\n",
      " 1.44593386942614 1.44593386942614 1.44593386942614 1.44593386942614\n",
      " 1.44593386942614 1.44593386942614 1.44593386942614 1.44593386942614\n",
      " 1.44593386942614 1.44593386942614 1.44593386942614 1.44593386942614\n",
      " 1.44593386942614 1.44593386942614 1.44593386942614 1.44593386942614\n",
      " 1.44593386942614 1.44593386942614 1.44593386942614 1.44593386942614\n",
      " 1.44593386942614 1.44593386942614 1.44593386942614 1.44593386942614\n",
      " 1.44593386942614 1.44593386942614 1.44593386942614 1.44593386942614\n",
      " 1.44593386942614 1.44593386942614 1.44593386942614 1.44593386942614\n",
      " 1.44593386942614 1.44593386942614 1.44593386942614 1.44593386942614\n",
      " 1.44593386942614 1.44593386942614 1.44593386942614 1.44593386942614\n",
      " 1.44593386942614 1.44593386942614 1.44593386942614 1.44593386942614\n",
      " 1.44593386942614 1.44593386942614 1.44593386942614 1.44593386942614\n",
      " 1.44593386942614 1.44593386942614 1.44593386942614 1.44593386942614\n",
      " 1.44593386942614 1.44593386942614 1.44593386942614 1.44593386942614\n",
      " 1.44593386942614 1.44593386942614 1.44593386942614 1.44593386942614\n",
      " 1.44593386942614 1.44593386942614 1.44593386942614 1.44593386942614\n",
      " 1.44593386942614 1.44593386942614 1.44593386942614 1.44593386942614\n",
      " 1.44593386942614 1.44593386942614 1.44593386942614 1.44593386942614\n",
      " 1.44593386942614 1.44593386942614 1.44593386942614 1.44593386942614\n",
      " 1.44593386942614 1.44593386942614 1.44593386942614 1.44593386942614\n",
      " 1.44593386942614 1.44593386942614 1.44593386942614 1.44593386942614\n",
      " 1.44593386942614 1.44593386942614 1.44593386942614 1.44593386942614\n",
      " 1.44593386942614 1.44593386942614 1.44593386942614 1.44593386942614\n",
      " 1.44593386942614 1.44593386942614 1.44593386942614 1.44593386942614\n",
      " 1.44593386942614 1.44593386942614 1.44593386942614 1.44593386942614\n",
      " 1.44593386942614 1.44593386942614 1.44593386942614 1.44593386942614\n",
      " 1.44593386942614 1.44593386942614 1.44593386942614 1.44593386942614\n",
      " 1.44593386942614 1.44593386942614 1.44593386942614 1.44593386942614\n",
      " 1.44593386942614 1.44593386942614 1.44593386942614 1.44593386942614\n",
      " 1.44593386942614 1.44593386942614 1.44593386942614 1.44593386942614\n",
      " 1.44593386942614 1.44593386942614 1.44593386942614 1.44593386942614\n",
      " 1.44593386942614 1.44593386942614 1.44593386942614 1.44593386942614\n",
      " 1.44593386942614 1.44593386942614 1.44593386942614 1.44593386942614\n",
      " 1.44593386942614 1.44593386942614 1.44593386942614 1.44593386942614\n",
      " 1.44593386942614 1.44593386942614 1.44593386942614 1.44593386942614\n",
      " 1.44593386942614 1.44593386942614 1.44593386942614 1.44593386942614\n",
      " 1.44593386942614 1.44593386942614 1.44593386942614 1.44593386942614\n",
      " 1.44593386942614 1.44593386942614 1.44593386942614 1.44593386942614\n",
      " 1.44593386942614 1.44593386942614 1.44593386942614 1.44593386942614\n",
      " 1.44593386942614 1.44593386942614 1.44593386942614 1.44593386942614\n",
      " 1.44593386942614 1.44593386942614 1.44593386942614 1.44593386942614\n",
      " 1.44593386942614 1.44593386942614 1.44593386942614 1.44593386942614\n",
      " 1.44593386942614 1.44593386942614 1.44593386942614 1.44593386942614\n",
      " 1.44593386942614 1.44593386942614 1.44593386942614 1.44593386942614\n",
      " 1.44593386942614 1.44593386942614 1.44593386942614 1.44593386942614\n",
      " 1.44593386942614 1.44593386942614 1.44593386942614 1.44593386942614\n",
      " 1.44593386942614 1.44593386942614 1.44593386942614 1.44593386942614\n",
      " 1.44593386942614 1.44593386942614 1.44593386942614 1.44593386942614\n",
      " 1.44593386942614 1.44593386942614 1.44593386942614 1.44593386942614\n",
      " 1.44593386942614 1.44593386942614 1.44593386942614 1.44593386942614\n",
      " 1.44593386942614 1.44593386942614 1.44593386942614 1.44593386942614\n",
      " 1.44593386942614 1.44593386942614 1.44593386942614 1.44593386942614\n",
      " 1.44593386942614 1.44593386942614 1.44593386942614 1.44593386942614\n",
      " 1.44593386942614 1.44593386942614 1.44593386942614 1.44593386942614\n",
      " 1.44593386942614 1.44593386942614 1.44593386942614 1.44593386942614\n",
      " 1.44593386942614 1.44593386942614 1.44593386942614 1.44593386942614\n",
      " 1.44593386942614 1.44593386942614 1.44593386942614 1.44593386942614\n",
      " 1.44593386942614 1.44593386942614 1.44593386942614 1.44593386942614\n",
      " 1.44593386942614 1.44593386942614 1.44593386942614 1.44593386942614\n",
      " 1.44593386942614 1.44593386942614 1.44593386942614 1.44593386942614\n",
      " 1.44593386942614 1.44593386942614 1.44593386942614 1.44593386942614\n",
      " 1.44593386942614 1.44593386942614 1.44593386942614 1.44593386942614\n",
      " 1.44593386942614 1.44593386942614 1.44593386942614 1.44593386942614\n",
      " 1.44593386942614 1.44593386942614 1.44593386942614 1.44593386942614\n",
      " 1.44593386942614 1.44593386942614 1.44593386942614 1.44593386942614\n",
      " 1.44593386942614 1.44593386942614 1.44593386942614 1.44593386942614\n",
      " 1.44593386942614 1.44593386942614 1.44593386942614 1.44593386942614\n",
      " 1.44593386942614 1.44593386942614 1.44593386942614 1.44593386942614\n",
      " 1.44593386942614 1.44593386942614 1.44593386942614 1.44593386942614\n",
      " 1.44593386942614 1.44593386942614 1.44593386942614 1.44593386942614\n",
      " 1.44593386942614 1.44593386942614 1.44593386942614 1.44593386942614\n",
      " 1.44593386942614 1.44593386942614 1.44593386942614 1.44593386942614\n",
      " 1.44593386942614 1.44593386942614 1.44593386942614 1.44593386942614\n",
      " 1.44593386942614 1.44593386942614 1.44593386942614 1.44593386942614\n",
      " 1.44593386942614 1.44593386942614 1.44593386942614 1.44593386942614\n",
      " 1.44593386942614 1.44593386942614 1.44593386942614 1.44593386942614\n",
      " 1.44593386942614 1.44593386942614 1.44593386942614 1.44593386942614\n",
      " 1.44593386942614 1.44593386942614 1.44593386942614 1.44593386942614\n",
      " 1.44593386942614 1.44593386942614 1.44593386942614 1.44593386942614\n",
      " 1.44593386942614 1.44593386942614 1.44593386942614 1.44593386942614\n",
      " 1.44593386942614 1.44593386942614 1.44593386942614 1.44593386942614\n",
      " 1.44593386942614 1.44593386942614 1.44593386942614 1.44593386942614\n",
      " 1.44593386942614 1.44593386942614 1.44593386942614 1.44593386942614\n",
      " 1.44593386942614 1.44593386942614 1.44593386942614 1.44593386942614\n",
      " 1.44593386942614 1.44593386942614 1.44593386942614 1.44593386942614\n",
      " 1.44593386942614 1.44593386942614 1.44593386942614 1.44593386942614\n",
      " 1.44593386942614 1.44593386942614 1.44593386942614 1.44593386942614\n",
      " 1.44593386942614 1.44593386942614 1.44593386942614 1.44593386942614\n",
      " 1.44593386942614 1.44593386942614 1.44593386942614 1.44593386942614\n",
      " 1.44593386942614 1.44593386942614 1.44593386942614 1.44593386942614\n",
      " 1.44593386942614 1.44593386942614 1.44593386942614 1.44593386942614\n",
      " 1.44593386942614 1.44593386942614 1.44593386942614 1.44593386942614\n",
      " 1.44593386942614 1.44593386942614 1.44593386942614 1.44593386942614\n",
      " 1.44593386942614 1.44593386942614 1.44593386942614 1.44593386942614\n",
      " 1.44593386942614 1.44593386942614 1.44593386942614 1.44593386942614\n",
      " 1.44593386942614 1.44593386942614 1.44593386942614 1.44593386942614\n",
      " 1.44593386942614 1.44593386942614 1.44593386942614 1.44593386942614\n",
      " 1.44593386942614 1.44593386942614 1.44593386942614 1.44593386942614\n",
      " 1.44593386942614 1.44593386942614 1.44593386942614 1.44593386942614\n",
      " 1.44593386942614 1.44593386942614 1.44593386942614 1.44593386942614\n",
      " 1.44593386942614 1.44593386942614 1.44593386942614 1.44593386942614\n",
      " 1.44593386942614 1.44593386942614 1.44593386942614 1.44593386942614\n",
      " 1.44593386942614 1.44593386942614 1.44593386942614 1.44593386942614]\n"
     ]
    }
   ],
   "source": [
    "random = randomizationTest(df)\n",
    "print(random)\n",
    "#real = avg_inc(df)\n",
    "#print(real)"
   ]
  },
  {
   "cell_type": "markdown",
   "metadata": {},
   "source": [
    "### Question 3 (10pts)\n",
    "Written response: What do you conclude from this result?\n"
   ]
  },
  {
   "cell_type": "code",
   "execution_count": null,
   "metadata": {},
   "outputs": [],
   "source": []
  }
 ],
 "metadata": {
  "kernelspec": {
   "display_name": "Python 3",
   "language": "python",
   "name": "python3"
  },
  "language_info": {
   "codemirror_mode": {
    "name": "ipython",
    "version": 3
   },
   "file_extension": ".py",
   "mimetype": "text/x-python",
   "name": "python",
   "nbconvert_exporter": "python",
   "pygments_lexer": "ipython3",
   "version": "3.8.8"
  }
 },
 "nbformat": 4,
 "nbformat_minor": 4
}

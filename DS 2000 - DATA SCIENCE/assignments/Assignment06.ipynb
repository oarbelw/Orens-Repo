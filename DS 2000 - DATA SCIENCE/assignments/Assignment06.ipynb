{
 "cells": [
  {
   "cell_type": "markdown",
   "metadata": {},
   "source": [
    "# Assignment 06\n",
    "## Learning outcomes\n",
    "This Assignment integrates knowledge and skills acquired in the last 5 Assignments – and extends it to Power analysis and Bayesian inference. The Assignment simultaneously serves as a practice for the midterm, which will be comparable in scope, length, and difficulty. \n",
    "## Preliminaries\n",
    "Sets up the environment by importing pandas, numpy, matplotlib, and seaborn. Because we are using plots make sure that you configure your notebook such that plots are shown inline (see Assignment 2). Preliminaries are already taken care off in the workbook. "
   ]
  },
  {
   "cell_type": "code",
   "execution_count": 49,
   "metadata": {},
   "outputs": [],
   "source": [
    "import matplotlib\n",
    "matplotlib.use('TkAgg')\n",
    "import matplotlib.pyplot as plt \n",
    "%matplotlib inline\n",
    "import scipy.stats as ss\n",
    "import pandas as pd \n",
    "import numpy as np\n",
    "import seaborn as sns"
   ]
  },
  {
   "cell_type": "markdown",
   "metadata": {},
   "source": [
    "## Task 1: Power and Bayesian hypothesis testing (40pt)\n",
    "### Question 1 (10pt)\n",
    "For this tasks we will use the medical advisor example from last assignment. You are thinking about hiring a medical advisor for a liver transplant that had 100 cases and only 5 complications. The normal base rate of complications in North America is 10%. You are trying to decide between two hypotheses: \n",
    "\n",
    "H0: The Consultant does not impact the complication rate (i.e. p=0.1)\n",
    "\n",
    "H1: The Consultant halves the complication rate (i.e. p=0.05)\n",
    "\n",
    "Write a function that generates data (using the Monte-carlo function from last assignment) assuming the H0 and assuming the H1. The function should plot an overlapped histogram of the two distributions (see lecture slides). The function should then calculate and print out the p-value and the power for a given number of observed complications. Then run the function to calculate the probability that you falsely reject the Null-hypothesis after observing 5 complications. "
   ]
  },
  {
   "cell_type": "code",
   "execution_count": 83,
   "metadata": {},
   "outputs": [],
   "source": [
    "def monteCarloSim(p,N,numIter):\n",
    "    numHeads = np.array(range(numIter),dtype = 'float64')\n",
    "\n",
    "    for i in range(numIter):\n",
    "        options = [0,1]\n",
    "        probDist = [1-p,p]\n",
    "        \n",
    "        a=np.random.choice(options,N,p=probDist)\n",
    "    \n",
    "        numHeads[i]=a.sum()\n",
    "    return numHeads\n",
    "\n",
    "def monteCarloTest(H0prob,H1prob,N,numHeads):\n",
    "    simH0 = monteCarloSim(H0prob,N,1000)\n",
    "    simH1 = monteCarloSim(H1prob,N,1000)\n",
    "\n",
    "    \n",
    "    plt.hist(simH0, color = \"b\", alpha = 0.5)\n",
    "    plt.hist(simH1, color = \"r\", alpha = 0.5)\n",
    "    plt.axvline(x = numHeads, color = \"green\") \n",
    "    \n",
    "    #p-value\n",
    "    p_value = sum(simH0<=numHeads)/len(simH0)\n",
    "    print('P-value of the randomisation test is p_value = ',p_value)\n",
    "    \n",
    "    #power\n",
    "    power = sum(simH1<=numHeads)/len(simH1)\n",
    "    print('Power of the randomisation test is power = ', power)\n",
    "\n",
    "    \n",
    "    return p_value, power\n"
   ]
  },
  {
   "cell_type": "code",
   "execution_count": 106,
   "metadata": {},
   "outputs": [
    {
     "name": "stdout",
     "output_type": "stream",
     "text": [
      "P-value of the randomisation test is p_value =  0.059\n",
      "Power of the randomisation test is power =  0.621\n",
      "(0.059, 0.621)\n"
     ]
    },
    {
     "data": {
      "image/png": "[encoded data removed]",
      "text/plain": [
       "<Figure size 432x288 with 1 Axes>"
      ]
     },
     "metadata": {
      "needs_background": "light"
     },
     "output_type": "display_data"
    }
   ],
   "source": [
    "test = monteCarloTest(0.1, 0.05, 100, 5)\n",
    "print(test)"
   ]
  },
  {
   "cell_type": "markdown",
   "metadata": {},
   "source": [
    "### Question 2 (8 pt)\n",
    "According to current statistical standards (i.e., a critical p-value of 5%), would the decision to reject the Null be appropriate? How does the power calculation influence your thinking about this decision? "
   ]
  },
  {
   "cell_type": "markdown",
   "metadata": {},
   "source": [
    "Upon running the MonteCarloTest several times, the P-value seems to be around 0.054, which, accordint to current statistical standards, is right above the critical p-value of 5%, meaning that we cannot confidently reject the null hypothesis. Additionally, the power supports this decision, as it is lower than 80% (generally around 63%), and this means that it has a lower probability of rejecting the null hypothesis given the alternate hypothesis is true. "
   ]
  },
  {
   "cell_type": "markdown",
   "metadata": {},
   "source": [
    "### Question 3 ( 7 pt)\n",
    "How the p-value and the power change if you decided to hire the advisor if there were 7 or less complications in 100 cases? Written answer: Would this be a better decision criterion than 5 case? "
   ]
  },
  {
   "cell_type": "markdown",
   "metadata": {},
   "source": [
    "When we put 7 complications in the simulation, we get a greater p value an (0.22) and a greater power (0.85). This is because the less complications there are, the less the p value is (greater significance to reject H0 and accept that the consultant will half complication rate). Therefore, the greater the complications, the less certain we are that the consultant will half the complication rate. \n",
    "Because of this, 7 or less complications would be a better decision criterion, as we can easily see that there is not enough evidence to support rejecting the null hypothesis. "
   ]
  },
  {
   "cell_type": "markdown",
   "metadata": {},
   "source": [
    "### Question 4 (10pt)\n",
    "Write a function that again simulates data both under the H0 and H1, using similar code as in Question 1. Then calculate the Bayes-Factor BF(H1/H0). Finally report the posterior probability of the H1, assuming the prior probability was 0.5. "
   ]
  },
  {
   "cell_type": "code",
   "execution_count": 132,
   "metadata": {},
   "outputs": [],
   "source": [
    "def monteCarloTest_BF(H0prob,H1prob,N,numHeads):\n",
    "    simH0 = monteCarloSim(H0prob,N,1000)\n",
    "    simH1 = monteCarloSim(H1prob,N,1000)\n",
    "\n",
    "    \n",
    "    plt.hist(simH0, color = \"b\", alpha = 0.5)\n",
    "    plt.hist(simH1, color = \"r\", alpha = 0.5)\n",
    "    plt.axvline(x = numHeads, color = \"green\") \n",
    "    \n",
    "    #p-value\n",
    "    p_value = sum(simH0<=numHeads)/len(simH0)\n",
    "    print('P-value of the randomisation test is p_value = ',p_value)\n",
    "    \n",
    "    #power\n",
    "    power = sum(simH1<=numHeads)/len(simH1)\n",
    "    print('Power of the randomisation test is power = ', power)\n",
    "    \n",
    "    #Bayes-Factor\n",
    "    BF10 = sum((simH1 == numHeads)/len(simH0))/(sum((simH0 == numHeads)/len(simH1)))\n",
    "    print('Bayes-Factor is = ',BF10)\n",
    "\n",
    "    #BF10 = p(Data|H1)/p(Data|H0)\n",
    "    #BF10 = p1/p0\n",
    "    #p0 = prob observed data given that null hypothesis is true (p-value)\n",
    "    #p1 = prob of observed data given that alternative is true (power)\n",
    "    \n",
    "    \n",
    "    #find posterior of H1\n",
    "    prior = 0.5 #prior is the same for H0 and H1\n",
    "    \n",
    "    posterior1 = (prior*power)/(prior*power + prior*p_value)\n",
    "    print('Posterior probability is = ',posterior1)\n",
    "\n",
    "\n",
    "    \n",
    "    return p_value, power"
   ]
  },
  {
   "cell_type": "code",
   "execution_count": 133,
   "metadata": {},
   "outputs": [
    {
     "name": "stdout",
     "output_type": "stream",
     "text": [
      "P-value of the randomisation test is p_value =  0.051\n",
      "Power of the randomisation test is power =  0.625\n",
      "Bayes-Factor is =  5.645161290322581\n",
      "Posterior probability is =  0.9245562130177514\n"
     ]
    },
    {
     "data": {
      "image/png": "[encoded data removed]",
      "text/plain": [
       "<Figure size 432x288 with 1 Axes>"
      ]
     },
     "metadata": {
      "needs_background": "light"
     },
     "output_type": "display_data"
    }
   ],
   "source": [
    "test = monteCarloTest_BF(0.1, 0.05, 100, 5)"
   ]
  },
  {
   "cell_type": "markdown",
   "metadata": {},
   "source": [
    "### Question 5: (5pt)\n",
    "How would you interpret the BF and the posterior probability?"
   ]
  },
  {
   "cell_type": "markdown",
   "metadata": {},
   "source": [
    "BF is how much more likely the probability of observed data given that alternative is true, is than the probability of observed data given that the null is true. In this case, the alternate is 5.5 times more likely than the null. \n",
    "Posterior probability in this case is the probability of the alternative hypothesis occuring (consultant does half the rate) given our data. Thus this number of ~92% strongly indicates that based on this data, the alternate hypothesis is more probable."
   ]
  },
  {
   "cell_type": "markdown",
   "metadata": {},
   "source": [
    "## Task 2: The relation between smoking and premature birth (25pt)\n",
    "The data for this task come from a random sample of 150 births from the birth records in the US state of North Carolina in 2004. The data contains 50 records from mothers that self-identified as having smoked on average more than 2 cigarettes per week during the pregnancy (smokers) and 100 mothers that smoked not at all or less than 2 cigarettes per week during the pregnancy. \n",
    "\n",
    "The data frame has 150 observations with the following 9 variables:\n",
    "\n",
    "- fAge: Father’s age.\n",
    "- mAge: Mother’s age.\n",
    "- weeks:  Weeks at which the mother gave birth.\n",
    "- premature: Indicates whether the baby was premature or not.\n",
    "- visits: Number of hospital visits.\n",
    "- gained: Weight gained by mother (lbs) \n",
    "- weight: Birth weight of the baby (lbs) \n",
    "- sexBaby: Gender of the baby \n",
    "- smoke:  Whether or not the mother self-reported to be a smoker.\n",
    "\n",
    "### Question 1 (8 pt) \n",
    "Calculate and report the mean birth weight of babies born by smoking and by non-smoking moms. Generate a violinplot of birth weight, with separate violins for smokers and non-smokers. Make sure that the two violins are plotted in the same graph, so the two groups can be directly compared. Written answer: What do you observe in terms of means and median for the two groups? Is the distribution symmetric, left-skewed, or right-skewed? "
   ]
  },
  {
   "cell_type": "code",
   "execution_count": 140,
   "metadata": {},
   "outputs": [],
   "source": [
    "#import dataframe\n",
    "df = pd.read_csv('births.csv')\n"
   ]
  },
  {
   "cell_type": "code",
   "execution_count": 142,
   "metadata": {},
   "outputs": [
    {
     "name": "stdout",
     "output_type": "stream",
     "text": [
      "smoker baby weight is =  6.716599999999999\n",
      "nonsmoker baby weight is =  7.1882\n"
     ]
    },
    {
     "data": {
      "text/plain": [
       "<AxesSubplot:xlabel='smoke', ylabel='weight'>"
      ]
     },
     "execution_count": 142,
     "metadata": {},
     "output_type": "execute_result"
    },
    {
     "data": {
      "image/png": "[encoded data removed]",
      "text/plain": [
       "<Figure size 432x288 with 1 Axes>"
      ]
     },
     "metadata": {
      "needs_background": "light"
     },
     "output_type": "display_data"
    }
   ],
   "source": [
    "sg_weight = df['weight'].groupby(df['smoke'])\n",
    "smoker_weight = sg_weight.get_group('smoker')\n",
    "nonsmoker_weight = sg_weight.get_group('nonsmoker')\n",
    "m_sw = smoker_weight.mean()\n",
    "m_nsw = nonsmoker_weight.mean()\n",
    "print('smoker baby weight is = ', m_sw)\n",
    "print('nonsmoker baby weight is = ', m_nsw)\n",
    "sns.violinplot(x = 'smoke', y = 'weight', data = df)"
   ]
  },
  {
   "cell_type": "markdown",
   "metadata": {},
   "source": [
    "The smoker baby weight on average is lower than the nonsmoker baby weight. Both are left skewed, as the median is greater than the mean for each one. The smoker weight also seem to have way more under 4 pound babies than nonsmoker babies."
   ]
  },
  {
   "cell_type": "markdown",
   "metadata": {},
   "source": [
    "### Question 2 (10pt)\n",
    "As a researcher, you want to test the idea that smoking during pregnancy has *some influence* on the baby's birthweight. Formulate Null- and Alternative hypothesis (using =, >, <, and unequal signs). Write a function that returns the difference of the average birth weights between babies of smoker and non-smokers. Use a randomization test to test whether (and with what Type-I error) you can reject the Null-hypothesis. Do you need to use a one-sided or two-sided test? Written answer: What is your conclusion? "
   ]
  },
  {
   "cell_type": "markdown",
   "metadata": {},
   "source": [
    "Null: nonsmoker babyweight <= smoker babyweight\n",
    "\n",
    "\n",
    "Alternative: nonsmoker babyweight > smoker babyweight"
   ]
  },
  {
   "cell_type": "code",
   "execution_count": 224,
   "metadata": {},
   "outputs": [],
   "source": [
    "def avg_weight_diff(D, genre='weight'):\n",
    "    \n",
    "    sg_weight = D[genre].groupby(D['smoke'])\n",
    "    smoker_weight = sg_weight.get_group('smoker')\n",
    "    nonsmoker_weight = sg_weight.get_group('nonsmoker')\n",
    "    m_sw = smoker_weight.mean()\n",
    "    m_nsw = nonsmoker_weight.mean()\n",
    "    diff = m_nsw - m_sw\n",
    "    return diff"
   ]
  },
  {
   "cell_type": "code",
   "execution_count": 261,
   "metadata": {},
   "outputs": [
    {
     "name": "stdout",
     "output_type": "stream",
     "text": [
      "the P Value is =  0.022\n"
     ]
    }
   ],
   "source": [
    "def perm_test(data, fcn, n_iter=1000, genre='weight', shuffle='smoke'):\n",
    "    stat =  np.array(range(n_iter),dtype = 'float64')\n",
    "    for i in range(n_iter):\n",
    "        S=data.copy()\n",
    "        x = np.array(range(len(data.index)))\n",
    "        np.random.shuffle(x)\n",
    "        y = S[shuffle].iloc[x]\n",
    "        y = y.reset_index(drop=True)\n",
    "        S[shuffle]=y\n",
    "        \n",
    "        #2. Calculate test statistics \n",
    "        stat[i] = fcn(S)\n",
    "\n",
    "    # 3. Caluclate the real test statistic \n",
    "    realstat = fcn(data)\n",
    "    # 4. Calculate P value\n",
    "    p_val=sum(stat>=realstat)/len(stat)\n",
    "    print('the P Value is = ',p_val)\n",
    "    return stat\n",
    "\n",
    "test = perm_test(df,avg_weight_diff)\n",
    "#print(test)"
   ]
  },
  {
   "cell_type": "markdown",
   "metadata": {},
   "source": [
    "as the p value is consistently less than 0.05, we can reject the null hypothesis. This is one sided since we want to see if the alternate hypothesis of nonsmoker baby weight being large than smoker babyweight. "
   ]
  },
  {
   "cell_type": "markdown",
   "metadata": {},
   "source": [
    "### Question 3 (7 pt)\n",
    "You want to test the directed hypothesis that smoking is associated with a lower birth weight. Again, formulate Null and Alternative hypothesis. Use again a randomization test to see if you have evidence to reject the Null. Written answer: what is your conclusion? "
   ]
  },
  {
   "cell_type": "markdown",
   "metadata": {},
   "source": [
    "Null Hypothesis: Birthweight (smoker) >= Birthweight (non-smoker)\n",
    "Alt. Hypothesis: Birthweight (smoker) < Birthweight (non-smoker)"
   ]
  },
  {
   "cell_type": "markdown",
   "metadata": {},
   "source": [
    "Same conclusions as question 3. "
   ]
  },
  {
   "cell_type": "markdown",
   "metadata": {},
   "source": [
    "## Task 3: Bayesian hypothesis test of smoke-related reduction in birth weight. (35pt)\n",
    "### Question 1 (10pt)\n",
    "Determine and report the approximate standard deviation of the mean difference in birth weight under the Null hypothesis (birth weights for smokers and non-smokers are equal) directly from the samples of the randomization test performed in Question 2 and 3. "
   ]
  },
  {
   "cell_type": "code",
   "execution_count": 257,
   "metadata": {},
   "outputs": [
    {
     "name": "stdout",
     "output_type": "stream",
     "text": [
      "the P Value is =  0.028\n",
      "the standard deviation is:  0.2566119681623597\n"
     ]
    }
   ],
   "source": [
    "def stdv():\n",
    "    test = perm_test(df,avg_weight_diff)\n",
    "    std = test.std()\n",
    "    print('the standard deviation is: ',std)\n",
    "    return std\n",
    "test = stdv()"
   ]
  },
  {
   "cell_type": "markdown",
   "metadata": {},
   "source": [
    "### Question 2 (10pt)\n",
    "An average drop of birthweight of 0.5lbs is considered to be clinically significant risk. Use a Bayesian hypothesis test to determine how strong the evidence is that smoking is associated with a clinically significant reduction in birth weight. Based on the standard deviation of the mean difference from the randomization test in Task 2, you decide that it is appropriate to use a normal approximation for the average weight difference, both under the H1 and H0. Further, assume the standard error of the mean difference of 0.25 both for the H1 and the H0. Calculate the probability density for the real mean difference under H1 and H0. Then calculate and report the Bayes Factor of the H1 over the H0. What can you conclude from this result?  "
   ]
  },
  {
   "cell_type": "code",
   "execution_count": 275,
   "metadata": {},
   "outputs": [
    {
     "name": "stdout",
     "output_type": "stream",
     "text": [
      "the P Value is =  0.037\n",
      "the null p0 =  0.26182376969334\n",
      "the alternate p1 =  1.0797566299316184\n",
      "BF10 =  4.123982445124363\n"
     ]
    }
   ],
   "source": [
    "def Bayesian():\n",
    "    #histplot\n",
    "    \n",
    "    sns.distplot(listOfTS,bins= nbins)\n",
    "    plt.axvline(x=realTS, color='k')\n",
    "    \n",
    "H0_dist = perm_test(df,avg_weight_diff)\n",
    "TS_std = np.std(H0_dist)\n",
    "a = avg_weight_diff(df)\n",
    "p0 = ss.norm.pdf(a, 0, TS_std) \n",
    "print(\"the null p0 = \", p0) \n",
    "# Calculate BF10\n",
    "p1 = ss.norm.pdf(a,0.25, TS_std)\n",
    "print(\"the alternate p1 = \", p1)\n",
    "\n",
    "BF10 = p1/p0\n",
    "print(\"BF10 = \",BF10)"
   ]
  },
  {
   "cell_type": "markdown",
   "metadata": {},
   "source": [
    "therefore, i can conclude that there is strong evidence to favour H1 over the H0."
   ]
  },
  {
   "cell_type": "markdown",
   "metadata": {},
   "source": [
    "### Question 3 (7pt)\n",
    "What is the posterior probability of the H1, assuming that a-priori you had the belief that there was a 70% chance that smoking may reduce the birth weight by 0.5lb.  Use the results from task 3 question 2. Show clearly the formula used to calculate the posterior probability. Written answer: What is the meaning of this posterior probability? How does the meaning differ from the p-value calculated under Task 2, Question 3? "
   ]
  },
  {
   "cell_type": "code",
   "execution_count": 279,
   "metadata": {},
   "outputs": [
    {
     "name": "stdout",
     "output_type": "stream",
     "text": [
      "0.9058613164255623\n"
     ]
    }
   ],
   "source": [
    "prior0 = 0.3\n",
    "prior1 = 0.7\n",
    "posterior1 = (prior1*p1)/(prior1*p1 + prior0*p0)\n",
    "print(posterior1)"
   ]
  },
  {
   "cell_type": "markdown",
   "metadata": {},
   "source": [
    "this posterior probability shows us that there is a 90% chance that the alternative hypothesis occurs given the data presented.\n",
    "\n",
    "this differs from the p value since p value provides the probability, whereas posterior provides confidence."
   ]
  },
  {
   "cell_type": "markdown",
   "metadata": {},
   "source": [
    "### Question 4 (8pt)\n",
    "A news outlet picks up your result, saying that \"the study shows that smoking among US women causes an average decrease in birth weight of 0.4lbs.\" Can you draw this conclusion from the data? What are two possible problems with such claim?"
   ]
  },
  {
   "cell_type": "markdown",
   "metadata": {},
   "source": [
    "You cannot draw this conclusion, the data only supports the hypothesis that the average birthweight for a non smoker's child will be greater than the average birthweight for a smoker's child. Thus the two problems is the 0.4lbs, since thats not what the data indicates, and the data only implied correlation, not that it directly caused it, there could be other factors. "
   ]
  },
  {
   "cell_type": "code",
   "execution_count": null,
   "metadata": {},
   "outputs": [],
   "source": []
  }
 ],
 "metadata": {
  "kernelspec": {
   "display_name": "Python 3",
   "language": "python",
   "name": "python3"
  },
  "language_info": {
   "codemirror_mode": {
    "name": "ipython",
    "version": 3
   },
   "file_extension": ".py",
   "mimetype": "text/x-python",
   "name": "python",
   "nbconvert_exporter": "python",
   "pygments_lexer": "ipython3",
   "version": "3.8.8"
  }
 },
 "nbformat": 4,
 "nbformat_minor": 4
}

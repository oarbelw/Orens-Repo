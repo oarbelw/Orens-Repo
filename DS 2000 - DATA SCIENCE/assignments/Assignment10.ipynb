{
 "cells": [
  {
   "cell_type": "markdown",
   "metadata": {},
   "source": [
    "# Assignment 10: Regression with discrete variables\n",
    "## Learning Outcomes:\n",
    "This assignment introduces the use of discrete variables in regression analysis. Task 1 will use discrete variables as explanatory variables, in Task 2 we will use discrete variables as response variables and introduce logistic regression. \n",
    "\n",
    "## Data set \n",
    "Throught the assignment you will use the full possum.csv data set.  \n",
    "The data set includes measures from 104 possums that were caught in New Zealand in a field study. \n",
    "Variables: \n",
    "-\tsite: The site number where the possum was trapped.\n",
    "-\tpop: Population, either Vic (Victoria) or other (New South Wales or Queensland).\n",
    "-\tsex: Gender, either m (male) or f (female).\n",
    "-\tage: Age in years\n",
    "-\theadL: Head length, in mm.\n",
    "-\tskullW: Skull width, in mm.\n",
    "-\ttotalL: Total length, in cm.\n",
    "-\ttailL: Tail length, in cm.\n",
    "\n",
    "## Preliminaries\n",
    "Set up the environment by importing pandas, numpy, and matplotlib, scipy.optimize. This is already done in the preliminaries. Ensure that you have fully mastered all previous assignments (especially 8, 9) before starting the assignment. Import the regression functions that you used for the last homeworks. "
   ]
  },
  {
   "cell_type": "code",
   "execution_count": 8,
   "metadata": {},
   "outputs": [],
   "source": [
    "import matplotlib\n",
    "matplotlib.use('TkAgg')\n",
    "import matplotlib.pyplot as plt \n",
    "%matplotlib inline\n",
    "import scipy.optimize as so\n",
    "import pandas as pd \n",
    "import numpy as np\n",
    "import statsmodels.api as sm\n",
    "import statsmodels.formula.api as smf\n",
    "import seaborn as sns\n",
    "\n",
    "def multRegPredict(b,D,xname):\n",
    "    yp=np.ones(len(D.index))*b[0]        # Intercept \n",
    "    for i in range(len(xname)):          \n",
    "        yp=yp+D[xname[i]]*b[i+1]         # Add each regression value \n",
    "    return yp \n",
    "\n",
    "def multRegFit(D,y,xname):\n",
    "    N=len(xname)\n",
    "    b0=np.zeros((N+1,1))\n",
    "    RES = so.minimize(multRegLossRSS,b0,args=(D,y,xname),jac=True)\n",
    "    if (not(RES.success)):\n",
    "        print('unsuccessful fit')\n",
    "        print(RES)\n",
    "    b=RES.x # Results\n",
    "    res = y-np.mean(y)\n",
    "    TSS = sum(res**2)\n",
    "    RSS,deriv = multRegLossRSS(b,D,y,xname)\n",
    "    R2 = 1-RSS/TSS \n",
    "    return (R2,b)\n",
    "\n",
    "def multRegLossRSS(b,D,y,xname):\n",
    "    predY = multRegPredict(b,D,xname)\n",
    "    res = y-predY\n",
    "    rss = sum(res**2)\n",
    "    grad=np.zeros(len(b))\n",
    "    grad[0]=-2*np.sum(res)\n",
    "    for i in range(len(xname)):\n",
    "        grad[i+1]=-2*np.sum(D[xname[i]]*res)\n",
    "    return (rss,grad)\n",
    "\n",
    "def leaveOneOutCV(x,y,fitfcn=multRegFit,args=(),predictfcn=multRegPredict):\n",
    "    N = len(x) #Number of observations \n",
    "    yp= np.zeros(N)\n",
    "    ind = np.arange(N)\n",
    "    for i in range(N):\n",
    "        r,b,ax=fitfcn(x[ind!=i],y[ind!=i],args,fig=False)\n",
    "        yp[i]=predictfcn(b,x[i])\n",
    "    TSS  = sum((y-y.mean())**2)\n",
    "    RSScv = sum((y-yp)**2)\n",
    "    R2cv = 1-RSScv/TSS\n",
    "\n",
    "    # Get the model fit \n",
    "    r,b,ax=fitfcn(x,y,args)\n",
    "    yf=predictfcn(b,x)\n",
    "    RSS   = sum((y-yf)**2)\n",
    "    R2 = 1-RSS/TSS\n",
    "    return R2cv,R2 \n",
    "\n",
    "def bootstrapReg(D,y,args,fitfcn,numIter=1000):\n",
    "    r2,b=fitfcn(D,y,args)\n",
    "    numParams=len(b)\n",
    "    N = len(D.index)\n",
    "    ind  = np.arange(N)\n",
    "    stats = np.zeros((numIter,numParams))\n",
    "    for i in range(numIter):\n",
    "        sample=np.random.choice(ind,N)\n",
    "        r2,stats[i,:]=fitfcn(D.iloc[sample],y[sample],args)\n",
    "    return stats\n",
    "\n",
    "def confidenceInt(data,perc):\n",
    "    Int=(np.percentile(data,(100-perc)/2),np.percentile(data,100-(100-perc)/2))\n",
    "    return Int"
   ]
  },
  {
   "cell_type": "markdown",
   "metadata": {},
   "source": [
    "## Task 1: Discrete predictor variables\n",
    "\n",
    "### Question 1 (5 pt)\n",
    "Load the data set possum.csv. \n",
    "Generate 3 new columns in the data frame: \n",
    "- bodyL: The length of the main body (totalL - tailL) \n",
    "- popI:  Population identifier, 0: if pop is 'other', 1: if pop is 'Vic'\n",
    "- sexI:  Sex indentifier, 0: if sex is 'm', 1: if sex is 'f'\n",
    "Use your function multRegression to run a regression analysis of bodyL (response variable) against sexI (explanatory variable). Make a plot (with labeled axes) that show sex on the x-axis and body length on the y axis. Add the prediction line from the regression. "
   ]
  },
  {
   "cell_type": "code",
   "execution_count": 79,
   "metadata": {},
   "outputs": [
    {
     "data": {
      "text/html": [
       "<div>\n",
       "<style scoped>\n",
       "    .dataframe tbody tr th:only-of-type {\n",
       "        vertical-align: middle;\n",
       "    }\n",
       "\n",
       "    .dataframe tbody tr th {\n",
       "        vertical-align: top;\n",
       "    }\n",
       "\n",
       "    .dataframe thead th {\n",
       "        text-align: right;\n",
       "    }\n",
       "</style>\n",
       "<table border=\"1\" class=\"dataframe\">\n",
       "  <thead>\n",
       "    <tr style=\"text-align: right;\">\n",
       "      <th></th>\n",
       "      <th>site</th>\n",
       "      <th>pop</th>\n",
       "      <th>sex</th>\n",
       "      <th>age</th>\n",
       "      <th>headL</th>\n",
       "      <th>skullW</th>\n",
       "      <th>totalL</th>\n",
       "      <th>tailL</th>\n",
       "      <th>bodyL</th>\n",
       "      <th>popl</th>\n",
       "      <th>sexl</th>\n",
       "    </tr>\n",
       "  </thead>\n",
       "  <tbody>\n",
       "    <tr>\n",
       "      <th>0</th>\n",
       "      <td>1</td>\n",
       "      <td>Vic</td>\n",
       "      <td>m</td>\n",
       "      <td>8</td>\n",
       "      <td>94.1</td>\n",
       "      <td>60.4</td>\n",
       "      <td>89.0</td>\n",
       "      <td>36.0</td>\n",
       "      <td>53.0</td>\n",
       "      <td>1.0</td>\n",
       "      <td>0.0</td>\n",
       "    </tr>\n",
       "    <tr>\n",
       "      <th>1</th>\n",
       "      <td>1</td>\n",
       "      <td>Vic</td>\n",
       "      <td>f</td>\n",
       "      <td>6</td>\n",
       "      <td>92.5</td>\n",
       "      <td>57.6</td>\n",
       "      <td>91.5</td>\n",
       "      <td>36.5</td>\n",
       "      <td>55.0</td>\n",
       "      <td>1.0</td>\n",
       "      <td>1.0</td>\n",
       "    </tr>\n",
       "    <tr>\n",
       "      <th>2</th>\n",
       "      <td>1</td>\n",
       "      <td>Vic</td>\n",
       "      <td>f</td>\n",
       "      <td>6</td>\n",
       "      <td>94.0</td>\n",
       "      <td>60.0</td>\n",
       "      <td>95.5</td>\n",
       "      <td>39.0</td>\n",
       "      <td>56.5</td>\n",
       "      <td>1.0</td>\n",
       "      <td>1.0</td>\n",
       "    </tr>\n",
       "    <tr>\n",
       "      <th>3</th>\n",
       "      <td>1</td>\n",
       "      <td>Vic</td>\n",
       "      <td>f</td>\n",
       "      <td>6</td>\n",
       "      <td>93.2</td>\n",
       "      <td>57.1</td>\n",
       "      <td>92.0</td>\n",
       "      <td>38.0</td>\n",
       "      <td>54.0</td>\n",
       "      <td>1.0</td>\n",
       "      <td>1.0</td>\n",
       "    </tr>\n",
       "    <tr>\n",
       "      <th>4</th>\n",
       "      <td>1</td>\n",
       "      <td>Vic</td>\n",
       "      <td>f</td>\n",
       "      <td>2</td>\n",
       "      <td>91.5</td>\n",
       "      <td>56.3</td>\n",
       "      <td>85.5</td>\n",
       "      <td>36.0</td>\n",
       "      <td>49.5</td>\n",
       "      <td>1.0</td>\n",
       "      <td>1.0</td>\n",
       "    </tr>\n",
       "    <tr>\n",
       "      <th>...</th>\n",
       "      <td>...</td>\n",
       "      <td>...</td>\n",
       "      <td>...</td>\n",
       "      <td>...</td>\n",
       "      <td>...</td>\n",
       "      <td>...</td>\n",
       "      <td>...</td>\n",
       "      <td>...</td>\n",
       "      <td>...</td>\n",
       "      <td>...</td>\n",
       "      <td>...</td>\n",
       "    </tr>\n",
       "    <tr>\n",
       "      <th>99</th>\n",
       "      <td>7</td>\n",
       "      <td>other</td>\n",
       "      <td>m</td>\n",
       "      <td>1</td>\n",
       "      <td>89.5</td>\n",
       "      <td>56.0</td>\n",
       "      <td>81.5</td>\n",
       "      <td>36.5</td>\n",
       "      <td>45.0</td>\n",
       "      <td>0.0</td>\n",
       "      <td>0.0</td>\n",
       "    </tr>\n",
       "    <tr>\n",
       "      <th>100</th>\n",
       "      <td>7</td>\n",
       "      <td>other</td>\n",
       "      <td>m</td>\n",
       "      <td>1</td>\n",
       "      <td>88.6</td>\n",
       "      <td>54.7</td>\n",
       "      <td>82.5</td>\n",
       "      <td>39.0</td>\n",
       "      <td>43.5</td>\n",
       "      <td>0.0</td>\n",
       "      <td>0.0</td>\n",
       "    </tr>\n",
       "    <tr>\n",
       "      <th>101</th>\n",
       "      <td>7</td>\n",
       "      <td>other</td>\n",
       "      <td>f</td>\n",
       "      <td>6</td>\n",
       "      <td>92.4</td>\n",
       "      <td>55.0</td>\n",
       "      <td>89.0</td>\n",
       "      <td>38.0</td>\n",
       "      <td>51.0</td>\n",
       "      <td>0.0</td>\n",
       "      <td>1.0</td>\n",
       "    </tr>\n",
       "    <tr>\n",
       "      <th>102</th>\n",
       "      <td>7</td>\n",
       "      <td>other</td>\n",
       "      <td>m</td>\n",
       "      <td>4</td>\n",
       "      <td>91.5</td>\n",
       "      <td>55.2</td>\n",
       "      <td>82.5</td>\n",
       "      <td>36.5</td>\n",
       "      <td>46.0</td>\n",
       "      <td>0.0</td>\n",
       "      <td>0.0</td>\n",
       "    </tr>\n",
       "    <tr>\n",
       "      <th>103</th>\n",
       "      <td>7</td>\n",
       "      <td>other</td>\n",
       "      <td>f</td>\n",
       "      <td>3</td>\n",
       "      <td>93.6</td>\n",
       "      <td>59.9</td>\n",
       "      <td>89.0</td>\n",
       "      <td>40.0</td>\n",
       "      <td>49.0</td>\n",
       "      <td>0.0</td>\n",
       "      <td>1.0</td>\n",
       "    </tr>\n",
       "  </tbody>\n",
       "</table>\n",
       "<p>104 rows × 11 columns</p>\n",
       "</div>"
      ],
      "text/plain": [
       "     site    pop sex  age  headL  skullW  totalL  tailL  bodyL  popl  sexl\n",
       "0       1    Vic   m    8   94.1    60.4    89.0   36.0   53.0   1.0   0.0\n",
       "1       1    Vic   f    6   92.5    57.6    91.5   36.5   55.0   1.0   1.0\n",
       "2       1    Vic   f    6   94.0    60.0    95.5   39.0   56.5   1.0   1.0\n",
       "3       1    Vic   f    6   93.2    57.1    92.0   38.0   54.0   1.0   1.0\n",
       "4       1    Vic   f    2   91.5    56.3    85.5   36.0   49.5   1.0   1.0\n",
       "..    ...    ...  ..  ...    ...     ...     ...    ...    ...   ...   ...\n",
       "99      7  other   m    1   89.5    56.0    81.5   36.5   45.0   0.0   0.0\n",
       "100     7  other   m    1   88.6    54.7    82.5   39.0   43.5   0.0   0.0\n",
       "101     7  other   f    6   92.4    55.0    89.0   38.0   51.0   0.0   1.0\n",
       "102     7  other   m    4   91.5    55.2    82.5   36.5   46.0   0.0   0.0\n",
       "103     7  other   f    3   93.6    59.9    89.0   40.0   49.0   0.0   1.0\n",
       "\n",
       "[104 rows x 11 columns]"
      ]
     },
     "execution_count": 79,
     "metadata": {},
     "output_type": "execute_result"
    }
   ],
   "source": [
    "df = pd.read_csv('possum.csv')\n",
    "df['bodyL'] = df['totalL'] - df['tailL']\n",
    "df['popl'] = np.double(df['pop'] == 'Vic')\n",
    "df['sexl'] = np.double(df['sex'] == 'f')\n",
    "df"
   ]
  },
  {
   "cell_type": "code",
   "execution_count": 11,
   "metadata": {},
   "outputs": [
    {
     "name": "stdout",
     "output_type": "stream",
     "text": [
      "0.028958617288713295\n",
      "[49.56885246  1.23347312]\n"
     ]
    },
    {
     "data": {
      "text/html": [
       "<table class=\"simpletable\">\n",
       "<caption>OLS Regression Results</caption>\n",
       "<tr>\n",
       "  <th>Dep. Variable:</th>          <td>bodyL</td>      <th>  R-squared:         </th> <td>   0.029</td>\n",
       "</tr>\n",
       "<tr>\n",
       "  <th>Model:</th>                   <td>OLS</td>       <th>  Adj. R-squared:    </th> <td>   0.019</td>\n",
       "</tr>\n",
       "<tr>\n",
       "  <th>Method:</th>             <td>Least Squares</td>  <th>  F-statistic:       </th> <td>   3.042</td>\n",
       "</tr>\n",
       "<tr>\n",
       "  <th>Date:</th>             <td>Mon, 11 Apr 2022</td> <th>  Prob (F-statistic):</th>  <td>0.0842</td> \n",
       "</tr>\n",
       "<tr>\n",
       "  <th>Time:</th>                 <td>17:41:26</td>     <th>  Log-Likelihood:    </th> <td> -278.37</td>\n",
       "</tr>\n",
       "<tr>\n",
       "  <th>No. Observations:</th>      <td>   104</td>      <th>  AIC:               </th> <td>   560.7</td>\n",
       "</tr>\n",
       "<tr>\n",
       "  <th>Df Residuals:</th>          <td>   102</td>      <th>  BIC:               </th> <td>   566.0</td>\n",
       "</tr>\n",
       "<tr>\n",
       "  <th>Df Model:</th>              <td>     1</td>      <th>                     </th>     <td> </td>   \n",
       "</tr>\n",
       "<tr>\n",
       "  <th>Covariance Type:</th>      <td>nonrobust</td>    <th>                     </th>     <td> </td>   \n",
       "</tr>\n",
       "</table>\n",
       "<table class=\"simpletable\">\n",
       "<tr>\n",
       "      <td></td>         <th>coef</th>     <th>std err</th>      <th>t</th>      <th>P>|t|</th>  <th>[0.025</th>    <th>0.975]</th>  \n",
       "</tr>\n",
       "<tr>\n",
       "  <th>Intercept</th> <td>   49.5689</td> <td>    0.455</td> <td>  109.001</td> <td> 0.000</td> <td>   48.667</td> <td>   50.471</td>\n",
       "</tr>\n",
       "<tr>\n",
       "  <th>sexl</th>      <td>    1.2335</td> <td>    0.707</td> <td>    1.744</td> <td> 0.084</td> <td>   -0.169</td> <td>    2.636</td>\n",
       "</tr>\n",
       "</table>\n",
       "<table class=\"simpletable\">\n",
       "<tr>\n",
       "  <th>Omnibus:</th>       <td> 1.032</td> <th>  Durbin-Watson:     </th> <td>   0.980</td>\n",
       "</tr>\n",
       "<tr>\n",
       "  <th>Prob(Omnibus):</th> <td> 0.597</td> <th>  Jarque-Bera (JB):  </th> <td>   1.131</td>\n",
       "</tr>\n",
       "<tr>\n",
       "  <th>Skew:</th>          <td>-0.191</td> <th>  Prob(JB):          </th> <td>   0.568</td>\n",
       "</tr>\n",
       "<tr>\n",
       "  <th>Kurtosis:</th>      <td> 2.662</td> <th>  Cond. No.          </th> <td>    2.46</td>\n",
       "</tr>\n",
       "</table><br/><br/>Notes:<br/>[1] Standard Errors assume that the covariance matrix of the errors is correctly specified."
      ],
      "text/plain": [
       "<class 'statsmodels.iolib.summary.Summary'>\n",
       "\"\"\"\n",
       "                            OLS Regression Results                            \n",
       "==============================================================================\n",
       "Dep. Variable:                  bodyL   R-squared:                       0.029\n",
       "Model:                            OLS   Adj. R-squared:                  0.019\n",
       "Method:                 Least Squares   F-statistic:                     3.042\n",
       "Date:                Mon, 11 Apr 2022   Prob (F-statistic):             0.0842\n",
       "Time:                        17:41:26   Log-Likelihood:                -278.37\n",
       "No. Observations:                 104   AIC:                             560.7\n",
       "Df Residuals:                     102   BIC:                             566.0\n",
       "Df Model:                           1                                         \n",
       "Covariance Type:            nonrobust                                         \n",
       "==============================================================================\n",
       "                 coef    std err          t      P>|t|      [0.025      0.975]\n",
       "------------------------------------------------------------------------------\n",
       "Intercept     49.5689      0.455    109.001      0.000      48.667      50.471\n",
       "sexl           1.2335      0.707      1.744      0.084      -0.169       2.636\n",
       "==============================================================================\n",
       "Omnibus:                        1.032   Durbin-Watson:                   0.980\n",
       "Prob(Omnibus):                  0.597   Jarque-Bera (JB):                1.131\n",
       "Skew:                          -0.191   Prob(JB):                        0.568\n",
       "Kurtosis:                       2.662   Cond. No.                         2.46\n",
       "==============================================================================\n",
       "\n",
       "Notes:\n",
       "[1] Standard Errors assume that the covariance matrix of the errors is correctly specified.\n",
       "\"\"\""
      ]
     },
     "execution_count": 11,
     "metadata": {},
     "output_type": "execute_result"
    }
   ],
   "source": [
    "R2, b = multRegFit(df, df['bodyL'], ['sexl'])\n",
    "print(R2)\n",
    "print(b)\n",
    "model_ols = smf.ols('bodyL~sexl', data = df)\n",
    "model_est = model_ols.fit()\n",
    "model_est.summary()"
   ]
  },
  {
   "cell_type": "code",
   "execution_count": 13,
   "metadata": {},
   "outputs": [
    {
     "data": {
      "text/plain": [
       "[<matplotlib.lines.Line2D at 0x7fb7ba89c250>]"
      ]
     },
     "execution_count": 13,
     "metadata": {},
     "output_type": "execute_result"
    },
    {
     "data": {
      "image/png": "[encoded data removed]",
      "text/plain": [
       "<Figure size 432x288 with 1 Axes>"
      ]
     },
     "metadata": {
      "needs_background": "light"
     },
     "output_type": "display_data"
    }
   ],
   "source": [
    "# 1. plot the scatter plot\n",
    "plt.scatter(df['sexl'], df['bodyL'])\n",
    "plt.xlabel('sex identifier')\n",
    "plt.ylabel('body length')\n",
    "# 2. get the predicted values\n",
    "yp = multRegPredict(b, df, ['sexl'])\n",
    "plt.plot(df['sexl'], yp, color = 'r')"
   ]
  },
  {
   "cell_type": "markdown",
   "metadata": {},
   "source": [
    "### Question 2 (10pt)\n",
    "Use boostrap to estimate a 95% confidence interval on the regression parameter of sex as a explanatory variable for body length. Report the interval. Can you reject the null-hypothesis that body length in possums does not differ between the sexes?  "
   ]
  },
  {
   "cell_type": "code",
   "execution_count": 43,
   "metadata": {},
   "outputs": [
    {
     "name": "stdout",
     "output_type": "stream",
     "text": [
      "(-0.15585363740338684, 2.5106607555413527)\n"
     ]
    }
   ],
   "source": [
    "B = bootstrapReg(df, df['bodyL'], ['sexl'], fitfcn = multRegFit, numIter=100)\n",
    "\n",
    "Int=confidenceInt(B[:,1],95)\n",
    "print(Int)"
   ]
  },
  {
   "cell_type": "markdown",
   "metadata": {},
   "source": [
    "The 95% confidence interval includes zero - so we cannot reject the null-hypothesis that body length in possums does not differ between the sexes."
   ]
  },
  {
   "cell_type": "markdown",
   "metadata": {},
   "source": [
    "### Question 3 (10pt)\n",
    "Make a scatter plot of age (x-axis) against body length (y-axis), with male and female possums shown in different colors. \n",
    "You can do this by plotting two scatter plots sequentially - each time selecting either male or female possums. The second one will simply add points in a different color to the first plot.  \n",
    "\n",
    "Estimate a multiple regression model that explains bodyL as a function of age and sex. What is the R2-value? \n",
    "\n",
    "Get the predicted values from the regression, and plot the predicted values in the same graph seperately for male and female possums. "
   ]
  },
  {
   "cell_type": "code",
   "execution_count": 46,
   "metadata": {},
   "outputs": [
    {
     "data": {
      "text/plain": [
       "<AxesSubplot:xlabel='age', ylabel='bodyL'>"
      ]
     },
     "execution_count": 46,
     "metadata": {},
     "output_type": "execute_result"
    },
    {
     "data": {
      "image/png": "[encoded data removed]",
      "text/plain": [
       "<Figure size 432x288 with 1 Axes>"
      ]
     },
     "metadata": {
      "needs_background": "light"
     },
     "output_type": "display_data"
    }
   ],
   "source": [
    "sns.scatterplot(x = 'age', y = 'bodyL', hue = 'sexl', data = df)"
   ]
  },
  {
   "cell_type": "code",
   "execution_count": 50,
   "metadata": {},
   "outputs": [
    {
     "name": "stdout",
     "output_type": "stream",
     "text": [
      "0.08543037213506421\n"
     ]
    }
   ],
   "source": [
    "R2, b = multRegFit(df, df['bodyL'], ['sexl', 'age'])\n",
    "print(R2) #this is the R2 value"
   ]
  },
  {
   "cell_type": "code",
   "execution_count": 57,
   "metadata": {},
   "outputs": [
    {
     "data": {
      "text/plain": [
       "[<matplotlib.lines.Line2D at 0x7fb7bb48fc70>]"
      ]
     },
     "execution_count": 57,
     "metadata": {},
     "output_type": "execute_result"
    },
    {
     "data": {
      "image/png": "[encoded data removed]",
      "text/plain": [
       "<Figure size 432x288 with 1 Axes>"
      ]
     },
     "metadata": {
      "needs_background": "light"
     },
     "output_type": "display_data"
    }
   ],
   "source": [
    "# 1. plot the scatter plot\n",
    "plt.scatter(df['sexl'], df['bodyL'])\n",
    "plt.xlabel('sex identifier')\n",
    "plt.ylabel('body length')\n",
    "# 2. get the predicted values\n",
    "yp = multRegPredict(b, df, ['sexl'])\n",
    "plt.plot(df['sexl'], yp, color = 'r')"
   ]
  },
  {
   "cell_type": "markdown",
   "metadata": {},
   "source": [
    "### Question 4 (7pt)\n",
    "Run a bootstrap analysis on the bodyL ~ age + sexI regression model. Report the 95% confidence interval for the regression parameters of sex and age on body length. Is the effect of age onto body length significant in the context of the model? How about the relationship between sex and body length?  \n"
   ]
  },
  {
   "cell_type": "code",
   "execution_count": 70,
   "metadata": {},
   "outputs": [
    {
     "name": "stdout",
     "output_type": "stream",
     "text": [
      "(-0.024924863601791615, 2.0424429355931006)\n"
     ]
    }
   ],
   "source": [
    "B1 = bootstrapReg(df, df['bodyL'], ['sexl', 'age'], fitfcn = multRegFit, numIter=100)\n",
    "#print(B)\n",
    "Int=confidenceInt(B1[:,1],95)\n",
    "print(Int) #this is the confidence interval"
   ]
  },
  {
   "cell_type": "markdown",
   "metadata": {},
   "source": [
    "The 95% confidence interval includes zero - so the influence is not significant"
   ]
  },
  {
   "cell_type": "code",
   "execution_count": 72,
   "metadata": {},
   "outputs": [
    {
     "name": "stdout",
     "output_type": "stream",
     "text": [
      "(0.17078177443843723, 0.8501316590937683)\n"
     ]
    }
   ],
   "source": [
    "B2 = bootstrapReg(df, df['bodyL'], ['age'], fitfcn = multRegFit, numIter=100)\n",
    "Int=confidenceInt(B2[:,1],95)\n",
    "print(Int)"
   ]
  },
  {
   "cell_type": "markdown",
   "metadata": {},
   "source": [
    "The 95% confidence interval does not include zero - so the influence of age onto body length is significant"
   ]
  },
  {
   "cell_type": "code",
   "execution_count": 76,
   "metadata": {},
   "outputs": [
    {
     "name": "stdout",
     "output_type": "stream",
     "text": [
      "(0.24481384401506864, 2.501669979742271)\n"
     ]
    }
   ],
   "source": [
    "B3 = bootstrapReg(df, df['bodyL'], ['sexl'], fitfcn = multRegFit, numIter=100)\n",
    "Int=confidenceInt(B3[:,1],95)\n",
    "print(Int)"
   ]
  },
  {
   "cell_type": "markdown",
   "metadata": {},
   "source": [
    "The 95% confidence interval does not include zero - so the influence of sex onto body length is significant"
   ]
  },
  {
   "cell_type": "markdown",
   "metadata": {},
   "source": [
    "### Question 5 (10pt)\n",
    "Estimate a multiple regression model that explains bodyL as a function of age and population (Vic vs. other). What is the R2-value? Make a scatter plot like for Question 3, but this time splitting the data for the two populations, rather than based on sex. Which of the two population (Vic or other) is larger? How do you interpret the value of the regression coefficient for popI? "
   ]
  },
  {
   "cell_type": "code",
   "execution_count": 89,
   "metadata": {},
   "outputs": [
    {
     "name": "stdout",
     "output_type": "stream",
     "text": [
      "The R2-value is: 0.17974517849498517\n"
     ]
    },
    {
     "data": {
      "text/plain": [
       "<AxesSubplot:xlabel='age', ylabel='bodyL'>"
      ]
     },
     "execution_count": 89,
     "metadata": {},
     "output_type": "execute_result"
    },
    {
     "data": {
      "image/png": "[encoded data removed]",
      "text/plain": [
       "<Figure size 432x288 with 1 Axes>"
      ]
     },
     "metadata": {
      "needs_background": "light"
     },
     "output_type": "display_data"
    }
   ],
   "source": [
    "R2, b = multRegFit(df, df['bodyL'], ['popl', 'age']) #popl from above\n",
    "print(\"The R2-value is:\", R2)\n",
    "sns.scatterplot(x = 'age', y = 'bodyL', hue = 'popl', data = df)"
   ]
  },
  {
   "cell_type": "code",
   "execution_count": 90,
   "metadata": {},
   "outputs": [
    {
     "name": "stdout",
     "output_type": "stream",
     "text": [
      "[47.3855543   2.47718803  0.41746659]\n"
     ]
    }
   ],
   "source": [
    "print(b)"
   ]
  },
  {
   "cell_type": "markdown",
   "metadata": {},
   "source": [
    "The orange popl = 1, Vic appears to have a larger body length than other. Since popl is the second variable listed, we look at our second b value from multRegFit, and we determine that popl has a regression coefficient of 2.47."
   ]
  },
  {
   "cell_type": "markdown",
   "metadata": {},
   "source": [
    "### Question 6 (8pt)\n",
    "Run a bootstrap analysis on the bodyL ~ age + popI regression model. Report the 95% confidence interval for the regression parameters of popI and age on body length. Is the effect of age onto body length significant in the context of the model? How about the relationship between population and body length? \n"
   ]
  },
  {
   "cell_type": "code",
   "execution_count": 94,
   "metadata": {},
   "outputs": [
    {
     "name": "stdout",
     "output_type": "stream",
     "text": [
      "(0.15933059501275815, 0.8112902151978392)\n"
     ]
    }
   ],
   "source": [
    "B = bootstrapReg(df, df['bodyL'], ['age', 'popl'], fitfcn = multRegFit, numIter=100)\n",
    "Int=confidenceInt(B[:,1],95)\n",
    "print(Int)"
   ]
  },
  {
   "cell_type": "markdown",
   "metadata": {},
   "source": [
    "The 95% confidence interval does not include zero - so the effect of age and population onto body length is significant"
   ]
  },
  {
   "cell_type": "code",
   "execution_count": 96,
   "metadata": {},
   "outputs": [
    {
     "name": "stdout",
     "output_type": "stream",
     "text": [
      "(0.16266887848413103, 0.7838041474547315)\n"
     ]
    }
   ],
   "source": [
    "B1 = bootstrapReg(df, df['bodyL'], ['age'], fitfcn = multRegFit, numIter=100)\n",
    "Int=confidenceInt(B1[:,1],95)\n",
    "print(Int)"
   ]
  },
  {
   "cell_type": "markdown",
   "metadata": {},
   "source": [
    "The 95% confidence interval does not include zero - so the effect of age onto body length is significant"
   ]
  },
  {
   "cell_type": "code",
   "execution_count": 98,
   "metadata": {},
   "outputs": [
    {
     "name": "stdout",
     "output_type": "stream",
     "text": [
      "(1.522551856458351, 3.7792910328576057)\n"
     ]
    }
   ],
   "source": [
    "B2 = bootstrapReg(df, df['bodyL'], ['popl'], fitfcn = multRegFit, numIter=100)\n",
    "Int=confidenceInt(B2[:,1],95)\n",
    "print(Int)"
   ]
  },
  {
   "cell_type": "markdown",
   "metadata": {},
   "source": [
    "The 95% confidence interval does not include zero - so the effect of population onto body length is significant"
   ]
  },
  {
   "cell_type": "markdown",
   "metadata": {},
   "source": [
    "## Task 2: Discrete response variable\n",
    "In this task we will investigate regression models in which the response variable is a discrete, dichotomous variable. \n",
    "### Question 1: Logistic Function (10pt)\n",
    "Starting with your function for multRegPredict, write a function logisticRegPredict(b,D,xname). As inputs it should take the \n",
    "- b: np-array of regression coefficients (the first one being the intercept)\n",
    "- D: Data frame\n",
    "- xname: a list of column names (in D) that are being used as regressors. \n",
    "\n",
    "The function should first calculate a = b[0] + b[1] * D[xname[0]] + b[2] * D[xname[1]] \n",
    "and then return the logistic function of a. \n",
    "\n",
    "Then make a Data frame with a single column with the values from -4 to 4 (in small steps). Plot the logistic function for the parameter values: \n",
    "- b = [0,0]\n",
    "- b = [0,1]\n",
    "- b = [0,2]\n",
    "- b = [0,-2]\n",
    "\n",
    "What happens as the slope value changes? \n",
    "\n",
    "Then plot the logistic function for the parameter values: \n",
    "- b = [0,2]\n",
    "- b = [1,2]\n",
    "- b = [2,2]\n",
    "- b = [-2,2]\n",
    "\n",
    "What happens as the intercept value changes? For each value - where does the predicted line cross p=0.5? \n",
    "\n"
   ]
  },
  {
   "cell_type": "code",
   "execution_count": 137,
   "metadata": {},
   "outputs": [],
   "source": [
    "def logisticRegPredict(b,D,xname):\n",
    "    a = np.ones(len(D.index))*b[0]\n",
    "    for i in range(len(xname)):\n",
    "        a = a + b[i + 1] * D[xname[i]]\n",
    "        \n",
    "    #print(type(a))\n",
    "    \n",
    "    #print(a.dtype)\n",
    "    \n",
    "    yp = 1 / (1 +np.exp(a))\n",
    "    \n",
    "    #print(type(yp))\n",
    "    \n",
    "    #print(yp.dtype)\n",
    "    \n",
    "    #print(yp)\n",
    "    \n",
    "    return yp\n",
    "    \n",
    "yp = logisticRegPredict([-4, 4], df, ['bodyL'])"
   ]
  },
  {
   "cell_type": "code",
   "execution_count": 114,
   "metadata": {},
   "outputs": [
    {
     "data": {
      "text/html": [
       "<div>\n",
       "<style scoped>\n",
       "    .dataframe tbody tr th:only-of-type {\n",
       "        vertical-align: middle;\n",
       "    }\n",
       "\n",
       "    .dataframe tbody tr th {\n",
       "        vertical-align: top;\n",
       "    }\n",
       "\n",
       "    .dataframe thead th {\n",
       "        text-align: right;\n",
       "    }\n",
       "</style>\n",
       "<table border=\"1\" class=\"dataframe\">\n",
       "  <thead>\n",
       "    <tr style=\"text-align: right;\">\n",
       "      <th></th>\n",
       "      <th>entries</th>\n",
       "    </tr>\n",
       "  </thead>\n",
       "  <tbody>\n",
       "    <tr>\n",
       "      <th>0</th>\n",
       "      <td>-4.000000</td>\n",
       "    </tr>\n",
       "    <tr>\n",
       "      <th>1</th>\n",
       "      <td>-3.919192</td>\n",
       "    </tr>\n",
       "    <tr>\n",
       "      <th>2</th>\n",
       "      <td>-3.838384</td>\n",
       "    </tr>\n",
       "    <tr>\n",
       "      <th>3</th>\n",
       "      <td>-3.757576</td>\n",
       "    </tr>\n",
       "    <tr>\n",
       "      <th>4</th>\n",
       "      <td>-3.676768</td>\n",
       "    </tr>\n",
       "    <tr>\n",
       "      <th>...</th>\n",
       "      <td>...</td>\n",
       "    </tr>\n",
       "    <tr>\n",
       "      <th>95</th>\n",
       "      <td>3.676768</td>\n",
       "    </tr>\n",
       "    <tr>\n",
       "      <th>96</th>\n",
       "      <td>3.757576</td>\n",
       "    </tr>\n",
       "    <tr>\n",
       "      <th>97</th>\n",
       "      <td>3.838384</td>\n",
       "    </tr>\n",
       "    <tr>\n",
       "      <th>98</th>\n",
       "      <td>3.919192</td>\n",
       "    </tr>\n",
       "    <tr>\n",
       "      <th>99</th>\n",
       "      <td>4.000000</td>\n",
       "    </tr>\n",
       "  </tbody>\n",
       "</table>\n",
       "<p>100 rows × 1 columns</p>\n",
       "</div>"
      ],
      "text/plain": [
       "     entries\n",
       "0  -4.000000\n",
       "1  -3.919192\n",
       "2  -3.838384\n",
       "3  -3.757576\n",
       "4  -3.676768\n",
       "..       ...\n",
       "95  3.676768\n",
       "96  3.757576\n",
       "97  3.838384\n",
       "98  3.919192\n",
       "99  4.000000\n",
       "\n",
       "[100 rows x 1 columns]"
      ]
     },
     "metadata": {},
     "output_type": "display_data"
    }
   ],
   "source": [
    "# create a dataframe with values ranging from -4 to 4\n",
    "entries = np.linspace(-4,4,100)\n",
    "# print the type\n",
    "#print(type(entries))\n",
    "# put the array in a dataframe\n",
    "EF = pd.DataFrame(entries, columns = ['entries'])\n",
    "# print the type\n",
    "#print(type(EF))\n",
    "# display the first five entries\n",
    "display(EF)"
   ]
  },
  {
   "cell_type": "code",
   "execution_count": 130,
   "metadata": {},
   "outputs": [
    {
     "data": {
      "text/plain": [
       "Text(0, 0.5, 'probability')"
      ]
     },
     "execution_count": 130,
     "metadata": {},
     "output_type": "execute_result"
    },
    {
     "data": {
      "image/png": "[encoded data removed]",
      "text/plain": [
       "<Figure size 432x288 with 1 Axes>"
      ]
     },
     "metadata": {
      "needs_background": "light"
     },
     "output_type": "display_data"
    }
   ],
   "source": [
    "# Pass it as input to logisticRegPredict with b = [0,0]\n",
    "e_pred0 = logisticRegPredict([0,0], EF, ['entries'])\n",
    "plt.plot(EF['entries'], e_pred0, color = 'r')\n",
    "\n",
    "# Pass it as input to logisticRegPredict with b = [0,1]\n",
    "e_pred1 = logisticRegPredict([0,1], EF, ['entries'])\n",
    "plt.plot(EF['entries'], e_pred1, color = 'b')\n",
    "\n",
    "# Pass it as input to logisticRegPredict with b = [0,2]\n",
    "e_pred2 = logisticRegPredict([0,2], EF, ['entries'])\n",
    "plt.plot(EF['entries'], e_pred2, color = 'g')\n",
    "\n",
    "# Pass it as input to logisticRegPredict with b = [0,-2]\n",
    "e_predneg2 = logisticRegPredict([0,-2], EF, ['entries'])\n",
    "plt.plot(EF['entries'], e_predneg2, color = 'purple')\n",
    "\n",
    "\n",
    "plt.xlabel('body length')\n",
    "plt.ylabel('probability')"
   ]
  },
  {
   "cell_type": "markdown",
   "metadata": {},
   "source": [
    "as the slope value increases, the steeper the slope gets."
   ]
  },
  {
   "cell_type": "code",
   "execution_count": 131,
   "metadata": {},
   "outputs": [
    {
     "data": {
      "text/plain": [
       "Text(0, 0.5, 'probability')"
      ]
     },
     "execution_count": 131,
     "metadata": {},
     "output_type": "execute_result"
    },
    {
     "data": {
      "image/png": "[encoded data removed]",
      "text/plain": [
       "<Figure size 432x288 with 1 Axes>"
      ]
     },
     "metadata": {
      "needs_background": "light"
     },
     "output_type": "display_data"
    }
   ],
   "source": [
    "# Pass it as input to logisticRegPredict with b = [0,2]\n",
    "e_pred02 = logisticRegPredict([0,2], EF, ['entries'])\n",
    "plt.plot(EF['entries'], e_pred02, color = 'r')\n",
    "\n",
    "# Pass it as input to logisticRegPredict with b = [1,2]\n",
    "e_pred12 = logisticRegPredict([1,2], EF, ['entries'])\n",
    "plt.plot(EF['entries'], e_pred12, color = 'b')\n",
    "\n",
    "# Pass it as input to logisticRegPredict with b = [2,2]\n",
    "e_pred22 = logisticRegPredict([2,2], EF, ['entries'])\n",
    "plt.plot(EF['entries'], e_pred22, color = 'g')\n",
    "\n",
    "# Pass it as input to logisticRegPredict with b = [-2,2]\n",
    "e_predneg22 = logisticRegPredict([2,-2], EF, ['entries'])\n",
    "plt.plot(EF['entries'], e_predneg22, color = 'purple')\n",
    "\n",
    "\n",
    "plt.xlabel('body length')\n",
    "plt.ylabel('probability')"
   ]
  },
  {
   "cell_type": "markdown",
   "metadata": {},
   "source": [
    "as the interceot changes, the whole line shifts along the x axis, not changing the actual slope. p_red becomes 0.5 at 0, p_blue becomes 0.5 at -0.5, p_green becomes 0.5 at -1, p_purple becomes 0.5 at 1."
   ]
  },
  {
   "cell_type": "markdown",
   "metadata": {},
   "source": [
    "### Question 2 (10pt)\n",
    "Make a Scatterplot of tail length (as a x-variable) against popI (Population, 1:Victoria 0:other). \n",
    "Written answer: What relationship can you see? \n"
   ]
  },
  {
   "cell_type": "code",
   "execution_count": 132,
   "metadata": {},
   "outputs": [
    {
     "data": {
      "text/plain": [
       "<AxesSubplot:xlabel='tailL', ylabel='popl'>"
      ]
     },
     "execution_count": 132,
     "metadata": {},
     "output_type": "execute_result"
    },
    {
     "data": {
      "image/png": "[encoded data removed]",
      "text/plain": [
       "<Figure size 432x288 with 1 Axes>"
      ]
     },
     "metadata": {
      "needs_background": "light"
     },
     "output_type": "display_data"
    }
   ],
   "source": [
    "sns.scatterplot(x = 'tailL', y = 'popl', hue = 'popl', data = df)"
   ]
  },
  {
   "cell_type": "markdown",
   "metadata": {},
   "source": [
    "we can see that the tail length is longer in other than in Vic."
   ]
  },
  {
   "cell_type": "markdown",
   "metadata": {},
   "source": [
    "### Question 3 (10pt)\n",
    "Write a function logisticRegLoss(b,D,y,name) that calculates the Loss function for the logistic regression (negative log-likelihood, see lecture). The function should call logisticRegPredict to get the prediction, and then calculate the Loss and the derivative of the loss in respect to all regression paramaters. The function should be able to use multiple regressors (like multRegLossRSS from previous homeworks).    \n",
    "\n",
    "Report the negative log likelihood (and derivates) for a logistic regression model that predicts popI as a function of tailL: \n",
    "- for the parameter values [0,0]\n",
    "- for the parameter values [17.5,-0.5]\n",
    "- for the parameter values [25.56,-0.7]\n",
    "\n",
    "Which one is the best parameter setting of the three? "
   ]
  },
  {
   "cell_type": "code",
   "execution_count": 142,
   "metadata": {},
   "outputs": [
    {
     "name": "stdout",
     "output_type": "stream",
     "text": [
      "<class 'pandas.core.series.Series'>\n"
     ]
    },
    {
     "ename": "TypeError",
     "evalue": "'Series' object is not callable",
     "output_type": "error",
     "traceback": [
      "\u001b[0;31m---------------------------------------------------------------------------\u001b[0m",
      "\u001b[0;31mTypeError\u001b[0m                                 Traceback (most recent call last)",
      "\u001b[0;32m<ipython-input-142-d299104ae16c>\u001b[0m in \u001b[0;36m<module>\u001b[0;34m\u001b[0m\n\u001b[1;32m     12\u001b[0m     \u001b[0;32mreturn\u001b[0m \u001b[0;34m(\u001b[0m\u001b[0mloss\u001b[0m\u001b[0;34m,\u001b[0m\u001b[0mgrad\u001b[0m\u001b[0;34m)\u001b[0m\u001b[0;34m\u001b[0m\u001b[0;34m\u001b[0m\u001b[0m\n\u001b[1;32m     13\u001b[0m \u001b[0;34m\u001b[0m\u001b[0m\n\u001b[0;32m---> 14\u001b[0;31m \u001b[0mll\u001b[0m\u001b[0;34m,\u001b[0m \u001b[0mderiv\u001b[0m \u001b[0;34m=\u001b[0m \u001b[0mlogisticRegLoss\u001b[0m\u001b[0;34m(\u001b[0m\u001b[0mb\u001b[0m\u001b[0;34m,\u001b[0m\u001b[0mdf\u001b[0m\u001b[0;34m,\u001b[0m\u001b[0mdf\u001b[0m\u001b[0;34m[\u001b[0m\u001b[0;34m'bodyL'\u001b[0m\u001b[0;34m]\u001b[0m\u001b[0;34m,\u001b[0m\u001b[0;34m[\u001b[0m\u001b[0;34m'age'\u001b[0m\u001b[0;34m]\u001b[0m\u001b[0;34m)\u001b[0m\u001b[0;34m\u001b[0m\u001b[0;34m\u001b[0m\u001b[0m\n\u001b[0m\u001b[1;32m     15\u001b[0m \u001b[0mprint\u001b[0m\u001b[0;34m(\u001b[0m\u001b[0;34m-\u001b[0m\u001b[0mll\u001b[0m\u001b[0;34m)\u001b[0m\u001b[0;34m\u001b[0m\u001b[0;34m\u001b[0m\u001b[0m\n",
      "\u001b[0;32m<ipython-input-142-d299104ae16c>\u001b[0m in \u001b[0;36mlogisticRegLoss\u001b[0;34m(b, D, y, xname)\u001b[0m\n\u001b[1;32m      2\u001b[0m     \u001b[0mp\u001b[0m \u001b[0;34m=\u001b[0m \u001b[0mlogisticRegPredict\u001b[0m\u001b[0;34m(\u001b[0m\u001b[0mb\u001b[0m\u001b[0;34m,\u001b[0m\u001b[0mD\u001b[0m\u001b[0;34m,\u001b[0m\u001b[0mxname\u001b[0m\u001b[0;34m)\u001b[0m\u001b[0;34m\u001b[0m\u001b[0;34m\u001b[0m\u001b[0m\n\u001b[1;32m      3\u001b[0m     \u001b[0mprint\u001b[0m\u001b[0;34m(\u001b[0m\u001b[0mtype\u001b[0m\u001b[0;34m(\u001b[0m\u001b[0my\u001b[0m\u001b[0;34m)\u001b[0m\u001b[0;34m)\u001b[0m\u001b[0;34m\u001b[0m\u001b[0;34m\u001b[0m\u001b[0m\n\u001b[0;32m----> 4\u001b[0;31m     \u001b[0mcost\u001b[0m\u001b[0;34m=\u001b[0m\u001b[0;34m(\u001b[0m\u001b[0my\u001b[0m \u001b[0;34m*\u001b[0m \u001b[0mnp\u001b[0m\u001b[0;34m.\u001b[0m\u001b[0mlog\u001b[0m\u001b[0;34m(\u001b[0m\u001b[0mp\u001b[0m\u001b[0;34m)\u001b[0m\u001b[0;34m)\u001b[0m \u001b[0;34m+\u001b[0m \u001b[0;34m(\u001b[0m\u001b[0;34m(\u001b[0m\u001b[0;36m1\u001b[0m\u001b[0;34m-\u001b[0m\u001b[0my\u001b[0m\u001b[0;34m)\u001b[0m\u001b[0;34m)\u001b[0m\u001b[0;34m(\u001b[0m\u001b[0mnp\u001b[0m\u001b[0;34m.\u001b[0m\u001b[0mlog\u001b[0m\u001b[0;34m(\u001b[0m\u001b[0;36m1\u001b[0m\u001b[0;34m-\u001b[0m\u001b[0mp\u001b[0m\u001b[0;34m)\u001b[0m\u001b[0;34m)\u001b[0m\u001b[0;34m\u001b[0m\u001b[0;34m\u001b[0m\u001b[0m\n\u001b[0m\u001b[1;32m      5\u001b[0m     \u001b[0mloss\u001b[0m \u001b[0;34m=\u001b[0m \u001b[0;34m-\u001b[0m\u001b[0msum\u001b[0m\u001b[0;34m(\u001b[0m\u001b[0mcost\u001b[0m\u001b[0;34m)\u001b[0m \u001b[0;31m# Negative log-likelihood\u001b[0m\u001b[0;34m\u001b[0m\u001b[0;34m\u001b[0m\u001b[0m\n\u001b[1;32m      6\u001b[0m     \u001b[0mN\u001b[0m\u001b[0;34m=\u001b[0m\u001b[0mlen\u001b[0m\u001b[0;34m(\u001b[0m\u001b[0mxname\u001b[0m\u001b[0;34m)\u001b[0m \u001b[0;31m# Number of regressors\u001b[0m\u001b[0;34m\u001b[0m\u001b[0;34m\u001b[0m\u001b[0m\n",
      "\u001b[0;31mTypeError\u001b[0m: 'Series' object is not callable"
     ]
    }
   ],
   "source": [
    "def logisticRegLoss(b,D,y,xname):\n",
    "    p = logisticRegPredict(b,D,xname)\n",
    "    cost=(y * np.log(p)) + ((1-y))(np.log(1-p))\n",
    "    loss = -sum(cost) # Negative log-likelihood\n",
    "    N=len(xname) # Number of regressors\n",
    "    grad=np.zeros(N+1)\n",
    "    res = y-p     # Residuals\n",
    "    grad[0]= -2*np.sum(res) # Gradient for b0\n",
    "    for i in range(N):\n",
    "        grad[i+1]= -2*np.sum(D[xname[i]]*res) # Gradient for b1,..\n",
    "    return (loss,grad)\n",
    "\n",
    "ll, deriv = logisticRegLoss(b,df,df['bodyL'],['age'])\n",
    "print(-ll)"
   ]
  },
  {
   "cell_type": "code",
   "execution_count": null,
   "metadata": {},
   "outputs": [],
   "source": []
  },
  {
   "cell_type": "markdown",
   "metadata": {},
   "source": []
  },
  {
   "cell_type": "markdown",
   "metadata": {},
   "source": [
    "### Question 4 (10pt)\n",
    "Write a function logisticRegFit(D,y,xname,figure=True) that fits the logistic model by minimizing the above Loss function. \n",
    "- D: A data frame with the explanatory variables \n",
    "- y: A dichotomous (0 or 1) response variable \n",
    "- xname: Names of x variables to be used \n",
    "- figure: Flag (True / False) indicating if the code should produce a figure. \n",
    "When there is only one x-variable, and figure==True, then function should produce a scatter plot of the data and the predicted values. \n",
    "\n",
    "The function should return the log-likelihood of the data under the best model and the best fitting (maximum liklihood) estimates of b. Remember that the function value you are minimizing is the *negative* log-likelihood, and the best fitting value is stored in RES.fun\n",
    "\n",
    "Fit a logistic regression model that predicts popI as a function of tailL. Make sure the function generates a plot. Report log-likelihood and b-values. "
   ]
  },
  {
   "cell_type": "code",
   "execution_count": 138,
   "metadata": {},
   "outputs": [],
   "source": [
    "def logisticRegFit(D,y,xname,figure=True):\n",
    "    N=len(xname)\n",
    "    b0=np.zeros((N+1,1))\n",
    "    RES = so.minimize(logisticRegLoss,b0,args=(D,y,xname),jac=True)\n",
    "    if (not(RES.success)):\n",
    "        print('unsuccessful fit')\n",
    "        print(RES)\n",
    "    b=RES.x # Results\n",
    "    res = y-np.mean(y)\n",
    "    TSS = sum(res**2)\n",
    "    RSS,deriv = multRegLossRSS(b,D,y,xname)\n",
    "    R2 = 1-RSS/TSS \n",
    "    #produce scatter\n",
    "    if (len(xname) == 1 and figure == True):\n",
    "        sns.scatterplot(x = D[xname], y = y, data = df)\n",
    "    return (R2,b)"
   ]
  },
  {
   "cell_type": "code",
   "execution_count": null,
   "metadata": {},
   "outputs": [],
   "source": []
  },
  {
   "cell_type": "markdown",
   "metadata": {},
   "source": [
    "### Question 5 (10pt)\n",
    "Now fit the model explaing popI from tailL and bodyL in a multiple logistic regression model. Report the log-likelihood and parameter values. Is the fit better than tailL alone? \n",
    "\n",
    "Also fit the model explaing popI from tailL and totalL in a multiple logistic regression model. Again, report the log-likelihood and parameter values. \n",
    "\n",
    "What do you observe in terms of log-likelihood and in terms of paramters? Why do these two models yield exactly the same log-liklihood? "
   ]
  },
  {
   "cell_type": "code",
   "execution_count": null,
   "metadata": {},
   "outputs": [],
   "source": []
  },
  {
   "cell_type": "markdown",
   "metadata": {},
   "source": []
  }
 ],
 "metadata": {
  "kernelspec": {
   "display_name": "Python 3",
   "language": "python",
   "name": "python3"
  },
  "language_info": {
   "codemirror_mode": {
    "name": "ipython",
    "version": 3
   },
   "file_extension": ".py",
   "mimetype": "text/x-python",
   "name": "python",
   "nbconvert_exporter": "python",
   "pygments_lexer": "ipython3",
   "version": "3.8.8"
  }
 },
 "nbformat": 4,
 "nbformat_minor": 4
}

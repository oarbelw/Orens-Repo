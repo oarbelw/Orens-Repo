{
 "cells": [
  {
   "cell_type": "markdown",
   "metadata": {},
   "source": [
    "# Assignment 06\n",
    "## Learning outcomes\n",
    "This Assignment integrates knowledge and skills acquired in the last 5 Assignments – and extends it to Power analysis and Bayesian inference. The Assignment simultaneously serves as a practice for the midterm, which will be comparable in scope, length, and difficulty. \n",
    "## Preliminaries\n",
    "Sets up the environment by importing pandas, numpy, matplotlib, and seaborn. Because we are using plots make sure that you configure your notebook such that plots are shown inline (see Assignment 2). Preliminaries are already taken care off in the workbook. "
   ]
  },
  {
   "cell_type": "code",
   "execution_count": 1,
   "metadata": {},
   "outputs": [],
   "source": [
    "import matplotlib\n",
    "matplotlib.use('TkAgg')\n",
    "import matplotlib.pyplot as plt \n",
    "%matplotlib inline\n",
    "import scipy.stats as ss\n",
    "import pandas as pd \n",
    "import numpy as np\n",
    "import seaborn as sb"
   ]
  },
  {
   "cell_type": "markdown",
   "metadata": {},
   "source": [
    "## Task 1: Power and Bayesian hypothesis testing (40pt)\n",
    "### Question 1 (10pt)\n",
    "For this tasks we will use the medical advisor example from last assignment. You are thinking about hiring a medical advisor for a liver transplant that had 100 cases and only 5 complications. The normal base rate of complications in North America is 10%. You are trying to decide between two hypotheses: \n",
    "\n",
    "H0: The Consultant does not impact the complication rate (i.e. p=0.1)\n",
    "\n",
    "H1: The Consultant halves the complication rate (i.e. p=0.05)\n",
    "\n",
    "Write a function that generates data (using the Monte-carlo function from last assignment) assuming the H0 and assuming the H1. The function should plot an overlapped histogram of the two distributions (see lecture slides). The function should then calculate and print out the p-value and the power for a given number of observed complications. Then run the function to calculate the probability that you falsely reject the Null-hypothesis after observing 5 complications. "
   ]
  },
  {
   "cell_type": "code",
   "execution_count": 2,
   "metadata": {},
   "outputs": [],
   "source": [
    "def monteCarloSim(p,N,numIter):\n",
    "    numHeads = np.array(range(numIter),dtype = 'float64')\n",
    "\n",
    "    for i in range(numIter):\n",
    "        options = [0,1]\n",
    "        probDist = [1-p,p]\n",
    "        \n",
    "        # Solution 1: use random choice and sum over hits \n",
    "        a=np.random.choice(options,N,p=probDist)\n",
    "        numHeads[i]=a.sum()\n",
    "        # Solution 2: Use random binomial \n",
    "        # numHeads[i]=np.random.binomial(N,p) \n",
    "    return numHeads\n",
    "\n",
    "def monteCarloPower(H0prob,H1prob,N,numHeads):\n",
    "    sim0 = monteCarloSim(H0prob,N,10000)\n",
    "    plt.hist(sim0,bins=range(20),align='left',alpha=0.5)\n",
    "    plt.axvline(x=numHeads, color='k')\n",
    "    sim1 = monteCarloSim(H1prob,N,10000)\n",
    "    plt.hist(sim1,bins=range(20),alpha=1,align='left')\n",
    "    plt.xlabel('Number of complications')\n",
    "    plt.ylabel('Count')\n",
    "    plt.xticks([0,5,10,15])\n",
    "    pval=sum(sim0<=numHeads)/len(sim0)\n",
    "    power=sum(sim1<=numHeads)/len(sim1)\n",
    "    print('The p-value is =',pval)\n",
    "    print('The power is   =',power)"
   ]
  },
  {
   "cell_type": "code",
   "execution_count": 3,
   "metadata": {},
   "outputs": [
    {
     "name": "stdout",
     "output_type": "stream",
     "text": [
      "The p-value is = 0.0568\n",
      "The power is   = 0.6229\n"
     ]
    },
    {
     "data": {
      "image/png": "[encoded data removed]",
      "text/plain": [
       "<Figure size 432x288 with 1 Axes>"
      ]
     },
     "metadata": {
      "needs_background": "light"
     },
     "output_type": "display_data"
    }
   ],
   "source": [
    "monteCarloPower(0.1,0.05,100,5)"
   ]
  },
  {
   "cell_type": "markdown",
   "metadata": {},
   "source": [
    "*Figure 1*. The distribution under the null hypothesis (light blue) alongside the distribution under the alternative hypothesis (orange). The vertical black line shows the number of complications the consultant has had in 100 liver transplants. "
   ]
  },
  {
   "cell_type": "markdown",
   "metadata": {},
   "source": [
    "### Question 2 (8 pt)\n",
    "According to current statistical standards (i.e., a critical p-value of 5%), would the decision to reject the Null be appropriate? How does the power calculation influence your thinking about this decision? "
   ]
  },
  {
   "cell_type": "markdown",
   "metadata": {},
   "source": [
    "> Because p>0.05, we should not reject the Null-hypothesis according to statistical standards. So we would not hire the consultant. However, the very low power of the test (only 62%) tells me that the decision may be due to the lack of evidence (cases), so we would be missing out on a opportunity with a high probability. "
   ]
  },
  {
   "cell_type": "markdown",
   "metadata": {},
   "source": [
    "### Question 3 ( 7 pt)\n",
    "How the p-value and the power change if you decided to hire the advisor if there were 7 or less complications in 100 cases? Written answer: Would this be a better decision criterion than 5 case? "
   ]
  },
  {
   "cell_type": "code",
   "execution_count": 4,
   "metadata": {},
   "outputs": [
    {
     "name": "stdout",
     "output_type": "stream",
     "text": [
      "The p-value is = 0.2024\n",
      "The power is   = 0.8691\n"
     ]
    },
    {
     "data": {
      "image/png": "[encoded data removed]",
      "text/plain": [
       "<Figure size 432x288 with 1 Axes>"
      ]
     },
     "metadata": {
      "needs_background": "light"
     },
     "output_type": "display_data"
    }
   ],
   "source": [
    "monteCarloPower(0.1,0.05,100,7)"
   ]
  },
  {
   "cell_type": "markdown",
   "metadata": {},
   "source": [
    "*Figure 2*. The distribution under the null hypothesis (light blue) alongside the distribution under the alternative hypothesis (orange). The vertical black lines shows 7 complications in 100 cases."
   ]
  },
  {
   "cell_type": "markdown",
   "metadata": {},
   "source": [
    "> Now I have a 20% for a Type 1 error, but only 15% of a Type 2 error. Under the assumption that a Type 2 error in this situation is less costly than a Type 1 error (after all, the medical advisor may not make it worse - he/she just costs money) this criterion maybe more appropriate than on of p<0.05.  "
   ]
  },
  {
   "cell_type": "markdown",
   "metadata": {},
   "source": [
    "### Question 4 (10pt)\n",
    "Write a function that again simulates data both under the H0 and H1, using similar code as in Question 1. Then calculate the Bayes-Factor BF(H1/H0). Finally report the posterior probability of the H1, assuming the prior probability was 0.5. "
   ]
  },
  {
   "cell_type": "code",
   "execution_count": 5,
   "metadata": {},
   "outputs": [],
   "source": [
    "def monteCarloBayes(H0prob,H1prob,N,numHeads):\n",
    "    sim0 = monteCarloSim(H0prob,N,10000)\n",
    "    plt.hist(sim0,bins=range(20),align='left',alpha=0.5)\n",
    "    plt.axvline(x=numHeads, color='k')\n",
    "    sim1 = monteCarloSim(H1prob,N,10000)\n",
    "    plt.hist(sim1,bins=range(20),alpha=1,align='left')\n",
    "    plt.xlabel('Number of complications')\n",
    "    plt.ylabel('Count')\n",
    "    plt.xticks([0,5,10,15])\n",
    "    pYH0=sum(sim0==numHeads)/len(sim0)\n",
    "    pYH1=sum(sim1==numHeads)/len(sim1)\n",
    "    BF10 = pYH1/pYH0 \n",
    "    pH1 = 0.5 * pYH1 / (0.5*pYH0 + 0.5*pYH1)\n",
    "    print('Bayes factor is =',BF10)\n",
    "    print('Posterior H1 Probability =',pH1)"
   ]
  },
  {
   "cell_type": "code",
   "execution_count": 6,
   "metadata": {},
   "outputs": [
    {
     "name": "stdout",
     "output_type": "stream",
     "text": [
      "Bayes factor is = 5.38368580060423\n",
      "Posterior H1 Probability = 0.8433506862281117\n"
     ]
    },
    {
     "data": {
      "image/png": "[encoded data removed]",
      "text/plain": [
       "<Figure size 432x288 with 1 Axes>"
      ]
     },
     "metadata": {
      "needs_background": "light"
     },
     "output_type": "display_data"
    }
   ],
   "source": [
    "monteCarloBayes(0.1,0.05,100,5)"
   ]
  },
  {
   "cell_type": "markdown",
   "metadata": {},
   "source": [
    "*Figure 3*. The distribution under the null hypothesis (light blue) alongside the distribution under the alternative hypothesis (orange)."
   ]
  },
  {
   "cell_type": "markdown",
   "metadata": {},
   "source": [
    "### Question 5: (5pt)\n",
    "How would you interpret the BF and the posterior probability?"
   ]
  },
  {
   "cell_type": "markdown",
   "metadata": {},
   "source": [
    "> The Base factor simply states that the data is 5 times more likely under the H1 than under the H0. The posterior probability give the strength of the blieve I should have in the truth of H1 after seeing the data. It means that I should be willing to take a $500:$100 bet that the H1 is true. "
   ]
  },
  {
   "cell_type": "markdown",
   "metadata": {},
   "source": [
    "## Task 2: The relation between smoking and premature birth (25pt)\n",
    "The data for this task come from a random sample of 150 births from the birth records in the US state of North Carolina in 2004. The data contains 50 records from mothers that self-identified as having smoked on average more than 2 cigarettes per week during the pregnancy (smokers) and 100 mothers that smoked not at all or less than 2 cigarettes per week during the pregnancy. \n",
    "\n",
    "The data frame has 150 observations with the following 9 variables:\n",
    "\n",
    "- fAge: Father’s age.\n",
    "- mAge: Mother’s age.\n",
    "- weeks:  Weeks at which the mother gave birth.\n",
    "- premature: Indicates whether the baby was premature or not.\n",
    "- visits: Number of hospital visits.\n",
    "- gained: Weight gained by mother (lbs) \n",
    "- weight: Birth weight of the baby (lbs) \n",
    "- sexBaby: Gender of the baby \n",
    "- smoke:  Whether or not the mother self-reported to be a smoker.\n",
    "\n",
    "### Question 1 (8 pt) \n",
    "Calculate and report the mean birth weight of babies born by smoking and by non-smoking moms. Generate a violinplot of birth weight, with separate violins for smokers and non-smokers. Make sure that the two violins are plotted in the same graph, so the two groups can be directly compared. Written answer: What do you observe in terms of means and median for the two groups? Is the distribution symmetric, left-skewed, or right-skewed? "
   ]
  },
  {
   "cell_type": "code",
   "execution_count": 7,
   "metadata": {},
   "outputs": [
    {
     "data": {
      "text/plain": [
       "smoke\n",
       "nonsmoker    7.1882\n",
       "smoker       6.7166\n",
       "Name: weight, dtype: float64"
      ]
     },
     "execution_count": 7,
     "metadata": {},
     "output_type": "execute_result"
    }
   ],
   "source": [
    "D=pd.read_csv('births.csv')\n",
    "D['weight'].groupby(D['smoke']).mean()"
   ]
  },
  {
   "cell_type": "code",
   "execution_count": 8,
   "metadata": {},
   "outputs": [
    {
     "name": "stderr",
     "output_type": "stream",
     "text": [
      "/Users/ladan/anaconda3/lib/python3.7/site-packages/scipy/stats/stats.py:1713: FutureWarning: Using a non-tuple sequence for multidimensional indexing is deprecated; use `arr[tuple(seq)]` instead of `arr[seq]`. In the future this will be interpreted as an array index, `arr[np.array(seq)]`, which will result either in an error or a different result.\n",
      "  return np.add.reduce(sorted[indexer] * weights, axis=axis) / sumval\n"
     ]
    },
    {
     "data": {
      "text/plain": [
       "<matplotlib.axes._subplots.AxesSubplot at 0x1a2579aac8>"
      ]
     },
     "execution_count": 8,
     "metadata": {},
     "output_type": "execute_result"
    },
    {
     "data": {
      "image/png": "[encoded data removed]",
      "text/plain": [
       "<Figure size 432x288 with 1 Axes>"
      ]
     },
     "metadata": {
      "needs_background": "light"
     },
     "output_type": "display_data"
    }
   ],
   "source": [
    "sb.violinplot(x = 'smoke', y = 'weight',  data = D)"
   ]
  },
  {
   "cell_type": "markdown",
   "metadata": {},
   "source": [
    "*Figure 4*. Violinplots of birth weight of babies of smoker and non-smoker mothers."
   ]
  },
  {
   "cell_type": "markdown",
   "metadata": {},
   "source": [
    "> The mean birth weight for non-smokers is more than 0.4pounds larger than for smokers. The median birth weight for babies of non-smoking moms is also higher than for smokers. The distribution is moderately left-skewed with some babies being born with very low weight - these are likely the premature birth. "
   ]
  },
  {
   "cell_type": "markdown",
   "metadata": {
    "collapsed": true
   },
   "source": [
    "### Question 2 (10pt)\n",
    "As a researcher, you want to test the idea that smoking during pregnancy has *some influence* on the baby's birthweight. Formulate Null- and Alternative hypothesis (using =, >, <, and unequal signs). Write a function that returns the difference of the average birth weights between babies of smoker and non-smokers. Use a randomization test to test whether (and with what Type-I error) you can reject the Null-hypothesis. Do you need to use a one-sided or two-sided test? Written answer: What is your conclusion? "
   ]
  },
  {
   "cell_type": "markdown",
   "metadata": {},
   "source": [
    "> Null Hypothesis: Birthweight (smoker) = Birthweight (non-smoker) <br>\n",
    "> Alt. Hypothesis: Birthweight (smoker) unequal Birthweight (non-smoker)"
   ]
  },
  {
   "cell_type": "code",
   "execution_count": 9,
   "metadata": {},
   "outputs": [],
   "source": [
    "def calcMeanDiff(D):\n",
    "    a=D.weight.groupby(D.smoke).mean()\n",
    "    return a[0]-a[1]\n",
    "\n",
    "def performRandomization(D,fcn,shuffle,numIterations=500,sides=1, nbins = 10):    \n",
    "    listOfTS =  np.array(range(numIterations),dtype = 'float64')\n",
    "    for i in range(numIterations):\n",
    "        #1. Randomly shuffle the data \n",
    "        S=D.copy()                    # Make copy of the data frame\n",
    "        x = np.array(range(len(D.index))) # Make copy of the data frame\n",
    "        np.random.shuffle(x)          # randomly shuffle x - note that this changes x itself! \n",
    "        y = S[shuffle].iloc[x]   # copy the newly reorded values into a new Series  \n",
    "        y = y.reset_index(drop=True)   #reoder the indices \n",
    "        S[shuffle]=y           # Copy back into the data frame\n",
    "        \n",
    "        #2. Calculate test statistics \n",
    "        listOfTS[i] = fcn(S)\n",
    "\n",
    "    # 3. Caluclate the real test statistic \n",
    "    realTS = fcn(D)\n",
    "    print(realTS)\n",
    "      \n",
    "    # 4. Plot a histogram of the \n",
    "    print(listOfTS.mean())\n",
    "    plt.hist(listOfTS,bins= nbins)\n",
    "    plt.axvline(x=realTS, color='k')\n",
    "    plt.xlabel('mean difference')\n",
    "    plt.ylabel('Count')\n",
    "    \n",
    "    # 5. determine p-value (one sided)\n",
    "    if sides==1: \n",
    "        p=sum(listOfTS>=realTS)/len(listOfTS)\n",
    "    if sides==2:\n",
    "        plt.axvline(x=-realTS, color='r')\n",
    "        p=sum(np.absolute(listOfTS)>=realTS)/len(listOfTS)\n",
    "        print(' P-value of the randomisation test is p= ',p)\n",
    "    return p\n"
   ]
  },
  {
   "cell_type": "code",
   "execution_count": 10,
   "metadata": {},
   "outputs": [
    {
     "name": "stdout",
     "output_type": "stream",
     "text": [
      "0.47160000000000135\n",
      "0.008772900000000123\n",
      " P-value of the randomisation test is p=  0.071\n"
     ]
    },
    {
     "data": {
      "text/plain": [
       "0.071"
      ]
     },
     "execution_count": 10,
     "metadata": {},
     "output_type": "execute_result"
    },
    {
     "data": {
      "image/png": "[encoded data removed]",
      "text/plain": [
       "<Figure size 432x288 with 1 Axes>"
      ]
     },
     "metadata": {
      "needs_background": "light"
     },
     "output_type": "display_data"
    }
   ],
   "source": [
    "performRandomization(D,calcMeanDiff,'smoke',numIterations=1000,sides=2)"
   ]
  },
  {
   "cell_type": "markdown",
   "metadata": {},
   "source": [
    "*Figure 5*. Distribution of the differences between mean of birth weight of smoker and non-smoker groups using simulation. "
   ]
  },
  {
   "cell_type": "markdown",
   "metadata": {},
   "source": [
    "> Based on the data, we cannot reject the Null-hypothesis that there are no true differences in birth weight of smokers and non-smokers.  "
   ]
  },
  {
   "cell_type": "code",
   "execution_count": 11,
   "metadata": {},
   "outputs": [],
   "source": [
    "def wssndiff(data):\n",
    "    a = grouped_s\n",
    "    b = grouped_ns\n",
    "    c = a - b \n",
    "    return(c)\n",
    "\n",
    "def performRandomization(bd,fcn,shuffle,numIterations=500,sides=2, nbins = 10):    \n",
    "    listOfTS =  np.array(range(numIterations),dtype = 'float64')\n",
    "    for i in range(numIterations):\n",
    "        S=bd.copy()                    \n",
    "        x = np.array(range(len(bd.index))) \n",
    "        np.random.shuffle(x)          \n",
    "        y = S[shuffle].iloc[x]    \n",
    "        y = y.reset_index(drop=True)  \n",
    "        S[shuffle]=y          \n",
    "        \n",
    "        #2. Calculate test statistics \n",
    "        listOfTS[i] = fcn(S)\n",
    "\n",
    "    # 3. Caluclate the real test statistic \n",
    "    realTS = fcn(bd)\n",
    "\n",
    "    # 4. Plot a histogram of the \n",
    "    sns.distplot(listOfTS,bins= nbins)\n",
    "    plt.axvline(x=realTS, color='k')\n",
    "    \n",
    "    # 5. determine p-value (one sided)\n",
    "    if sides==1: \n",
    "        p=sum(listOfTS>=realTS)/len(listOfTS)\n",
    "        print(' P-value of the randomisation test is p= ',p)\n",
    "    if sides==2:\n",
    "        plt.axvline(x=-realTS, color='r')\n",
    "        p=sum(np.absolute(listOfTS)>=realTS)/len(listOfTS)\n",
    "        print(' P-value of the randomisation test is p= ',p)\n",
    "    return [p, listOfTS]"
   ]
  },
  {
   "cell_type": "code",
   "execution_count": 16,
   "metadata": {},
   "outputs": [
    {
     "ename": "NameError",
     "evalue": "name 'grouped_s' is not defined",
     "output_type": "error",
     "traceback": [
      "\u001b[0;31m---------------------------------------------------------------------------\u001b[0m",
      "\u001b[0;31mNameError\u001b[0m                                 Traceback (most recent call last)",
      "\u001b[0;32m<ipython-input-16-fd55704a9478>\u001b[0m in \u001b[0;36m<module>\u001b[0;34m\u001b[0m\n\u001b[0;32m----> 1\u001b[0;31m \u001b[0mh\u001b[0m \u001b[0;34m=\u001b[0m\u001b[0mperformRandomization\u001b[0m\u001b[0;34m(\u001b[0m\u001b[0mD\u001b[0m\u001b[0;34m,\u001b[0m \u001b[0mwssndiff\u001b[0m\u001b[0;34m,\u001b[0m \u001b[0;34m'smoke'\u001b[0m\u001b[0;34m,\u001b[0m\u001b[0;36m500\u001b[0m\u001b[0;34m,\u001b[0m\u001b[0msides\u001b[0m\u001b[0;34m=\u001b[0m\u001b[0;36m2\u001b[0m\u001b[0;34m,\u001b[0m \u001b[0mnbins\u001b[0m \u001b[0;34m=\u001b[0m \u001b[0;36m10\u001b[0m\u001b[0;34m)\u001b[0m\u001b[0;34m\u001b[0m\u001b[0;34m\u001b[0m\u001b[0m\n\u001b[0m",
      "\u001b[0;32m<ipython-input-11-c65f42a93115>\u001b[0m in \u001b[0;36mperformRandomization\u001b[0;34m(bd, fcn, shuffle, numIterations, sides, nbins)\u001b[0m\n\u001b[1;32m     16\u001b[0m \u001b[0;34m\u001b[0m\u001b[0m\n\u001b[1;32m     17\u001b[0m         \u001b[0;31m#2. Calculate test statistics\u001b[0m\u001b[0;34m\u001b[0m\u001b[0;34m\u001b[0m\u001b[0;34m\u001b[0m\u001b[0m\n\u001b[0;32m---> 18\u001b[0;31m         \u001b[0mlistOfTS\u001b[0m\u001b[0;34m[\u001b[0m\u001b[0mi\u001b[0m\u001b[0;34m]\u001b[0m \u001b[0;34m=\u001b[0m \u001b[0mfcn\u001b[0m\u001b[0;34m(\u001b[0m\u001b[0mS\u001b[0m\u001b[0;34m)\u001b[0m\u001b[0;34m\u001b[0m\u001b[0;34m\u001b[0m\u001b[0m\n\u001b[0m\u001b[1;32m     19\u001b[0m \u001b[0;34m\u001b[0m\u001b[0m\n\u001b[1;32m     20\u001b[0m     \u001b[0;31m# 3. Caluclate the real test statistic\u001b[0m\u001b[0;34m\u001b[0m\u001b[0;34m\u001b[0m\u001b[0;34m\u001b[0m\u001b[0m\n",
      "\u001b[0;32m<ipython-input-11-c65f42a93115>\u001b[0m in \u001b[0;36mwssndiff\u001b[0;34m(data)\u001b[0m\n\u001b[1;32m      1\u001b[0m \u001b[0;32mdef\u001b[0m \u001b[0mwssndiff\u001b[0m\u001b[0;34m(\u001b[0m\u001b[0mdata\u001b[0m\u001b[0;34m)\u001b[0m\u001b[0;34m:\u001b[0m\u001b[0;34m\u001b[0m\u001b[0;34m\u001b[0m\u001b[0m\n\u001b[0;32m----> 2\u001b[0;31m     \u001b[0ma\u001b[0m \u001b[0;34m=\u001b[0m \u001b[0mgrouped_s\u001b[0m\u001b[0;34m\u001b[0m\u001b[0;34m\u001b[0m\u001b[0m\n\u001b[0m\u001b[1;32m      3\u001b[0m     \u001b[0mb\u001b[0m \u001b[0;34m=\u001b[0m \u001b[0mgrouped_ns\u001b[0m\u001b[0;34m\u001b[0m\u001b[0;34m\u001b[0m\u001b[0m\n\u001b[1;32m      4\u001b[0m     \u001b[0mc\u001b[0m \u001b[0;34m=\u001b[0m \u001b[0ma\u001b[0m \u001b[0;34m-\u001b[0m \u001b[0mb\u001b[0m\u001b[0;34m\u001b[0m\u001b[0;34m\u001b[0m\u001b[0m\n\u001b[1;32m      5\u001b[0m     \u001b[0;32mreturn\u001b[0m\u001b[0;34m(\u001b[0m\u001b[0mc\u001b[0m\u001b[0;34m)\u001b[0m\u001b[0;34m\u001b[0m\u001b[0;34m\u001b[0m\u001b[0m\n",
      "\u001b[0;31mNameError\u001b[0m: name 'grouped_s' is not defined"
     ]
    }
   ],
   "source": [
    "h =performRandomization(D, wssndiff, 'smoke',500,sides=2, nbins = 10) "
   ]
  },
  {
   "cell_type": "markdown",
   "metadata": {},
   "source": [
    "### Question 3 (7 pt)\n",
    "You want to test the directed hypothesis that smoking is associated with a lower birth weight. Again, formulate Null and Alternative hypothesis. Use again a randomization test to see if you have evidence to reject the Null. Written answer: what is your conclusion? "
   ]
  },
  {
   "cell_type": "markdown",
   "metadata": {},
   "source": [
    "Null Hypothesis: Birthweight (smoker) >= Birthweight (non-smoker)\n",
    "Alt. Hypothesis: Birthweight (smoker) < Birthweight (non-smoker)"
   ]
  },
  {
   "cell_type": "code",
   "execution_count": 24,
   "metadata": {},
   "outputs": [
    {
     "name": "stdout",
     "output_type": "stream",
     "text": [
      "0.47160000000000135\n",
      "0.005977200000000165\n"
     ]
    },
    {
     "data": {
      "text/plain": [
       "0.034"
      ]
     },
     "execution_count": 24,
     "metadata": {},
     "output_type": "execute_result"
    },
    {
     "data": {
      "image/png": "[encoded data removed]",
      "text/plain": [
       "<Figure size 432x288 with 1 Axes>"
      ]
     },
     "metadata": {
      "needs_background": "light"
     },
     "output_type": "display_data"
    }
   ],
   "source": [
    "performRandomization(D,calcMeanDiff,'smoke',sides=1)"
   ]
  },
  {
   "cell_type": "markdown",
   "metadata": {},
   "source": [
    "*Figure 6*. Distribution of the differences between mean of birth weight of smoker and non-smoker groups using simulation. "
   ]
  },
  {
   "cell_type": "markdown",
   "metadata": {},
   "source": [
    "> Based on a one-sided test for the directed hypothesis we can reject the hypothesis that the birth weight of babies of smokers have higher or equal birth weight to babies of non-smokers. This means there is likely a real association between smoking and lower birth rate, as this drop (or a larger drop) in weight has only a probability of less than 5% to occurr by chance. "
   ]
  },
  {
   "cell_type": "markdown",
   "metadata": {},
   "source": [
    "## Task 3: Bayesian hypothesis test of smoke-related reduction in birth weight. (35pt)\n",
    "### Question 1 (10pt)\n",
    "Determine and report the approximate standard deviation of the mean difference in birth weight under the Null hypothesis (birth weights for smokers and non-smokers are equal) directly from the samples of the randomization test performed in Question 2 and 3. "
   ]
  },
  {
   "cell_type": "code",
   "execution_count": 12,
   "metadata": {},
   "outputs": [
    {
     "data": {
      "text/plain": [
       "0.24321087995202828"
      ]
     },
     "execution_count": 12,
     "metadata": {},
     "output_type": "execute_result"
    }
   ],
   "source": [
    "def performRandomization(D,fcn,shuffle,numIterations=500,sides=1, nbins = 10):    \n",
    "    listOfTS =  np.array(range(numIterations),dtype = 'float64')\n",
    "    for i in range(numIterations):\n",
    "        #1. Randomly shuffle the data \n",
    "        S=D.copy()                    # Make copy of the data frame\n",
    "        x = np.array(range(len(D.index))) # Make copy of the data frame\n",
    "        np.random.shuffle(x)          # randomly shuffle x - note that this changes x itself! \n",
    "        y = S[shuffle].iloc[x]   # copy the newly reorded values into a new Series  \n",
    "        y = y.reset_index(drop=True)   #reoder the indices \n",
    "        S[shuffle]=y           # Copy back into the data frame\n",
    "        \n",
    "        #2. Calculate test statistics \n",
    "        listOfTS[i] = fcn(S)\n",
    "\n",
    "    # 3. Caluclate the real test statistic \n",
    "    realTS = fcn(D)\n",
    "      \n",
    "    return np.std(listOfTS)\n",
    "\n",
    "performRandomization(D,calcMeanDiff,'smoke',sides=1)"
   ]
  },
  {
   "cell_type": "markdown",
   "metadata": {},
   "source": [
    "### Question 2 (10pt)\n",
    "An average drop of birthweight of 0.5lbs is considered to be clinically significant risk. Use a Bayesian hypothesis test to determine how strong the evidence is that smoking is associated with a clinically significant reduction in birth weight. Based on the standard deviation of the mean difference from the randomization test in Task 2, you decide that it is appropriate to use a normal approximation for the average weight difference, both under the H1 and H0. Further, assume the standard error of the mean difference of 0.25 both for the H1 and the H0. Calculate the probability density for the real mean difference under H1 and H0. Then calculate and report the Bayes Factor of the H1 over the H0. What can you conclude from this result?  "
   ]
  },
  {
   "cell_type": "code",
   "execution_count": 13,
   "metadata": {},
   "outputs": [
    {
     "name": "stdout",
     "output_type": "stream",
     "text": [
      "0.47160000000000135\n",
      "0.31994535585095063\n",
      "0.002218507094123557\n"
     ]
    },
    {
     "data": {
      "text/plain": [
       "0.0069340187427413946"
      ]
     },
     "execution_count": 13,
     "metadata": {},
     "output_type": "execute_result"
    }
   ],
   "source": [
    "se=0.2694 # Standard error of mean difference \n",
    "m=calcMeanDiff(D) #Mean difference\n",
    "print(m)\n",
    "p0 = ss.norm.pdf(-m,0,se) # Probability of data under the H0 (p(Data|H0))\n",
    "print(p0)\n",
    "p1 = ss.norm.pdf(-m,0.5,se) # Probability of the data under the H1 (p(Data|H1))\n",
    "print(p1)\n",
    "BF = p1/p0  # Bayes factor \n",
    "BF"
   ]
  },
  {
   "cell_type": "markdown",
   "metadata": {},
   "source": [
    "> The Bayes factor of 4.602 indicates positive (but not strong) evidence that smoking is associated with a reduction of birth weight of 0.5kg. "
   ]
  },
  {
   "cell_type": "markdown",
   "metadata": {},
   "source": [
    "### Question 3 (7pt)\n",
    "What is the posterior probability of the H1, assuming that a-priori you had the belief that there was a 70% chance that smoking may reduce the birth weight by 0.5lb.  Use the results from task 3 question 2. Show clearly the formula used to calculate the posterior probability. Written answer: What is the meaning of this posterior probability? How does the meaning differ from the p-value calculated under Task 2, Question 3? "
   ]
  },
  {
   "cell_type": "code",
   "execution_count": 14,
   "metadata": {},
   "outputs": [
    {
     "data": {
      "text/plain": [
       "0.015921772702280925"
      ]
     },
     "execution_count": 14,
     "metadata": {},
     "output_type": "execute_result"
    }
   ],
   "source": [
    "prior1 = 0.7 \n",
    "prior0 = 0.3 \n",
    "posterior1 = prior1*p1/(prior1*p1+prior0*p0)\n",
    "posterior1"
   ]
  },
  {
   "cell_type": "markdown",
   "metadata": {},
   "source": [
    "> The posterior probability of the hypothesis that smoking is associated with a 0.5lb reduction in birthweight is 91.48%. In general, the  posterior probability is p(H1|data). Specifically, it measures our subjective belief that the H1 (rather than H0) is true, based on the fact that our prior belief (before seeing this data) was 70%. Thus, the evidence has increased our confidence in the H1 by 12%. \n",
    "\n",
    "> In contrast, the p-value is the probability that we had rejected the H0, assuming the H0 is true - p(reject H0|H0). While low p-values can be taken as a sign of evidence that the H1 may be true, they do NOT indicate anything about the probability of the H1 being true. "
   ]
  },
  {
   "cell_type": "markdown",
   "metadata": {},
   "source": [
    "### Question 4 (8pt)\n",
    "A news outlet picks up your result, saying that \"the study shows that smoking among US women causes an average decrease in birth weight of 0.4lbs.\" Can you draw this conclusion from the data? What are two possible problems with such claim?"
   ]
  },
  {
   "cell_type": "markdown",
   "metadata": {},
   "source": [
    "> The first problem that the the newspaper claims that the results holds for US women in general. The sample is a random sample from North Carolina, rather than a random sample from the whole US population. Because it is unlikely that the relationship between smoking and birthweight depends on the geographic location (although not impossible!), this is probably the less serious problem. \n",
    "The second problem is that the newspaper makes a causal claim. Because the study is an observational study , other factor such as diet, socio-economic status, stress, etc, may have co-varied with smoking and therefore may have causes some or all of the effect on birth weight. "
   ]
  }
 ],
 "metadata": {
  "kernelspec": {
   "display_name": "Python 3",
   "language": "python",
   "name": "python3"
  },
  "language_info": {
   "codemirror_mode": {
    "name": "ipython",
    "version": 3
   },
   "file_extension": ".py",
   "mimetype": "text/x-python",
   "name": "python",
   "nbconvert_exporter": "python",
   "pygments_lexer": "ipython3",
   "version": "3.8.8"
  }
 },
 "nbformat": 4,
 "nbformat_minor": 1
}

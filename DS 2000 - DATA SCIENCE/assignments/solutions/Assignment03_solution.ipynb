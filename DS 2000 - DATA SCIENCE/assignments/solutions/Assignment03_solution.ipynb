{
 "cells": [
  {
   "cell_type": "markdown",
   "metadata": {
    "collapsed": true
   },
   "source": [
    "# Assignment 3: Bootstrap, confidence intervals & standard errors\n",
    "\n",
    "## Learning Outcomes:\n",
    "In this homework we will look at Estimates, Bootstrap, Confidence intervals, and Standard error.\n",
    "## Dataset \n",
    "The data set run10sample.csv contains data from random sample of 25 runner of the 16923 competitor in the 2012 Cherry blossom run (cherryblossom.org). The variables in the file are: \n",
    "\n",
    "- Place:  Finishing position. Separate positions are provided for each gender.\n",
    "- time: The total run time (in min) \n",
    "- Pace: The listed pace (/mile) for each runner.\n",
    "- Age: Age.\n",
    "- Gender: Gender.\n",
    "- Location: Hometown city. \n",
    "- State: Hometown state \n",
    "- divPlace: Age Division place, also broken up by gender.\n",
    "- divTot: Total number of people in the division (again, also split by gender).\n",
    "\n",
    "The data set run10.csv contains the data from all 16923 competitors, so you can also analyze the whole population. \n",
    "\n",
    "## Preliminaries\n",
    "Set up the environment by importing pandas, numpy, scipy, and matplotlib. Because we are using plots make sure that you configure your notebook such that plots are shown inline (see Assignment 2). "
   ]
  },
  {
   "cell_type": "code",
   "execution_count": 1,
   "metadata": {},
   "outputs": [],
   "source": [
    "import pandas as pd\n",
    "import numpy as np\n",
    "import scipy as ss\n",
    "\n",
    "import matplotlib\n",
    "matplotlib.use('TkAgg')\n",
    "import matplotlib.pyplot as plt \n",
    "%matplotlib inline\n",
    "\n",
    "import seaborn as sns"
   ]
  },
  {
   "cell_type": "markdown",
   "metadata": {},
   "source": [
    "## Task 1: Analyzing a sample from the  population (12pt)\n",
    "In this task you will use the sample of runners that you got. \n",
    "### Question 1 (4pt)\n",
    "What was the mean finishing time in the random sample?"
   ]
  },
  {
   "cell_type": "code",
   "execution_count": 2,
   "metadata": {},
   "outputs": [
    {
     "data": {
      "text/html": [
       "<div>\n",
       "<style scoped>\n",
       "    .dataframe tbody tr th:only-of-type {\n",
       "        vertical-align: middle;\n",
       "    }\n",
       "\n",
       "    .dataframe tbody tr th {\n",
       "        vertical-align: top;\n",
       "    }\n",
       "\n",
       "    .dataframe thead th {\n",
       "        text-align: right;\n",
       "    }\n",
       "</style>\n",
       "<table border=\"1\" class=\"dataframe\">\n",
       "  <thead>\n",
       "    <tr style=\"text-align: right;\">\n",
       "      <th></th>\n",
       "      <th>Unnamed: 0</th>\n",
       "      <th>Unnamed: 0.1</th>\n",
       "      <th>place</th>\n",
       "      <th>time</th>\n",
       "      <th>pace</th>\n",
       "      <th>age</th>\n",
       "      <th>gender</th>\n",
       "      <th>location</th>\n",
       "      <th>state</th>\n",
       "      <th>divPlace</th>\n",
       "      <th>divTot</th>\n",
       "    </tr>\n",
       "  </thead>\n",
       "  <tbody>\n",
       "    <tr>\n",
       "      <th>0</th>\n",
       "      <td>0</td>\n",
       "      <td>0</td>\n",
       "      <td>4494</td>\n",
       "      <td>92.25</td>\n",
       "      <td>9.225</td>\n",
       "      <td>38.0</td>\n",
       "      <td>M</td>\n",
       "      <td>Chesapeake Beach MD</td>\n",
       "      <td>MD</td>\n",
       "      <td>690.0</td>\n",
       "      <td>1093.0</td>\n",
       "    </tr>\n",
       "    <tr>\n",
       "      <th>1</th>\n",
       "      <td>1</td>\n",
       "      <td>1</td>\n",
       "      <td>6298</td>\n",
       "      <td>106.35</td>\n",
       "      <td>10.635</td>\n",
       "      <td>33.0</td>\n",
       "      <td>M</td>\n",
       "      <td>Washington DC</td>\n",
       "      <td>DC</td>\n",
       "      <td>1322.0</td>\n",
       "      <td>1490.0</td>\n",
       "    </tr>\n",
       "    <tr>\n",
       "      <th>2</th>\n",
       "      <td>2</td>\n",
       "      <td>2</td>\n",
       "      <td>2502</td>\n",
       "      <td>89.33</td>\n",
       "      <td>8.933</td>\n",
       "      <td>55.0</td>\n",
       "      <td>F</td>\n",
       "      <td>McLean VA</td>\n",
       "      <td>VA</td>\n",
       "      <td>37.0</td>\n",
       "      <td>236.0</td>\n",
       "    </tr>\n",
       "    <tr>\n",
       "      <th>3</th>\n",
       "      <td>3</td>\n",
       "      <td>3</td>\n",
       "      <td>8176</td>\n",
       "      <td>113.50</td>\n",
       "      <td>11.350</td>\n",
       "      <td>24.0</td>\n",
       "      <td>F</td>\n",
       "      <td>Alexandria VA</td>\n",
       "      <td>VA</td>\n",
       "      <td>878.0</td>\n",
       "      <td>974.0</td>\n",
       "    </tr>\n",
       "    <tr>\n",
       "      <th>4</th>\n",
       "      <td>4</td>\n",
       "      <td>4</td>\n",
       "      <td>3413</td>\n",
       "      <td>86.52</td>\n",
       "      <td>8.652</td>\n",
       "      <td>54.0</td>\n",
       "      <td>M</td>\n",
       "      <td>San Francisco CA</td>\n",
       "      <td>CA</td>\n",
       "      <td>213.0</td>\n",
       "      <td>483.0</td>\n",
       "    </tr>\n",
       "    <tr>\n",
       "      <th>5</th>\n",
       "      <td>5</td>\n",
       "      <td>5</td>\n",
       "      <td>8008</td>\n",
       "      <td>112.30</td>\n",
       "      <td>11.230</td>\n",
       "      <td>42.0</td>\n",
       "      <td>F</td>\n",
       "      <td>Chevy Chase MD</td>\n",
       "      <td>MD</td>\n",
       "      <td>785.0</td>\n",
       "      <td>974.0</td>\n",
       "    </tr>\n",
       "    <tr>\n",
       "      <th>6</th>\n",
       "      <td>6</td>\n",
       "      <td>6</td>\n",
       "      <td>8791</td>\n",
       "      <td>118.45</td>\n",
       "      <td>11.845</td>\n",
       "      <td>36.0</td>\n",
       "      <td>F</td>\n",
       "      <td>Fairfax VA</td>\n",
       "      <td>VA</td>\n",
       "      <td>1215.0</td>\n",
       "      <td>1367.0</td>\n",
       "    </tr>\n",
       "    <tr>\n",
       "      <th>7</th>\n",
       "      <td>7</td>\n",
       "      <td>7</td>\n",
       "      <td>3987</td>\n",
       "      <td>95.17</td>\n",
       "      <td>9.517</td>\n",
       "      <td>25.0</td>\n",
       "      <td>F</td>\n",
       "      <td>Arlington VA</td>\n",
       "      <td>VA</td>\n",
       "      <td>1230.0</td>\n",
       "      <td>2782.0</td>\n",
       "    </tr>\n",
       "    <tr>\n",
       "      <th>8</th>\n",
       "      <td>8</td>\n",
       "      <td>8</td>\n",
       "      <td>3451</td>\n",
       "      <td>93.25</td>\n",
       "      <td>9.325</td>\n",
       "      <td>25.0</td>\n",
       "      <td>F</td>\n",
       "      <td>Philadelphia PA</td>\n",
       "      <td>PA</td>\n",
       "      <td>1074.0</td>\n",
       "      <td>2782.0</td>\n",
       "    </tr>\n",
       "    <tr>\n",
       "      <th>9</th>\n",
       "      <td>9</td>\n",
       "      <td>9</td>\n",
       "      <td>1046</td>\n",
       "      <td>72.37</td>\n",
       "      <td>7.237</td>\n",
       "      <td>43.0</td>\n",
       "      <td>M</td>\n",
       "      <td>Pasadena MD</td>\n",
       "      <td>MD</td>\n",
       "      <td>111.0</td>\n",
       "      <td>931.0</td>\n",
       "    </tr>\n",
       "    <tr>\n",
       "      <th>10</th>\n",
       "      <td>10</td>\n",
       "      <td>10</td>\n",
       "      <td>3484</td>\n",
       "      <td>86.90</td>\n",
       "      <td>8.690</td>\n",
       "      <td>55.0</td>\n",
       "      <td>M</td>\n",
       "      <td>Falls Church VA</td>\n",
       "      <td>VA</td>\n",
       "      <td>138.0</td>\n",
       "      <td>375.0</td>\n",
       "    </tr>\n",
       "    <tr>\n",
       "      <th>11</th>\n",
       "      <td>11</td>\n",
       "      <td>11</td>\n",
       "      <td>2987</td>\n",
       "      <td>84.47</td>\n",
       "      <td>8.447</td>\n",
       "      <td>30.0</td>\n",
       "      <td>M</td>\n",
       "      <td>Potomac MD</td>\n",
       "      <td>MD</td>\n",
       "      <td>659.0</td>\n",
       "      <td>1490.0</td>\n",
       "    </tr>\n",
       "    <tr>\n",
       "      <th>12</th>\n",
       "      <td>12</td>\n",
       "      <td>12</td>\n",
       "      <td>4427</td>\n",
       "      <td>96.65</td>\n",
       "      <td>9.665</td>\n",
       "      <td>39.0</td>\n",
       "      <td>F</td>\n",
       "      <td>Walnut CA</td>\n",
       "      <td>CA</td>\n",
       "      <td>587.0</td>\n",
       "      <td>1367.0</td>\n",
       "    </tr>\n",
       "    <tr>\n",
       "      <th>13</th>\n",
       "      <td>13</td>\n",
       "      <td>13</td>\n",
       "      <td>6496</td>\n",
       "      <td>108.93</td>\n",
       "      <td>10.893</td>\n",
       "      <td>40.0</td>\n",
       "      <td>M</td>\n",
       "      <td>Springfield VA</td>\n",
       "      <td>VA</td>\n",
       "      <td>846.0</td>\n",
       "      <td>931.0</td>\n",
       "    </tr>\n",
       "    <tr>\n",
       "      <th>14</th>\n",
       "      <td>14</td>\n",
       "      <td>14</td>\n",
       "      <td>5827</td>\n",
       "      <td>101.58</td>\n",
       "      <td>10.158</td>\n",
       "      <td>30.0</td>\n",
       "      <td>F</td>\n",
       "      <td>Washington DC</td>\n",
       "      <td>DC</td>\n",
       "      <td>1297.0</td>\n",
       "      <td>2228.0</td>\n",
       "    </tr>\n",
       "    <tr>\n",
       "      <th>15</th>\n",
       "      <td>15</td>\n",
       "      <td>15</td>\n",
       "      <td>1224</td>\n",
       "      <td>82.78</td>\n",
       "      <td>8.278</td>\n",
       "      <td>24.0</td>\n",
       "      <td>F</td>\n",
       "      <td>Arlington VA</td>\n",
       "      <td>VA</td>\n",
       "      <td>164.0</td>\n",
       "      <td>974.0</td>\n",
       "    </tr>\n",
       "    <tr>\n",
       "      <th>16</th>\n",
       "      <td>16</td>\n",
       "      <td>16</td>\n",
       "      <td>4942</td>\n",
       "      <td>98.32</td>\n",
       "      <td>9.832</td>\n",
       "      <td>45.0</td>\n",
       "      <td>F</td>\n",
       "      <td>Potomac MD</td>\n",
       "      <td>MD</td>\n",
       "      <td>255.0</td>\n",
       "      <td>554.0</td>\n",
       "    </tr>\n",
       "    <tr>\n",
       "      <th>17</th>\n",
       "      <td>17</td>\n",
       "      <td>17</td>\n",
       "      <td>9579</td>\n",
       "      <td>134.18</td>\n",
       "      <td>13.418</td>\n",
       "      <td>33.0</td>\n",
       "      <td>F</td>\n",
       "      <td>Sterling VA</td>\n",
       "      <td>VA</td>\n",
       "      <td>2189.0</td>\n",
       "      <td>2228.0</td>\n",
       "    </tr>\n",
       "    <tr>\n",
       "      <th>18</th>\n",
       "      <td>18</td>\n",
       "      <td>18</td>\n",
       "      <td>6425</td>\n",
       "      <td>107.98</td>\n",
       "      <td>10.798</td>\n",
       "      <td>41.0</td>\n",
       "      <td>M</td>\n",
       "      <td>Arlington VA</td>\n",
       "      <td>VA</td>\n",
       "      <td>831.0</td>\n",
       "      <td>931.0</td>\n",
       "    </tr>\n",
       "    <tr>\n",
       "      <th>19</th>\n",
       "      <td>19</td>\n",
       "      <td>19</td>\n",
       "      <td>5951</td>\n",
       "      <td>102.08</td>\n",
       "      <td>10.208</td>\n",
       "      <td>36.0</td>\n",
       "      <td>F</td>\n",
       "      <td>Alexandria VA</td>\n",
       "      <td>VA</td>\n",
       "      <td>809.0</td>\n",
       "      <td>1367.0</td>\n",
       "    </tr>\n",
       "    <tr>\n",
       "      <th>20</th>\n",
       "      <td>20</td>\n",
       "      <td>20</td>\n",
       "      <td>8609</td>\n",
       "      <td>116.78</td>\n",
       "      <td>11.678</td>\n",
       "      <td>38.0</td>\n",
       "      <td>F</td>\n",
       "      <td>Edison NJ</td>\n",
       "      <td>NJ</td>\n",
       "      <td>1189.0</td>\n",
       "      <td>1367.0</td>\n",
       "    </tr>\n",
       "    <tr>\n",
       "      <th>21</th>\n",
       "      <td>21</td>\n",
       "      <td>21</td>\n",
       "      <td>3586</td>\n",
       "      <td>87.42</td>\n",
       "      <td>8.742</td>\n",
       "      <td>45.0</td>\n",
       "      <td>M</td>\n",
       "      <td>Branchville NJ</td>\n",
       "      <td>NJ</td>\n",
       "      <td>314.0</td>\n",
       "      <td>648.0</td>\n",
       "    </tr>\n",
       "    <tr>\n",
       "      <th>22</th>\n",
       "      <td>22</td>\n",
       "      <td>22</td>\n",
       "      <td>3823</td>\n",
       "      <td>94.58</td>\n",
       "      <td>9.458</td>\n",
       "      <td>35.0</td>\n",
       "      <td>F</td>\n",
       "      <td>New Market MD</td>\n",
       "      <td>MD</td>\n",
       "      <td>517.0</td>\n",
       "      <td>1367.0</td>\n",
       "    </tr>\n",
       "    <tr>\n",
       "      <th>23</th>\n",
       "      <td>23</td>\n",
       "      <td>23</td>\n",
       "      <td>2123</td>\n",
       "      <td>79.25</td>\n",
       "      <td>7.925</td>\n",
       "      <td>37.0</td>\n",
       "      <td>M</td>\n",
       "      <td>McLean VA</td>\n",
       "      <td>VA</td>\n",
       "      <td>307.0</td>\n",
       "      <td>1093.0</td>\n",
       "    </tr>\n",
       "    <tr>\n",
       "      <th>24</th>\n",
       "      <td>24</td>\n",
       "      <td>24</td>\n",
       "      <td>4517</td>\n",
       "      <td>92.37</td>\n",
       "      <td>9.237</td>\n",
       "      <td>23.0</td>\n",
       "      <td>M</td>\n",
       "      <td>Washington DC</td>\n",
       "      <td>DC</td>\n",
       "      <td>229.0</td>\n",
       "      <td>347.0</td>\n",
       "    </tr>\n",
       "  </tbody>\n",
       "</table>\n",
       "</div>"
      ],
      "text/plain": [
       "    Unnamed: 0  Unnamed: 0.1  place    time    pace   age gender  \\\n",
       "0            0             0   4494   92.25   9.225  38.0      M   \n",
       "1            1             1   6298  106.35  10.635  33.0      M   \n",
       "2            2             2   2502   89.33   8.933  55.0      F   \n",
       "3            3             3   8176  113.50  11.350  24.0      F   \n",
       "4            4             4   3413   86.52   8.652  54.0      M   \n",
       "5            5             5   8008  112.30  11.230  42.0      F   \n",
       "6            6             6   8791  118.45  11.845  36.0      F   \n",
       "7            7             7   3987   95.17   9.517  25.0      F   \n",
       "8            8             8   3451   93.25   9.325  25.0      F   \n",
       "9            9             9   1046   72.37   7.237  43.0      M   \n",
       "10          10            10   3484   86.90   8.690  55.0      M   \n",
       "11          11            11   2987   84.47   8.447  30.0      M   \n",
       "12          12            12   4427   96.65   9.665  39.0      F   \n",
       "13          13            13   6496  108.93  10.893  40.0      M   \n",
       "14          14            14   5827  101.58  10.158  30.0      F   \n",
       "15          15            15   1224   82.78   8.278  24.0      F   \n",
       "16          16            16   4942   98.32   9.832  45.0      F   \n",
       "17          17            17   9579  134.18  13.418  33.0      F   \n",
       "18          18            18   6425  107.98  10.798  41.0      M   \n",
       "19          19            19   5951  102.08  10.208  36.0      F   \n",
       "20          20            20   8609  116.78  11.678  38.0      F   \n",
       "21          21            21   3586   87.42   8.742  45.0      M   \n",
       "22          22            22   3823   94.58   9.458  35.0      F   \n",
       "23          23            23   2123   79.25   7.925  37.0      M   \n",
       "24          24            24   4517   92.37   9.237  23.0      M   \n",
       "\n",
       "               location state  divPlace  divTot  \n",
       "0   Chesapeake Beach MD    MD     690.0  1093.0  \n",
       "1         Washington DC    DC    1322.0  1490.0  \n",
       "2             McLean VA    VA      37.0   236.0  \n",
       "3         Alexandria VA    VA     878.0   974.0  \n",
       "4      San Francisco CA    CA     213.0   483.0  \n",
       "5        Chevy Chase MD    MD     785.0   974.0  \n",
       "6            Fairfax VA    VA    1215.0  1367.0  \n",
       "7          Arlington VA    VA    1230.0  2782.0  \n",
       "8       Philadelphia PA    PA    1074.0  2782.0  \n",
       "9           Pasadena MD    MD     111.0   931.0  \n",
       "10      Falls Church VA    VA     138.0   375.0  \n",
       "11           Potomac MD    MD     659.0  1490.0  \n",
       "12            Walnut CA    CA     587.0  1367.0  \n",
       "13       Springfield VA    VA     846.0   931.0  \n",
       "14        Washington DC    DC    1297.0  2228.0  \n",
       "15         Arlington VA    VA     164.0   974.0  \n",
       "16           Potomac MD    MD     255.0   554.0  \n",
       "17          Sterling VA    VA    2189.0  2228.0  \n",
       "18         Arlington VA    VA     831.0   931.0  \n",
       "19        Alexandria VA    VA     809.0  1367.0  \n",
       "20            Edison NJ    NJ    1189.0  1367.0  \n",
       "21       Branchville NJ    NJ     314.0   648.0  \n",
       "22        New Market MD    MD     517.0  1367.0  \n",
       "23            McLean VA    VA     307.0  1093.0  \n",
       "24        Washington DC    DC     229.0   347.0  "
      ]
     },
     "execution_count": 2,
     "metadata": {},
     "output_type": "execute_result"
    }
   ],
   "source": [
    "dfSample = pd.read_csv('run10sample.csv')\n",
    "dfSample"
   ]
  },
  {
   "cell_type": "code",
   "execution_count": 3,
   "metadata": {},
   "outputs": [
    {
     "data": {
      "text/plain": [
       "98.1504"
      ]
     },
     "execution_count": 3,
     "metadata": {},
     "output_type": "execute_result"
    }
   ],
   "source": [
    "dfSample['time'].mean()"
   ]
  },
  {
   "cell_type": "markdown",
   "metadata": {},
   "source": [
    "### Question 2 (4pt)\n",
    "What is the number of men and women in your sample (tip: use groupby and size or count)?"
   ]
  },
  {
   "cell_type": "code",
   "execution_count": 4,
   "metadata": {},
   "outputs": [
    {
     "data": {
      "text/html": [
       "<div>\n",
       "<style scoped>\n",
       "    .dataframe tbody tr th:only-of-type {\n",
       "        vertical-align: middle;\n",
       "    }\n",
       "\n",
       "    .dataframe tbody tr th {\n",
       "        vertical-align: top;\n",
       "    }\n",
       "\n",
       "    .dataframe thead th {\n",
       "        text-align: right;\n",
       "    }\n",
       "</style>\n",
       "<table border=\"1\" class=\"dataframe\">\n",
       "  <thead>\n",
       "    <tr style=\"text-align: right;\">\n",
       "      <th></th>\n",
       "      <th>Unnamed: 0</th>\n",
       "      <th>Unnamed: 0.1</th>\n",
       "      <th>place</th>\n",
       "      <th>time</th>\n",
       "      <th>pace</th>\n",
       "      <th>age</th>\n",
       "      <th>location</th>\n",
       "      <th>state</th>\n",
       "      <th>divPlace</th>\n",
       "      <th>divTot</th>\n",
       "    </tr>\n",
       "    <tr>\n",
       "      <th>gender</th>\n",
       "      <th></th>\n",
       "      <th></th>\n",
       "      <th></th>\n",
       "      <th></th>\n",
       "      <th></th>\n",
       "      <th></th>\n",
       "      <th></th>\n",
       "      <th></th>\n",
       "      <th></th>\n",
       "      <th></th>\n",
       "    </tr>\n",
       "  </thead>\n",
       "  <tbody>\n",
       "    <tr>\n",
       "      <th>F</th>\n",
       "      <td>14</td>\n",
       "      <td>14</td>\n",
       "      <td>14</td>\n",
       "      <td>14</td>\n",
       "      <td>14</td>\n",
       "      <td>14</td>\n",
       "      <td>14</td>\n",
       "      <td>14</td>\n",
       "      <td>14</td>\n",
       "      <td>14</td>\n",
       "    </tr>\n",
       "    <tr>\n",
       "      <th>M</th>\n",
       "      <td>11</td>\n",
       "      <td>11</td>\n",
       "      <td>11</td>\n",
       "      <td>11</td>\n",
       "      <td>11</td>\n",
       "      <td>11</td>\n",
       "      <td>11</td>\n",
       "      <td>11</td>\n",
       "      <td>11</td>\n",
       "      <td>11</td>\n",
       "    </tr>\n",
       "  </tbody>\n",
       "</table>\n",
       "</div>"
      ],
      "text/plain": [
       "        Unnamed: 0  Unnamed: 0.1  place  time  pace  age  location  state  \\\n",
       "gender                                                                      \n",
       "F               14            14     14    14    14   14        14     14   \n",
       "M               11            11     11    11    11   11        11     11   \n",
       "\n",
       "        divPlace  divTot  \n",
       "gender                    \n",
       "F             14      14  \n",
       "M             11      11  "
      ]
     },
     "execution_count": 4,
     "metadata": {},
     "output_type": "execute_result"
    }
   ],
   "source": [
    "groupedGenderS = dfSample.groupby(dfSample['gender']).count()\n",
    "groupedGenderS\n",
    "# alternatively, you could use size instead of count\n",
    "#groupedGenderS = dfSample.groupby(dfSample['gender'].size())"
   ]
  },
  {
   "cell_type": "markdown",
   "metadata": {},
   "source": [
    "### Question 3 (4pt)\n",
    "What was the mean finishing time when you split the sample up by gender (see Homework 2, task 4)? "
   ]
  },
  {
   "cell_type": "code",
   "execution_count": 5,
   "metadata": {},
   "outputs": [
    {
     "data": {
      "text/plain": [
       "gender\n",
       "F    103.496429\n",
       "M     91.346364\n",
       "Name: time, dtype: float64"
      ]
     },
     "execution_count": 5,
     "metadata": {},
     "output_type": "execute_result"
    }
   ],
   "source": [
    "meanFTimeSample = dfSample['time'].groupby(dfSample['gender']).mean()\n",
    "meanFTimeSample"
   ]
  },
  {
   "cell_type": "markdown",
   "metadata": {},
   "source": [
    "## Task 2: Resampling from the population (47 Points)\n",
    "In this task you will have access to the data from the whole population to determine how much confidence you should have in the numbers you obained in Task 1.The dataset run10.csv contain the total population of 16923 competitors in the 2012 Cherry blossom run (cherryblossom.org). Having the whole population gives us the opportunity to check how good our sample estimate is. \n",
    "\n",
    "### Question 1 (10pt)\n",
    "\n",
    "What is the mean finishing time in the whole population of runners? Written answer: How much does it differ from the mean finishing time of the sample analyzed in Task 1? Can this difference be explained by the fact that our sample differs from the population in terms of gender distribution? How about age? Knowing these differences, how could we have improved our estimate?"
   ]
  },
  {
   "cell_type": "code",
   "execution_count": 6,
   "metadata": {},
   "outputs": [
    {
     "name": "stdout",
     "output_type": "stream",
     "text": [
      "the mean finishing time of the population was 94.516\n"
     ]
    }
   ],
   "source": [
    "df = pd.read_csv('run10.csv')\n",
    "meanFTime = df['time'].mean()\n",
    "print('the mean finishing time of the population was %.3f' % meanFTime)"
   ]
  },
  {
   "cell_type": "code",
   "execution_count": 7,
   "metadata": {},
   "outputs": [],
   "source": [
    "dfByGenderP = df['time'].groupby(df['gender'])\n",
    "dfByGenderS = dfSample['time'].groupby(dfSample['gender'])"
   ]
  },
  {
   "cell_type": "code",
   "execution_count": 8,
   "metadata": {},
   "outputs": [
    {
     "name": "stdout",
     "output_type": "stream",
     "text": [
      "********** total number of male and female runners in the population **********\n",
      "gender\n",
      "F    9732\n",
      "M    7191\n",
      "Name: time, dtype: int64 \n",
      "\n",
      "********** total number of male and female runners in the sample **********\n",
      "gender\n",
      "F    14\n",
      "M    11\n",
      "Name: time, dtype: int64 \n",
      "\n",
      "The total number of runners in the population is 16923\n",
      "The total number of runners in the sample is 25 \n",
      "\n",
      "\n",
      "The female ratio in the population is 0.5751\n",
      "The female ratio in the sample is 0.5600\n",
      "\n",
      "\n",
      "the mean age of the runners in the population is 35.521\n",
      "the mean age of the runners in the sample is 37.040\n"
     ]
    }
   ],
   "source": [
    "# to see whether the difference can be explained by the differences in gender distribution between the sample\n",
    "# and the population, we will calculate the proportion of male and female runners\n",
    "dfByGenderP = df['time'].groupby(df['gender'])\n",
    "dfByGenderS = dfSample['time'].groupby(dfSample['gender'])\n",
    "print('********** total number of male and female runners in the population **********')\n",
    "print(dfByGenderP.count(), '\\n')\n",
    "print('********** total number of male and female runners in the sample **********')\n",
    "print(dfByGenderS.count(), '\\n')\n",
    "\n",
    "## calculating the total number of runners in the population and the sample\n",
    "### Alternatively, you could just calculate the ratio of the female runners in both the population and the sample\n",
    "### by using the outputs of the groupby (as printed in the output)\n",
    "totalNP = (dfByGenderP.get_group('F').count()) + (dfByGenderP.get_group('M').count())\n",
    "totalNS = (dfByGenderS.get_group('F').count()) + (dfByGenderS.get_group('M').count())\n",
    "print('The total number of runners in the population is %s' % totalNP)\n",
    "print('The total number of runners in the sample is %s \\n\\n' % totalNS)\n",
    "\n",
    "## calculating female and male proportions in the population and the sample\n",
    "### population\n",
    "fRatioP = (dfByGenderP.get_group('F').count())/totalNP\n",
    "print('The female ratio in the population is %.4f' % fRatioP)\n",
    "\n",
    "### sample\n",
    "fRatioS = (dfByGenderS.get_group('F').count())/totalNS\n",
    "print('The female ratio in the sample is %.4f\\n\\n' % fRatioS)\n",
    "\n",
    "\n",
    "# to see whether the difference can be explained by the differences in age distribution between the sample\n",
    "# and the population, we will calculate the mean age for the population and the sample\n",
    "print('the mean age of the runners in the population is %.3f' % df['age'].mean())\n",
    "print('the mean age of the runners in the sample is %.3f' % dfSample['age'].mean())"
   ]
  },
  {
   "cell_type": "markdown",
   "metadata": {},
   "source": [
    "> The mean finishing time of the population and the sample are 94.516 and 98.1504, respectively. So the mean finishing time of the sample is ~3.63 higher that that of the population. We can see that the proportion of women in the population and the sample are roughly the same. On the other hand, the mean age of runners in the sample is about 1.52 years higher than that of the population. So we can conclude that the differences in the age distribution can explain the difference between the mean finishing times of the sample and the population, since older people tend to run slower. To improve the estimates, we probably should have used a stratifed sample to make the gender distribution and the age distribution equal to the population."
   ]
  },
  {
   "cell_type": "markdown",
   "metadata": {},
   "source": [
    "### Question 2 (10pt)\n",
    "Write a function **bootstrap**, which takes a data series (data) as an input and then performs a bootstrap. The function should take numIter samples from the data (with replacement) of size N. It should then calculate the statistics defined in fcn for each iteration and record it in a numpy-array, which it should then return.\n",
    "\n",
    "Input arguments \n",
    "- data: data series to resample\n",
    "- N: Sample size for each iteration \n",
    "- fcn: function to apply to the sample to get the statistics\n",
    "- numIter: Number of resamples (should default to 1000) \n",
    "\n",
    "Output argument: \n",
    "- Numpy array of size numIter that contains the estimates of the statistics\n"
   ]
  },
  {
   "cell_type": "code",
   "execution_count": 9,
   "metadata": {},
   "outputs": [],
   "source": [
    "def bootstrap(data, N, fcn, numIter = 1000):\n",
    "    it = 0 ## setting the iteration variable to zero. It will be increased each time a loop is executed\n",
    "    stats = np.array(range(numIter), dtype = 'float64') ## initializing the stats array (the function output)\n",
    "    while it < numIter:\n",
    "        sample = np.random.choice(data, size = N, replace = True) ## Generates a random sample from a given 1-D array \n",
    "        stats[it] = fcn(sample)  \n",
    "        it = it + 1\n",
    "    return stats\n",
    "\n",
    "# alternatively, using a for loop, the function would look like this:\n",
    "#def bootstrap(data,N,fcn,numIter=1000):\n",
    "#    stats = np.array(range(numIter),dtype = 'float64')\n",
    "#    for i in range(numIter):\n",
    "#        sample=np.random.choice(data,N)\n",
    "#        stats[i]=fcn(sample)\n",
    "#    return stats"
   ]
  },
  {
   "cell_type": "markdown",
   "metadata": {},
   "source": [
    "### Question 3 (8pt)\n",
    "Call the resample (bootstrap) function from Question 2 with time from the whole population as the data series, mean as the statistic, and a sample size of 25. Plot a histogram of the samples – make sure your x-axis and y-axis are labeled. Report the mean and the standard deviation of the resampled estimates. "
   ]
  },
  {
   "cell_type": "code",
   "execution_count": 10,
   "metadata": {},
   "outputs": [
    {
     "name": "stdout",
     "output_type": "stream",
     "text": [
      "the mean of the sample distribution is 94.471\n",
      "\n",
      "the standard deviation of the sample distribution is 3.174\n"
     ]
    },
    {
     "name": "stderr",
     "output_type": "stream",
     "text": [
      "C:\\Users\\ladan\\Anaconda3\\lib\\site-packages\\scipy\\stats\\stats.py:1713: FutureWarning: Using a non-tuple sequence for multidimensional indexing is deprecated; use `arr[tuple(seq)]` instead of `arr[seq]`. In the future this will be interpreted as an array index, `arr[np.array(seq)]`, which will result either in an error or a different result.\n",
      "  return np.add.reduce(sorted[indexer] * weights, axis=axis) / sumval\n"
     ]
    },
    {
     "data": {
      "image/png": "[encoded data removed]",
      "text/plain": [
       "<Figure size 432x288 with 1 Axes>"
      ]
     },
     "metadata": {
      "needs_background": "light"
     },
     "output_type": "display_data"
    }
   ],
   "source": [
    "# setting the input values to the bootstrap function\n",
    "fTime = df['time'] ## the data array\n",
    "N     = 25         ## the sample size\n",
    "fcn   = np.mean    ## the function that will return the stats needed\n",
    "\n",
    "statDist = bootstrap(fTime, N, fcn, numIter = 10000)\n",
    "\n",
    "# plotting the histogram using seaborn\n",
    "fig = plt.figure()\n",
    "sns.distplot(statDist)\n",
    "plt.xlabel('time')\n",
    "plt.ylabel('count')\n",
    "# alternatively, you could use pyplot's hist method\n",
    "#fig = plt.figure()\n",
    "#plt.hist(statDist)\n",
    "#plt.xlabel('time')\n",
    "#plt.ylabel('count')\n",
    "\n",
    "# calculate the mean and standard deviation of the distribution\n",
    "print('the mean of the sample distribution is %.3f\\n' % statDist.mean())\n",
    "print('the standard deviation of the sample distribution is %.3f' % statDist.std())"
   ]
  },
  {
   "cell_type": "markdown",
   "metadata": {},
   "source": [
    "*Figure 1.* The histogram showing the mean distribution calculated using bootstraping"
   ]
  },
  {
   "cell_type": "markdown",
   "metadata": {},
   "source": [
    "### Question 4 (8pt)\n",
    "Call your bootstrap function again as in question 3, this time increasing the sample size first to 50, and then to 100. Which of the values (mean, standard deviation) of the means distribution changes most and why? "
   ]
  },
  {
   "cell_type": "code",
   "execution_count": 11,
   "metadata": {},
   "outputs": [
    {
     "name": "stdout",
     "output_type": "stream",
     "text": [
      "The mean of the mean distribution using sample size of 50 is 94.383\n",
      "The std of the mean distribution using sample size of 50 is 2.260\n",
      "\n",
      "\n",
      "The mean of the mean distribution using sample size of 100 is 94.465\n",
      "The std of the mean distribution using sample size of 100 is 1.586\n"
     ]
    }
   ],
   "source": [
    "# calculating the mean of the distribution using sample size of 50\n",
    "statDist50 = bootstrap(fTime, 50, fcn, numIter = 1000)\n",
    "statMean50 = statDist50.mean()\n",
    "statStd50  = statDist50.std()\n",
    "print('The mean of the mean distribution using sample size of 50 is %.3f' % statMean50)\n",
    "print('The std of the mean distribution using sample size of 50 is %.3f\\n\\n' % statStd50)\n",
    "\n",
    "# calculating the mean of the distribution using sample size of 100\n",
    "statDist100 = bootstrap(fTime, 100, fcn, numIter = 1000)\n",
    "statMean100 = statDist100.mean()\n",
    "statStd100  = statDist100.std()\n",
    "print('The mean of the mean distribution using sample size of 100 is %.3f' % statMean100)\n",
    "print('The std of the mean distribution using sample size of 100 is %.3f' % statStd100)"
   ]
  },
  {
   "cell_type": "markdown",
   "metadata": {},
   "source": [
    "> The mean of the distribution stays roughly the same (close to the population mean). However, the standard deviation decreases as we increase the sample size. That's because by increasing the sample size, we are including more data points in out estimates, hence the standard deviation of the stat decreases."
   ]
  },
  {
   "cell_type": "markdown",
   "metadata": {
    "collapsed": true
   },
   "source": [
    "### Question 5 (6pt)\n",
    "Calculate the predicted standard error of the mean from the population standard deviation and the same size for  N=25, N=50, and N=100. Write a line of code for each sample size that prints the answer in a full sentence. Written answer: Do these match up with the SEMs that you got from question 4? "
   ]
  },
  {
   "cell_type": "code",
   "execution_count": 12,
   "metadata": {},
   "outputs": [
    {
     "name": "stdout",
     "output_type": "stream",
     "text": [
      "The predicted SEM for N=25 samples is 3.1844251740179077\n",
      "The predicted SEM for N=50 samples is 2.251728634729214\n",
      "The predicted SEM for N=100 samples is 1.5922125870089539\n"
     ]
    }
   ],
   "source": [
    "print('The predicted SEM for N=25 samples is', df['time'].std()/np.sqrt(25))\n",
    "print('The predicted SEM for N=50 samples is', df['time'].std()/np.sqrt(50))\n",
    "print('The predicted SEM for N=100 samples is', df['time'].std()/np.sqrt(100))"
   ]
  },
  {
   "cell_type": "markdown",
   "metadata": {},
   "source": [
    "> The predicted SEMs very tightly match the empricial ones. "
   ]
  },
  {
   "cell_type": "markdown",
   "metadata": {},
   "source": [
    "## Task 3: Calculating confidence intervals (24pt) \n",
    "### Question 1 (8pt)\n",
    "Write a function (confidenceInt) that determines a confidence interval for a data series. \t\n",
    "\n",
    "Input arguments \n",
    "- data: Sample of estimates – usually this is output from “bootstrap” (resample function from task 3 Q2)\n",
    "- prec: What Confidence interval in percept? 95= 95% confidence interval <br/>\n",
    "Output argument: \n",
    "- A list with 2 values: the lower and upper bound of the interval. \n",
    "\n",
    "Tip: Use np.percentile to get a specific percentile of the data. The lower bound of a 95% confidence interval is the (100-95)/2=2.5 percentile. "
   ]
  },
  {
   "cell_type": "code",
   "execution_count": 13,
   "metadata": {},
   "outputs": [],
   "source": [
    "def confidenceInt(data, prec):\n",
    "    lp = (100 - prec)/2\n",
    "    Int = [np.percentile(data, lp), np.percentile(data, 100-(lp/2))]\n",
    "    return Int"
   ]
  },
  {
   "cell_type": "markdown",
   "metadata": {},
   "source": [
    "### Question 2 (8pt)\n",
    "Determine the confidence 95% interval for the mean estimate of your sample of 25. Use your bootstrap function (resample from Task 3 Q2) above to generate 1000 artificial samples of 25. Then use your confidenceInt function to get the 95% confidence interval.  Report the interval. \n"
   ]
  },
  {
   "cell_type": "code",
   "execution_count": 14,
   "metadata": {},
   "outputs": [
    {
     "data": {
      "text/plain": [
       "[88.0615, 101.40644]"
      ]
     },
     "execution_count": 14,
     "metadata": {},
     "output_type": "execute_result"
    }
   ],
   "source": [
    "sampleDist = bootstrap(df['time'], 25, np.mean, numIter = 1000)\n",
    "ci = confidenceInt(sampleDist, 95)\n",
    "ci"
   ]
  },
  {
   "cell_type": "markdown",
   "metadata": {},
   "source": [
    "### Question 3  (8pt)\n",
    "Repeat the plotting of the histogram from task 2.3 – but this time plot the lower and upper bound of the confidence interval as a vertical line – see plt.axvline. Make sure that the graph has x- and y-labels and a caption."
   ]
  },
  {
   "cell_type": "code",
   "execution_count": 15,
   "metadata": {},
   "outputs": [
    {
     "data": {
      "text/plain": [
       "Text(0, 0.5, 'frequency')"
      ]
     },
     "execution_count": 15,
     "metadata": {},
     "output_type": "execute_result"
    },
    {
     "data": {
      "image/png": "[encoded data removed]",
      "text/plain": [
       "<Figure size 432x288 with 1 Axes>"
      ]
     },
     "metadata": {
      "needs_background": "light"
     },
     "output_type": "display_data"
    }
   ],
   "source": [
    "fig = plt.figure()\n",
    "sns.distplot(sampleDist)\n",
    "plt.axvline(x = ci[0], color = 'r')\n",
    "plt.axvline(x = ci[1], color = 'r')\n",
    "plt.xlabel('time')\n",
    "plt.ylabel('frequency')"
   ]
  },
  {
   "cell_type": "markdown",
   "metadata": {},
   "source": [
    "*Figure 2.* sampling distribution of the mean calculated using bootstrap, with sample sizes of 25. The upper bound and lower bounds of the 95% confidence interval are shown in red vertical lines"
   ]
  },
  {
   "cell_type": "markdown",
   "metadata": {},
   "source": [
    "## Task 4: Bootstraping from the sample (22pt)\n",
    "Now let's forget that you ever had the data from the whole population. Say, you only have your initial sample of 25 participants. How would you get an estimate of the confidence interval of the mean of the sample? \n",
    "### Question 1 (8pt)\n",
    "Load the sample stored in run10sample.csv. Now call the resample function with that time data, in each loop resampling 25 data points from 25 data points (with replacement!). You have now taken 1000 bootstrap samples. Report the mean of the bootstrap samples, the standard deviation of the the samples, and the 95% confidence interval."
   ]
  },
  {
   "cell_type": "code",
   "execution_count": 16,
   "metadata": {},
   "outputs": [
    {
     "name": "stdout",
     "output_type": "stream",
     "text": [
      "the estimated mean of the sample distribution is 98.172\n",
      "the estimated std of the sample distribution is 2.866\n",
      "the 95% confidence interval is [92.89996000000001, 104.84026499999999]\n"
     ]
    }
   ],
   "source": [
    "dfSample = pd.read_csv('run10Sample.csv')\n",
    "\n",
    "# using bootstrap to estimate the sampling distribution\n",
    "statDistSample = bootstrap(dfSample['time'], 25, np.mean, numIter = 1000)\n",
    "\n",
    "# calculating the mean and standard deviation of the sampling distribution\n",
    "statDistSampleMean = statDistSample.mean()\n",
    "statDistSampleStd  = statDistSample.std()\n",
    "statDistSampleCi   = confidenceInt(statDistSample, 95)\n",
    "\n",
    "## reporting mean, std and confidence interval\n",
    "print('the estimated mean of the sample distribution is %.3f' % statDistSampleMean)\n",
    "print('the estimated std of the sample distribution is %.3f' % statDistSampleStd)\n",
    "print('the 95% confidence interval is', statDistSampleCi)"
   ]
  },
  {
   "cell_type": "markdown",
   "metadata": {},
   "source": [
    "### Question 2 (8pt)\n",
    "Plot of the histogram of your bootstrap samples –plot the lower and upper bound of the confidence interval as a vertical line – see plt.axvline (see homework 3). Plot the true population mean (Task 2.1) as a red vertical line. Make sure that the graph has x- and y-labels. "
   ]
  },
  {
   "cell_type": "code",
   "execution_count": 17,
   "metadata": {},
   "outputs": [
    {
     "data": {
      "text/plain": [
       "Text(0, 0.5, 'frequency')"
      ]
     },
     "execution_count": 17,
     "metadata": {},
     "output_type": "execute_result"
    },
    {
     "data": {
      "image/png": "[encoded data removed]",
      "text/plain": [
       "<Figure size 432x288 with 1 Axes>"
      ]
     },
     "metadata": {
      "needs_background": "light"
     },
     "output_type": "display_data"
    }
   ],
   "source": [
    "fig = plt.figure()\n",
    "sns.distplot(statDistSample)\n",
    "plt.axvline(x = statDistSampleCi[0], color = 'g')\n",
    "plt.axvline(x = statDistSampleCi[1], color = 'g')\n",
    "plt.axvline(x = meanFTime, color = 'r')\n",
    "plt.xlabel('time')\n",
    "plt.ylabel('frequency')"
   ]
  },
  {
   "cell_type": "markdown",
   "metadata": {},
   "source": [
    "*Figure 3.* The sampling distribution calculated using bootstrap resampling with sample size of 25. The upper and lower bounds of 95% confidence interval are shown in green. The real population mean is shown in red."
   ]
  },
  {
   "cell_type": "markdown",
   "metadata": {},
   "source": [
    "### Question 3: (6pt)\n",
    "Written answer: Does the 95% confidence interval include the true population mean? Does it include the mean value from last year’s cherry blossom run (101min)? Is there statistical evidence from your sample of N=25, that the race times have gotten faster from last year? "
   ]
  },
  {
   "cell_type": "markdown",
   "metadata": {},
   "source": [
    "> Both the population mean and the time for last year's are included in the confidence interval. Thus there is no statstical evidence from our sample, that the race has gotten faster. "
   ]
  }
 ],
 "metadata": {
  "kernelspec": {
   "display_name": "Python 3",
   "language": "python",
   "name": "python3"
  },
  "language_info": {
   "codemirror_mode": {
    "name": "ipython",
    "version": 3
   },
   "file_extension": ".py",
   "mimetype": "text/x-python",
   "name": "python",
   "nbconvert_exporter": "python",
   "pygments_lexer": "ipython3",
   "version": "3.8.8"
  }
 },
 "nbformat": 4,
 "nbformat_minor": 2
}

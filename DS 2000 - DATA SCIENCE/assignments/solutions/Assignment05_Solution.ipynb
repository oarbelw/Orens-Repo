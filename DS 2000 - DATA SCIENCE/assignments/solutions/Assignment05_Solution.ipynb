{
 "cells": [
  {
   "cell_type": "markdown",
   "metadata": {},
   "source": [
    "# Assignment 5: Randomization test 2\n",
    "## Learning Outcomes\n",
    "We will continue our last homework on the use of randomization and Monte-Carlo simulation tests to determine whether a specific effect is statistically significant. Randomization and simulation tests are universal and powerful way to do this, and form an essential part of the toolkit of any Data Scientist. \n",
    "## Problem Description\n",
    "In Task 1 & 2, we continue with the movie dataset. The first two task build on the last homework and run randomization tests with two new test statistics. You should re-use the randomization test function that you wrote for the last homework – but the new modified version needs to be included in the submission. In Task 3 you are asked to program a simple monte-Carlo simulation test.  \n",
    "## Preliminaries\n",
    "Set up the environment by importing pandas, numpy, and matplotlib. Load the movie data set into a pandas data frame. **IMPORTANT: Download and used the new movie data set that comes with this assignment on OWL**. Because we are using plots make sure that you configure your notebook such that plots are shown inline (see Assignment 2). "
   ]
  },
  {
   "cell_type": "code",
   "execution_count": 1,
   "metadata": {},
   "outputs": [],
   "source": [
    "import matplotlib\n",
    "matplotlib.use('TkAgg')\n",
    "import matplotlib.pyplot as plt \n",
    "%matplotlib inline\n",
    "import numpy as np\n",
    "import pandas as pd\n",
    "import scipy.stats as stats\n",
    "\n",
    "D = pd.read_csv('movieDataset.csv')\n",
    "#D"
   ]
  },
  {
   "cell_type": "markdown",
   "metadata": {},
   "source": [
    "## TASK 1: Chi-square test of independence (40pts)\n",
    "To test whether two discrete variables interact with each other, you can perform the Chi-sqaure test. The Chi-square statistic measures the deviation of the observed cell counts in a contingency table to the expected counts (see lecture).  \n",
    "### Question 1: Null-hypothesis (5pts)\n",
    "We want to test the hypothesis that there is a systematic relationship between director Gender and film genre. Please formulate the corresponding Null-hypothesis."
   ]
  },
  {
   "cell_type": "markdown",
   "metadata": {},
   "source": [
    "<font color = 'red'> In the midterm, most students had problems in identigying the correct test stat when they needed to formulate the null hypothesis as independence between variables"
   ]
  },
  {
   "cell_type": "markdown",
   "metadata": {},
   "source": [
    "> The Null-hypothesis is that film genre is independent of director Gender. The Null-hypothesis predicts that the observed cell counts do not differ (significantly) from the expected cells counts under independence."
   ]
  },
  {
   "cell_type": "markdown",
   "metadata": {},
   "source": [
    "### Question 2: Expected frequencies (10pts)\n",
    "From the table of the observed frequencies of genre / director Gender, generate a table that shows the expected frequencies if genre and gender were independent. The Marginal counts in the table should stay unchanged. "
   ]
  },
  {
   "cell_type": "code",
   "execution_count": 2,
   "metadata": {},
   "outputs": [
    {
     "data": {
      "text/plain": [
       "array([[ 8.436, 48.564],\n",
       "       [ 9.472, 54.528],\n",
       "       [ 7.104, 40.896],\n",
       "       [ 5.328, 30.672],\n",
       "       [ 6.66 , 38.34 ]])"
      ]
     },
     "execution_count": 2,
     "metadata": {},
     "output_type": "execute_result"
    }
   ],
   "source": [
    "#Solution 1: For next loop with indexing in Numpy array \n",
    "# https://docs.scipy.org/doc/numpy/reference/arrays.indexing.html\n",
    "# Page 86-89 in Python 4 Data analysis, first edition \n",
    "observed = pd.crosstab(D.genre,D.dirGender,margins=False)\n",
    "observed = np.array(observed) # Make into a np-array\n",
    "siz = observed.shape\n",
    "expected = np.array(observed,dtype = 'float64')\n",
    "for i in range(0,siz[0]):\n",
    "    for j in range(0,siz[1]):\n",
    "        expected[i,j]=sum(observed[i,...])*sum(observed[...,j])/sum(sum(observed))\n",
    "expected "
   ]
  },
  {
   "cell_type": "code",
   "execution_count": 3,
   "metadata": {},
   "outputs": [
    {
     "data": {
      "text/html": [
       "<div>\n",
       "<style scoped>\n",
       "    .dataframe tbody tr th:only-of-type {\n",
       "        vertical-align: middle;\n",
       "    }\n",
       "\n",
       "    .dataframe tbody tr th {\n",
       "        vertical-align: top;\n",
       "    }\n",
       "\n",
       "    .dataframe thead th {\n",
       "        text-align: right;\n",
       "    }\n",
       "</style>\n",
       "<table border=\"1\" class=\"dataframe\">\n",
       "  <thead>\n",
       "    <tr style=\"text-align: right;\">\n",
       "      <th>dirGender</th>\n",
       "      <th>female</th>\n",
       "      <th>male</th>\n",
       "    </tr>\n",
       "    <tr>\n",
       "      <th>genre</th>\n",
       "      <th></th>\n",
       "      <th></th>\n",
       "    </tr>\n",
       "  </thead>\n",
       "  <tbody>\n",
       "    <tr>\n",
       "      <th>action</th>\n",
       "      <td>9</td>\n",
       "      <td>48</td>\n",
       "    </tr>\n",
       "    <tr>\n",
       "      <th>adventure</th>\n",
       "      <td>6</td>\n",
       "      <td>58</td>\n",
       "    </tr>\n",
       "    <tr>\n",
       "      <th>comedy</th>\n",
       "      <td>13</td>\n",
       "      <td>35</td>\n",
       "    </tr>\n",
       "    <tr>\n",
       "      <th>drama</th>\n",
       "      <td>5</td>\n",
       "      <td>31</td>\n",
       "    </tr>\n",
       "    <tr>\n",
       "      <th>other</th>\n",
       "      <td>4</td>\n",
       "      <td>41</td>\n",
       "    </tr>\n",
       "  </tbody>\n",
       "</table>\n",
       "</div>"
      ],
      "text/plain": [
       "dirGender  female  male\n",
       "genre                  \n",
       "action          9    48\n",
       "adventure       6    58\n",
       "comedy         13    35\n",
       "drama           5    31\n",
       "other           4    41"
      ]
     },
     "execution_count": 3,
     "metadata": {},
     "output_type": "execute_result"
    }
   ],
   "source": [
    "observed = pd.crosstab(D.genre,D.dirGender,margins=False)\n",
    "observed"
   ]
  },
  {
   "cell_type": "code",
   "execution_count": 4,
   "metadata": {},
   "outputs": [
    {
     "data": {
      "text/plain": [
       "array([[ 8.436, 48.564],\n",
       "       [ 9.472, 54.528],\n",
       "       [ 7.104, 40.896],\n",
       "       [ 5.328, 30.672],\n",
       "       [ 6.66 , 38.34 ]])"
      ]
     },
     "execution_count": 4,
     "metadata": {},
     "output_type": "execute_result"
    }
   ],
   "source": [
    "#Solution 2: For next loop with indexing in Pandas Data frame  \n",
    "# \n",
    "observed = pd.crosstab(D.genre,D.dirGender,margins=False)\n",
    "siz = observed.shape\n",
    "expected = np.array(observed,dtype = 'float64')\n",
    "for i in range(0,siz[0]):\n",
    "    for j in range(0,siz[1]):\n",
    "        expected[i,j]=sum(observed.iloc[i,0:siz[1]])*sum(observed.iloc[0:siz[0],j])/sum(sum(np.array(observed)))\n",
    "expected \n"
   ]
  },
  {
   "cell_type": "code",
   "execution_count": 5,
   "metadata": {},
   "outputs": [
    {
     "data": {
      "text/html": [
       "<div>\n",
       "<style scoped>\n",
       "    .dataframe tbody tr th:only-of-type {\n",
       "        vertical-align: middle;\n",
       "    }\n",
       "\n",
       "    .dataframe tbody tr th {\n",
       "        vertical-align: top;\n",
       "    }\n",
       "\n",
       "    .dataframe thead th {\n",
       "        text-align: right;\n",
       "    }\n",
       "</style>\n",
       "<table border=\"1\" class=\"dataframe\">\n",
       "  <thead>\n",
       "    <tr style=\"text-align: right;\">\n",
       "      <th>dirGender</th>\n",
       "      <th>female</th>\n",
       "      <th>male</th>\n",
       "    </tr>\n",
       "    <tr>\n",
       "      <th>genre</th>\n",
       "      <th></th>\n",
       "      <th></th>\n",
       "    </tr>\n",
       "  </thead>\n",
       "  <tbody>\n",
       "    <tr>\n",
       "      <th>action</th>\n",
       "      <td>8.436</td>\n",
       "      <td>48.564</td>\n",
       "    </tr>\n",
       "    <tr>\n",
       "      <th>adventure</th>\n",
       "      <td>9.472</td>\n",
       "      <td>54.528</td>\n",
       "    </tr>\n",
       "    <tr>\n",
       "      <th>comedy</th>\n",
       "      <td>7.104</td>\n",
       "      <td>40.896</td>\n",
       "    </tr>\n",
       "    <tr>\n",
       "      <th>drama</th>\n",
       "      <td>5.328</td>\n",
       "      <td>30.672</td>\n",
       "    </tr>\n",
       "    <tr>\n",
       "      <th>other</th>\n",
       "      <td>6.660</td>\n",
       "      <td>38.340</td>\n",
       "    </tr>\n",
       "  </tbody>\n",
       "</table>\n",
       "</div>"
      ],
      "text/plain": [
       "dirGender  female    male\n",
       "genre                    \n",
       "action      8.436  48.564\n",
       "adventure   9.472  54.528\n",
       "comedy      7.104  40.896\n",
       "drama       5.328  30.672\n",
       "other       6.660  38.340"
      ]
     },
     "execution_count": 5,
     "metadata": {},
     "output_type": "execute_result"
    }
   ],
   "source": [
    "# Solution 3: Do it over outer product and pandas \n",
    "observed = pd.crosstab(D.genre,D.dirGender,margins=True)\n",
    "expected = np.outer(observed[\"All\"][0:5], observed.loc[\"All\"][0:2]) /observed['All']['All']\n",
    "observed = pd.crosstab(D.genre,D.dirGender)\n",
    "expected = pd.DataFrame(expected)\n",
    "expected.columns = observed.columns\n",
    "expected.index = observed.index\n",
    "expected "
   ]
  },
  {
   "cell_type": "markdown",
   "metadata": {},
   "source": [
    "### Question 3: Chi-square (10pts)\n",
    "Create one function that takes the data frame as input and calculates a statistics of the overall deviation between expected and observed frequencies: \n",
    "$χ^2 = \\sum_i(O_i-E_i)^2/E_i)$ \n",
    "\n",
    "Where $O_i$ is the observed frequency for cell $i$, $E_i$ is the expected frequency for cell $i$, assuming independence of gender and genre. The sum is to be taken over all 10 cells. This test-statistic is called the Chi-square test of independence.\n",
    "\n",
    "Report the value of this statistic for the real data. \n"
   ]
  },
  {
   "cell_type": "code",
   "execution_count": 6,
   "metadata": {},
   "outputs": [
    {
     "data": {
      "text/plain": [
       "8.552102881235573"
      ]
     },
     "execution_count": 6,
     "metadata": {},
     "output_type": "execute_result"
    }
   ],
   "source": [
    "def calcX2(D):\n",
    "    observed = pd.crosstab(D.genre,D.dirGender, margins=True)\n",
    "    expected = np.outer(observed[\"All\"][0:5], observed.loc[\"All\"][0:2]) /observed['All']['All']\n",
    "    observed = pd.crosstab(D.genre,D.dirGender)\n",
    "    return sum(sum((observed.values-expected)**2/expected))\n",
    "\n",
    "calcX2(D)\n",
    "\n",
    "## An alternative way of writing the function\n",
    "# def calcX2(df):\n",
    "#     table = pd.crosstab(df['genre'], df['dirGender'], margins = True)\n",
    "    \n",
    "#     ## calculate the expected values under the null hypothesis that the director gender is independent of the movie genre\n",
    "#     (r, c) = table.shape\n",
    "#     expected = np.zeros((r-1, c-1))\n",
    "#     for i in range(r-1):\n",
    "#         for j in range(c-1):\n",
    "#             expected[i, j] =  (table.iloc[i].iloc[-1] * table.iloc[-1].iloc[j])/table['All']['All']\n",
    "            \n",
    "#     ## converting the contingency table to a numpy array to be used in element-wise calculation of the X2\n",
    "#     observed = np.array(pd.crosstab(df['genre'], df['dirGender']))\n",
    "    \n",
    "#     X2 = sum(sum(((observed - expected)**2)/expected))\n",
    "    \n",
    "#     return X2\n",
    "\n",
    "\n",
    "# calcX2(D)"
   ]
  },
  {
   "cell_type": "markdown",
   "metadata": {},
   "source": [
    "### Question 4: Randomization with flexible input arguments (5pts)\n",
    "Rewrite the randomization function from the last homework, so it it becomes more versatile by adding additional input arguments that determines the behavior of the routine. \n",
    "\n",
    "- The first argument should still be a dataframe (as before)\n",
    "- The second input argument should be a function that computes the test statistics. All test-statistic functions are assumed to take the data frame as the first and only input. \n",
    "- The third input argument is the name of the dataframe column that is being shuffled. \n",
    "- An optional input argument: the number of iterations (default=500)\n",
    "- An optional input argument: the number of sides of the test (1 or 2; default = 1). If the test is two-sided, then count the number of cases where the absolute value of the test statistic (np.abolute) is larger or equal to the real test statistic.\n",
    "- An optional input argument: The number of bins for plotting the histogram \n"
   ]
  },
  {
   "cell_type": "code",
   "execution_count": 7,
   "metadata": {},
   "outputs": [],
   "source": [
    "def performRandomization(D,fcn,shuffle,numIterations=500,sides=1, nbins = 10):    \n",
    "    listOfTS =  np.array(range(numIterations),dtype = 'float64')\n",
    "    for i in range(numIterations):\n",
    "        #1. Randomly shuffle the data \n",
    "        S=D.copy()                    # Make copy of the data frame\n",
    "        x = np.array(range(len(D.index))) # Make copy of the data frame\n",
    "        np.random.shuffle(x)          # randomly shuffle x - note that this changes x itself! \n",
    "        y = S[shuffle].iloc[x]   # copy the newly reorded values into a new Series  \n",
    "        y = y.reset_index(drop=True)   #reoder the indices \n",
    "        S[shuffle]=y           # Copy back into the data frame\n",
    "        \n",
    "        #2. Calculate test statistics \n",
    "        listOfTS[i] = fcn(S)\n",
    "\n",
    "    # 3. Caluclate the real test statistic \n",
    "    realTS = fcn(D)\n",
    "\n",
    "    # 4. Plot a histogram of the \n",
    "    plt.hist(listOfTS,bins= nbins)\n",
    "    plt.axvline(x=realTS, color='k')\n",
    "    \n",
    "    # 5. determine p-value (one sided)\n",
    "    if sides==1: \n",
    "        p=sum(listOfTS>=realTS)/len(listOfTS)\n",
    "    if sides==2:\n",
    "        plt.axvline(x=-realTS, color='r')\n",
    "        p=sum(np.absolute(listOfTS)>=realTS)/len(listOfTS)\n",
    "        print(' P-value of the randomisation test is p= ',p)\n",
    "    return p"
   ]
  },
  {
   "cell_type": "markdown",
   "metadata": {},
   "source": [
    "### Question 5: Randomization test (5pts)\n",
    "Perform a randomization test for the Chi-square test of independence. Your function should plot the histogram and report the p-value."
   ]
  },
  {
   "cell_type": "code",
   "execution_count": 8,
   "metadata": {},
   "outputs": [
    {
     "data": {
      "text/plain": [
       "0.0798"
      ]
     },
     "execution_count": 8,
     "metadata": {},
     "output_type": "execute_result"
    },
    {
     "data": {
      "image/png": "[encoded data removed]",
      "text/plain": [
       "<Figure size 432x288 with 1 Axes>"
      ]
     },
     "metadata": {
      "needs_background": "light"
     },
     "output_type": "display_data"
    }
   ],
   "source": [
    "performRandomization(D,calcX2,shuffle='dirGender',numIterations=5000, nbins = 10)"
   ]
  },
  {
   "cell_type": "markdown",
   "metadata": {},
   "source": [
    "### Question 6: Conclusion (5pts)\n",
    "Written response: Based on the results, what can you conclude from this test? "
   ]
  },
  {
   "cell_type": "markdown",
   "metadata": {},
   "source": [
    "> Based on the p-value we cannot reject the null-hypothesis that gender and genre are independent."
   ]
  },
  {
   "cell_type": "markdown",
   "metadata": {},
   "source": [
    "# TASK 2: Randomization test for mean differences (25pts)\n",
    "In this task we will test the hypothesis that male and female directors differ in their annual income. Note that the hypothesis is undirected, meaning it could mean either that men earn more than women, or that women earn more than men."
   ]
  },
  {
   "cell_type": "markdown",
   "metadata": {},
   "source": [
    "### Question 1: Null hypothesis (5pts)\n",
    "Formulate the Null-hypothesis. "
   ]
  },
  {
   "cell_type": "markdown",
   "metadata": {},
   "source": [
    "> The corresponding Null-hypothesis is that the mean annual income for men and women directors is identical "
   ]
  },
  {
   "cell_type": "markdown",
   "metadata": {},
   "source": [
    "### Question 2: Difference of means (8pts)\n",
    "Write a function that calculates and returns the difference in director salaries depending on the gender (male average income – female average income). Report the value. "
   ]
  },
  {
   "cell_type": "code",
   "execution_count": 9,
   "metadata": {},
   "outputs": [
    {
     "data": {
      "text/plain": [
       "0.6390446473389164"
      ]
     },
     "execution_count": 9,
     "metadata": {},
     "output_type": "execute_result"
    }
   ],
   "source": [
    "def diffSalary(D):\n",
    "    genderMeanIncome = D.groupby(['dirGender']).dirIncome.mean()\n",
    "    return(genderMeanIncome[1] - genderMeanIncome[0])\n",
    "\n",
    "diffSalary(D)"
   ]
  },
  {
   "cell_type": "markdown",
   "metadata": {},
   "source": [
    "### Question 3:  Randomization test (7pts)\n",
    "Use your randomization test function to perform a randomization test to determine whether the reported difference is statistical significant. Plot a histogram of the null-distribution and the real value. Report the p-value for the two-sided test. "
   ]
  },
  {
   "cell_type": "code",
   "execution_count": 10,
   "metadata": {},
   "outputs": [
    {
     "name": "stdout",
     "output_type": "stream",
     "text": [
      " P-value of the randomisation test is p=  0.002\n"
     ]
    },
    {
     "data": {
      "text/plain": [
       "0.002"
      ]
     },
     "execution_count": 10,
     "metadata": {},
     "output_type": "execute_result"
    },
    {
     "data": {
      "image/png": "[encoded data removed]",
      "text/plain": [
       "<Figure size 432x288 with 1 Axes>"
      ]
     },
     "metadata": {
      "needs_background": "light"
     },
     "output_type": "display_data"
    }
   ],
   "source": [
    "performRandomization(D,diffSalary,'dirGender',numIterations=500,sides=2, nbins = 10)"
   ]
  },
  {
   "cell_type": "markdown",
   "metadata": {},
   "source": [
    "### Question 4: Conclusion (5pts)\n",
    "What do you conclude about the relationship between gender and salary? What can you conclude about the claim that there is gender discrimination in the American film industry?  \n"
   ]
  },
  {
   "cell_type": "markdown",
   "metadata": {},
   "source": [
    "> We can conclude that in our sample gender and director Salary are highly dependent, with women directors earning a different amount from male directors. While this is suggestive of gender discrimination we cannot make a causal claim (i.e. that the women made less only because of gender), as the data is from an observational study, not an experiment. "
   ]
  },
  {
   "cell_type": "markdown",
   "metadata": {},
   "source": [
    "# Task 3: Monte-Carlo simulation test (35pt)\n",
    "People providing an organ for donation sometimes seek help from a medical consultant. These consultants assist the patient in all aspects of the surgery. Patients might choose a consultant based in part on the historical complication rate of the consultant's clients. Consultant R tries to attract patients by noting the average complication rate for liver donor surgeries in the US is about 10%, but her clients have had only 3 complications in the 62 liver donor surgeries she has facilitated. She claims this is strong evidence that her work meaningfully contributes to reducing complications (and therefore she should be hired!).\n",
    "### Question 1: Monte Carlo simulation (15pts)\n",
    "Write a function (monteCarloSim) that simulates coin tossing. On each trial, the function should produce a specific number (N) of coin tosses and record the number of successes (heads). It should repeat this experiment numIter number of times. The inputs to the function should be a) probability of a success on each coin toss, b) the number of coin tosses per trial (N) and c) the number of trials. The function should return an np.array(range(numIter)) that holds the recorded number of heads for all trials (see lecture handout for tips)."
   ]
  },
  {
   "cell_type": "code",
   "execution_count": 11,
   "metadata": {},
   "outputs": [
    {
     "data": {
      "text/plain": [
       "array([ 6., 10., 11.,  8.,  7.,  4.,  5.,  7., 11.,  4.,  6.,  7.,  5.,\n",
       "        9.,  6.,  9.,  6.,  7.,  8.,  4.,  4.,  7.,  9.,  2., 11.,  6.,\n",
       "       10.,  5.,  5.,  9.,  8.,  5.,  3.,  5.,  9.,  8.,  4.,  9.,  5.,\n",
       "       10.,  7., 10.,  6.,  7.,  7.,  9.,  6.,  5.,  8.,  4.,  7.,  5.,\n",
       "        7.,  4.,  5.,  4.,  5.,  6.,  9.,  4.,  4.,  7.,  8.,  4.,  5.,\n",
       "        9.,  5.,  5.,  5.,  4.,  7.,  7., 10.,  9.,  4.,  4.,  5.,  7.,\n",
       "        3.,  7.,  3.,  4.,  4.,  6.,  6.,  6.,  6.,  5.,  7.,  9., 10.,\n",
       "        6.,  4.,  7.,  8.,  8.,  9.,  5.,  4.,  3.,  8.,  6., 11.,  2.,\n",
       "        7., 11.,  9.,  5.,  8.,  3.,  3.,  7.,  8.,  8.,  6.,  4.,  7.,\n",
       "        4.,  8.,  9.,  2., 11.,  7.,  9.,  3.,  3.,  8.,  8.,  9.,  9.,\n",
       "        9.,  6., 11.,  4.,  9.,  8.,  8.,  8.,  2.,  4.,  5.,  6.,  5.,\n",
       "        6.,  9., 10.,  8.,  7.,  4.,  6.,  6.,  6.,  6.,  5.,  8.,  6.,\n",
       "        4.,  4.,  6.,  6.,  6.,  7.,  5.,  3.,  8.,  5.,  5.,  9.,  5.,\n",
       "        7.,  6.,  7.,  1., 13.,  8.,  8.,  6.,  8., 10., 11.,  6.,  4.,\n",
       "        6.,  6.,  5.,  5.,  6.,  5.,  4.,  8.,  4.,  8.,  8.,  8.,  8.,\n",
       "        5.,  7.,  9.,  8.,  6.,  1.,  3.,  8.,  5.,  9.,  7.,  7.,  6.,\n",
       "        9.,  6.,  6., 10.,  9.,  1.,  7.,  6.,  6., 10.,  8.,  8.,  7.,\n",
       "        5., 10.,  8.,  6.,  6.,  3., 11.,  7.,  6.,  5.,  7.,  4.,  7.,\n",
       "        5.,  8.,  4.,  8.,  7.,  7., 11.,  7.,  5.,  4.,  7.,  5.,  7.,\n",
       "        5.,  5.,  6.,  6.,  5., 10.,  6.,  5.,  4.,  7.,  4.,  4.,  8.,\n",
       "        8.,  4.,  7.,  8.,  8.,  7.,  6.,  4.,  4.,  9.,  7., 10.,  9.,\n",
       "        4.,  8.,  7.,  4.,  7.,  5.,  2.,  5.,  7.,  2.,  7.,  6.,  9.,\n",
       "        7.,  7.,  5.,  2., 10.,  1.,  4.,  6.,  2.,  7.,  6.,  6.,  5.,\n",
       "        6.,  9.,  8.,  3.,  5.,  7.,  4.,  3.,  6.,  9.,  5.,  7.,  4.,\n",
       "        7., 13.,  5., 12.,  7.,  8.,  8.,  5.,  6.,  2.,  8.,  2.,  4.,\n",
       "        8.,  6.,  3., 10., 13.,  5.,  5.,  3.,  7.,  3.,  3., 10.,  9.,\n",
       "        5.,  4.,  8.,  4.,  6.,  8., 10.,  2.,  5.,  4.,  4.,  4.,  7.,\n",
       "        6.,  6.,  4.,  8.,  5.,  5.,  8.,  7., 12.,  3., 11., 10.,  9.,\n",
       "        2.,  7.,  5.,  7.,  9.,  4.,  9.,  5.,  7., 10.,  6.,  8.,  7.,\n",
       "        2., 13.,  6.,  9.,  9.,  3.,  2.,  4.,  5.,  2.,  3.,  5.,  7.,\n",
       "        5.,  4.,  4., 10.,  5.,  7.,  6.,  5.,  8.,  3.,  5.,  7.,  3.,\n",
       "        4.,  2.,  5.,  9.,  4.,  8.,  7.,  5.,  8.,  3.,  7.,  5.,  7.,\n",
       "        7., 10.,  5.,  7.,  5.,  7.,  5.,  7.,  7.,  6.,  6.,  6.,  5.,\n",
       "        8.,  4., 11.,  6.,  6.,  7.,  8.,  7., 11.,  4., 11.,  5.,  6.,\n",
       "        8.,  4.,  8.,  7.,  7.,  8.,  5.,  7.,  5.,  3.,  6.,  8.,  4.,\n",
       "        5.,  7.,  4.,  5.,  5.,  6.,  6.,  8.,  2.,  6.,  2.,  3.,  5.,\n",
       "        7.,  5.,  4.,  6.,  6.,  2.,  6.,  6.,  7.,  8.,  7.,  7.,  9.,\n",
       "        7.,  6.,  6.,  5.,  5.,  7.,  5.,  8.,  6.,  3.,  3.,  4.,  7.,\n",
       "        3.,  9.,  5.,  7.,  9.,  7.,  4., 10.,  3.,  6.,  7.,  8.,  8.,\n",
       "        6.,  8.,  4.,  3.,  3.,  6.,  7.,  6.,  3.,  4.,  8.,  9.,  3.,\n",
       "        7., 11.,  8.,  6.,  4.,  8., 10., 11.,  6.,  6.,  8.,  4.,  5.,\n",
       "        8.,  5.,  5.,  6.,  3.,  5.,  3.,  5., 11.,  6.,  3.,  3.,  4.,\n",
       "        4.,  6., 10.,  7.,  6.,  7.,  9.,  2.,  6.,  3.,  9.,  5.,  7.,\n",
       "        4.,  7.,  4.,  7.,  5.,  7.,  5.,  4.,  5.,  4.,  8.,  8.,  8.,\n",
       "        7.,  4.,  5.,  8.,  8.,  6.,  4.,  6.,  4.,  8., 12.,  6., 12.,\n",
       "        7.,  9.,  4.,  4.,  5.,  5.,  3.,  5.,  3.,  3.,  6.,  3.,  8.,\n",
       "        6.,  8.,  5.,  5.,  9.,  9.,  6.,  4.,  4.,  4.,  8.,  9.,  4.,\n",
       "        6.,  9.,  6.,  9., 12.,  5.,  6.,  7.,  6.,  3.,  2., 11., 10.,\n",
       "        4.,  7.,  8.,  9.,  3.,  8.,  7.,  2.,  2.,  3.,  4.,  5.,  5.,\n",
       "        6.,  5.,  7.,  8.,  4.,  6.,  3.,  7.,  6.,  5.,  7.,  4., 12.,\n",
       "        6.,  4.,  9.,  6., 13.,  8.,  9.,  8.,  9.,  6.,  7.,  3.,  6.,\n",
       "        8.,  5.,  6.,  9.,  3.,  5.,  5.,  5., 10.,  6.,  7.,  9.,  5.,\n",
       "        4.,  7.,  5.,  6.,  3.,  4.,  5.,  5.,  6.,  7.,  5.,  4., 10.,\n",
       "        5.,  7.,  6.,  7.,  4.,  5.,  7.,  5.,  6.,  4.,  8.,  7.,  8.,\n",
       "        5.,  7.,  4.,  6.,  9.,  4.,  5., 10.,  2.,  5.,  8.,  7.,  5.,\n",
       "        9.,  5.,  9., 10.,  6.,  4.,  9.,  5.,  4.,  5.,  5.,  5.,  7.,\n",
       "        9.,  7.,  6.,  5.,  6.,  5.,  5.,  4.,  2.,  5.,  6.,  5.,  5.,\n",
       "        5.,  8.,  8.,  9.,  2.,  4.,  8.,  3.,  5.,  7.,  3.,  6.,  7.,\n",
       "        6.,  8.,  5.,  9.,  6.,  5.,  7.,  4.,  6.,  7., 11.,  9.,  4.,\n",
       "       10.,  1.,  7.,  6.,  7.,  7.,  6.,  5.,  5.,  8.,  8.,  4., 10.,\n",
       "       11.,  9.,  8.,  6.,  6.,  6.,  4.,  7., 11.,  1.,  6.,  6., 10.,\n",
       "        6.,  8., 10.,  6.,  2.,  3.,  6.,  6.,  4.,  7.,  6.,  3., 10.,\n",
       "        4.,  8.,  7.,  9.,  9.,  6.,  8.,  5.,  5.,  3.,  5.,  6.,  6.,\n",
       "        6.,  8., 10.,  7.,  4.,  6.,  5.,  4.,  5.,  6.,  7.,  7.,  7.,\n",
       "        6.,  5.,  9.,  7.,  9.,  8.,  4.,  3.,  5., 11.,  7.,  9.,  6.,\n",
       "        9.,  7.,  7.,  8.,  8.,  5.,  2.,  4.,  7.,  6.,  4.,  7.,  6.,\n",
       "        8.,  7.,  7.,  8.,  7.,  4.,  8., 10.,  7.,  6.,  6.,  5.,  9.,\n",
       "        7.,  4.,  5.,  7.,  8.,  9.,  6.,  4.,  6.,  8.,  6.,  8.,  4.,\n",
       "        4.,  2.,  5.,  5.,  5.,  9.,  6.,  8.,  5.,  5.,  4.,  9., 10.,\n",
       "        4.,  4.,  5., 10.,  3.,  4.,  6.,  2.,  6., 12.,  8.,  8.,  7.,\n",
       "        7.,  7.,  5.,  6.,  2.,  4.,  3.,  4.,  6.,  7.,  5.,  6.,  7.,\n",
       "        4.,  7., 11.,  9.,  7.,  6., 11.,  5.,  7.,  7.,  8.,  2.,  9.,\n",
       "        6.,  4.,  3.,  7.,  9.,  6.,  5.,  4.,  6.,  6.,  7., 14.,  8.,\n",
       "        6.,  5.,  7.,  2.,  7.,  2.,  9.,  8.,  7.,  8.,  4.,  6.,  3.,\n",
       "        3.,  5.,  8.,  4.,  5.,  5.,  8.,  4., 11.,  4., 10.,  4.,  6.,\n",
       "        3.,  7., 12.,  5.,  6.,  9.,  5.,  8.,  5.,  6.,  6.,  3.,  4.,\n",
       "        5.,  7.,  4.,  5.,  5.,  4.,  6.,  7.,  7.,  6.,  7., 10.])"
      ]
     },
     "execution_count": 11,
     "metadata": {},
     "output_type": "execute_result"
    }
   ],
   "source": [
    "def monteCarloSim(p,N,numIter):\n",
    "    numHeads = np.array(range(numIter),dtype = 'float64')\n",
    "\n",
    "    for i in range(numIter):\n",
    "        options = [0,1]\n",
    "        probDist = [1-p,p]\n",
    "        \n",
    "        # Solution 1: use random choice and sum over hits \n",
    "        a=np.random.choice(options,N,p=probDist)\n",
    "    \n",
    "        numHeads[i]=a.sum()\n",
    "        # Solution 2: Use random binomial \n",
    "        # numHeads[i]=np.random.binomial(N,p) \n",
    "    return numHeads\n",
    "a=monteCarloSim(0.1,62,1000)\n",
    "a"
   ]
  },
  {
   "cell_type": "markdown",
   "metadata": {},
   "source": [
    "### Question 2: Monte Carlo Test (15pts)\n",
    "Write a function (monteCarloTest) that uses monteCarloSim to simulate 1000 trials. The function should also plot a histogram of the recorded number of heads, and mark the real measured number with a vertical line. The function should print out the probability that the simulated number of heads is smaller than or equal to the measured number of heads. Input arguments should be a) the probability of a success under the Null-hypothesis, b) the number of coin tosses per trial, and c) the measured number of heads. Use the function to evaluate the probability to get 3 complications in 62 cases if the probability of a complication in the population is known to be 10%. "
   ]
  },
  {
   "cell_type": "code",
   "execution_count": 12,
   "metadata": {},
   "outputs": [],
   "source": [
    "def monteCarloTest(H0prob,N,numHeads):\n",
    "    sim = monteCarloSim(H0prob,N,2000)\n",
    "    plt.hist(sim,bins=range(20),align='left')\n",
    "    plt.axvline(x=numHeads, color='k')\n",
    "    p=sum(sim<=numHeads)/len(sim)\n",
    "    print('P-value of the randomisation test is p=',p)\n",
    "    return p\n"
   ]
  },
  {
   "cell_type": "code",
   "execution_count": null,
   "metadata": {},
   "outputs": [],
   "source": [
    "monteCarloTest(0.1,62,3)"
   ]
  },
  {
   "cell_type": "markdown",
   "metadata": {},
   "source": [
    "### Question 3: Conclusion (5pts)\n",
    "Written answer: What do you conclude about the claim that the work of advisor R is lowering complication rates?"
   ]
  },
  {
   "cell_type": "markdown",
   "metadata": {},
   "source": [
    "> The probability of getting 3 or less complication funder the Null-hypothesis that p=0.1 is approximately p=0.12. So we cannot reject the null-hypothesis that the medical advisor does not have any beneficial effect on the complication rate. Thus there is no significant statistical evidence that would justify the claim that the advisor is lowering complication rates. "
   ]
  }
 ],
 "metadata": {
  "kernelspec": {
   "display_name": "Python 3",
   "language": "python",
   "name": "python3"
  },
  "language_info": {
   "codemirror_mode": {
    "name": "ipython",
    "version": 3
   },
   "file_extension": ".py",
   "mimetype": "text/x-python",
   "name": "python",
   "nbconvert_exporter": "python",
   "pygments_lexer": "ipython3",
   "version": "3.8.8"
  }
 },
 "nbformat": 4,
 "nbformat_minor": 4
}

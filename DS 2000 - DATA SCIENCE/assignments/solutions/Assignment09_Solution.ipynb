{
 "cells": [
  {
   "cell_type": "markdown",
   "metadata": {},
   "source": [
    "# Assignment 9: Multiple regression\n",
    "\n",
    "### Learning Outcomes\n",
    "This assignment introduces you to multiple regression analysis, model comparision between different multiple regression models and bootstrap for regression models. \n",
    "### Data set \n",
    "An investigator is interested in understanding the relationship, if any, between the analytical skills of young gifted children and the following variables: father’s IQ, mother’s IQ, age in month when the child first said ‘mummy’ or ‘daddy’, age in month when the child first counted to 10 successfully, average number of hours per week the child’s mother or father reads to the child, average number of hours per week the child watched an educational program on TV during the past three months, average number of hours per week the child watched cartoons on TV during the past three months. \n",
    "\n",
    "The analytical skills are evaluated using a standard testing procedure, and the score on this test is used as the response variable. Data were collected from schools in a large city on a set of thirty-six children who were identified as gifted children soon after they reached the age of four.\n",
    " \n",
    "The data frame stored in gifted.csv contains the variables: \n",
    "- score:       Score in test of analytical skills.\n",
    "- fatheriq:    Father’s IQ.\n",
    "- motheriq:  Mother’s IQ.\n",
    "- speak:       Age in months when the child first said ‘mummy’ or ‘daddy’.\n",
    "- count:       Age in months when the child first counted to 10 successfully.\n",
    "- read:         Average number of hours per week the child’s mother or father reads to the child.\n",
    "- edutv:       Average number of hours per week the child watched an educational program on TV during the past three months.\n",
    "- cartoons:  Average number of hours per week the child watched cartoons on TV during the past three months.\n",
    "\n",
    "### Preliminaries\n",
    "Set up the environment by importing pandas, numpy, and matplotlib, scipy.optimize. This is already done in the preliminaries. Ensure that you have fully mastered and understood HW7 before starting the assignment. \n"
   ]
  },
  {
   "cell_type": "code",
   "execution_count": 1,
   "metadata": {},
   "outputs": [],
   "source": [
    "import matplotlib\n",
    "matplotlib.use('TkAgg')\n",
    "import matplotlib.pyplot as plt \n",
    "%matplotlib inline\n",
    "import scipy.optimize as so\n",
    "import pandas as pd \n",
    "import numpy as np"
   ]
  },
  {
   "cell_type": "markdown",
   "metadata": {},
   "source": [
    "## Task 1: Implementing multiple regression ( / 28 pts)\n",
    "### Question 1. ( / 6 pts)\n",
    "Implement the function multRegPredict(b,D,xname). \n",
    "  - b is a list of parameter, with the first one being the intercept \n",
    "  - D is a DataFrame that contains the regressors\n",
    "  - xname is a list of column names in D that will be added as regressors \n",
    "\n",
    "b needs to contain one more parameter (the intercept) than the numbers of regressors in xname. It will be helpful to start from the corresponding functions from last homework for polynomial regression. \n",
    "\n",
    "Then make a scatterplot of D.read and D.score \n",
    "Call your new function with yp = multRegPredict([134,11.8], D,['read']) and add predicted values to your plot (just call plt.scatter again – the dots will be added in a different color).  "
   ]
  },
  {
   "cell_type": "code",
   "execution_count": 2,
   "metadata": {},
   "outputs": [
    {
     "data": {
      "text/plain": [
       "Text(0, 0.5, 'Analytical score')"
      ]
     },
     "execution_count": 2,
     "metadata": {},
     "output_type": "execute_result"
    },
    {
     "data": {
      "image/png": "[encoded data removed]",
      "text/plain": [
       "<Figure size 432x288 with 1 Axes>"
      ]
     },
     "metadata": {
      "needs_background": "light"
     },
     "output_type": "display_data"
    }
   ],
   "source": [
    "def multRegPredict(b,D,xname):\n",
    "    yp=np.ones(len(D.index))*b[0]        # Intercept \n",
    "    for i in range(len(xname)):          \n",
    "        yp=yp+D[xname[i]]*b[i+1]         # Add each regression value \n",
    "    return yp \n",
    "\n",
    "D=pd.read_csv('gifted.csv')\n",
    "plt.scatter(D.read,D.score)\n",
    "yp = multRegPredict([134,11.8],D,['read'])\n",
    "plt.scatter(D.read,yp)\n",
    "plt.xlabel('Reading [hrs]')\n",
    "plt.ylabel('Analytical score')\n"
   ]
  },
  {
   "cell_type": "markdown",
   "metadata": {},
   "source": [
    "*Figure 1*. Scatter plot showing both the analytical score and the predicted values of analytical score vs hours spent on reading."
   ]
  },
  {
   "cell_type": "markdown",
   "metadata": {},
   "source": [
    "### Question 2. ( / 10 pts)\n",
    "Implement the function multRegLossRSS(b,D,y,xname). y is a list or np-array for the response variable. The function should get the predictions from multRegPredict, and then calculate the residual sum-of-squares, and the derivative of the loss function in respect to each parameter. Test the function by calling multRegLossRSS([134,11.8],D,D.score,['read']). Report the resulting RSS for the regression of score (response variable) against read (explanatory variable)- as well as the derivatives for each parameter. Written answer: From the value of the derivative, do you have to increase or decrease the slope parameter to get a better fit?"
   ]
  },
  {
   "cell_type": "code",
   "execution_count": 3,
   "metadata": {},
   "outputs": [
    {
     "name": "stdout",
     "output_type": "stream",
     "text": [
      "The Rss value is 543.510000\n",
      "The gradient is [ 4.84 10.3 ]\n"
     ]
    }
   ],
   "source": [
    "def multRegLossRSS(b,D,y,xname):\n",
    "    predY = multRegPredict(b,D,xname)\n",
    "    res = y-predY\n",
    "    rss = sum(res**2)\n",
    "    grad=np.zeros(len(b))\n",
    "    grad[0]=-2*np.sum(res)\n",
    "    for i in range(len(xname)):\n",
    "        grad[i+1]=-2*np.sum(D[xname[i]]*res)\n",
    "    return (rss,grad)\n",
    "\n",
    "RSS, grad = multRegLossRSS([134,11.8],D,D.score,['read'])\n",
    "\n",
    "print('The Rss value is %f' % RSS)\n",
    "print('The gradient is', grad)"
   ]
  },
  {
   "cell_type": "markdown",
   "metadata": {},
   "source": [
    "### Question 3 ( / 12 pts)\n",
    "Implement the function multRegFit(D,y,xname), which uses so.minimize and multRegLossRSS to estimate the parameter values, and then calls multRegLossRSS again to calculate the R2 of the fit. The function should then return the R2 values and regression coefficients b. Use this print on the screen the R2-values for the models:\n",
    "\n",
    "- y = b0  (hint, set xname = [])\n",
    "- y = b0 + b1 \\* read \n",
    "- y = b0 + b1 \\* motheriq \n",
    "- y = b0 + b1 \\* motheriq + b2 \\* read\n",
    "\n",
    "Which model has the highest R2? How do you interpret these results? How much of the variance of the response variable is uniquely explained by reading, how much by motheriq? Do the two variables explain each other away, explain independent parts of the variance, or show suppression? "
   ]
  },
  {
   "cell_type": "code",
   "execution_count": 4,
   "metadata": {},
   "outputs": [],
   "source": [
    "def multRegFit(D,y,xname):\n",
    "    N=len(xname)\n",
    "    b0=np.zeros((N+1,1))\n",
    "    RES = so.minimize(multRegLossRSS,b0,args=(D,y,xname),jac=True)\n",
    "    b=RES.x # Results\n",
    "    res = y-np.mean(y)\n",
    "    TSS = sum(res**2)\n",
    "    RSS,deriv = multRegLossRSS(b,D,y,xname)\n",
    "    R2 = 1-RSS/TSS \n",
    "    return (R2,b)"
   ]
  },
  {
   "cell_type": "code",
   "execution_count": 5,
   "metadata": {},
   "outputs": [
    {
     "name": "stdout",
     "output_type": "stream",
     "text": [
      "Intercept\n",
      "R2 is 0.000\n",
      "Read\n",
      "R2 is 0.276\n",
      "MotherIQ\n",
      "R2 is 0.326\n",
      "Read + MotherIQ\n",
      "R2 is 0.629\n"
     ]
    }
   ],
   "source": [
    "print('Intercept')\n",
    "R0,B0=multRegFit(D,D.score,[])\n",
    "print(\"R2 is {0:3.3f}\".format(R0))\n",
    "print('Read')\n",
    "R1,B1=multRegFit(D,D.score,['read'])\n",
    "print(\"R2 is {0:3.3f}\".format(R1))\n",
    "print('MotherIQ')\n",
    "R2,B2=multRegFit(D,D.score,['motheriq'])\n",
    "print(\"R2 is {0:3.3f}\".format(R2))\n",
    "print('Read + MotherIQ')\n",
    "R3,B3=multRegFit(D,D.score,['read','motheriq'])\n",
    "print(\"R2 is {0:3.3f}\".format(R3))\n"
   ]
  },
  {
   "cell_type": "markdown",
   "metadata": {},
   "source": [
    "> As expected, the R2 value for the full model is the highest. We need to be careful in not interpreting that to mean that both read and motheriq have an influence (for this you would need to account for model complexity). However, the joint model explains 63% of the variance, from which 28% can be alone explained by reading and 33% by motherIQ. There is no overlap between the regressors, indeed the regressors help each other in the prediction through suppression. "
   ]
  },
  {
   "cell_type": "markdown",
   "metadata": {},
   "source": [
    "## Task 2: Do crossvalidation on these models  ( / 32 pts)\n",
    "### Question 1 ( / 12 pts)\n",
    "Modify the leaveOneOutCV function from last homework, so it works on a data frame with the multiple regression analysis. The inputs to the function are:  \n",
    "\n",
    "def leaveOneOutCV(D,y,args=(),fitfcn=multRegFit,predictfcn=multRegPredict):\n",
    " - D: Data Frame with explanatory variables \n",
    " - y: A list or np-array of the response variable\n",
    " - args: Input arguments for the fitfcn and predict function (xname) \n",
    " - fitfcn: Function for fitting called as fitfcn(D,y,args)\n",
    " - predictfcn: Function for prediction called as predictfcn(D,y,args)\n"
   ]
  },
  {
   "cell_type": "code",
   "execution_count": 6,
   "metadata": {},
   "outputs": [],
   "source": [
    "def leaveOneOutCV(D,y,args=(),fitfcn=multRegFit,predictfcn=multRegPredict):\n",
    "    N = len(y) #Number of observations \n",
    "    yp= np.zeros(N)\n",
    "    ind = np.arange(N)\n",
    "    for i in range(N):\n",
    "        R2,b=fitfcn(D[ind!=i],y[ind!=i],args)\n",
    "        yp[i]=predictfcn(b,D[ind==i],args)\n",
    "    TSS  = sum((y-y.mean())**2)\n",
    "    RSS = sum((y-yp)**2)\n",
    "    R2cv = 1-RSS/TSS\n",
    "    return R2cv"
   ]
  },
  {
   "cell_type": "markdown",
   "metadata": {},
   "source": [
    "### Question 2 ( / 8 pts)\n",
    "Call the function to get the cross-validated R2 for the 4 models specified in Task 1, Question 3. How to you interpret these results? Is there evidence that reading increases the analytic score over and above what the IQ of the mother does? "
   ]
  },
  {
   "cell_type": "code",
   "execution_count": 7,
   "metadata": {},
   "outputs": [
    {
     "data": {
      "text/plain": [
       "-0.05795918367346764"
      ]
     },
     "execution_count": 7,
     "metadata": {},
     "output_type": "execute_result"
    }
   ],
   "source": [
    "leaveOneOutCV(D,D.score,[])"
   ]
  },
  {
   "cell_type": "code",
   "execution_count": 8,
   "metadata": {},
   "outputs": [
    {
     "data": {
      "text/plain": [
       "0.20419766461724675"
      ]
     },
     "execution_count": 8,
     "metadata": {},
     "output_type": "execute_result"
    }
   ],
   "source": [
    "leaveOneOutCV(D,D.score,['read'])"
   ]
  },
  {
   "cell_type": "code",
   "execution_count": 9,
   "metadata": {},
   "outputs": [
    {
     "data": {
      "text/plain": [
       "0.23646781973079833"
      ]
     },
     "execution_count": 9,
     "metadata": {},
     "output_type": "execute_result"
    }
   ],
   "source": [
    "leaveOneOutCV(D,D.score,['motheriq'])"
   ]
  },
  {
   "cell_type": "code",
   "execution_count": 10,
   "metadata": {},
   "outputs": [
    {
     "data": {
      "text/plain": [
       "0.5760093385026968"
      ]
     },
     "execution_count": 10,
     "metadata": {},
     "output_type": "execute_result"
    }
   ],
   "source": [
    "leaveOneOutCV(D,D.score,['read','motheriq'])"
   ]
  },
  {
   "cell_type": "markdown",
   "metadata": {},
   "source": [
    "> The crossvalidated R2 are -0.05, 0.20, 0.23, and 0.58 for the models respectively. This indicates that both hours of reading and the mother IQ are good predictors of the analytic score, and that both together are even a better predictor.   "
   ]
  },
  {
   "cell_type": "markdown",
   "metadata": {},
   "source": [
    "### Question 3 ( / 4 pts)\n",
    "Add the variable fatheriq to the model containing read and motheriq. Is there evidence that the IQ of the father improves the prediction over and above what hours reading and mother IQ can predict? "
   ]
  },
  {
   "cell_type": "code",
   "execution_count": 11,
   "metadata": {},
   "outputs": [
    {
     "data": {
      "text/plain": [
       "0.6326907021343173"
      ]
     },
     "execution_count": 11,
     "metadata": {},
     "output_type": "execute_result"
    }
   ],
   "source": [
    "leaveOneOutCV(D,D.score,['read','motheriq','fatheriq'])"
   ]
  },
  {
   "cell_type": "markdown",
   "metadata": {},
   "source": [
    "> Yes, the IQ of the father can predict analytical thinking score over and above what can be predicted by reading and mother iq"
   ]
  },
  {
   "cell_type": "markdown",
   "metadata": {},
   "source": [
    "### Question 4 ( / 8 pts)\n",
    "Is edutv (hours of educational TV) alone a reliable predictor of the analytic score? Does it add prediction power over and above from what the model motheriq + read + fatheriq can predict? \n"
   ]
  },
  {
   "cell_type": "code",
   "execution_count": 12,
   "metadata": {},
   "outputs": [
    {
     "data": {
      "text/plain": [
       "0.037315563547508424"
      ]
     },
     "execution_count": 12,
     "metadata": {},
     "output_type": "execute_result"
    }
   ],
   "source": [
    "leaveOneOutCV(D,D.score,['edutv'])"
   ]
  },
  {
   "cell_type": "code",
   "execution_count": 13,
   "metadata": {},
   "outputs": [
    {
     "data": {
      "text/plain": [
       "0.6209659501855302"
      ]
     },
     "execution_count": 13,
     "metadata": {},
     "output_type": "execute_result"
    }
   ],
   "source": [
    "leaveOneOutCV(D,D.score,['read','motheriq','fatheriq','edutv'])"
   ]
  },
  {
   "cell_type": "markdown",
   "metadata": {},
   "source": [
    "> Hours of educational TV is a alone a weak predictor of the analytical score. Together with reading, and IQ from father and mother, however, it is not a reliable predictor, as it decreases R2_cv. "
   ]
  },
  {
   "cell_type": "markdown",
   "metadata": {},
   "source": [
    "## Task 3: Bootstrap for multiple regression. ( / 40 pts)\n",
    "### Question 1 ( / 14 pts)\n",
    "Implement bootstrap for linear regression. Start from the function bootstrap from Homework 3. The function should have input parameters\n",
    "def bootstrapReg(D,y,args,fitfcn,numIter=500):\n",
    "and should return a numIter x numParams np.array of bootstrap estimates.  \n",
    "numParams is the length of b-vector returned from the fitfcn (in our case multiRegFit). That is, each column of the array should be the boostrap estimates for one of the regression coefficients. \n",
    "\n",
    "Note: you will also have to use here the following functions (add them to your notebook): \n",
    "- confidenceInt from HW 3\n",
    "\n",
    "Run the bootstrap on the data set in gifted.csv. Run the bootstrap on a simple regression model that explains ‘score’ from the explanatory variable ‘edutv’ alone. Report the CI for edutv -slope. Does the CI include zero- i.e. is the relationship between edutv and score significant? Which direction is the association between the two variables? "
   ]
  },
  {
   "cell_type": "code",
   "execution_count": 14,
   "metadata": {},
   "outputs": [],
   "source": [
    "def bootstrapReg(D,y,args,fitfcn=multRegFit,numIter=500):\n",
    "    R2,b=fitfcn(D,y,args)\n",
    "    numParams=len(b)\n",
    "    N = len(D.index)\n",
    "    ind  = np.arange(N)\n",
    "    stats = np.zeros((numIter,numParams))\n",
    "    for i in range(numIter):\n",
    "        sample=np.random.choice(ind,N)\n",
    "        R2,stats[i,:]=fitfcn(D.iloc[sample],y[sample],args)\n",
    "    return stats\n",
    "\n",
    "def confidenceInt(data,perc):\n",
    "    tail = (100-perc)/2 # Weight on each tail  \n",
    "    Int=(np.percentile(data,tail),np.percentile(data,100-tail))\n",
    "    return Int"
   ]
  },
  {
   "cell_type": "code",
   "execution_count": 18,
   "metadata": {},
   "outputs": [
    {
     "name": "stdout",
     "output_type": "stream",
     "text": [
      "(-4.978889120999433, -0.32431761013895516)\n",
      "Confidence interval is -4.98 - -0.32\n"
     ]
    }
   ],
   "source": [
    "D=pd.read_csv('gifted.csv')\n",
    "B=bootstrapReg(D,D.score,['edutv'])\n",
    "Int=confidenceInt(B[:,1],95)\n",
    "print(Int)\n",
    "print(\"Confidence interval is {0:3.2f} - {1:3.2f}\".format(Int[0],Int[1]))"
   ]
  },
  {
   "cell_type": "markdown",
   "metadata": {},
   "source": [
    "> The confidence interval does not include 0. Thus there is a negative relationship between the hours of educational TV and the analytical score of the child, with longer TV watching relating to lower scores. "
   ]
  },
  {
   "cell_type": "markdown",
   "metadata": {},
   "source": [
    "### Question 2 ( / 8 pts)\n",
    "Run the bootstrap on the model that explains score as a function of hours of cartoons watched. Is there a significant relationship between ‘cartoons’ and ‘score’? "
   ]
  },
  {
   "cell_type": "code",
   "execution_count": 19,
   "metadata": {},
   "outputs": [
    {
     "name": "stdout",
     "output_type": "stream",
     "text": [
      "(-0.5867242425635787, 3.825969795460018)\n",
      "Confidence interval is -0.59 - 3.83\n"
     ]
    }
   ],
   "source": [
    "B=bootstrapReg(D,D.score,['cartoons'])\n",
    "Int=confidenceInt(B[:,1],95)\n",
    "print(Int)\n",
    "print(\"Confidence interval is {0:3.2f} - {1:3.2f}\".format(Int[0],Int[1]))"
   ]
  },
  {
   "cell_type": "markdown",
   "metadata": {},
   "source": [
    "> The 95% confidence interval includes zero - so we cannot reject the null-hypothesis that cartoon watching is unrelated to analtical score. "
   ]
  },
  {
   "cell_type": "markdown",
   "metadata": {},
   "source": [
    "### Question 3 ( / 8 pts)\n",
    "Run the bootstrap on a model that explains score as a function of edutv and cartoons. Report the CIs for both variabless. Do the conclusion from Question 1 and 2 change? Have the CIs become smaller or larger as compared to the simple regression models from Question 1 and 2?"
   ]
  },
  {
   "cell_type": "code",
   "execution_count": 35,
   "metadata": {},
   "outputs": [
    {
     "name": "stdout",
     "output_type": "stream",
     "text": [
      "Confidence interval for influence of edutv -14.48--1.68\n",
      "Confidence interval for influence of cartoons -11.33-0.22\n"
     ]
    }
   ],
   "source": [
    "B=bootstrapReg(D,D.score,['edutv','cartoons'])\n",
    "Int1=confidenceInt(B[:,1],95)\n",
    "Int2=confidenceInt(B[:,2],95)\n",
    "print(\"Confidence interval for influence of edutv {0:3.2f}-{1:3.2f}\".format(Int1[0],Int1[1]))\n",
    "print(\"Confidence interval for influence of cartoons {0:3.2f}-{1:3.2f}\".format(Int2[0],Int2[1]))\n"
   ]
  },
  {
   "cell_type": "markdown",
   "metadata": {},
   "source": [
    "> The confidence intervals are increasing in size when both edutv and cartoons are considered. The overall conclusion from the basic intervals are not impacted. "
   ]
  },
  {
   "cell_type": "markdown",
   "metadata": {},
   "source": [
    "### Question 4 ( / 10 pts)\n",
    "Plot the bootstrap estimates for edutv and cartoons from Question 3 against each other in a scatter plot. Are they positively or negatively related? What does this mean for the relationship between the regressors?"
   ]
  },
  {
   "cell_type": "code",
   "execution_count": 36,
   "metadata": {},
   "outputs": [
    {
     "data": {
      "text/plain": [
       "Text(0, 0.5, 'cartoon slope')"
      ]
     },
     "execution_count": 36,
     "metadata": {},
     "output_type": "execute_result"
    },
    {
     "data": {
      "image/png": "[encoded data removed]",
      "text/plain": [
       "<Figure size 432x288 with 1 Axes>"
      ]
     },
     "metadata": {
      "needs_background": "light"
     },
     "output_type": "display_data"
    }
   ],
   "source": [
    "plt.scatter(B[:,1],B[:,2])\n",
    "plt.xlabel('edutv slope')\n",
    "plt.ylabel('cartoon slope')"
   ]
  },
  {
   "cell_type": "markdown",
   "metadata": {},
   "source": [
    "*Figure 2*. scatter plot of the slope of the cartoon variable vs. the slope of edutv variable"
   ]
  },
  {
   "cell_type": "markdown",
   "metadata": {},
   "source": [
    "> There is a strong positive correlation between the parameter estimates in the bootstrap. This indicates that there is a strong negative correlation between the regressors (which there is). This indicates that kids either watch cartoons or educational TV. "
   ]
  },
  {
   "cell_type": "code",
   "execution_count": null,
   "metadata": {},
   "outputs": [],
   "source": []
  }
 ],
 "metadata": {
  "kernelspec": {
   "display_name": "Python 3",
   "language": "python",
   "name": "python3"
  },
  "language_info": {
   "codemirror_mode": {
    "name": "ipython",
    "version": 3
   },
   "file_extension": ".py",
   "mimetype": "text/x-python",
   "name": "python",
   "nbconvert_exporter": "python",
   "pygments_lexer": "ipython3",
   "version": "3.8.8"
  }
 },
 "nbformat": 4,
 "nbformat_minor": 4
}

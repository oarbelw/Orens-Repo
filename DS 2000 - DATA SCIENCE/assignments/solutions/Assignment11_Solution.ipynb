{
 "cells": [
  {
   "cell_type": "markdown",
   "metadata": {},
   "source": [
    "# Assignment 11: Mathematical modelling - final practice\n",
    "## Learning goals \n",
    "This homework includes some repeated task and variations on model fitting, and model comparision, which should prepare you optimally for the final. Try to solve the task in the homework independently, and prepare a cheat-sheet and a file with useful functions, such that you can complete this homework in 3 hrs or less. \n",
    "\n",
    "## Data set \n",
    "The file babies.csv contains data from the Child Health and Development Studies, which investigate a range of topics. One study considered all pregnancies between 1960 and 1967 among women in the Kaiser Foundation Health Plan in the San Francisco East Bay area. Here, we look at the predictor of birth weight of babies, measured in ounces, as well as the occurence of complications in the first 3 month. \n",
    "\n",
    "The data frame stored in babies.csv contains the variables: \n",
    "- case:       Case number\n",
    "- gestation:    Gestation period (length of pregnancy) [days]\n",
    "- parity:        1: child the first born 0: Child has older siblings \n",
    "- age:           Age of the mom at time of birth\n",
    "- height:       Height of the baby [cm].\n",
    "- Weight:        Weight of the baby [ounces].  \n",
    "- smoke:        Is the mom a smoker / non-smoker? \n",
    "- hospital:     Which hospital was the birth at? Oakland, SanFrancisco, WalnutCreek, SanJose, and Richmond.\n",
    "- complication: Was there a complication within the first 3 month of pregnancy (0: No 1:Yes) \n",
    "\n",
    "## Preliminaries\n",
    "Set up the environment by importing pandas, seaborn, numpy, scipy.optimize and matplotlib. Because we are using plots make sure that you configure your notebook such that plots are shown inline (see Assignment 2). "
   ]
  },
  {
   "cell_type": "code",
   "execution_count": 1,
   "metadata": {},
   "outputs": [],
   "source": [
    "import matplotlib\n",
    "matplotlib.use('TkAgg')\n",
    "import matplotlib.pyplot as plt \n",
    "%matplotlib inline\n",
    "import scipy.optimize as so\n",
    "import seaborn as sns\n",
    "import pandas as pd \n",
    "import numpy as np"
   ]
  },
  {
   "cell_type": "markdown",
   "metadata": {},
   "source": [
    "## Task 1: Multiple regression with discrete variables ( / 36 pts)\n",
    "### Question 1 ( / 10pt)\n",
    "Create a dummy variable for Smoker / Non-smoker. Set the value for “Smoker” to 1 and for “Non-smoker” to 0. Estimate a regression model with the dummy variable as a regressor <font color = 'red'> and birth weight as the response variable.<font color = 'black'> Report the value of the intercept and slope. What does the intercept and slope value indicate? \n"
   ]
  },
  {
   "cell_type": "code",
   "execution_count": 2,
   "metadata": {},
   "outputs": [],
   "source": [
    "def multRegPredict(b,D,xname):\n",
    "    yp=np.ones(len(D.index))*b[0]        # Intercept \n",
    "    for i in range(len(xname)):          \n",
    "        yp=yp+D[xname[i]]*b[i+1]         # Add each regression value \n",
    "    return yp \n",
    "\n",
    "def multRegLossRSS(b,D,y,xname):\n",
    "    predY = multRegPredict(b,D,xname)\n",
    "    res = y-predY\n",
    "    rss = sum(res**2)\n",
    "    grad=np.zeros(len(b))\n",
    "    grad[0]=-2*np.sum(res)\n",
    "    for i in range(len(xname)):\n",
    "        grad[i+1]=-2*np.sum(D[xname[i]]*res)\n",
    "    return (rss,grad)\n",
    "\n",
    "def multRegFit(D,y,xname,figure=0,b0=[]):\n",
    "    k=len(xname)+1\n",
    "    if (len(b0)!=k):\n",
    "        b0=np.zeros((k,1))\n",
    "    RES = so.minimize(multRegLossRSS,b0,args=(D,y,xname),jac=True)\n",
    "    b=RES.x # Results\n",
    "    res = y-np.mean(y)\n",
    "    TSS = sum(res**2)\n",
    "    RSS,deriv = multRegLossRSS(b,D,y,xname)\n",
    "    R2 = 1-RSS/TSS \n",
    "    if (k==2 and figure==1):\n",
    "        fig = plt.figure()\n",
    "        ax = fig.add_subplot(1,1,1)\n",
    "        ax.scatter(D[xname[0]],y)\n",
    "        xRange=[min(D[xname[0]]),max(D[xname[0]])]\n",
    "        xp=np.arange(xRange[0],xRange[1],(xRange[1]-xRange[0])/50)\n",
    "        yp=b[0]+b[1]*xp\n",
    "        ax.plot(xp,yp,'r-')\n",
    "        ax.spines['top'].set_visible(False)\n",
    "        ax.spines['right'].set_visible(False)\n",
    "    return (R2,b)"
   ]
  },
  {
   "cell_type": "code",
   "execution_count": 3,
   "metadata": {},
   "outputs": [],
   "source": [
    "D = pd.read_csv('babies.csv')"
   ]
  },
  {
   "cell_type": "code",
   "execution_count": 4,
   "metadata": {},
   "outputs": [],
   "source": [
    "D['smokeDummy'] = np.double(D['smoke'] == 'Smoker')"
   ]
  },
  {
   "cell_type": "code",
   "execution_count": 5,
   "metadata": {},
   "outputs": [
    {
     "name": "stdout",
     "output_type": "stream",
     "text": [
      "The intercept is 129.3086592178771 \n",
      "The slope is -2.4331133663486995 \n"
     ]
    },
    {
     "data": {
      "image/png": "[encoded data removed]",
      "text/plain": [
       "<Figure size 432x288 with 1 Axes>"
      ]
     },
     "metadata": {
      "needs_background": "light"
     },
     "output_type": "display_data"
    }
   ],
   "source": [
    "r2, b = multRegFit(D,D['weight'],['smokeDummy'],figure=1,b0=[])\n",
    "plt.xlabel('smoke dummy variable')\n",
    "plt.ylabel('birth weight')\n",
    "print('The intercept is %s ' % b[0])\n",
    "print('The slope is %s ' % b[1])"
   ]
  },
  {
   "cell_type": "markdown",
   "metadata": {},
   "source": [
    "*Figure 1*. Shows the scatter plot of birth weight of babies with smoking mothers (1) and non-smoking moms (0). The red line is the regression line."
   ]
  },
  {
   "cell_type": "markdown",
   "metadata": {},
   "source": [
    "> b0 (the intercept) is the mean of the non-smoking group (y = b[0] + b[1] * 0) and b[1] is the difference between the means of smokers and non-smokers (y = b[0] + b[1] * 1). Since b[1] is a negative value, the mean birth weight of babies of smoker group is lower than the mean of the smoker group."
   ]
  },
  {
   "cell_type": "markdown",
   "metadata": {},
   "source": [
    "### Question 2 ( / 5pt)\n",
    "Make a boxplot of hospital on the x-axis and birthweight on the y-axis (see HW2 for an example). Which hospital has the lowest overall birth weight?  "
   ]
  },
  {
   "cell_type": "code",
   "execution_count": 6,
   "metadata": {},
   "outputs": [
    {
     "name": "stderr",
     "output_type": "stream",
     "text": [
      "/Users/oren/opt/anaconda3/lib/python3.8/site-packages/seaborn/_decorators.py:36: FutureWarning: Pass the following variables as keyword args: x, y. From version 0.12, the only valid positional argument will be `data`, and passing other arguments without an explicit keyword will result in an error or misinterpretation.\n",
      "  warnings.warn(\n"
     ]
    },
    {
     "data": {
      "text/plain": [
       "<AxesSubplot:xlabel='hospital', ylabel='weight'>"
      ]
     },
     "execution_count": 6,
     "metadata": {},
     "output_type": "execute_result"
    },
    {
     "data": {
      "image/png": "[encoded data removed]",
      "text/plain": [
       "<Figure size 432x288 with 1 Axes>"
      ]
     },
     "metadata": {
      "needs_background": "light"
     },
     "output_type": "display_data"
    }
   ],
   "source": [
    "sns.boxplot(D.hospital,D.weight)"
   ]
  },
  {
   "cell_type": "markdown",
   "metadata": {},
   "source": [
    "*Figure 2*. Boxplot of birth weight of babies grouped by the hospital"
   ]
  },
  {
   "cell_type": "markdown",
   "metadata": {},
   "source": [
    "> Oakland has the lowest average (and median) birth weight. "
   ]
  },
  {
   "cell_type": "markdown",
   "metadata": {},
   "source": [
    "### Question 3  ( / 7pt)\n",
    "Create a set of 4 dummy variables that together code the hospital. Set Walnut Creek to be your comparison group. Run a multiple regression model with the 4 dummy variables as explanatory variables. Report the interecept and slope values. What do the intercept and slope values mean? "
   ]
  },
  {
   "cell_type": "code",
   "execution_count": 7,
   "metadata": {},
   "outputs": [],
   "source": [
    "D['hospOAK'] = np.double(D.hospital=='Oakland')\n",
    "D['hospSFO'] = np.double(D.hospital=='SanFrancisco')\n",
    "D['hospSJO'] = np.double(D.hospital=='SanJose')\n",
    "D['hospRIM'] = np.double(D.hospital=='Richmond')"
   ]
  },
  {
   "cell_type": "code",
   "execution_count": 8,
   "metadata": {},
   "outputs": [
    {
     "name": "stdout",
     "output_type": "stream",
     "text": [
      "B:130.984\n",
      "B:-10.002\n",
      "B:-0.100\n",
      "B:0.483\n",
      "B:-3.292\n"
     ]
    }
   ],
   "source": [
    "r2,b=multRegFit(D,D.weight,['hospOAK','hospSFO','hospSJO','hospRIM'])\n",
    "print(\"B:{0:3.3f}\".format(b[0]))\n",
    "print(\"B:{0:3.3f}\".format(b[1]))\n",
    "print(\"B:{0:3.3f}\".format(b[2]))\n",
    "print(\"B:{0:3.3f}\".format(b[3]))\n",
    "print(\"B:{0:3.3f}\".format(b[4]))"
   ]
  },
  {
   "cell_type": "markdown",
   "metadata": {},
   "source": [
    "> The incept is 130.9, which is the average weight for WalnutCreek<br> \n",
    "The slope for Oakland is -10, which means that the birth weight of babies in Oakland is 10oz lower than in WC <br>\n",
    "The slope for SFO is -0.09, which means that the birth weight of babies in SF is only 0.09 oz lower than in WC<br>\n",
    "The slope for SJO is 0.48, which means that the birth weight of babies in San Jose is  0.48 oz higher than in WC<br>\n",
    "The slope for Richmond is -3.29, which means that the birth weight of babies in SF is only 3.29 oz lower than in WC<br>"
   ]
  },
  {
   "cell_type": "markdown",
   "metadata": {},
   "source": [
    "### Question 4 ( / 7 pts)\n",
    "Use your bootstrap routine (HW10) on the multiple regression model of Q3 to get 500 bootstrap samples. The difference between the average birth weight between Oakland and SanJose hospitals can be calculated as a difference between the corresponding slope parameters. Report the 95% Confidences interval for the difference. Use the confidence interval to see if the difference significant at the p=0.05 level. "
   ]
  },
  {
   "cell_type": "code",
   "execution_count": 9,
   "metadata": {},
   "outputs": [],
   "source": [
    "def bootstrapReg(D,y,args,fitfcn,numIter=1000):\n",
    "    r2, b=fitfcn(D,y,args)\n",
    "    numParams=len(b)\n",
    "    N = len(D.index) # number of data points\n",
    "    ind  = np.arange(N) # a numpy array containing the indices\n",
    "    stats = np.zeros((numIter,numParams)) # preallocating the np array for parameters (each column will be the distribution for a parameter)\n",
    "    for i in range(numIter):\n",
    "        sample = np.random.choice(ind,N) # sampling with replacement\n",
    "        r2 , stats[i, :]=fitfcn(D.iloc[sample],y[sample],args)\n",
    "    return stats\n",
    "\n",
    "def confidenceInt(data,perc):\n",
    "    Int=(np.percentile(data,(100-perc)/2),np.percentile(data,100-(100-perc)/2))\n",
    "    return Int"
   ]
  },
  {
   "cell_type": "code",
   "execution_count": 10,
   "metadata": {},
   "outputs": [],
   "source": [
    "params = bootstrapReg(D,D['weight'],['hospOAK','hospSFO','hospSJO','hospRIM'],multRegFit,numIter=500)"
   ]
  },
  {
   "cell_type": "code",
   "execution_count": 11,
   "metadata": {},
   "outputs": [
    {
     "name": "stdout",
     "output_type": "stream",
     "text": [
      "the lower bound of the confidence interval is -15.471571989518832\n",
      "the upper bound of the confidence interval is -5.872411127217564\n"
     ]
    }
   ],
   "source": [
    "bwOAK = params[:, 1] # getting the distribution for birth weight in oakland\n",
    "bwSJO = params[:, 3] # getting the distribution for birth weight in San Jose\n",
    "\n",
    "bwDif = bwOAK - bwSJO; # distribution for the difference\n",
    "\n",
    "ci = confidenceInt(bwDif,95)\n",
    "print('the lower bound of the confidence interval is %s' % ci[0])\n",
    "print('the upper bound of the confidence interval is %s' % ci[1])\n",
    "\n"
   ]
  },
  {
   "cell_type": "markdown",
   "metadata": {},
   "source": [
    "> The CI does not include zero. That means that we can reject the Null-hypothesis that the average birth weights are equal in both hospital with a Type I error of p < 5%.  "
   ]
  },
  {
   "cell_type": "markdown",
   "metadata": {},
   "source": [
    "### Question 5 ( / 7 pts)\n",
    "Run a regression analysis of the weight (response variable) as a function of whether the birth occurred at the Oakland hospital as opposed to any other of the other hospitals. To do this, only include a dummy coded variable which is 1 for the Oakland hospital and zero for the others. What does the slope value for this variable indicate?"
   ]
  },
  {
   "cell_type": "code",
   "execution_count": 12,
   "metadata": {},
   "outputs": [
    {
     "data": {
      "text/plain": [
       "array([129.98544699,  -9.00431491])"
      ]
     },
     "execution_count": 12,
     "metadata": {},
     "output_type": "execute_result"
    },
    {
     "data": {
      "image/png": "[encoded data removed]",
      "text/plain": [
       "<Figure size 432x288 with 1 Axes>"
      ]
     },
     "metadata": {
      "needs_background": "light"
     },
     "output_type": "display_data"
    }
   ],
   "source": [
    "R2,b=multRegFit(D,D.weight,['hospOAK'],figure=1)\n",
    "plt.xlabel('Dummy variable for oakland hospital, 1 for oakland and 0 otherwise')\n",
    "plt.ylabel('birth weight')\n",
    "b"
   ]
  },
  {
   "cell_type": "markdown",
   "metadata": {},
   "source": [
    "*Figure 3*. Shows the scatter for birth weight of two population groups with the linear regression line polotted in red"
   ]
  },
  {
   "cell_type": "markdown",
   "metadata": {},
   "source": [
    "> The slope is -9.0 ,which indicates a average birth weight difference between kids born in the Oakland hospital vs. other hospitals. "
   ]
  },
  {
   "cell_type": "markdown",
   "metadata": {},
   "source": [
    "## Task 2: Model selection for multiple regression  ( / 30 pts)\n",
    "### Question 1 ( / 18 pts)\n",
    "Write a version of the crossvalidation function that does K-fold crossvalidation and works specifically with multRegFit as the fitting function. \n",
    "\n",
    "KfoldCVmultReg(D,y,args=(),K=20,fitfcn=multRegFit,predictfcn=multRegPredict):\n",
    "- D: Data Frame with explanatory variables  \n",
    "- y: response variable \n",
    "- args: List of arguments given to the fitting function: This is normally a list of xnames \n",
    "- K: Number of crossvalidation folds \n",
    "- fitfcn: Funtion used for fitting \n",
    "- predictfcn: Function used fro predicting \n",
    "\n",
    "The code should compute and return the crossvalidated R2 and the fitted R2. \n",
    "Run 20-fold crossvalidation on the multiple regression model, with birth weight as the response variable and \n",
    "\n",
    "- age of the mother \n",
    "- smoker (dummy coded) \n",
    "- birth occurred in Oakland? \n",
    "- gestation \n",
    "\n",
    "as explanatory variables. \n",
    "Report R2cv and R2. "
   ]
  },
  {
   "cell_type": "code",
   "execution_count": 13,
   "metadata": {},
   "outputs": [],
   "source": [
    "def KfoldCVmultReg(D,y,args=(),K=20,fitfcn=multRegFit,predictfcn=multRegPredict):\n",
    "    N = len(y) #Number of observations\n",
    "    yp= np.zeros(N)\n",
    "    ind = np.arange(N)\n",
    "    ind = np.floor(ind/N*K)\n",
    "    \n",
    "    # Get overall model fit \n",
    "    R2,b_all=fitfcn(D,y,args)\n",
    "\n",
    "    # Loop over the crossvalidation folds \n",
    "    for i in range(K):\n",
    "        r,b=fitfcn(D[ind!=i],y[ind!=i],args,b0=b_all,figure=0)\n",
    "        yp[ind==i]=predictfcn(b,D[ind==i],args)\n",
    "        \n",
    "    # Calculate crossvalidated model fit \n",
    "    TSS  = sum((y-y.mean())**2)\n",
    "    RSScv = sum((y-yp)**2)\n",
    "    R2cv = 1-RSScv/TSS\n",
    "    return R2cv,R2 "
   ]
  },
  {
   "cell_type": "code",
   "execution_count": 14,
   "metadata": {},
   "outputs": [
    {
     "data": {
      "text/plain": [
       "(0.03382170220563052, 0.047744007589578086)"
      ]
     },
     "execution_count": 14,
     "metadata": {},
     "output_type": "execute_result"
    }
   ],
   "source": [
    "KfoldCVmultReg(D,D.weight,['age','smokeDummy','hospOAK','gestation'])"
   ]
  },
  {
   "cell_type": "markdown",
   "metadata": {},
   "source": [
    "> R2 is 0.477, and cv R2 is 0.033. So overall, we are able to only predict 3.3% of the variance "
   ]
  },
  {
   "cell_type": "markdown",
   "metadata": {},
   "source": [
    "### Question 2 ( / 12 pts)\n",
    "Using the R2cv from the 20-fold crossvalidation, determine the best predictive model for birthweight using the following candidate variables \n",
    "\n",
    "- age of mom\n",
    "- smoker (dummy coded) \n",
    "- birth occurred in Oakland? \n",
    "- gestation \n",
    "\n",
    "Start with the R2cv for the full model (Question 1)and use backwards step-wise regression to find the best model (the model that increases R2cv the most). Show all steps of your selection procedure. Report the formula of your best model. "
   ]
  },
  {
   "cell_type": "code",
   "execution_count": 15,
   "metadata": {},
   "outputs": [
    {
     "data": {
      "text/plain": [
       "(0.01897679751401382, 0.031189259722306018)"
      ]
     },
     "execution_count": 15,
     "metadata": {},
     "output_type": "execute_result"
    }
   ],
   "source": [
    "KfoldCVmultReg(D,D.weight,['smokeDummy','hospOAK','gestation'])"
   ]
  },
  {
   "cell_type": "code",
   "execution_count": 16,
   "metadata": {},
   "outputs": [
    {
     "data": {
      "text/plain": [
       "(0.03289000306090084, 0.04619836609449535)"
      ]
     },
     "execution_count": 16,
     "metadata": {},
     "output_type": "execute_result"
    }
   ],
   "source": [
    "KfoldCVmultReg(D,D.weight,['age','hospOAK','gestation'])"
   ]
  },
  {
   "cell_type": "code",
   "execution_count": 17,
   "metadata": {},
   "outputs": [
    {
     "data": {
      "text/plain": [
       "(0.015467316507549511, 0.02237616527402031)"
      ]
     },
     "execution_count": 17,
     "metadata": {},
     "output_type": "execute_result"
    }
   ],
   "source": [
    "KfoldCVmultReg(D,D.weight,['age','smokeDummy','gestation'])"
   ]
  },
  {
   "cell_type": "code",
   "execution_count": 18,
   "metadata": {},
   "outputs": [
    {
     "data": {
      "text/plain": [
       "(0.03531962896197227, 0.04749979322344988)"
      ]
     },
     "execution_count": 18,
     "metadata": {},
     "output_type": "execute_result"
    }
   ],
   "source": [
    "KfoldCVmultReg(D,D.weight,['age','smokeDummy','hospOAK'])"
   ]
  },
  {
   "cell_type": "markdown",
   "metadata": {},
   "source": [
    "> The R2cv only increases when dropping gestation from the model. So we drop this variable and proceed with trying to drop another variable. "
   ]
  },
  {
   "cell_type": "code",
   "execution_count": 19,
   "metadata": {},
   "outputs": [
    {
     "data": {
      "text/plain": [
       "(0.02076634832531976, 0.031126314750102524)"
      ]
     },
     "execution_count": 19,
     "metadata": {},
     "output_type": "execute_result"
    }
   ],
   "source": [
    "KfoldCVmultReg(D,D.weight,['smokeDummy','hospOAK'])"
   ]
  },
  {
   "cell_type": "code",
   "execution_count": 20,
   "metadata": {},
   "outputs": [
    {
     "data": {
      "text/plain": [
       "(0.03437292634592415, 0.04587286452834338)"
      ]
     },
     "execution_count": 20,
     "metadata": {},
     "output_type": "execute_result"
    }
   ],
   "source": [
    "KfoldCVmultReg(D,D.weight,['age','hospOAK'])"
   ]
  },
  {
   "cell_type": "code",
   "execution_count": 21,
   "metadata": {},
   "outputs": [
    {
     "data": {
      "text/plain": [
       "(0.01649009937355439, 0.021619402754245898)"
      ]
     },
     "execution_count": 21,
     "metadata": {},
     "output_type": "execute_result"
    }
   ],
   "source": [
    "KfoldCVmultReg(D,D.weight,['age','smokeDummy'])"
   ]
  },
  {
   "cell_type": "markdown",
   "metadata": {},
   "source": [
    "> Dropping any further variable leads to a decreae of the R2cv, so the final model is  \n",
    "\n",
    "> weight = b0 + b1 \\*age + b2 \\* smokeDummy +  b2 \\*hospOAK"
   ]
  },
  {
   "cell_type": "markdown",
   "metadata": {},
   "source": [
    "## Task 3: Logistic regression model to predict complications ( / 34 pts)\n",
    "In this task you will create and test a logistic regression model that predicts the presence of a complication in the first three month (0: no complication, 1: complication). \n",
    "### Question 1: Improving your logistic regression model code ( / 10 pt) \n",
    "Improve your code for logisitic regression in two ways: \n",
    "\n",
    "1. prevent log(0) errors by making sure that your predicted value never is smaller than 1e-20 or larger than 1-1e-20. \n",
    "\n",
    "2. Let logisticRegFit take an additional input parameter, telling it whether it should plot a figure or not (figure=1) \n",
    "\n",
    "3. Let logisticRegFit take an additional input parameter, specifying the starting value for the parameters (b0=[]). If b0 is empty, the function should start with a vector off all zeros. "
   ]
  },
  {
   "cell_type": "code",
   "execution_count": 22,
   "metadata": {},
   "outputs": [],
   "source": [
    "def logisticRegPredict(b,D,xname):\n",
    "    yp=np.ones(len(D.index))*b[0]       # Start out with the intercept  \n",
    "    for i in range(len(xname)):\n",
    "        yp=yp+D[xname[i]]*b[i+1]        # Add the prediction of each regressor seperately \n",
    "    p = np.exp(yp)/(1+np.exp(yp))\n",
    "    p[p<1e-12]=1e-12 #making sure predicted value is never small than 1e-20 or larger than 1-1e-20\n",
    "    p[p>(1-(1e-12))]=1-(1e-12)\n",
    "    return p \n",
    "    \n",
    "def logisticRegLoss(b,D,y,xname):\n",
    "    p = logisticRegPredict(b,D,xname)\n",
    "    cost = -y*np.log(p)-(1-y)*np.log(1-p)\n",
    "    N=len(xname)\n",
    "    grad=np.zeros(N+1)\n",
    "    res = y-p\n",
    "    grad[0]=-sum(res)\n",
    "    for i in range(N):\n",
    "        grad[i+1]=-np.sum(D[xname[i]]*res)         # Add each regressor \n",
    "    return (cost.sum(),grad)\n",
    "    \n",
    "def logisticRegFit(D,y,xname,figure=0,b0=[]):\n",
    "    k=len(xname)+1\n",
    "    if (len(b0)!=k):\n",
    "        b0=np.zeros(k)\n",
    "    RES = so.minimize(logisticRegLoss,b0,args=(D,y,xname),jac=True)\n",
    "    b = RES.x\n",
    "    ll = -RES.fun # Negative function value is the log likelihood \n",
    "    p = logisticRegPredict(b,D,xname)\n",
    "    if (k==2 & figure==1):\n",
    "        fig = plt.figure()\n",
    "        ax = fig.add_subplot(1,1,1)\n",
    "        ax.scatter(D[xname[0]],y)\n",
    "        xRange=[min(D[xname[0]]),max(D[xname[0]])]\n",
    "        xp=np.arange(xRange[0],xRange[1],(xRange[1]-xRange[0])/50)\n",
    "        yp=b[0]+b[1]*xp\n",
    "        pp=np.exp(yp)/(1+np.exp(yp))\n",
    "        ax.plot(xp,pp,'r-')\n",
    "        ax.spines['top'].set_visible(False)\n",
    "        ax.spines['right'].set_visible(False)\n",
    "    return (ll,b)"
   ]
  },
  {
   "cell_type": "markdown",
   "metadata": {},
   "source": [
    "### Question 2: Crossvalidation of logistic models ( / 10 pts) \n",
    "Modify the KfoldCVmultReg function to make it work for logistic regression. As before, use K-fold crossvalidation. The main changes are that \n",
    "- you need to use logisticRegFit and logisticRegPredict as fitfcn and predictfcn respectively. \n",
    "- instead of the crossvalidated R2, your function should return the crossvalidated log-likelihood and non-crossvalidated log-likelihood. \n",
    "\n",
    "Using your function, calculate the the difference in crossvalidated log-likelihood for the model that predicts complications with an intercept only (b0) and a model that predicts complications with an intercept and smokeDummy. \n",
    "From the difference, report the Bayes-Factor between the two models. What do you conclude? "
   ]
  },
  {
   "cell_type": "code",
   "execution_count": 23,
   "metadata": {},
   "outputs": [],
   "source": [
    "def KfoldCVlogisticReg(D,y,args=(),K=20,fitfcn=logisticRegFit,predictfcn=logisticRegPredict):\n",
    "    N = len(y) #Number of observations\n",
    "    yp= np.zeros(N)\n",
    "    ind = np.arange(N)\n",
    "    ind = np.floor(ind/N*K)\n",
    "    \n",
    "    # Get overall model fit \n",
    "    LL,b_all=fitfcn(D,y,args)\n",
    "    \n",
    "    # Loop over the crossvalidation folds \n",
    "    for i in range(K):\n",
    "        r,b=fitfcn(D[ind!=i],y[ind!=i],args,b0=b_all,figure=0)\n",
    "        yp[ind==i]=predictfcn(b,D[ind==i],args)\n",
    "    LLcv = sum(y*np.log(yp)+(1-y)*np.log(1-yp))\n",
    "    return LLcv,LL "
   ]
  },
  {
   "cell_type": "code",
   "execution_count": 24,
   "metadata": {},
   "outputs": [
    {
     "data": {
      "text/plain": [
       "1.0991270013042822"
      ]
     },
     "execution_count": 24,
     "metadata": {},
     "output_type": "execute_result"
    }
   ],
   "source": [
    "D=pd.read_csv('babies.csv')\n",
    "D['smokeDummy'] = np.double(D.smoke=='Smoker')\n",
    "llcv0,ll0=KfoldCVlogisticReg(D,D.complication,[])\n",
    "llcv1,ll1=KfoldCVlogisticReg(D,D.complication,['smokeDummy'])\n",
    "llcv1-llcv0"
   ]
  },
  {
   "cell_type": "code",
   "execution_count": 31,
   "metadata": {},
   "outputs": [
    {
     "data": {
      "text/plain": [
       "-648.2076422401493"
      ]
     },
     "execution_count": 31,
     "metadata": {},
     "output_type": "execute_result"
    }
   ],
   "source": [
    "llcv1"
   ]
  },
  {
   "cell_type": "code",
   "execution_count": 32,
   "metadata": {},
   "outputs": [
    {
     "data": {
      "text/plain": [
       "-649.3067692414536"
      ]
     },
     "execution_count": 32,
     "metadata": {},
     "output_type": "execute_result"
    }
   ],
   "source": [
    "llcv0"
   ]
  },
  {
   "cell_type": "code",
   "execution_count": 25,
   "metadata": {},
   "outputs": [
    {
     "data": {
      "text/plain": [
       "3.0015445353703543"
      ]
     },
     "execution_count": 25,
     "metadata": {},
     "output_type": "execute_result"
    }
   ],
   "source": [
    "np.exp(llcv1-llcv0)"
   ]
  },
  {
   "cell_type": "markdown",
   "metadata": {},
   "source": [
    "> There is just about positive evidence that smoking leads to increased chance of complications in the first 3 month.  "
   ]
  },
  {
   "cell_type": "markdown",
   "metadata": {},
   "source": [
    "### Question 3 ( / 7 pts):\n",
    "Compare the model that uses only smoking (and intercept) as explanatory variable to one that uses additionally (to intercept and smoking) the weight of the baby at birth, age of the mom, or both. Calculate crossvalidated Log-likelihood, which one is the best model? "
   ]
  },
  {
   "cell_type": "code",
   "execution_count": 26,
   "metadata": {},
   "outputs": [
    {
     "data": {
      "text/plain": [
       "2.332767026838951"
      ]
     },
     "execution_count": 26,
     "metadata": {},
     "output_type": "execute_result"
    }
   ],
   "source": [
    "llcv2,ll2=KfoldCVlogisticReg(D,D.complication,['smokeDummy','weight'])\n",
    "llcv2-llcv1"
   ]
  },
  {
   "cell_type": "code",
   "execution_count": 27,
   "metadata": {},
   "outputs": [
    {
     "data": {
      "text/plain": [
       "-0.3726609463732302"
      ]
     },
     "execution_count": 27,
     "metadata": {},
     "output_type": "execute_result"
    }
   ],
   "source": [
    "llcv2,ll2=KfoldCVlogisticReg(D,D.complication,['smokeDummy','age'])\n",
    "llcv2-llcv1"
   ]
  },
  {
   "cell_type": "code",
   "execution_count": 28,
   "metadata": {},
   "outputs": [
    {
     "data": {
      "text/plain": [
       "1.807190223000248"
      ]
     },
     "execution_count": 28,
     "metadata": {},
     "output_type": "execute_result"
    }
   ],
   "source": [
    "llcv2,ll2=KfoldCVlogisticReg(D,D.complication,['smokeDummy','weight','age'])\n",
    "llcv2-llcv1"
   ]
  },
  {
   "cell_type": "markdown",
   "metadata": {},
   "source": [
    "> According to the crossvalidated likelihood, the model with smoking and weight is the best model. Adding age into the model does not seem to increase the prediction.  "
   ]
  },
  {
   "cell_type": "markdown",
   "metadata": {},
   "source": [
    "### Question 4 ( / 7 pts): \n",
    "In the model (['smokeDummy','weight']), how do each of the explanatory variables contribute to the chance of complication? That is, for each variable, would an increase an the variable lead to an increased or decreased probability of a complication? In terms of risk of complications, how many oz of weight is equivalent to a smoking mother?  "
   ]
  },
  {
   "cell_type": "code",
   "execution_count": 29,
   "metadata": {},
   "outputs": [
    {
     "data": {
      "text/plain": [
       "array([-0.06186291,  0.29967269, -0.00948856])"
      ]
     },
     "execution_count": 29,
     "metadata": {},
     "output_type": "execute_result"
    }
   ],
   "source": [
    "ll,b=logisticRegFit(D,D.complication,['smokeDummy','weight'])\n",
    "b"
   ]
  },
  {
   "cell_type": "code",
   "execution_count": 30,
   "metadata": {},
   "outputs": [
    {
     "data": {
      "text/plain": [
       "-31.582522157299405"
      ]
     },
     "execution_count": 30,
     "metadata": {},
     "output_type": "execute_result"
    }
   ],
   "source": [
    "b[1]/b[2]"
   ]
  },
  {
   "cell_type": "markdown",
   "metadata": {},
   "source": [
    "> Smoking increases the chances of complication. Lower weight also increases the chances of complications. Smoking adds about as much risk at a lower birthweight of 31oz. "
   ]
  },
  {
   "cell_type": "code",
   "execution_count": null,
   "metadata": {},
   "outputs": [],
   "source": []
  }
 ],
 "metadata": {
  "kernelspec": {
   "display_name": "Python 3",
   "language": "python",
   "name": "python3"
  },
  "language_info": {
   "codemirror_mode": {
    "name": "ipython",
    "version": 3
   },
   "file_extension": ".py",
   "mimetype": "text/x-python",
   "name": "python",
   "nbconvert_exporter": "python",
   "pygments_lexer": "ipython3",
   "version": "3.8.8"
  }
 },
 "nbformat": 4,
 "nbformat_minor": 4
}

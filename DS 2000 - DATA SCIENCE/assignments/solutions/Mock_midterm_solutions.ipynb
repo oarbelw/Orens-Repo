{
 "cells": [
  {
   "cell_type": "markdown",
   "metadata": {},
   "source": [
    "# Midterm IS2002B. Student ID: xxxxxx\n",
    "## General comments \n",
    "This Midterm integrates knowledge and skills acquired in the first half of the semester, especially in the last 6 Assignments. You are allowed to use any document and source on your computer and look up documents on the internet. You or not allowed to share documents, or communicate in any other way with people inside or outside the class room during the midterm. To finish the midterm in the alloted 2 hrs, you will have to work fast and efficiently. Good luck!\n",
    "## Preliminaries\n",
    "Sets up the environment by importing pandas, numpy, and matplotlib. Because we are using plots make sure that you configure your notebook such that plots are shown inline (see Assignment 2). "
   ]
  },
  {
   "cell_type": "code",
   "execution_count": 10,
   "metadata": {},
   "outputs": [],
   "source": [
    "import matplotlib\n",
    "matplotlib.use('TkAgg')\n",
    "import matplotlib.pyplot as plt \n",
    "%matplotlib inline\n",
    "import scipy.stats as ss\n",
    "import pandas as pd \n",
    "import numpy as np\n",
    "import seaborn as sb"
   ]
  },
  {
   "cell_type": "markdown",
   "metadata": {},
   "source": [
    "## Data set \n",
    "The data set for the midterm is a *random* sample of 377 observations from the US 2000 census. A census is a count of the entire population of the US, conducted every 10 years. 16% of the population (selected at random) also fill out a long-form. The present data comes from these long-form respondents. \n",
    "\n",
    "The data frame contains the data\n",
    "- censusYear:\t\tCensus Year.\n",
    "- state:\t\t\tName of state.\n",
    "- area:             Rough geographic area of the state (east, north, west, & south) \n",
    "- familyIncome: \tTotal family income (in U.S. dollars).\n",
    "- age: \t\t\t    Age (years)\n",
    "- sex: \t\t\t    Sex with levels Female and Male.\n",
    "- raceGeneral: \t    Race with levels White, Black, Other \n",
    "- maritalStatus: \tMarital status with levels Divorced, Married, Single, and Widowed.\n",
    "- personalIncome:  \tTotal personal income (in U.S. dollars). \n",
    "\n",
    "https://en.wikipedia.org/wiki/2000_United_States_Census\n"
   ]
  },
  {
   "cell_type": "markdown",
   "metadata": {},
   "source": [
    "## Task 1: Geographic area and race (35pt)\n",
    "In this task you will explore the connection between the geographic area (Western states, East coast, the south, the upper midwest, i.e. north) and the general race (white, black, other). \n",
    "\n",
    "### Question 1 (8pt)\n",
    "Generate a table with the conditional probabilities of being of white, black or other racial background (raceGeneral), given that the respondent lived in the north, south, west and east (area). Then generate a plot that  is ideally suited to let you compare the relative racial proportions of people in each area. Remember to provide axis lables and a caption. Written answer: Which proportions appears larger for a particular area than for any of the others?  "
   ]
  },
  {
   "cell_type": "code",
   "execution_count": 11,
   "metadata": {},
   "outputs": [],
   "source": [
    "D = pd.read_csv('census.csv')\n",
    "#D"
   ]
  },
  {
   "cell_type": "code",
   "execution_count": 12,
   "metadata": {},
   "outputs": [
    {
     "data": {
      "text/html": [
       "<div>\n",
       "<style scoped>\n",
       "    .dataframe tbody tr th:only-of-type {\n",
       "        vertical-align: middle;\n",
       "    }\n",
       "\n",
       "    .dataframe tbody tr th {\n",
       "        vertical-align: top;\n",
       "    }\n",
       "\n",
       "    .dataframe thead th {\n",
       "        text-align: right;\n",
       "    }\n",
       "</style>\n",
       "<table border=\"1\" class=\"dataframe\">\n",
       "  <thead>\n",
       "    <tr style=\"text-align: right;\">\n",
       "      <th>raceGeneral</th>\n",
       "      <th>Black</th>\n",
       "      <th>Other</th>\n",
       "      <th>White</th>\n",
       "    </tr>\n",
       "    <tr>\n",
       "      <th>area</th>\n",
       "      <th></th>\n",
       "      <th></th>\n",
       "      <th></th>\n",
       "    </tr>\n",
       "  </thead>\n",
       "  <tbody>\n",
       "    <tr>\n",
       "      <th>east</th>\n",
       "      <td>0.166667</td>\n",
       "      <td>0.114035</td>\n",
       "      <td>0.719298</td>\n",
       "    </tr>\n",
       "    <tr>\n",
       "      <th>north</th>\n",
       "      <td>0.036585</td>\n",
       "      <td>0.073171</td>\n",
       "      <td>0.890244</td>\n",
       "    </tr>\n",
       "    <tr>\n",
       "      <th>south</th>\n",
       "      <td>0.205357</td>\n",
       "      <td>0.044643</td>\n",
       "      <td>0.750000</td>\n",
       "    </tr>\n",
       "    <tr>\n",
       "      <th>west</th>\n",
       "      <td>0.028986</td>\n",
       "      <td>0.347826</td>\n",
       "      <td>0.623188</td>\n",
       "    </tr>\n",
       "  </tbody>\n",
       "</table>\n",
       "</div>"
      ],
      "text/plain": [
       "raceGeneral     Black     Other     White\n",
       "area                                     \n",
       "east         0.166667  0.114035  0.719298\n",
       "north        0.036585  0.073171  0.890244\n",
       "south        0.205357  0.044643  0.750000\n",
       "west         0.028986  0.347826  0.623188"
      ]
     },
     "execution_count": 12,
     "metadata": {},
     "output_type": "execute_result"
    }
   ],
   "source": [
    "T = pd.crosstab(D.area,D.raceGeneral,normalize='index')\n",
    "T"
   ]
  },
  {
   "cell_type": "code",
   "execution_count": 13,
   "metadata": {},
   "outputs": [
    {
     "data": {
      "text/plain": [
       "Text(0, 0.5, 'proportion')"
      ]
     },
     "execution_count": 13,
     "metadata": {},
     "output_type": "execute_result"
    },
    {
     "data": {
      "image/png": "[encoded data removed]",
      "text/plain": [
       "<Figure size 432x288 with 1 Axes>"
      ]
     },
     "metadata": {
      "needs_background": "light"
     },
     "output_type": "display_data"
    }
   ],
   "source": [
    "T.plot(kind='bar',stacked=True)\n",
    "plt.ylabel('proportion')"
   ]
  },
  {
   "cell_type": "markdown",
   "metadata": {},
   "source": [
    "*Figure 1*. Stacked bar plot of race proportions grouped by area"
   ]
  },
  {
   "cell_type": "markdown",
   "metadata": {},
   "source": [
    "> The proportion of white individuals appears higher in the north than in any other, whereas the 'other' category is higher in the west than in any other region.  "
   ]
  },
  {
   "cell_type": "markdown",
   "metadata": {},
   "source": [
    "### Question 2 (5pt)\n",
    "What measurement scale does area, raceGeneral, and personalIncome have?    "
   ]
  },
  {
   "cell_type": "markdown",
   "metadata": {},
   "source": [
    ">Area: Nominal scale<br>\n",
    ">raceGeneral: Nominal scale<br>\n",
    ">personalIncome: Ratio scale<br>"
   ]
  },
  {
   "cell_type": "markdown",
   "metadata": {},
   "source": [
    "### Question 3 (5pt)\n",
    "We want to test the hypothesis that the proportion of white people is different in the western states (area = 'west') than in the eastern states (area = 'east). Formulate precisely the null hypothesis and the alternative hypothesis. To test this idea, will you have to conduct a one-sided or two-sided test? "
   ]
  },
  {
   "cell_type": "markdown",
   "metadata": {},
   "source": [
    ">Alternative Hypothesis: The relative proportion of white people is different in western than in eastern states. \n",
    "\n",
    ">Null Hypothesis: The relative proportion of white people in western states is equal to that of eastern states. \n",
    "\n",
    ">This is a undirected hypothesis - i.e. I have to use a two-sided test. "
   ]
  },
  {
   "cell_type": "markdown",
   "metadata": {},
   "source": [
    "### Question 4 (10pt)\n",
    "Perform a randomization test to test whether you can reject the Null-hypothesis. What statistics are you going to use to test the hypothesis formulated in Question 3? Your code should produce a figure, which shows the distribution of chosen test statistics under the Null hypothesis, as well as the empirical value as a vertical line.  Remember to provide axis lables and a caption. Written answer: Report the value of the statistics and the associated p-value, using at least 1000 iterations. What do you conclude regarding the hypotheses formulated above? "
   ]
  },
  {
   "cell_type": "code",
   "execution_count": 14,
   "metadata": {},
   "outputs": [
    {
     "name": "stdout",
     "output_type": "stream",
     "text": [
      " P-value of the randomisation test is p=  0.162\n"
     ]
    },
    {
     "data": {
      "text/plain": [
       "0.162"
      ]
     },
     "execution_count": 14,
     "metadata": {},
     "output_type": "execute_result"
    },
    {
     "data": {
      "image/png": "[encoded data removed]",
      "text/plain": [
       "<Figure size 432x288 with 1 Axes>"
      ]
     },
     "metadata": {
      "needs_background": "light"
     },
     "output_type": "display_data"
    }
   ],
   "source": [
    "def condP(D):\n",
    "    T = pd.crosstab(D.area,D.raceGeneral,normalize='index')\n",
    "    diffP = T['White']['east'] - T['White']['west']\n",
    "    return diffP\n",
    "    \n",
    "def performRandomization(D,fcn,shuffle,numIterations=500,sides=1, nbins = 10):    \n",
    "    listOfTS =  np.array(range(numIterations),dtype = 'float64')\n",
    "    for i in range(numIterations):\n",
    "        #1. Randomly shuffle the data \n",
    "        S=D.copy()                    # Make copy of the data frame\n",
    "        x = np.array(range(len(D.index))) # Make copy of the data frame\n",
    "        np.random.shuffle(x)          # randomly shuffle x - note that this changes x itself! \n",
    "        y = S[shuffle].iloc[x]   # copy the newly reorded values into a new Series  \n",
    "        y = y.reset_index(drop=True)   #reoder the indices \n",
    "        S[shuffle]=y           # Copy back into the data frame\n",
    "        \n",
    "        #2. Calculate test statistics \n",
    "        listOfTS[i] = fcn(S)\n",
    "\n",
    "    # 3. Caluclate the real test statistic \n",
    "    realTS = fcn(D)\n",
    "\n",
    "    # 4. Plot a histogram of the \n",
    "    plt.hist(listOfTS,bins= nbins)\n",
    "    plt.ylabel('count')\n",
    "    plt.xlabel('test statistic')\n",
    "    plt.axvline(x=realTS, color='k')\n",
    "    \n",
    "    # 5. determine p-value (one sided)\n",
    "    if sides==1: \n",
    "        p=sum(listOfTS>=realTS)/len(listOfTS)\n",
    "    if sides==2:\n",
    "        plt.axvline(x=-realTS, color='r')\n",
    "        p=sum(np.absolute(listOfTS)>=realTS)/len(listOfTS)\n",
    "        print(' P-value of the randomisation test is p= ',p)\n",
    "    return p\n",
    "\n",
    "performRandomization(D,condP,'raceGeneral',sides=2)"
   ]
  },
  {
   "cell_type": "markdown",
   "metadata": {},
   "source": [
    "*Figure 2*. Histogram showing the distribution of test statistic under the null hypothesis. p-values corresponding to a two-sided test are shown as vertical lines."
   ]
  },
  {
   "cell_type": "markdown",
   "metadata": {},
   "source": [
    "> Based on the permuation test, we cannot reject the Null Hypothesis that the relative proportion of white people is equal in western and in eastern states.  "
   ]
  },
  {
   "cell_type": "markdown",
   "metadata": {},
   "source": [
    "### Question 5 (7pt)\n",
    "Based on the results from question 3, a news outlet publishes the following headline: \"New study finds that racial diversity is equal on east and west coast of the US\". What are possible problems with this claim? "
   ]
  },
  {
   "cell_type": "markdown",
   "metadata": {},
   "source": [
    "> The newspaper interprets a non-significant result as evidence for the null-hypothesis without doing a power analysis or a Bayesian hypothesis test. "
   ]
  },
  {
   "cell_type": "markdown",
   "metadata": {},
   "source": [
    "## TASK 2: Racial inequality in annual income (27pt)\n",
    "### Question 1 (10pt)\n",
    "Generate a visualisation of personal income depending on the general racial background of the person (White, Black, Other). The visualization should show medians, quartiles and let you make some inference about the shape of the distribution.  Remember to provide axis lables and a caption. Written answer: What is the shape of the distribution for the personalIncome based on your plot? Which racial category earns the most? Which one the least? "
   ]
  },
  {
   "cell_type": "code",
   "execution_count": 15,
   "metadata": {},
   "outputs": [
    {
     "data": {
      "text/plain": [
       "<AxesSubplot:xlabel='raceGeneral', ylabel='personalIncome'>"
      ]
     },
     "execution_count": 15,
     "metadata": {},
     "output_type": "execute_result"
    },
    {
     "data": {
      "image/png": "[encoded data removed]",
      "text/plain": [
       "<Figure size 432x288 with 1 Axes>"
      ]
     },
     "metadata": {
      "needs_background": "light"
     },
     "output_type": "display_data"
    }
   ],
   "source": [
    "sb.boxplot(x='raceGeneral',y='personalIncome',data=D)"
   ]
  },
  {
   "cell_type": "markdown",
   "metadata": {},
   "source": [
    "*Figure 3*. violinplots for personal income grouped by the race (white, black, and other)."
   ]
  },
  {
   "cell_type": "markdown",
   "metadata": {},
   "source": [
    "> The shape of the distribution for all categories is strongly right-skewed. The median is highest for White and lowest for black people"
   ]
  },
  {
   "cell_type": "markdown",
   "metadata": {},
   "source": [
    "### Question 2 (10pt)\n",
    "Using a bootstrap, determine the *median* personal income and the 95% confidence interval for the median for white people and for black people seperately. Each bootstrap sample should contain as many data points as are in the sample. Tip 1: Write a function and then call it with the data of personal income for black and white people separately. \n",
    "Tip 2: You can get the number of elements in a data Series with data.shape[0] "
   ]
  },
  {
   "cell_type": "code",
   "execution_count": 19,
   "metadata": {},
   "outputs": [],
   "source": [
    "def bootstrap(data, fcn, numIter = 1000):\n",
    "    it = 0 ## setting the iteration variable to zero. It will be increased each time a loop is executed\n",
    "    stats = np.array(range(numIter), dtype = 'float64') ## initializing the stats array (the function output)\n",
    "    N = data.shape[0]\n",
    "    while it < numIter:\n",
    "        sample = np.random.choice(data, size = N, replace = True) ## Generates a random sample from a given 1-D array \n",
    "        stats[it] = fcn(sample)  \n",
    "        it = it + 1\n",
    "    return stats\n",
    "\n",
    "def confidenceInt(data, prec):\n",
    "    lp = (100 - prec)/2\n",
    "    Int = [np.percentile(data, lp), np.percentile(data, 100-(lp/2))]\n",
    "    return Int\n",
    "\n",
    "def doInterval(data): \n",
    "    stats = bootstrap(data,np.median)\n",
    "    print(stats)\n",
    "    sb.distplot(stats)\n",
    "    plt.xlabel('personalIncome')\n",
    "    plt.ylabel('proportion')\n",
    "    A=confidenceInt(stats,95)    \n",
    "    print('the median of distribution is %.3f\\n' % np.median(stats))\n",
    "    print('the 95 percent confidence interval is %.3f - %.3f' % (A[0],A[1]))\n",
    "        "
   ]
  },
  {
   "cell_type": "code",
   "execution_count": 20,
   "metadata": {},
   "outputs": [
    {
     "name": "stdout",
     "output_type": "stream",
     "text": [
      "[22000. 17500. 18400. 20000. 21000. 17250. 20000. 21350. 24500. 23000.\n",
      " 23850. 19900. 18900. 22000. 21000. 23000. 19450. 23000. 19450. 21850.\n",
      " 22000. 20000. 24000. 19800. 22000. 18750. 22850. 24000. 17095. 19900.\n",
      " 22000. 24000. 20000. 20000. 21850. 21700. 21850. 24000. 22000. 23700.\n",
      " 19900. 19400. 24050. 23000. 17400. 23000. 21700. 21350. 20500. 22700.\n",
      " 23700. 17245. 21000. 20000. 18900. 15915. 17500. 22700. 22850. 23350.\n",
      " 22000. 24000. 19300. 22000. 23700. 19800. 25000. 24050. 21000. 20000.\n",
      " 22700. 22000. 18800. 22000. 22000. 22000. 22000. 22000. 18000. 22000.\n",
      " 18450. 23350. 20000. 20000. 22000. 23700. 23000. 21700. 22850. 25000.\n",
      " 22850. 17095. 15915. 25000. 22000. 21350. 27500. 21850. 22850. 17245.\n",
      " 19300. 22000. 22000. 17190. 21500. 19900. 16650. 23000. 22000. 22700.\n",
      " 23000. 23000. 22350. 18800. 19900. 23700. 21000. 22700. 23000. 22000.\n",
      " 23000. 21500. 18150. 17750. 21000. 23500. 16000. 22000. 22000. 17300.\n",
      " 18400. 20000. 22000. 21850. 22000. 20000. 20000. 22000. 20000. 21000.\n",
      " 23000. 23850. 22000. 23000. 22000. 22000. 23700. 18900. 17500. 19300.\n",
      " 22500. 23350. 23350. 22850. 22000. 17150. 22000. 20500. 23000. 24000.\n",
      " 22000. 24000. 23850. 22000. 19300. 20000. 18850. 24500. 22000. 24000.\n",
      " 22000. 20850. 22000. 22000. 21000. 18000. 23700. 23700. 23700. 21700.\n",
      " 23000. 23000. 17500. 22000. 23000. 23350. 25000. 22000. 22000. 22500.\n",
      " 23000. 22000. 21850. 18150. 22350. 23000. 21000. 21000. 21850. 26700.\n",
      " 24000. 20000. 19900. 22000. 20500. 15000. 21500. 20000. 22000. 19800.\n",
      " 20000. 23700. 24000. 20500. 19350. 20000. 24000. 22350. 20000. 22000.\n",
      " 18900. 22000. 22000. 18400. 18400. 22000. 23000. 17750. 22000. 22000.\n",
      " 20000. 23000. 24100. 24000. 20000. 21000. 17750. 18400. 20500. 24050.\n",
      " 23700. 19300. 17000. 22000. 24000. 22700. 18400. 21700. 17150. 20000.\n",
      " 21000. 21000. 18800. 20000. 16050. 20000. 22500. 18000. 25000. 20000.\n",
      " 21350. 22000. 22000. 20500. 20500. 21350. 25000. 22000. 24000. 23350.\n",
      " 22000. 19450. 16650. 23850. 24000. 21350. 24050. 22000. 23700. 24000.\n",
      " 17000. 23000. 18000. 19800. 24000. 21000. 23850. 22500. 18800. 19900.\n",
      " 23500. 21000. 21000. 18000. 20000. 22850. 16000. 17750. 21700. 23850.\n",
      " 22000. 24000. 22000. 21000. 25000. 24000. 16650. 17095. 22000. 23000.\n",
      " 18400. 21850. 17000. 20500. 21500. 23500. 22000. 21000. 22000. 24000.\n",
      " 23350. 20000. 23850. 18800. 20000. 19900. 22000. 17000. 22000. 20000.\n",
      " 20500. 18900. 23000. 20000. 22850. 22000. 20000. 17750. 22000. 17190.\n",
      " 22000. 22000. 23000. 23000. 23000. 19300. 23700. 23000. 16000. 20000.\n",
      " 23700. 22000. 25000. 22000. 18000. 24000. 21000. 23350. 23700. 21000.\n",
      " 23850. 23000. 20500. 18400. 20000. 22700. 22000. 18400. 24050. 19900.\n",
      " 20000. 20000. 17500. 22850. 22000. 21350. 18800. 22000. 23000. 21000.\n",
      " 21500. 20500. 24000. 18050. 20000. 22000. 24000. 17000. 22700. 18800.\n",
      " 20500. 23700. 23350. 20000. 21000. 17750. 22500. 26500. 21000. 20000.\n",
      " 21000. 23850. 22000. 20500. 18900. 17000. 20000. 22000. 24000. 22000.\n",
      " 16000. 21500. 22350. 22000. 26650. 21350. 17000. 18000. 21350. 17095.\n",
      " 20000. 18400. 22000. 22000. 23000. 24000. 21000. 22000. 18900. 20000.\n",
      " 21000. 22000. 18150. 25650. 21500. 22000. 22700. 17500. 20000. 19350.\n",
      " 17650. 23000. 22000. 22000. 17500. 22000. 20000. 23000. 21350. 17345.\n",
      " 20000. 17400. 23350. 19350. 20500. 21850. 20000. 18900. 18000. 22850.\n",
      " 16650. 21700. 15570. 24000. 23000. 21350. 20000. 20000. 20000. 22000.\n",
      " 22000. 24000. 18150. 19900. 21700. 20500. 21000. 20500. 21700. 20000.\n",
      " 22000. 20500. 20000. 22000. 25850. 21500. 23000. 19800. 17400. 23350.\n",
      " 22000. 18000. 24000. 21850. 23700. 20000. 16100. 23000. 21500. 22000.\n",
      " 23000. 20000. 22000. 22500. 19350. 22700. 23000. 17300. 22350. 24000.\n",
      " 24000. 23000. 17400. 22850. 21350. 18000. 17095. 22850. 23700. 23350.\n",
      " 22000. 21000. 22000. 23000. 20000. 20000. 17190. 19900. 22500. 22850.\n",
      " 15750. 23850. 23000. 23850. 20000. 16650. 22000. 18850. 24000. 19450.\n",
      " 18800. 21350. 24000. 24550. 24550. 17500. 21000. 21850. 24000. 23350.\n",
      " 22850. 21000. 24000. 22000. 23000. 17190. 20000. 23000. 23000. 18450.\n",
      " 24000. 17750. 22000. 22000. 17500. 23000. 22350. 22000. 22850. 18400.\n",
      " 24000. 22850. 22350. 21500. 16650. 23850. 20000. 23350. 20500. 24000.\n",
      " 22000. 19350. 22000. 22000. 23000. 17245. 17400. 22000. 20500. 22500.\n",
      " 20500. 22350. 19350. 18900. 18750. 18400. 19450. 22000. 22000. 21000.\n",
      " 22350. 23000. 23000. 18900. 20000. 18900. 21000. 20500. 22350. 17500.\n",
      " 22000. 20000. 21000. 23000. 24000. 22000. 24000. 23000. 24000. 19900.\n",
      " 23700. 17400. 22000. 23850. 23000. 17000. 22000. 19900. 24000. 24000.\n",
      " 17500. 22000. 21850. 18000. 16150. 22000. 21000. 23350. 20000. 17500.\n",
      " 24000. 19450. 18150. 22000. 22000. 18850. 21500. 23000. 21850. 21850.\n",
      " 21700. 24000. 18900. 21700. 23700. 21000. 21350. 17190. 22000. 22700.\n",
      " 21000. 22350. 21350. 24050. 20000. 22000. 18850. 22000. 23000. 23850.\n",
      " 17750. 21000. 23000. 21850. 24000. 23700. 23000. 23850. 21850. 22000.\n",
      " 21850. 21500. 16000. 23350. 21350. 22000. 23000. 18400. 24000. 23000.\n",
      " 24000. 21000. 21000. 24050. 20500. 22000. 17095. 21000. 21500. 22700.\n",
      " 22350. 16650. 22000. 22000. 20000. 21000. 22000. 23000. 22000. 24000.\n",
      " 22000. 17750. 22000. 22350. 22850. 23350. 23850. 17190. 21500. 16300.\n",
      " 22000. 22000. 20500. 18000. 18400. 23000. 26850. 18900. 18400. 22350.\n",
      " 20500. 17000. 22000. 21000. 17095. 23850. 22500. 18450. 23350. 21700.\n",
      " 19900. 22000. 24000. 23850. 23000. 20000. 21700. 22000. 23000. 24000.\n",
      " 17000. 23700. 22000. 20500. 22350. 22000. 22000. 21700. 19450. 22000.\n",
      " 23700. 22850. 23700. 23000. 19800. 16200. 23850. 17190. 18800. 17500.\n",
      " 21000. 24000. 22850. 20000. 17345. 21850. 23000. 21850. 21000. 23850.\n",
      " 23700. 18400. 18900. 23350. 20500. 17000. 23000. 24000. 18000. 18000.\n",
      " 17400. 17000. 22000. 19800. 20500. 22000. 21000. 18000. 23700. 20000.\n",
      " 20500. 22000. 23350. 20000. 22000. 16300. 22850. 23350. 19900. 17000.\n",
      " 22000. 21850. 20500. 21850. 17750. 22000. 20000. 22000. 19800. 24000.\n",
      " 23000. 18850. 23350. 21700. 23000. 23000. 23000. 23700. 17750. 24000.\n",
      " 20000. 17400. 23350. 20000. 23350. 21850. 17245. 22850. 21350. 22000.\n",
      " 23000. 21850. 19350. 19350. 22350. 21000. 20500. 20000. 22000. 23000.\n",
      " 20000. 21700. 22000. 17095. 17750. 23000. 22000. 18450. 24050. 22350.\n",
      " 21000. 22000. 22350. 20500. 22000. 23700. 20000. 20850. 17400. 17750.\n",
      " 22000. 24000. 22000. 17500. 21000. 23000. 24000. 20000. 23000. 22000.\n",
      " 23000. 19350. 23700. 20000. 19350. 24000. 19800. 21500. 21000. 19800.\n",
      " 18800. 22000. 23700. 22500. 22000. 19900. 22000. 17500. 23700. 22350.\n",
      " 17345. 24000. 17400. 22500. 21000. 22000. 21850. 22350. 23000. 22000.\n",
      " 23000. 22700. 21000. 21850. 26500. 17095. 20500. 17190. 20500. 20000.\n",
      " 19800. 20000. 15700. 23000. 21850. 17750. 23350. 16650. 19300. 19800.\n",
      " 22000. 20500. 20000. 22000. 19800. 18900. 21350. 17190. 21850. 17300.\n",
      " 24000. 23350. 20000. 17190. 21500. 17190. 19350. 22000. 19900. 21350.\n",
      " 22000. 22500. 20000. 21000. 19350. 23350. 22000. 17000. 16650. 22000.\n",
      " 21000. 22000. 21000. 18900. 23350. 21700. 21850. 22000. 22000. 20500.\n",
      " 21000. 20850. 23000. 20000. 22000. 18800. 20000. 23000. 20500. 21000.\n",
      " 22000. 22000. 23700. 17150. 20000. 21350. 23000. 21000. 20000. 22000.\n",
      " 18400. 17750. 22000. 20500. 22000. 16000. 23500. 23350. 22000. 22000.]\n",
      "the median of distribution is 21850.000\n",
      "\n",
      "the 95 percent confidence interval is 16650.000 - 25000.000\n"
     ]
    },
    {
     "name": "stderr",
     "output_type": "stream",
     "text": [
      "/Users/oren/opt/anaconda3/lib/python3.8/site-packages/seaborn/distributions.py:2557: FutureWarning: `distplot` is a deprecated function and will be removed in a future version. Please adapt your code to use either `displot` (a figure-level function with similar flexibility) or `histplot` (an axes-level function for histograms).\n",
      "  warnings.warn(msg, FutureWarning)\n"
     ]
    },
    {
     "data": {
      "image/png": "[encoded data removed]",
      "text/plain": [
       "<Figure size 432x288 with 1 Axes>"
      ]
     },
     "metadata": {
      "needs_background": "light"
     },
     "output_type": "display_data"
    }
   ],
   "source": [
    "doInterval(D.personalIncome[D.raceGeneral=='White'])"
   ]
  },
  {
   "cell_type": "markdown",
   "metadata": {},
   "source": [
    "*Figure 4*. Distribution of the median of personal income of white people."
   ]
  },
  {
   "cell_type": "code",
   "execution_count": 18,
   "metadata": {},
   "outputs": [
    {
     "name": "stdout",
     "output_type": "stream",
     "text": [
      "the median of distribution is 15000.000\n",
      "\n",
      "the 95 percent confidence interval is 9987.500 - 21000.000\n"
     ]
    },
    {
     "name": "stderr",
     "output_type": "stream",
     "text": [
      "/Users/oren/opt/anaconda3/lib/python3.8/site-packages/seaborn/distributions.py:2557: FutureWarning: `distplot` is a deprecated function and will be removed in a future version. Please adapt your code to use either `displot` (a figure-level function with similar flexibility) or `histplot` (an axes-level function for histograms).\n",
      "  warnings.warn(msg, FutureWarning)\n"
     ]
    },
    {
     "data": {
      "image/png": "[encoded data removed]",
      "text/plain": [
       "<Figure size 432x288 with 1 Axes>"
      ]
     },
     "metadata": {
      "needs_background": "light"
     },
     "output_type": "display_data"
    }
   ],
   "source": [
    "doInterval(D.personalIncome[D.raceGeneral=='Black'])"
   ]
  },
  {
   "cell_type": "markdown",
   "metadata": {},
   "source": [
    "*Figure 5*. Distribution of the median of personal income of black people."
   ]
  },
  {
   "cell_type": "markdown",
   "metadata": {},
   "source": [
    "### Question 3 (7pt)\n",
    "Is the confidence interval for the median income larger for white or black people in the US? Why? "
   ]
  },
  {
   "cell_type": "markdown",
   "metadata": {},
   "source": [
    "> The confidence interval is wider for black than for white people. This is because there are many more white people than black people in the sample - so the distribution of sample statistics is more narrow for larger samples. The distirbution of incomes in the population is actually wider for white than for black people - but this effect is overcome by the sample size effect.  "
   ]
  },
  {
   "cell_type": "markdown",
   "metadata": {},
   "source": [
    "## Task 3: Testing for a north-south income difference (38pt)\n",
    "### Question 1 (8pt)\n",
    "Make a violin plot of the personalIncome (y-variable), depending on the geographic area (x-variable).  Remember to provide axis lables and a caption. What do you see if you compare incomes in the south and the north of the US? How do the means compare? How do the medians compare? Why do these two statistics apparently give you different answers?  "
   ]
  },
  {
   "cell_type": "code",
   "execution_count": 10,
   "metadata": {},
   "outputs": [
    {
     "data": {
      "text/plain": [
       "<matplotlib.axes._subplots.AxesSubplot at 0x7fb5782555b0>"
      ]
     },
     "execution_count": 10,
     "metadata": {},
     "output_type": "execute_result"
    },
    {
     "data": {
      "image/png": "[encoded data removed]",
      "text/plain": [
       "<Figure size 432x288 with 1 Axes>"
      ]
     },
     "metadata": {
      "needs_background": "light"
     },
     "output_type": "display_data"
    }
   ],
   "source": [
    "sb.violinplot(y='personalIncome',x='area',data=D)"
   ]
  },
  {
   "cell_type": "markdown",
   "metadata": {},
   "source": [
    "*Figure 6*. violinplots of the personal income grouped by the area."
   ]
  },
  {
   "cell_type": "code",
   "execution_count": 11,
   "metadata": {},
   "outputs": [
    {
     "data": {
      "text/plain": [
       "area\n",
       "east     16500\n",
       "north    22000\n",
       "south    16050\n",
       "west     23000\n",
       "Name: personalIncome, dtype: int64"
      ]
     },
     "execution_count": 11,
     "metadata": {},
     "output_type": "execute_result"
    }
   ],
   "source": [
    "D['personalIncome'].groupby(D['area']).median()"
   ]
  },
  {
   "cell_type": "code",
   "execution_count": 12,
   "metadata": {},
   "outputs": [
    {
     "data": {
      "text/plain": [
       "area\n",
       "east     26915.122807\n",
       "north    26091.073171\n",
       "south    30338.071429\n",
       "west     38089.710145\n",
       "Name: personalIncome, dtype: float64"
      ]
     },
     "execution_count": 12,
     "metadata": {},
     "output_type": "execute_result"
    }
   ],
   "source": [
    "D['personalIncome'].groupby(D['area']).mean()"
   ]
  },
  {
   "cell_type": "markdown",
   "metadata": {},
   "source": [
    "> The mean personal income is higher in the South than in the North. The median personal income is higher in the north than in the south. This reflects that fact that the income distribution in the south is more right skewed (more social inequality) - that is the difference between median and mean is much larger in the south.  "
   ]
  },
  {
   "cell_type": "markdown",
   "metadata": {},
   "source": [
    "### Question 2: Hypotheses (5pt)\n",
    "Test the hypothesis that the *median* personal income in the south is *lower* than in in the north. Formulate the null- and alternative hypotheses. "
   ]
  },
  {
   "cell_type": "markdown",
   "metadata": {},
   "source": [
    ">Alternative hypothesis: \n",
    "Median Income (north) > Median Income (south) \n",
    "\n",
    ">Null Hypothesis: \n",
    "Median Income (north) <= Median Income (south) \n"
   ]
  },
  {
   "cell_type": "markdown",
   "metadata": {},
   "source": [
    "### Question 3: Randomization test (10pt)\n",
    "Perform a randomisation test to test the null-hypothesis. When doing so, restrict the analysis and the randomisation test to data that comes from people in the north and south (excluding \"east\" and \"west\"). Conduct a one- or two-sided test (as appropriate for the hypothesis).  What can you conclude? "
   ]
  },
  {
   "cell_type": "code",
   "execution_count": 13,
   "metadata": {},
   "outputs": [
    {
     "data": {
      "text/plain": [
       "0.246"
      ]
     },
     "execution_count": 13,
     "metadata": {},
     "output_type": "execute_result"
    },
    {
     "data": {
      "image/png": "[encoded data removed]",
      "text/plain": [
       "<Figure size 432x288 with 1 Axes>"
      ]
     },
     "metadata": {
      "needs_background": "light"
     },
     "output_type": "display_data"
    }
   ],
   "source": [
    "def calcMedianDiff(D):\n",
    "    a=D.personalIncome.groupby(D.area).median()\n",
    "    return a[0]-a[1]\n",
    "    \n",
    "def performRandomization(D,fcn,shuffle,numIterations=500,sides=1, nbins = 10):    \n",
    "    listOfTS =  np.array(range(numIterations),dtype = 'float64')\n",
    "    for i in range(numIterations):\n",
    "        #1. Randomly shuffle the data \n",
    "        S=D.copy()                    # Make copy of the data frame\n",
    "        x = np.array(range(len(D.index))) # Make copy of the data frame\n",
    "        np.random.shuffle(x)          # randomly shuffle x - note that this changes x itself! \n",
    "        y = S[shuffle].iloc[x]   # copy the newly reorded values into a new Series  \n",
    "        y = y.reset_index(drop=True)   #reoder the indices \n",
    "        S[shuffle]=y           # Copy back into the data frame\n",
    "        \n",
    "        #2. Calculate test statistics \n",
    "        listOfTS[i] = fcn(S)\n",
    "\n",
    "    # 3. Caluclate the real test statistic \n",
    "    realTS = fcn(D)\n",
    "      \n",
    "    # 4. Plot a histogram of the \n",
    "    plt.hist(listOfTS,bins= nbins)\n",
    "    plt.xlabel('test statistic')\n",
    "    plt.ylabel('count')\n",
    "    plt.axvline(x=realTS, color='k')\n",
    "    \n",
    "    # 5. determine p-value (one sided)\n",
    "    if sides==1: \n",
    "        p=sum(listOfTS>=realTS)/len(listOfTS)\n",
    "    if sides==2:\n",
    "        plt.axvline(x=-realTS, color='r')\n",
    "        p=sum(np.absolute(listOfTS)>=realTS)/len(listOfTS)\n",
    "        print(' P-value of the randomisation test is p= ',p)\n",
    "    return p\n",
    "\n",
    "A=D[(D.area=='north') | (D.area=='south')]\n",
    "performRandomization(A,calcMedianDiff,'area',sides=1)"
   ]
  },
  {
   "cell_type": "markdown",
   "metadata": {},
   "source": [
    "*Figure 7*. histogram showing the distribution of the differences between median (test statistic) of the personal income in east and west areas. "
   ]
  },
  {
   "cell_type": "markdown",
   "metadata": {},
   "source": [
    "> Based on the evidence, we cannot reject the null-hypothesis that the median income in the north and the south are equal. "
   ]
  },
  {
   "cell_type": "markdown",
   "metadata": {},
   "source": [
    "### Question 4: SD of bootstrap samples (5pt)"
   ]
  },
  {
   "cell_type": "markdown",
   "metadata": {},
   "source": [
    "Modify your randomization function, so it prints out the standard deviation of the median differences under the null-hypothesis. "
   ]
  },
  {
   "cell_type": "code",
   "execution_count": 14,
   "metadata": {},
   "outputs": [
    {
     "name": "stdout",
     "output_type": "stream",
     "text": [
      "SD of the randomisation samples 6953.619\n"
     ]
    },
    {
     "data": {
      "text/plain": [
       "0.29"
      ]
     },
     "execution_count": 14,
     "metadata": {},
     "output_type": "execute_result"
    },
    {
     "data": {
      "image/png": "[encoded data removed]",
      "text/plain": [
       "<Figure size 432x288 with 1 Axes>"
      ]
     },
     "metadata": {
      "needs_background": "light"
     },
     "output_type": "display_data"
    }
   ],
   "source": [
    "def performRandomization(D,fcn,shuffle,numIterations=500,sides=1, nbins = 10):    \n",
    "    listOfTS =  np.array(range(numIterations),dtype = 'float64')\n",
    "    for i in range(numIterations):\n",
    "        #1. Randomly shuffle the data \n",
    "        S=D.copy()                    # Make copy of the data frame\n",
    "        x = np.array(range(len(D.index))) # Make copy of the data frame\n",
    "        np.random.shuffle(x)          # randomly shuffle x - note that this changes x itself! \n",
    "        y = S[shuffle].iloc[x]   # copy the newly reorded values into a new Series  \n",
    "        y = y.reset_index(drop=True)   #reoder the indices \n",
    "        S[shuffle]=y           # Copy back into the data frame\n",
    "        \n",
    "        #2. Calculate test statistics \n",
    "        listOfTS[i] = fcn(S)\n",
    "\n",
    "    # 3. Caluclate the real test statistic \n",
    "    realTS = fcn(D)\n",
    "    print('SD of the randomisation samples %.3f' % np.std(listOfTS))\n",
    "    # 4. Plot a histogram of the \n",
    "    plt.hist(listOfTS,bins= nbins)\n",
    "    plt.xlabel('test statistic')\n",
    "    plt.ylabel('count')\n",
    "    plt.axvline(x=realTS, color='k')\n",
    "    \n",
    "    # 5. determine p-value (one sided)\n",
    "    if sides==1: \n",
    "        p=sum(listOfTS>=realTS)/len(listOfTS)\n",
    "    if sides==2:\n",
    "        plt.axvline(x=-realTS, color='r')\n",
    "        p=sum(np.absolute(listOfTS)>=realTS)/len(listOfTS)\n",
    "        print(' P-value of the randomisation test is p= ',p)\n",
    "    return p\n",
    "\n",
    "A=D[(D.area=='north') | (D.area=='south')]\n",
    "performRandomization(A,calcMedianDiff,'area',sides=1)"
   ]
  },
  {
   "cell_type": "markdown",
   "metadata": {},
   "source": [
    "*Figure 8*. histogram showing the distribution of the differences between median (test statistic) of the personal income in east and west areas. "
   ]
  },
  {
   "cell_type": "markdown",
   "metadata": {},
   "source": [
    "### Question 5: Bayesian hypothesis testing (10pt)\n",
    "Using the normal approximation, conduct a Bayesian hypothesis test of the null vs. alternative hypothesis formulated in question 2. For the null hypothesis, assume that the median difference has a mean of 0 and a SD of the that you found in Question 3. We are testing the alternative hypothesis that the median income in the north is  10000 USD higher than in the south. Starting from equal prior probabilities, report the BF and posterior probability for the Null-hypothesis. What would you conclude? Comment your code to show your calculations. "
   ]
  },
  {
   "cell_type": "code",
   "execution_count": null,
   "metadata": {},
   "outputs": [],
   "source": []
  },
  {
   "cell_type": "code",
   "execution_count": 16,
   "metadata": {},
   "outputs": [
    {
     "name": "stdout",
     "output_type": "stream",
     "text": [
      "area\n",
      "north    22000\n",
      "south    16050\n",
      "Name: personalIncome, dtype: int64\n",
      "5950\n",
      "the Bayes factor of the H1 over the H0 is 0.640\n",
      "the Bayes factor of the H0 over the H1 is 1.562\n",
      "the posterior probability of the Null hypothesis is 0.610\n"
     ]
    }
   ],
   "source": [
    "SD = 7220.582\n",
    "a=A.personalIncome.groupby(D.area).median()\n",
    "print(a)\n",
    "medianDiff=a[0]-a[1]\n",
    "pDg0 = ss.norm.pdf(medianDiff,loc=0,scale=SD)\n",
    "pDg1 = ss.norm.pdf(medianDiff,loc=15000,scale=SD) \n",
    "print('the Bayes factor of the H1 over the H0 is %.3f' % (pDg1/pDg0))\n",
    "print('the Bayes factor of the H0 over the H1 is %.3f' % (pDg0/pDg1))\n",
    "print('the posterior probability of the Null hypothesis is %.3f' % ((0.5*pDg0)/(0.5*pDg0 + 0.5*pDg1)))\n"
   ]
  },
  {
   "cell_type": "markdown",
   "metadata": {},
   "source": [
    "> Both Bayes factors are inconclusive. Therefore the sample is not large enough to decide between the null and the alternative hypothesis. "
   ]
  }
 ],
 "metadata": {
  "kernelspec": {
   "display_name": "Python 3",
   "language": "python",
   "name": "python3"
  },
  "language_info": {
   "codemirror_mode": {
    "name": "ipython",
    "version": 3
   },
   "file_extension": ".py",
   "mimetype": "text/x-python",
   "name": "python",
   "nbconvert_exporter": "python",
   "pygments_lexer": "ipython3",
   "version": "3.8.8"
  }
 },
 "nbformat": 4,
 "nbformat_minor": 4
}

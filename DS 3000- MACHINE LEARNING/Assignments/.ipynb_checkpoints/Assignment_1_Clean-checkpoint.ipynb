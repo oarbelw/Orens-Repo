{
 "cells": [
  {
   "cell_type": "markdown",
   "metadata": {
    "id": "mEK2QYPrX78R"
   },
   "source": [
    "# Grade: /100 points\n",
    "\n",
    "# Assignment 01: Supervised learning, Linear models, and Loss functions\n",
    "\n",
    "In this assignment, you're going to write your own methods to fit a linear model using either an OLS or LAD cost function.  \n",
    "\n",
    "## Data set \n",
    "\n",
    "We will examine a data set containing 200 observations. The data set has 3 variables:\n",
    "\n",
    "1. $y$: the outcome of interest.\n",
    "2. $x1$: first predictor.\n",
    "3. $x2$: second predictor.\n",
    "\n",
    "## Follow These Steps Before Submitting\n",
    "Once you are finished, ensure to complete the following steps.\n",
    "\n",
    "1.  Restart your kernel by clicking 'Kernel' > 'Restart & Run All'.\n",
    "\n",
    "2.  Fix any errors which result from this.\n",
    "\n",
    "3.  Repeat steps 1. and 2. until your notebook runs without errors.\n",
    "\n",
    "4.  Submit your completed notebook to OWL by the deadline.\n",
    "\n",
    "\n",
    "## Preliminaries"
   ]
  },
  {
   "cell_type": "code",
   "execution_count": 58,
   "metadata": {
    "id": "aBu-equFX78Y"
   },
   "outputs": [],
   "source": [
    "# Import all the necessary packages: \n",
    "import matplotlib.pyplot as plt \n",
    "import numpy as np\n",
    "import pandas as pd\n",
    "import scipy.stats as ss \n",
    "import scipy.optimize as so\n",
    "from sklearn import linear_model\n",
    "\n",
    "%matplotlib inline"
   ]
  },
  {
   "cell_type": "markdown",
   "metadata": {
    "id": "rBv9WDghTVHx",
    "outputId": "03ea85f6-d46d-4c35-8f10-1cca830ff3dc"
   },
   "source": [
    "#### Before you start...\n",
    "\n",
    "Recall that L1 loss function (sum of magnitudes, used for LAD model):\n",
    "\n",
    "$$L_1(\\theta) = \\sum_{i=1}^{n} \\lvert {y_i-\\hat{y_i}} \\rvert$$\n",
    "\n",
    "L2 loss function (RSS, residual sum of squares, used for OLS model):\n",
    "\n",
    "$$L_2(\\theta) = \\sum_{i=1}^{n} ({y_i-\\hat{y_i}})^2$$"
   ]
  },
  {
   "cell_type": "markdown",
   "metadata": {
    "id": "m8CtqKgpX78f"
   },
   "source": [
    "\n",
    "## Part 1\n",
    "### Question 1.1:  /10 points\n",
    "\n",
    "\n",
    "Read the `my_dataset.csv` file as a `pandas.DataFrame` and (1) change column names $x1$ and $x2$ to pred_1 and pred_2, respectively (2) print the first 10 rows. Remove the 5th observation since its pred_1 value is an outlier. Using the resulted data set from the previous step, for the 5th observation replace its pred_1 value (i.e., NAN) with 9.5. Print the first 10 rows of the final data set. Plot a scatterplot for every pairwise combination (scatterplot matrix), and briefly discuss the relationships between the variables. Based on your findings, discuss whether a simple linear regression is appropriate here or not."
   ]
  },
  {
   "cell_type": "code",
   "execution_count": 59,
   "metadata": {
    "id": "WdFNvFsRUdx9"
   },
   "outputs": [
    {
     "data": {
      "text/html": [
       "<div>\n",
       "<style scoped>\n",
       "    .dataframe tbody tr th:only-of-type {\n",
       "        vertical-align: middle;\n",
       "    }\n",
       "\n",
       "    .dataframe tbody tr th {\n",
       "        vertical-align: top;\n",
       "    }\n",
       "\n",
       "    .dataframe thead th {\n",
       "        text-align: right;\n",
       "    }\n",
       "</style>\n",
       "<table border=\"1\" class=\"dataframe\">\n",
       "  <thead>\n",
       "    <tr style=\"text-align: right;\">\n",
       "      <th></th>\n",
       "      <th>y</th>\n",
       "      <th>pred_1</th>\n",
       "      <th>pred_2</th>\n",
       "    </tr>\n",
       "  </thead>\n",
       "  <tbody>\n",
       "    <tr>\n",
       "      <th>0</th>\n",
       "      <td>25.265621</td>\n",
       "      <td>3.6</td>\n",
       "      <td>3.1</td>\n",
       "    </tr>\n",
       "    <tr>\n",
       "      <th>1</th>\n",
       "      <td>63.512826</td>\n",
       "      <td>8.1</td>\n",
       "      <td>9.7</td>\n",
       "    </tr>\n",
       "    <tr>\n",
       "      <th>2</th>\n",
       "      <td>25.441710</td>\n",
       "      <td>4.7</td>\n",
       "      <td>6.4</td>\n",
       "    </tr>\n",
       "    <tr>\n",
       "      <th>3</th>\n",
       "      <td>79.286388</td>\n",
       "      <td>9.0</td>\n",
       "      <td>5.6</td>\n",
       "    </tr>\n",
       "    <tr>\n",
       "      <th>4</th>\n",
       "      <td>36.271320</td>\n",
       "      <td>100.0</td>\n",
       "      <td>5.2</td>\n",
       "    </tr>\n",
       "    <tr>\n",
       "      <th>5</th>\n",
       "      <td>86.271320</td>\n",
       "      <td>NaN</td>\n",
       "      <td>4.6</td>\n",
       "    </tr>\n",
       "    <tr>\n",
       "      <th>6</th>\n",
       "      <td>3.015506</td>\n",
       "      <td>1.4</td>\n",
       "      <td>9.0</td>\n",
       "    </tr>\n",
       "    <tr>\n",
       "      <th>7</th>\n",
       "      <td>36.834794</td>\n",
       "      <td>5.8</td>\n",
       "      <td>4.3</td>\n",
       "    </tr>\n",
       "    <tr>\n",
       "      <th>8</th>\n",
       "      <td>80.558765</td>\n",
       "      <td>9.1</td>\n",
       "      <td>3.6</td>\n",
       "    </tr>\n",
       "    <tr>\n",
       "      <th>9</th>\n",
       "      <td>45.601815</td>\n",
       "      <td>6.0</td>\n",
       "      <td>2.5</td>\n",
       "    </tr>\n",
       "  </tbody>\n",
       "</table>\n",
       "</div>"
      ],
      "text/plain": [
       "           y  pred_1  pred_2\n",
       "0  25.265621     3.6     3.1\n",
       "1  63.512826     8.1     9.7\n",
       "2  25.441710     4.7     6.4\n",
       "3  79.286388     9.0     5.6\n",
       "4  36.271320   100.0     5.2\n",
       "5  86.271320     NaN     4.6\n",
       "6   3.015506     1.4     9.0\n",
       "7  36.834794     5.8     4.3\n",
       "8  80.558765     9.1     3.6\n",
       "9  45.601815     6.0     2.5"
      ]
     },
     "execution_count": 59,
     "metadata": {},
     "output_type": "execute_result"
    }
   ],
   "source": [
    "# Your code here.\n",
    "df = pd.read_csv(\"my_dataset.csv\")\n",
    "df = df.rename(columns={'x1': 'pred_1', 'x2': 'pred_2'})\n",
    "df.head(10)"
   ]
  },
  {
   "cell_type": "code",
   "execution_count": 60,
   "metadata": {},
   "outputs": [
    {
     "data": {
      "text/html": [
       "<div>\n",
       "<style scoped>\n",
       "    .dataframe tbody tr th:only-of-type {\n",
       "        vertical-align: middle;\n",
       "    }\n",
       "\n",
       "    .dataframe tbody tr th {\n",
       "        vertical-align: top;\n",
       "    }\n",
       "\n",
       "    .dataframe thead th {\n",
       "        text-align: right;\n",
       "    }\n",
       "</style>\n",
       "<table border=\"1\" class=\"dataframe\">\n",
       "  <thead>\n",
       "    <tr style=\"text-align: right;\">\n",
       "      <th></th>\n",
       "      <th>y</th>\n",
       "      <th>pred_1</th>\n",
       "      <th>pred_2</th>\n",
       "    </tr>\n",
       "  </thead>\n",
       "  <tbody>\n",
       "    <tr>\n",
       "      <th>0</th>\n",
       "      <td>25.265621</td>\n",
       "      <td>3.6</td>\n",
       "      <td>3.1</td>\n",
       "    </tr>\n",
       "    <tr>\n",
       "      <th>1</th>\n",
       "      <td>63.512826</td>\n",
       "      <td>8.1</td>\n",
       "      <td>9.7</td>\n",
       "    </tr>\n",
       "    <tr>\n",
       "      <th>2</th>\n",
       "      <td>25.441710</td>\n",
       "      <td>4.7</td>\n",
       "      <td>6.4</td>\n",
       "    </tr>\n",
       "    <tr>\n",
       "      <th>3</th>\n",
       "      <td>79.286388</td>\n",
       "      <td>9.0</td>\n",
       "      <td>5.6</td>\n",
       "    </tr>\n",
       "    <tr>\n",
       "      <th>4</th>\n",
       "      <td>36.271320</td>\n",
       "      <td>100.0</td>\n",
       "      <td>5.2</td>\n",
       "    </tr>\n",
       "    <tr>\n",
       "      <th>5</th>\n",
       "      <td>86.271320</td>\n",
       "      <td>9.5</td>\n",
       "      <td>4.6</td>\n",
       "    </tr>\n",
       "    <tr>\n",
       "      <th>6</th>\n",
       "      <td>3.015506</td>\n",
       "      <td>1.4</td>\n",
       "      <td>9.0</td>\n",
       "    </tr>\n",
       "    <tr>\n",
       "      <th>7</th>\n",
       "      <td>36.834794</td>\n",
       "      <td>5.8</td>\n",
       "      <td>4.3</td>\n",
       "    </tr>\n",
       "    <tr>\n",
       "      <th>8</th>\n",
       "      <td>80.558765</td>\n",
       "      <td>9.1</td>\n",
       "      <td>3.6</td>\n",
       "    </tr>\n",
       "    <tr>\n",
       "      <th>9</th>\n",
       "      <td>45.601815</td>\n",
       "      <td>6.0</td>\n",
       "      <td>2.5</td>\n",
       "    </tr>\n",
       "  </tbody>\n",
       "</table>\n",
       "</div>"
      ],
      "text/plain": [
       "           y  pred_1  pred_2\n",
       "0  25.265621     3.6     3.1\n",
       "1  63.512826     8.1     9.7\n",
       "2  25.441710     4.7     6.4\n",
       "3  79.286388     9.0     5.6\n",
       "4  36.271320   100.0     5.2\n",
       "5  86.271320     9.5     4.6\n",
       "6   3.015506     1.4     9.0\n",
       "7  36.834794     5.8     4.3\n",
       "8  80.558765     9.1     3.6\n",
       "9  45.601815     6.0     2.5"
      ]
     },
     "execution_count": 60,
     "metadata": {},
     "output_type": "execute_result"
    }
   ],
   "source": [
    "df.loc[5,'pred_1'] = 9.5\n",
    "df.head(10)"
   ]
  },
  {
   "cell_type": "code",
   "execution_count": 61,
   "metadata": {},
   "outputs": [
    {
     "data": {
      "image/png": "[encoded data removed]",
      "text/plain": [
       "<Figure size 600x600 with 9 Axes>"
      ]
     },
     "metadata": {},
     "output_type": "display_data"
    }
   ],
   "source": [
    "pd.plotting.scatter_matrix(df, alpha=0.2, figsize=(6, 6));"
   ]
  },
  {
   "cell_type": "markdown",
   "metadata": {
    "id": "XUVK0ZGmTAcE"
   },
   "source": [
    "**Written answer: What do you see here? Discuss your findings**\n",
    "\n",
    "Given y and Pred_2, pred_1 responds by barely increasing and remaining relatively constant. This means that given an y and pred_2, pred_1 is usually between the same small range. The inverse is true as pred 1 has a small range of values, and when plotting it, pred_2 and y respond by plotting to a large range of numbers. Both of these imply a strong correlation, whereas y and pred_2 are very scattered and imply no correlation whatsoever. Thus, a linear regression is appropriate between pred_1 and anything else, but if anything else, a linear regression is not appropriate as there is no correlation."
   ]
  },
  {
   "cell_type": "markdown",
   "metadata": {
    "id": "aLTkjzp2X78w"
   },
   "source": [
    "### Question 1.2: /5 point\n",
    "\n",
    "Recall that the linear model, we obtain predictions by computing \n",
    "\n",
    "$$ \\hat{\\mathbf{y}} = \\mathbf{X} \\hat{\\beta} $$\n",
    "\n",
    "Here, $\\mathbf{X}$ is a design matrix which includes a column of ones, $\\hat{\\beta}$ are coefficients, and $\\hat{\\mathbf{y}}$ are outcomes.  Write a function `linearModelPredict` to compute linear model predictions given data and a coefficient vector.  The function should take as it's arguments a 1d-array of coefficients `b` and the design matrix `X` as a 2d-array and return linear model predictions `yp`.\n",
    "\n",
    "Test the function by setting \n",
    "\n",
    "```\n",
    "X = np.array([[1,0],[1,-1],[1,2]])\n",
    "b = np.array([0.1,0.3])\n",
    "```\n",
    "\n",
    "Call your function using these values. \n",
    "\n",
    "Report $\\hat{\\mathbf{y}}$. \n",
    "\n",
    "What is the dimensionality of the numpy-array that you get back? \n",
    "\n",
    "Hint:  Read the documentation for `np.dot` or the `@` operator in `numpy`."
   ]
  },
  {
   "cell_type": "code",
   "execution_count": 62,
   "metadata": {
    "id": "So7kD_OPVQNI"
   },
   "outputs": [
    {
     "name": "stdout",
     "output_type": "stream",
     "text": [
      "[ 0.1 -0.2  0.7]\n",
      "1\n",
      "(3,)\n"
     ]
    }
   ],
   "source": [
    "# Your code here.\n",
    "def linearModelPredict(b, X): #b is 1D array of coefficients, X is 2D array design matrix\n",
    "    yp = X @ b\n",
    "    return yp #yp is linear model prediction\n",
    "\n",
    "X = np.array([[1,0],[1,-1],[1,2]])\n",
    "b = np.array([0.1,0.3])\n",
    "\n",
    "yp = linearModelPredict(b, X)\n",
    "print(yp)\n",
    "print(yp.ndim)\n",
    "print(yp.shape)\n",
    "#the dimensionality is (3,1)\n"
   ]
  },
  {
   "cell_type": "markdown",
   "metadata": {
    "id": "CrZokVidX787"
   },
   "source": [
    "### Question 1.3: /15 points\n",
    "\n",
    "Write a function `linearModelLossRSS` which computes and returns the loss function for an OLS model parameterized by $\\beta$, as well as the gradient of the loss.  The function should take as its first argument a 1d-array `beta` of coefficients for the linear model, as its second argument the design matrix `X` as a 2d-array, and as its third argument a 1d-array `y` of observed outcomes.\n",
    "\n",
    "Test the function with the values \n",
    "\n",
    "```\n",
    "X = np.array([[1,0,1.5],[1,-1,0.5],[1,2,2.5]])\n",
    "b = np.array([0.1,0.3,0.85])\n",
    "y = np.array([1.3,0.3,2]) \n",
    "```\n",
    "\n",
    "Report the loss and the gradient. \n"
   ]
  },
  {
   "cell_type": "code",
   "execution_count": 71,
   "metadata": {
    "id": "IHuS9PJJVZiW"
   },
   "outputs": [
    {
     "name": "stdout",
     "output_type": "stream",
     "text": [
      "Loss:  0.6918750000000002\n",
      "Gradient:  [1.65  3.45  4.275]\n"
     ]
    }
   ],
   "source": [
    "# Your code here.\n",
    "def linearModelLossRSS(beta, X, y):\n",
    "    yp = linearModelPredict(beta, X)\n",
    "    res = y - yp\n",
    "    rss = np.sum(res**2)\n",
    "    grad = -2*(X.T@res)\n",
    "    return (rss, grad)\n",
    "X = np.array([[1,0,1.5],[1,-1,0.5],[1,2,2.5]])\n",
    "b = np.array([0.1,0.3,0.85])\n",
    "y = np.array([1.3,0.3,2]) \n",
    "loss, gradient = linearModelLossRSS(b, X, y)\n",
    "print(\"Loss: \", loss)\n",
    "print(\"Gradient: \", gradient)"
   ]
  },
  {
   "cell_type": "markdown",
   "metadata": {
    "id": "O7tEGnLsVb4L"
   },
   "source": [
    "**Written answer**: To minimize the loss, do you need increase or decrease the value of the parameters? "
   ]
  },
  {
   "cell_type": "code",
   "execution_count": 64,
   "metadata": {
    "id": "CyGiDHXDug1A"
   },
   "outputs": [],
   "source": [
    "# Your answer here. \n",
    "# To minimize the loss, we need to decrease the value of the parameters to get it closer to 0"
   ]
  },
  {
   "cell_type": "markdown",
   "metadata": {
    "id": "zpfl2A86X79D"
   },
   "source": [
    "### Question 1.4:  /15 points. \n",
    "\n",
    "Now that you've implemented a loss function in question 1.3, it is now time to minimize it!\n",
    "\n",
    "Write a function `linearModelFit` to fit a linear model.  The function should take as its first argument the design matrix `X` as a 2d-array, as its second argument a 1d-array `y` of outcomes, and as its third argument a function  `lossfcn` which returns as a tuple the value of the loss, as well as the gradient of the loss. As a result, it should return the estimated betas and the $R^2$. \n",
    "\n",
    "Test the function with the values: \n",
    "```\n",
    "X = np.array([[1,0,1.5],[1,-1,0.5],[1,2,2.5]])\n",
    "y = np.array([1.3,0.3,2])\n",
    "```\n",
    "\n",
    "Report best parameters and the fitted $R^2$ \n"
   ]
  },
  {
   "cell_type": "code",
   "execution_count": 100,
   "metadata": {
    "id": "qcVM5IIxug1B"
   },
   "outputs": [
    {
     "name": "stdout",
     "output_type": "stream",
     "text": [
      "The best parameters are:  [-0.65000159 -0.30000055  1.30000129]\n",
      "The fitted R2 is : 0.9999999999996051\n"
     ]
    }
   ],
   "source": [
    "# Your code here.\n",
    "def linearModelFit(X, y, lossfcn):\n",
    "    # Set some starting values\n",
    "    nrows, ncols = X.shape\n",
    "    b = np.zeros(ncols) #this is done to make sure dimensions are done right\n",
    "    # Call the optimization function\n",
    "    RESULT = so.minimize(lossfcn,b,args=(X, y), jac=True)\n",
    "    bh = RESULT.x\n",
    "    new_yp = X @ bh\n",
    "    y_mean = np.mean(y)\n",
    "    r2 = 1 - (np.sum((y - new_yp) ** 2)) / (np.sum((y - y_mean) ** 2))\n",
    "    return RESULT.x, r2\n",
    "\n",
    "X = np.array([[1,0,1.5],[1,-1,0.5],[1,2,2.5]])\n",
    "y = np.array([1.3,0.3,2])\n",
    "res, r2 = linearModelFit(X, y, linearModelLossRSS)\n",
    "print(\"The best parameters are: \", res)\n",
    "print(\"The fitted R2 is :\", r2)\n"
   ]
  },
  {
   "cell_type": "markdown",
   "metadata": {
    "id": "CJ2ZergqX79L"
   },
   "source": [
    "### Question 1.5: /15 points\n",
    "\n",
    "Use the above functions to fit your model to the my_data. Use $y$ as the target variable and pred_1 as the predictor. Then use your model and the fitted parameters to make predictions along a grid of equally spaced values for the pred_1 variable. Note that, these new values must be within the original range of the pred_1 variable.  \n",
    "\n",
    "Plot the data and add a line for the predicted values. You can get these by generating a new X-matrix with 100 equally spaced values (using for example [```np.linspace```](https://numpy.org/doc/stable/reference/generated/numpy.linspace.html)). Also report the $R^2$ value for the fit. You can do this by either printing out the $R^2$ of the fit or putting it on your plot via the `annotate` function in matplotlib.\n"
   ]
  },
  {
   "cell_type": "code",
   "execution_count": 147,
   "metadata": {
    "id": "EGpR9cY6ug1B"
   },
   "outputs": [
    {
     "name": "stdout",
     "output_type": "stream",
     "text": [
      "The parameters are:  [32.63027238  1.21042393]\n",
      "The fitted R2 is : 0.10980337158071996\n"
     ]
    },
    {
     "data": {
      "text/plain": [
       "<function matplotlib.pyplot.show(close=None, block=None)>"
      ]
     },
     "execution_count": 147,
     "metadata": {},
     "output_type": "execute_result"
    },
    {
     "data": {
      "image/png": "[encoded data removed]",
      "text/plain": [
       "<Figure size 640x480 with 1 Axes>"
      ]
     },
     "metadata": {},
     "output_type": "display_data"
    }
   ],
   "source": [
    "# Your code here.\n",
    "x_train = df.pred_1.values\n",
    "X_train = np.c_[np.ones(x_train.size), x_train]\n",
    "y_train = df.y.values\n",
    "\n",
    "res, r2 = linearModelFit(X_train, y_train, linearModelLossRSS)\n",
    "print(\"The parameters are: \", res)   # Get the parameters\n",
    "print(\"The fitted R2 is :\", r2)\n",
    "\n",
    "x_grid = np.linspace(df.y.values.min(), df.y.values.max())\n",
    "X_test = np.c_[np.ones(x_grid.size), x_grid]\n",
    "yp = linearModelPredict(res, X_test)\n",
    "plt.scatter(x_train, y_train, label = \"Training Data\")\n",
    "plt.plot(x_grid, yp, label = \"Regression Line\", color = \"orange\")\n",
    "plt.legend()\n",
    "plt.xlabel(\"pred_1\")\n",
    "plt.ylabel(\"y\")\n",
    "plt.show"
   ]
  },
  {
   "cell_type": "markdown",
   "metadata": {
    "id": "A3emHgAcX79R"
   },
   "source": [
    "## Part 2: LAD Regression\n",
    "\n",
    "### Question 2.1:  /15 points\n",
    "\n",
    "In the previous section, we worked with the squared loss.  Now, we'll implement a linear model with least absolute deviation loss.\n",
    "\n",
    "Write a function `linearModelLossLAD` which computes the least absolute deviation loss function for a linear model  parameterized by $\\beta$, as well as the gradient of the loss.  The function should take as its first argument a 1d-array `beta` of coefficients for the linear model, as its second argument the design matrix `X` as a 2d-array, and as its third argument a 1d-array `y` of observed outcomes.\n",
    "\n",
    "Test the function with the values \n",
    "\n",
    "```\n",
    "X = np.array([[1,0,1.5],[1,-1,0.5],[1,2,2.5]])\n",
    "b = np.array([0.1,0.3,0.85])\n",
    "y = np.array([1.3,0.3,2]) \n",
    "```\n",
    "\n",
    "Report the loss and the gradient. "
   ]
  },
  {
   "cell_type": "code",
   "execution_count": 102,
   "metadata": {
    "id": "nLdPdO0Oug1B"
   },
   "outputs": [
    {
     "name": "stdout",
     "output_type": "stream",
     "text": [
      "The loss is:  0.9750000000000001\n",
      "The gradient is:  [1.  3.  3.5]\n"
     ]
    }
   ],
   "source": [
    "# Your code here.\n",
    "def linearModelLossLAD(beta, X, y):\n",
    "    yp = X @ beta\n",
    "    res = y - yp\n",
    "    LAD = np.sum(np.abs(res))\n",
    "    gradient = -(X.T * np.sign(res)) @ np.ones(res.shape)\n",
    "    return LAD, gradient\n",
    "X = np.array([[1,0,1.5],[1,-1,0.5],[1,2,2.5]])\n",
    "b = np.array([0.1,0.3,0.85])\n",
    "y = np.array([1.3,0.3,2]) \n",
    "loss, grad = linearModelLossLAD(b,X,y)\n",
    "print(\"The loss is: \", loss)\n",
    "print(\"The gradient is: \", grad)"
   ]
  },
  {
   "cell_type": "markdown",
   "metadata": {
    "id": "MTx_xIR5X79V"
   },
   "source": [
    "### Question 2.2: /10 points\n",
    "\n",
    "\n",
    "Use the above functions to fit your LAD model. Use your model to make predictions along a grid of 100 equally spaced values for pred_1.  Once fit, add the fitted line to the scatter plot as in question 1.5.  Also report the $R^2$-value. \n",
    "\n",
    "**Written answer**: What is the difference in the fit obtained with an L1 as compared to the L2 cost function? How their $R^2$ values compare? Why?  \n",
    "\n",
    "Note: If you recieve an error from the optimizer, it may be because the loss function for the LAD model is not differentiable at its minimum.  This will lead to some gradient based optimizers to fail to converge.  If this happens to you then pass `method=\"Powell\"` to `scipy.optimize.minimize`.\n",
    "\n"
   ]
  },
  {
   "cell_type": "code",
   "execution_count": 148,
   "metadata": {
    "id": "7yGyYVXcug1C"
   },
   "outputs": [
    {
     "name": "stdout",
     "output_type": "stream",
     "text": [
      "The parameters are:  [-13.46454358   9.4981037 ]\n",
      "The fitted R2 is : -5.060468155740586\n"
     ]
    },
    {
     "data": {
      "text/plain": [
       "<function matplotlib.pyplot.show(close=None, block=None)>"
      ]
     },
     "execution_count": 148,
     "metadata": {},
     "output_type": "execute_result"
    },
    {
     "data": {
      "image/png": "[encoded data removed]",
      "text/plain": [
       "<Figure size 640x480 with 1 Axes>"
      ]
     },
     "metadata": {},
     "output_type": "display_data"
    }
   ],
   "source": [
    "# Your code here.\n",
    "x_train = df.pred_1.values\n",
    "X_train = np.c_[np.ones(x_train.size), x_train]\n",
    "y_train = df.y.values\n",
    "\n",
    "res, r2 = linearModelFit(X_train, y_train, linearModelLossLAD)\n",
    "print(\"The parameters are: \", res)   # Get the parameters\n",
    "print(\"The fitted R2 is :\", r2)\n",
    "\n",
    "x_grid = np.linspace(df.y.values.min(), df.y.values.max())\n",
    "X_test = np.c_[np.ones(x_grid.size), x_grid]\n",
    "yp = linearModelPredict(res, X_test)\n",
    "plt.scatter(x_train, y_train, label = \"Training Data\")\n",
    "plt.plot(x_grid, yp, label = \"Regression Line\", color = \"orange\")\n",
    "plt.legend()\n",
    "plt.xlabel(\"pred_1\")\n",
    "plt.ylabel(\"y\")\n",
    "plt.show"
   ]
  },
  {
   "cell_type": "markdown",
   "metadata": {
    "id": "UYbaeWI5X79Y"
   },
   "source": [
    "Written answer: Your answer here. \n",
    "The fit in L2 is less affected by the outlier at 100, and is fit to the rest of the data better, however as a result, R2 is farther away from 0. "
   ]
  },
  {
   "cell_type": "markdown",
   "metadata": {
    "id": "4Tza7fD4X79a"
   },
   "source": [
    "### Question 2.3: /15 points\n",
    "\n",
    "Now we will use all data for the fit. Fit an OLS model to the my_data with the `linear_model` module from the `sklearn` package by using the [`LinearRegression`](https://scikit-learn.org/stable/modules/generated/sklearn.linear_model.LinearRegression.html) class.  In no more than two sentences, comment on the $R^2$ values from `sklearn` and the $R^2$ values from your models. Are they similar?"
   ]
  },
  {
   "cell_type": "code",
   "execution_count": 161,
   "metadata": {
    "id": "5RXsmo7pX79c"
   },
   "outputs": [
    {
     "name": "stdout",
     "output_type": "stream",
     "text": [
      "The R2 is: 0.10980337158071996\n"
     ]
    }
   ],
   "source": [
    "# Your code here\n",
    "x_train = df.pred_1.values\n",
    "X_train = np.c_[np.ones(x_train.size), x_train]\n",
    "y_train = df.y.values\n",
    "reg = linear_model.LinearRegression().fit(X_train, y_train)\n",
    "R2 = reg.score(X_train, y_train)\n",
    "print(\"The R2 is:\", R2)"
   ]
  },
  {
   "cell_type": "markdown",
   "metadata": {
    "id": "FQJl6CwAl9hu"
   },
   "source": [
    "Written answer: Your answer here.\n",
    "The R2 of 0.10980.. is the same as the the first model, and different than the LAD model. This value is low and shows a small R2.  "
   ]
  },
  {
   "cell_type": "code",
   "execution_count": null,
   "metadata": {},
   "outputs": [],
   "source": []
  }
 ],
 "metadata": {
  "colab": {
   "provenance": []
  },
  "kernelspec": {
   "display_name": "Python 3 (ipykernel)",
   "language": "python",
   "name": "python3"
  },
  "language_info": {
   "codemirror_mode": {
    "name": "ipython",
    "version": 3
   },
   "file_extension": ".py",
   "mimetype": "text/x-python",
   "name": "python",
   "nbconvert_exporter": "python",
   "pygments_lexer": "ipython3",
   "version": "3.10.8"
  }
 },
 "nbformat": 4,
 "nbformat_minor": 1
}

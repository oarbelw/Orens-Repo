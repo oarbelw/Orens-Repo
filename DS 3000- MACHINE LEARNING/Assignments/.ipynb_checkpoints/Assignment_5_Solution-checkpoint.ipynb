{
 "cells": [
  {
   "cell_type": "markdown",
   "metadata": {
    "id": "KS8_b7ZzQrOQ"
   },
   "source": [
    "# Grade: /100 pts\n",
    "\n",
    "# Assignment 05: Model Selection & Cross Validation\n",
    "\n",
    "In this assignment you will be using a #TidyTuesday dataset on Spotify songs to build a classification model for predicting Spotify song popularity.\n",
    "\n",
    "The dataset has already been preprocessed, and is ready to be used! \n",
    "\n",
    "The Spotify songs dataset provides you with data for 30947 Spotify songs.  Your job: build a model or models, perform model selection using cross validation techniques, and evaluate your final selected model.\n",
    "\n",
    "### The Dataset\n",
    "\n",
    "The data is stored in a csv file called `spotify_pre.csv`.  The data includes some information about playlist genre, playlist subgenre, danceability, energy, key, loudness, mode, speechiness, acousticness, instrumentalness, liveness, valence, tempo, and duration. The target variable is `track_popularity`, which has two categories `high` and `low`.\n",
    "\n",
    "\n",
    "### Follow These Steps before submitting\n",
    "Once you are finished, ensure to complete the following steps.\n",
    "\n",
    "1.  Restart your kernel by clicking 'Kernel' > 'Restart & Run All'.\n",
    "\n",
    "2.  Fix any errors which result from this.\n",
    "\n",
    "3.  Repeat steps 1. and 2. until your notebook runs without errors.\n",
    "\n",
    "4.  Submit your completed notebook to OWL by the deadline. \n",
    "\n",
    "5.  Your submission file should be saved in the form: `LastName_FirstName_Assignment5.ipynb`\n",
    "\n",
    "---"
   ]
  },
  {
   "cell_type": "code",
   "execution_count": 26,
   "metadata": {
    "id": "hV01UYGeQrOS"
   },
   "outputs": [],
   "source": [
    "import pandas as pd\n",
    "import numpy as np\n",
    "import matplotlib.pyplot as plt\n",
    "import seaborn as sns\n",
    "from plotnine import *\n",
    "from sklearn.model_selection import train_test_split,StratifiedKFold,cross_val_score\n",
    "from sklearn.linear_model import LogisticRegression, LinearRegression\n",
    "from sklearn.pipeline import Pipeline\n",
    "from sklearn.preprocessing import StandardScaler, PolynomialFeatures\n",
    "from sklearn.metrics import make_scorer, mean_squared_error,roc_curve, auc, roc_auc_score\n",
    "from sklearn.base import BaseEstimator, TransformerMixin\n",
    "\n",
    "pd.set_option('display.max_columns', 500)\n",
    "plt.style.use('ggplot')\n",
    "%matplotlib inline"
   ]
  },
  {
   "cell_type": "markdown",
   "metadata": {
    "id": "P8OR-sYkQrOU"
   },
   "source": [
    "_____"
   ]
  },
  {
   "cell_type": "markdown",
   "metadata": {
    "id": "735oycK-QrOU"
   },
   "source": [
    "### Question 1: /15pts\n",
    "\n",
    "First, import the dataset `spotify_pre.csv` as a dataframe and print out a few rows and get metadata of the csv file to have a rough understanding of the type of each column."
   ]
  },
  {
   "cell_type": "code",
   "execution_count": 23,
   "metadata": {
    "colab": {
     "base_uri": "https://localhost:8080/"
    },
    "id": "4yBYxJe2QrOU",
    "outputId": "7c66bb64-e4ce-432f-c44a-6a1d2b08b8c9"
   },
   "outputs": [
    {
     "name": "stdout",
     "output_type": "stream",
     "text": [
      "  track_popularity playlist_genre playlist_subgenre  danceability  energy  \\\n",
      "0              low            pop         dance pop         0.748   0.916   \n",
      "1              low            pop         dance pop         0.726   0.815   \n",
      "2             high            pop         dance pop         0.675   0.931   \n",
      "3              low            pop         dance pop         0.718   0.930   \n",
      "4              low            pop         dance pop         0.650   0.833   \n",
      "\n",
      "   key  loudness   mode  speechiness  acousticness  instrumentalness  \\\n",
      "0    6    -2.634  major       0.0583        0.1020          0.000000   \n",
      "1   11    -4.969  major       0.0373        0.0724          0.004210   \n",
      "2    1    -3.432  minor       0.0742        0.0794          0.000023   \n",
      "3    7    -3.778  major       0.1020        0.0287          0.000009   \n",
      "4    1    -4.672  major       0.0359        0.0803          0.000000   \n",
      "\n",
      "   liveness  valence    tempo  duration_m  \n",
      "0    0.0653    0.518  122.036    3.245900  \n",
      "1    0.3570    0.693   99.972    2.710000  \n",
      "2    0.1100    0.613  124.008    2.943600  \n",
      "3    0.2040    0.277  121.956    2.818217  \n",
      "4    0.0833    0.725  123.976    3.150867  \n"
     ]
    }
   ],
   "source": [
    "# Import the dataset\n",
    "spotify_pre = pd.read_csv('spotify_pre.csv')\n",
    "\n",
    "print(spotify_pre.head())\n",
    "#2 pts"
   ]
  },
  {
   "cell_type": "code",
   "execution_count": 24,
   "metadata": {},
   "outputs": [
    {
     "name": "stdout",
     "output_type": "stream",
     "text": [
      "<class 'pandas.core.frame.DataFrame'>\n",
      "RangeIndex: 30947 entries, 0 to 30946\n",
      "Data columns (total 15 columns):\n",
      " #   Column             Non-Null Count  Dtype  \n",
      "---  ------             --------------  -----  \n",
      " 0   track_popularity   30947 non-null  object \n",
      " 1   playlist_genre     30947 non-null  object \n",
      " 2   playlist_subgenre  30947 non-null  object \n",
      " 3   danceability       30947 non-null  float64\n",
      " 4   energy             30947 non-null  float64\n",
      " 5   key                30947 non-null  int64  \n",
      " 6   loudness           30947 non-null  float64\n",
      " 7   mode               30947 non-null  object \n",
      " 8   speechiness        30947 non-null  float64\n",
      " 9   acousticness       30947 non-null  float64\n",
      " 10  instrumentalness   30947 non-null  float64\n",
      " 11  liveness           30947 non-null  float64\n",
      " 12  valence            30947 non-null  float64\n",
      " 13  tempo              30947 non-null  float64\n",
      " 14  duration_m         30947 non-null  float64\n",
      "dtypes: float64(10), int64(1), object(4)\n",
      "memory usage: 3.5+ MB\n"
     ]
    }
   ],
   "source": [
    "spotify_pre.info()\n",
    "#3 pts"
   ]
  },
  {
   "cell_type": "markdown",
   "metadata": {
    "id": "DIUfwJPhQrOW"
   },
   "source": [
    "Finally create a barchart of playlist_subgenre with each bar showing the proportion of track_popularity categories (use ggplot with 'fill' option set to 'track_popularity'). Make sure to flip cartesian coordinates so that horizontal becomes vertical, and vertical, horizontal.\n",
    "\n",
    "**Make sure to check out some online resources for plotting with ggplot in Python**"
   ]
  },
  {
   "cell_type": "code",
   "execution_count": 27,
   "metadata": {
    "colab": {
     "base_uri": "https://localhost:8080/",
     "height": 464
    },
    "id": "xpcuv_pHQrOW",
    "outputId": "69c99757-e9ba-4277-ec90-affad261d715"
   },
   "outputs": [
    {
     "data": {
      "image/png": "[encoded data removed]",
      "text/plain": [
       "<Figure size 640x480 with 1 Axes>"
      ]
     },
     "metadata": {},
     "output_type": "display_data"
    },
    {
     "data": {
      "text/plain": [
       "<ggplot: (8766968938527)>"
      ]
     },
     "execution_count": 27,
     "metadata": {},
     "output_type": "execute_result"
    }
   ],
   "source": [
    "# Code to construct the barchart \n",
    "(ggplot(spotify_pre, aes('playlist_subgenre', fill='track_popularity')) +\n",
    " geom_bar(position = \"fill\") +\n",
    " labs(x = \"Playlist sub-genre\", y = \"Proportion\") +\n",
    " coord_flip() +\n",
    " scale_y_continuous(expand = (0, 0))\n",
    ")\n",
    "# 7pt"
   ]
  },
  {
   "cell_type": "markdown",
   "metadata": {
    "id": "hG4NT8m-QrOX"
   },
   "source": [
    "Which category of playlist_subgenre is more likely to gain popularity?"
   ]
  },
  {
   "cell_type": "markdown",
   "metadata": {
    "id": "2Wf96QToQrOX"
   },
   "source": [
    "**ANSWER HERE** [3pt] \n",
    "\n",
    "In the plot, it is seen that post-teen pop sub-genre is more likely to gain popularity compared to other sub-genres.\n"
   ]
  },
  {
   "cell_type": "markdown",
   "metadata": {
    "id": "qaSULCSLQrOX"
   },
   "source": [
    "_____________"
   ]
  },
  {
   "cell_type": "markdown",
   "metadata": {
    "id": "cEyHXZNTQrOY"
   },
   "source": [
    "### Question 2: /10pts\n",
    "\n",
    "\n",
    "Now, create boxplots with x-axis set to `playlist_genre` and y-axis set to `instrumentalness` and color option set to `track_popularity`. Make sure to change the y-axis scale into log10 scale for a better representation."
   ]
  },
  {
   "cell_type": "code",
   "execution_count": 28,
   "metadata": {
    "colab": {
     "base_uri": "https://localhost:8080/",
     "height": 499
    },
    "id": "Z2zMeeG1QrOY",
    "outputId": "a7358e9c-61be-4748-b010-9c25c0d65abc"
   },
   "outputs": [
    {
     "name": "stderr",
     "output_type": "stream",
     "text": [
      "/home/alireza/ml/my_env/lib/python3.8/site-packages/pandas/core/arraylike.py:397: RuntimeWarning: divide by zero encountered in log10\n",
      "/home/alireza/ml/my_env/lib/python3.8/site-packages/plotnine/layer.py:333: PlotnineWarning: stat_boxplot : Removed 11500 rows containing non-finite values.\n"
     ]
    },
    {
     "data": {
      "image/png": "[encoded data removed]",
      "text/plain": [
       "<Figure size 640x480 with 1 Axes>"
      ]
     },
     "metadata": {},
     "output_type": "display_data"
    },
    {
     "data": {
      "text/plain": [
       "<ggplot: (8766968809400)>"
      ]
     },
     "execution_count": 28,
     "metadata": {},
     "output_type": "execute_result"
    }
   ],
   "source": [
    "(ggplot(spotify_pre, aes('playlist_genre', 'instrumentalness')) +\n",
    " geom_boxplot(aes(color = 'track_popularity')) +\n",
    " scale_y_log10() +\n",
    " labs(x = \"Playlist genre\", y = \"Instrumentalness score\")\n",
    ")\n",
    "#7pt"
   ]
  },
  {
   "cell_type": "markdown",
   "metadata": {
    "id": "xjGqsJkHQrOY"
   },
   "source": [
    "With track_popularity taken into account, does instrumentalness score differ within some of playlist genres?"
   ]
  },
  {
   "cell_type": "markdown",
   "metadata": {
    "id": "2kNAFum8QrOY"
   },
   "source": [
    "**ANSWER HERE** [3pt]\n",
    "\n",
    "In this plot we can see that Instrumentalness score differs significantly within some of playlist genres based on song popularity."
   ]
  },
  {
   "cell_type": "markdown",
   "metadata": {
    "id": "xlUWhfmKQrOb"
   },
   "source": [
    "___________"
   ]
  },
  {
   "cell_type": "markdown",
   "metadata": {
    "id": "GMFFFTPgQrOb"
   },
   "source": [
    "### Question 3: /10\n",
    "\n",
    "Create a basic logistic regression model (with default penalization) named `model1`. You need to create a model pipeline to be fit later. (Use `solver='lbfgs'`, `max_iter=10000` and `random_state=0`)"
   ]
  },
  {
   "cell_type": "markdown",
   "metadata": {
    "id": "fxX8D0D5QrOc"
   },
   "source": [
    "The predictor variables are `mode`, and `loudness`. Use the following chunk of code. You will use `Data1` to build your model."
   ]
  },
  {
   "cell_type": "code",
   "execution_count": 29,
   "metadata": {
    "colab": {
     "base_uri": "https://localhost:8080/",
     "height": 206
    },
    "id": "l_9Twc258pQE",
    "outputId": "c8fc70a4-3c6e-4b0f-d418-75e44cb3f1b0"
   },
   "outputs": [
    {
     "data": {
      "text/html": [
       "<div>\n",
       "<style scoped>\n",
       "    .dataframe tbody tr th:only-of-type {\n",
       "        vertical-align: middle;\n",
       "    }\n",
       "\n",
       "    .dataframe tbody tr th {\n",
       "        vertical-align: top;\n",
       "    }\n",
       "\n",
       "    .dataframe thead th {\n",
       "        text-align: right;\n",
       "    }\n",
       "</style>\n",
       "<table border=\"1\" class=\"dataframe\">\n",
       "  <thead>\n",
       "    <tr style=\"text-align: right;\">\n",
       "      <th></th>\n",
       "      <th>loudness</th>\n",
       "      <th>track_popularity</th>\n",
       "      <th>mode_minor</th>\n",
       "    </tr>\n",
       "  </thead>\n",
       "  <tbody>\n",
       "    <tr>\n",
       "      <th>0</th>\n",
       "      <td>-2.634</td>\n",
       "      <td>1</td>\n",
       "      <td>0</td>\n",
       "    </tr>\n",
       "    <tr>\n",
       "      <th>1</th>\n",
       "      <td>-4.969</td>\n",
       "      <td>1</td>\n",
       "      <td>0</td>\n",
       "    </tr>\n",
       "    <tr>\n",
       "      <th>2</th>\n",
       "      <td>-3.432</td>\n",
       "      <td>0</td>\n",
       "      <td>1</td>\n",
       "    </tr>\n",
       "    <tr>\n",
       "      <th>3</th>\n",
       "      <td>-3.778</td>\n",
       "      <td>1</td>\n",
       "      <td>0</td>\n",
       "    </tr>\n",
       "    <tr>\n",
       "      <th>4</th>\n",
       "      <td>-4.672</td>\n",
       "      <td>1</td>\n",
       "      <td>0</td>\n",
       "    </tr>\n",
       "  </tbody>\n",
       "</table>\n",
       "</div>"
      ],
      "text/plain": [
       "   loudness  track_popularity  mode_minor\n",
       "0    -2.634                 1           0\n",
       "1    -4.969                 1           0\n",
       "2    -3.432                 0           1\n",
       "3    -3.778                 1           0\n",
       "4    -4.672                 1           0"
      ]
     },
     "execution_count": 29,
     "metadata": {},
     "output_type": "execute_result"
    }
   ],
   "source": [
    "Data1 = spotify_pre[['track_popularity', 'mode', 'loudness']]\n",
    "Data1 = pd.get_dummies(Data1, drop_first=True)\n",
    "Data1 = Data1.rename({'track_popularity_low': 'track_popularity'}, axis='columns')\n",
    "Data1.head()"
   ]
  },
  {
   "cell_type": "code",
   "execution_count": 30,
   "metadata": {
    "id": "VJ7YxoTHQrOc"
   },
   "outputs": [],
   "source": [
    "model1 = Pipeline([\n",
    "    ('logistic_regression', LogisticRegression(solver='lbfgs', max_iter=10000, random_state=0))\n",
    "])\n",
    "#1 pt"
   ]
  },
  {
   "cell_type": "markdown",
   "metadata": {
    "id": "r3p7WxjCQrOd"
   },
   "source": [
    "Now that you have created the pipeline, fit `model1` for predicting the target variable, track_popularity, with the three predictors. Use a 70/30 train-test split of the data, remember to set `random_state=0` in the function `train_test_split`. After that, evaluate this model plotting the ROC curve and reporting the AUC value. "
   ]
  },
  {
   "cell_type": "code",
   "execution_count": 31,
   "metadata": {
    "id": "Xsfeb7TJQrOd"
   },
   "outputs": [],
   "source": [
    "# np.random.seed(0);np.random.rand(5)\n",
    "# Create the training and test data\n",
    "X,y = Data1.loc[:, Data1.columns != 'track_popularity'], Data1.track_popularity.values\n",
    "Xtrain, Xtest, ytrain, ytest = train_test_split(X,\n",
    "                                                y, \n",
    "                                                test_size=0.3,\n",
    "                                                random_state=0)\n",
    "\n",
    "#Fit the model\n",
    "model1.fit(Xtrain, ytrain)\n",
    "ytest_pred=model1.predict_proba(Xtest)[:,1]\n",
    "\n",
    "# 3pts"
   ]
  },
  {
   "cell_type": "code",
   "execution_count": 32,
   "metadata": {
    "colab": {
     "base_uri": "https://localhost:8080/",
     "height": 316
    },
    "id": "_WUH81AmQrOd",
    "outputId": "13c0b04d-69ea-41dd-908b-7836c63bacd7"
   },
   "outputs": [
    {
     "data": {
      "text/plain": [
       "Text(0.5, 1.0, 'ROC curve using baseline model')"
      ]
     },
     "execution_count": 32,
     "metadata": {},
     "output_type": "execute_result"
    },
    {
     "data": {
      "image/png": "[encoded data removed]",
      "text/plain": [
       "<Figure size 640x480 with 1 Axes>"
      ]
     },
     "metadata": {},
     "output_type": "display_data"
    }
   ],
   "source": [
    "# Create the ROC curve and report AUC\n",
    "fpr, tpr, _ = roc_curve(ytest, ytest_pred, pos_label=1) \n",
    "auc_model1 = auc(fpr, tpr) \n",
    "\n",
    "plt.plot(fpr, tpr, \"b-\", label=\"AUC={:2.2f}\".format(auc_model1))\n",
    "plt.xlabel(\"False Positive Rate\")\n",
    "plt.ylabel(\"True Positive Rate\")\n",
    "plt.legend(fontsize=15)\n",
    "plt.plot([0,1], [0,1], \"r--\")\n",
    "plt.title(\"ROC curve using baseline model\")\n",
    "#3pts"
   ]
  },
  {
   "cell_type": "markdown",
   "metadata": {
    "id": "z5AtryUjQrOd"
   },
   "source": [
    "At this point, would you use the baseline model as your final model? Why or why not?"
   ]
  },
  {
   "cell_type": "markdown",
   "metadata": {
    "id": "PMwV6zYIQrOe"
   },
   "source": [
    "**ANSWER HERE**\n",
    "\n",
    "[2 pt] It is not a good idea to choose baseline model as our final model at this point. The reason is that we have not explored the contribution from other variables."
   ]
  },
  {
   "cell_type": "markdown",
   "metadata": {
    "id": "_4H1s8aXQrOe"
   },
   "source": [
    "____________"
   ]
  },
  {
   "cell_type": "markdown",
   "metadata": {
    "id": "RNfdL2r1QrOe"
   },
   "source": [
    "### Question 4: /40\n",
    "\n",
    "Here, we want to determine the best single numeric feature model to predict the track_popularity. To be specific, you are going to create a model per each predictor: 'danceability', 'energy', 'key', 'loudness', 'speechiness', 'acousticness', 'instrumentalness', 'liveness', 'valence', 'tempo', 'duration_m'. Make sure to use the cross-validation technique to make your decision. Please make sure to use 'pd.get_dummies(, drop_first=True)' to encode the target variable, and change the column name 'track_popularity_low' to 'track_popularity', as in previous question."
   ]
  },
  {
   "cell_type": "markdown",
   "metadata": {
    "id": "bXVfpsoPQrOe"
   },
   "source": [
    "You remember that *cross-validation* technique is used to find the expected test error of the models. In addition, in the next code, 5 different folds are displayed using 5 fold cross-validation. In this case it is used `StratifiedKFold()` function."
   ]
  },
  {
   "cell_type": "code",
   "execution_count": 33,
   "metadata": {
    "colab": {
     "base_uri": "https://localhost:8080/",
     "height": 299
    },
    "id": "Mimdp-brQrOe",
    "outputId": "4aaefc86-6548-4342-891f-33ca5eadb19a"
   },
   "outputs": [
    {
     "data": {
      "text/plain": [
       "Text(0.5, 1.0, 'Cross Validation ')"
      ]
     },
     "execution_count": 33,
     "metadata": {},
     "output_type": "execute_result"
    },
    {
     "data": {
      "image/png": "[encoded data removed]",
      "text/plain": [
       "<Figure size 432x288 with 1 Axes>"
      ]
     },
     "metadata": {},
     "output_type": "display_data"
    }
   ],
   "source": [
    "str_kf = StratifiedKFold(n_splits=5)\n",
    "for j, (index_train, index_test) in enumerate(str_kf.split(X,y)):\n",
    "    # enumerate has the index and the elements in the folds\n",
    "    #print(k, (index_train, index_test))\n",
    "    plt.plot(index_train, [j+1 for s in index_train], '.')\n",
    "plt.title('Cross Validation ')"
   ]
  },
  {
   "cell_type": "markdown",
   "metadata": {
    "id": "DhFdgljUQrOe"
   },
   "source": [
    "#### 4.1: /5\n",
    "**Define a function `AUC_calculation` with inputs `(X, y, index_train, index_test)`  which calculates the AUC of the `model1` trained on `index_train` and tested on `index_test`.**"
   ]
  },
  {
   "cell_type": "code",
   "execution_count": 33,
   "metadata": {
    "id": "bewwPK00QrOf"
   },
   "outputs": [],
   "source": [
    "def AUC_calculation(X, y, index_train, index_test):\n",
    "    # Define Xtrain, ytrain, Xtest, ytest \n",
    "    Xtrain, ytrain = X.iloc[index_train], y.iloc[index_train]\n",
    "    Xtest, ytest = X.iloc[index_test], y.iloc[index_test]\n",
    "    #fit the model\n",
    "    model_onepred = model1.fit(Xtrain, ytrain)\n",
    "    ytest_pred = model_onepred.predict_proba(Xtest)[:,1]\n",
    "    # Calculate the auc score\n",
    "    score_auc = roc_auc_score(ytest, ytest_pred)\n",
    "    return score_auc\n",
    "# 5 pts"
   ]
  },
  {
   "cell_type": "markdown",
   "metadata": {
    "id": "swFFeY9JQrOf"
   },
   "source": [
    "#### 4.2: /8\n",
    "**Using `AUC_calculation` create a function named `AUC_cross_validation` which has as input (X, y, n_fold). `AUC_cross_validation` does a `n_fold` cross validation (using `StratifiedKFold`) and its output should be a list with the AUC for each fold.** "
   ]
  },
  {
   "cell_type": "code",
   "execution_count": 34,
   "metadata": {
    "id": "90HeM0BBQrOf"
   },
   "outputs": [],
   "source": [
    "def AUC_cross_validation(X, y, n_fold):\n",
    "    # Create the stratified folds\n",
    "    str_kf = StratifiedKFold(n_splits=n_fold)\n",
    "    list_auc = []\n",
    "    for j, (index_train, index_test) in enumerate(str_kf.split(X,y)):\n",
    "        measure = AUC_calculation(X, y, index_train, index_test)\n",
    "        list_auc.append(measure)\n",
    "    return list_auc\n",
    "# 8pts "
   ]
  },
  {
   "cell_type": "markdown",
   "metadata": {
    "id": "JYOq26FRQrOf"
   },
   "source": [
    "#### 4.3: /5\n",
    "**Now you are ready to estimate and compare through cross validation the performance of all the *simple models* that only use one numeric predictor as input. Prepare the dataset here!**"
   ]
  },
  {
   "cell_type": "code",
   "execution_count": 35,
   "metadata": {
    "colab": {
     "base_uri": "https://localhost:8080/",
     "height": 270
    },
    "id": "8biTXRo5QrOf",
    "outputId": "86ff6ae8-0020-404c-cfaf-ac1fc189cdd1"
   },
   "outputs": [
    {
     "data": {
      "text/html": [
       "<div>\n",
       "<style scoped>\n",
       "    .dataframe tbody tr th:only-of-type {\n",
       "        vertical-align: middle;\n",
       "    }\n",
       "\n",
       "    .dataframe tbody tr th {\n",
       "        vertical-align: top;\n",
       "    }\n",
       "\n",
       "    .dataframe thead th {\n",
       "        text-align: right;\n",
       "    }\n",
       "</style>\n",
       "<table border=\"1\" class=\"dataframe\">\n",
       "  <thead>\n",
       "    <tr style=\"text-align: right;\">\n",
       "      <th></th>\n",
       "      <th>danceability</th>\n",
       "      <th>energy</th>\n",
       "      <th>key</th>\n",
       "      <th>loudness</th>\n",
       "      <th>speechiness</th>\n",
       "      <th>acousticness</th>\n",
       "      <th>instrumentalness</th>\n",
       "      <th>liveness</th>\n",
       "      <th>valence</th>\n",
       "      <th>tempo</th>\n",
       "      <th>duration_m</th>\n",
       "      <th>track_popularity</th>\n",
       "    </tr>\n",
       "  </thead>\n",
       "  <tbody>\n",
       "    <tr>\n",
       "      <th>0</th>\n",
       "      <td>0.748</td>\n",
       "      <td>0.916</td>\n",
       "      <td>6</td>\n",
       "      <td>-2.634</td>\n",
       "      <td>0.0583</td>\n",
       "      <td>0.1020</td>\n",
       "      <td>0.000000</td>\n",
       "      <td>0.0653</td>\n",
       "      <td>0.518</td>\n",
       "      <td>122.036</td>\n",
       "      <td>3.245900</td>\n",
       "      <td>1</td>\n",
       "    </tr>\n",
       "    <tr>\n",
       "      <th>1</th>\n",
       "      <td>0.726</td>\n",
       "      <td>0.815</td>\n",
       "      <td>11</td>\n",
       "      <td>-4.969</td>\n",
       "      <td>0.0373</td>\n",
       "      <td>0.0724</td>\n",
       "      <td>0.004210</td>\n",
       "      <td>0.3570</td>\n",
       "      <td>0.693</td>\n",
       "      <td>99.972</td>\n",
       "      <td>2.710000</td>\n",
       "      <td>1</td>\n",
       "    </tr>\n",
       "    <tr>\n",
       "      <th>2</th>\n",
       "      <td>0.675</td>\n",
       "      <td>0.931</td>\n",
       "      <td>1</td>\n",
       "      <td>-3.432</td>\n",
       "      <td>0.0742</td>\n",
       "      <td>0.0794</td>\n",
       "      <td>0.000023</td>\n",
       "      <td>0.1100</td>\n",
       "      <td>0.613</td>\n",
       "      <td>124.008</td>\n",
       "      <td>2.943600</td>\n",
       "      <td>0</td>\n",
       "    </tr>\n",
       "    <tr>\n",
       "      <th>3</th>\n",
       "      <td>0.718</td>\n",
       "      <td>0.930</td>\n",
       "      <td>7</td>\n",
       "      <td>-3.778</td>\n",
       "      <td>0.1020</td>\n",
       "      <td>0.0287</td>\n",
       "      <td>0.000009</td>\n",
       "      <td>0.2040</td>\n",
       "      <td>0.277</td>\n",
       "      <td>121.956</td>\n",
       "      <td>2.818217</td>\n",
       "      <td>1</td>\n",
       "    </tr>\n",
       "    <tr>\n",
       "      <th>4</th>\n",
       "      <td>0.650</td>\n",
       "      <td>0.833</td>\n",
       "      <td>1</td>\n",
       "      <td>-4.672</td>\n",
       "      <td>0.0359</td>\n",
       "      <td>0.0803</td>\n",
       "      <td>0.000000</td>\n",
       "      <td>0.0833</td>\n",
       "      <td>0.725</td>\n",
       "      <td>123.976</td>\n",
       "      <td>3.150867</td>\n",
       "      <td>1</td>\n",
       "    </tr>\n",
       "  </tbody>\n",
       "</table>\n",
       "</div>"
      ],
      "text/plain": [
       "   danceability  energy  key  loudness  speechiness  acousticness  \\\n",
       "0         0.748   0.916    6    -2.634       0.0583        0.1020   \n",
       "1         0.726   0.815   11    -4.969       0.0373        0.0724   \n",
       "2         0.675   0.931    1    -3.432       0.0742        0.0794   \n",
       "3         0.718   0.930    7    -3.778       0.1020        0.0287   \n",
       "4         0.650   0.833    1    -4.672       0.0359        0.0803   \n",
       "\n",
       "   instrumentalness  liveness  valence    tempo  duration_m  track_popularity  \n",
       "0          0.000000    0.0653    0.518  122.036    3.245900                 1  \n",
       "1          0.004210    0.3570    0.693   99.972    2.710000                 1  \n",
       "2          0.000023    0.1100    0.613  124.008    2.943600                 0  \n",
       "3          0.000009    0.2040    0.277  121.956    2.818217                 1  \n",
       "4          0.000000    0.0833    0.725  123.976    3.150867                 1  "
      ]
     },
     "execution_count": 35,
     "metadata": {},
     "output_type": "execute_result"
    }
   ],
   "source": [
    "Data1 = spotify_pre[['track_popularity', 'danceability', 'energy', 'key', 'loudness', 'speechiness', 'acousticness', 'instrumentalness', 'liveness', 'valence', 'tempo', 'duration_m']]\n",
    "Data1 = pd.get_dummies(Data1, drop_first=True)\n",
    "Data1 = Data1.rename({'track_popularity_low': 'track_popularity'}, axis='columns')\n",
    "Data1.head()\n",
    "# 5pts"
   ]
  },
  {
   "cell_type": "markdown",
   "metadata": {
    "id": "gV9fTCLGQrOg"
   },
   "source": [
    "#### 4.4: /8\n",
    "\n",
    "**Use your function `AUC_cross_validation` to compute cross-validation estimates of the AUC for each single numeric feature model, use a data frame (named `AUC_models`) to report the AUC value for each fold and each of the models. (Use `n_fold=10`).**\n",
    "\n",
    "**The column names of `AUC_models` have to be in the form `Simple-numeric predictor variable`, e.g., `simple-tempo`.**"
   ]
  },
  {
   "cell_type": "code",
   "execution_count": 36,
   "metadata": {
    "id": "GGFsF5d8QrOg"
   },
   "outputs": [],
   "source": [
    "# Construct AUC_models dataframe\n",
    "AUC_models = pd.DataFrame({})\n",
    "\n",
    "for num_pred in Data1.columns:\n",
    "    if num_pred=='track_popularity':\n",
    "        continue\n",
    "    X, y = Data1[[num_pred]], Data1.track_popularity\n",
    "    list_auc = AUC_cross_validation(X, y, n_fold=10)\n",
    "    AUC_models['Simple-'+ num_pred] =list_auc  \n",
    "#8 pts"
   ]
  },
  {
   "cell_type": "code",
   "execution_count": 37,
   "metadata": {
    "colab": {
     "base_uri": "https://localhost:8080/",
     "height": 424
    },
    "id": "idnPJrUjQrOg",
    "outputId": "4dfaf166-2ce5-4997-9970-cf8ee0def411"
   },
   "outputs": [
    {
     "data": {
      "text/html": [
       "<div>\n",
       "<style scoped>\n",
       "    .dataframe tbody tr th:only-of-type {\n",
       "        vertical-align: middle;\n",
       "    }\n",
       "\n",
       "    .dataframe tbody tr th {\n",
       "        vertical-align: top;\n",
       "    }\n",
       "\n",
       "    .dataframe thead th {\n",
       "        text-align: right;\n",
       "    }\n",
       "</style>\n",
       "<table border=\"1\" class=\"dataframe\">\n",
       "  <thead>\n",
       "    <tr style=\"text-align: right;\">\n",
       "      <th></th>\n",
       "      <th>Simple-danceability</th>\n",
       "      <th>Simple-energy</th>\n",
       "      <th>Simple-key</th>\n",
       "      <th>Simple-loudness</th>\n",
       "      <th>Simple-speechiness</th>\n",
       "      <th>Simple-acousticness</th>\n",
       "      <th>Simple-instrumentalness</th>\n",
       "      <th>Simple-liveness</th>\n",
       "      <th>Simple-valence</th>\n",
       "      <th>Simple-tempo</th>\n",
       "      <th>Simple-duration_m</th>\n",
       "    </tr>\n",
       "  </thead>\n",
       "  <tbody>\n",
       "    <tr>\n",
       "      <th>0</th>\n",
       "      <td>0.555868</td>\n",
       "      <td>0.607359</td>\n",
       "      <td>0.481996</td>\n",
       "      <td>0.553269</td>\n",
       "      <td>0.458888</td>\n",
       "      <td>0.597392</td>\n",
       "      <td>0.631633</td>\n",
       "      <td>0.522122</td>\n",
       "      <td>0.496486</td>\n",
       "      <td>0.555175</td>\n",
       "      <td>0.564517</td>\n",
       "    </tr>\n",
       "    <tr>\n",
       "      <th>1</th>\n",
       "      <td>0.487477</td>\n",
       "      <td>0.357881</td>\n",
       "      <td>0.529757</td>\n",
       "      <td>0.709963</td>\n",
       "      <td>0.418472</td>\n",
       "      <td>0.370703</td>\n",
       "      <td>0.663520</td>\n",
       "      <td>0.513038</td>\n",
       "      <td>0.562521</td>\n",
       "      <td>0.460989</td>\n",
       "      <td>0.398748</td>\n",
       "    </tr>\n",
       "    <tr>\n",
       "      <th>2</th>\n",
       "      <td>0.464991</td>\n",
       "      <td>0.579237</td>\n",
       "      <td>0.516969</td>\n",
       "      <td>0.528699</td>\n",
       "      <td>0.292333</td>\n",
       "      <td>0.555835</td>\n",
       "      <td>0.487146</td>\n",
       "      <td>0.552069</td>\n",
       "      <td>0.436841</td>\n",
       "      <td>0.438011</td>\n",
       "      <td>0.611040</td>\n",
       "    </tr>\n",
       "    <tr>\n",
       "      <th>3</th>\n",
       "      <td>0.751291</td>\n",
       "      <td>0.553775</td>\n",
       "      <td>0.457959</td>\n",
       "      <td>0.624714</td>\n",
       "      <td>0.258646</td>\n",
       "      <td>0.495356</td>\n",
       "      <td>0.658499</td>\n",
       "      <td>0.501722</td>\n",
       "      <td>0.513046</td>\n",
       "      <td>0.527887</td>\n",
       "      <td>0.568949</td>\n",
       "    </tr>\n",
       "    <tr>\n",
       "      <th>4</th>\n",
       "      <td>0.469592</td>\n",
       "      <td>0.568940</td>\n",
       "      <td>0.527370</td>\n",
       "      <td>0.435774</td>\n",
       "      <td>0.431607</td>\n",
       "      <td>0.566327</td>\n",
       "      <td>0.497492</td>\n",
       "      <td>0.522720</td>\n",
       "      <td>0.552208</td>\n",
       "      <td>0.513475</td>\n",
       "      <td>0.387663</td>\n",
       "    </tr>\n",
       "    <tr>\n",
       "      <th>5</th>\n",
       "      <td>0.458676</td>\n",
       "      <td>0.552932</td>\n",
       "      <td>0.514861</td>\n",
       "      <td>0.585892</td>\n",
       "      <td>0.500922</td>\n",
       "      <td>0.502346</td>\n",
       "      <td>0.585029</td>\n",
       "      <td>0.511087</td>\n",
       "      <td>0.461538</td>\n",
       "      <td>0.495209</td>\n",
       "      <td>0.513360</td>\n",
       "    </tr>\n",
       "    <tr>\n",
       "      <th>6</th>\n",
       "      <td>0.643550</td>\n",
       "      <td>0.394638</td>\n",
       "      <td>0.487751</td>\n",
       "      <td>0.745097</td>\n",
       "      <td>0.545515</td>\n",
       "      <td>0.518096</td>\n",
       "      <td>0.560479</td>\n",
       "      <td>0.529548</td>\n",
       "      <td>0.617702</td>\n",
       "      <td>0.496861</td>\n",
       "      <td>0.542598</td>\n",
       "    </tr>\n",
       "    <tr>\n",
       "      <th>7</th>\n",
       "      <td>0.527566</td>\n",
       "      <td>0.446832</td>\n",
       "      <td>0.513050</td>\n",
       "      <td>0.690803</td>\n",
       "      <td>0.450939</td>\n",
       "      <td>0.510866</td>\n",
       "      <td>0.691488</td>\n",
       "      <td>0.519673</td>\n",
       "      <td>0.453102</td>\n",
       "      <td>0.422984</td>\n",
       "      <td>0.684145</td>\n",
       "    </tr>\n",
       "    <tr>\n",
       "      <th>8</th>\n",
       "      <td>0.580350</td>\n",
       "      <td>0.867400</td>\n",
       "      <td>0.518115</td>\n",
       "      <td>0.338044</td>\n",
       "      <td>0.458117</td>\n",
       "      <td>0.800216</td>\n",
       "      <td>0.849232</td>\n",
       "      <td>0.573623</td>\n",
       "      <td>0.632576</td>\n",
       "      <td>0.327581</td>\n",
       "      <td>0.465624</td>\n",
       "    </tr>\n",
       "    <tr>\n",
       "      <th>9</th>\n",
       "      <td>0.542105</td>\n",
       "      <td>0.674315</td>\n",
       "      <td>0.495095</td>\n",
       "      <td>0.468274</td>\n",
       "      <td>0.512153</td>\n",
       "      <td>0.705784</td>\n",
       "      <td>0.709750</td>\n",
       "      <td>0.500605</td>\n",
       "      <td>0.629674</td>\n",
       "      <td>0.366274</td>\n",
       "      <td>0.587889</td>\n",
       "    </tr>\n",
       "  </tbody>\n",
       "</table>\n",
       "</div>"
      ],
      "text/plain": [
       "   Simple-danceability  Simple-energy  Simple-key  Simple-loudness  \\\n",
       "0             0.555868       0.607359    0.481996         0.553269   \n",
       "1             0.487477       0.357881    0.529757         0.709963   \n",
       "2             0.464991       0.579237    0.516969         0.528699   \n",
       "3             0.751291       0.553775    0.457959         0.624714   \n",
       "4             0.469592       0.568940    0.527370         0.435774   \n",
       "5             0.458676       0.552932    0.514861         0.585892   \n",
       "6             0.643550       0.394638    0.487751         0.745097   \n",
       "7             0.527566       0.446832    0.513050         0.690803   \n",
       "8             0.580350       0.867400    0.518115         0.338044   \n",
       "9             0.542105       0.674315    0.495095         0.468274   \n",
       "\n",
       "   Simple-speechiness  Simple-acousticness  Simple-instrumentalness  \\\n",
       "0            0.458888             0.597392                 0.631633   \n",
       "1            0.418472             0.370703                 0.663520   \n",
       "2            0.292333             0.555835                 0.487146   \n",
       "3            0.258646             0.495356                 0.658499   \n",
       "4            0.431607             0.566327                 0.497492   \n",
       "5            0.500922             0.502346                 0.585029   \n",
       "6            0.545515             0.518096                 0.560479   \n",
       "7            0.450939             0.510866                 0.691488   \n",
       "8            0.458117             0.800216                 0.849232   \n",
       "9            0.512153             0.705784                 0.709750   \n",
       "\n",
       "   Simple-liveness  Simple-valence  Simple-tempo  Simple-duration_m  \n",
       "0         0.522122        0.496486      0.555175           0.564517  \n",
       "1         0.513038        0.562521      0.460989           0.398748  \n",
       "2         0.552069        0.436841      0.438011           0.611040  \n",
       "3         0.501722        0.513046      0.527887           0.568949  \n",
       "4         0.522720        0.552208      0.513475           0.387663  \n",
       "5         0.511087        0.461538      0.495209           0.513360  \n",
       "6         0.529548        0.617702      0.496861           0.542598  \n",
       "7         0.519673        0.453102      0.422984           0.684145  \n",
       "8         0.573623        0.632576      0.327581           0.465624  \n",
       "9         0.500605        0.629674      0.366274           0.587889  "
      ]
     },
     "execution_count": 37,
     "metadata": {},
     "output_type": "execute_result"
    }
   ],
   "source": [
    "# Print AUC_models dataframe \n",
    "AUC_models\n",
    "# deduct 2 points is the columns of the data frame were not named as was indicated"
   ]
  },
  {
   "cell_type": "code",
   "execution_count": 38,
   "metadata": {
    "colab": {
     "base_uri": "https://localhost:8080/"
    },
    "id": "1s427qy7QrOg",
    "outputId": "e8123cd1-4588-4811-913e-0692bda76faf"
   },
   "outputs": [
    {
     "data": {
      "text/plain": [
       "(10, 11)"
      ]
     },
     "execution_count": 38,
     "metadata": {},
     "output_type": "execute_result"
    }
   ],
   "source": [
    "# print the shape of AUC_models dataframe\n",
    "AUC_models.shape"
   ]
  },
  {
   "cell_type": "markdown",
   "metadata": {
    "id": "0mfBTLfnQrOh"
   },
   "source": [
    "#### 4.5: /7\n",
    "\n",
    "**Decide which of the studied models has the best and the worst performance, using a boxplot (without presenting outliers) that shows the distribution of the previous AUC scores for every model.** (Do not forget labels!)"
   ]
  },
  {
   "cell_type": "code",
   "execution_count": 39,
   "metadata": {
    "colab": {
     "base_uri": "https://localhost:8080/",
     "height": 686
    },
    "id": "Jv_oWBViQrOh",
    "outputId": "a5e23815-41c9-4eab-eb12-4be4da2078a0"
   },
   "outputs": [
    {
     "data": {
      "text/plain": [
       "Text(0, 0.5, 'AUC')"
      ]
     },
     "execution_count": 39,
     "metadata": {},
     "output_type": "execute_result"
    },
    {
     "data": {
      "image/png": "[encoded data removed]",
      "text/plain": [
       "<Figure size 1500x900 with 1 Axes>"
      ]
     },
     "metadata": {},
     "output_type": "display_data"
    }
   ],
   "source": [
    "# Code to plot the boxplots organized as required\n",
    "plt.figure(figsize=(15,9))\n",
    "boxplots = AUC_models[AUC_models.mean().sort_values().index]\n",
    "sns.boxplot(x='variable', y='value', data=pd.melt(boxplots), showfliers=False)\n",
    "plt.xticks(rotation=90)\n",
    "plt.xlabel('Simple models with only one numeric variable as predictor')\n",
    "plt.ylabel('AUC')\n",
    "#6 pts\n",
    "# Deduct 2 pts if the labels are not shown clearly\n",
    "# when the students did not reach this result, it is most likely that they have defined AUC_calculation in terms of loc and not iloc , which could lead to incorrect link between predictors and targets. This could be fixed using iloc in AUC_calculation or resetting the indexes\n",
    "# after uploading data1, this is  Data1 = Data1.reset_index()\n",
    "# If this is the case deduct 5 points only here, do not doble penalize the rest of questions because of this mistake."
   ]
  },
  {
   "cell_type": "markdown",
   "metadata": {
    "id": "PiuIHM2OQrOh"
   },
   "source": [
    "**ANSWER HERE:**[1 pt]\n",
    "Observing the previous boxplots with the auc distribution for each model, we could deduce that the model with the less expected error is the model with `instrumentalness` as predictor and model with `speechiness` has the worst performence."
   ]
  },
  {
   "cell_type": "markdown",
   "metadata": {
    "id": "8Rze33nJQrOh"
   },
   "source": [
    "#### 4.6: /7\n",
    "**Now, lets compare these models with the one including all the numeric variables** \n",
    "\n",
    "**You again will use  10-fold cross-validation to determine if this new model has better performance, and at the end, you want to plot the boxplots with the information of this new model.**  "
   ]
  },
  {
   "cell_type": "code",
   "execution_count": 40,
   "metadata": {
    "colab": {
     "base_uri": "https://localhost:8080/",
     "height": 444
    },
    "id": "MHGVcfPKQrOh",
    "outputId": "9cd139e1-33f5-4062-f5e1-cf5890d10a66"
   },
   "outputs": [
    {
     "data": {
      "text/html": [
       "<div>\n",
       "<style scoped>\n",
       "    .dataframe tbody tr th:only-of-type {\n",
       "        vertical-align: middle;\n",
       "    }\n",
       "\n",
       "    .dataframe tbody tr th {\n",
       "        vertical-align: top;\n",
       "    }\n",
       "\n",
       "    .dataframe thead th {\n",
       "        text-align: right;\n",
       "    }\n",
       "</style>\n",
       "<table border=\"1\" class=\"dataframe\">\n",
       "  <thead>\n",
       "    <tr style=\"text-align: right;\">\n",
       "      <th></th>\n",
       "      <th>Simple-danceability</th>\n",
       "      <th>Simple-energy</th>\n",
       "      <th>Simple-key</th>\n",
       "      <th>Simple-loudness</th>\n",
       "      <th>Simple-speechiness</th>\n",
       "      <th>Simple-acousticness</th>\n",
       "      <th>Simple-instrumentalness</th>\n",
       "      <th>Simple-liveness</th>\n",
       "      <th>Simple-valence</th>\n",
       "      <th>Simple-tempo</th>\n",
       "      <th>Simple-duration_m</th>\n",
       "      <th>All_numeric</th>\n",
       "    </tr>\n",
       "  </thead>\n",
       "  <tbody>\n",
       "    <tr>\n",
       "      <th>0</th>\n",
       "      <td>0.555868</td>\n",
       "      <td>0.607359</td>\n",
       "      <td>0.481996</td>\n",
       "      <td>0.553269</td>\n",
       "      <td>0.458888</td>\n",
       "      <td>0.597392</td>\n",
       "      <td>0.631633</td>\n",
       "      <td>0.522122</td>\n",
       "      <td>0.496486</td>\n",
       "      <td>0.555175</td>\n",
       "      <td>0.564517</td>\n",
       "      <td>0.684176</td>\n",
       "    </tr>\n",
       "    <tr>\n",
       "      <th>1</th>\n",
       "      <td>0.487477</td>\n",
       "      <td>0.357881</td>\n",
       "      <td>0.529757</td>\n",
       "      <td>0.709963</td>\n",
       "      <td>0.418472</td>\n",
       "      <td>0.370703</td>\n",
       "      <td>0.663520</td>\n",
       "      <td>0.513038</td>\n",
       "      <td>0.562521</td>\n",
       "      <td>0.460989</td>\n",
       "      <td>0.398748</td>\n",
       "      <td>0.644715</td>\n",
       "    </tr>\n",
       "    <tr>\n",
       "      <th>2</th>\n",
       "      <td>0.464991</td>\n",
       "      <td>0.579237</td>\n",
       "      <td>0.516969</td>\n",
       "      <td>0.528699</td>\n",
       "      <td>0.292333</td>\n",
       "      <td>0.555835</td>\n",
       "      <td>0.487146</td>\n",
       "      <td>0.552069</td>\n",
       "      <td>0.436841</td>\n",
       "      <td>0.438011</td>\n",
       "      <td>0.611040</td>\n",
       "      <td>0.604964</td>\n",
       "    </tr>\n",
       "    <tr>\n",
       "      <th>3</th>\n",
       "      <td>0.751291</td>\n",
       "      <td>0.553775</td>\n",
       "      <td>0.457959</td>\n",
       "      <td>0.624714</td>\n",
       "      <td>0.258646</td>\n",
       "      <td>0.495356</td>\n",
       "      <td>0.658499</td>\n",
       "      <td>0.501722</td>\n",
       "      <td>0.513046</td>\n",
       "      <td>0.527887</td>\n",
       "      <td>0.568949</td>\n",
       "      <td>0.661599</td>\n",
       "    </tr>\n",
       "    <tr>\n",
       "      <th>4</th>\n",
       "      <td>0.469592</td>\n",
       "      <td>0.568940</td>\n",
       "      <td>0.527370</td>\n",
       "      <td>0.435774</td>\n",
       "      <td>0.431607</td>\n",
       "      <td>0.566327</td>\n",
       "      <td>0.497492</td>\n",
       "      <td>0.522720</td>\n",
       "      <td>0.552208</td>\n",
       "      <td>0.513475</td>\n",
       "      <td>0.387663</td>\n",
       "      <td>0.486340</td>\n",
       "    </tr>\n",
       "    <tr>\n",
       "      <th>5</th>\n",
       "      <td>0.458676</td>\n",
       "      <td>0.552932</td>\n",
       "      <td>0.514861</td>\n",
       "      <td>0.585892</td>\n",
       "      <td>0.500922</td>\n",
       "      <td>0.502346</td>\n",
       "      <td>0.585029</td>\n",
       "      <td>0.511087</td>\n",
       "      <td>0.461538</td>\n",
       "      <td>0.495209</td>\n",
       "      <td>0.513360</td>\n",
       "      <td>0.647792</td>\n",
       "    </tr>\n",
       "    <tr>\n",
       "      <th>6</th>\n",
       "      <td>0.643550</td>\n",
       "      <td>0.394638</td>\n",
       "      <td>0.487751</td>\n",
       "      <td>0.745097</td>\n",
       "      <td>0.545515</td>\n",
       "      <td>0.518096</td>\n",
       "      <td>0.560479</td>\n",
       "      <td>0.529548</td>\n",
       "      <td>0.617702</td>\n",
       "      <td>0.496861</td>\n",
       "      <td>0.542598</td>\n",
       "      <td>0.680131</td>\n",
       "    </tr>\n",
       "    <tr>\n",
       "      <th>7</th>\n",
       "      <td>0.527566</td>\n",
       "      <td>0.446832</td>\n",
       "      <td>0.513050</td>\n",
       "      <td>0.690803</td>\n",
       "      <td>0.450939</td>\n",
       "      <td>0.510866</td>\n",
       "      <td>0.691488</td>\n",
       "      <td>0.519673</td>\n",
       "      <td>0.453102</td>\n",
       "      <td>0.422984</td>\n",
       "      <td>0.684145</td>\n",
       "      <td>0.665710</td>\n",
       "    </tr>\n",
       "    <tr>\n",
       "      <th>8</th>\n",
       "      <td>0.580350</td>\n",
       "      <td>0.867400</td>\n",
       "      <td>0.518115</td>\n",
       "      <td>0.338044</td>\n",
       "      <td>0.458117</td>\n",
       "      <td>0.800216</td>\n",
       "      <td>0.849232</td>\n",
       "      <td>0.573623</td>\n",
       "      <td>0.632576</td>\n",
       "      <td>0.327581</td>\n",
       "      <td>0.465624</td>\n",
       "      <td>0.810698</td>\n",
       "    </tr>\n",
       "    <tr>\n",
       "      <th>9</th>\n",
       "      <td>0.542105</td>\n",
       "      <td>0.674315</td>\n",
       "      <td>0.495095</td>\n",
       "      <td>0.468274</td>\n",
       "      <td>0.512153</td>\n",
       "      <td>0.705784</td>\n",
       "      <td>0.709750</td>\n",
       "      <td>0.500605</td>\n",
       "      <td>0.629674</td>\n",
       "      <td>0.366274</td>\n",
       "      <td>0.587889</td>\n",
       "      <td>0.720129</td>\n",
       "    </tr>\n",
       "  </tbody>\n",
       "</table>\n",
       "</div>"
      ],
      "text/plain": [
       "   Simple-danceability  Simple-energy  Simple-key  Simple-loudness  \\\n",
       "0             0.555868       0.607359    0.481996         0.553269   \n",
       "1             0.487477       0.357881    0.529757         0.709963   \n",
       "2             0.464991       0.579237    0.516969         0.528699   \n",
       "3             0.751291       0.553775    0.457959         0.624714   \n",
       "4             0.469592       0.568940    0.527370         0.435774   \n",
       "5             0.458676       0.552932    0.514861         0.585892   \n",
       "6             0.643550       0.394638    0.487751         0.745097   \n",
       "7             0.527566       0.446832    0.513050         0.690803   \n",
       "8             0.580350       0.867400    0.518115         0.338044   \n",
       "9             0.542105       0.674315    0.495095         0.468274   \n",
       "\n",
       "   Simple-speechiness  Simple-acousticness  Simple-instrumentalness  \\\n",
       "0            0.458888             0.597392                 0.631633   \n",
       "1            0.418472             0.370703                 0.663520   \n",
       "2            0.292333             0.555835                 0.487146   \n",
       "3            0.258646             0.495356                 0.658499   \n",
       "4            0.431607             0.566327                 0.497492   \n",
       "5            0.500922             0.502346                 0.585029   \n",
       "6            0.545515             0.518096                 0.560479   \n",
       "7            0.450939             0.510866                 0.691488   \n",
       "8            0.458117             0.800216                 0.849232   \n",
       "9            0.512153             0.705784                 0.709750   \n",
       "\n",
       "   Simple-liveness  Simple-valence  Simple-tempo  Simple-duration_m  \\\n",
       "0         0.522122        0.496486      0.555175           0.564517   \n",
       "1         0.513038        0.562521      0.460989           0.398748   \n",
       "2         0.552069        0.436841      0.438011           0.611040   \n",
       "3         0.501722        0.513046      0.527887           0.568949   \n",
       "4         0.522720        0.552208      0.513475           0.387663   \n",
       "5         0.511087        0.461538      0.495209           0.513360   \n",
       "6         0.529548        0.617702      0.496861           0.542598   \n",
       "7         0.519673        0.453102      0.422984           0.684145   \n",
       "8         0.573623        0.632576      0.327581           0.465624   \n",
       "9         0.500605        0.629674      0.366274           0.587889   \n",
       "\n",
       "   All_numeric  \n",
       "0     0.684176  \n",
       "1     0.644715  \n",
       "2     0.604964  \n",
       "3     0.661599  \n",
       "4     0.486340  \n",
       "5     0.647792  \n",
       "6     0.680131  \n",
       "7     0.665710  \n",
       "8     0.810698  \n",
       "9     0.720129  "
      ]
     },
     "execution_count": 40,
     "metadata": {},
     "output_type": "execute_result"
    }
   ],
   "source": [
    "Xall_final, yall_final = Data1.drop(['track_popularity'], axis=1), Data1.track_popularity\n",
    "list_auc_all = AUC_cross_validation(Xall_final, yall_final, n_fold=10)\n",
    "AUC_models['All_numeric']=list_auc_all\n",
    "# Print the new data frame \n",
    "AUC_models\n",
    "# 4 pts "
   ]
  },
  {
   "cell_type": "code",
   "execution_count": 41,
   "metadata": {
    "colab": {
     "base_uri": "https://localhost:8080/",
     "height": 686
    },
    "id": "eFNrEvJ7QrOi",
    "outputId": "771a869e-c245-4ad1-cb00-1d0545c60812"
   },
   "outputs": [
    {
     "data": {
      "text/plain": [
       "Text(0, 0.5, 'AUC')"
      ]
     },
     "execution_count": 41,
     "metadata": {},
     "output_type": "execute_result"
    },
    {
     "data": {
      "image/png": "[encoded data removed]",
      "text/plain": [
       "<Figure size 1500x900 with 1 Axes>"
      ]
     },
     "metadata": {},
     "output_type": "display_data"
    }
   ],
   "source": [
    "# Plot the boxplots\n",
    "plt.figure(figsize=(15,9))\n",
    "boxplots = AUC_models[AUC_models.mean().sort_values().index]\n",
    "sns.boxplot(x='variable', y='value', data=pd.melt(boxplots), showfliers=False)\n",
    "plt.xticks(rotation=90)\n",
    "plt.xlabel('Simple models with only one numeric variable as predictor')\n",
    "plt.ylabel('AUC')\n",
    "# 3pt"
   ]
  },
  {
   "cell_type": "markdown",
   "metadata": {
    "id": "Pn8cPzsiQrOi"
   },
   "source": [
    "_____________"
   ]
  },
  {
   "cell_type": "markdown",
   "metadata": {
    "id": "KEK9WRo5QrOi"
   },
   "source": [
    "### Question 5: /10\n",
    "\n",
    "Finally, you are going to include all the numeric predictors as well as the categorical variable `mode` in the model. Make sure to encode the categorical variable. Use the 10-fold cross-validation to evaluate the performance of this model. Print the AUC mean for all the models (including previous models) in ascending order."
   ]
  },
  {
   "cell_type": "code",
   "execution_count": 42,
   "metadata": {
    "colab": {
     "base_uri": "https://localhost:8080/",
     "height": 791
    },
    "id": "_T2G7kcAQrOi",
    "outputId": "6f48911c-9e28-4b10-e449-4adb2433c3bc"
   },
   "outputs": [
    {
     "name": "stdout",
     "output_type": "stream",
     "text": [
      "   danceability  energy  key  loudness  speechiness  acousticness  \\\n",
      "0         0.748   0.916    6    -2.634       0.0583        0.1020   \n",
      "1         0.726   0.815   11    -4.969       0.0373        0.0724   \n",
      "2         0.675   0.931    1    -3.432       0.0742        0.0794   \n",
      "3         0.718   0.930    7    -3.778       0.1020        0.0287   \n",
      "4         0.650   0.833    1    -4.672       0.0359        0.0803   \n",
      "\n",
      "   instrumentalness  liveness  valence    tempo  duration_m  track_popularity  \\\n",
      "0          0.000000    0.0653    0.518  122.036    3.245900                 1   \n",
      "1          0.004210    0.3570    0.693   99.972    2.710000                 1   \n",
      "2          0.000023    0.1100    0.613  124.008    2.943600                 0   \n",
      "3          0.000009    0.2040    0.277  121.956    2.818217                 1   \n",
      "4          0.000000    0.0833    0.725  123.976    3.150867                 1   \n",
      "\n",
      "   mode_minor  \n",
      "0           0  \n",
      "1           0  \n",
      "2           1  \n",
      "3           0  \n",
      "4           0  \n"
     ]
    },
    {
     "data": {
      "text/html": [
       "<div>\n",
       "<style scoped>\n",
       "    .dataframe tbody tr th:only-of-type {\n",
       "        vertical-align: middle;\n",
       "    }\n",
       "\n",
       "    .dataframe tbody tr th {\n",
       "        vertical-align: top;\n",
       "    }\n",
       "\n",
       "    .dataframe thead th {\n",
       "        text-align: right;\n",
       "    }\n",
       "</style>\n",
       "<table border=\"1\" class=\"dataframe\">\n",
       "  <thead>\n",
       "    <tr style=\"text-align: right;\">\n",
       "      <th></th>\n",
       "      <th>Simple-danceability</th>\n",
       "      <th>Simple-energy</th>\n",
       "      <th>Simple-key</th>\n",
       "      <th>Simple-loudness</th>\n",
       "      <th>Simple-speechiness</th>\n",
       "      <th>Simple-acousticness</th>\n",
       "      <th>Simple-instrumentalness</th>\n",
       "      <th>Simple-liveness</th>\n",
       "      <th>Simple-valence</th>\n",
       "      <th>Simple-tempo</th>\n",
       "      <th>Simple-duration_m</th>\n",
       "      <th>All_numeric</th>\n",
       "      <th>All_numeric_one_categorical</th>\n",
       "    </tr>\n",
       "  </thead>\n",
       "  <tbody>\n",
       "    <tr>\n",
       "      <th>0</th>\n",
       "      <td>0.555868</td>\n",
       "      <td>0.607359</td>\n",
       "      <td>0.481996</td>\n",
       "      <td>0.553269</td>\n",
       "      <td>0.458888</td>\n",
       "      <td>0.597392</td>\n",
       "      <td>0.631633</td>\n",
       "      <td>0.522122</td>\n",
       "      <td>0.496486</td>\n",
       "      <td>0.555175</td>\n",
       "      <td>0.564517</td>\n",
       "      <td>0.684176</td>\n",
       "      <td>0.682030</td>\n",
       "    </tr>\n",
       "    <tr>\n",
       "      <th>1</th>\n",
       "      <td>0.487477</td>\n",
       "      <td>0.357881</td>\n",
       "      <td>0.529757</td>\n",
       "      <td>0.709963</td>\n",
       "      <td>0.418472</td>\n",
       "      <td>0.370703</td>\n",
       "      <td>0.663520</td>\n",
       "      <td>0.513038</td>\n",
       "      <td>0.562521</td>\n",
       "      <td>0.460989</td>\n",
       "      <td>0.398748</td>\n",
       "      <td>0.644715</td>\n",
       "      <td>0.641508</td>\n",
       "    </tr>\n",
       "    <tr>\n",
       "      <th>2</th>\n",
       "      <td>0.464991</td>\n",
       "      <td>0.579237</td>\n",
       "      <td>0.516969</td>\n",
       "      <td>0.528699</td>\n",
       "      <td>0.292333</td>\n",
       "      <td>0.555835</td>\n",
       "      <td>0.487146</td>\n",
       "      <td>0.552069</td>\n",
       "      <td>0.436841</td>\n",
       "      <td>0.438011</td>\n",
       "      <td>0.611040</td>\n",
       "      <td>0.604964</td>\n",
       "      <td>0.602608</td>\n",
       "    </tr>\n",
       "    <tr>\n",
       "      <th>3</th>\n",
       "      <td>0.751291</td>\n",
       "      <td>0.553775</td>\n",
       "      <td>0.457959</td>\n",
       "      <td>0.624714</td>\n",
       "      <td>0.258646</td>\n",
       "      <td>0.495356</td>\n",
       "      <td>0.658499</td>\n",
       "      <td>0.501722</td>\n",
       "      <td>0.513046</td>\n",
       "      <td>0.527887</td>\n",
       "      <td>0.568949</td>\n",
       "      <td>0.661599</td>\n",
       "      <td>0.661583</td>\n",
       "    </tr>\n",
       "    <tr>\n",
       "      <th>4</th>\n",
       "      <td>0.469592</td>\n",
       "      <td>0.568940</td>\n",
       "      <td>0.527370</td>\n",
       "      <td>0.435774</td>\n",
       "      <td>0.431607</td>\n",
       "      <td>0.566327</td>\n",
       "      <td>0.497492</td>\n",
       "      <td>0.522720</td>\n",
       "      <td>0.552208</td>\n",
       "      <td>0.513475</td>\n",
       "      <td>0.387663</td>\n",
       "      <td>0.486340</td>\n",
       "      <td>0.488129</td>\n",
       "    </tr>\n",
       "    <tr>\n",
       "      <th>5</th>\n",
       "      <td>0.458676</td>\n",
       "      <td>0.552932</td>\n",
       "      <td>0.514861</td>\n",
       "      <td>0.585892</td>\n",
       "      <td>0.500922</td>\n",
       "      <td>0.502346</td>\n",
       "      <td>0.585029</td>\n",
       "      <td>0.511087</td>\n",
       "      <td>0.461538</td>\n",
       "      <td>0.495209</td>\n",
       "      <td>0.513360</td>\n",
       "      <td>0.647792</td>\n",
       "      <td>0.647555</td>\n",
       "    </tr>\n",
       "    <tr>\n",
       "      <th>6</th>\n",
       "      <td>0.643550</td>\n",
       "      <td>0.394638</td>\n",
       "      <td>0.487751</td>\n",
       "      <td>0.745097</td>\n",
       "      <td>0.545515</td>\n",
       "      <td>0.518096</td>\n",
       "      <td>0.560479</td>\n",
       "      <td>0.529548</td>\n",
       "      <td>0.617702</td>\n",
       "      <td>0.496861</td>\n",
       "      <td>0.542598</td>\n",
       "      <td>0.680131</td>\n",
       "      <td>0.680868</td>\n",
       "    </tr>\n",
       "    <tr>\n",
       "      <th>7</th>\n",
       "      <td>0.527566</td>\n",
       "      <td>0.446832</td>\n",
       "      <td>0.513050</td>\n",
       "      <td>0.690803</td>\n",
       "      <td>0.450939</td>\n",
       "      <td>0.510866</td>\n",
       "      <td>0.691488</td>\n",
       "      <td>0.519673</td>\n",
       "      <td>0.453102</td>\n",
       "      <td>0.422984</td>\n",
       "      <td>0.684145</td>\n",
       "      <td>0.665710</td>\n",
       "      <td>0.668466</td>\n",
       "    </tr>\n",
       "    <tr>\n",
       "      <th>8</th>\n",
       "      <td>0.580350</td>\n",
       "      <td>0.867400</td>\n",
       "      <td>0.518115</td>\n",
       "      <td>0.338044</td>\n",
       "      <td>0.458117</td>\n",
       "      <td>0.800216</td>\n",
       "      <td>0.849232</td>\n",
       "      <td>0.573623</td>\n",
       "      <td>0.632576</td>\n",
       "      <td>0.327581</td>\n",
       "      <td>0.465624</td>\n",
       "      <td>0.810698</td>\n",
       "      <td>0.813009</td>\n",
       "    </tr>\n",
       "    <tr>\n",
       "      <th>9</th>\n",
       "      <td>0.542105</td>\n",
       "      <td>0.674315</td>\n",
       "      <td>0.495095</td>\n",
       "      <td>0.468274</td>\n",
       "      <td>0.512153</td>\n",
       "      <td>0.705784</td>\n",
       "      <td>0.709750</td>\n",
       "      <td>0.500605</td>\n",
       "      <td>0.629674</td>\n",
       "      <td>0.366274</td>\n",
       "      <td>0.587889</td>\n",
       "      <td>0.720129</td>\n",
       "      <td>0.721198</td>\n",
       "    </tr>\n",
       "  </tbody>\n",
       "</table>\n",
       "</div>"
      ],
      "text/plain": [
       "   Simple-danceability  Simple-energy  Simple-key  Simple-loudness  \\\n",
       "0             0.555868       0.607359    0.481996         0.553269   \n",
       "1             0.487477       0.357881    0.529757         0.709963   \n",
       "2             0.464991       0.579237    0.516969         0.528699   \n",
       "3             0.751291       0.553775    0.457959         0.624714   \n",
       "4             0.469592       0.568940    0.527370         0.435774   \n",
       "5             0.458676       0.552932    0.514861         0.585892   \n",
       "6             0.643550       0.394638    0.487751         0.745097   \n",
       "7             0.527566       0.446832    0.513050         0.690803   \n",
       "8             0.580350       0.867400    0.518115         0.338044   \n",
       "9             0.542105       0.674315    0.495095         0.468274   \n",
       "\n",
       "   Simple-speechiness  Simple-acousticness  Simple-instrumentalness  \\\n",
       "0            0.458888             0.597392                 0.631633   \n",
       "1            0.418472             0.370703                 0.663520   \n",
       "2            0.292333             0.555835                 0.487146   \n",
       "3            0.258646             0.495356                 0.658499   \n",
       "4            0.431607             0.566327                 0.497492   \n",
       "5            0.500922             0.502346                 0.585029   \n",
       "6            0.545515             0.518096                 0.560479   \n",
       "7            0.450939             0.510866                 0.691488   \n",
       "8            0.458117             0.800216                 0.849232   \n",
       "9            0.512153             0.705784                 0.709750   \n",
       "\n",
       "   Simple-liveness  Simple-valence  Simple-tempo  Simple-duration_m  \\\n",
       "0         0.522122        0.496486      0.555175           0.564517   \n",
       "1         0.513038        0.562521      0.460989           0.398748   \n",
       "2         0.552069        0.436841      0.438011           0.611040   \n",
       "3         0.501722        0.513046      0.527887           0.568949   \n",
       "4         0.522720        0.552208      0.513475           0.387663   \n",
       "5         0.511087        0.461538      0.495209           0.513360   \n",
       "6         0.529548        0.617702      0.496861           0.542598   \n",
       "7         0.519673        0.453102      0.422984           0.684145   \n",
       "8         0.573623        0.632576      0.327581           0.465624   \n",
       "9         0.500605        0.629674      0.366274           0.587889   \n",
       "\n",
       "   All_numeric  All_numeric_one_categorical  \n",
       "0     0.684176                     0.682030  \n",
       "1     0.644715                     0.641508  \n",
       "2     0.604964                     0.602608  \n",
       "3     0.661599                     0.661583  \n",
       "4     0.486340                     0.488129  \n",
       "5     0.647792                     0.647555  \n",
       "6     0.680131                     0.680868  \n",
       "7     0.665710                     0.668466  \n",
       "8     0.810698                     0.813009  \n",
       "9     0.720129                     0.721198  "
      ]
     },
     "execution_count": 42,
     "metadata": {},
     "output_type": "execute_result"
    }
   ],
   "source": [
    "Data1 = spotify_pre\n",
    "Data1 = Data1.drop(['playlist_genre','playlist_subgenre'], axis=1)\n",
    "Data1 = pd.get_dummies(Data1, drop_first=True)\n",
    "Data1 = Data1.rename({'track_popularity_low': 'track_popularity'}, axis='columns')\n",
    "print(Data1.head())\n",
    "\n",
    "Xall, yall = Data1.drop(['track_popularity'], axis=1), Data1.track_popularity\n",
    "list_auc_all = AUC_cross_validation(Xall, yall, n_fold=10)\n",
    "AUC_models['All_numeric_one_categorical']=list_auc_all\n",
    "# Print the new data frame \n",
    "AUC_models"
   ]
  },
  {
   "cell_type": "code",
   "execution_count": 43,
   "metadata": {
    "colab": {
     "base_uri": "https://localhost:8080/"
    },
    "id": "C1S9ZgsOQrOi",
    "outputId": "8785fd70-1112-4851-e24b-df08a451c2a0"
   },
   "outputs": [
    {
     "data": {
      "text/plain": [
       "Simple-speechiness             0.432759\n",
       "Simple-tempo                   0.460445\n",
       "Simple-key                     0.504292\n",
       "Simple-liveness                0.524621\n",
       "Simple-duration_m              0.532453\n",
       "Simple-valence                 0.535569\n",
       "Simple-danceability            0.548147\n",
       "Simple-energy                  0.560331\n",
       "Simple-acousticness            0.562292\n",
       "Simple-loudness                0.568053\n",
       "Simple-instrumentalness        0.633427\n",
       "All_numeric                    0.660625\n",
       "All_numeric_one_categorical    0.660695\n",
       "dtype: float64"
      ]
     },
     "execution_count": 43,
     "metadata": {},
     "output_type": "execute_result"
    }
   ],
   "source": [
    "# Print the AUC mean for each of the models in ascending order\n",
    "AUC_models.mean(axis=0).sort_values()\n",
    "# 4 pts\n",
    "# Deduct 1 point if the results are not ordered as asked"
   ]
  },
  {
   "cell_type": "markdown",
   "metadata": {
    "id": "Uq-8d5KKQrOj"
   },
   "source": [
    "Which of the above models is the best model? Why? "
   ]
  },
  {
   "cell_type": "markdown",
   "metadata": {
    "id": "-lMD3NrZQrOj"
   },
   "source": [
    "**ANSWER HERE:** [2pt]\n",
    "\n",
    "Since the mean of the AUC cross validation scores for the model `All_numeric` is higher than the rest, then you should select the model `All_numeric`."
   ]
  },
  {
   "cell_type": "markdown",
   "metadata": {
    "id": "pyW6s0nGQrOj"
   },
   "source": [
    "______________"
   ]
  },
  {
   "cell_type": "markdown",
   "metadata": {
    "id": "B-o4HnvCQrOk"
   },
   "source": [
    "### Question 6: /15pts\n",
    "\n",
    "Now it is time to train it on all the training data. Estimate the performance of this model on the test data and do the following (For this, use a 70/30 train-test split of the data, remember to set `random_state=0` in the function `train_test_split` ): \n",
    "\n",
    "- Use boostrap technique to find the 95% CI for the AUC. \n",
    "- Plot the distribution of the boostrap AUC scores."
   ]
  },
  {
   "cell_type": "code",
   "execution_count": 44,
   "metadata": {
    "colab": {
     "base_uri": "https://localhost:8080/"
    },
    "id": "B-Zb6SFDQrOk",
    "outputId": "f9cdfd58-4e23-4753-daed-552ec91ebf62"
   },
   "outputs": [
    {
     "name": "stdout",
     "output_type": "stream",
     "text": [
      "The AUC of the model is: 0.694793472034344\n"
     ]
    }
   ],
   "source": [
    "Xtrain6, Xtest6, ytrain6, ytest6 = train_test_split(Xall_final,yall_final,test_size=0.3,random_state=0)\n",
    "\n",
    "#Fit the model\n",
    "model1.fit(Xtrain6, ytrain6)\n",
    "#Calculate the predictions on the Test data\n",
    "ytest_pred6=model1.predict_proba(Xtest6)[:,1]\n",
    "\n",
    "# Create the ROC curve and report AUC\n",
    "auc_model6 = roc_auc_score(ytest6, ytest_pred6) \n",
    "print(f'The AUC of the model is: {auc_model6}')\n",
    "# 1 pt"
   ]
  },
  {
   "cell_type": "code",
   "execution_count": 45,
   "metadata": {
    "id": "_PprUnpXQrOk"
   },
   "outputs": [],
   "source": [
    "boostraps_num = 1200\n",
    "boostraps_auc =[]\n",
    "n = len(ytest6)\n",
    "\n",
    "\n",
    "np.random.RandomState(0)\n",
    "for i in range(boostraps_num):\n",
    "    index = np.random.randint(0, n, n)\n",
    "    score = roc_auc_score(ytest6.values[index],ytest_pred6[index]) # or np.array(ytest6)[index]\n",
    "    boostraps_auc.append(score)\n",
    "# 5pts"
   ]
  },
  {
   "cell_type": "code",
   "execution_count": 46,
   "metadata": {
    "colab": {
     "base_uri": "https://localhost:8080/",
     "height": 282
    },
    "id": "3R44_knBQrOk",
    "outputId": "bfb3e929-8dbd-4f41-df94-d4b518c58daa"
   },
   "outputs": [
    {
     "data": {
      "image/png": "[encoded data removed]",
      "text/plain": [
       "<Figure size 640x480 with 1 Axes>"
      ]
     },
     "metadata": {},
     "output_type": "display_data"
    }
   ],
   "source": [
    "plt.hist(boostraps_auc, bins=80)\n",
    "plt.title('Bootstrapped ROC AUC scores')\n",
    "plt.show()\n",
    "# 3 pts"
   ]
  },
  {
   "cell_type": "code",
   "execution_count": 47,
   "metadata": {
    "colab": {
     "base_uri": "https://localhost:8080/"
    },
    "id": "Afxtsv6EQrOk",
    "outputId": "b19a6a0b-9e83-4cb6-8bc3-feac23e7325a"
   },
   "outputs": [
    {
     "name": "stdout",
     "output_type": "stream",
     "text": [
      "The CI for the AUC of the model is: (0.68, 0.71)\n"
     ]
    }
   ],
   "source": [
    "# Sort the samples\n",
    "org_boots_auc= np.array(boostraps_auc)\n",
    "org_boots_auc.sort()\n",
    "\n",
    "# Calculating the limits, this is the 0.025 and 0.975 percentiles of the Boostrap distribution \n",
    "ci_min = round(org_boots_auc[int(0.025*boostraps_num)],2)\n",
    "ci_max = round(org_boots_auc[int(0.975*boostraps_num)],2)\n",
    "\n",
    "# \n",
    "print(f'The CI for the AUC of the model is: {(ci_min,ci_max) }')\n",
    "# 5 pts"
   ]
  },
  {
   "cell_type": "code",
   "execution_count": 48,
   "metadata": {
    "colab": {
     "base_uri": "https://localhost:8080/"
    },
    "id": "tSeS5MHXlerh",
    "outputId": "c59a4d1f-de63-40da-a56a-a4cb4a2ae940"
   },
   "outputs": [
    {
     "name": "stdout",
     "output_type": "stream",
     "text": [
      "The CI for the AUC of the model is: (0.68, 0.71)\n"
     ]
    }
   ],
   "source": [
    "#OR\n",
    "\n",
    "boos_estimate = org_boots_auc - auc_model6\n",
    "\n",
    "# Calculating the limits, this is the 0.025 and 0.975 percentiles of the Boostrap distribution \n",
    "q = np.quantile(boos_estimate, [0.025, 0.975])\n",
    "\n",
    "ci_min = round(auc_model6 - q[1], 2)\n",
    "ci_max = round(auc_model6 - q[0], 2)\n",
    "# \n",
    "print(f'The CI for the AUC of the model is: {(ci_min,ci_max) }')"
   ]
  },
  {
   "cell_type": "markdown",
   "metadata": {
    "id": "i46nJCdcQrOk"
   },
   "source": [
    "Is the test AUC close to the AUC cross validation of the model you chose? Why do you think this is the case?"
   ]
  },
  {
   "cell_type": "markdown",
   "metadata": {
    "id": "fve0IvwJQrOl"
   },
   "source": [
    "**ANSWER HERE:** [1pt]\n",
    "\n",
    "After fitting `All_numeric` model on all the training data, the AUC is pretty close to our AUC cross validated score, which means we haven't overfit on the data!."
   ]
  }
 ],
 "metadata": {
  "colab": {
   "provenance": []
  },
  "kernelspec": {
   "display_name": "Python 3",
   "language": "python",
   "name": "python3"
  },
  "language_info": {
   "codemirror_mode": {
    "name": "ipython",
    "version": 3
   },
   "file_extension": ".py",
   "mimetype": "text/x-python",
   "name": "python",
   "nbconvert_exporter": "python",
   "pygments_lexer": "ipython3",
   "version": "3.8.8"
  }
 },
 "nbformat": 4,
 "nbformat_minor": 1
}

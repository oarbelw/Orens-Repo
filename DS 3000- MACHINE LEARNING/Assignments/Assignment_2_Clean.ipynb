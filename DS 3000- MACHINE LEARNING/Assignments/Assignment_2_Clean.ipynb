{
 "cells": [
  {
   "cell_type": "markdown",
   "metadata": {
    "id": "Z__Ux3ZqGVmO"
   },
   "source": [
    "# Grade: /100 Mark(s)\n",
    "\n",
    "# Assignment 02: Maximum Likelihood\n",
    "\n",
    "\n",
    "### Maximum Likelihood\n",
    "\n",
    "The exponential distribution https://en.wikipedia.org/wiki/Exponential_distribution is a continuous probability distribution often used to predict time when an event might ocurr, for instance Earthquake. \n",
    "\n",
    "If we know $y$ is influenced by feature $x$, then we can use the maximum likelihood principle to develop a regression model that estimates the mean of $Y$ given $X=x$."
   ]
  },
  {
   "cell_type": "code",
   "execution_count": 1,
   "metadata": {
    "id": "oNR5_78NGVmS"
   },
   "outputs": [],
   "source": [
    "# Packages for this assignment\n",
    "import numpy as np\n",
    "import matplotlib.pyplot as plt\n",
    "import pandas as pd\n",
    "from scipy.optimize import minimize\n",
    "from sklearn.linear_model import LinearRegression"
   ]
  },
  {
   "cell_type": "markdown",
   "metadata": {
    "id": "VmUVT942GVmT"
   },
   "source": [
    "### Question 1: /10 Marks\n",
    "\n",
    "The negative log likelihood for a exponential random variable is\n",
    "\n",
    "$$\\ell(\\lambda; \\mathbf{y}) = -\\sum_{i=1}^N\\Bigg(\\ln(\\lambda) - \\lambda y_i \\Bigg)$$\n",
    "\n",
    "Here, $\\mathbf{y}=(y_i) \\in \\mathbb{R^N}$ is a vector  and $\\lambda$ is a scalar value.\n",
    "\n",
    "Define a function called `exponentialNegLogLikelihood` that takes a vector  $\\mathbf{y}$ and a parameter $\\lambda$ and returns the negative log likelihood.\n",
    "\n",
    "Test your function by calling it with `lamb = 2` and `y = np.array([1, 4, 6, 0])`.\n",
    "\n",
    "Test your function by calling it with `lamb = np.array([1, 0.5, 2, 5])` and  `y = np.array([1.5, 2.1, 3.4, 0])`.\n",
    "\n",
    "Answer in markdown:\n",
    "\n",
    "* What happens when you set an element of lamb to 0 or a negative number. Why?"
   ]
  },
  {
   "cell_type": "code",
   "execution_count": 23,
   "metadata": {
    "id": "5okkxPQuGVmT"
   },
   "outputs": [
    {
     "name": "stdout",
     "output_type": "stream",
     "text": [
      "Test 1:  19.227411277760222 \n",
      "Test2:  7.740562087565899 \n",
      "When lambda is 0:  inf \n",
      "When lambda is negative:  nan\n"
     ]
    },
    {
     "name": "stderr",
     "output_type": "stream",
     "text": [
      "<ipython-input-23-f308da323b5f>:2: RuntimeWarning: divide by zero encountered in log\n",
      "  return -np.sum(np.log(lamb) - lamb*y)\n",
      "<ipython-input-23-f308da323b5f>:2: RuntimeWarning: invalid value encountered in log\n",
      "  return -np.sum(np.log(lamb) - lamb*y)\n"
     ]
    }
   ],
   "source": [
    "def exponentialNegLogLikelihood(lamb, y):\n",
    "    return -np.sum(np.log(lamb) - lamb*y)\n",
    "\n",
    "lamb1 = 2\n",
    "y1 = np.array([1, 4, 6, 0])\n",
    "test1 = exponentialNegLogLikelihood(lamb1, y1)\n",
    "lamb2 = np.array([1, 0.5, 2, 5])\n",
    "lamb0 = 0\n",
    "lambneg = -2\n",
    "y2 = np.array([1.5, 2.1, 3.4, 0])\n",
    "test2 = exponentialNegLogLikelihood(lamb2, y2)\n",
    "test0 = exponentialNegLogLikelihood(lamb0, y2)\n",
    "testneg = exponentialNegLogLikelihood(lambneg, y2)\n",
    "\n",
    "print(\"Test 1: \", test1, \"\\nTest2: \", test2, \"\\nWhen lambda is 0: \", test0, \"\\nWhen lambda is negative: \", testneg)"
   ]
  },
  {
   "cell_type": "markdown",
   "metadata": {},
   "source": [
    "When an element of lambda is set to 0 or negative, there is a runtimewarning, and this is because you cannot log a negative number as it raises an error because it isnt in the range of logarithmic function. You cannot have lamb be 0 either as log 0 results in -infinity as it is not in the range either."
   ]
  },
  {
   "cell_type": "markdown",
   "metadata": {
    "id": "hLcgtM3gGVmX"
   },
   "source": [
    "---\n",
    "\n",
    "### Question 2: /15 Marks\n",
    "\n",
    "Write a function called `exponentialRegressionNegLogLikelihood` that takes as arguments a vector $\\mathbf{y}$ , a design matrix $\\mathbf{X}$ of features, and a vector $\\mathbf{\\beta}$ of parameters. The function should return the negative log likelihood of this dataset, assuming that each element of  $\\mathbf{y}$ is independent, and exponentially distributed with $\\lambda=\\exp(-\\mathbf{X}\\beta)$.\n",
    "\n",
    "Test your function by calling it with \n",
    "* `b = np.array([1, 3])`\n",
    "* `X = np.array([[1.4, 2.1, 3], [2.2, 3, 1.5]]).T`\n",
    "* `y = np.array([0, 2.5, 10])`"
   ]
  },
  {
   "cell_type": "code",
   "execution_count": 13,
   "metadata": {
    "id": "5SC8fRojGVmX"
   },
   "outputs": [
    {
     "data": {
      "text/plain": [
       "26.60556862451103"
      ]
     },
     "execution_count": 13,
     "metadata": {},
     "output_type": "execute_result"
    }
   ],
   "source": [
    "def exponentialRegressionNegLogLikelihood(b, X, y):\n",
    "    lamb = np.exp(-(X @ b))\n",
    "    like = exponentialNegLogLikelihood(lamb, y)\n",
    "    return like\n",
    "b = np.array([1, 3])\n",
    "X = np.array([[1.4, 2.1, 3], [2.2, 3, 1.5]]).T\n",
    "y = np.array([0, 2.5, 10])\n",
    "test = exponentialRegressionNegLogLikelihood(b, X, y)\n",
    "test"
   ]
  },
  {
   "cell_type": "markdown",
   "metadata": {
    "id": "G9XV1DaJGVmY"
   },
   "source": [
    "### Question 3: /10 Marks\n",
    "\n",
    "a) In `exponentialRegressionNegLogLikelihood`, what problem can happen if we assume that $\\lambda = \\mathbf{X}\\beta$?.\n",
    "\n",
    "\n",
    "b) What property of the exponential distribution is guaranteed when we assume that $\\lambda$ has the form of $\\exp(-\\mathbf{X}\\beta)$?: \n",
    "\n",
    "No more than 2 lines for each answer."
   ]
  },
  {
   "cell_type": "markdown",
   "metadata": {},
   "source": [
    "a) if we assume that lambda equals Xb, we are assuming a linear relationship, which will cause worse fitting and not accurate likelihood\n",
    "b) "
   ]
  },
  {
   "cell_type": "markdown",
   "metadata": {
    "id": "4euBU8yfGVmZ"
   },
   "source": [
    "### Question 4: /2.5 Marks\n",
    "\n",
    "Define a function called `Prediction` whose arguments are a vector of coefficents $\\beta$ and a design matrix $\\mathbf{X}$, and its outputs are predictions of the form $\\widehat{\\mathbf{y}} = \\exp(\\mathbf{X}\\beta)$. \n",
    "\n",
    "Test your function by calling it with \n",
    "* `b = np.array([1, 3])`\n",
    "* `X = np.array([[1.4, 2.1, 3], [2.2, 3, 1.5]]).T`"
   ]
  },
  {
   "cell_type": "code",
   "execution_count": 16,
   "metadata": {
    "id": "tysS6_lKGVmZ"
   },
   "outputs": [
    {
     "data": {
      "text/plain": [
       "array([ 2980.95798704, 66171.16016838,  1808.04241446])"
      ]
     },
     "execution_count": 16,
     "metadata": {},
     "output_type": "execute_result"
    }
   ],
   "source": [
    "def Prediction(b, X):\n",
    "    y = np.exp(X @ b)\n",
    "    return y\n",
    "b = np.array([1, 3])\n",
    "X = np.array([[1.4, 2.1, 3], [2.2, 3, 1.5]]).T\n",
    "y = Prediction(b,X)\n",
    "y"
   ]
  },
  {
   "cell_type": "markdown",
   "metadata": {
    "id": "xD9sS7SwGVmZ"
   },
   "source": [
    "### Question 5: /15 Marks\n",
    "\n",
    "Define a function called `Model_fit` which accepts as its first argument a design matrix $\\mathbf{X}$ and as its second argument a vector of $\\mathbf{y}$. Its output should be the maximum likelihood estimates for the coefficients of exponential regression of $\\mathbf{y}$ onto $\\mathbf{X}$.\n",
    "\n",
    "Test your function by calling it with \n",
    "* `X = np.array([[1.4, 2.1, 3], [2.2, 3, 1.5]]).T`\n",
    "* `y = np.array([0, 2.5, 10])`\n",
    "\n",
    "Write the estimated coefficient $b$."
   ]
  },
  {
   "cell_type": "code",
   "execution_count": 20,
   "metadata": {
    "id": "Dvcyhi2LGVma"
   },
   "outputs": [
    {
     "data": {
      "text/plain": [
       "array([ 1.14084805, -0.67998106])"
      ]
     },
     "execution_count": 20,
     "metadata": {},
     "output_type": "execute_result"
    }
   ],
   "source": [
    "def Model_fit(X, y):\n",
    "    nrows, ncols = X.shape\n",
    "    beta = np.zeros((ncols,1)) #this is done to make sure dimensions are done right\n",
    "    RES = minimize(exponentialRegressionNegLogLikelihood, beta, args = (X,y), method = \"Powell\", tol = 1e-8)\n",
    "    return RES.x\n",
    "X = np.array([[1.4, 2.1, 3], [2.2, 3, 1.5]]).T\n",
    "y = np.array([0, 2.5, 10])\n",
    "maxlik = Model_fit(X,y)\n",
    "maxlik\n"
   ]
  },
  {
   "cell_type": "markdown",
   "metadata": {},
   "source": [
    "### Question 6: /2.5 Marks\n",
    "\n",
    "Define a function called `Squared_residual` which accepts as its first argument a design matrix $\\mathbf{X}$, its second argument a vector of $\\mathbf{y}$ and its third argument a vector $\\beta$. Its output should be squared residual of the exponential regression model. This residual is defined as \n",
    "\n",
    "$$\n",
    "\\text{squared-residual} = \\dfrac{1}{n}\\sum_i (y_i-\\hat{y}_i)^2\n",
    "$$\n",
    "\n",
    "Test your function by calling it with \n",
    "* `X = np.array([[1.4, 2.1, 3], [2.2, 3, 1.5]]).T`\n",
    "* `y = np.array([2980, 66171, 1808])`\n",
    "* `b = np.array([1, 3])`\n"
   ]
  },
  {
   "cell_type": "code",
   "execution_count": 21,
   "metadata": {},
   "outputs": [
    {
     "data": {
      "text/plain": [
       "0.315064022352556"
      ]
     },
     "execution_count": 21,
     "metadata": {},
     "output_type": "execute_result"
    }
   ],
   "source": [
    "def Squared_residual(X,y,b):\n",
    "    y_hat = np.exp(X @ b)\n",
    "    sqrd_res = (1/len(y)) * np.sum((y-y_hat)**2)\n",
    "    return sqrd_res\n",
    "X = np.array([[1.4, 2.1, 3], [2.2, 3, 1.5]]).T\n",
    "y = np.array([2980, 66171, 1808])\n",
    "b = np.array([1, 3])\n",
    "SR = Squared_residual(X,y,b)\n",
    "SR"
   ]
  },
  {
   "cell_type": "markdown",
   "metadata": {
    "id": "u39d5e41GVma"
   },
   "source": [
    "### Question 7: /20 Mark(s)\n",
    "\n",
    "Use the data `exponential_regression.csv`, where $y$ represents time units to fit a exponential regression using the functions that you already have created. \n",
    "\n",
    "* What are the estimated coefficients?\n",
    "* Plot a scatterplot of the data that includes the model prediction over $x \\in [-2.14, 2.14]$. Do not forget to include a graph title.\n",
    "* Report the Squared residual in the plot"
   ]
  },
  {
   "cell_type": "code",
   "execution_count": 138,
   "metadata": {},
   "outputs": [
    {
     "name": "stdout",
     "output_type": "stream",
     "text": [
      "4056.8713440556294\n"
     ]
    },
    {
     "data": {
      "image/png": "[encoded data removed]",
      "text/plain": [
       "<Figure size 432x288 with 1 Axes>"
      ]
     },
     "metadata": {
      "needs_background": "light"
     },
     "output_type": "display_data"
    }
   ],
   "source": [
    "df = pd.read_csv(\"exponential_regression.csv\")\n",
    "# df.head()\n",
    "xy = df[\"x;y\"].values\n",
    "X = []\n",
    "y = []\n",
    "for d in xy:\n",
    "    X.append([float(d.split(';')[0])])\n",
    "    y.append([float(d.split(';')[1])])\n",
    "X = np.array(X)\n",
    "y = np.array(y)\n",
    "# print(X)\n",
    "res = Model_fit(X, y)\n",
    "res\n",
    "# X_train = np.c_[np.ones(X.size), X]\n",
    "# y_train = y.reshape(-1,1)\n",
    "# x_pred = np.linspace(-2.14, 2.14, 100)\n",
    "plt.scatter(X, y, label='Data')\n",
    "SR = Squared_residual(X,y,res)\n",
    "print(SR)"
   ]
  },
  {
   "cell_type": "markdown",
   "metadata": {
    "id": "UQxKy5DwGVmb"
   },
   "source": [
    "### Question 8:  /10 Marks\n",
    "\n",
    "Fit a linear regression (ordinary least squares) to the data, and obtain parameter estimates and and plot the predictions over the same range. Report the Squared residual in the plot\n"
   ]
  },
  {
   "cell_type": "code",
   "execution_count": 139,
   "metadata": {},
   "outputs": [
    {
     "name": "stdout",
     "output_type": "stream",
     "text": [
      "Intercepts:\n",
      " [2.846] \n",
      "\n",
      "Coefficients:\n",
      " [[-5.114]]\n",
      "4056.8713440556294\n"
     ]
    },
    {
     "data": {
      "image/png": "[encoded data removed]",
      "text/plain": [
       "<Figure size 432x288 with 1 Axes>"
      ]
     },
     "metadata": {
      "needs_background": "light"
     },
     "output_type": "display_data"
    }
   ],
   "source": [
    "lr = LinearRegression().fit(X,y)\n",
    "print(f\"Intercepts:\\n {lr.intercept_.round(3)} \\n\\nCoefficients:\\n {lr.coef_.round(3)}\")\n",
    "y_hat = lr.predict(X)\n",
    "y_hat\n",
    "plt.scatter(X, y_hat, label='Data')\n",
    "SR = Squared_residual(X,y,res)\n",
    "print(SR)"
   ]
  },
  {
   "cell_type": "markdown",
   "metadata": {},
   "source": [
    "### Question 9:  /10 Marks\n",
    "\n",
    "Fit a linear regression (ordinary least squares) to the data with a square term, and obtain parameter estimates and and plot the predictions over the same range. Report the Squared residual in the plot.\n",
    "\n",
    "Note that in this case the matrix X should look like \n",
    "\n",
    "$X =[[1,x_1,x_1^2],[1,x_2,x_2^2],...]$\n"
   ]
  },
  {
   "cell_type": "code",
   "execution_count": 145,
   "metadata": {},
   "outputs": [
    {
     "ename": "ValueError",
     "evalue": "Found input variables with inconsistent numbers of samples: [3, 101]",
     "output_type": "error",
     "traceback": [
      "\u001b[0;31m---------------------------------------------------------------------------\u001b[0m",
      "\u001b[0;31mValueError\u001b[0m                                Traceback (most recent call last)",
      "\u001b[0;32m<ipython-input-145-60a48abf61c3>\u001b[0m in \u001b[0;36m<module>\u001b[0;34m\u001b[0m\n\u001b[1;32m      4\u001b[0m \u001b[0mnewX\u001b[0m \u001b[0;34m=\u001b[0m \u001b[0mnp\u001b[0m\u001b[0;34m.\u001b[0m\u001b[0marray\u001b[0m\u001b[0;34m(\u001b[0m\u001b[0mnewX\u001b[0m\u001b[0;34m)\u001b[0m\u001b[0;34m\u001b[0m\u001b[0;34m\u001b[0m\u001b[0m\n\u001b[1;32m      5\u001b[0m \u001b[0;31m# newX\u001b[0m\u001b[0;34m\u001b[0m\u001b[0;34m\u001b[0m\u001b[0;34m\u001b[0m\u001b[0m\n\u001b[0;32m----> 6\u001b[0;31m \u001b[0mnew_lr\u001b[0m \u001b[0;34m=\u001b[0m \u001b[0mLinearRegression\u001b[0m\u001b[0;34m(\u001b[0m\u001b[0;34m)\u001b[0m\u001b[0;34m.\u001b[0m\u001b[0mfit\u001b[0m\u001b[0;34m(\u001b[0m\u001b[0mnewX\u001b[0m\u001b[0;34m.\u001b[0m\u001b[0mT\u001b[0m\u001b[0;34m,\u001b[0m\u001b[0my\u001b[0m\u001b[0;34m)\u001b[0m\u001b[0;34m\u001b[0m\u001b[0;34m\u001b[0m\u001b[0m\n\u001b[0m\u001b[1;32m      7\u001b[0m \u001b[0mprint\u001b[0m\u001b[0;34m(\u001b[0m\u001b[0;34mf\"Intercepts:\\n {new_lr.intercept_.round(3)} \\n\\nCoefficients:\\n {new_lr.coef_.round(3)}\"\u001b[0m\u001b[0;34m)\u001b[0m\u001b[0;34m\u001b[0m\u001b[0;34m\u001b[0m\u001b[0m\n\u001b[1;32m      8\u001b[0m \u001b[0my_hat\u001b[0m \u001b[0;34m=\u001b[0m \u001b[0mnew_lr\u001b[0m\u001b[0;34m.\u001b[0m\u001b[0mpredict\u001b[0m\u001b[0;34m(\u001b[0m\u001b[0mnewX\u001b[0m\u001b[0;34m)\u001b[0m\u001b[0;34m\u001b[0m\u001b[0;34m\u001b[0m\u001b[0m\n",
      "\u001b[0;32m~/opt/anaconda3/lib/python3.8/site-packages/sklearn/linear_model/_base.py\u001b[0m in \u001b[0;36mfit\u001b[0;34m(self, X, y, sample_weight)\u001b[0m\n\u001b[1;32m    516\u001b[0m         \u001b[0maccept_sparse\u001b[0m \u001b[0;34m=\u001b[0m \u001b[0;32mFalse\u001b[0m \u001b[0;32mif\u001b[0m \u001b[0mself\u001b[0m\u001b[0;34m.\u001b[0m\u001b[0mpositive\u001b[0m \u001b[0;32melse\u001b[0m \u001b[0;34m[\u001b[0m\u001b[0;34m'csr'\u001b[0m\u001b[0;34m,\u001b[0m \u001b[0;34m'csc'\u001b[0m\u001b[0;34m,\u001b[0m \u001b[0;34m'coo'\u001b[0m\u001b[0;34m]\u001b[0m\u001b[0;34m\u001b[0m\u001b[0;34m\u001b[0m\u001b[0m\n\u001b[1;32m    517\u001b[0m \u001b[0;34m\u001b[0m\u001b[0m\n\u001b[0;32m--> 518\u001b[0;31m         X, y = self._validate_data(X, y, accept_sparse=accept_sparse,\n\u001b[0m\u001b[1;32m    519\u001b[0m                                    y_numeric=True, multi_output=True)\n\u001b[1;32m    520\u001b[0m \u001b[0;34m\u001b[0m\u001b[0m\n",
      "\u001b[0;32m~/opt/anaconda3/lib/python3.8/site-packages/sklearn/base.py\u001b[0m in \u001b[0;36m_validate_data\u001b[0;34m(self, X, y, reset, validate_separately, **check_params)\u001b[0m\n\u001b[1;32m    431\u001b[0m                 \u001b[0my\u001b[0m \u001b[0;34m=\u001b[0m \u001b[0mcheck_array\u001b[0m\u001b[0;34m(\u001b[0m\u001b[0my\u001b[0m\u001b[0;34m,\u001b[0m \u001b[0;34m**\u001b[0m\u001b[0mcheck_y_params\u001b[0m\u001b[0;34m)\u001b[0m\u001b[0;34m\u001b[0m\u001b[0;34m\u001b[0m\u001b[0m\n\u001b[1;32m    432\u001b[0m             \u001b[0;32melse\u001b[0m\u001b[0;34m:\u001b[0m\u001b[0;34m\u001b[0m\u001b[0;34m\u001b[0m\u001b[0m\n\u001b[0;32m--> 433\u001b[0;31m                 \u001b[0mX\u001b[0m\u001b[0;34m,\u001b[0m \u001b[0my\u001b[0m \u001b[0;34m=\u001b[0m \u001b[0mcheck_X_y\u001b[0m\u001b[0;34m(\u001b[0m\u001b[0mX\u001b[0m\u001b[0;34m,\u001b[0m \u001b[0my\u001b[0m\u001b[0;34m,\u001b[0m \u001b[0;34m**\u001b[0m\u001b[0mcheck_params\u001b[0m\u001b[0;34m)\u001b[0m\u001b[0;34m\u001b[0m\u001b[0;34m\u001b[0m\u001b[0m\n\u001b[0m\u001b[1;32m    434\u001b[0m             \u001b[0mout\u001b[0m \u001b[0;34m=\u001b[0m \u001b[0mX\u001b[0m\u001b[0;34m,\u001b[0m \u001b[0my\u001b[0m\u001b[0;34m\u001b[0m\u001b[0;34m\u001b[0m\u001b[0m\n\u001b[1;32m    435\u001b[0m \u001b[0;34m\u001b[0m\u001b[0m\n",
      "\u001b[0;32m~/opt/anaconda3/lib/python3.8/site-packages/sklearn/utils/validation.py\u001b[0m in \u001b[0;36minner_f\u001b[0;34m(*args, **kwargs)\u001b[0m\n\u001b[1;32m     61\u001b[0m             \u001b[0mextra_args\u001b[0m \u001b[0;34m=\u001b[0m \u001b[0mlen\u001b[0m\u001b[0;34m(\u001b[0m\u001b[0margs\u001b[0m\u001b[0;34m)\u001b[0m \u001b[0;34m-\u001b[0m \u001b[0mlen\u001b[0m\u001b[0;34m(\u001b[0m\u001b[0mall_args\u001b[0m\u001b[0;34m)\u001b[0m\u001b[0;34m\u001b[0m\u001b[0;34m\u001b[0m\u001b[0m\n\u001b[1;32m     62\u001b[0m             \u001b[0;32mif\u001b[0m \u001b[0mextra_args\u001b[0m \u001b[0;34m<=\u001b[0m \u001b[0;36m0\u001b[0m\u001b[0;34m:\u001b[0m\u001b[0;34m\u001b[0m\u001b[0;34m\u001b[0m\u001b[0m\n\u001b[0;32m---> 63\u001b[0;31m                 \u001b[0;32mreturn\u001b[0m \u001b[0mf\u001b[0m\u001b[0;34m(\u001b[0m\u001b[0;34m*\u001b[0m\u001b[0margs\u001b[0m\u001b[0;34m,\u001b[0m \u001b[0;34m**\u001b[0m\u001b[0mkwargs\u001b[0m\u001b[0;34m)\u001b[0m\u001b[0;34m\u001b[0m\u001b[0;34m\u001b[0m\u001b[0m\n\u001b[0m\u001b[1;32m     64\u001b[0m \u001b[0;34m\u001b[0m\u001b[0m\n\u001b[1;32m     65\u001b[0m             \u001b[0;31m# extra_args > 0\u001b[0m\u001b[0;34m\u001b[0m\u001b[0;34m\u001b[0m\u001b[0;34m\u001b[0m\u001b[0m\n",
      "\u001b[0;32m~/opt/anaconda3/lib/python3.8/site-packages/sklearn/utils/validation.py\u001b[0m in \u001b[0;36mcheck_X_y\u001b[0;34m(X, y, accept_sparse, accept_large_sparse, dtype, order, copy, force_all_finite, ensure_2d, allow_nd, multi_output, ensure_min_samples, ensure_min_features, y_numeric, estimator)\u001b[0m\n\u001b[1;32m    829\u001b[0m         \u001b[0my\u001b[0m \u001b[0;34m=\u001b[0m \u001b[0my\u001b[0m\u001b[0;34m.\u001b[0m\u001b[0mastype\u001b[0m\u001b[0;34m(\u001b[0m\u001b[0mnp\u001b[0m\u001b[0;34m.\u001b[0m\u001b[0mfloat64\u001b[0m\u001b[0;34m)\u001b[0m\u001b[0;34m\u001b[0m\u001b[0;34m\u001b[0m\u001b[0m\n\u001b[1;32m    830\u001b[0m \u001b[0;34m\u001b[0m\u001b[0m\n\u001b[0;32m--> 831\u001b[0;31m     \u001b[0mcheck_consistent_length\u001b[0m\u001b[0;34m(\u001b[0m\u001b[0mX\u001b[0m\u001b[0;34m,\u001b[0m \u001b[0my\u001b[0m\u001b[0;34m)\u001b[0m\u001b[0;34m\u001b[0m\u001b[0;34m\u001b[0m\u001b[0m\n\u001b[0m\u001b[1;32m    832\u001b[0m \u001b[0;34m\u001b[0m\u001b[0m\n\u001b[1;32m    833\u001b[0m     \u001b[0;32mreturn\u001b[0m \u001b[0mX\u001b[0m\u001b[0;34m,\u001b[0m \u001b[0my\u001b[0m\u001b[0;34m\u001b[0m\u001b[0;34m\u001b[0m\u001b[0m\n",
      "\u001b[0;32m~/opt/anaconda3/lib/python3.8/site-packages/sklearn/utils/validation.py\u001b[0m in \u001b[0;36mcheck_consistent_length\u001b[0;34m(*arrays)\u001b[0m\n\u001b[1;32m    260\u001b[0m     \u001b[0muniques\u001b[0m \u001b[0;34m=\u001b[0m \u001b[0mnp\u001b[0m\u001b[0;34m.\u001b[0m\u001b[0munique\u001b[0m\u001b[0;34m(\u001b[0m\u001b[0mlengths\u001b[0m\u001b[0;34m)\u001b[0m\u001b[0;34m\u001b[0m\u001b[0;34m\u001b[0m\u001b[0m\n\u001b[1;32m    261\u001b[0m     \u001b[0;32mif\u001b[0m \u001b[0mlen\u001b[0m\u001b[0;34m(\u001b[0m\u001b[0muniques\u001b[0m\u001b[0;34m)\u001b[0m \u001b[0;34m>\u001b[0m \u001b[0;36m1\u001b[0m\u001b[0;34m:\u001b[0m\u001b[0;34m\u001b[0m\u001b[0;34m\u001b[0m\u001b[0m\n\u001b[0;32m--> 262\u001b[0;31m         raise ValueError(\"Found input variables with inconsistent numbers of\"\n\u001b[0m\u001b[1;32m    263\u001b[0m                          \" samples: %r\" % [int(l) for l in lengths])\n\u001b[1;32m    264\u001b[0m \u001b[0;34m\u001b[0m\u001b[0m\n",
      "\u001b[0;31mValueError\u001b[0m: Found input variables with inconsistent numbers of samples: [3, 101]"
     ]
    }
   ],
   "source": [
    "newX = []\n",
    "for i in X:\n",
    "    newX.append([1, i[0], i[0]**2])\n",
    "newX = np.array(newX)\n",
    "# newX\n",
    "new_lr = LinearRegression().fit(newX.T,y)\n",
    "print(f\"Intercepts:\\n {new_lr.intercept_.round(3)} \\n\\nCoefficients:\\n {new_lr.coef_.round(3)}\")\n",
    "y_hat = new_lr.predict(newX)\n",
    "y_hat\n",
    "plt.scatter(newX, y_hat, label='Data')\n",
    "SR = Squared_residual(newX,y,res)\n",
    "print(SR)"
   ]
  },
  {
   "cell_type": "markdown",
   "metadata": {
    "id": "tyvGOxYDGVmb"
   },
   "source": [
    "### Question 10: /5 Mark(s)\n",
    "\n",
    "Between this three models which one would you select? What is the major problem with predictions from the other two models? Remember that in this case $y$ is measured in time units."
   ]
  },
  {
   "cell_type": "markdown",
   "metadata": {
    "id": "zyjwKgcsGVmc"
   },
   "source": [
    "### Follow These Instructions\n",
    "\n",
    "Once you are finished, ensure to complete the following steps.\n",
    "\n",
    "1.  Restart your kernel by clicking 'Kernel' > 'Restart & Run All'.\n",
    "\n",
    "2.  Fix any errors which result from this.\n",
    "\n",
    "3.  Repeat steps 1. and 2. until your notebook runs without errors.\n",
    "\n",
    "4.  Submit your completed notebook to OWL by the deadline."
   ]
  }
 ],
 "metadata": {
  "colab": {
   "name": "Assignment_2_Solutions.ipynb",
   "provenance": []
  },
  "kernelspec": {
   "display_name": "Python 3",
   "language": "python",
   "name": "python3"
  },
  "language_info": {
   "codemirror_mode": {
    "name": "ipython",
    "version": 3
   },
   "file_extension": ".py",
   "mimetype": "text/x-python",
   "name": "python",
   "nbconvert_exporter": "python",
   "pygments_lexer": "ipython3",
   "version": "3.8.8"
  },
  "vscode": {
   "interpreter": {
    "hash": "7a629f88739bb99df36ee3169b5f674a3a3506dd75f237fb1b2703d7911537b3"
   }
  }
 },
 "nbformat": 4,
 "nbformat_minor": 1
}

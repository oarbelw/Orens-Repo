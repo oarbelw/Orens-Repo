{
 "cells": [
  {
   "cell_type": "markdown",
   "metadata": {
    "id": "9aKr4SC0U-kn"
   },
   "source": [
    "# Assignment 3: Classification with Logistic Regression\n",
    "\n",
    "# Total: /100\n",
    "\n",
    "## Instructions\n",
    "\n",
    "* Complete the assignment\n",
    "\n",
    "* Once the notebook is complete, restart your kernel and rerun your cells\n",
    "\n",
    "* Submit this notebook to owl by the deadline\n",
    "\n",
    "* You may use any python library functions you wish to complete the assignment.\n",
    "\n",
    "## The Dataset\n",
    "\n",
    "The goal of our classifier is to predict, using a logistic regression, if a patient may take a certain drug.\n",
    "\n",
    "The dataset contains both numerical and categorical input variables, while the response variable ('Drug') has multiple levels. To simplify our analysis here, we focus on predicting if a patient may take \"Drug-Y\"."
   ]
  },
  {
   "cell_type": "code",
   "execution_count": 308,
   "metadata": {
    "id": "oYk5_SCPU-kw"
   },
   "outputs": [],
   "source": [
    "# You may need these\n",
    "import pandas as pd\n",
    "import numpy as np\n",
    "from sklearn.model_selection import train_test_split\n",
    "from sklearn.linear_model import LogisticRegression, SGDClassifier\n",
    "from sklearn.metrics import confusion_matrix, roc_curve, precision_recall_curve, auc, classification_report\n",
    "from sklearn.preprocessing import StandardScaler\n",
    "from sklearn.pipeline import make_pipeline\n",
    "import matplotlib.pyplot as plt\n",
    "import seaborn as sns\n",
    "seed=0\n",
    "%matplotlib inline"
   ]
  },
  {
   "cell_type": "markdown",
   "metadata": {
    "id": "axyFmaF8U-kz"
   },
   "source": [
    "## Question 1: /18 pts"
   ]
  },
  {
   "cell_type": "markdown",
   "metadata": {
    "id": "Gm0M4J0WU-k3"
   },
   "source": [
    "1. Read in the `drug.csv` dataset and display the first 5 rows.\n",
    "2. Print out all columns in the dataset and list categorical variables. Use the build-in function `get_dummies()` to convert all categorical variables (**exclude Drug variable**) to dummy variables. You may read the official explanations for more information on `get_dummies()` [here](https://pandas.pydata.org/docs/reference/api/pandas.get_dummies.html). What's the size of the dataframe after transforming it?\n",
    "3. Map the target values from yes/no to 1/0. What is the baseline accuracy for this classification problem? Round into 1 decimal place (for example, 50.1% or 0.501)."
   ]
  },
  {
   "cell_type": "markdown",
   "metadata": {
    "id": "2cNADOoXU-k6"
   },
   "source": [
    "1.1 Read the dataset and display the first 8 rows, and print out all columns in the dataset and **list** all categorical variables in the answer part."
   ]
  },
  {
   "cell_type": "code",
   "execution_count": 252,
   "metadata": {
    "id": "wAV0h1zoU-k8"
   },
   "outputs": [
    {
     "name": "stdout",
     "output_type": "stream",
     "text": [
      "All Columns: ['Age', 'Sex', 'BP', 'Cholesterol', 'Na_to_K', 'Drug']\n"
     ]
    },
    {
     "data": {
      "text/html": [
       "<div>\n",
       "<style scoped>\n",
       "    .dataframe tbody tr th:only-of-type {\n",
       "        vertical-align: middle;\n",
       "    }\n",
       "\n",
       "    .dataframe tbody tr th {\n",
       "        vertical-align: top;\n",
       "    }\n",
       "\n",
       "    .dataframe thead th {\n",
       "        text-align: right;\n",
       "    }\n",
       "</style>\n",
       "<table border=\"1\" class=\"dataframe\">\n",
       "  <thead>\n",
       "    <tr style=\"text-align: right;\">\n",
       "      <th></th>\n",
       "      <th>Age</th>\n",
       "      <th>Sex</th>\n",
       "      <th>BP</th>\n",
       "      <th>Cholesterol</th>\n",
       "      <th>Na_to_K</th>\n",
       "      <th>Drug</th>\n",
       "    </tr>\n",
       "  </thead>\n",
       "  <tbody>\n",
       "    <tr>\n",
       "      <th>0</th>\n",
       "      <td>23</td>\n",
       "      <td>F</td>\n",
       "      <td>HIGH</td>\n",
       "      <td>HIGH</td>\n",
       "      <td>25.355</td>\n",
       "      <td>DrugY</td>\n",
       "    </tr>\n",
       "    <tr>\n",
       "      <th>1</th>\n",
       "      <td>47</td>\n",
       "      <td>M</td>\n",
       "      <td>LOW</td>\n",
       "      <td>HIGH</td>\n",
       "      <td>13.093</td>\n",
       "      <td>DrugY</td>\n",
       "    </tr>\n",
       "    <tr>\n",
       "      <th>2</th>\n",
       "      <td>47</td>\n",
       "      <td>M</td>\n",
       "      <td>LOW</td>\n",
       "      <td>HIGH</td>\n",
       "      <td>10.114</td>\n",
       "      <td>DrugY</td>\n",
       "    </tr>\n",
       "    <tr>\n",
       "      <th>3</th>\n",
       "      <td>28</td>\n",
       "      <td>F</td>\n",
       "      <td>NORMAL</td>\n",
       "      <td>HIGH</td>\n",
       "      <td>7.798</td>\n",
       "      <td>drugX</td>\n",
       "    </tr>\n",
       "    <tr>\n",
       "      <th>4</th>\n",
       "      <td>61</td>\n",
       "      <td>F</td>\n",
       "      <td>LOW</td>\n",
       "      <td>HIGH</td>\n",
       "      <td>18.043</td>\n",
       "      <td>DrugY</td>\n",
       "    </tr>\n",
       "    <tr>\n",
       "      <th>5</th>\n",
       "      <td>22</td>\n",
       "      <td>F</td>\n",
       "      <td>NORMAL</td>\n",
       "      <td>HIGH</td>\n",
       "      <td>8.607</td>\n",
       "      <td>drugX</td>\n",
       "    </tr>\n",
       "    <tr>\n",
       "      <th>6</th>\n",
       "      <td>49</td>\n",
       "      <td>F</td>\n",
       "      <td>NORMAL</td>\n",
       "      <td>HIGH</td>\n",
       "      <td>16.275</td>\n",
       "      <td>DrugY</td>\n",
       "    </tr>\n",
       "    <tr>\n",
       "      <th>7</th>\n",
       "      <td>41</td>\n",
       "      <td>NaN</td>\n",
       "      <td>LOW</td>\n",
       "      <td>HIGH</td>\n",
       "      <td>11.037</td>\n",
       "      <td>drugC</td>\n",
       "    </tr>\n",
       "  </tbody>\n",
       "</table>\n",
       "</div>"
      ],
      "text/plain": [
       "   Age  Sex      BP Cholesterol  Na_to_K   Drug\n",
       "0   23    F    HIGH        HIGH   25.355  DrugY\n",
       "1   47    M     LOW        HIGH   13.093  DrugY\n",
       "2   47    M     LOW        HIGH   10.114  DrugY\n",
       "3   28    F  NORMAL        HIGH    7.798  drugX\n",
       "4   61    F     LOW        HIGH   18.043  DrugY\n",
       "5   22    F  NORMAL        HIGH    8.607  drugX\n",
       "6   49    F  NORMAL        HIGH   16.275  DrugY\n",
       "7   41  NaN     LOW        HIGH   11.037  drugC"
      ]
     },
     "execution_count": 252,
     "metadata": {},
     "output_type": "execute_result"
    }
   ],
   "source": [
    "# Question 1.1 code here\n",
    "df = pd.read_csv(\"drug.csv\")\n",
    "\n",
    "cols = df.columns.tolist()\n",
    "print(\"All Columns:\", cols)\n",
    "\n",
    "df.head(8)\n",
    "#5 pts"
   ]
  },
  {
   "cell_type": "markdown",
   "metadata": {
    "id": "yL9tqfndpRbI"
   },
   "source": [
    "**YOUR ANSWER HERE:** [1pt] \n",
    "Age, Sex, BP, Cholesterol, Na_to_K, Drug"
   ]
  },
  {
   "cell_type": "markdown",
   "metadata": {
    "id": "S2W98Z97mfxI"
   },
   "source": [
    "1.2 Check that is any there missing value in each column of the dataset.  "
   ]
  },
  {
   "cell_type": "code",
   "execution_count": 253,
   "metadata": {
    "id": "GLp-EpaFnIYm"
   },
   "outputs": [
    {
     "data": {
      "text/plain": [
       "Age            0\n",
       "Sex            3\n",
       "BP             0\n",
       "Cholesterol    0\n",
       "Na_to_K        0\n",
       "Drug           0\n",
       "dtype: int64"
      ]
     },
     "execution_count": 253,
     "metadata": {},
     "output_type": "execute_result"
    }
   ],
   "source": [
    "# Question 1.2 code here\n",
    "df.isna().sum()\n",
    "#2 pts"
   ]
  },
  {
   "cell_type": "markdown",
   "metadata": {
    "id": "YTIk_tnonYFR"
   },
   "source": [
    "1.3 Replace all the missing values in **Sex** to be 'M'."
   ]
  },
  {
   "cell_type": "code",
   "execution_count": 254,
   "metadata": {
    "id": "J6s1do3KoOmU"
   },
   "outputs": [
    {
     "data": {
      "text/html": [
       "<div>\n",
       "<style scoped>\n",
       "    .dataframe tbody tr th:only-of-type {\n",
       "        vertical-align: middle;\n",
       "    }\n",
       "\n",
       "    .dataframe tbody tr th {\n",
       "        vertical-align: top;\n",
       "    }\n",
       "\n",
       "    .dataframe thead th {\n",
       "        text-align: right;\n",
       "    }\n",
       "</style>\n",
       "<table border=\"1\" class=\"dataframe\">\n",
       "  <thead>\n",
       "    <tr style=\"text-align: right;\">\n",
       "      <th></th>\n",
       "      <th>Age</th>\n",
       "      <th>Sex</th>\n",
       "      <th>BP</th>\n",
       "      <th>Cholesterol</th>\n",
       "      <th>Na_to_K</th>\n",
       "      <th>Drug</th>\n",
       "    </tr>\n",
       "  </thead>\n",
       "  <tbody>\n",
       "    <tr>\n",
       "      <th>0</th>\n",
       "      <td>23</td>\n",
       "      <td>F</td>\n",
       "      <td>HIGH</td>\n",
       "      <td>HIGH</td>\n",
       "      <td>25.355</td>\n",
       "      <td>DrugY</td>\n",
       "    </tr>\n",
       "    <tr>\n",
       "      <th>1</th>\n",
       "      <td>47</td>\n",
       "      <td>M</td>\n",
       "      <td>LOW</td>\n",
       "      <td>HIGH</td>\n",
       "      <td>13.093</td>\n",
       "      <td>DrugY</td>\n",
       "    </tr>\n",
       "    <tr>\n",
       "      <th>2</th>\n",
       "      <td>47</td>\n",
       "      <td>M</td>\n",
       "      <td>LOW</td>\n",
       "      <td>HIGH</td>\n",
       "      <td>10.114</td>\n",
       "      <td>DrugY</td>\n",
       "    </tr>\n",
       "    <tr>\n",
       "      <th>3</th>\n",
       "      <td>28</td>\n",
       "      <td>F</td>\n",
       "      <td>NORMAL</td>\n",
       "      <td>HIGH</td>\n",
       "      <td>7.798</td>\n",
       "      <td>drugX</td>\n",
       "    </tr>\n",
       "    <tr>\n",
       "      <th>4</th>\n",
       "      <td>61</td>\n",
       "      <td>F</td>\n",
       "      <td>LOW</td>\n",
       "      <td>HIGH</td>\n",
       "      <td>18.043</td>\n",
       "      <td>DrugY</td>\n",
       "    </tr>\n",
       "    <tr>\n",
       "      <th>...</th>\n",
       "      <td>...</td>\n",
       "      <td>...</td>\n",
       "      <td>...</td>\n",
       "      <td>...</td>\n",
       "      <td>...</td>\n",
       "      <td>...</td>\n",
       "    </tr>\n",
       "    <tr>\n",
       "      <th>195</th>\n",
       "      <td>56</td>\n",
       "      <td>F</td>\n",
       "      <td>LOW</td>\n",
       "      <td>HIGH</td>\n",
       "      <td>11.567</td>\n",
       "      <td>DrugY</td>\n",
       "    </tr>\n",
       "    <tr>\n",
       "      <th>196</th>\n",
       "      <td>16</td>\n",
       "      <td>M</td>\n",
       "      <td>LOW</td>\n",
       "      <td>HIGH</td>\n",
       "      <td>12.006</td>\n",
       "      <td>DrugY</td>\n",
       "    </tr>\n",
       "    <tr>\n",
       "      <th>197</th>\n",
       "      <td>52</td>\n",
       "      <td>M</td>\n",
       "      <td>NORMAL</td>\n",
       "      <td>HIGH</td>\n",
       "      <td>9.894</td>\n",
       "      <td>drugX</td>\n",
       "    </tr>\n",
       "    <tr>\n",
       "      <th>198</th>\n",
       "      <td>23</td>\n",
       "      <td>M</td>\n",
       "      <td>NORMAL</td>\n",
       "      <td>NORMAL</td>\n",
       "      <td>14.020</td>\n",
       "      <td>drugX</td>\n",
       "    </tr>\n",
       "    <tr>\n",
       "      <th>199</th>\n",
       "      <td>40</td>\n",
       "      <td>F</td>\n",
       "      <td>LOW</td>\n",
       "      <td>NORMAL</td>\n",
       "      <td>11.349</td>\n",
       "      <td>drugX</td>\n",
       "    </tr>\n",
       "  </tbody>\n",
       "</table>\n",
       "<p>200 rows × 6 columns</p>\n",
       "</div>"
      ],
      "text/plain": [
       "     Age Sex      BP Cholesterol  Na_to_K   Drug\n",
       "0     23   F    HIGH        HIGH   25.355  DrugY\n",
       "1     47   M     LOW        HIGH   13.093  DrugY\n",
       "2     47   M     LOW        HIGH   10.114  DrugY\n",
       "3     28   F  NORMAL        HIGH    7.798  drugX\n",
       "4     61   F     LOW        HIGH   18.043  DrugY\n",
       "..   ...  ..     ...         ...      ...    ...\n",
       "195   56   F     LOW        HIGH   11.567  DrugY\n",
       "196   16   M     LOW        HIGH   12.006  DrugY\n",
       "197   52   M  NORMAL        HIGH    9.894  drugX\n",
       "198   23   M  NORMAL      NORMAL   14.020  drugX\n",
       "199   40   F     LOW      NORMAL   11.349  drugX\n",
       "\n",
       "[200 rows x 6 columns]"
      ]
     },
     "execution_count": 254,
     "metadata": {},
     "output_type": "execute_result"
    }
   ],
   "source": [
    "# Question 1.3 code here\n",
    "d = df.fillna(\"M\")\n",
    "d.isna().sum()\n",
    "d\n",
    "\n",
    "#2 pts"
   ]
  },
  {
   "cell_type": "markdown",
   "metadata": {
    "id": "3UXEH2aKU-k-"
   },
   "source": [
    "1.4 Use the build-in function `get_dummies()` to convert all categorical variables (**excluding `Drug` variable**) to dummy variables. What's the size of the dataframe after transforming?"
   ]
  },
  {
   "cell_type": "code",
   "execution_count": 255,
   "metadata": {
    "id": "J-dsj9mrU-lA",
    "scrolled": true
   },
   "outputs": [
    {
     "data": {
      "text/html": [
       "<div>\n",
       "<style scoped>\n",
       "    .dataframe tbody tr th:only-of-type {\n",
       "        vertical-align: middle;\n",
       "    }\n",
       "\n",
       "    .dataframe tbody tr th {\n",
       "        vertical-align: top;\n",
       "    }\n",
       "\n",
       "    .dataframe thead th {\n",
       "        text-align: right;\n",
       "    }\n",
       "</style>\n",
       "<table border=\"1\" class=\"dataframe\">\n",
       "  <thead>\n",
       "    <tr style=\"text-align: right;\">\n",
       "      <th></th>\n",
       "      <th>Age</th>\n",
       "      <th>Drug</th>\n",
       "      <th>Na_to_K</th>\n",
       "      <th>Sex_F</th>\n",
       "      <th>Sex_M</th>\n",
       "      <th>BP_HIGH</th>\n",
       "      <th>BP_LOW</th>\n",
       "      <th>BP_NORMAL</th>\n",
       "      <th>Cholesterol_HIGH</th>\n",
       "      <th>Cholesterol_NORMAL</th>\n",
       "    </tr>\n",
       "  </thead>\n",
       "  <tbody>\n",
       "    <tr>\n",
       "      <th>0</th>\n",
       "      <td>23</td>\n",
       "      <td>DrugY</td>\n",
       "      <td>25.355</td>\n",
       "      <td>1</td>\n",
       "      <td>0</td>\n",
       "      <td>1</td>\n",
       "      <td>0</td>\n",
       "      <td>0</td>\n",
       "      <td>1</td>\n",
       "      <td>0</td>\n",
       "    </tr>\n",
       "    <tr>\n",
       "      <th>1</th>\n",
       "      <td>47</td>\n",
       "      <td>DrugY</td>\n",
       "      <td>13.093</td>\n",
       "      <td>0</td>\n",
       "      <td>1</td>\n",
       "      <td>0</td>\n",
       "      <td>1</td>\n",
       "      <td>0</td>\n",
       "      <td>1</td>\n",
       "      <td>0</td>\n",
       "    </tr>\n",
       "    <tr>\n",
       "      <th>2</th>\n",
       "      <td>47</td>\n",
       "      <td>DrugY</td>\n",
       "      <td>10.114</td>\n",
       "      <td>0</td>\n",
       "      <td>1</td>\n",
       "      <td>0</td>\n",
       "      <td>1</td>\n",
       "      <td>0</td>\n",
       "      <td>1</td>\n",
       "      <td>0</td>\n",
       "    </tr>\n",
       "    <tr>\n",
       "      <th>3</th>\n",
       "      <td>28</td>\n",
       "      <td>drugX</td>\n",
       "      <td>7.798</td>\n",
       "      <td>1</td>\n",
       "      <td>0</td>\n",
       "      <td>0</td>\n",
       "      <td>0</td>\n",
       "      <td>1</td>\n",
       "      <td>1</td>\n",
       "      <td>0</td>\n",
       "    </tr>\n",
       "    <tr>\n",
       "      <th>4</th>\n",
       "      <td>61</td>\n",
       "      <td>DrugY</td>\n",
       "      <td>18.043</td>\n",
       "      <td>1</td>\n",
       "      <td>0</td>\n",
       "      <td>0</td>\n",
       "      <td>1</td>\n",
       "      <td>0</td>\n",
       "      <td>1</td>\n",
       "      <td>0</td>\n",
       "    </tr>\n",
       "    <tr>\n",
       "      <th>...</th>\n",
       "      <td>...</td>\n",
       "      <td>...</td>\n",
       "      <td>...</td>\n",
       "      <td>...</td>\n",
       "      <td>...</td>\n",
       "      <td>...</td>\n",
       "      <td>...</td>\n",
       "      <td>...</td>\n",
       "      <td>...</td>\n",
       "      <td>...</td>\n",
       "    </tr>\n",
       "    <tr>\n",
       "      <th>195</th>\n",
       "      <td>56</td>\n",
       "      <td>DrugY</td>\n",
       "      <td>11.567</td>\n",
       "      <td>1</td>\n",
       "      <td>0</td>\n",
       "      <td>0</td>\n",
       "      <td>1</td>\n",
       "      <td>0</td>\n",
       "      <td>1</td>\n",
       "      <td>0</td>\n",
       "    </tr>\n",
       "    <tr>\n",
       "      <th>196</th>\n",
       "      <td>16</td>\n",
       "      <td>DrugY</td>\n",
       "      <td>12.006</td>\n",
       "      <td>0</td>\n",
       "      <td>1</td>\n",
       "      <td>0</td>\n",
       "      <td>1</td>\n",
       "      <td>0</td>\n",
       "      <td>1</td>\n",
       "      <td>0</td>\n",
       "    </tr>\n",
       "    <tr>\n",
       "      <th>197</th>\n",
       "      <td>52</td>\n",
       "      <td>drugX</td>\n",
       "      <td>9.894</td>\n",
       "      <td>0</td>\n",
       "      <td>1</td>\n",
       "      <td>0</td>\n",
       "      <td>0</td>\n",
       "      <td>1</td>\n",
       "      <td>1</td>\n",
       "      <td>0</td>\n",
       "    </tr>\n",
       "    <tr>\n",
       "      <th>198</th>\n",
       "      <td>23</td>\n",
       "      <td>drugX</td>\n",
       "      <td>14.020</td>\n",
       "      <td>0</td>\n",
       "      <td>1</td>\n",
       "      <td>0</td>\n",
       "      <td>0</td>\n",
       "      <td>1</td>\n",
       "      <td>0</td>\n",
       "      <td>1</td>\n",
       "    </tr>\n",
       "    <tr>\n",
       "      <th>199</th>\n",
       "      <td>40</td>\n",
       "      <td>drugX</td>\n",
       "      <td>11.349</td>\n",
       "      <td>1</td>\n",
       "      <td>0</td>\n",
       "      <td>0</td>\n",
       "      <td>1</td>\n",
       "      <td>0</td>\n",
       "      <td>0</td>\n",
       "      <td>1</td>\n",
       "    </tr>\n",
       "  </tbody>\n",
       "</table>\n",
       "<p>200 rows × 10 columns</p>\n",
       "</div>"
      ],
      "text/plain": [
       "     Age   Drug  Na_to_K  Sex_F  Sex_M  BP_HIGH  BP_LOW  BP_NORMAL  \\\n",
       "0     23  DrugY   25.355      1      0        1       0          0   \n",
       "1     47  DrugY   13.093      0      1        0       1          0   \n",
       "2     47  DrugY   10.114      0      1        0       1          0   \n",
       "3     28  drugX    7.798      1      0        0       0          1   \n",
       "4     61  DrugY   18.043      1      0        0       1          0   \n",
       "..   ...    ...      ...    ...    ...      ...     ...        ...   \n",
       "195   56  DrugY   11.567      1      0        0       1          0   \n",
       "196   16  DrugY   12.006      0      1        0       1          0   \n",
       "197   52  drugX    9.894      0      1        0       0          1   \n",
       "198   23  drugX   14.020      0      1        0       0          1   \n",
       "199   40  drugX   11.349      1      0        0       1          0   \n",
       "\n",
       "     Cholesterol_HIGH  Cholesterol_NORMAL  \n",
       "0                   1                   0  \n",
       "1                   1                   0  \n",
       "2                   1                   0  \n",
       "3                   1                   0  \n",
       "4                   1                   0  \n",
       "..                ...                 ...  \n",
       "195                 1                   0  \n",
       "196                 1                   0  \n",
       "197                 1                   0  \n",
       "198                 0                   1  \n",
       "199                 0                   1  \n",
       "\n",
       "[200 rows x 10 columns]"
      ]
     },
     "execution_count": 255,
     "metadata": {},
     "output_type": "execute_result"
    }
   ],
   "source": [
    "# Question 1.4 code here\n",
    "# dat = d.drop(columns=[\"Drug\"])\n",
    "# dat.head()\n",
    "tempdata = d.drop('Drug', axis='columns') #independent is everything else\n",
    "data = pd.get_dummies(tempdata) #includes all columns besides drug\n",
    "data.insert(1, \"Drug\", d.Drug.values) #reinsert Drug\n",
    "data\n",
    "\n",
    "#2 pts"
   ]
  },
  {
   "cell_type": "markdown",
   "metadata": {
    "id": "krlMrqnIU-lK"
   },
   "source": [
    "**YOUR ANSWER HERE:** [1pt] \n",
    "\n",
    "The size of the datagrame is still 200 rows, but now there are more columns increasing it to 200 rows by 10 columns."
   ]
  },
  {
   "cell_type": "markdown",
   "metadata": {
    "id": "DbsurWVJq7IY"
   },
   "source": [
    "1.5 Transform all the labels that are 'DrugY' in **`Drug`** to be value 1, otherwise, to be 0. Then transform the type of **`Drug`** to be 'int'.\n"
   ]
  },
  {
   "cell_type": "code",
   "execution_count": 256,
   "metadata": {
    "id": "XeNDEYoxrkZr"
   },
   "outputs": [
    {
     "name": "stdout",
     "output_type": "stream",
     "text": [
      "int64\n"
     ]
    },
    {
     "data": {
      "text/html": [
       "<div>\n",
       "<style scoped>\n",
       "    .dataframe tbody tr th:only-of-type {\n",
       "        vertical-align: middle;\n",
       "    }\n",
       "\n",
       "    .dataframe tbody tr th {\n",
       "        vertical-align: top;\n",
       "    }\n",
       "\n",
       "    .dataframe thead th {\n",
       "        text-align: right;\n",
       "    }\n",
       "</style>\n",
       "<table border=\"1\" class=\"dataframe\">\n",
       "  <thead>\n",
       "    <tr style=\"text-align: right;\">\n",
       "      <th></th>\n",
       "      <th>Age</th>\n",
       "      <th>Drug</th>\n",
       "      <th>Na_to_K</th>\n",
       "      <th>Sex_F</th>\n",
       "      <th>Sex_M</th>\n",
       "      <th>BP_HIGH</th>\n",
       "      <th>BP_LOW</th>\n",
       "      <th>BP_NORMAL</th>\n",
       "      <th>Cholesterol_HIGH</th>\n",
       "      <th>Cholesterol_NORMAL</th>\n",
       "    </tr>\n",
       "  </thead>\n",
       "  <tbody>\n",
       "    <tr>\n",
       "      <th>0</th>\n",
       "      <td>23</td>\n",
       "      <td>1</td>\n",
       "      <td>25.355</td>\n",
       "      <td>1</td>\n",
       "      <td>0</td>\n",
       "      <td>1</td>\n",
       "      <td>0</td>\n",
       "      <td>0</td>\n",
       "      <td>1</td>\n",
       "      <td>0</td>\n",
       "    </tr>\n",
       "    <tr>\n",
       "      <th>1</th>\n",
       "      <td>47</td>\n",
       "      <td>1</td>\n",
       "      <td>13.093</td>\n",
       "      <td>0</td>\n",
       "      <td>1</td>\n",
       "      <td>0</td>\n",
       "      <td>1</td>\n",
       "      <td>0</td>\n",
       "      <td>1</td>\n",
       "      <td>0</td>\n",
       "    </tr>\n",
       "    <tr>\n",
       "      <th>2</th>\n",
       "      <td>47</td>\n",
       "      <td>1</td>\n",
       "      <td>10.114</td>\n",
       "      <td>0</td>\n",
       "      <td>1</td>\n",
       "      <td>0</td>\n",
       "      <td>1</td>\n",
       "      <td>0</td>\n",
       "      <td>1</td>\n",
       "      <td>0</td>\n",
       "    </tr>\n",
       "    <tr>\n",
       "      <th>3</th>\n",
       "      <td>28</td>\n",
       "      <td>0</td>\n",
       "      <td>7.798</td>\n",
       "      <td>1</td>\n",
       "      <td>0</td>\n",
       "      <td>0</td>\n",
       "      <td>0</td>\n",
       "      <td>1</td>\n",
       "      <td>1</td>\n",
       "      <td>0</td>\n",
       "    </tr>\n",
       "    <tr>\n",
       "      <th>4</th>\n",
       "      <td>61</td>\n",
       "      <td>1</td>\n",
       "      <td>18.043</td>\n",
       "      <td>1</td>\n",
       "      <td>0</td>\n",
       "      <td>0</td>\n",
       "      <td>1</td>\n",
       "      <td>0</td>\n",
       "      <td>1</td>\n",
       "      <td>0</td>\n",
       "    </tr>\n",
       "    <tr>\n",
       "      <th>...</th>\n",
       "      <td>...</td>\n",
       "      <td>...</td>\n",
       "      <td>...</td>\n",
       "      <td>...</td>\n",
       "      <td>...</td>\n",
       "      <td>...</td>\n",
       "      <td>...</td>\n",
       "      <td>...</td>\n",
       "      <td>...</td>\n",
       "      <td>...</td>\n",
       "    </tr>\n",
       "    <tr>\n",
       "      <th>195</th>\n",
       "      <td>56</td>\n",
       "      <td>1</td>\n",
       "      <td>11.567</td>\n",
       "      <td>1</td>\n",
       "      <td>0</td>\n",
       "      <td>0</td>\n",
       "      <td>1</td>\n",
       "      <td>0</td>\n",
       "      <td>1</td>\n",
       "      <td>0</td>\n",
       "    </tr>\n",
       "    <tr>\n",
       "      <th>196</th>\n",
       "      <td>16</td>\n",
       "      <td>1</td>\n",
       "      <td>12.006</td>\n",
       "      <td>0</td>\n",
       "      <td>1</td>\n",
       "      <td>0</td>\n",
       "      <td>1</td>\n",
       "      <td>0</td>\n",
       "      <td>1</td>\n",
       "      <td>0</td>\n",
       "    </tr>\n",
       "    <tr>\n",
       "      <th>197</th>\n",
       "      <td>52</td>\n",
       "      <td>0</td>\n",
       "      <td>9.894</td>\n",
       "      <td>0</td>\n",
       "      <td>1</td>\n",
       "      <td>0</td>\n",
       "      <td>0</td>\n",
       "      <td>1</td>\n",
       "      <td>1</td>\n",
       "      <td>0</td>\n",
       "    </tr>\n",
       "    <tr>\n",
       "      <th>198</th>\n",
       "      <td>23</td>\n",
       "      <td>0</td>\n",
       "      <td>14.020</td>\n",
       "      <td>0</td>\n",
       "      <td>1</td>\n",
       "      <td>0</td>\n",
       "      <td>0</td>\n",
       "      <td>1</td>\n",
       "      <td>0</td>\n",
       "      <td>1</td>\n",
       "    </tr>\n",
       "    <tr>\n",
       "      <th>199</th>\n",
       "      <td>40</td>\n",
       "      <td>0</td>\n",
       "      <td>11.349</td>\n",
       "      <td>1</td>\n",
       "      <td>0</td>\n",
       "      <td>0</td>\n",
       "      <td>1</td>\n",
       "      <td>0</td>\n",
       "      <td>0</td>\n",
       "      <td>1</td>\n",
       "    </tr>\n",
       "  </tbody>\n",
       "</table>\n",
       "<p>200 rows × 10 columns</p>\n",
       "</div>"
      ],
      "text/plain": [
       "     Age  Drug  Na_to_K  Sex_F  Sex_M  BP_HIGH  BP_LOW  BP_NORMAL  \\\n",
       "0     23     1   25.355      1      0        1       0          0   \n",
       "1     47     1   13.093      0      1        0       1          0   \n",
       "2     47     1   10.114      0      1        0       1          0   \n",
       "3     28     0    7.798      1      0        0       0          1   \n",
       "4     61     1   18.043      1      0        0       1          0   \n",
       "..   ...   ...      ...    ...    ...      ...     ...        ...   \n",
       "195   56     1   11.567      1      0        0       1          0   \n",
       "196   16     1   12.006      0      1        0       1          0   \n",
       "197   52     0    9.894      0      1        0       0          1   \n",
       "198   23     0   14.020      0      1        0       0          1   \n",
       "199   40     0   11.349      1      0        0       1          0   \n",
       "\n",
       "     Cholesterol_HIGH  Cholesterol_NORMAL  \n",
       "0                   1                   0  \n",
       "1                   1                   0  \n",
       "2                   1                   0  \n",
       "3                   1                   0  \n",
       "4                   1                   0  \n",
       "..                ...                 ...  \n",
       "195                 1                   0  \n",
       "196                 1                   0  \n",
       "197                 1                   0  \n",
       "198                 0                   1  \n",
       "199                 0                   1  \n",
       "\n",
       "[200 rows x 10 columns]"
      ]
     },
     "execution_count": 256,
     "metadata": {},
     "output_type": "execute_result"
    }
   ],
   "source": [
    "# Question 1.5 code here\n",
    "data['Drug'] = data['Drug'].replace(['DrugY','drugX','drugC','drugA','drugB'],[1,0,0,0,0])#this changes all of DrugY to value 1, drugX to 0\n",
    "data = data.astype({'Drug':'int'}) #convert drug to int\n",
    "print(data.Drug.dtype)\n",
    "data\n",
    "#2 pts"
   ]
  },
  {
   "cell_type": "markdown",
   "metadata": {
    "id": "0LORXe5nU-lL"
   },
   "source": [
    "1.6. What is the baseline accuracy for this classification problem? Round into 1 decimal place (for example, 0.2)."
   ]
  },
  {
   "cell_type": "code",
   "execution_count": 257,
   "metadata": {
    "id": "1tDl3SaGU-lL"
   },
   "outputs": [
    {
     "name": "stdout",
     "output_type": "stream",
     "text": [
      "1    102\n",
      "0     98\n",
      "Name: Drug, dtype: int64\n",
      "Baseline Accuracy: 51.0%\n"
     ]
    }
   ],
   "source": [
    "# Your code here\n",
    "print(data.Drug.value_counts())\n",
    "Y = data.Drug[data['Drug']==1].count() # majority class\n",
    "N = data.Drug[data['Drug']==0].count()\n",
    "\n",
    "baselineacc = Y/(Y+N)\n",
    "\n",
    "print('Baseline Accuracy: '+str((baselineacc*100).round(1))+'%')\n",
    "#2 pts"
   ]
  },
  {
   "cell_type": "markdown",
   "metadata": {
    "id": "GpiZmxAtU-lQ"
   },
   "source": [
    "**YOUR ANSWER HERE:** [1pt] \n",
    "baseline: 51%"
   ]
  },
  {
   "cell_type": "markdown",
   "metadata": {
    "id": "svT8YoBjU-lR"
   },
   "source": [
    "## Question 2: /7 pts\n",
    "\n",
    "Split the data into train and test for the outcome/response and the predictor variables. Hold out 25% of observations as the test set.  Pass `random_state=11` to `train_test_split` to ensure you get the same train and tests sets as the solution. Your dependent variable in the the dataset is named as `Drug`. How many patients who take \"DrugY\" in the train dataset and test dataset, respectively?"
   ]
  },
  {
   "cell_type": "code",
   "execution_count": 258,
   "metadata": {
    "id": "ZabWhfKqU-lS"
   },
   "outputs": [
    {
     "name": "stdout",
     "output_type": "stream",
     "text": [
      "450.0 patients take DrugY in the train dataset\n",
      "150.0 patients take DrugY in the test dataset\n"
     ]
    }
   ],
   "source": [
    "# Question 2 code here.\n",
    "X = data.drop('Drug', axis='columns').values #independent is everything else\n",
    "y = data.Drug.values #dependent, so it is 1\n",
    "\n",
    "Xtrain, Xtest, ytrain, ytest = train_test_split(X, y, test_size=0.25, random_state=11) #0.25 for test set\n",
    "\n",
    "# Don't use the \"Drug\" as a feature\n",
    "print(\"{} patients take DrugY in the train dataset\".format(sum(Xtrain[Xtrain==1])))\n",
    "print(\"{} patients take DrugY in the test dataset\".format(sum(Xtest[Xtest==1])))\n",
    "\n",
    "#6 pts correct code"
   ]
  },
  {
   "cell_type": "markdown",
   "metadata": {
    "id": "04g5eqFb4UHe"
   },
   "source": [
    "**YOUR ANSWER HERE:** [1pt] \n",
    "\n",
    "450.0 patients take DrugY in the train dataset\n",
    "\n",
    "\n",
    "150.0 patients take DrugY in the test dataset"
   ]
  },
  {
   "cell_type": "markdown",
   "metadata": {
    "id": "o-NwTJR2U-lU"
   },
   "source": [
    "## Question 3: /20 pts"
   ]
  },
  {
   "cell_type": "markdown",
   "metadata": {
    "id": "OrQkrgnKU-lV"
   },
   "source": [
    "3.1 Create a instance of sklearn's `LogisticRegression` object for **unpenalized** logistic regression.\n",
    "Using this object, **run a logisitic regression analysis** of `Drug` (y-variable) against `Age` and `Na_to_K` (x-variables) using your training data. Report the parameters (variables and intercept) of your model as indicated with the `print` function."
   ]
  },
  {
   "cell_type": "code",
   "execution_count": 262,
   "metadata": {
    "id": "upgKwmOMU-lV"
   },
   "outputs": [
    {
     "name": "stdout",
     "output_type": "stream",
     "text": [
      "Intercept:\n",
      " [-5.019] \n",
      "Coefficients:\n",
      " [[-0.035  0.929 -2.845 -2.174 -2.728  0.142 -2.433 -1.53  -3.489]]\n"
     ]
    },
    {
     "name": "stderr",
     "output_type": "stream",
     "text": [
      "/Users/oren/opt/anaconda3/envs/DS3000/lib/python3.10/site-packages/sklearn/linear_model/_logistic.py:1173: FutureWarning: `penalty='none'`has been deprecated in 1.2 and will be removed in 1.4. To keep the past behaviour, set `penalty=None`.\n",
      "  warnings.warn(\n"
     ]
    }
   ],
   "source": [
    "# Question 3 code here\n",
    "Age = Xtrain[:,0]\n",
    "Na = Xtrain[:,1]\n",
    "X = [Age,Na]\n",
    "\n",
    "druglr = LogisticRegression(penalty='none').fit(Xtrain,ytrain)\n",
    "print(f\"Intercept:\\n {druglr.intercept_.round(3)} \\nCoefficients:\\n {druglr.coef_.round(3)}\")\n",
    "#10 pts "
   ]
  },
  {
   "cell_type": "markdown",
   "metadata": {
    "id": "kheT1mJBU-lY"
   },
   "source": [
    "3.2 Compute 4 label-based criteria, namely, 'Accuracy', 'Precision', 'Sensitivity' and 'Specificity' for your two variables only classifier **using the test data** (Round into 4 decimal place). Use a threshold of 0.5. Answer the questions in this text box below."
   ]
  },
  {
   "cell_type": "code",
   "execution_count": 268,
   "metadata": {
    "id": "YeCznyblU-la"
   },
   "outputs": [],
   "source": [
    "## Put code here to compute criteria:\n",
    "# Calculate performance measures from scratch\n",
    "# TP: true positives \n",
    "# TN: true negatives \n",
    "# FP: False positives \n",
    "# FN: False negatives\n",
    "\n",
    "def compute_performance(yhat, y, classes):\n",
    "    # First, get tp, tn, fp, fn\n",
    "    tp = sum(np.logical_and(yhat == classes[1], y == classes[1]))\n",
    "    tn = sum(np.logical_and(yhat == classes[0], y == classes[0]))\n",
    "    fp = sum(np.logical_and(yhat == classes[1], y == classes[0]))\n",
    "    fn = sum(np.logical_and(yhat == classes[0], y == classes[1]))\n",
    "\n",
    "    print(f\"tp: {tp} tn: {tn} fp: {fp} fn: {fn}\")\n",
    "    \n",
    "    # Accuracy\n",
    "    acc = (tp + tn) / (tp + tn + fp + fn)\n",
    "    \n",
    "    # Precision\n",
    "    # \"Of the ones I labeled +, how many are actually +?\"\n",
    "    precision = tp / (tp + fp)\n",
    "\n",
    "    # Recall\n",
    "    # \"Of all the + in the data, how many do I correctly label?\"\n",
    "    recall = tp / (tp + fn)    \n",
    "    \n",
    "    # Sensitivity\n",
    "    # \"Of all the + in the data, how many do I correctly label?\"\n",
    "    sensitivity = recall\n",
    "    \n",
    "    # Specificity\n",
    "    # \"Of all the - in the data, how many do I correctly label?\"\n",
    "    specificity = tn / (fp + tn)\n",
    "    \n",
    "    # Print results\n",
    "    print(\"Accuracy:\",round(acc,3),\"Precision:\",round(precision,3),\n",
    "          \"Sensitivity:\",round(sensitivity,3),\"Specificity:\",round(specificity,3))\n",
    "\n",
    "\n",
    "\n",
    "#5 pts"
   ]
  },
  {
   "cell_type": "code",
   "execution_count": 272,
   "metadata": {
    "id": "RVHdh8JPU-lb"
   },
   "outputs": [
    {
     "name": "stdout",
     "output_type": "stream",
     "text": [
      "tp: 26 tn: 17 fp: 7 fn: 0\n",
      "Accuracy: 0.86 Precision: 0.788 Sensitivity: 1.0 Specificity: 0.708\n",
      "\n",
      "Baseline Accuracy:  0.51\n"
     ]
    },
    {
     "data": {
      "text/plain": [
       "array([[17,  7],\n",
       "       [ 0, 26]])"
      ]
     },
     "execution_count": 272,
     "metadata": {},
     "output_type": "execute_result"
    }
   ],
   "source": [
    "## Put the code you need to answer the following questions.\n",
    "\n",
    "threshold = 0.1\n",
    "ytest_prob = druglr.predict_proba(Xtest)\n",
    "ytest_hat = druglr.classes_[(ytest_prob[:,1] > threshold).astype(int)]\n",
    "\n",
    "# ytest_hat\n",
    "compute_performance(ytest_hat, ytest, druglr.classes_)\n",
    "\n",
    "# Let's compare against base-line accuracy:\n",
    "print('\\nBaseline Accuracy: ', baselineacc.round(3))\n",
    "\n",
    "\n",
    "confusion_matrix(ytest_hat,ytest).T\n",
    "#2 pts"
   ]
  },
  {
   "cell_type": "markdown",
   "metadata": {
    "id": "ZUGuT8L1U-lb"
   },
   "source": [
    "* How many of the test instances are labeled positive by your classifier? \n",
    "\n",
    "26 true, 7 false\n",
    "\n",
    "**YOUR ANSWER HERE:**[1 pt] \n",
    "\n",
    "* Does this classifier reach the baseline accuracy?\n",
    "\n",
    "This clasifier exceeds the baseline accuracy significantly, indicating a way better classifier\n",
    "\n",
    "**YOUR ANSWER HERE:** [1 pt] \n",
    "\n",
    "* Is this classifier useful for classifying drug-Y? Explain in one or two sentences using the performance matrix results.\n",
    "\n",
    "Looking at the performance matrix, it was clearly useful as it only labeled 7 false positives, and 0 false negatives, compared to the 26 true positives and 17 true negatives it got, which is a useful classifier for drug-Y\n",
    "\n",
    "**YOUR ANSWER HERE:**[1 pt] "
   ]
  },
  {
   "cell_type": "markdown",
   "metadata": {
    "id": "9mq1cndaU-lc"
   },
   "source": [
    "## Question 4: /8 pts\n",
    "Now with default penalty method, fit two logistic regression models using tuning parameter $C=0.1$ and $C=1$ to the training data and include all the variables in the data frame (except for `Drug`) in the cell below. You will want to make new objects like you did for the simpler model. Print the parameters (variables and intercept) you obtain, respectively."
   ]
  },
  {
   "cell_type": "code",
   "execution_count": 291,
   "metadata": {
    "id": "BiH4XfJHU-le"
   },
   "outputs": [
    {
     "name": "stdout",
     "output_type": "stream",
     "text": [
      "Parameters for regression with a tuning paramter of C = 0.1: \n",
      "Intercept:\n",
      " [-7.956] \n",
      "Coefficients:\n",
      " [[-0.013  0.603 -0.113  0.113 -0.242  0.366 -0.124  0.238 -0.238]]\n",
      "\n",
      "Parameters for regression with a tuning paramter of C = 1: \n",
      "Intercept:\n",
      " [-9.926] \n",
      "Coefficients:\n",
      " [[-0.025  0.776 -0.261  0.261 -0.721  1.185 -0.464  0.665 -0.665]]\n"
     ]
    }
   ],
   "source": [
    "# Code for Question 4\n",
    "c01lr = LogisticRegression(C = 0.1).fit(Xtrain,ytrain)\n",
    "c1lr = LogisticRegression(C = 1).fit(Xtrain,ytrain)\n",
    "\n",
    "# druglr = LogisticRegression(penalty='none').fit(Xtrain,ytrain)\n",
    "print(\"Parameters for regression with a tuning paramter of C = 0.1: \")\n",
    "print(f\"Intercept:\\n {c01lr.intercept_.round(3)} \\nCoefficients:\\n {c01lr.coef_.round(3)}\")\n",
    "print(\"\\nParameters for regression with a tuning paramter of C = 1: \")\n",
    "print(f\"Intercept:\\n {c1lr.intercept_.round(3)} \\nCoefficients:\\n {c1lr.coef_.round(3)}\")\n",
    "\n",
    "# #7 pts"
   ]
  },
  {
   "cell_type": "markdown",
   "metadata": {
    "id": "3Jc2UNoYnGhD"
   },
   "source": [
    "* Describe the differences between the fitted model parameters obtained from the two models here.\n",
    "\n",
    "the fit with a larger tuning parameter yields a more negative intercept, since it has a smaller regularization than c=0.1 with a larger regularization.\n",
    "\n",
    "**YOUR ANSWER:** [1 pt] "
   ]
  },
  {
   "cell_type": "markdown",
   "metadata": {
    "id": "qMUsdjPfU-lh"
   },
   "source": [
    "## Question 5: /15 pts\n",
    "\n",
    "In the cell below, compute the 4 label-based criteria we mentioned in Question 3.2 for the two new classifiers using the test data. (You don't have to copy the function down into this cell; just call it again here.) Use a threshold of 0.5. "
   ]
  },
  {
   "cell_type": "code",
   "execution_count": 303,
   "metadata": {
    "id": "BWsf59jcU-li"
   },
   "outputs": [
    {
     "name": "stdout",
     "output_type": "stream",
     "text": [
      "tp: 25 tn: 24 fp: 0 fn: 1\n",
      "Accuracy: 0.98 Precision: 1.0 Sensitivity: 0.962 Specificity: 1.0\n",
      "tp: 24 tn: 24 fp: 0 fn: 2\n",
      "Accuracy: 0.96 Precision: 1.0 Sensitivity: 0.923 Specificity: 1.0\n",
      "\n",
      "Baseline Accuracy:  0.51\n",
      "performance matrix for C=0.1 lr: \n",
      " [[24  0]\n",
      " [ 1 25]]\n",
      "performance matrix for C=1 lr: \n",
      " [[24  0]\n",
      " [ 2 24]]\n"
     ]
    }
   ],
   "source": [
    "# Code for  Code for answering questions in the below cell\n",
    "threshold = 0.5\n",
    "ytest_prob01 = c01lr.predict_proba(Xtest)\n",
    "ytest_hat01 = c01lr.classes_[(ytest_prob01[:,1] > threshold).astype(int)]\n",
    "\n",
    "ytest_prob1 = c1lr.predict_proba(Xtest)\n",
    "ytest_hat1 = c1lr.classes_[(ytest_prob1[:,1] > threshold).astype(int)]\n",
    "\n",
    "# ytest_hat\n",
    "compute_performance(ytest_hat01, ytest, c01lr.classes_)\n",
    "compute_performance(ytest_hat1, ytest, c1lr.classes_)\n",
    "\n",
    "# Let's compare against base-line accuracy:\n",
    "print('\\nBaseline Accuracy: ', baselineacc.round(3))\n",
    "\n",
    "\n",
    "print(\"performance matrix for C=0.1 lr: \\n\", confusion_matrix(ytest_hat01,ytest).T)\n",
    "print(\"performance matrix for C=1 lr: \\n\",confusion_matrix(ytest_hat1,ytest).T)\n",
    "\n",
    "#9 pts"
   ]
  },
  {
   "cell_type": "markdown",
   "metadata": {
    "id": "kXXGvWDYU-lj"
   },
   "source": [
    "* How many of the test instances are respectively labeled positive by the two classifiers?\n",
    "\n",
    "the first one has 25 true positives, the second has 24\n",
    "\n",
    "**YOUR ANSWER:** [3 pts] \n",
    "\n",
    "* Among the classifiers in Questions 3 and 4, which one is the **best classifier** for classifying Drug? Explain the possible reason in one or two sentences.\n",
    "\n",
    "I believe that the classifier that is the best is the logistic regression with tuning parameter c=0.1 since it results in most of the data being classified most accurately.\n",
    "\n",
    "**YOUR ANSWER:** [3 pts] "
   ]
  },
  {
   "cell_type": "markdown",
   "metadata": {
    "id": "BtWayoFDU-lk"
   },
   "source": [
    "## Question 6: /14 pts\n",
    "In the cell below, predict the class coding your own sigmoid function (do NOT use  the predict function from sklear). Compare the first 5 rows using the three models constructed in question 4 and question 5."
   ]
  },
  {
   "cell_type": "code",
   "execution_count": 306,
   "metadata": {
    "id": "5zYNJn57U-ll"
   },
   "outputs": [
    {
     "name": "stdout",
     "output_type": "stream",
     "text": [
      "Probabilities for class 1:  [[0.05]\n",
      " [1.  ]\n",
      " [0.99]\n",
      " [0.01]\n",
      " [1.  ]\n",
      " [0.9 ]\n",
      " [1.  ]\n",
      " [0.01]\n",
      " [0.16]\n",
      " [0.97]\n",
      " [0.95]\n",
      " [1.  ]\n",
      " [0.99]\n",
      " [0.05]\n",
      " [0.15]\n",
      " [0.01]\n",
      " [0.09]\n",
      " [1.  ]\n",
      " [0.  ]\n",
      " [1.  ]\n",
      " [0.31]\n",
      " [0.22]\n",
      " [0.28]\n",
      " [1.  ]\n",
      " [0.  ]\n",
      " [0.07]\n",
      " [0.94]\n",
      " [0.81]\n",
      " [0.29]\n",
      " [0.  ]\n",
      " [0.12]\n",
      " [1.  ]\n",
      " [0.92]\n",
      " [1.  ]\n",
      " [1.  ]\n",
      " [0.  ]\n",
      " [0.01]\n",
      " [0.03]\n",
      " [0.01]\n",
      " [1.  ]\n",
      " [1.  ]\n",
      " [0.2 ]\n",
      " [0.  ]\n",
      " [0.01]\n",
      " [1.  ]\n",
      " [0.93]\n",
      " [0.  ]\n",
      " [1.  ]\n",
      " [0.15]\n",
      " [1.  ]]\n",
      "Probabilities for class 2:  [[0.24]\n",
      " [1.  ]\n",
      " [0.94]\n",
      " [0.06]\n",
      " [1.  ]\n",
      " [0.91]\n",
      " [0.98]\n",
      " [0.09]\n",
      " [0.5 ]\n",
      " [0.75]\n",
      " [0.67]\n",
      " [0.99]\n",
      " [0.97]\n",
      " [0.33]\n",
      " [0.28]\n",
      " [0.04]\n",
      " [0.15]\n",
      " [1.  ]\n",
      " [0.01]\n",
      " [1.  ]\n",
      " [0.15]\n",
      " [0.34]\n",
      " [0.39]\n",
      " [0.99]\n",
      " [0.05]\n",
      " [0.27]\n",
      " [0.93]\n",
      " [0.76]\n",
      " [0.49]\n",
      " [0.03]\n",
      " [0.18]\n",
      " [0.95]\n",
      " [0.92]\n",
      " [1.  ]\n",
      " [1.  ]\n",
      " [0.05]\n",
      " [0.1 ]\n",
      " [0.11]\n",
      " [0.06]\n",
      " [1.  ]\n",
      " [1.  ]\n",
      " [0.32]\n",
      " [0.03]\n",
      " [0.04]\n",
      " [1.  ]\n",
      " [0.93]\n",
      " [0.04]\n",
      " [1.  ]\n",
      " [0.29]\n",
      " [1.  ]]\n",
      "Probabilities for class 3:  [[0.1 ]\n",
      " [1.  ]\n",
      " [0.98]\n",
      " [0.02]\n",
      " [1.  ]\n",
      " [0.89]\n",
      " [0.99]\n",
      " [0.02]\n",
      " [0.28]\n",
      " [0.92]\n",
      " [0.88]\n",
      " [1.  ]\n",
      " [0.98]\n",
      " [0.12]\n",
      " [0.2 ]\n",
      " [0.02]\n",
      " [0.12]\n",
      " [1.  ]\n",
      " [0.  ]\n",
      " [1.  ]\n",
      " [0.24]\n",
      " [0.27]\n",
      " [0.33]\n",
      " [1.  ]\n",
      " [0.01]\n",
      " [0.13]\n",
      " [0.93]\n",
      " [0.79]\n",
      " [0.38]\n",
      " [0.01]\n",
      " [0.15]\n",
      " [0.99]\n",
      " [0.91]\n",
      " [1.  ]\n",
      " [1.  ]\n",
      " [0.01]\n",
      " [0.02]\n",
      " [0.05]\n",
      " [0.02]\n",
      " [1.  ]\n",
      " [1.  ]\n",
      " [0.25]\n",
      " [0.01]\n",
      " [0.02]\n",
      " [1.  ]\n",
      " [0.92]\n",
      " [0.  ]\n",
      " [1.  ]\n",
      " [0.2 ]\n",
      " [1.  ]]\n"
     ]
    }
   ],
   "source": [
    "# Your code here\n",
    "sigmoid = lambda x: 1 / (1 + np.exp(-x)) \n",
    "z1 = druglr.intercept_ + Xtest@druglr.coef_.T\n",
    "z1 = sigmoid(z1).round(2)\n",
    "z2 = c01lr.intercept_ + Xtest@c01lr.coef_.T\n",
    "z2 = sigmoid(z2).round(2)\n",
    "z3 = c1lr.intercept_ + Xtest@c1lr.coef_.T\n",
    "z3 = sigmoid(z3).round(2)\n",
    "\n",
    "print(\"Probabilities for class 1: \", z1)\n",
    "print(\"Probabilities for class 2: \", z2)\n",
    "print(\"Probabilities for class 3: \", z3)\n",
    "\n",
    "#8 pts"
   ]
  },
  {
   "cell_type": "markdown",
   "metadata": {
    "id": "0HUOZPnzU-ln"
   },
   "source": [
    "* Is the probability given by the sigmoid function the probability of a case being negative?\n",
    "\n",
    "no, the sigmoid function is the probability of being positive, 1-sigmoid is the probability of a case being negative.\n",
    "\n",
    "**YOUR ANSWER:**[3pts] \n",
    "\n",
    "* By just looking over the first 5 cases, how does the probabilities obtained from the two classifiers in Question 4 changes? Does the change of probability actually change the classification results for the first 5 cases?\n",
    "\n",
    "It doesnt change the classification results, but there is a change in probability. Looking at it, there is a very high or low probability based on the case, which means it is very confident in their classification. \n",
    "\n",
    "**YOUR ANSWER:**[3pts] "
   ]
  },
  {
   "cell_type": "markdown",
   "metadata": {
    "id": "08R44Tq-U-lo"
   },
   "source": [
    "# Question 7: /7 pts\n",
    "\n",
    "Plot ROC curves for all of your classifiers using the cells below, then answer the following questions, computing whatever quantities you need to answer them."
   ]
  },
  {
   "cell_type": "code",
   "execution_count": 319,
   "metadata": {
    "id": "IGol7oXQ51Eo"
   },
   "outputs": [
    {
     "name": "stdout",
     "output_type": "stream",
     "text": [
      "0.994\n",
      "0.982\n",
      "0.99\n"
     ]
    },
    {
     "data": {
      "image/png": "[encoded data removed]",
      "text/plain": [
       "<Figure size 640x480 with 1 Axes>"
      ]
     },
     "metadata": {},
     "output_type": "display_data"
    }
   ],
   "source": [
    "# Your code here\n",
    "# druglr\n",
    "# c01lr\n",
    "# c1lr\n",
    "\n",
    "fpr1, tpr1, _ = roc_curve(ytest, ytest_prob[:,1], pos_label=druglr.classes_[1]) \n",
    "fpr2, tpr2, _ = roc_curve(ytest, ytest_prob01[:,1], pos_label=c01lr.classes_[1]) \n",
    "fpr3, tpr3, _ = roc_curve(ytest, ytest_prob1[:,1], pos_label=c1lr.classes_[1]) \n",
    "\n",
    "ax =sns.lineplot(x=fpr1,y=tpr1)\n",
    "ax =sns.lineplot(x=fpr2,y=tpr2)\n",
    "ax =sns.lineplot(x=fpr3,y=tpr3)\n",
    "\n",
    "ax1.set_xlabel(\"FP Rate\")\n",
    "ax2.set_ylabel(\"TP Rate\")\n",
    "\n",
    "print(auc(fpr1,tpr1).round(3))\n",
    "print(auc(fpr2,tpr2).round(3))\n",
    "print(auc(fpr3,tpr3).round(3))\n",
    "\n",
    "\n",
    "#6 pts"
   ]
  },
  {
   "cell_type": "markdown",
   "metadata": {
    "id": "XS6tI4eaU-lp"
   },
   "source": [
    "* Which classifier has a highest estimated probability of correctly distinguishing between a positive and a negative instance? How do you know?\n",
    "\n",
    "the classifier with c=1, since it has the largest under under the curve\n",
    "\n",
    "**YOUR ANSWER:** [1 pts] \n"
   ]
  },
  {
   "cell_type": "markdown",
   "metadata": {},
   "source": [
    "# Question 8: /11 pts\n",
    "\n",
    "Multiclass Logistic Regression\n",
    "\n",
    "In the classification lab, we trained a binary LR classifier using the _mnist_ dataset to discriminate entries which were equal to 5 from the rest. This time you have 10 classes i.e., 0, 1, 2, 3, 4, 5, 6, 7, 8, and 9. Use the same dataset and `SGDClassifier` to tain a multiclass logistic regression model with `l2` regularization. For training, include these arguments too: `max_iter=2000`, `tol=1e-3`, `random_state=seed`. For computation speed-up, some `sklearn` functions take the argument `n_jobs=N` to run in parallel. A good value for N can be the number of physical CPU cores that your machine possesses. Check the documentations of the functions to take advantage from this where applicable. For splitting the data use `test_size=0.5` and `random_state=seed`.\n",
    "\n",
    "Put your classifier and the `StandardScaler()` into a pipeline using `make_pipeline`. Therefore, your final model will be a pipeline that always standardizes the data before feeding it to the classifier. Use the `classification_report` to report the performance of your final model (*i.e.*, the pipeline) over the **test set**.\n",
    "\n"
   ]
  },
  {
   "cell_type": "code",
   "execution_count": 322,
   "metadata": {},
   "outputs": [
    {
     "name": "stdout",
     "output_type": "stream",
     "text": [
      "              precision    recall  f1-score   support\n",
      "\n",
      "           0       0.96      0.95      0.96      3535\n",
      "           1       0.97      0.96      0.96      3954\n",
      "           2       0.91      0.89      0.90      3475\n",
      "           3       0.92      0.86      0.89      3546\n",
      "           4       0.92      0.91      0.92      3386\n",
      "           5       0.89      0.83      0.86      3158\n",
      "           6       0.94      0.94      0.94      3389\n",
      "           7       0.94      0.91      0.93      3652\n",
      "           8       0.73      0.92      0.81      3392\n",
      "           9       0.89      0.86      0.88      3513\n",
      "\n",
      "    accuracy                           0.90     35000\n",
      "   macro avg       0.91      0.90      0.90     35000\n",
      "weighted avg       0.91      0.90      0.91     35000\n",
      "\n"
     ]
    }
   ],
   "source": [
    "# code here\n",
    "from sklearn.datasets import fetch_openml \n",
    "mnist = fetch_openml('mnist_784', version=1, as_frame=False)\n",
    "X, y = mnist[\"data\"], mnist[\"target\"]\n",
    "X_train, X_test, y_train, y_test = train_test_split(X, y, test_size=0.5, random_state=seed)\n",
    "pipeline = make_pipeline(StandardScaler(), SGDClassifier(max_iter=2000, tol=1e-3, random_state=0, penalty='l2', n_jobs=-1))\n",
    "pipeline.fit(X_train, y_train)\n",
    "y_pred = pipeline.predict(X_test)\n",
    "print(classification_report(y_test, y_pred))\n",
    "\n",
    "#9 pts"
   ]
  },
  {
   "cell_type": "markdown",
   "metadata": {},
   "source": [
    "Let's see how the model generalizes to new data.\n",
    "\n",
    "You can run the cell below to see how well your model can recognize a digit written by the mouse cursor. Set the `final_model` variable according to the name choses for your pipeline, run the cell, draw on the pop-up canvas, and once you close the canvas you will see the result.\n",
    "\n",
    "This code will not work on headless servers such as Colab. You need to install the `tk-tools` package and run it locally."
   ]
  },
  {
   "cell_type": "code",
   "execution_count": 324,
   "metadata": {},
   "outputs": [
    {
     "name": "stdout",
     "output_type": "stream",
     "text": [
      "Your input:\n"
     ]
    },
    {
     "data": {
      "image/png": "[encoded data removed]",
      "text/plain": [
       "<Figure size 640x480 with 1 Axes>"
      ]
     },
     "metadata": {},
     "output_type": "display_data"
    },
    {
     "name": "stdout",
     "output_type": "stream",
     "text": [
      "Input recognized as 5.\n"
     ]
    }
   ],
   "source": [
    "final_model = pipeline  # here use the name of your pipeline\n",
    "\n",
    "#!pip install tk-tools\n",
    "from tkinter import *\n",
    "import tkinter as tk\n",
    "from PIL import Image\n",
    "import io\n",
    "import matplotlib as mpl\n",
    "\n",
    "temp_file_name=\"TEMP_image_TEMP.jpg\"\n",
    "\n",
    "app = Tk()\n",
    "app.geometry(\"300x300\")\n",
    "\n",
    "canvas = tk.Canvas(app, bg='white')\n",
    "canvas.pack(anchor='nw', fill='both', expand=1)\n",
    "\n",
    "def get_x_and_y(event):\n",
    "    global lasx, lasy\n",
    "    lasx, lasy = event.x, event.y\n",
    "\n",
    "def draw_smth(event):\n",
    "    global lasx, lasy\n",
    "    canvas.create_line((lasx, lasy, event.x, event.y), fill='red', width=3.5)\n",
    "    lasx, lasy = event.x, event.y\n",
    "    ps = canvas.postscript(colormode = 'color')\n",
    "    img = Image.open(io.BytesIO(ps.encode('utf-8')))\n",
    "    img.save(temp_file_name)\n",
    "\n",
    "canvas.bind(\"<Button-1>\", get_x_and_y)\n",
    "canvas.bind(\"<B1-Motion>\", draw_smth)\n",
    "\n",
    "app.mainloop()\n",
    "\n",
    "img = Image.open(temp_file_name)\n",
    "#resize image to 28x28 pixels\n",
    "img = img.resize((28,28))\n",
    "#convert rgb to grayscale\n",
    "img = img.convert(\"L\")\n",
    "img = np.array(img)\n",
    "img = 255.0 - img\n",
    "print(\"Your input:\")\n",
    "plt.imshow(img, cmap = mpl.cm.binary); plt.axis(\"off\")\n",
    "plt.show()\n",
    "\n",
    "# reshaping to support our model input\n",
    "img = np.reshape(img, 28*28)\n",
    "#predicting the class\n",
    "print('Input recognized as ' + str(final_model.predict([img])[0])+'.')"
   ]
  },
  {
   "cell_type": "markdown",
   "metadata": {},
   "source": [
    "* Despite showing great scores in training and testing stages, why your model does not generalize well to new data?"
   ]
  },
  {
   "cell_type": "markdown",
   "metadata": {},
   "source": [
    "**YOUR ANSWER:** [2 pts]\n",
    "\n",
    "Perhaps overfitting may be in play, since it did so well in the testing stages, it is likely overly adjusted to the training data, and when new data appears, the model is over predicted and doesnt fit the new data well."
   ]
  }
 ],
 "metadata": {
  "colab": {
   "provenance": []
  },
  "kernelspec": {
   "display_name": "Python 3",
   "language": "python",
   "name": "python3"
  },
  "language_info": {
   "codemirror_mode": {
    "name": "ipython",
    "version": 3
   },
   "file_extension": ".py",
   "mimetype": "text/x-python",
   "name": "python",
   "nbconvert_exporter": "python",
   "pygments_lexer": "ipython3",
   "version": "3.8.8"
  },
  "latex_envs": {
   "LaTeX_envs_menu_present": true,
   "autoclose": false,
   "autocomplete": true,
   "bibliofile": "biblio.bib",
   "cite_by": "apalike",
   "current_citInitial": 1,
   "eqLabelWithNumbers": true,
   "eqNumInitial": 1,
   "hotkeys": {
    "equation": "Ctrl-E",
    "itemize": "Ctrl-I"
   },
   "labels_anchors": false,
   "latex_user_defs": false,
   "report_style_numbering": false,
   "user_envs_cfg": false
  },
  "toc": {
   "base_numbering": 1,
   "nav_menu": {},
   "number_sections": true,
   "sideBar": true,
   "skip_h1_title": false,
   "title_cell": "Table of Contents",
   "title_sidebar": "Contents",
   "toc_cell": false,
   "toc_position": {},
   "toc_section_display": true,
   "toc_window_display": false
  },
  "varInspector": {
   "cols": {
    "lenName": 16,
    "lenType": 16,
    "lenVar": 40
   },
   "kernels_config": {
    "python": {
     "delete_cmd_postfix": "",
     "delete_cmd_prefix": "del ",
     "library": "var_list.py",
     "varRefreshCmd": "print(var_dic_list())"
    },
    "r": {
     "delete_cmd_postfix": ") ",
     "delete_cmd_prefix": "rm(",
     "library": "var_list.r",
     "varRefreshCmd": "cat(var_dic_list()) "
    }
   },
   "types_to_exclude": [
    "module",
    "function",
    "builtin_function_or_method",
    "instance",
    "_Feature"
   ],
   "window_display": false
  }
 },
 "nbformat": 4,
 "nbformat_minor": 1
}

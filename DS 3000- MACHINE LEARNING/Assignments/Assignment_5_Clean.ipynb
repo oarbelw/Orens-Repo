{
 "cells": [
  {
   "cell_type": "markdown",
   "metadata": {
    "id": "KS8_b7ZzQrOQ"
   },
   "source": [
    "# Grade: /100 pts\n",
    "\n",
    "# Assignment 05: Model Selection & Cross Validation\n",
    "\n",
    "In this assignment you will be using a #TidyTuesday dataset on Spotify songs to build a classification model for predicting Spotify song popularity.\n",
    "\n",
    "The dataset has already been preprocessed, and is ready to be used! \n",
    "\n",
    "The Spotify songs dataset has provided you with data for 30947 Spotify songs.  Your job: build a model or models, perform model selection using cross validation techniques, and evaluate your final selected model.\n",
    "\n",
    "### The Dataset\n",
    "\n",
    "The data is stored in a csv file called `spotify_pre.csv`.  The data includes some information about playlist genre, playlist subgenre, danceability, energy, key, loudness, mode, speechiness, acousticness, instrumentalness, liveness, valence, tempo, and duration. The target variable is `track_popularity`, which has two categories `high` and `low`.\n",
    "\n",
    "\n",
    "### Follow These Steps before submitting\n",
    "Once you are finished, ensure to complete the following steps.\n",
    "\n",
    "1.  Restart your kernel by clicking 'Kernel' > 'Restart & Run All'.\n",
    "\n",
    "2.  Fix any errors which result from this.\n",
    "\n",
    "3.  Repeat steps 1. and 2. until your notebook runs without errors.\n",
    "\n",
    "4.  Submit your completed notebook to OWL by the deadline. \n",
    "\n",
    "5.  Your submission document should be saved in the form: `LastName_FirstName_Assignment5.ipynb`\n",
    "\n",
    "---"
   ]
  },
  {
   "cell_type": "code",
   "execution_count": 27,
   "metadata": {
    "id": "hV01UYGeQrOS"
   },
   "outputs": [],
   "source": [
    "import pandas as pd\n",
    "import numpy as np\n",
    "import matplotlib.pyplot as plt\n",
    "import seaborn as sns\n",
    "from plotnine import *\n",
    "from sklearn.model_selection import train_test_split,StratifiedKFold,cross_val_score\n",
    "from sklearn.linear_model import LogisticRegression, LinearRegression\n",
    "from sklearn.pipeline import Pipeline\n",
    "from sklearn.preprocessing import StandardScaler, PolynomialFeatures\n",
    "from sklearn.metrics import make_scorer, mean_squared_error,roc_curve, auc, roc_auc_score\n",
    "from sklearn.base import BaseEstimator, TransformerMixin\n",
    "\n",
    "pd.set_option('display.max_columns', 500)\n",
    "plt.style.use('ggplot')\n",
    "%matplotlib inline"
   ]
  },
  {
   "cell_type": "markdown",
   "metadata": {
    "id": "P8OR-sYkQrOU"
   },
   "source": [
    "_____"
   ]
  },
  {
   "cell_type": "markdown",
   "metadata": {
    "id": "735oycK-QrOU"
   },
   "source": [
    "### Question 1: /15pts\n",
    "\n",
    "First, import the dataset `spotify_pre.csv` as a dataframe and print out a few rows and get metadata of the csv file to have a rough understanding of the type of each column."
   ]
  },
  {
   "cell_type": "code",
   "execution_count": 28,
   "metadata": {
    "id": "4yBYxJe2QrOU"
   },
   "outputs": [
    {
     "data": {
      "text/html": [
       "<div>\n",
       "<style scoped>\n",
       "    .dataframe tbody tr th:only-of-type {\n",
       "        vertical-align: middle;\n",
       "    }\n",
       "\n",
       "    .dataframe tbody tr th {\n",
       "        vertical-align: top;\n",
       "    }\n",
       "\n",
       "    .dataframe thead th {\n",
       "        text-align: right;\n",
       "    }\n",
       "</style>\n",
       "<table border=\"1\" class=\"dataframe\">\n",
       "  <thead>\n",
       "    <tr style=\"text-align: right;\">\n",
       "      <th></th>\n",
       "      <th>track_popularity</th>\n",
       "      <th>playlist_genre</th>\n",
       "      <th>playlist_subgenre</th>\n",
       "      <th>danceability</th>\n",
       "      <th>energy</th>\n",
       "      <th>key</th>\n",
       "      <th>loudness</th>\n",
       "      <th>mode</th>\n",
       "      <th>speechiness</th>\n",
       "      <th>acousticness</th>\n",
       "      <th>instrumentalness</th>\n",
       "      <th>liveness</th>\n",
       "      <th>valence</th>\n",
       "      <th>tempo</th>\n",
       "      <th>duration_m</th>\n",
       "    </tr>\n",
       "  </thead>\n",
       "  <tbody>\n",
       "    <tr>\n",
       "      <th>0</th>\n",
       "      <td>low</td>\n",
       "      <td>pop</td>\n",
       "      <td>dance pop</td>\n",
       "      <td>0.748</td>\n",
       "      <td>0.916</td>\n",
       "      <td>6</td>\n",
       "      <td>-2.634</td>\n",
       "      <td>major</td>\n",
       "      <td>0.0583</td>\n",
       "      <td>0.1020</td>\n",
       "      <td>0.000000</td>\n",
       "      <td>0.0653</td>\n",
       "      <td>0.518</td>\n",
       "      <td>122.036</td>\n",
       "      <td>3.245900</td>\n",
       "    </tr>\n",
       "    <tr>\n",
       "      <th>1</th>\n",
       "      <td>low</td>\n",
       "      <td>pop</td>\n",
       "      <td>dance pop</td>\n",
       "      <td>0.726</td>\n",
       "      <td>0.815</td>\n",
       "      <td>11</td>\n",
       "      <td>-4.969</td>\n",
       "      <td>major</td>\n",
       "      <td>0.0373</td>\n",
       "      <td>0.0724</td>\n",
       "      <td>0.004210</td>\n",
       "      <td>0.3570</td>\n",
       "      <td>0.693</td>\n",
       "      <td>99.972</td>\n",
       "      <td>2.710000</td>\n",
       "    </tr>\n",
       "    <tr>\n",
       "      <th>2</th>\n",
       "      <td>high</td>\n",
       "      <td>pop</td>\n",
       "      <td>dance pop</td>\n",
       "      <td>0.675</td>\n",
       "      <td>0.931</td>\n",
       "      <td>1</td>\n",
       "      <td>-3.432</td>\n",
       "      <td>minor</td>\n",
       "      <td>0.0742</td>\n",
       "      <td>0.0794</td>\n",
       "      <td>0.000023</td>\n",
       "      <td>0.1100</td>\n",
       "      <td>0.613</td>\n",
       "      <td>124.008</td>\n",
       "      <td>2.943600</td>\n",
       "    </tr>\n",
       "    <tr>\n",
       "      <th>3</th>\n",
       "      <td>low</td>\n",
       "      <td>pop</td>\n",
       "      <td>dance pop</td>\n",
       "      <td>0.718</td>\n",
       "      <td>0.930</td>\n",
       "      <td>7</td>\n",
       "      <td>-3.778</td>\n",
       "      <td>major</td>\n",
       "      <td>0.1020</td>\n",
       "      <td>0.0287</td>\n",
       "      <td>0.000009</td>\n",
       "      <td>0.2040</td>\n",
       "      <td>0.277</td>\n",
       "      <td>121.956</td>\n",
       "      <td>2.818217</td>\n",
       "    </tr>\n",
       "    <tr>\n",
       "      <th>4</th>\n",
       "      <td>low</td>\n",
       "      <td>pop</td>\n",
       "      <td>dance pop</td>\n",
       "      <td>0.650</td>\n",
       "      <td>0.833</td>\n",
       "      <td>1</td>\n",
       "      <td>-4.672</td>\n",
       "      <td>major</td>\n",
       "      <td>0.0359</td>\n",
       "      <td>0.0803</td>\n",
       "      <td>0.000000</td>\n",
       "      <td>0.0833</td>\n",
       "      <td>0.725</td>\n",
       "      <td>123.976</td>\n",
       "      <td>3.150867</td>\n",
       "    </tr>\n",
       "  </tbody>\n",
       "</table>\n",
       "</div>"
      ],
      "text/plain": [
       "  track_popularity playlist_genre playlist_subgenre  danceability  energy  \\\n",
       "0              low            pop         dance pop         0.748   0.916   \n",
       "1              low            pop         dance pop         0.726   0.815   \n",
       "2             high            pop         dance pop         0.675   0.931   \n",
       "3              low            pop         dance pop         0.718   0.930   \n",
       "4              low            pop         dance pop         0.650   0.833   \n",
       "\n",
       "   key  loudness   mode  speechiness  acousticness  instrumentalness  \\\n",
       "0    6    -2.634  major       0.0583        0.1020          0.000000   \n",
       "1   11    -4.969  major       0.0373        0.0724          0.004210   \n",
       "2    1    -3.432  minor       0.0742        0.0794          0.000023   \n",
       "3    7    -3.778  major       0.1020        0.0287          0.000009   \n",
       "4    1    -4.672  major       0.0359        0.0803          0.000000   \n",
       "\n",
       "   liveness  valence    tempo  duration_m  \n",
       "0    0.0653    0.518  122.036    3.245900  \n",
       "1    0.3570    0.693   99.972    2.710000  \n",
       "2    0.1100    0.613  124.008    2.943600  \n",
       "3    0.2040    0.277  121.956    2.818217  \n",
       "4    0.0833    0.725  123.976    3.150867  "
      ]
     },
     "execution_count": 28,
     "metadata": {},
     "output_type": "execute_result"
    }
   ],
   "source": [
    "# Import the dataset etc.\n",
    "df = pd.read_csv(\"spotify_pre.csv\")\n",
    "df.head()\n"
   ]
  },
  {
   "cell_type": "code",
   "execution_count": 29,
   "metadata": {},
   "outputs": [
    {
     "name": "stdout",
     "output_type": "stream",
     "text": [
      "<class 'pandas.core.frame.DataFrame'>\n",
      "RangeIndex: 30947 entries, 0 to 30946\n",
      "Data columns (total 15 columns):\n",
      " #   Column             Non-Null Count  Dtype  \n",
      "---  ------             --------------  -----  \n",
      " 0   track_popularity   30947 non-null  object \n",
      " 1   playlist_genre     30947 non-null  object \n",
      " 2   playlist_subgenre  30947 non-null  object \n",
      " 3   danceability       30947 non-null  float64\n",
      " 4   energy             30947 non-null  float64\n",
      " 5   key                30947 non-null  int64  \n",
      " 6   loudness           30947 non-null  float64\n",
      " 7   mode               30947 non-null  object \n",
      " 8   speechiness        30947 non-null  float64\n",
      " 9   acousticness       30947 non-null  float64\n",
      " 10  instrumentalness   30947 non-null  float64\n",
      " 11  liveness           30947 non-null  float64\n",
      " 12  valence            30947 non-null  float64\n",
      " 13  tempo              30947 non-null  float64\n",
      " 14  duration_m         30947 non-null  float64\n",
      "dtypes: float64(10), int64(1), object(4)\n",
      "memory usage: 3.5+ MB\n",
      "None\n"
     ]
    }
   ],
   "source": [
    "#to get metadata\n",
    "print(df.info())"
   ]
  },
  {
   "cell_type": "markdown",
   "metadata": {
    "id": "DIUfwJPhQrOW"
   },
   "source": [
    "Finally create a barchart of playlist_subgenre with each bar showing the proportion of track_popularity categories (use ggplot with 'fill' option set to 'track_popularity'). Make sure to flip cartesian coordinates so that horizontal becomes vertical, and vertical, horizontal.\n",
    "\n",
    "**Make sure to check out some online resources for plotting with ggplot in Python**"
   ]
  },
  {
   "cell_type": "code",
   "execution_count": 30,
   "metadata": {
    "id": "xpcuv_pHQrOW"
   },
   "outputs": [
    {
     "ename": "AttributeError",
     "evalue": "module 'pandas' has no attribute 'tslib'",
     "output_type": "error",
     "traceback": [
      "\u001b[0;31m---------------------------------------------------------------------------\u001b[0m",
      "\u001b[0;31mAttributeError\u001b[0m                            Traceback (most recent call last)",
      "\u001b[0;32m<ipython-input-30-1a103cd2ffcf>\u001b[0m in \u001b[0;36m<module>\u001b[0;34m\u001b[0m\n\u001b[1;32m      1\u001b[0m \u001b[0;31m# Code to construct the barchart\u001b[0m\u001b[0;34m\u001b[0m\u001b[0;34m\u001b[0m\u001b[0;34m\u001b[0m\u001b[0m\n\u001b[0;32m----> 2\u001b[0;31m \u001b[0;32mfrom\u001b[0m \u001b[0mggplot\u001b[0m \u001b[0;32mimport\u001b[0m \u001b[0;34m*\u001b[0m\u001b[0;34m\u001b[0m\u001b[0;34m\u001b[0m\u001b[0m\n\u001b[0m\u001b[1;32m      3\u001b[0m \u001b[0;31m##i have been trying to figure out a work around for this error and I have not come to a conclusion\u001b[0m\u001b[0;34m\u001b[0m\u001b[0;34m\u001b[0m\u001b[0;34m\u001b[0m\u001b[0m\n",
      "\u001b[0;32m~/opt/anaconda3/lib/python3.8/site-packages/ggplot/__init__.py\u001b[0m in \u001b[0;36m<module>\u001b[0;34m\u001b[0m\n\u001b[1;32m     17\u001b[0m \u001b[0;34m\u001b[0m\u001b[0m\n\u001b[1;32m     18\u001b[0m \u001b[0;34m\u001b[0m\u001b[0m\n\u001b[0;32m---> 19\u001b[0;31m \u001b[0;32mfrom\u001b[0m \u001b[0;34m.\u001b[0m\u001b[0mgeoms\u001b[0m \u001b[0;32mimport\u001b[0m \u001b[0mgeom_area\u001b[0m\u001b[0;34m,\u001b[0m \u001b[0mgeom_blank\u001b[0m\u001b[0;34m,\u001b[0m \u001b[0mgeom_boxplot\u001b[0m\u001b[0;34m,\u001b[0m \u001b[0mgeom_line\u001b[0m\u001b[0;34m,\u001b[0m \u001b[0mgeom_point\u001b[0m\u001b[0;34m,\u001b[0m \u001b[0mgeom_jitter\u001b[0m\u001b[0;34m,\u001b[0m \u001b[0mgeom_histogram\u001b[0m\u001b[0;34m,\u001b[0m \u001b[0mgeom_density\u001b[0m\u001b[0;34m,\u001b[0m \u001b[0mgeom_hline\u001b[0m\u001b[0;34m,\u001b[0m \u001b[0mgeom_vline\u001b[0m\u001b[0;34m,\u001b[0m \u001b[0mgeom_bar\u001b[0m\u001b[0;34m,\u001b[0m \u001b[0mgeom_abline\u001b[0m\u001b[0;34m,\u001b[0m \u001b[0mgeom_tile\u001b[0m\u001b[0;34m,\u001b[0m \u001b[0mgeom_rect\u001b[0m\u001b[0;34m,\u001b[0m \u001b[0mgeom_bin2d\u001b[0m\u001b[0;34m,\u001b[0m \u001b[0mgeom_step\u001b[0m\u001b[0;34m,\u001b[0m \u001b[0mgeom_text\u001b[0m\u001b[0;34m,\u001b[0m \u001b[0mgeom_path\u001b[0m\u001b[0;34m,\u001b[0m \u001b[0mgeom_ribbon\u001b[0m\u001b[0;34m,\u001b[0m \u001b[0mgeom_now_its_art\u001b[0m\u001b[0;34m,\u001b[0m \u001b[0mgeom_violin\u001b[0m\u001b[0;34m,\u001b[0m \u001b[0mgeom_errorbar\u001b[0m\u001b[0;34m,\u001b[0m \u001b[0mgeom_polygon\u001b[0m\u001b[0;34m\u001b[0m\u001b[0;34m\u001b[0m\u001b[0m\n\u001b[0m\u001b[1;32m     20\u001b[0m \u001b[0;32mfrom\u001b[0m \u001b[0;34m.\u001b[0m\u001b[0mstats\u001b[0m \u001b[0;32mimport\u001b[0m \u001b[0mstat_smooth\u001b[0m\u001b[0;34m,\u001b[0m \u001b[0mstat_density\u001b[0m\u001b[0;34m\u001b[0m\u001b[0;34m\u001b[0m\u001b[0m\n\u001b[1;32m     21\u001b[0m \u001b[0;34m\u001b[0m\u001b[0m\n",
      "\u001b[0;32m~/opt/anaconda3/lib/python3.8/site-packages/ggplot/geoms/__init__.py\u001b[0m in \u001b[0;36m<module>\u001b[0;34m\u001b[0m\n\u001b[0;32m----> 1\u001b[0;31m \u001b[0;32mfrom\u001b[0m \u001b[0;34m.\u001b[0m\u001b[0mgeom_abline\u001b[0m \u001b[0;32mimport\u001b[0m \u001b[0mgeom_abline\u001b[0m\u001b[0;34m\u001b[0m\u001b[0;34m\u001b[0m\u001b[0m\n\u001b[0m\u001b[1;32m      2\u001b[0m \u001b[0;32mfrom\u001b[0m \u001b[0;34m.\u001b[0m\u001b[0mgeom_area\u001b[0m \u001b[0;32mimport\u001b[0m \u001b[0mgeom_area\u001b[0m\u001b[0;34m\u001b[0m\u001b[0;34m\u001b[0m\u001b[0m\n\u001b[1;32m      3\u001b[0m \u001b[0;32mfrom\u001b[0m \u001b[0;34m.\u001b[0m\u001b[0mgeom_bar\u001b[0m \u001b[0;32mimport\u001b[0m \u001b[0mgeom_bar\u001b[0m\u001b[0;34m\u001b[0m\u001b[0;34m\u001b[0m\u001b[0m\n\u001b[1;32m      4\u001b[0m \u001b[0;32mfrom\u001b[0m \u001b[0;34m.\u001b[0m\u001b[0mgeom_bin2d\u001b[0m \u001b[0;32mimport\u001b[0m \u001b[0mgeom_bin2d\u001b[0m\u001b[0;34m\u001b[0m\u001b[0;34m\u001b[0m\u001b[0m\n\u001b[1;32m      5\u001b[0m \u001b[0;32mfrom\u001b[0m \u001b[0;34m.\u001b[0m\u001b[0mgeom_blank\u001b[0m \u001b[0;32mimport\u001b[0m \u001b[0mgeom_blank\u001b[0m\u001b[0;34m\u001b[0m\u001b[0;34m\u001b[0m\u001b[0m\n",
      "\u001b[0;32m~/opt/anaconda3/lib/python3.8/site-packages/ggplot/geoms/geom_abline.py\u001b[0m in \u001b[0;36m<module>\u001b[0;34m\u001b[0m\n\u001b[0;32m----> 1\u001b[0;31m \u001b[0;32mfrom\u001b[0m \u001b[0;34m.\u001b[0m\u001b[0mgeom\u001b[0m \u001b[0;32mimport\u001b[0m \u001b[0mgeom\u001b[0m\u001b[0;34m\u001b[0m\u001b[0;34m\u001b[0m\u001b[0m\n\u001b[0m\u001b[1;32m      2\u001b[0m \u001b[0;34m\u001b[0m\u001b[0m\n\u001b[1;32m      3\u001b[0m \u001b[0;32mclass\u001b[0m \u001b[0mgeom_abline\u001b[0m\u001b[0;34m(\u001b[0m\u001b[0mgeom\u001b[0m\u001b[0;34m)\u001b[0m\u001b[0;34m:\u001b[0m\u001b[0;34m\u001b[0m\u001b[0;34m\u001b[0m\u001b[0m\n\u001b[1;32m      4\u001b[0m     \"\"\"\n\u001b[1;32m      5\u001b[0m     \u001b[0mLine\u001b[0m \u001b[0mspecified\u001b[0m \u001b[0mby\u001b[0m \u001b[0mslope\u001b[0m \u001b[0;32mand\u001b[0m \u001b[0mintercept\u001b[0m\u001b[0;34m\u001b[0m\u001b[0;34m\u001b[0m\u001b[0m\n",
      "\u001b[0;32m~/opt/anaconda3/lib/python3.8/site-packages/ggplot/geoms/geom.py\u001b[0m in \u001b[0;36m<module>\u001b[0;34m\u001b[0m\n\u001b[1;32m      1\u001b[0m from __future__ import (absolute_import, division, print_function,\n\u001b[1;32m      2\u001b[0m                         unicode_literals)\n\u001b[0;32m----> 3\u001b[0;31m \u001b[0;32mfrom\u001b[0m \u001b[0;34m.\u001b[0m\u001b[0;34m.\u001b[0m\u001b[0mggplot\u001b[0m \u001b[0;32mimport\u001b[0m \u001b[0mggplot\u001b[0m\u001b[0;34m\u001b[0m\u001b[0;34m\u001b[0m\u001b[0m\n\u001b[0m\u001b[1;32m      4\u001b[0m \u001b[0;32mfrom\u001b[0m \u001b[0;34m.\u001b[0m\u001b[0;34m.\u001b[0m\u001b[0maes\u001b[0m \u001b[0;32mimport\u001b[0m \u001b[0maes\u001b[0m\u001b[0;34m\u001b[0m\u001b[0;34m\u001b[0m\u001b[0m\n\u001b[1;32m      5\u001b[0m \u001b[0;34m\u001b[0m\u001b[0m\n",
      "\u001b[0;32m~/opt/anaconda3/lib/python3.8/site-packages/ggplot/ggplot.py\u001b[0m in \u001b[0;36m<module>\u001b[0;34m\u001b[0m\n\u001b[1;32m     11\u001b[0m \u001b[0;32mimport\u001b[0m \u001b[0mwarnings\u001b[0m\u001b[0;34m\u001b[0m\u001b[0;34m\u001b[0m\u001b[0m\n\u001b[1;32m     12\u001b[0m \u001b[0;34m\u001b[0m\u001b[0m\n\u001b[0;32m---> 13\u001b[0;31m \u001b[0;32mfrom\u001b[0m \u001b[0;34m.\u001b[0m\u001b[0maes\u001b[0m \u001b[0;32mimport\u001b[0m \u001b[0maes\u001b[0m\u001b[0;34m\u001b[0m\u001b[0;34m\u001b[0m\u001b[0m\n\u001b[0m\u001b[1;32m     14\u001b[0m \u001b[0;32mfrom\u001b[0m \u001b[0;34m.\u001b[0m\u001b[0mlegend\u001b[0m \u001b[0;32mimport\u001b[0m \u001b[0mmake_legend\u001b[0m\u001b[0;34m\u001b[0m\u001b[0;34m\u001b[0m\u001b[0m\n\u001b[1;32m     15\u001b[0m \u001b[0;32mfrom\u001b[0m \u001b[0;34m.\u001b[0m\u001b[0mthemes\u001b[0m \u001b[0;32mimport\u001b[0m \u001b[0mtheme_gray\u001b[0m\u001b[0;34m\u001b[0m\u001b[0;34m\u001b[0m\u001b[0m\n",
      "\u001b[0;32m~/opt/anaconda3/lib/python3.8/site-packages/ggplot/aes.py\u001b[0m in \u001b[0;36m<module>\u001b[0;34m\u001b[0m\n\u001b[1;32m      9\u001b[0m \u001b[0;32mfrom\u001b[0m \u001b[0mpatsy\u001b[0m\u001b[0;34m.\u001b[0m\u001b[0meval\u001b[0m \u001b[0;32mimport\u001b[0m \u001b[0mEvalEnvironment\u001b[0m\u001b[0;34m\u001b[0m\u001b[0;34m\u001b[0m\u001b[0m\n\u001b[1;32m     10\u001b[0m \u001b[0;34m\u001b[0m\u001b[0m\n\u001b[0;32m---> 11\u001b[0;31m \u001b[0;32mfrom\u001b[0m \u001b[0;34m.\u001b[0m \u001b[0;32mimport\u001b[0m \u001b[0mutils\u001b[0m\u001b[0;34m\u001b[0m\u001b[0;34m\u001b[0m\u001b[0m\n\u001b[0m\u001b[1;32m     12\u001b[0m \u001b[0;34m\u001b[0m\u001b[0m\n\u001b[1;32m     13\u001b[0m \u001b[0;32mimport\u001b[0m \u001b[0mnumpy\u001b[0m \u001b[0;32mas\u001b[0m \u001b[0mnp\u001b[0m\u001b[0;34m\u001b[0m\u001b[0;34m\u001b[0m\u001b[0m\n",
      "\u001b[0;32m~/opt/anaconda3/lib/python3.8/site-packages/ggplot/utils.py\u001b[0m in \u001b[0;36m<module>\u001b[0;34m\u001b[0m\n\u001b[1;32m     79\u001b[0m \u001b[0;34m\u001b[0m\u001b[0m\n\u001b[1;32m     80\u001b[0m date_types = (\n\u001b[0;32m---> 81\u001b[0;31m     \u001b[0mpd\u001b[0m\u001b[0;34m.\u001b[0m\u001b[0mtslib\u001b[0m\u001b[0;34m.\u001b[0m\u001b[0mTimestamp\u001b[0m\u001b[0;34m,\u001b[0m\u001b[0;34m\u001b[0m\u001b[0;34m\u001b[0m\u001b[0m\n\u001b[0m\u001b[1;32m     82\u001b[0m     \u001b[0mpd\u001b[0m\u001b[0;34m.\u001b[0m\u001b[0mDatetimeIndex\u001b[0m\u001b[0;34m,\u001b[0m\u001b[0;34m\u001b[0m\u001b[0;34m\u001b[0m\u001b[0m\n\u001b[1;32m     83\u001b[0m     \u001b[0mpd\u001b[0m\u001b[0;34m.\u001b[0m\u001b[0mPeriod\u001b[0m\u001b[0;34m,\u001b[0m\u001b[0;34m\u001b[0m\u001b[0;34m\u001b[0m\u001b[0m\n",
      "\u001b[0;32m~/opt/anaconda3/lib/python3.8/site-packages/pandas/__init__.py\u001b[0m in \u001b[0;36m__getattr__\u001b[0;34m(name)\u001b[0m\n\u001b[1;32m    262\u001b[0m         \u001b[0;32mreturn\u001b[0m \u001b[0m_SparseArray\u001b[0m\u001b[0;34m\u001b[0m\u001b[0;34m\u001b[0m\u001b[0m\n\u001b[1;32m    263\u001b[0m \u001b[0;34m\u001b[0m\u001b[0m\n\u001b[0;32m--> 264\u001b[0;31m     \u001b[0;32mraise\u001b[0m \u001b[0mAttributeError\u001b[0m\u001b[0;34m(\u001b[0m\u001b[0;34mf\"module 'pandas' has no attribute '{name}'\"\u001b[0m\u001b[0;34m)\u001b[0m\u001b[0;34m\u001b[0m\u001b[0;34m\u001b[0m\u001b[0m\n\u001b[0m\u001b[1;32m    265\u001b[0m \u001b[0;34m\u001b[0m\u001b[0m\n\u001b[1;32m    266\u001b[0m \u001b[0;34m\u001b[0m\u001b[0m\n",
      "\u001b[0;31mAttributeError\u001b[0m: module 'pandas' has no attribute 'tslib'"
     ]
    }
   ],
   "source": [
    "# Code to construct the barchart\n",
    "from ggplot import *\n",
    "##i have been trying to figure out a work around for this error and I have not come to a conclusion"
   ]
  },
  {
   "cell_type": "code",
   "execution_count": 31,
   "metadata": {},
   "outputs": [
    {
     "data": {
      "image/png": "[encoded data removed]",
      "text/plain": [
       "<Figure size 640x480 with 1 Axes>"
      ]
     },
     "metadata": {},
     "output_type": "display_data"
    },
    {
     "name": "stdout",
     "output_type": "stream",
     "text": [
      "\n"
     ]
    }
   ],
   "source": [
    "p = ggplot(df, aes(x='playlist_subgenre', fill='track_popularity')) + \\\n",
    "    geom_bar(position='fill') + \\\n",
    "    coord_flip()\n",
    "print(p)"
   ]
  },
  {
   "cell_type": "markdown",
   "metadata": {
    "id": "hG4NT8m-QrOX"
   },
   "source": [
    "Which category of playlist_subgenre is more likely to gain popularity?"
   ]
  },
  {
   "cell_type": "markdown",
   "metadata": {
    "id": "2Wf96QToQrOX"
   },
   "source": [
    "As indicated above, post-teen pop is the subgenre to gain popularity"
   ]
  },
  {
   "cell_type": "markdown",
   "metadata": {
    "id": "qaSULCSLQrOX"
   },
   "source": [
    "_____________"
   ]
  },
  {
   "cell_type": "markdown",
   "metadata": {
    "id": "cEyHXZNTQrOY"
   },
   "source": [
    "### Question 2: /10pts\n",
    "\n",
    "\n",
    "Now, you will create boxplots with x axis set to `playlist_genre` and y axis set to `instrumentalness` and color option set to `track_popularity`. Make sure to change the y axis scale into log10 scale for a better representation."
   ]
  },
  {
   "cell_type": "code",
   "execution_count": 32,
   "metadata": {
    "id": "Z2zMeeG1QrOY"
   },
   "outputs": [
    {
     "name": "stderr",
     "output_type": "stream",
     "text": [
      "/Users/oren/opt/anaconda3/lib/python3.8/site-packages/pandas/core/arraylike.py:402: RuntimeWarning: divide by zero encountered in log10\n",
      "/Users/oren/opt/anaconda3/lib/python3.8/site-packages/plotnine/layer.py:333: PlotnineWarning: stat_boxplot : Removed 11500 rows containing non-finite values.\n"
     ]
    },
    {
     "data": {
      "image/png": "[encoded data removed]",
      "text/plain": [
       "<Figure size 640x480 with 1 Axes>"
      ]
     },
     "metadata": {},
     "output_type": "display_data"
    },
    {
     "data": {
      "text/plain": [
       "<ggplot: (8775093037770)>"
      ]
     },
     "execution_count": 32,
     "metadata": {},
     "output_type": "execute_result"
    }
   ],
   "source": [
    "## Your code\n",
    "df['instrumentalness_log10'] = np.log10(df['instrumentalness'])\n",
    "(ggplot(df, aes(x='playlist_genre', y='instrumentalness_log10', fill='track_popularity'))\n",
    " + geom_boxplot()\n",
    " + labs(x='Playlist Genre', y='Log10 of Instrumentalness', fill='Track Popularity')) #for labels"
   ]
  },
  {
   "cell_type": "code",
   "execution_count": 33,
   "metadata": {},
   "outputs": [
    {
     "name": "stderr",
     "output_type": "stream",
     "text": [
      "/Users/oren/opt/anaconda3/lib/python3.8/site-packages/pandas/core/arraylike.py:402: RuntimeWarning: divide by zero encountered in log10\n",
      "/Users/oren/opt/anaconda3/lib/python3.8/site-packages/plotnine/layer.py:333: PlotnineWarning: stat_boxplot : Removed 11500 rows containing non-finite values.\n"
     ]
    },
    {
     "data": {
      "image/png": "[encoded data removed]",
      "text/plain": [
       "<Figure size 640x480 with 1 Axes>"
      ]
     },
     "metadata": {},
     "output_type": "display_data"
    },
    {
     "data": {
      "text/plain": [
       "<ggplot: (8775099183306)>"
      ]
     },
     "execution_count": 33,
     "metadata": {},
     "output_type": "execute_result"
    }
   ],
   "source": [
    "## Your code\n",
    "df['instrumentalness_log10'] = np.log10(df['instrumentalness'])\n",
    "(ggplot(df, aes(x='playlist_genre', y='instrumentalness_log10'))\n",
    " + geom_boxplot()\n",
    " + labs(x='Playlist Genre', y='Log10 of Instrumentalness')) #for labels"
   ]
  },
  {
   "cell_type": "markdown",
   "metadata": {
    "id": "xjGqsJkHQrOY"
   },
   "source": [
    "With track_popularity taken into account, does instrumentalness score differ within some of playlist genres?"
   ]
  },
  {
   "cell_type": "markdown",
   "metadata": {
    "id": "2kNAFum8QrOY"
   },
   "source": [
    "it is apparent that usually a track with higher popularity has a higher instrumentalness score"
   ]
  },
  {
   "cell_type": "markdown",
   "metadata": {
    "id": "xlUWhfmKQrOb"
   },
   "source": [
    "___________"
   ]
  },
  {
   "cell_type": "markdown",
   "metadata": {
    "id": "GMFFFTPgQrOb"
   },
   "source": [
    "### Question 3: /10\n",
    "\n",
    "Create a basic logistic regression model (with default penalization) named `model1`. You need to create a model pipeline to be fit later. (Use `solver='lbfgs'`, `max_iter=10000` and `random_state=0`)"
   ]
  },
  {
   "cell_type": "markdown",
   "metadata": {
    "id": "fxX8D0D5QrOc"
   },
   "source": [
    "The predictor variables are `mode`, and `loudness`. Use the following chunk of code. You will use `Data1` to build your model."
   ]
  },
  {
   "cell_type": "code",
   "execution_count": 34,
   "metadata": {
    "id": "VJ7YxoTHQrOc"
   },
   "outputs": [],
   "source": [
    "# Your code\n",
    "\n",
    "Data1 = df[['track_popularity', 'mode', 'loudness']] \n",
    "Data1 = pd.get_dummies(Data1, drop_first=True) \n",
    "Data1 = Data1.rename({'track_popularity_low': 'track_popularity'}, axis='columns') \n",
    "Data1.head()\n",
    "\n",
    "model1 = Pipeline([\n",
    "    ('scaler', StandardScaler()),\n",
    "    ('logreg', LogisticRegression(solver='lbfgs', max_iter=10000, random_state=0))\n",
    "])\n"
   ]
  },
  {
   "cell_type": "markdown",
   "metadata": {
    "id": "r3p7WxjCQrOd"
   },
   "source": [
    "Now that you have created the pipeline, fit `model1` for predicting the target variable, track_popularity, with the two predictors. Use a 70/30 train-test split of the data, remember to set `random_state=0` in the function `train_test_split`. After that, evaluate this model plotting the ROC curve and reporting the AUC value. "
   ]
  },
  {
   "cell_type": "code",
   "execution_count": 35,
   "metadata": {
    "id": "Xsfeb7TJQrOd"
   },
   "outputs": [
    {
     "data": {
      "text/plain": [
       "Pipeline(steps=[('scaler', StandardScaler()),\n",
       "                ('logreg', LogisticRegression(max_iter=10000, random_state=0))])"
      ]
     },
     "execution_count": 35,
     "metadata": {},
     "output_type": "execute_result"
    }
   ],
   "source": [
    "# np.random.seed(0);np.random.rand(5)\n",
    "# Create the training and test data\n",
    "X = Data1.drop('track_popularity', axis='columns').values \n",
    "y = Data1.track_popularity.values \n",
    "\n",
    "Xtrain, Xtest, ytrain, ytest = train_test_split(X, y, test_size=0.3, random_state=0)\n",
    "\n",
    "#Fit the model\n",
    "model1.fit(Xtrain, ytrain)"
   ]
  },
  {
   "cell_type": "code",
   "execution_count": 36,
   "metadata": {
    "id": "_WUH81AmQrOd"
   },
   "outputs": [
    {
     "name": "stdout",
     "output_type": "stream",
     "text": [
      "0.566\n"
     ]
    },
    {
     "data": {
      "image/png": "[encoded data removed]",
      "text/plain": [
       "<Figure size 432x288 with 1 Axes>"
      ]
     },
     "metadata": {
      "needs_background": "light"
     },
     "output_type": "display_data"
    }
   ],
   "source": [
    "# Create the ROC curve and report AUC\n",
    "y_pred_prob_ = model1.predict_proba(Xtest)[:, 1]\n",
    "\n",
    "fpr1, tpr1, _ = roc_curve(ytest, y_pred_prob_) \n",
    "fpr, tpr, thresholds = roc_curve(ytest, y_pred_prob_)\n",
    "\n",
    "ax = sns.lineplot(x=fpr1,y=tpr1)\n",
    "\n",
    "ax.set_xlabel(\"FP Rate\")\n",
    "ax.set_ylabel(\"TP Rate\")\n",
    "\n",
    "print(auc(fpr1,tpr1).round(3))"
   ]
  },
  {
   "cell_type": "markdown",
   "metadata": {
    "id": "z5AtryUjQrOd"
   },
   "source": [
    "At this point, would you use the baseline model as your final model? Why or why not?"
   ]
  },
  {
   "cell_type": "markdown",
   "metadata": {
    "id": "PMwV6zYIQrOe"
   },
   "source": [
    "above is not a good classifier, as the auc is close to 0, and the roc is pretty linear with no clear ability to distinguish between classes well."
   ]
  },
  {
   "cell_type": "markdown",
   "metadata": {
    "id": "_4H1s8aXQrOe"
   },
   "source": [
    "____________"
   ]
  },
  {
   "cell_type": "markdown",
   "metadata": {
    "id": "RNfdL2r1QrOe"
   },
   "source": [
    "### Question 4: /40\n",
    "\n",
    "Here, we want to determine the best single numeric feature model to predict the track_popularity. To be specific, you are going to create a model per each predictor: 'danceability', 'energy', 'key', 'loudness', 'speechiness', 'acousticness', 'instrumentalness', 'liveness', 'valence', 'tempo', 'duration_m'. Make sure to use the cross-validation technique to make your decision. Please make sure to use 'pd.get_dummies(, drop_first=True)' to encode the target variable, and change the column name 'track_popularity_low' to 'track_popularity', as in previous question."
   ]
  },
  {
   "cell_type": "markdown",
   "metadata": {
    "id": "bXVfpsoPQrOe"
   },
   "source": [
    "You remember that *cross-validation* technique is used to find the expected test error of the models. In addition, in the next code, 5 different folds are displayed using 5 fold cross-validation. In this case it is used `StratifiedKFold()` function."
   ]
  },
  {
   "cell_type": "markdown",
   "metadata": {
    "id": "DhFdgljUQrOe"
   },
   "source": [
    "#### 4.1: /5\n",
    "**Define a function `AUC_calculation` with inputs `(X, y, index_train, index_test)`  which calculates the AUC of the `model1` trained on `index_train` and tested on `index_test`.**"
   ]
  },
  {
   "cell_type": "code",
   "execution_count": 37,
   "metadata": {
    "id": "bewwPK00QrOf"
   },
   "outputs": [],
   "source": [
    "# Your code\n",
    "def AUC_calculation(X, y, index_train, index_test):\n",
    "    Xtrain, ytrain = X.iloc[index_train], y.iloc[index_train]\n",
    "    Xtest, ytest = X.iloc[index_test], y.iloc[index_test]\n",
    "    \n",
    "    model1.fit(Xtrain,ytrain)\n",
    "    \n",
    "    y_pred_prob_ = model1.predict_proba(Xtest)[:, 1]\n",
    "\n",
    "    fpr1, tpr1, _ = roc_curve(ytest, y_pred_prob_) \n",
    "    fpr, tpr, thresholds = roc_curve(ytest, y_pred_prob_)\n",
    "    \n",
    "    roc_auc = auc(fpr1,tpr1).round(3)\n",
    "    \n",
    "    return roc_auc\n",
    "    "
   ]
  },
  {
   "cell_type": "markdown",
   "metadata": {
    "id": "swFFeY9JQrOf"
   },
   "source": [
    "#### 4.2: /8\n",
    "**Using `AUC_calculation` create a function named `AUC_cross_validation` which has as input (X, y, n_fold). `AUC_cross_validation` does a `n_fold` cross validation (using `StratifiedKFold`) and its output should be a list with the AUC for each fold.** "
   ]
  },
  {
   "cell_type": "code",
   "execution_count": 38,
   "metadata": {
    "id": "90HeM0BBQrOf"
   },
   "outputs": [],
   "source": [
    "# Your code\n",
    "def AUC_cross_validation(X,y,n_fold):\n",
    "    str_kf = StratifiedKFold(n_splits=n_fold) \n",
    "    auc_lst = []\n",
    "    for j, (index_train, index_test) in enumerate(str_kf.split(X,y)):\n",
    "        roc_auc = AUC_calculation(X, y, index_train, index_test)\n",
    "        auc_lst.append(roc_auc)\n",
    "#str_kf = StratifiedKFold(n_splits=5) for j, (index_train, index_test) in enumerate(str_kf.split(X,y)):\n",
    " ##enumerate has the index and the elements in the folds\n",
    " ##print(k, (index_train, index_test))\n",
    "#plt.plot(index_train, [j+1 for s in index_train], '.')\n",
    "#plt.title('Cross Validation ')\n",
    "    return auc_lst"
   ]
  },
  {
   "cell_type": "markdown",
   "metadata": {
    "id": "JYOq26FRQrOf"
   },
   "source": [
    "#### 4.3: /5\n",
    "**Now you are ready to estimate and compare through cross validation the performance of all the *simple models* that only use one numeric predictor as input. Prepare you dataset here!**"
   ]
  },
  {
   "cell_type": "code",
   "execution_count": 39,
   "metadata": {
    "id": "8biTXRo5QrOf"
   },
   "outputs": [
    {
     "data": {
      "text/html": [
       "<div>\n",
       "<style scoped>\n",
       "    .dataframe tbody tr th:only-of-type {\n",
       "        vertical-align: middle;\n",
       "    }\n",
       "\n",
       "    .dataframe tbody tr th {\n",
       "        vertical-align: top;\n",
       "    }\n",
       "\n",
       "    .dataframe thead th {\n",
       "        text-align: right;\n",
       "    }\n",
       "</style>\n",
       "<table border=\"1\" class=\"dataframe\">\n",
       "  <thead>\n",
       "    <tr style=\"text-align: right;\">\n",
       "      <th></th>\n",
       "      <th>danceability</th>\n",
       "      <th>energy</th>\n",
       "      <th>key</th>\n",
       "      <th>loudness</th>\n",
       "      <th>speechiness</th>\n",
       "      <th>acousticness</th>\n",
       "      <th>instrumentalness</th>\n",
       "      <th>liveness</th>\n",
       "      <th>valence</th>\n",
       "      <th>tempo</th>\n",
       "      <th>duration_m</th>\n",
       "      <th>track_popularity</th>\n",
       "    </tr>\n",
       "  </thead>\n",
       "  <tbody>\n",
       "    <tr>\n",
       "      <th>0</th>\n",
       "      <td>0.748</td>\n",
       "      <td>0.916</td>\n",
       "      <td>6</td>\n",
       "      <td>-2.634</td>\n",
       "      <td>0.0583</td>\n",
       "      <td>0.1020</td>\n",
       "      <td>0.000000</td>\n",
       "      <td>0.0653</td>\n",
       "      <td>0.518</td>\n",
       "      <td>122.036</td>\n",
       "      <td>3.245900</td>\n",
       "      <td>1</td>\n",
       "    </tr>\n",
       "    <tr>\n",
       "      <th>1</th>\n",
       "      <td>0.726</td>\n",
       "      <td>0.815</td>\n",
       "      <td>11</td>\n",
       "      <td>-4.969</td>\n",
       "      <td>0.0373</td>\n",
       "      <td>0.0724</td>\n",
       "      <td>0.004210</td>\n",
       "      <td>0.3570</td>\n",
       "      <td>0.693</td>\n",
       "      <td>99.972</td>\n",
       "      <td>2.710000</td>\n",
       "      <td>1</td>\n",
       "    </tr>\n",
       "    <tr>\n",
       "      <th>2</th>\n",
       "      <td>0.675</td>\n",
       "      <td>0.931</td>\n",
       "      <td>1</td>\n",
       "      <td>-3.432</td>\n",
       "      <td>0.0742</td>\n",
       "      <td>0.0794</td>\n",
       "      <td>0.000023</td>\n",
       "      <td>0.1100</td>\n",
       "      <td>0.613</td>\n",
       "      <td>124.008</td>\n",
       "      <td>2.943600</td>\n",
       "      <td>0</td>\n",
       "    </tr>\n",
       "    <tr>\n",
       "      <th>3</th>\n",
       "      <td>0.718</td>\n",
       "      <td>0.930</td>\n",
       "      <td>7</td>\n",
       "      <td>-3.778</td>\n",
       "      <td>0.1020</td>\n",
       "      <td>0.0287</td>\n",
       "      <td>0.000009</td>\n",
       "      <td>0.2040</td>\n",
       "      <td>0.277</td>\n",
       "      <td>121.956</td>\n",
       "      <td>2.818217</td>\n",
       "      <td>1</td>\n",
       "    </tr>\n",
       "    <tr>\n",
       "      <th>4</th>\n",
       "      <td>0.650</td>\n",
       "      <td>0.833</td>\n",
       "      <td>1</td>\n",
       "      <td>-4.672</td>\n",
       "      <td>0.0359</td>\n",
       "      <td>0.0803</td>\n",
       "      <td>0.000000</td>\n",
       "      <td>0.0833</td>\n",
       "      <td>0.725</td>\n",
       "      <td>123.976</td>\n",
       "      <td>3.150867</td>\n",
       "      <td>1</td>\n",
       "    </tr>\n",
       "  </tbody>\n",
       "</table>\n",
       "</div>"
      ],
      "text/plain": [
       "   danceability  energy  key  loudness  speechiness  acousticness  \\\n",
       "0         0.748   0.916    6    -2.634       0.0583        0.1020   \n",
       "1         0.726   0.815   11    -4.969       0.0373        0.0724   \n",
       "2         0.675   0.931    1    -3.432       0.0742        0.0794   \n",
       "3         0.718   0.930    7    -3.778       0.1020        0.0287   \n",
       "4         0.650   0.833    1    -4.672       0.0359        0.0803   \n",
       "\n",
       "   instrumentalness  liveness  valence    tempo  duration_m  track_popularity  \n",
       "0          0.000000    0.0653    0.518  122.036    3.245900                 1  \n",
       "1          0.004210    0.3570    0.693   99.972    2.710000                 1  \n",
       "2          0.000023    0.1100    0.613  124.008    2.943600                 0  \n",
       "3          0.000009    0.2040    0.277  121.956    2.818217                 1  \n",
       "4          0.000000    0.0833    0.725  123.976    3.150867                 1  "
      ]
     },
     "execution_count": 39,
     "metadata": {},
     "output_type": "execute_result"
    }
   ],
   "source": [
    "# Your code\n",
    "predictors = ['track_popularity','danceability', 'energy', 'key', \n",
    "            'loudness', 'speechiness', 'acousticness', \n",
    "            'instrumentalness', 'liveness', 'valence', \n",
    "            'tempo', 'duration_m']\n",
    "\n",
    "\n",
    "D = df[predictors]\n",
    "D = pd.get_dummies(D, drop_first=True) \n",
    "D = D.rename({'track_popularity_low': 'track_popularity'}, axis='columns') \n",
    "\n",
    "all_numeric_data = D[predictors].drop('track_popularity', axis='columns') \n",
    "\n",
    "D.head()"
   ]
  },
  {
   "cell_type": "markdown",
   "metadata": {
    "id": "gV9fTCLGQrOg"
   },
   "source": [
    "#### 4.4: /8\n",
    "\n",
    "**Use your function `AUC_cross_validation` to compute cross-validation estimates of the AUC for each single numeric feature model, use a data frame (named `AUC_models`) to report the AUC value for each fold and each of the models. (Use `n_fold=10`).**\n",
    "\n",
    "**The column names of `AUC_models` have to be in the form `Simple-numeric predictor variable`, e.g., `simple-tempo`.**"
   ]
  },
  {
   "cell_type": "code",
   "execution_count": 40,
   "metadata": {
    "id": "GGFsF5d8QrOg"
   },
   "outputs": [],
   "source": [
    "# Construct AUC_models dataframe\n",
    "AUC_models = pd.DataFrame(columns=['Fold'] + ['Simple-' + p for p in all_numeric_data])\n",
    "\n",
    "for p in all_numeric_data:\n",
    "    X = D[[p]]\n",
    "    y = D['track_popularity']\n",
    "    auc_lst = AUC_cross_validation(X, y, n_fold=10)\n",
    "    AUC_models[f'Simple-{p}'] = auc_lst\n",
    "# add the fold numbers to the AUC_models dataframe\n",
    "AUC_models['Fold'] = [f'Fold-{i}' for i in range(1, 11)]"
   ]
  },
  {
   "cell_type": "code",
   "execution_count": 41,
   "metadata": {
    "id": "idnPJrUjQrOg"
   },
   "outputs": [
    {
     "name": "stdout",
     "output_type": "stream",
     "text": [
      "      Fold  Simple-danceability  Simple-energy  Simple-key  Simple-loudness  \\\n",
      "0   Fold-1                0.556          0.607       0.482            0.553   \n",
      "1   Fold-2                0.487          0.358       0.530            0.710   \n",
      "2   Fold-3                0.465          0.579       0.517            0.529   \n",
      "3   Fold-4                0.751          0.554       0.458            0.625   \n",
      "4   Fold-5                0.470          0.569       0.527            0.436   \n",
      "5   Fold-6                0.459          0.553       0.515            0.586   \n",
      "6   Fold-7                0.644          0.395       0.488            0.745   \n",
      "7   Fold-8                0.528          0.447       0.513            0.691   \n",
      "8   Fold-9                0.580          0.867       0.518            0.338   \n",
      "9  Fold-10                0.542          0.674       0.495            0.468   \n",
      "\n",
      "   Simple-speechiness  Simple-acousticness  Simple-instrumentalness  \\\n",
      "0               0.459                0.597                    0.632   \n",
      "1               0.418                0.371                    0.664   \n",
      "2               0.292                0.556                    0.487   \n",
      "3               0.259                0.495                    0.658   \n",
      "4               0.432                0.566                    0.497   \n",
      "5               0.501                0.502                    0.585   \n",
      "6               0.546                0.518                    0.560   \n",
      "7               0.451                0.511                    0.691   \n",
      "8               0.458                0.800                    0.849   \n",
      "9               0.512                0.706                    0.710   \n",
      "\n",
      "   Simple-liveness  Simple-valence  Simple-tempo  Simple-duration_m  \n",
      "0            0.522           0.496         0.555              0.565  \n",
      "1            0.513           0.563         0.461              0.399  \n",
      "2            0.552           0.437         0.438              0.611  \n",
      "3            0.502           0.513         0.528              0.569  \n",
      "4            0.523           0.552         0.513              0.388  \n",
      "5            0.511           0.462         0.495              0.513  \n",
      "6            0.530           0.618         0.497              0.543  \n",
      "7            0.520           0.453         0.423              0.684  \n",
      "8            0.574           0.633         0.328              0.466  \n",
      "9            0.501           0.630         0.366              0.588  \n"
     ]
    }
   ],
   "source": [
    "# Print AUC_models dataframe \n",
    "print(AUC_models)"
   ]
  },
  {
   "cell_type": "markdown",
   "metadata": {
    "id": "0mfBTLfnQrOh"
   },
   "source": [
    "#### 4.5: /7\n",
    "\n",
    "**Decide which of the studied models has the best and the worst performance, using a boxplot (without presenting outliers) that shows the distribution of the previous AUC scores for every model.** (Do not forget labels!)"
   ]
  },
  {
   "cell_type": "code",
   "execution_count": 42,
   "metadata": {},
   "outputs": [
    {
     "data": {
      "image/png": "[encoded data removed]",
      "text/plain": [
       "<Figure size 1800x576 with 1 Axes>"
      ]
     },
     "metadata": {
      "needs_background": "light"
     },
     "output_type": "display_data"
    }
   ],
   "source": [
    "AUC_nofold = AUC_models.drop('Fold', axis='columns') \n",
    "AUC_nofold.plot(kind=\"box\", figsize = (25, 8), showfliers=False)\n",
    "plt.xlabel('Models')\n",
    "plt.ylabel('AUC') \n",
    "plt.show()"
   ]
  },
  {
   "cell_type": "markdown",
   "metadata": {
    "id": "PiuIHM2OQrOh"
   },
   "source": [
    "It appears that instrumentalness is the model with the best performance as it seems to have the highest median and the range starts and ends the highest. The model that seems to have the worst performance is either speechiness or tempo, as they both have small AUC."
   ]
  },
  {
   "cell_type": "markdown",
   "metadata": {
    "id": "8Rze33nJQrOh"
   },
   "source": [
    "#### 4.6: /7\n",
    "**Now, lets compare these models with the one including all the numeric variables** \n",
    "\n",
    "**You again will use  10-fold cross-validation to determine if this new model has better performance, and at the end, you want to plot the boxplots with the information of this new model.**  "
   ]
  },
  {
   "cell_type": "code",
   "execution_count": 43,
   "metadata": {
    "id": "MHGVcfPKQrOh",
    "scrolled": true
   },
   "outputs": [
    {
     "data": {
      "image/png": "[encoded data removed]",
      "text/plain": [
       "<Figure size 2160x720 with 1 Axes>"
      ]
     },
     "metadata": {
      "needs_background": "light"
     },
     "output_type": "display_data"
    }
   ],
   "source": [
    "# Your code\n",
    "X = all_numeric_data\n",
    "y = D['track_popularity']\n",
    "\n",
    "All_num_AUC_model = pd.DataFrame(columns=['Fold'] + ['Simple-All_Numerical'])\n",
    "\n",
    "all_numeric_lst = AUC_cross_validation(X, y, n_fold=10)\n",
    "All_num_AUC_model['Simple-All_Numerical'] = all_numeric_lst\n",
    "All_num_AUC_model['Fold'] = [f'Fold-{i}' for i in range(1, 11)]\n",
    "\n",
    "All_num_AUC_nofold = All_num_AUC_model.drop('Fold', axis='columns')\n",
    "all_models = AUC_nofold.copy()\n",
    "all_models['Simple-All_Numerical'] = All_num_AUC_nofold.values\n",
    "\n",
    "all_models.plot(kind=\"box\", figsize = (30, 10), showfliers=False)\n",
    "plt.xlabel('Models')\n",
    "plt.ylabel('AUC') \n",
    "plt.show()"
   ]
  },
  {
   "cell_type": "code",
   "execution_count": null,
   "metadata": {},
   "outputs": [],
   "source": [
    "#or\n",
    "Xall_final, yall_final = Data1.drop(['track_popularity'], axis=1), Data1.track_popularity\n",
    "list_auc_all = AUC_cross_validation(Xall_final, yall_final, n_fold=10)\n",
    "AUC_models['All_numeric']=list_auc_all\n",
    "# Print the new data frame \n",
    "AUC_models\n",
    "# Plot the boxplots\n",
    "plt.figure(figsize=(15,9))\n",
    "boxplots = AUC_models[AUC_models.mean().sort_values().index]\n",
    "sns.boxplot(x='variable', y='value', data=pd.melt(boxplots), showfliers=False)\n",
    "plt.xticks(rotation=90)\n",
    "plt.xlabel('Simple models with only one numeric variable as predictor')\n",
    "plt.ylabel('AUC')"
   ]
  },
  {
   "cell_type": "markdown",
   "metadata": {
    "id": "Pn8cPzsiQrOi"
   },
   "source": [
    "_____________"
   ]
  },
  {
   "cell_type": "markdown",
   "metadata": {
    "id": "KEK9WRo5QrOi"
   },
   "source": [
    "### Question 5: /10\n",
    "\n",
    "Finally, you are going to include all the numeric predictors as well as the categorical variable `mode` in the model. Make sure to encode the categorical variable. Use the 10-fold cross-validation to evaluate the performance of this model. Print the AUC mean for all the models (including previous models) in ascending order."
   ]
  },
  {
   "cell_type": "code",
   "execution_count": 45,
   "metadata": {
    "scrolled": true
   },
   "outputs": [
    {
     "name": "stdout",
     "output_type": "stream",
     "text": [
      "('Simple-speechiness', 0.4328)\n",
      "('Simple-tempo', 0.4604)\n",
      "('Simple-key', 0.5043)\n",
      "('Simple-liveness', 0.5248)\n",
      "('Simple-duration_m', 0.5326)\n",
      "('Simple-valence', 0.5357)\n",
      "('Simple-danceability', 0.5482)\n",
      "('Simple-energy', 0.5603)\n",
      "('Simple-acousticness', 0.5622)\n",
      "('Simple-loudness', 0.5681)\n",
      "('Simple-instrumentalness', 0.6333)\n",
      "('Simple-with_mode', 0.6603)\n",
      "('Simple-All_Numerical', 0.6608)\n"
     ]
    }
   ],
   "source": [
    "# Your code\n",
    "new_data = df[predictors+[\"mode\"]]\n",
    "new_preds = new_data.drop('track_popularity', axis='columns') \n",
    "\n",
    "Data = pd.get_dummies(new_preds, drop_first=True) \n",
    "Data.head()\n",
    "\n",
    "mode_AUC_model = pd.DataFrame(columns=['Fold'] + ['Simple-with_mode'])\n",
    "\n",
    "X = Data\n",
    "y = D['track_popularity']\n",
    "\n",
    "mode_numeric_lst = AUC_cross_validation(X, y, n_fold=10)\n",
    "mode_AUC_model['Simple-with_mode'] = mode_numeric_lst\n",
    "mode_AUC_model['Fold'] = [f'Fold-{i}' for i in range(1, 11)]\n",
    "\n",
    "\n",
    "complete_all_models = all_models.copy()\n",
    "complete_all_models['Simple-with_mode'] = mode_AUC_model['Simple-with_mode'].values\n",
    "# complete_all_models\n",
    "mean_dct = {}\n",
    "for col in complete_all_models:\n",
    "    mean = np.mean(complete_all_models[col].values).round(4)\n",
    "    mean_dct[col] = mean\n",
    "    \n",
    "ascending_mean_list = sorted(mean_dct.items(), key=lambda x:x[1])\n",
    "for i in ascending_mean_list:\n",
    "    print(i)\n"
   ]
  },
  {
   "cell_type": "code",
   "execution_count": 2,
   "metadata": {},
   "outputs": [],
   "source": [
    "#or\n",
    "AUC_models.mean(axis=0).sort_values()"
   ]
  },
  {
   "cell_type": "markdown",
   "metadata": {
    "id": "Uq-8d5KKQrOj"
   },
   "source": [
    "Which of the above models is the best model? Why? "
   ]
  },
  {
   "cell_type": "markdown",
   "metadata": {
    "id": "-lMD3NrZQrOj"
   },
   "source": [
    "The best model seems the be the simple-All_numerical model that contains the original 11 strictly numerical values, as it has the largest area under curve"
   ]
  },
  {
   "cell_type": "markdown",
   "metadata": {
    "id": "pyW6s0nGQrOj"
   },
   "source": [
    "______________"
   ]
  },
  {
   "cell_type": "markdown",
   "metadata": {
    "id": "B-o4HnvCQrOk"
   },
   "source": [
    "### Question 6: /15pts\n",
    "\n",
    "Now it is time to train it on all the training data. Estimate the performance of this model on the test data and do the following (For this, use a 70/30 train-test split of the data, remember to set `random_state=0` in the function `train_test_split` ): \n",
    "\n",
    "- Use boostrap technique to find the 95% CI for the AUC. \n",
    "- Plot the distribution of the boostrap AUC scores."
   ]
  },
  {
   "cell_type": "code",
   "execution_count": 66,
   "metadata": {},
   "outputs": [],
   "source": [
    "def bootstrap(ytest, ypred, num_rounds=1000):\n",
    "    aucs = []\n",
    "    for i in range(num_rounds):\n",
    "        idx = np.random.choice(range(len(ytest)), size=len(ytest), replace=True)\n",
    "        aucs.append(roc_auc_score(ytest.iloc[idx], ypred[idx]))\n",
    "    return aucs"
   ]
  },
  {
   "cell_type": "code",
   "execution_count": 67,
   "metadata": {
    "id": "B-Zb6SFDQrOk"
   },
   "outputs": [
    {
     "name": "stdout",
     "output_type": "stream",
     "text": [
      "The AUC score on the test set is:  0.69515\n"
     ]
    }
   ],
   "source": [
    "# Your code\n",
    "X = all_numeric_data\n",
    "y = D['track_popularity']\n",
    "\n",
    "#split the data into train and test set\n",
    "Xtrain, Xtest, ytrain, ytest = train_test_split(X, y, test_size=0.3, random_state=0)\n",
    "\n",
    "#Use earlier model to fit\n",
    "model1.fit(Xtrain, ytrain)\n",
    "\n",
    "#predict the probabilities for the test set\n",
    "y_test_pred = model1.predict_proba(Xtest)[:, 1]\n",
    "\n",
    "#AUC score on test set\n",
    "auc_score = roc_auc_score(ytest, y_test_pred)\n",
    "\n",
    "print(\"The AUC score on the test set is: \", auc_score.round(5))\n"
   ]
  },
  {
   "cell_type": "code",
   "execution_count": 100,
   "metadata": {},
   "outputs": [
    {
     "name": "stdout",
     "output_type": "stream",
     "text": [
      "95% CI for AUC is from 0.68087 to 0.70896\n"
     ]
    }
   ],
   "source": [
    "# Call Bootstrap \n",
    "auclsts = bootstrap(ytest, y_test_pred)\n",
    "\n",
    "#Bootstrap with CI of 95%, so low is 2.5, high is 97.5\n",
    "ci_lower = np.percentile(auclsts,2.5)\n",
    "ci_upper = np.percentile(auclsts,97.5)\n",
    "print(\"95% CI for AUC is from {} to {}\".format(ci_lower.round(5), ci_upper.round(5)))"
   ]
  },
  {
   "cell_type": "code",
   "execution_count": 103,
   "metadata": {
    "id": "rzIOXRi-DImH"
   },
   "outputs": [
    {
     "data": {
      "image/png": "[encoded data removed]",
      "text/plain": [
       "<Figure size 864x576 with 1 Axes>"
      ]
     },
     "metadata": {
      "needs_background": "light"
     },
     "output_type": "display_data"
    }
   ],
   "source": [
    "#Plotting the distribution of the boostrap AUC scores\n",
    "plt.figure(figsize=(12,8))\n",
    "sns.histplot(auclsts, kde=True)\n",
    "plt.axvline(ci_lower)\n",
    "plt.axvline(ci_upper)\n",
    "plt.title(\"Distribution of the boostrap AUC scores\")\n",
    "plt.xlabel(\"AUC scores\")\n",
    "plt.show()"
   ]
  },
  {
   "cell_type": "markdown",
   "metadata": {
    "id": "i46nJCdcQrOk"
   },
   "source": [
    "Is the test AUC close to the AUC cross validation of the model you chose? Why do you think this is the case?"
   ]
  },
  {
   "cell_type": "markdown",
   "metadata": {
    "id": "fve0IvwJQrOl"
   },
   "source": [
    "the test AUC of 0.69515 is not close to the one i chose of 0.6608, as a matter of fact, it is not anywhere close to the lower bound of the bootstrapping model, this is most likely due to the fact that it is trying to normalize  the data, when it i"
   ]
  }
 ],
 "metadata": {
  "colab": {
   "provenance": []
  },
  "kernelspec": {
   "display_name": "Python 3",
   "language": "python",
   "name": "python3"
  },
  "language_info": {
   "codemirror_mode": {
    "name": "ipython",
    "version": 3
   },
   "file_extension": ".py",
   "mimetype": "text/x-python",
   "name": "python",
   "nbconvert_exporter": "python",
   "pygments_lexer": "ipython3",
   "version": "3.8.8"
  }
 },
 "nbformat": 4,
 "nbformat_minor": 1
}

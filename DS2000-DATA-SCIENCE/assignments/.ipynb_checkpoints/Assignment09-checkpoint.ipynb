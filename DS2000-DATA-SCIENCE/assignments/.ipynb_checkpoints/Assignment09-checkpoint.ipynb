{
 "cells": [
  {
   "cell_type": "markdown",
   "metadata": {},
   "source": [
    "# Assignment 9: Multiple regression\n",
    "\n",
    "### Learning Outcomes\n",
    "This assignment introduces you to multiple regression analysis, model comparision between different multiple regression models and bootstrap for regression models. \n",
    "### Data set \n",
    "An investigator is interested in understanding the relationship, if any, between the analytical skills of young gifted children and the following variables: father’s IQ, mother’s IQ, age in month when the child first said ‘mummy’ or ‘daddy’, age in month when the child first counted to 10 successfully, average number of hours per week the child’s mother or father reads to the child, average number of hours per week the child watched an educational program on TV during the past three months, average number of hours per week the child watched cartoons on TV during the past three months. \n",
    "\n",
    "The analytical skills are evaluated using a standard testing procedure, and the score on this test is used as the response variable. Data were collected from schools in a large city on a set of thirty-six children who were identified as gifted children soon after they reached the age of four.\n",
    " \n",
    "The data frame stored in gifted.csv contains the variables: \n",
    "- score:       Score in test of analytical skills.\n",
    "- fatheriq:    Father’s IQ.\n",
    "- motheriq:  Mother’s IQ.\n",
    "- speak:       Age in months when the child first said ‘mummy’ or ‘daddy’.\n",
    "- count:       Age in months when the child first counted to 10 successfully.\n",
    "- read:         Average number of hours per week the child’s mother or father reads to the child.\n",
    "- edutv:       Average number of hours per week the child watched an educational program on TV during the past three months.\n",
    "- cartoons:  Average number of hours per week the child watched cartoons on TV during the past three months.\n",
    "\n",
    "### Preliminaries\n",
    "Set up the environment by importing pandas, numpy, and matplotlib, scipy.optimize. This is already done in the preliminaries. Ensure that you have fully mastered and understood HW7 before starting the assignment. \n"
   ]
  },
  {
   "cell_type": "code",
   "execution_count": 19,
   "metadata": {},
   "outputs": [],
   "source": []
  },
  {
   "cell_type": "markdown",
   "metadata": {},
   "source": [
    "## Task 1: Implementing multiple regression ( / 28 pts)\n",
    "### Question 1. ( / 6 pts)\n",
    "Implement the function multRegPredict(b,D,xname). \n",
    "  - b is a list of parameter, with the first one being the intercept \n",
    "  - D is a DataFrame that contains the regressors\n",
    "  - xname is a list of column names in D that will be added as regressors \n",
    "\n",
    "b needs to contain one more parameter (the intercept) than the numbers of regressors in xname. It will be helpful to start from the corresponding functions from last homework for polynomial regression. \n",
    "\n",
    "Then make a scatterplot of D.read and D.score \n",
    "Call your new function with yp = multRegPredict([134,11.8], D,['read']) and add predicted values to your plot (just call plt.scatter again – the dots will be added in a different color).  "
   ]
  },
  {
   "cell_type": "code",
   "execution_count": null,
   "metadata": {},
   "outputs": [],
   "source": []
  },
  {
   "cell_type": "markdown",
   "metadata": {},
   "source": [
    "### Question 2. ( / 10 pts)\n",
    "Implement the function multRegLossRSS(b,D,y,xname). y is a list or np-array for the response variable. The function should get the predictions from multRegPredict, and then calculate the residual sum-of-squares, and the derivative of the loss function in respect to each parameter. Test the function by calling multRegLossRSS([134,11.8],D,D.score,['read']). Report the resulting RSS for the regression of score (response variable) against read (explanatory variable)- as well as the derivatives for each parameter. Written answer: From the value of the derivative, do you have to increase or decrease the slope parameter to get a better fit?"
   ]
  },
  {
   "cell_type": "code",
   "execution_count": null,
   "metadata": {},
   "outputs": [],
   "source": []
  },
  {
   "cell_type": "markdown",
   "metadata": {},
   "source": [
    "### Question 3 ( / 12 pts)\n",
    "Implement the function multRegFit(D,y,xname), which uses so.minimize and multRegLossRSS to estimate the parameter values, and then calls multRegLossRSS again to calculate the R2 of the fit. The function should then return the R2 values and regression coefficients b. Use this print on the screen the R2-values for the models:\n",
    "\n",
    "- y = b0  (hint, set xname = [])\n",
    "- y = b0 + b1 \\* read \n",
    "- y = b0 + b1 \\* motheriq \n",
    "- y = b0 + b1 \\* motheriq + b2 \\* read\n",
    "\n",
    "Which model has the highest R2? How do you interpret these results? How much of the variance of the response variable is uniquely explained by reading, how much by motheriq? Do the two variables explain each other away, explain independent parts of the variance, or show suppression? "
   ]
  },
  {
   "cell_type": "code",
   "execution_count": null,
   "metadata": {},
   "outputs": [],
   "source": []
  },
  {
   "cell_type": "code",
   "execution_count": null,
   "metadata": {},
   "outputs": [],
   "source": []
  },
  {
   "cell_type": "markdown",
   "metadata": {},
   "source": [
    "## Task 2: Do crossvalidation on these models  ( / 32 pts)\n",
    "### Question 1 ( / 12 pts)\n",
    "Modify the leaveOneOutCV function from last homework, so it works on a data frame with the multiple regression analysis. The inputs to the function are:  \n",
    "\n",
    "def leaveOneOutCV(D,y,args=(),fitfcn=multRegFit,predictfcn=multRegPredict):\n",
    " - D: Data Frame with explanatory variables \n",
    " - y: A list or np-array of the response variable\n",
    " - args: Input arguments for the fitfcn and predict function (xname) \n",
    " - fitfcn: Function for fitting called as fitfcn(D,y,args)\n",
    " - predictfcn: Function for prediction called as predictfcn(D,y,args)\n"
   ]
  },
  {
   "cell_type": "code",
   "execution_count": null,
   "metadata": {},
   "outputs": [],
   "source": []
  },
  {
   "cell_type": "markdown",
   "metadata": {},
   "source": [
    "### Question 2 ( / 8 pts)\n",
    "Call the function to get the cross-validated R2 for the 4 models specified in Task 1, Question 3. How to you interpret these results? Is there evidence that reading increases the analytic score over and above what the IQ of the mother does? "
   ]
  },
  {
   "cell_type": "code",
   "execution_count": null,
   "metadata": {},
   "outputs": [],
   "source": []
  },
  {
   "cell_type": "markdown",
   "metadata": {},
   "source": []
  },
  {
   "cell_type": "markdown",
   "metadata": {},
   "source": [
    "### Question 3 ( / 4 pts)\n",
    "Add the variable fatheriq to the model containing read and motheriq. Is there evidence that the IQ of the father improves the prediction over and above what hours reading and mother IQ can predict? "
   ]
  },
  {
   "cell_type": "code",
   "execution_count": null,
   "metadata": {},
   "outputs": [],
   "source": []
  },
  {
   "cell_type": "markdown",
   "metadata": {},
   "source": []
  },
  {
   "cell_type": "markdown",
   "metadata": {},
   "source": [
    "### Question 4 ( / 8 pts)\n",
    "Is edutv (hours of educational TV) alone a reliable predictor of the analytic score? Does it add prediction power over and above from what the model motheriq + read + fatheriq can predict? \n"
   ]
  },
  {
   "cell_type": "code",
   "execution_count": null,
   "metadata": {},
   "outputs": [],
   "source": []
  },
  {
   "cell_type": "code",
   "execution_count": null,
   "metadata": {},
   "outputs": [],
   "source": []
  },
  {
   "cell_type": "markdown",
   "metadata": {},
   "source": [
    "## Task 3: Bootstrap for multiple regression. ( / 40 pts)\n",
    "### Question 1 ( / 14 pts)\n",
    "Implement bootstrap for linear regression. Start from the function bootstrap from Homework 3. The function should have input parameters\n",
    "def bootstrapReg(D,y,args,fitfcn,numIter=500):\n",
    "and should return a numIter x numParams np.array of bootstrap estimates.  \n",
    "numParams is the length of b-vector returned from the fitfcn (in our case multiRegFit). That is, each column of the array should be the boostrap estimates for one of the regression coefficients. \n",
    "\n",
    "Note: you will also have to use here the following functions (add them to your notebook): \n",
    "- confidenceInt from HW 3 (Note that the posted version of HW3 had a bug in them).\n",
    "\n",
    "Run the bootstrap on the data set in gifted.csv. Run the bootstrap on a simple regression model that explains ‘score’ from the explanatory variable ‘edutv’ alone. Report the CI for edutv -slope. Does the CI include zero- i.e. is the relationship between edutv and score significant? Which direction is the association between the two variables? "
   ]
  },
  {
   "cell_type": "code",
   "execution_count": null,
   "metadata": {},
   "outputs": [],
   "source": []
  },
  {
   "cell_type": "markdown",
   "metadata": {},
   "source": []
  },
  {
   "cell_type": "markdown",
   "metadata": {},
   "source": [
    "### Question 2 ( / 8 pts)\n",
    "Run the bootstrap on the model that explains score as a function of hours of cartoons watched. Is there a significant relationship between ‘cartoons’ and ‘score’? "
   ]
  },
  {
   "cell_type": "code",
   "execution_count": null,
   "metadata": {},
   "outputs": [],
   "source": []
  },
  {
   "cell_type": "markdown",
   "metadata": {},
   "source": []
  },
  {
   "cell_type": "markdown",
   "metadata": {},
   "source": [
    "### Question 3 ( / 8 pts)\n",
    "Run the bootstrap on a model that explains score as a function of edutv and cartoons. Report the CIs for both variabless. Do the conclusion from Question 1 and 2 change? Have the CIs become smaller or larger as compared to the simple regression models from Question 1 and 2?"
   ]
  },
  {
   "cell_type": "code",
   "execution_count": null,
   "metadata": {},
   "outputs": [],
   "source": []
  },
  {
   "cell_type": "markdown",
   "metadata": {},
   "source": []
  },
  {
   "cell_type": "markdown",
   "metadata": {},
   "source": [
    "### Question 4 ( / 10 pts)\n",
    "Plot the bootstrap estimates for edutv and cartoons from Question 3 against each other in a scatter plot. Are they positively or negatively related? What does this mean for the relationship between the regressors?"
   ]
  },
  {
   "cell_type": "code",
   "execution_count": null,
   "metadata": {},
   "outputs": [],
   "source": []
  },
  {
   "cell_type": "markdown",
   "metadata": {},
   "source": []
  }
 ],
 "metadata": {
  "kernelspec": {
   "display_name": "Python 3",
   "language": "python",
   "name": "python3"
  },
  "language_info": {
   "codemirror_mode": {
    "name": "ipython",
    "version": 3
   },
   "file_extension": ".py",
   "mimetype": "text/x-python",
   "name": "python",
   "nbconvert_exporter": "python",
   "pygments_lexer": "ipython3",
   "version": "3.8.8"
  }
 },
 "nbformat": 4,
 "nbformat_minor": 1
}

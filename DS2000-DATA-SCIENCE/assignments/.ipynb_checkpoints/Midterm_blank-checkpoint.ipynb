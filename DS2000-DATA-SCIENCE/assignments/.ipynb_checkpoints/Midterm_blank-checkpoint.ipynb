{
 "cells": [
  {
   "cell_type": "markdown",
   "metadata": {},
   "source": [
    "# Midterm IS2002B. Student ID: rbari\n",
    "## General comments \n",
    "This Midterm integrates knowledge and skills acquired in the first half of the semester, especially in the last 6 Assignments. You are allowed to use any document and source on your computer and look up documents on the internet. You or not allowed to share documents, or communicate in any other way with people inside or outside the class room during the midterm. To finish the midterm in the alloted 2 hrs, you will have to work fast and efficiently. Good luck!\n",
    "## Preliminaries\n",
    "Sets up the environment by importing pandas, numpy, and matplotlib. Because we are using plots make sure that you configure your notebook such that plots are shown inline (see Assignment 2). "
   ]
  },
  {
   "cell_type": "code",
   "execution_count": 2,
   "metadata": {},
   "outputs": [],
   "source": [
    "import pandas as pd\n",
    "import numpy as np\n",
    "import scipy as sp\n",
    "import scipy.stats as ss\n",
    "import seaborn as sns\n",
    "\n",
    "import matplotlib \n",
    "matplotlib.use('TkAgg') \n",
    "import matplotlib.pyplot as plt \n",
    "%matplotlib inline "
   ]
  },
  {
   "cell_type": "code",
   "execution_count": null,
   "metadata": {},
   "outputs": [],
   "source": []
  },
  {
   "cell_type": "code",
   "execution_count": 3,
   "metadata": {},
   "outputs": [],
   "source": [
    "# import matplotlib\n",
    "# matplotlib.use('TkAgg')\n",
    "# import matplotlib.pyplot as plt \n",
    "# %matplotlib inline\n",
    "# import scipy.stats as ss\n",
    "# import pandas as pd \n",
    "# import numpy as np\n",
    "# import seaborn as sb"
   ]
  },
  {
   "cell_type": "markdown",
   "metadata": {},
   "source": [
    "## Data set \n",
    "The data set for the midterm is a *random* sample of 377 observations from the US 2000 census. A census is a survery of the entire population of the US, conducted every 10 years. 16% of the population (selected at random) also fill out a long-form. The present data comes from these long-form respondents. \n",
    "\n",
    "The data frame contains the data\n",
    "- censusYear:\t\tCensus Year.\n",
    "- state:\t\t\tName of state.\n",
    "- area:             Rough geographic area of the state (east, north, west, & south) \n",
    "- familyIncome: \tTotal family income (in U.S. dollars).\n",
    "- age: \t\t\t    Age (years)\n",
    "- sex: \t\t\t    Sex with levels Female and Male.\n",
    "- raceGeneral: \t    Race with levels White, Black, Other \n",
    "- maritalStatus: \tMarital status with levels Divorced, Married, Single, and Widowed.\n",
    "- personalIncome:  \tTotal personal income (in U.S. dollars). \n",
    "\n",
    "https://en.wikipedia.org/wiki/2000_United_States_Census\n"
   ]
  },
  {
   "cell_type": "markdown",
   "metadata": {},
   "source": [
    "## Task 1: Geographic area and race (35pt)\n",
    "In this task you will explore the connection between the geographic area: \n",
    "- West: Western states\n",
    "- East: upper East coast\n",
    "- South: Deep south and southern east cost + Texas\n",
    "- North: The upper midwest\n",
    "\n",
    "and the general race (white, black, other). \n",
    "\n",
    "### Question 1 (8pt)\n",
    "Generate a table with the conditional probabilities of being of white, black or other racial background (raceGeneral), given that the respondent lived in the north, south, west and east (area). Then generate a plot that  is ideally suited to let you compare the relative racial proportions of people in each area. Remember to provide axis lables and a caption. Written answer: Which proportions appears larger for a particular area than for any of the others?  "
   ]
  },
  {
   "cell_type": "code",
   "execution_count": 1,
   "metadata": {},
   "outputs": [
    {
     "ename": "NameError",
     "evalue": "name 'pd' is not defined",
     "output_type": "error",
     "traceback": [
      "\u001b[0;31m---------------------------------------------------------------------------\u001b[0m",
      "\u001b[0;31mNameError\u001b[0m                                 Traceback (most recent call last)",
      "\u001b[0;32m<ipython-input-1-21ca4f678b19>\u001b[0m in \u001b[0;36m<module>\u001b[0;34m\u001b[0m\n\u001b[0;32m----> 1\u001b[0;31m \u001b[0md\u001b[0m \u001b[0;34m=\u001b[0m \u001b[0mpd\u001b[0m\u001b[0;34m.\u001b[0m\u001b[0mread_csv\u001b[0m\u001b[0;34m(\u001b[0m\u001b[0;34m\"census.csv\"\u001b[0m\u001b[0;34m)\u001b[0m\u001b[0;34m\u001b[0m\u001b[0;34m\u001b[0m\u001b[0m\n\u001b[0m\u001b[1;32m      2\u001b[0m \u001b[0md\u001b[0m\u001b[0;34m\u001b[0m\u001b[0;34m\u001b[0m\u001b[0m\n",
      "\u001b[0;31mNameError\u001b[0m: name 'pd' is not defined"
     ]
    }
   ],
   "source": [
    "d = pd.read_csv(\"census.csv\")\n",
    "d"
   ]
  },
  {
   "cell_type": "code",
   "execution_count": null,
   "metadata": {},
   "outputs": [],
   "source": [
    "table = pd.crosstab(d['area'], d['raceGeneral'], margins = False, normalize = 'index')\n",
    "table"
   ]
  },
  {
   "cell_type": "code",
   "execution_count": null,
   "metadata": {},
   "outputs": [],
   "source": [
    "table.plot(kind='bar', stacked = True) #stacked = True would place all the bars ontop of eachother and have only 1 bar with different colours per variable being compared\n",
    "plt.ylabel('Proportion')\n",
    "plt.xlabel('Race')\n",
    "plt.show()"
   ]
  },
  {
   "cell_type": "markdown",
   "metadata": {},
   "source": [
    "Figure 1. A stacked bar plot of the proportion of race within a specific geographical area"
   ]
  },
  {
   "cell_type": "markdown",
   "metadata": {},
   "source": [
    "In all areas (north, south, east, and west) white people seem to primarly dominate the population"
   ]
  },
  {
   "cell_type": "markdown",
   "metadata": {},
   "source": [
    "### Question 2 (5pt)\n",
    "What measurement scale does area, raceGeneral, and personalIncome have?    "
   ]
  },
  {
   "cell_type": "markdown",
   "metadata": {},
   "source": [
    "area: this data set follows a nominal scale as North, south, east, west has no meaningful order\n",
    "raceGeneral: this data set follows a nominal scale as race colour as no meaningful order\n",
    "personalIncomes: this data set follows a ratio scale as income is ordered, and has an absolute zero point that does not change with measurement scale"
   ]
  },
  {
   "cell_type": "markdown",
   "metadata": {},
   "source": [
    "### Question 3 (5pt)\n",
    "We want to test the hypothesis that the proportion of white people is different in the western states (area = 'west') than in the eastern states (area = 'east). Formulate precisely the null hypothesis and the alternative hypothesis. To test this idea, will you have to conduct a one-sided or two-sided test? "
   ]
  },
  {
   "cell_type": "markdown",
   "metadata": {},
   "source": [
    "Null Hypothesis: The proportion of white people in the western states is not different then the proportion of white people in the eastern states"
   ]
  },
  {
   "cell_type": "markdown",
   "metadata": {},
   "source": [
    "Alternative Hypothesis: The  proportion of white people in the western states is different then the proportion of white people in the eastern states"
   ]
  },
  {
   "cell_type": "markdown",
   "metadata": {},
   "source": [
    "We will need to use a two-sided test as this is an undirected hypothesis"
   ]
  },
  {
   "cell_type": "markdown",
   "metadata": {},
   "source": [
    "### Question 4 (10pt)\n",
    "Decide on an appropriate statistic to use to test the hypothesis forumlated in Q3. Then perform a randomization test to test whether you can reject the Null-hypothesis. Your code should produce a figure, which shows the distribution of your chosen test statistics under the Null hypothesis, as well as the empirical value as a vertical line.  Remember to provide axis lables and a caption. Written answer: Report the value of the statistics and the associated p-value, using at least 1000 iterations. What do you conclude regarding the hypotheses formulated above? "
   ]
  },
  {
   "cell_type": "code",
   "execution_count": null,
   "metadata": {},
   "outputs": [],
   "source": [
    "table = pd.crosstab(d['area'], d['raceGeneral'], margins = True, normalize = 'index')\n",
    "table"
   ]
  },
  {
   "cell_type": "code",
   "execution_count": null,
   "metadata": {},
   "outputs": [],
   "source": [
    "def mean_diff(dataframe):\n",
    "    table = pd.crosstab(dataframe['area'], dataframe['raceGeneral'], margins = True, normalize = 'index')\n",
    "    white_west = table['White']['west']\n",
    "    white_east = table['White']['east']\n",
    "\n",
    "    diff = white_west - white_east\n",
    "    return diff"
   ]
  },
  {
   "cell_type": "code",
   "execution_count": null,
   "metadata": {},
   "outputs": [],
   "source": [
    "def randomizationTest(dataframe, stat_function, col_name, numIter, number_of_bins, sides_of_test):\n",
    "    if stat_function == med_diff:\n",
    "        original_result = stat_function(dataframe) #calculating the statistic given\n",
    "        print('The statistic for the original data is %.3f' %np.absolute(original_result))\n",
    "    elif stat_function == mean_diff:\n",
    "        original_result = stat_function(dataframe) #calculating the statistic given\n",
    "        print('The statistic for the original data is %.3f' %original_result)\n",
    "    else:\n",
    "        original_result = stat_function(dataframe, col_name) #calculating the statistic given\n",
    "        print('The statistic for the original data is %.3f' %original_result)\n",
    "    random_set = [] #creating an empty set for the statistic calculation\n",
    "    p_set = [] #creating an empty set for the values in the random sample that are larger than the original result\n",
    "    for i in range(numIter): #for each iteration\n",
    "        new_data=dataframe.copy()                    # Make copy of the data frame\n",
    "        x = np.array(range(len(dataframe.index))) # Make copy of the data frame\n",
    "        np.random.shuffle(x)          # randomly shuffle x - note that this changes x itself! \n",
    "        y = new_data[col_name].iloc[x]   # copy the newly reorded values into a new Series  \n",
    "        y = y.reset_index(drop=True)   #reoder the indices \n",
    "        new_data[col_name]=y \n",
    "\n",
    "        if stat_function == med_diff:\n",
    "            statistic = stat_function(new_data) #applying the statistic\n",
    "            random_set.append(statistic) #appending the statistic into the empty set\n",
    "        elif stat_function == mean_diff:\n",
    "            statistic = stat_function(new_data) #applying the statistic\n",
    "            random_set.append(statistic) #appending the statistic into the empty set\n",
    "        else:\n",
    "            statistic = stat_function(new_data, col_name) #applying the statistic\n",
    "            random_set.append(statistic) #appending the statistic into the empty set\n",
    "    #print(diff_set)\n",
    "    if sides_of_test == 1:\n",
    "        for i in random_set: #loop for looking at each statistic in the random_set\n",
    "            if i >= original_result: #if the difference of the random sample is greater than the original difference \n",
    "                p_set.append(i) #append it to p_set empty set\n",
    "    if sides_of_test == 2:\n",
    "         for i in random_set: #loop for looking at each statistic in the random_set\n",
    "            if np.absolute(i) >= np.absolute(original_result): #if the difference of the random sample is greater than the original difference \n",
    "                p_set.append(i) #append it to p_set empty set\n",
    "\n",
    "    plt.hist(random_set, bins = number_of_bins) #plotting a histogram\n",
    "    plt.xlabel('statistic')\n",
    "    plt.ylabel('Counts')\n",
    "    \n",
    "    if sides_of_test == 1:\n",
    "        plt.axvline(x = original_result, color = 'r') #ploting the original difference\n",
    "    if sides_of_test == 2:\n",
    "        plt.axvline(x = original_result, color = 'r') #ploting the original difference\n",
    "        plt.axvline(x = -(original_result), color = 'r') #ploting the negative of the original difference\n",
    "    \n",
    "    p_test = len(p_set)/numIter #calculating the p value\n",
    "    print('The p value for the below statistical anlysis is %.6f' %p_test)\n",
    "    \n",
    "    randomizationTest.random_set = random_set #making random_set a global variable\n",
    "\n",
    "    return "
   ]
  },
  {
   "cell_type": "code",
   "execution_count": null,
   "metadata": {},
   "outputs": [],
   "source": [
    "randomizationTest(d, mean_diff, 'area', 1000, 20, 2)"
   ]
  },
  {
   "cell_type": "code",
   "execution_count": null,
   "metadata": {},
   "outputs": [],
   "source": [
    "Figure 1. A histogram of the sampled data"
   ]
  },
  {
   "cell_type": "markdown",
   "metadata": {},
   "source": [
    "Since the p value is not under statisticall standards, the null hypthesis is most likely rejecte and that there is not racial equallity in the east and west"
   ]
  },
  {
   "cell_type": "markdown",
   "metadata": {},
   "source": [
    "### Question 5 (7pt)\n",
    "Based on the results from Question 4, a news outlet publishes the following headline: \"New study finds that racial diversity is equal on east and west coast of the US\". What are possible problems with this claim? "
   ]
  },
  {
   "cell_type": "markdown",
   "metadata": {},
   "source": [
    "Since th\n",
    "\n",
    "The  problem is that the newspaper makes a causal claim. Because the study is an observational study , other factor such as job availibity, socio-economic status, , etc, may have co-varied with their being an equal race split and therefore may have causes some or all of the effect on birth weight"
   ]
  },
  {
   "cell_type": "markdown",
   "metadata": {},
   "source": [
    "## TASK 2: Racial inequality in annual income (27pt)\n",
    "### Question 1 (10pt)\n",
    "Generate a visualisation of personal income depending on the general racial background of the person (White, Black, Other). The visualization should show medians, quartiles and let you make some inference about the shape of the distribution.  Remember to provide axis lables and a caption. Written answer: What is the shape of the distribution for the personalIncome based on your plot? Which racial category earns the most? Which one the least? "
   ]
  },
  {
   "cell_type": "code",
   "execution_count": null,
   "metadata": {},
   "outputs": [],
   "source": [
    "table1 = pd.crosstab(d['personalIncome'], d['raceGeneral'])\n",
    "table1"
   ]
  },
  {
   "cell_type": "code",
   "execution_count": null,
   "metadata": {},
   "outputs": [],
   "source": [
    "sns.boxplot(x = 'raceGeneral', y = 'personalIncome', data = d)\n",
    "plt.ylabel('Personal income')\n",
    "plt.show()"
   ]
  },
  {
   "cell_type": "markdown",
   "metadata": {},
   "source": [
    "Figure 2. A boxplot of the personal income based on race"
   ]
  },
  {
   "cell_type": "markdown",
   "metadata": {},
   "source": [
    "The distributions are all pretty right-skewwed. It seems like white people make the most personal income and the majority of black people make te least amount of personal income."
   ]
  },
  {
   "cell_type": "markdown",
   "metadata": {},
   "source": [
    "### Question 2 (10pt)\n",
    "Using a bootstrap, determine the *median* personal income and the 95% confidence interval for the median for white people and for black people seperately. Each bootstrap sample should contain as many data points as are in the sample. Tip 1: Write a function and then call it with the data of personal income for black and white people separately. \n",
    "Tip 2: You can get the number of elements in a data Series with data.shape[0] "
   ]
  },
  {
   "cell_type": "code",
   "execution_count": null,
   "metadata": {},
   "outputs": [],
   "source": [
    "color_income = d['personalIncome'].groupby(d['raceGeneral'])\n",
    "color = color_income.get_group('Black')\n",
    "white = color_income.get_group('White')\n",
    "print(color)\n",
    "print(white)"
   ]
  },
  {
   "cell_type": "code",
   "execution_count": null,
   "metadata": {},
   "outputs": [],
   "source": [
    "def bootstrap(data, N, fcn, numIter):\n",
    "    array = np.zeros(numIter, 'float64')\n",
    "    for i in range(numIter):\n",
    "        boot_sample = np.random.choice(data, size = N, replace = True)\n",
    "        array[i] = fcn(boot_sample)\n",
    "    return array\n",
    "\n",
    "black_income = bootstrap(color, 377, np.median, 1000)\n",
    "ave_black_income = np.mean(black_income)\n",
    "\n",
    "white_income = bootstrap(white, 377, np.median, 1000)\n",
    "ave_white_income = np.mean(white_income)\n",
    "\n",
    "print(\"The average income for black people is %.3f\" %ave_black_income)\n",
    "print(\"The average income for white people is %.3f\" %ave_white_income)"
   ]
  },
  {
   "cell_type": "code",
   "execution_count": null,
   "metadata": {},
   "outputs": [],
   "source": [
    "def confidenceInt(data, prec):\n",
    "    Output_argument = [np.percentile(data, (100-prec)/2), np.percentile(data, prec + ((100-prec)/2))]\n",
    "    return Output_argument \n",
    "\n",
    "black_con = confidenceInt(black_income, 95)\n",
    "white_con = confidenceInt(white_income, 95)\n",
    "\n",
    "print(\"The confidence interval for black people is\")\n",
    "print(black_con)\n",
    "print(\"The confidence interval for white people is\")\n",
    "print(white_con)"
   ]
  },
  {
   "cell_type": "markdown",
   "metadata": {},
   "source": [
    "### Question 3 (7pt)\n",
    "Is the confidence interval for the median income larger for white or black people? Why? "
   ]
  },
  {
   "cell_type": "markdown",
   "metadata": {},
   "source": [
    "The confidence interval for white people is larger, as this may be because there is so many more white people in this data set so the distribution has a higher variance"
   ]
  },
  {
   "cell_type": "markdown",
   "metadata": {},
   "source": [
    "## Task 3: Testing for a north-south income difference (38pt)\n",
    "### Question 1 (8pt)\n",
    "Make a violin plot of the personalIncome (y-variable), depending on the geographic area (x-variable).  Remember to provide axis lables and a caption. What do you see if you compare incomes in the south and the north of the US? How do the means compare? How do the medians compare? Why do these two statistics apparently give you different answers?  "
   ]
  },
  {
   "cell_type": "code",
   "execution_count": null,
   "metadata": {},
   "outputs": [],
   "source": [
    "sns.violinplot(x = 'area', y = 'personalIncome', data = d)\n",
    "plt.ylabel('Personal income')\n",
    "plt.show()"
   ]
  },
  {
   "cell_type": "markdown",
   "metadata": {},
   "source": [
    "Figure 3. A violinplot for the personal incomes based on geographical area"
   ]
  },
  {
   "cell_type": "markdown",
   "metadata": {},
   "source": [
    "### Question 2: Hypotheses (5pt)\n",
    "Test the hypothesis that the *median* personal income in the south is *lower* than in in the north. Formulate the null- and alternative hypotheses. "
   ]
  },
  {
   "cell_type": "markdown",
   "metadata": {},
   "source": [
    "Null Hypothesis: The median personal income in the south is greater than or equal to the median personal income of the north"
   ]
  },
  {
   "cell_type": "markdown",
   "metadata": {},
   "source": [
    "Alternative Hypothesis: The median personal income in the south is lower the median personal income of the north "
   ]
  },
  {
   "cell_type": "markdown",
   "metadata": {},
   "source": [
    "### Question 3: Randomization test (10pt)\n",
    "Use the difference in medians between north and south as your test statistics. Then perform a randomisation test to test the null-hypothesis. When doing so, restrict the analysis and the randomisation test to data that comes from people in the north and south (excluding \"east\" and \"west\"). Conduct a one- or two-sided test (as appropriate for the hypothesis).  What can you conclude? "
   ]
  },
  {
   "cell_type": "code",
   "execution_count": null,
   "metadata": {},
   "outputs": [],
   "source": [
    "def med_diff(dataframe):\n",
    "    area_income = dataframe['personalIncome'].groupby(dataframe['area']) #making a groupby object\n",
    "\n",
    "    north_income = area_income.get_group('north') #extracting the male column\n",
    "    med_north_income = np.median(north_income) #averaging the male incomes\n",
    "\n",
    "    south_income = area_income.get_group('south') #extracting the female column\n",
    "    med_south_income = np.median(south_income) #averaging the female incomes\n",
    "    \n",
    "    diff = med_north_income - med_south_income\n",
    "    med_diff.diff = diff\n",
    "    return diff"
   ]
  },
  {
   "cell_type": "code",
   "execution_count": null,
   "metadata": {},
   "outputs": [],
   "source": [
    "randomizationTest(d, med_diff, 'area', 1000, 20, 1)"
   ]
  },
  {
   "cell_type": "markdown",
   "metadata": {},
   "source": [
    "Figure 4. A histogram of the randomized data of difference in median personal incomes of the North and the South"
   ]
  },
  {
   "cell_type": "markdown",
   "metadata": {},
   "source": [
    "Based on the data, we cannot reject the Null-hypothesis (as the p-value if above statistical standards) that there are no true differences in median personal incomes of the North and the South."
   ]
  },
  {
   "cell_type": "markdown",
   "metadata": {},
   "source": [
    "### Question 4: Standard deviation of bootstrap samples (5pt)"
   ]
  },
  {
   "cell_type": "markdown",
   "metadata": {},
   "source": [
    "Modify your randomization function, such that it prints out the standard deviation of the median differences under the null-hypothesis. "
   ]
  },
  {
   "cell_type": "code",
   "execution_count": null,
   "metadata": {},
   "outputs": [],
   "source": [
    "def randomizationTest(dataframe, stat_function, col_name, numIter, number_of_bins, sides_of_test):\n",
    "    if stat_function == med_diff:\n",
    "        original_result = stat_function(dataframe) #calculating the statistic given\n",
    "        print('The statistic for the original data is %.3f' %np.absolute(original_result))\n",
    "    elif stat_function == standard_deviation:\n",
    "        original_result = stat_function(col_name) #calculating the statistic given\n",
    "        print('The statistic for the original data is %.3f' %original_result)\n",
    "    else:\n",
    "        original_result = stat_function(dataframe, col_name) #calculating the statistic given\n",
    "        print('The statistic for the original data is %.3f' %original_result)\n",
    "    random_set = [] #creating an empty set for the statistic calculation\n",
    "    p_set = [] #creating an empty set for the values in the random sample that are larger than the original result\n",
    "    for i in range(numIter): #for each iteration\n",
    "        new_data=dataframe.copy()                    # Make copy of the data frame\n",
    "        x = np.array(range(len(dataframe.index))) # Make copy of the data frame\n",
    "        np.random.shuffle(x)          # randomly shuffle x - note that this changes x itself! \n",
    "        y = new_data[col_name].iloc[x]   # copy the newly reorded values into a new Series  \n",
    "        y = y.reset_index(drop=True)   #reoder the indices \n",
    "        new_data[col_name]=y \n",
    "\n",
    "        if stat_function == med_diff:\n",
    "            statistic = stat_function(new_data) #applying the statistic\n",
    "            random_set.append(statistic) #appending the statistic into the empty set\n",
    "        elif stat_function == standard_deviation:\n",
    "            statistic = stat_function(col_name) #applying the statistic\n",
    "            random_set.append(statistic) #appending the statistic into the empty set\n",
    "        else:\n",
    "            statistic = stat_function(new_data, col_name) #applying the statistic\n",
    "            random_set.append(statistic) #appending the statistic into the empty set\n",
    "    #print(diff_set)\n",
    "    if sides_of_test == 1:\n",
    "        for i in random_set: #loop for looking at each statistic in the random_set\n",
    "            if i >= original_result: #if the difference of the random sample is greater than the original difference \n",
    "                p_set.append(i) #append it to p_set empty set\n",
    "    if sides_of_test == 2:\n",
    "         for i in random_set: #loop for looking at each statistic in the random_set\n",
    "            if np.absolute(i) >= np.absolute(original_result): #if the difference of the random sample is greater than the original difference \n",
    "                p_set.append(i) #append it to p_set empty set\n",
    "\n",
    "    plt.hist(random_set, bins = number_of_bins) #plotting a histogram\n",
    "    plt.xlabel('statistic')\n",
    "    plt.ylabel('Counts')\n",
    "    \n",
    "    std_data = np.std(random_set)\n",
    "    print('The standard deviation of the sampled data is %.3f' %std_data)\n",
    "    if sides_of_test == 1:\n",
    "        plt.axvline(x = original_result, color = 'r') #ploting the original difference\n",
    "    if sides_of_test == 2:\n",
    "        plt.axvline(x = original_result, color = 'r') #ploting the original difference\n",
    "        plt.axvline(x = -(original_result), color = 'r') #ploting the negative of the original difference\n",
    "    \n",
    "    p_test = len(p_set)/numIter #calculating the p value\n",
    "    print('The p value for the below statistical anlysis is %.6f' %p_test)\n",
    "    \n",
    "    randomizationTest.random_set = random_set #making random_set a global variable\n",
    "\n",
    "    return "
   ]
  },
  {
   "cell_type": "code",
   "execution_count": null,
   "metadata": {},
   "outputs": [],
   "source": [
    "randomizationTest(d, med_diff, 'area', 1000, 20, 1)"
   ]
  },
  {
   "cell_type": "markdown",
   "metadata": {},
   "source": [
    "Figure 4. A histogram of the randomized data of difference in median personal incomes of the North and the South"
   ]
  },
  {
   "cell_type": "markdown",
   "metadata": {},
   "source": [
    "### Question 5: Bayesian hypothesis testing (10pt)\n",
    "Using the normal approximation, conduct a Bayesian hypothesis test of the null vs. alternative hypothesis formulated in question 2. For the null hypothesis, assume that the median difference has a mean of 0 and a SD of the that you found in Question 4. for the alternative hypothesis assume that the median income in the north is 10000 USD higher than in the south, again using the SD from Question 4. Starting from equal prior probabilities, report the BF and the posterior probability for the Null-hypothesis. Comment your code to show your calculations. Written answer: What do you conclude?  "
   ]
  },
  {
   "cell_type": "code",
   "execution_count": null,
   "metadata": {},
   "outputs": [],
   "source": [
    "prob_den_H0 = ss.norm.pdf(5950.000, 0, 4280.205)\n",
    "prob_den_H1 = ss.norm.pdf(5950.000, 10000, 4280.205)\n",
    "bayes_factor = prob_den_H1/prob_den_H0\n",
    "\n",
    "#print(prob_den_H0)\n",
    "#print(prob_den_H1)\n",
    "print('The Bayes Factor for the below statistical anlysis is %.3f' %bayes_factor) "
   ]
  },
  {
   "cell_type": "code",
   "execution_count": null,
   "metadata": {},
   "outputs": [],
   "source": [
    "prior_probability_H1 = 0.5\n",
    "\n",
    "marginal_data_prob_joint = ((prob_den_H1)*(prior_probability_H1)) + ((prob_den_H0)*(1-prior_probability_H1))\n",
    "posterior_probability_H1 = (prior_probability_H1*prob_den_H1)/marginal_data_prob_joint #Bayes Theorem\n",
    "    \n",
    "\n",
    "print('The Posterior Probability of H1 is %.3f' %posterior_probability_H1)"
   ]
  },
  {
   "cell_type": "markdown",
   "metadata": {},
   "source": [
    "The Bayes factor of 1.680 indicates a slight positive (but not strong) evidence that median income of the south is lower than the north. But this is barely worth mentioning"
   ]
  },
  {
   "cell_type": "markdown",
   "metadata": {},
   "source": [
    "The postieror probabilty indicates that our degree of belief in the alternative hypthesis is slightly higher but not significantly"
   ]
  },
  {
   "cell_type": "markdown",
   "metadata": {},
   "source": [
    "Therefore we cannot have high confidence that the median personal income of the south is lower than the north"
   ]
  }
 ],
 "metadata": {
  "kernelspec": {
   "display_name": "Python 3",
   "language": "python",
   "name": "python3"
  },
  "language_info": {
   "codemirror_mode": {
    "name": "ipython",
    "version": 3
   },
   "file_extension": ".py",
   "mimetype": "text/x-python",
   "name": "python",
   "nbconvert_exporter": "python",
   "pygments_lexer": "ipython3",
   "version": "3.7.1"
  }
 },
 "nbformat": 4,
 "nbformat_minor": 1
}

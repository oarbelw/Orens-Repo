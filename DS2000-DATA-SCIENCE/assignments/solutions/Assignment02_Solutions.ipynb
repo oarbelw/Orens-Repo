{
 "cells": [
  {
   "cell_type": "markdown",
   "metadata": {},
   "source": [
    "# Assignment 2\n",
    "### Learning Outcomes \n",
    "By completing this assignment, you will gain and demonstrate skills relating to \n",
    "- working within the python environment  \n",
    "- visualizing of numerical data continued \n",
    "- tabulation and plotting of discrete data \n",
    "- Calculating joint, marginal, and conditional probabilities  \n",
    "- Summarizing and plotting numerical data by group \n",
    "\n",
    "### Problem Description\n",
    "As a data scientist for a Hollywood investment company you have been charged with creating a summary of the last 250 movies so that your boss can have a deeper understanding of the movie industry. The dataset that you will be working with includes 8 different variables: \n",
    "- North American box office revenue  \n",
    "- Cost to produce the movie \n",
    "- Income of the director \n",
    "- Gender of the director \n",
    "- Year of release \n",
    "- Month of release \n",
    "- Movie genre \n",
    "- Number of theaters at release \n",
    "\n",
    "Unless otherwise stated, you are encouraged to use numpy, pandas, and matplotlib methods (e.g., mean, etc.). \n",
    "\n",
    "In this homework, you are expected to read portions of the Python for Data Analysis textbook. To help you not get lost, we will point you to the relevant book section for the various tasks. However, you may have to go back and read some basics if you realize that you are missing understanding on some foundational concept. \n",
    "\n",
    "### Overview of plotting (pg. 219-240)\n",
    "Read pages 219 to 231 in the Python for Data Analysis book. While we do not assign a specific task, the knowledge gained here will help in completing the tasks in the rest of this homework. In addition, step through this https://nbviewer.jupyter.org/github/jrjohansson/scientific-python-lectures/blob/master/Lecture-4-Matplotlib.ipynb. It is suggested that you download the notebook and run it locally to fully benefit from the tutorial.  \n",
    "\n",
    "### Submit via OWL\n",
    "Use the jupyter notebook provided and fill in your answer in the code cells. Before submitting, please make sure you clear the output prior to submission (Cell Menu -> All Outputs -> Clear ). Submit your notebook file under the file name YourUserID_Assign1.ipynb \n",
    "\n",
    "Make sure that you develop your code with Python 3.7 as the interpreter. The TA will not endeavor to fix code that uses earlier versions of Python (e.g. 2.7). Make sure that your code includes all statements that it requires to work properly when calling Cell->Run All. \n",
    "\n",
    "### General Marking criteria: \n",
    "- Does the program behave according to specifications?\n",
    "- Are you using appropriate data structures?\n",
    "- Is the output according to specifications?\n",
    "- Are all questions answered fully? Written responses must be answered in full English sentences.\n",
    "- Comments for pieces of code that are longer than few line \n",
    "- All figures require axis labels + a caption\n",
    "- Use Python coding conventions and good programming techniques, for example:\n",
    "    * meaningful variable names\n",
    "    * conventions for naming variables and constants\n",
    "    * Use of constants where appropriate\n",
    "    * Readability: indention, white space, consistency."
   ]
  },
  {
   "cell_type": "markdown",
   "metadata": {},
   "source": [
    "## Task 1: Plotting histograms II (Subplots) (? / 15 points)\n",
    "In order to set up your notebook environment so it includes figures inline write the following code <br>\n",
    "\n",
    "import matplotlib <br>\n",
    "matplotlib.use('TkAgg') <br>\n",
    "import matplotlib.pyplot as plt <br> \n",
    "%matplotlib inline <br>"
   ]
  },
  {
   "cell_type": "code",
   "execution_count": 1,
   "metadata": {},
   "outputs": [],
   "source": [
    "import numpy as np\n",
    "import pandas as pd\n",
    "import seaborn as sns\n",
    "import matplotlib\n",
    "matplotlib.use('TkAgg')\n",
    "import matplotlib.pyplot as plt \n",
    "%matplotlib inline"
   ]
  },
  {
   "cell_type": "markdown",
   "metadata": {},
   "source": [
    "### Question1. Load the movieDataset and calculate the new column \"profit\" as in the previous assignment (? / 2 points)"
   ]
  },
  {
   "cell_type": "code",
   "execution_count": 2,
   "metadata": {},
   "outputs": [],
   "source": [
    "mvdf = pd.read_csv('movieDataset.csv')\n",
    "mvdf['profit'] = mvdf['boxoff'] - mvdf['prodcost']"
   ]
  },
  {
   "cell_type": "markdown",
   "metadata": {},
   "source": [
    "### Question2. Generate a new figure with an array of 6 subplots (2 rows and 3 columns recommended, see pages 220-223). In the subplots, provide a histogram for the variables boxoff, prodcost,  dirIncome, release month, year released, profit. For each variable, choose an appropriate number of bins (? / 4 points)"
   ]
  },
  {
   "cell_type": "code",
   "execution_count": 3,
   "metadata": {},
   "outputs": [
    {
     "data": {
      "image/png": "[encoded data removed]",
      "text/plain": [
       "<Figure size 1080x720 with 6 Axes>"
      ]
     },
     "metadata": {
      "needs_background": "light"
     },
     "output_type": "display_data"
    }
   ],
   "source": [
    "#### getting the variables for which we want to plot the histograms\n",
    "\n",
    "\n",
    "(fig, axes) = plt.subplots(nrows = 2, ncols = 3, figsize = (15, 10))\n",
    "\n",
    "axes[0, 0].hist(mvdf['boxoff'], bins = 50, color = 'b', alpha = 1)\n",
    "axes[0, 0].set_xlabel('Boxoffice income')\n",
    "axes[0, 0].set_ylabel('Count')\n",
    "\n",
    "axes[0, 1].hist(mvdf['prodcost'], bins = 50, color = 'b', alpha = 1)\n",
    "axes[0, 1].set_xlabel('Production cost')\n",
    "axes[0, 1].set_ylabel('Count')\n",
    "\n",
    "axes[0, 2].hist(mvdf['dirIncome'], bins = 13, color = 'b', alpha = 1)\n",
    "axes[0, 2].set_xlabel('Director income')\n",
    "axes[0, 2].set_ylabel('Count')\n",
    "\n",
    "axes[1, 0].hist(mvdf['month'], bins = 12, color = 'b', alpha = 1)\n",
    "axes[1, 0].set_xlabel('Release Month')\n",
    "axes[1, 0].set_ylabel('Count')\n",
    "\n",
    "axes[1, 1].hist(mvdf['year'], bins = 4, color = 'b', alpha = 1)\n",
    "axes[1, 1].set_xlabel('Release Year')\n",
    "axes[1, 1].set_ylabel('Count')\n",
    "\n",
    "axes[1, 2].hist(mvdf['profit'], bins = 50, color = 'b', alpha = 1)\n",
    "axes[1, 2].set_xlabel('Profit')\n",
    "axes[1, 2].set_ylabel('Count')\n",
    "\n",
    "plt.show()"
   ]
  },
  {
   "cell_type": "markdown",
   "metadata": {},
   "source": [
    "*Figure 1*: Histograms for 6 variables from the movie set. Y-axis indicates the number of movies falling in a specific bin of the plotted variable. "
   ]
  },
  {
   "cell_type": "code",
   "execution_count": 4,
   "metadata": {},
   "outputs": [
    {
     "data": {
      "text/html": [
       "<div>\n",
       "<style scoped>\n",
       "    .dataframe tbody tr th:only-of-type {\n",
       "        vertical-align: middle;\n",
       "    }\n",
       "\n",
       "    .dataframe tbody tr th {\n",
       "        vertical-align: top;\n",
       "    }\n",
       "\n",
       "    .dataframe thead th {\n",
       "        text-align: right;\n",
       "    }\n",
       "</style>\n",
       "<table border=\"1\" class=\"dataframe\">\n",
       "  <thead>\n",
       "    <tr style=\"text-align: right;\">\n",
       "      <th></th>\n",
       "      <th>Unnamed: 0</th>\n",
       "      <th>boxoff</th>\n",
       "      <th>prodcost</th>\n",
       "      <th>dirIncome</th>\n",
       "      <th>dirGender</th>\n",
       "      <th>year</th>\n",
       "      <th>month</th>\n",
       "      <th>genre</th>\n",
       "      <th>numTheatres</th>\n",
       "      <th>profit</th>\n",
       "    </tr>\n",
       "  </thead>\n",
       "  <tbody>\n",
       "    <tr>\n",
       "      <th>0</th>\n",
       "      <td>0</td>\n",
       "      <td>88.648583</td>\n",
       "      <td>44.742936</td>\n",
       "      <td>3.393535</td>\n",
       "      <td>male</td>\n",
       "      <td>2012</td>\n",
       "      <td>3</td>\n",
       "      <td>comedy</td>\n",
       "      <td>139.0</td>\n",
       "      <td>43.905646</td>\n",
       "    </tr>\n",
       "    <tr>\n",
       "      <th>1</th>\n",
       "      <td>1</td>\n",
       "      <td>145.334924</td>\n",
       "      <td>38.835516</td>\n",
       "      <td>1.134711</td>\n",
       "      <td>female</td>\n",
       "      <td>2014</td>\n",
       "      <td>11</td>\n",
       "      <td>drama</td>\n",
       "      <td>213.0</td>\n",
       "      <td>106.499408</td>\n",
       "    </tr>\n",
       "    <tr>\n",
       "      <th>2</th>\n",
       "      <td>2</td>\n",
       "      <td>238.265684</td>\n",
       "      <td>29.532283</td>\n",
       "      <td>2.418883</td>\n",
       "      <td>male</td>\n",
       "      <td>2015</td>\n",
       "      <td>6</td>\n",
       "      <td>other</td>\n",
       "      <td>100.0</td>\n",
       "      <td>208.733401</td>\n",
       "    </tr>\n",
       "    <tr>\n",
       "      <th>3</th>\n",
       "      <td>3</td>\n",
       "      <td>212.714742</td>\n",
       "      <td>157.111899</td>\n",
       "      <td>2.034115</td>\n",
       "      <td>male</td>\n",
       "      <td>2014</td>\n",
       "      <td>10</td>\n",
       "      <td>adventure</td>\n",
       "      <td>436.0</td>\n",
       "      <td>55.602844</td>\n",
       "    </tr>\n",
       "    <tr>\n",
       "      <th>4</th>\n",
       "      <td>4</td>\n",
       "      <td>120.175461</td>\n",
       "      <td>30.547155</td>\n",
       "      <td>0.963219</td>\n",
       "      <td>female</td>\n",
       "      <td>2012</td>\n",
       "      <td>1</td>\n",
       "      <td>comedy</td>\n",
       "      <td>115.0</td>\n",
       "      <td>89.628307</td>\n",
       "    </tr>\n",
       "    <tr>\n",
       "      <th>...</th>\n",
       "      <td>...</td>\n",
       "      <td>...</td>\n",
       "      <td>...</td>\n",
       "      <td>...</td>\n",
       "      <td>...</td>\n",
       "      <td>...</td>\n",
       "      <td>...</td>\n",
       "      <td>...</td>\n",
       "      <td>...</td>\n",
       "      <td>...</td>\n",
       "    </tr>\n",
       "    <tr>\n",
       "      <th>245</th>\n",
       "      <td>245</td>\n",
       "      <td>187.231562</td>\n",
       "      <td>72.743712</td>\n",
       "      <td>3.105438</td>\n",
       "      <td>male</td>\n",
       "      <td>2012</td>\n",
       "      <td>12</td>\n",
       "      <td>adventure</td>\n",
       "      <td>366.0</td>\n",
       "      <td>114.487850</td>\n",
       "    </tr>\n",
       "    <tr>\n",
       "      <th>246</th>\n",
       "      <td>246</td>\n",
       "      <td>215.713195</td>\n",
       "      <td>136.851707</td>\n",
       "      <td>1.917771</td>\n",
       "      <td>male</td>\n",
       "      <td>2013</td>\n",
       "      <td>7</td>\n",
       "      <td>adventure</td>\n",
       "      <td>285.0</td>\n",
       "      <td>78.861488</td>\n",
       "    </tr>\n",
       "    <tr>\n",
       "      <th>247</th>\n",
       "      <td>247</td>\n",
       "      <td>166.827002</td>\n",
       "      <td>50.684470</td>\n",
       "      <td>2.414571</td>\n",
       "      <td>male</td>\n",
       "      <td>2014</td>\n",
       "      <td>1</td>\n",
       "      <td>other</td>\n",
       "      <td>233.0</td>\n",
       "      <td>116.142533</td>\n",
       "    </tr>\n",
       "    <tr>\n",
       "      <th>248</th>\n",
       "      <td>248</td>\n",
       "      <td>223.226997</td>\n",
       "      <td>40.103513</td>\n",
       "      <td>2.176928</td>\n",
       "      <td>male</td>\n",
       "      <td>2015</td>\n",
       "      <td>2</td>\n",
       "      <td>drama</td>\n",
       "      <td>489.0</td>\n",
       "      <td>183.123485</td>\n",
       "    </tr>\n",
       "    <tr>\n",
       "      <th>249</th>\n",
       "      <td>249</td>\n",
       "      <td>123.511036</td>\n",
       "      <td>48.287595</td>\n",
       "      <td>2.315791</td>\n",
       "      <td>male</td>\n",
       "      <td>2012</td>\n",
       "      <td>7</td>\n",
       "      <td>comedy</td>\n",
       "      <td>251.0</td>\n",
       "      <td>75.223441</td>\n",
       "    </tr>\n",
       "  </tbody>\n",
       "</table>\n",
       "<p>250 rows × 10 columns</p>\n",
       "</div>"
      ],
      "text/plain": [
       "     Unnamed: 0      boxoff    prodcost  dirIncome dirGender  year  month  \\\n",
       "0             0   88.648583   44.742936   3.393535      male  2012      3   \n",
       "1             1  145.334924   38.835516   1.134711    female  2014     11   \n",
       "2             2  238.265684   29.532283   2.418883      male  2015      6   \n",
       "3             3  212.714742  157.111899   2.034115      male  2014     10   \n",
       "4             4  120.175461   30.547155   0.963219    female  2012      1   \n",
       "..          ...         ...         ...        ...       ...   ...    ...   \n",
       "245         245  187.231562   72.743712   3.105438      male  2012     12   \n",
       "246         246  215.713195  136.851707   1.917771      male  2013      7   \n",
       "247         247  166.827002   50.684470   2.414571      male  2014      1   \n",
       "248         248  223.226997   40.103513   2.176928      male  2015      2   \n",
       "249         249  123.511036   48.287595   2.315791      male  2012      7   \n",
       "\n",
       "         genre  numTheatres      profit  \n",
       "0       comedy        139.0   43.905646  \n",
       "1        drama        213.0  106.499408  \n",
       "2        other        100.0  208.733401  \n",
       "3    adventure        436.0   55.602844  \n",
       "4       comedy        115.0   89.628307  \n",
       "..         ...          ...         ...  \n",
       "245  adventure        366.0  114.487850  \n",
       "246  adventure        285.0   78.861488  \n",
       "247      other        233.0  116.142533  \n",
       "248      drama        489.0  183.123485  \n",
       "249     comedy        251.0   75.223441  \n",
       "\n",
       "[250 rows x 10 columns]"
      ]
     },
     "metadata": {},
     "output_type": "display_data"
    }
   ],
   "source": [
    "display(mvdf)"
   ]
  },
  {
   "cell_type": "markdown",
   "metadata": {},
   "source": [
    "### Question 3. Written response: Justify the number of bins chosen for each variable. ( ? / 3 points)"
   ]
  },
  {
   "cell_type": "markdown",
   "metadata": {},
   "source": [
    "> For all continuous variables, as bin number of 50 seems to provide a detailed picture of the distribution. Given the noisiness, less categories may be slightly more appropriate. For month 12 bins and for year 4 bins are the natural choice, as they are discrete values. "
   ]
  },
  {
   "cell_type": "markdown",
   "metadata": {},
   "source": [
    "### Question 4: Describe the shape of the distribution for each variable, including the number of modes and the shape (symmetric, skew, uniform?).  (? / 6 points)"
   ]
  },
  {
   "cell_type": "markdown",
   "metadata": {},
   "source": [
    "> Box Office: Right-skewed - unimodal \n",
    "\n",
    "> Production cost: right-skewed - unimodal \n",
    "\n",
    "> Director Income: right skewed - unimodal  \n",
    "\n",
    "> Month: Clearly bimodal with peaks in 7/8 (summer movies) and 12 (Christmas). \n",
    "\n",
    "> Year: Possibly uniform on 2012-2015, with a possible dip at 2013\n",
    "\n",
    "> Profit: Roughly symmetric with one mode"
   ]
  },
  {
   "cell_type": "markdown",
   "metadata": {},
   "source": [
    "## Task 2: Tabulating and visualizing categorical data (pg. 24-30 and pg 250-256) (? / 20 points)"
   ]
  },
  {
   "cell_type": "markdown",
   "metadata": {},
   "source": [
    "### Question1. Create a contingency table of director gender (rows) by genre (columns) without the marginal sums. You may normalize the table by rows or columns. Print to the screen. (? / 4 points)"
   ]
  },
  {
   "cell_type": "code",
   "execution_count": 4,
   "metadata": {},
   "outputs": [
    {
     "data": {
      "text/html": [
       "<div>\n",
       "<style scoped>\n",
       "    .dataframe tbody tr th:only-of-type {\n",
       "        vertical-align: middle;\n",
       "    }\n",
       "\n",
       "    .dataframe tbody tr th {\n",
       "        vertical-align: top;\n",
       "    }\n",
       "\n",
       "    .dataframe thead th {\n",
       "        text-align: right;\n",
       "    }\n",
       "</style>\n",
       "<table border=\"1\" class=\"dataframe\">\n",
       "  <thead>\n",
       "    <tr style=\"text-align: right;\">\n",
       "      <th>genre</th>\n",
       "      <th>action</th>\n",
       "      <th>adventure</th>\n",
       "      <th>comedy</th>\n",
       "      <th>drama</th>\n",
       "      <th>other</th>\n",
       "    </tr>\n",
       "    <tr>\n",
       "      <th>dirGender</th>\n",
       "      <th></th>\n",
       "      <th></th>\n",
       "      <th></th>\n",
       "      <th></th>\n",
       "      <th></th>\n",
       "    </tr>\n",
       "  </thead>\n",
       "  <tbody>\n",
       "    <tr>\n",
       "      <td>female</td>\n",
       "      <td>9</td>\n",
       "      <td>6</td>\n",
       "      <td>13</td>\n",
       "      <td>5</td>\n",
       "      <td>4</td>\n",
       "    </tr>\n",
       "    <tr>\n",
       "      <td>male</td>\n",
       "      <td>48</td>\n",
       "      <td>58</td>\n",
       "      <td>35</td>\n",
       "      <td>31</td>\n",
       "      <td>41</td>\n",
       "    </tr>\n",
       "  </tbody>\n",
       "</table>\n",
       "</div>"
      ],
      "text/plain": [
       "genre      action  adventure  comedy  drama  other\n",
       "dirGender                                         \n",
       "female          9          6      13      5      4\n",
       "male           48         58      35     31     41"
      ]
     },
     "execution_count": 4,
     "metadata": {},
     "output_type": "execute_result"
    }
   ],
   "source": [
    "table = pd.crosstab(mvdf.dirGender, mvdf.genre, margins = False)\n",
    "table"
   ]
  },
  {
   "cell_type": "markdown",
   "metadata": {},
   "source": [
    "### Question2. Plot the genre counts by director gender as a grouped bar chart (? / 3 points)"
   ]
  },
  {
   "cell_type": "code",
   "execution_count": 5,
   "metadata": {},
   "outputs": [
    {
     "data": {
      "text/plain": [
       "Text(0, 0.5, 'Count')"
      ]
     },
     "execution_count": 5,
     "metadata": {},
     "output_type": "execute_result"
    },
    {
     "data": {
      "text/plain": [
       "<Figure size 432x288 with 0 Axes>"
      ]
     },
     "metadata": {},
     "output_type": "display_data"
    },
    {
     "data": {
      "image/png": "[encoded data removed]",
      "text/plain": [
       "<Figure size 432x288 with 1 Axes>"
      ]
     },
     "metadata": {
      "needs_background": "light"
     },
     "output_type": "display_data"
    }
   ],
   "source": [
    "fig = plt.figure()\n",
    "ax = table.plot(kind = 'bar', stacked = False)\n",
    "ax.set_ylabel('Count')"
   ]
  },
  {
   "cell_type": "markdown",
   "metadata": {},
   "source": [
    "*Figure 2*: Bar plot of the number of movies in each genre, depending on the gender of the director (x-axis)"
   ]
  },
  {
   "cell_type": "markdown",
   "metadata": {},
   "source": [
    "### Question3. Make a Figure with 2 subplots. Plot the genre counts by director gender as a grouped barplot in one subplot, and as a stacked bar chart in the other subplot. (? / 3 points)"
   ]
  },
  {
   "cell_type": "code",
   "execution_count": 6,
   "metadata": {},
   "outputs": [
    {
     "data": {
      "image/png": "[encoded data removed]",
      "text/plain": [
       "<Figure size 1080x720 with 2 Axes>"
      ]
     },
     "metadata": {
      "needs_background": "light"
     },
     "output_type": "display_data"
    }
   ],
   "source": [
    "(fig3, axes)    = plt.subplots(nrows = 1, ncols = 2, figsize = (15, 10))\n",
    "table.plot(kind = 'bar', ax = axes[0], stacked = True)\n",
    "table.plot(kind = 'bar', ax = axes[1], stacked = False)\n",
    "axes[0].set_title('stacked bar graph')\n",
    "axes[0].set_ylabel('Count')\n",
    "axes[1].set_title('unstacked bar graph')\n",
    "axes[1].set_ylabel('Count')\n",
    "plt.show()"
   ]
  },
  {
   "cell_type": "markdown",
   "metadata": {},
   "source": [
    "*Figure 3*: Left hand panel shows the stacked bar plot of the number of movies in each genre grouped based on the gender of the director. The right hand panel shows the un-stacked bar plot of the number of movies in each genre grouped based on the gender of the director."
   ]
  },
  {
   "cell_type": "markdown",
   "metadata": {},
   "source": [
    "### Question4. Generate a table of director Gender (rows) and genre (columns), normalized by the row-marginal counts of male and female director, such that you have conditional probabilities of movie genre, given the gender of the director. Print the table and make a stacked barplot. (? / 3 points)"
   ]
  },
  {
   "cell_type": "code",
   "execution_count": 7,
   "metadata": {},
   "outputs": [
    {
     "name": "stdout",
     "output_type": "stream",
     "text": [
      "genre        action  adventure    comedy     drama     other\n",
      "dirGender                                                   \n",
      "female     0.243243   0.162162  0.351351  0.135135  0.108108\n",
      "male       0.225352   0.272300  0.164319  0.145540  0.192488\n"
     ]
    },
    {
     "data": {
      "text/plain": [
       "Text(0, 0.5, 'Probability')"
      ]
     },
     "execution_count": 7,
     "metadata": {},
     "output_type": "execute_result"
    },
    {
     "data": {
      "text/plain": [
       "<Figure size 432x288 with 0 Axes>"
      ]
     },
     "metadata": {},
     "output_type": "display_data"
    },
    {
     "data": {
      "image/png": "[encoded data removed]",
      "text/plain": [
       "<Figure size 432x288 with 1 Axes>"
      ]
     },
     "metadata": {
      "needs_background": "light"
     },
     "output_type": "display_data"
    }
   ],
   "source": [
    "table2 = pd.crosstab(mvdf.dirGender, mvdf.genre, normalize = 'index') #setting normalize option equal to 'index' will normalize over each row\n",
    "print(table2)\n",
    "fig4   = plt.figure()\n",
    "ax     = table2.plot(kind = 'bar', stacked = True)\n",
    "ax.set_ylabel('Probability')"
   ]
  },
  {
   "cell_type": "markdown",
   "metadata": {},
   "source": [
    "*Figure 4*: shows the probability (y-axis) of each movie genre being directed by male or female directors (x-axis: director gender)"
   ]
  },
  {
   "cell_type": "markdown",
   "metadata": {},
   "source": [
    "### Question5. Generate a table of movie genre (rows) and director gender (columns), normalized by the row-marginal counts for each genre, such that you have conditional probabilities of the director gender, given the movie genre.  Print the table and make a stacked barplot. (? / 3 points) (? / 3 points)"
   ]
  },
  {
   "cell_type": "code",
   "execution_count": 8,
   "metadata": {},
   "outputs": [
    {
     "name": "stdout",
     "output_type": "stream",
     "text": [
      "dirGender    female      male\n",
      "genre                        \n",
      "action     0.157895  0.842105\n",
      "adventure  0.093750  0.906250\n",
      "comedy     0.270833  0.729167\n",
      "drama      0.138889  0.861111\n",
      "other      0.088889  0.911111\n"
     ]
    },
    {
     "data": {
      "text/plain": [
       "Text(0, 0.5, 'Probability')"
      ]
     },
     "execution_count": 8,
     "metadata": {},
     "output_type": "execute_result"
    },
    {
     "data": {
      "text/plain": [
       "<Figure size 432x288 with 0 Axes>"
      ]
     },
     "metadata": {},
     "output_type": "display_data"
    },
    {
     "data": {
      "image/png": "[encoded data removed]",
      "text/plain": [
       "<Figure size 432x288 with 1 Axes>"
      ]
     },
     "metadata": {
      "needs_background": "light"
     },
     "output_type": "display_data"
    }
   ],
   "source": [
    "table2 = pd.crosstab(mvdf.genre, mvdf.dirGender, normalize = 'index') #setting normalize option equal to 'index' will normalize over each row\n",
    "print(table2)\n",
    "fig4   = plt.figure()\n",
    "ax     = table2.plot(kind = 'bar', stacked = True)\n",
    "ax.set_ylabel('Probability')"
   ]
  },
  {
   "cell_type": "markdown",
   "metadata": {},
   "source": [
    "*Figure 5*: shows the probability of each director gender (y-axis) for each movie genre (x-axis)"
   ]
  },
  {
   "cell_type": "markdown",
   "metadata": {},
   "source": [
    "### Question6. Written response: Compare the 2 plots from questions 4 and 5. For each plot, describe which aspect of the data can be most readily seen (? / 4 points)"
   ]
  },
  {
   "cell_type": "markdown",
   "metadata": {},
   "source": [
    "> Question 4:  difference in relative proportion of genres for male and female directors  \n",
    "Question 5: difference in relative proportion of female directors per genre "
   ]
  },
  {
   "cell_type": "markdown",
   "metadata": {},
   "source": [
    "## Task 3: Probabilities (? / 20 points)"
   ]
  },
  {
   "cell_type": "markdown",
   "metadata": {},
   "source": [
    "For each of the questions in this task, you  should show the formula you used to compute the probability. <br>\n",
    "For each of the tasks in this section, print the answer in a full sentence. For instance, your output should not just be a value but instead: <br>\n",
    "__Probability of movie being sci-fi given that the gender of the director is male, is 0.602__ <br>\n",
    "Using the contingency tables, compute and print:"
   ]
  },
  {
   "cell_type": "markdown",
   "metadata": {},
   "source": [
    "### Question1. The marginal probability of a movie being an action movie (? / 2 points)"
   ]
  },
  {
   "cell_type": "code",
   "execution_count": 9,
   "metadata": {},
   "outputs": [
    {
     "name": "stdout",
     "output_type": "stream",
     "text": [
      "genre      action  adventure  comedy  drama  other  All\n",
      "dirGender                                              \n",
      "female          9          6      13      5      4   37\n",
      "male           48         58      35     31     41  213\n",
      "All            57         64      48     36     45  250\n",
      "The marginal probability of a movie being an action movie is 0.228 \n",
      "\n"
     ]
    }
   ],
   "source": [
    "table   = pd.crosstab(mvdf.dirGender, mvdf.genre, margins = True)\n",
    "print(table)\n",
    "pAction = table['action']['All']/table['All']['All']\n",
    "print('The marginal probability of a movie being an action movie is %.3f' % pAction, '\\n')"
   ]
  },
  {
   "cell_type": "markdown",
   "metadata": {},
   "source": [
    "### Question2. the marginal probability of a movie being a comedy (? / 2 points)"
   ]
  },
  {
   "cell_type": "code",
   "execution_count": 10,
   "metadata": {},
   "outputs": [
    {
     "name": "stdout",
     "output_type": "stream",
     "text": [
      "the marginal probability of a movie being a romance movie is 0.192 \n",
      "\n"
     ]
    }
   ],
   "source": [
    "pComedy = table['comedy']['All']/table['All']['All']\n",
    "print('the marginal probability of a movie being a romance movie is %.3f' % pComedy, '\\n')"
   ]
  },
  {
   "cell_type": "markdown",
   "metadata": {},
   "source": [
    "### Question3. the marginal probability of the director being female (? / 2 points)"
   ]
  },
  {
   "cell_type": "code",
   "execution_count": 11,
   "metadata": {},
   "outputs": [
    {
     "name": "stdout",
     "output_type": "stream",
     "text": [
      "the marginal probability of the director being female is 0.148 \n",
      "\n"
     ]
    }
   ],
   "source": [
    "pFemale = table['All']['female']/table['All']['All']\n",
    "print('the marginal probability of the director being female is %.3f' % pFemale, '\\n')"
   ]
  },
  {
   "cell_type": "markdown",
   "metadata": {},
   "source": [
    "### Question4. the conditional probability of the movie being an action movie given that the director’s gender is female (? / 2 points)"
   ]
  },
  {
   "cell_type": "code",
   "execution_count": 12,
   "metadata": {},
   "outputs": [
    {
     "name": "stdout",
     "output_type": "stream",
     "text": [
      "the conditional probability of the movie being an action movie given that the director's gender is female is 0.243 \n",
      "\n"
     ]
    }
   ],
   "source": [
    "pActionGivenFemale = (table['action']['female']/table['All']['All'])/(pFemale)\n",
    "print('the conditional probability of the movie being an action movie given that the director\\'s gender is female is %.3f' % pActionGivenFemale, '\\n')"
   ]
  },
  {
   "cell_type": "markdown",
   "metadata": {},
   "source": [
    "### Question5. the conditional probability of the movie being an action movie given that the director’s gender is male (? / 2 points)"
   ]
  },
  {
   "cell_type": "code",
   "execution_count": 13,
   "metadata": {},
   "outputs": [
    {
     "name": "stdout",
     "output_type": "stream",
     "text": [
      "the conditional probability of the movie being an action movie given that the director's gender is male is 0.225 \n",
      "\n"
     ]
    }
   ],
   "source": [
    "pMale            = table['All']['male']/table['All']['All']\n",
    "pActionGivenMale = (table['action']['male']/table['All']['All'])/(pMale)\n",
    "print('the conditional probability of the movie being an action movie given that the director\\'s gender is male is %.3f' % pActionGivenMale, '\\n')"
   ]
  },
  {
   "cell_type": "markdown",
   "metadata": {},
   "source": [
    "### Question6. the conditional probability of the director’s gender being female given that the movie is an action movie (? / 2 points)"
   ]
  },
  {
   "cell_type": "code",
   "execution_count": 14,
   "metadata": {},
   "outputs": [
    {
     "name": "stdout",
     "output_type": "stream",
     "text": [
      "the conditional probability of the director being female given that the movie is action is 0.158 \n",
      "\n"
     ]
    }
   ],
   "source": [
    "pFemaleGivenAction = (table['action']['female']/table['All']['All'])/(pAction)\n",
    "print('the conditional probability of the director being female given that the movie is action is %.3f' % pFemaleGivenAction, '\\n')"
   ]
  },
  {
   "cell_type": "markdown",
   "metadata": {},
   "source": [
    "### Question7. the conditional probability of the director’s gender being male knowing that the movie is an action movie (? / 2 points)"
   ]
  },
  {
   "cell_type": "code",
   "execution_count": 15,
   "metadata": {},
   "outputs": [
    {
     "name": "stdout",
     "output_type": "stream",
     "text": [
      "the conditional probability of the director being male given that the movie is action is 0.842 \n",
      "\n"
     ]
    }
   ],
   "source": [
    "pMaleGivenAction = (table['action']['male']/table['All']['All'])/(pAction)\n",
    "print('the conditional probability of the director being male given that the movie is action is %.3f' % pMaleGivenAction, '\\n')"
   ]
  },
  {
   "cell_type": "markdown",
   "metadata": {},
   "source": [
    "### Question8. How does the probability of the director being female change from when you don’t know what the movie is to when you know that the movie is an action movie?  (? / 2 points)"
   ]
  },
  {
   "cell_type": "markdown",
   "metadata": {},
   "source": [
    "The probability of the director being a female slight increases from 0.148 when we don't know the genre is to 0.158 when we know that the movie is an action movie. "
   ]
  },
  {
   "cell_type": "markdown",
   "metadata": {},
   "source": [
    "### Question9. What is the joint probability of a movie being an action movie AND being directed by a woman? (? / 2 points)"
   ]
  },
  {
   "cell_type": "code",
   "execution_count": 16,
   "metadata": {},
   "outputs": [
    {
     "name": "stdout",
     "output_type": "stream",
     "text": [
      "the joint probability of a movie being action and directed by a woman is 0.036 \n",
      "\n"
     ]
    }
   ],
   "source": [
    "pFemaleAndAction = table['action']['female']/table['All']['All']\n",
    "print('the joint probability of a movie being action and directed by a woman is %.3f' % pFemaleAndAction, '\\n')"
   ]
  },
  {
   "cell_type": "markdown",
   "metadata": {},
   "source": [
    "### Question10. What is the expected probability of a movie being an action movie AND being directed by a woman IF gender and genre were independent? (? / 2 points)"
   ]
  },
  {
   "cell_type": "code",
   "execution_count": 17,
   "metadata": {},
   "outputs": [
    {
     "name": "stdout",
     "output_type": "stream",
     "text": [
      "the expected probability of a movie being an action movie and being directed by a woman if they were independent is 0.034 \n",
      "\n"
     ]
    }
   ],
   "source": [
    "pActionIndependentFemale = (table['action']['All']/table['All']['All'])*(table['All']['female']/table['All']['All'])\n",
    "print('the expected probability of a movie being an action movie and being directed by a woman if they were independent is %.3f' % pActionIndependentFemale, '\\n')\n"
   ]
  },
  {
   "cell_type": "markdown",
   "metadata": {},
   "source": [
    "## Task 4: Descriptive Statistics by Category (pg 24-30 and pg 250-256) (? / 20 points)"
   ]
  },
  {
   "cell_type": "markdown",
   "metadata": {},
   "source": [
    "### Question1. Using pandas statistics functions (pg. 137-141) and the groupby method determine the mean for production cost by gender. (? / 5 points)"
   ]
  },
  {
   "cell_type": "code",
   "execution_count": 18,
   "metadata": {},
   "outputs": [
    {
     "name": "stdout",
     "output_type": "stream",
     "text": [
      "***** the mean production cost for each director's gender *****\n",
      "dirGender\n",
      "female    53.186599\n",
      "male      64.998486\n",
      "Name: prodcost, dtype: float64 \n",
      "\n"
     ]
    }
   ],
   "source": [
    "costMean = mvdf['prodcost'].groupby(mvdf['dirGender']).mean()\n",
    "print('***** the mean production cost for each director\\'s gender *****')\n",
    "print(costMean, '\\n')"
   ]
  },
  {
   "cell_type": "markdown",
   "metadata": {},
   "source": [
    "### Question2. Determine and print the mean for production cost by genre. For this question instead of writing four individual print statements use a for loop to iterate over the different genre’s that exist. This needs to be done in three steps (? / 15 points)"
   ]
  },
  {
   "cell_type": "markdown",
   "metadata": {},
   "source": [
    "#### a. Use the groupby function to calculate the mean by genre (? / 3 points)"
   ]
  },
  {
   "cell_type": "code",
   "execution_count": 19,
   "metadata": {},
   "outputs": [],
   "source": [
    "##### grouping the production costs based on genre and calculating the mean production cost for each genre\n",
    "costByGenreMean = mvdf['prodcost'].groupby(mvdf['genre']).mean()"
   ]
  },
  {
   "cell_type": "markdown",
   "metadata": {},
   "source": [
    "#### b. Create a variable that stores the names of the genre categories  (? / 3 points)\n",
    "genreGroups = D.groupby('genre').groups.keys()"
   ]
  },
  {
   "cell_type": "code",
   "execution_count": 20,
   "metadata": {},
   "outputs": [],
   "source": [
    "genreGroups = mvdf.groupby('genre').groups.keys() # extracting the genres"
   ]
  },
  {
   "cell_type": "markdown",
   "metadata": {},
   "source": [
    "#### c. Iterate over this variable using a for loop and print the means for each category using a full sentence of the form \"The mean production cost for an xxxx movie is yyyy. (? / 9 points)"
   ]
  },
  {
   "cell_type": "code",
   "execution_count": 21,
   "metadata": {},
   "outputs": [
    {
     "name": "stdout",
     "output_type": "stream",
     "text": [
      "***** Mean production cost for each genre *****\n",
      "the mean production cost for an action movie is 94.585\n",
      "the mean production cost for an adventure movie is 91.490\n",
      "the mean production cost for an comedy movie is 35.530\n",
      "the mean production cost for an drama movie is 42.728\n",
      "the mean production cost for an other movie is 29.382\n"
     ]
    }
   ],
   "source": [
    "print('***** Mean production cost for each genre *****')\n",
    "for g in sorted(genreGroups):\n",
    "    print('the mean production cost for an %s movie is %.3f' % (g, costByGenreMean[g]))\n"
   ]
  },
  {
   "cell_type": "markdown",
   "metadata": {},
   "source": [
    "## Task 5: Histogram visualization by group (? / 25 points)\n",
    "In this task you will learn how to use __seaborn__. Seaborn is a library built on top of matplotlib and it's closely integrated with pandas data structures.  "
   ]
  },
  {
   "cell_type": "markdown",
   "metadata": {},
   "source": [
    "### Question1.Using _groupby_ create two series, one that has the director’s income for those of the male gender, and one for females.  Use _groupby_ to first group the directorIncome values and then use _get_group(genderValue)_ to create a new series for the specified gender (? / 4 points)"
   ]
  },
  {
   "cell_type": "code",
   "execution_count": 22,
   "metadata": {},
   "outputs": [],
   "source": [
    "genderIncome = mvdf['dirIncome'].groupby(mvdf['dirGender'])\n",
    "\n",
    "#### group director income based on gender\n",
    "maleIncome   = genderIncome.get_group('male')\n",
    "femaleIncome = genderIncome.get_group('female')"
   ]
  },
  {
   "cell_type": "markdown",
   "metadata": {},
   "source": [
    "### Question2. Visualize on the same plot the distribution of incomes using the histogram – plot the two histograms on top of each other for direct comparison. (? /5 points)"
   ]
  },
  {
   "cell_type": "code",
   "execution_count": 23,
   "metadata": {},
   "outputs": [
    {
     "data": {
      "image/png": "[encoded data removed]",
      "text/plain": [
       "<Figure size 432x288 with 1 Axes>"
      ]
     },
     "metadata": {
      "needs_background": "light"
     },
     "output_type": "display_data"
    }
   ],
   "source": [
    "fig = plt.figure()\n",
    "maleIncomeHist   = sns.distplot(maleIncome, bins = 20, color = 'b')\n",
    "femaleIncomeHist = sns.distplot(femaleIncome, bins = 20, color = 'r')\n",
    "plt.title('Histogram for director income by gender')\n",
    "plt.show()\n",
    "\n",
    "# alternatively, you can use pyplot's hist\n",
    "#fig = plt.figure()\n",
    "#maleIncomeHist   = plt.hist(maleIncome, bins = 20, color = 'b', alpha = 0.3)\n",
    "#femaleIncomeHist = plt.hist(femaleIncome, bins = 20, color = 'r', alpha = 0.5)\n",
    "#plt.title('Histogram for director income by gender')\n",
    "#plt.show()"
   ]
  },
  {
   "cell_type": "markdown",
   "metadata": {},
   "source": [
    "*Figure 6*: shows the histograms of the director income by gender"
   ]
  },
  {
   "cell_type": "markdown",
   "metadata": {},
   "source": [
    "### Question3. Plot the same data, using a boxplot, splitting by directorGender (? / 4 points)"
   ]
  },
  {
   "cell_type": "code",
   "execution_count": 3,
   "metadata": {},
   "outputs": [
    {
     "data": {
      "image/png": "[encoded data removed]",
      "text/plain": [
       "<Figure size 432x288 with 1 Axes>"
      ]
     },
     "metadata": {
      "needs_background": "light"
     },
     "output_type": "display_data"
    }
   ],
   "source": [
    "fig = plt.figure()\n",
    "ax = sns.boxplot(x = 'dirGender', y = 'dirIncome',  data = mvdf)\n",
    "plt.show()"
   ]
  },
  {
   "cell_type": "markdown",
   "metadata": {},
   "source": [
    "*Figure 7*: shows the bar plot of the director income (y-axis) grouped by gender (x-axis)"
   ]
  },
  {
   "cell_type": "markdown",
   "metadata": {},
   "source": [
    "### Question4. Plot the same data using a violin plot, splitting by director gender. (? / 4 points)"
   ]
  },
  {
   "cell_type": "code",
   "execution_count": 4,
   "metadata": {},
   "outputs": [
    {
     "data": {
      "image/png": "[encoded data removed]",
      "text/plain": [
       "<Figure size 432x288 with 1 Axes>"
      ]
     },
     "metadata": {
      "needs_background": "light"
     },
     "output_type": "display_data"
    }
   ],
   "source": [
    "fig = plt.figure()\n",
    "ax = sns.violinplot(x = 'dirGender', y = 'dirIncome',  data = mvdf)\n",
    "plt.show()"
   ]
  },
  {
   "cell_type": "markdown",
   "metadata": {},
   "source": [
    "*Figure 8*: shows the violinplot of the director income by gender"
   ]
  },
  {
   "cell_type": "markdown",
   "metadata": {},
   "source": [
    "### Question5. Make a boxplot of director income split by movie genre. (? /4 points)"
   ]
  },
  {
   "cell_type": "code",
   "execution_count": 5,
   "metadata": {},
   "outputs": [
    {
     "data": {
      "image/png": "[encoded data removed]",
      "text/plain": [
       "<Figure size 432x288 with 1 Axes>"
      ]
     },
     "metadata": {
      "needs_background": "light"
     },
     "output_type": "display_data"
    }
   ],
   "source": [
    "fig = plt.figure()\n",
    "ax = sns.boxplot(x = 'genre', y = 'dirIncome',  data = mvdf)\n",
    "plt.show()"
   ]
  },
  {
   "cell_type": "markdown",
   "metadata": {},
   "source": [
    "*Figure 9*: shows the barplot of the director income for each movie genre"
   ]
  },
  {
   "cell_type": "markdown",
   "metadata": {},
   "source": [
    "### Question6. Make a violinplotof director income split by movie genre (? / 4 points)"
   ]
  },
  {
   "cell_type": "code",
   "execution_count": 27,
   "metadata": {},
   "outputs": [
    {
     "data": {
      "image/png": "[encoded data removed]",
      "text/plain": [
       "<Figure size 432x288 with 1 Axes>"
      ]
     },
     "metadata": {
      "needs_background": "light"
     },
     "output_type": "display_data"
    }
   ],
   "source": [
    "genreIncome = mvdf['dirIncome'].groupby(mvdf['genre'])\n",
    "genreGroups = mvdf.groupby('genre').groups.keys()\n",
    "fig = plt.figure()\n",
    "\n",
    "ax = sns.violinplot(x = 'genre', y = 'dirIncome',  data = mvdf)"
   ]
  },
  {
   "cell_type": "markdown",
   "metadata": {},
   "source": [
    "*Figure 10*: shows the violinplot of the director income for each movie genre"
   ]
  }
 ],
 "metadata": {
  "kernelspec": {
   "display_name": "Python 3",
   "language": "python",
   "name": "python3"
  },
  "language_info": {
   "codemirror_mode": {
    "name": "ipython",
    "version": 3
   },
   "file_extension": ".py",
   "mimetype": "text/x-python",
   "name": "python",
   "nbconvert_exporter": "python",
   "pygments_lexer": "ipython3",
   "version": "3.8.8"
  }
 },
 "nbformat": 4,
 "nbformat_minor": 2
}

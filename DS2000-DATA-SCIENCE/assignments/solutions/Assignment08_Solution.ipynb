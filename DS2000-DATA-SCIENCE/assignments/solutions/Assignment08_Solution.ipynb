{
 "cells": [
  {
   "cell_type": "markdown",
   "metadata": {},
   "source": [
    "# Assignment 8: Mathematical modelling - model estimation\n",
    "## Preliminaries"
   ]
  },
  {
   "cell_type": "code",
   "execution_count": 10,
   "metadata": {},
   "outputs": [],
   "source": [
    "import matplotlib\n",
    "matplotlib.use('TkAgg')\n",
    "import matplotlib.pyplot as plt \n",
    "%matplotlib inline\n",
    "import scipy.optimize as so\n",
    "import pandas as pd \n",
    "import numpy as np\n",
    "import statsmodels.formula.api as sm\n",
    "import statsmodels.api as ss\n"
   ]
  },
  {
   "cell_type": "markdown",
   "metadata": {},
   "source": [
    "## Task 1: Robust regression ( / 20 pts)\n",
    "### Question 1 ( / 13 pts)\n",
    "Start with the function code that you wrote in homework 7. Modify the function simpleRegLossRSS to calculate the summed absolute deviation of the prediction from the data (instead of the residual sum-of-squares). Call this new function simpleRegLossSAD. Modify your simpleRegFit function (Task 3, Question 4) from Homework 7 to take a flexible loss function as a 3rd input argument. Now call the function with your new loss function to calculate a regression line of tailL (y) against age (x) in the possum data set (see HW7). Your function simpleRegFit  should provide a plot of the fit. Compare the fit with the fit you achieved with the squared error (HW7, task 3, question 5). What do you observe?"
   ]
  },
  {
   "cell_type": "code",
   "execution_count": 11,
   "metadata": {},
   "outputs": [
    {
     "name": "stdout",
     "output_type": "stream",
     "text": [
      "      fun: 74.0370274395174\n",
      " hess_inv: array([[ 0.38092146, -0.07332728],\n",
      "       [-0.07332728,  0.0146772 ]])\n",
      "      jac: array([-0.,  2.])\n",
      "  message: 'Desired error not necessarily achieved due to precision loss.'\n",
      "     nfev: 141\n",
      "      nit: 7\n",
      "     njev: 129\n",
      "   status: 2\n",
      "  success: False\n",
      "        x: array([34.39445884,  0.36851372])\n",
      "427.77680496973517\n",
      "R2= 0.1434203566181308\n"
     ]
    },
    {
     "data": {
      "image/png": "[encoded data removed]",
      "text/plain": [
       "<Figure size 432x288 with 1 Axes>"
      ]
     },
     "metadata": {
      "needs_background": "light"
     },
     "output_type": "display_data"
    }
   ],
   "source": [
    "def simpleRegPredict(b,x):\n",
    "    yp=b[0]+b[1]*x\n",
    "    return yp \n",
    "\n",
    "def simpleRegLossRSS(b,x,y):\n",
    "    predY = simpleRegPredict(b,x)\n",
    "    res = y-predY\n",
    "    rss = sum(res**2)\n",
    "    deriv = np.zeros(2)\n",
    "    deriv[0]=-2*sum(res)\n",
    "    deriv[1]=-2*sum(res*x)\n",
    "    return (rss,deriv)\n",
    "\n",
    "def simpleRegLossSAD(b,x,y):\n",
    "    predY = simpleRegPredict(b,x)\n",
    "    res = y-predY\n",
    "    sad = sum(res.abs())\n",
    "    deriv = np.zeros(2)\n",
    "    deriv[0]=-sum(np.sign(res))\n",
    "    deriv[1]=-sum(np.sign(res)*x)\n",
    "    return (sad,deriv)\n",
    "\n",
    "def plotPrediction(b,x,y,predfcn):\n",
    "    fig = plt.figure()\n",
    "    ax = fig.add_subplot(1,1,1)\n",
    "    ax.scatter(x,y)\n",
    "    xp = np.linspace(min(x),max(x),num=50)\n",
    "    yp = predfcn(b,xp)\n",
    "    ax.plot(xp,yp,'r')\n",
    "    \n",
    "def simpleRegFit(x,y,lossFcn=simpleRegLossRSS):\n",
    "    b0=[np.mean(y),0]\n",
    "    RES = so.minimize(lossFcn,b0,args=(x,y),jac=True)\n",
    "    print(RES)\n",
    "    b=RES.x # Results\n",
    "    plotPrediction(b,x,y,simpleRegPredict)\n",
    "    res = y-np.mean(y)\n",
    "    TSS = sum(res**2)\n",
    "    RSS,grad = simpleRegLossRSS(b,x,y)\n",
    "    print(RSS)\n",
    "    R2 = 1-RSS/TSS \n",
    "    return (R2,b)\n",
    "\n",
    "    \n",
    "D=pd.read_csv('possum.csv')\n",
    "R2,b=simpleRegFit(D.age,D.tailL,lossFcn=simpleRegLossSAD)\n",
    "plt.xlabel('age[years]')\n",
    "plt.ylabel('TailLength[cm]')\n",
    "print('R2=',R2)"
   ]
  },
  {
   "cell_type": "markdown",
   "metadata": {},
   "source": [
    "*Figure 1* figure shows the scatter plot for the age in years and tail length in cm. The linear regression fit is also plotted on top of the scatter plot."
   ]
  },
  {
   "cell_type": "markdown",
   "metadata": {},
   "source": [
    "> The line fits the remaining data points (except the outlier) much better than the solution that minimizes the squared error. Using median regression had a simplar effect as excluding the outlier: it reduced the slope of the fitted line. "
   ]
  },
  {
   "cell_type": "code",
   "execution_count": 12,
   "metadata": {},
   "outputs": [
    {
     "name": "stdout",
     "output_type": "stream",
     "text": [
      "      fun: 388.10162450066576\n",
      " hess_inv: array([[ 0.05082113, -0.01009765],\n",
      "       [-0.01009765,  0.00255215]])\n",
      "      jac: array([2.41584530e-13, 7.95807864e-13])\n",
      "  message: 'Optimization terminated successfully.'\n",
      "     nfev: 6\n",
      "      nit: 4\n",
      "     njev: 6\n",
      "   status: 0\n",
      "  success: True\n",
      "        x: array([33.35046605,  0.75372836])\n",
      "388.10162450066576\n",
      "R2= 0.22286587947604075\n"
     ]
    },
    {
     "data": {
      "image/png": "[encoded data removed]",
      "text/plain": [
       "<Figure size 432x288 with 1 Axes>"
      ]
     },
     "metadata": {
      "needs_background": "light"
     },
     "output_type": "display_data"
    }
   ],
   "source": [
    "R2,b=simpleRegFit(D.age,D.tailL,lossFcn=simpleRegLossRSS)\n",
    "plt.xlabel('age[years]')\n",
    "plt.ylabel('TailLength[cm]')\n",
    "print('R2=',R2)"
   ]
  },
  {
   "cell_type": "markdown",
   "metadata": {},
   "source": [
    "## Task 2: Nonlinear (polynomial) regression ( / 40 pts)\n",
    "For this task, we will use a new data set (fertilizer.csv), which comes from an agricultural study. Each plot of the field (a 10m-by-10m square) was given a randomly determined concentration of fertilizer (in ml/week/m2). The harvest yield for grain in kg/patch was recorded. \n",
    "The data has two fields \n",
    "- fertCon: Concentration of fertilizer\n",
    "- harvest: Yield of the harvest in kg\n",
    "\n",
    "\n",
    "### Question 1 ( / 5 pts)\n",
    "Load the data set and make a scatter plot of fertilizer concentration on the x-axis and harvest yield on the y-axis. How would you describe the relationship? "
   ]
  },
  {
   "cell_type": "code",
   "execution_count": 13,
   "metadata": {},
   "outputs": [
    {
     "data": {
      "text/plain": [
       "Text(0, 0.5, 'harvest')"
      ]
     },
     "execution_count": 13,
     "metadata": {},
     "output_type": "execute_result"
    },
    {
     "data": {
      "image/png": "[encoded data removed]",
      "text/plain": [
       "<Figure size 432x288 with 1 Axes>"
      ]
     },
     "metadata": {
      "needs_background": "light"
     },
     "output_type": "display_data"
    }
   ],
   "source": [
    "D=pd.read_csv('fertilizer.csv')\n",
    "plt.scatter(D.fertCon,D.harvest)\n",
    "plt.xlabel('fertilizer concentration')\n",
    "plt.ylabel('harvest')\n"
   ]
  },
  {
   "cell_type": "markdown",
   "metadata": {},
   "source": [
    "*Figure 2*. Figure shows the scatter plot of harvest yiled vs fertilizer concentration\n",
    "There is a positive relationship between the two variables that is relatively well described by a line - but not quite - it seems to have some smaller nonlinear component. "
   ]
  },
  {
   "cell_type": "markdown",
   "metadata": {},
   "source": [
    "### Question 2 ( / 12 pts)\n",
    "Write a function called polyRegPredict(b,x) which returns the prediction of a polynomial regression model on x. The length of b should indicate the order of the model. If b has length 1, the model should be of order 0 (constant). If b has length 2, it should be a linear regression model, if b has length 3, it should be quadratic model (order 2). Call your function with x=np.linspace(-5,5,10) and b=[-10,-4,1]. Plot the result as a scatter plot."
   ]
  },
  {
   "cell_type": "code",
   "execution_count": 14,
   "metadata": {},
   "outputs": [
    {
     "data": {
      "text/plain": [
       "Text(0, 0.5, 'y')"
      ]
     },
     "execution_count": 14,
     "metadata": {},
     "output_type": "execute_result"
    },
    {
     "data": {
      "image/png": "[encoded data removed]",
      "text/plain": [
       "<Figure size 432x288 with 1 Axes>"
      ]
     },
     "metadata": {
      "needs_background": "light"
     },
     "output_type": "display_data"
    }
   ],
   "source": [
    "def polyRegPredict(b,x):\n",
    "    yp=np.zeros(x.shape)\n",
    "    for i in range(len(b)):\n",
    "        yp=yp+b[i]*(x**i)\n",
    "    return yp \n",
    "\n",
    "x=np.linspace(-5,5,10)\n",
    "b=[-10,-4,1]\n",
    "yp=polyRegPredict(b,x)\n",
    "plt.scatter(x,yp)\n",
    "plt.xlabel('x')\n",
    "plt.ylabel('y')"
   ]
  },
  {
   "cell_type": "markdown",
   "metadata": {},
   "source": [
    "*Figure 3*. Figure shows the scatter plot of y vs x"
   ]
  },
  {
   "cell_type": "markdown",
   "metadata": {},
   "source": [
    "### Question 3 ( / 18 pts)\n",
    "Modify you function simpleRegLossRSS from HW7 to become function polyRegLossRSS, which calculates the residual sum of squares and the derivatives for the polyinomial regression. Also change your function plotPrediction to use polyRegPredict. Then modify your simpleRegFit function to become polyRegFit(x,y,order), which takes the order of the polynomial fit as a third input argument. Call the function for a quadratic fit the harvest yield (y) as a function of fertilizer concentration (x)."
   ]
  },
  {
   "cell_type": "code",
   "execution_count": 22,
   "metadata": {},
   "outputs": [
    {
     "data": {
      "text/plain": [
       "Text(0, 0.5, 'harvest yield')"
      ]
     },
     "execution_count": 22,
     "metadata": {},
     "output_type": "execute_result"
    },
    {
     "data": {
      "image/png": "[encoded data removed]",
      "text/plain": [
       "<Figure size 432x288 with 1 Axes>"
      ]
     },
     "metadata": {
      "needs_background": "light"
     },
     "output_type": "display_data"
    }
   ],
   "source": [
    "def polyRegLossRSS(b,x,y):\n",
    "    predY = polyRegPredict(b,x)\n",
    "    res = y-predY\n",
    "    rss = sum(res**2)\n",
    "    grad=np.zeros(len(b))\n",
    "    for i in range(len(b)):\n",
    "        grad[i]=-2*np.sum((x**i)*res)\n",
    "    return (rss,grad)\n",
    "\n",
    "\n",
    "def polyRegFit(x,y,order=1,linestyle='r-',fig=True):\n",
    "    b0=np.zeros((order+1,1))\n",
    "    RES = so.minimize(polyRegLossRSS,b0,args=(x,y),jac=True,options={'gtol':1e-2})\n",
    "    b=RES.x # Results\n",
    "    # b=polyRegressionFit(x,y,order) \n",
    "    if (fig):\n",
    "        plotPrediction(b,x,y,polyRegPredict) \n",
    "    res = y-np.mean(y)\n",
    "    TSS = sum(res**2)\n",
    "    RSS,grad = polyRegLossRSS(b,x,y)\n",
    "    R2 = 1-RSS/TSS \n",
    "#     print(\"R2 is {0:3.2f}\".format(R2))\n",
    "    return (R2,b)\n",
    "\n",
    "polyRegFit(D.fertCon,D.harvest,order=2)\n",
    "plt.xlabel('fertilizer concentration')\n",
    "plt.ylabel('harvest yield')"
   ]
  },
  {
   "cell_type": "markdown",
   "metadata": {},
   "source": [
    "*Figure 4*. Figure shows the scatter plot harvest yiled vs fertilizer concentration. A quadratic polynomial fit is also shown on top of the scatter plot."
   ]
  },
  {
   "cell_type": "markdown",
   "metadata": {},
   "source": [
    "### Question 4 ( / 5 pts)\n",
    "Call you polyRegression function to produce a polynomial fit of order 8. What is the R2? "
   ]
  },
  {
   "cell_type": "code",
   "execution_count": 23,
   "metadata": {},
   "outputs": [
    {
     "data": {
      "text/plain": [
       "Text(0, 0.5, 'harvest yield')"
      ]
     },
     "execution_count": 23,
     "metadata": {},
     "output_type": "execute_result"
    },
    {
     "data": {
      "image/png": "[encoded data removed]",
      "text/plain": [
       "<Figure size 432x288 with 1 Axes>"
      ]
     },
     "metadata": {
      "needs_background": "light"
     },
     "output_type": "display_data"
    }
   ],
   "source": [
    "polyRegFit(D.fertCon,D.harvest,8)\n",
    "plt.xlabel('fertilizer concentration')\n",
    "plt.ylabel('harvest yield')"
   ]
  },
  {
   "cell_type": "markdown",
   "metadata": {},
   "source": [
    "*Figure 5*. Figure shows the scatter plot of harvest yield vs. fertilizer concentration. A 8th order polynomial is also plotted on top the scatter plot."
   ]
  },
  {
   "cell_type": "markdown",
   "metadata": {},
   "source": [
    "## Task 3: Cross-validation of models ( / 40 pts)\n",
    "### Question 1 ( / 20 pts)\n",
    "Write a function leaveOneOutCV, which takes as inputs x and y, a function to be called for the fit, optional input arguments for the fit, and a function to be called for prediction. The function should then perform leave-on-out crossvalidation and calculate the cross-validated R2. It should then fit the model to all data and calculate the fitted R2. The sketch of the function can be found in the lecture. Call the function to get a cross-validated R2 for a polynomial fit of order 8. How much lower is the crossvalidated R2 than the fitted R2? "
   ]
  },
  {
   "cell_type": "code",
   "execution_count": 25,
   "metadata": {},
   "outputs": [
    {
     "data": {
      "text/plain": [
       "Text(0, 0.5, 'harvest yield')"
      ]
     },
     "execution_count": 25,
     "metadata": {},
     "output_type": "execute_result"
    },
    {
     "data": {
      "image/png": "[encoded data removed]",
      "text/plain": [
       "<Figure size 432x288 with 1 Axes>"
      ]
     },
     "metadata": {
      "needs_background": "light"
     },
     "output_type": "display_data"
    }
   ],
   "source": [
    "def leaveOneOutCV(x,y,fitfcn=polyRegFit,args=(),predictfcn=polyRegPredict):\n",
    "    N = len(x) #Number of observations \n",
    "    yp= np.zeros(N)\n",
    "    ind = np.arange(N)\n",
    "    for i in range(N):\n",
    "        r,b=fitfcn(x[ind!=i],y[ind!=i],args,fig=False)\n",
    "        yp[i]=predictfcn(b,x[i])\n",
    "    TSS  = sum((y-y.mean())**2)\n",
    "    RSScv = sum((y-yp)**2)\n",
    "    R2cv = 1-RSScv/TSS\n",
    "\n",
    "    # Get the model fit \n",
    "    r,b=fitfcn(x,y,args)\n",
    "    yf=predictfcn(b,x)\n",
    "    RSS   = sum((y-yf)**2)\n",
    "    R2 = 1-RSS/TSS\n",
    "    return R2cv,R2 \n",
    "\n",
    "leaveOneOutCV(D.fertCon,D.harvest,args=(8))\n",
    "plt.xlabel('fertilizer concentration')\n",
    "plt.ylabel('harvest yield')"
   ]
  },
  {
   "cell_type": "markdown",
   "metadata": {},
   "source": [
    "*Figure 6*. Figure shows the scatter plot of harvest yield vs. fertilizer concentration. A 8th order polynomial is also plotted on top the scatter plot."
   ]
  },
  {
   "cell_type": "markdown",
   "metadata": {},
   "source": [
    "> The crossvalidated R2 indicates that the model can predict 0.05 (5%) of the variance less than it can fit.  "
   ]
  },
  {
   "cell_type": "markdown",
   "metadata": {},
   "source": [
    "### Question 2 ( / 20 pts)\n",
    "Run a loop from model order 0 (constant) to model order 8. For each polynomial model order, call you function leaveOneOutCV to get the crossvalidated R2 and the normal R2 for each model order. Make a plot where you show the line for the crossvalidated R2 and R2 as a function of model order. When is the best crossvalidated R2 reached? When does the model start overfitting? Which model would you use to make a prediction for an unobserved data point? "
   ]
  },
  {
   "cell_type": "code",
   "execution_count": null,
   "metadata": {},
   "outputs": [
    {
     "name": "stdout",
     "output_type": "stream",
     "text": [
      "0\n",
      "1\n",
      "2\n",
      "3\n",
      "4\n"
     ]
    }
   ],
   "source": [
    "numMod = 9  # Including 0, we need 8 models \n",
    "R2 = np.zeros(numMod)\n",
    "R2cv = np.zeros(numMod)\n",
    "    \n",
    "for i in range(numMod):\n",
    "    R2cv[i],R2[i]=leaveOneOutCV(D.fertCon,D.harvest,args=(i))\n",
    "    print(i)\n",
    "\n",
    "    \n",
    "fig = plt.figure()\n",
    "ax = fig.add_subplot(1,1,1)\n",
    "model = np.arange(0,numMod)\n",
    "ax.plot(model,R2,'r')\n",
    "ax.plot(model,R2cv,'b')    \n",
    "ax.spines['top'].set_visible(False)\n",
    "ax.spines['right'].set_visible(False)\n",
    "plt.xlabel('Model Order')\n",
    "plt.ylabel('Coefficient of Determination')"
   ]
  },
  {
   "cell_type": "markdown",
   "metadata": {},
   "source": [
    "> The best cross-validated R2 is reached at a quadratic model (model order 2). Afterwards, the R2cv starts declining. The difference between R2 and cvR2 starts becoming bigger, so the model is starting to overfit the data. I would therefore chose to use the quadratic model to make predictions about new data. "
   ]
  }
 ],
 "metadata": {
  "kernelspec": {
   "display_name": "Python 3",
   "language": "python",
   "name": "python3"
  },
  "language_info": {
   "codemirror_mode": {
    "name": "ipython",
    "version": 3
   },
   "file_extension": ".py",
   "mimetype": "text/x-python",
   "name": "python",
   "nbconvert_exporter": "python",
   "pygments_lexer": "ipython3",
   "version": "3.8.8"
  }
 },
 "nbformat": 4,
 "nbformat_minor": 4
}

{
 "cells": [
  {
   "cell_type": "markdown",
   "metadata": {},
   "source": [
    "# Midterm YourUserID: xxxxxxxx\n",
    "## Preliminaries"
   ]
  },
  {
   "cell_type": "code",
   "execution_count": 2,
   "metadata": {
    "collapsed": true,
    "jupyter": {
     "outputs_hidden": true
    }
   },
   "outputs": [],
   "source": [
    "import matplotlib\n",
    "matplotlib.use('TkAgg')\n",
    "import matplotlib.pyplot as plt \n",
    "%matplotlib inline\n",
    "import scipy.stats as ss\n",
    "import pandas as pd \n",
    "import numpy as np"
   ]
  },
  {
   "cell_type": "markdown",
   "metadata": {},
   "source": [
    "## Task 1: The relation between smoking and premature birth\n",
    "### Question 1 (8 pt) \n",
    "Generate a contingency table of whether the mother is a smoker and whether the birth is premature. Calculate and report (in a full sentence) the conditional probabilities of having a premature birth given that the woman is either a smoker and a non-smoker. Generate a plot that lets you compare these relative proportions directly. "
   ]
  },
  {
   "cell_type": "code",
   "execution_count": 3,
   "metadata": {
    "collapsed": true,
    "jupyter": {
     "outputs_hidden": true
    }
   },
   "outputs": [],
   "source": [
    "D = pd.read_csv('births.csv')"
   ]
  },
  {
   "cell_type": "code",
   "execution_count": 4,
   "metadata": {},
   "outputs": [
    {
     "data": {
      "text/html": [
       "<div>\n",
       "<style>\n",
       "    .dataframe thead tr:only-child th {\n",
       "        text-align: right;\n",
       "    }\n",
       "\n",
       "    .dataframe thead th {\n",
       "        text-align: left;\n",
       "    }\n",
       "\n",
       "    .dataframe tbody tr th {\n",
       "        vertical-align: top;\n",
       "    }\n",
       "</style>\n",
       "<table border=\"1\" class=\"dataframe\">\n",
       "  <thead>\n",
       "    <tr style=\"text-align: right;\">\n",
       "      <th>premature</th>\n",
       "      <th>full term</th>\n",
       "      <th>premie</th>\n",
       "    </tr>\n",
       "    <tr>\n",
       "      <th>smoke</th>\n",
       "      <th></th>\n",
       "      <th></th>\n",
       "    </tr>\n",
       "  </thead>\n",
       "  <tbody>\n",
       "    <tr>\n",
       "      <th>nonsmoker</th>\n",
       "      <td>87</td>\n",
       "      <td>13</td>\n",
       "    </tr>\n",
       "    <tr>\n",
       "      <th>smoker</th>\n",
       "      <td>42</td>\n",
       "      <td>8</td>\n",
       "    </tr>\n",
       "  </tbody>\n",
       "</table>\n",
       "</div>"
      ],
      "text/plain": [
       "premature  full term  premie\n",
       "smoke                       \n",
       "nonsmoker         87      13\n",
       "smoker            42       8"
      ]
     },
     "execution_count": 4,
     "metadata": {},
     "output_type": "execute_result"
    }
   ],
   "source": [
    "T = pd.crosstab(D.smoke,D.premature)\n",
    "T"
   ]
  },
  {
   "cell_type": "code",
   "execution_count": 5,
   "metadata": {},
   "outputs": [
    {
     "data": {
      "text/html": [
       "<div>\n",
       "<style>\n",
       "    .dataframe thead tr:only-child th {\n",
       "        text-align: right;\n",
       "    }\n",
       "\n",
       "    .dataframe thead th {\n",
       "        text-align: left;\n",
       "    }\n",
       "\n",
       "    .dataframe tbody tr th {\n",
       "        vertical-align: top;\n",
       "    }\n",
       "</style>\n",
       "<table border=\"1\" class=\"dataframe\">\n",
       "  <thead>\n",
       "    <tr style=\"text-align: right;\">\n",
       "      <th>premature</th>\n",
       "      <th>full term</th>\n",
       "      <th>premie</th>\n",
       "    </tr>\n",
       "    <tr>\n",
       "      <th>smoke</th>\n",
       "      <th></th>\n",
       "      <th></th>\n",
       "    </tr>\n",
       "  </thead>\n",
       "  <tbody>\n",
       "    <tr>\n",
       "      <th>nonsmoker</th>\n",
       "      <td>0.87</td>\n",
       "      <td>0.13</td>\n",
       "    </tr>\n",
       "    <tr>\n",
       "      <th>smoker</th>\n",
       "      <td>0.84</td>\n",
       "      <td>0.16</td>\n",
       "    </tr>\n",
       "  </tbody>\n",
       "</table>\n",
       "</div>"
      ],
      "text/plain": [
       "premature  full term  premie\n",
       "smoke                       \n",
       "nonsmoker       0.87    0.13\n",
       "smoker          0.84    0.16"
      ]
     },
     "execution_count": 5,
     "metadata": {},
     "output_type": "execute_result"
    }
   ],
   "source": [
    "P=T.div(T.sum(1),axis=0)\n",
    "P"
   ]
  },
  {
   "cell_type": "markdown",
   "metadata": {},
   "source": [
    "non-smokers have a 13% probability in this sample to give premature birth - smokers exhibit a 16% probability"
   ]
  },
  {
   "cell_type": "code",
   "execution_count": 6,
   "metadata": {},
   "outputs": [
    {
     "data": {
      "text/plain": [
       "Text(0,0.5,'proportion')"
      ]
     },
     "execution_count": 6,
     "metadata": {},
     "output_type": "execute_result"
    },
    {
     "data": {
      "image/png": "[encoded data removed]",
      "text/plain": [
       "<matplotlib.figure.Figure at 0x1a11efecc0>"
      ]
     },
     "metadata": {},
     "output_type": "display_data"
    }
   ],
   "source": [
    "P.plot(kind='bar',stacked=True)\n",
    "plt.ylabel('proportion')"
   ]
  },
  {
   "cell_type": "markdown",
   "metadata": {},
   "source": [
    "### Question 2 (8pt)\n",
    "We want to test the idea that smoking has some effect on the risk of premature birth. Written answer: Formulate the null- and alternative hypothesis. Calculate and report the appropriate Chi-square test-statistic.   "
   ]
  },
  {
   "cell_type": "markdown",
   "metadata": {},
   "source": [
    "The Null hypothesis is that smoking habits and the risk of premature birth are independent. The alternative hypothesis is that smoking either increases or decreases the risk of premature birth. "
   ]
  },
  {
   "cell_type": "code",
   "execution_count": 7,
   "metadata": {},
   "outputs": [],
   "source": [
    "def calcX2(D):\n",
    "    observed = pd.crosstab(D.smoke,D.premature)\n",
    "    expected = np.outer(observed.sum(axis=1), observed.sum()) / np.sum(np.sum(observed))\n",
    "    return sum(sum((observed.as_matrix()-expected)**2/expected))\n",
    "\n",
    "calcX2(D)\n",
    "observed = pd.crosstab(D.smoke,D.premature)\n",
    "chi,p,dof,expect = ss.chi2_contingency(observed)\n"
   ]
  },
  {
   "cell_type": "markdown",
   "metadata": {},
   "source": [
    "The Chi-square value it X2=0.249. "
   ]
  },
  {
   "cell_type": "markdown",
   "metadata": {},
   "source": [
    "Note that the function scipy.stats.chi2_contigency gives a result of 0.062. This is because this function applies a additional correction for the case that DOF = 1 (Yates correction for continuity). Note that this correction is NOT documented in the scipy webpage. We won't subtract points for using the scipy.stats function, as it was not clearly stated, but for future homework and final, please use the functions written in class"
   ]
  },
  {
   "cell_type": "markdown",
   "metadata": {},
   "source": [
    "### Question 3 (8pt)\n",
    "To indicate whether this Chi-square value indicates a significant effect, can you use the Chi-square approximation? Check explicitly whether the necessary condition (all expected counts > 4) is met.   "
   ]
  },
  {
   "cell_type": "code",
   "execution_count": 8,
   "metadata": {},
   "outputs": [
    {
     "data": {
      "text/plain": [
       "array([[ 86.,  14.],\n",
       "       [ 43.,   7.]])"
      ]
     },
     "execution_count": 8,
     "metadata": {},
     "output_type": "execute_result"
    }
   ],
   "source": [
    "observed = pd.crosstab(D.smoke,D.premature)\n",
    "expected = np.outer(observed.sum(axis=1), observed.sum()) / np.sum(np.sum(observed))\n",
    "expected"
   ]
  },
  {
   "cell_type": "markdown",
   "metadata": {},
   "source": [
    "The smallest expected count in the table in 7 - therefore we can use the Chi-square approximation. "
   ]
  },
  {
   "cell_type": "markdown",
   "metadata": {},
   "source": [
    "### Question 4 (8pt)\n",
    "How many degrees of freedom does the Chi-square statistics that you calculated have? Determine and report the p-value for the Chi-square value that you calculated. What do you conclude from this result? \n",
    "Note: The Chi-square distribution is called ss.chi2 in SciPy, not ss.chisquare as indicated in the last slide of lecture 6."
   ]
  },
  {
   "cell_type": "markdown",
   "metadata": {},
   "source": [
    "The Chi-square test has 1 df, as we have two rows and two columns in the table"
   ]
  },
  {
   "cell_type": "code",
   "execution_count": 9,
   "metadata": {},
   "outputs": [
    {
     "data": {
      "text/plain": [
       "0.61778008994523759"
      ]
     },
     "execution_count": 9,
     "metadata": {},
     "output_type": "execute_result"
    }
   ],
   "source": [
    "1-ss.chi2.cdf(0.249,1)"
   ]
  },
  {
   "cell_type": "markdown",
   "metadata": {},
   "source": [
    "The p-value is 0.618. Therefore we cannot reject the Null-hypothesis that smoking habit does not influence the risk of having a premature birth. "
   ]
  },
  {
   "cell_type": "markdown",
   "metadata": {},
   "source": [
    "## Task 2: Does smoking influence the birth weight? \n",
    "### Question 1 (8pt)\n",
    "Calculate and report the mean birth weight of babies born by smoking and by non-smoking moms. Generate a boxplot of birth weight, with separate boxes for smokers and non-smokers. Make sure that the two boxes are plotted in the same graph, so the two groups can be directly compared. Written answer: What do you observe in terms of means and median for the two groups? Is the distribution symmetric, left-skewed, or right-skewed? "
   ]
  },
  {
   "cell_type": "code",
   "execution_count": 10,
   "metadata": {},
   "outputs": [
    {
     "data": {
      "text/plain": [
       "smoke\n",
       "nonsmoker    7.1882\n",
       "smoker       6.7166\n",
       "Name: weight, dtype: float64"
      ]
     },
     "execution_count": 10,
     "metadata": {},
     "output_type": "execute_result"
    }
   ],
   "source": [
    "D.weight.groupby(D.smoke).mean()"
   ]
  },
  {
   "cell_type": "code",
   "execution_count": 11,
   "metadata": {},
   "outputs": [
    {
     "name": "stderr",
     "output_type": "stream",
     "text": [
      "/Users/nedarostamzadeh/anaconda3/lib/python3.6/site-packages/numpy/core/fromnumeric.py:57: FutureWarning: reshape is deprecated and will raise in a subsequent release. Please use .values.reshape(...) instead\n",
      "  return getattr(obj, method)(*args, **kwds)\n"
     ]
    },
    {
     "data": {
      "text/plain": [
       "Text(0,0.5,'weight(pounds)')"
      ]
     },
     "execution_count": 11,
     "metadata": {},
     "output_type": "execute_result"
    },
    {
     "data": {
      "image/png": "[encoded data removed]",
      "text/plain": [
       "<matplotlib.figure.Figure at 0x1a1a40f6a0>"
      ]
     },
     "metadata": {},
     "output_type": "display_data"
    }
   ],
   "source": [
    "D.boxplot(column=\"weight\",by=\"smoke\")\n",
    "plt.ylabel('weight(pounds)')"
   ]
  },
  {
   "cell_type": "markdown",
   "metadata": {},
   "source": [
    "The mean birth weight for non-smokers is more than 0.4pounds larger than for smokers. The median birth weight for babies of non-smoking moms is also higher than for smokers. The distribution is moderately left-skewed with some babies being born with very low weight - these are likely the premature birth. "
   ]
  },
  {
   "cell_type": "markdown",
   "metadata": {},
   "source": [
    "### Question 2 (10pt)\n",
    "As a researcher, you want to test the idea that smoking during pregnancy has some influence on the baby's birthweight. Formulate Null- and Alternative hypothesis (using =, >, <, and unequal signs). Write a function that returns the difference of the average birth weights between babies of smoker and non-smokers. Use a randomization test to test whether (and with what Type-I error) you can reject the Null-hypothesis. Written answer: What is your conclusion? "
   ]
  },
  {
   "cell_type": "markdown",
   "metadata": {},
   "source": [
    "Null Hypothesis: Birthweight (smoker) = Birthweight (non-smoker)\n",
    "Alt. Hypothesis: Birthweight (smoker) unequal Birthweight (non-smoker)"
   ]
  },
  {
   "cell_type": "code",
   "execution_count": 12,
   "metadata": {
    "collapsed": true,
    "jupyter": {
     "outputs_hidden": true
    }
   },
   "outputs": [],
   "source": [
    "def calcMeanDiff(D):\n",
    "    a=D.weight.groupby(D.smoke).mean()\n",
    "    return a[1]-a[0]\n",
    "\n",
    "def performPermutation(D,fcn,numIterations=500,sides=1):    \n",
    "    listOfTS =  np.array(range(numIterations),dtype = 'float64')\n",
    "    for i in range(numIterations):\n",
    "        #1. Randomly shuffle the data \n",
    "        S=D.copy()                    # Make copy of the data frame\n",
    "        x = np.array(range(len(D.index))) # Make copy of the data frame\n",
    "        np.random.shuffle(x)          # randomly shuffle x - note that this changes x itself! \n",
    "        y = S.smoke.iloc[x]   # copy the newly reorded values into a new Series  \n",
    "        y = y.reset_index(drop=True)   #reoder the indices \n",
    "        S.smoke=y           # Copy back into the data frame\n",
    "        \n",
    "        #2. Calculate test statistics \n",
    "        listOfTS[i] = fcn(S)\n",
    "\n",
    "    # 3. Caluclate the real test statistic \n",
    "    realTS = fcn(D)\n",
    "\n",
    "    # 4. Plot a histogram of the \n",
    "    plt.hist(listOfTS,bins=10)\n",
    "    plt.axvline(x=realTS, color='k')\n",
    "    \n",
    "    # 5. determine p-value (one sided)\n",
    "    if sides==1: \n",
    "        p=sum(listOfTS<=realTS)/len(listOfTS)\n",
    "    if sides==2:\n",
    "        plt.axvline(x=-realTS, color='r')\n",
    "        p=sum(np.absolute(listOfTS)>=np.absolute(realTS))/len(listOfTS)\n",
    "        print(' P-value of the randomisation test is p= ',p)\n",
    "    return p"
   ]
  },
  {
   "cell_type": "code",
   "execution_count": 13,
   "metadata": {},
   "outputs": [
    {
     "name": "stdout",
     "output_type": "stream",
     "text": [
      " P-value of the randomisation test is p=  0.066\n"
     ]
    },
    {
     "data": {
      "text/plain": [
       "0.066000000000000003"
      ]
     },
     "execution_count": 13,
     "metadata": {},
     "output_type": "execute_result"
    },
    {
     "data": {
      "image/png": "[encoded data removed]",
      "text/plain": [
       "<matplotlib.figure.Figure at 0x1a11f702b0>"
      ]
     },
     "metadata": {},
     "output_type": "display_data"
    }
   ],
   "source": [
    "performPermutation(D,calcMeanDiff,sides=2)"
   ]
  },
  {
   "cell_type": "markdown",
   "metadata": {},
   "source": [
    "Based on the data, we cannot reject the Null-hypothesis that there are no true differences in birth weight of smokers and non-smokers.  "
   ]
  },
  {
   "cell_type": "markdown",
   "metadata": {},
   "source": [
    "### Question 3 (8pt)\n",
    "You want to test the directed hypothesis that smoking is associated with a lower birth rate. Again, formulate Null and Alternative hypothesis. Use again a randomization test to see if you have evidence to reject the Null. Written answer: what is your conclusion? "
   ]
  },
  {
   "cell_type": "markdown",
   "metadata": {},
   "source": [
    "Null Hypothesis: Birthweight (smoker) >= Birthweight (non-smoker)\n",
    "Alt. Hypothesis: Birthweight (smoker) < Birthweight (non-smoker)"
   ]
  },
  {
   "cell_type": "code",
   "execution_count": 14,
   "metadata": {},
   "outputs": [
    {
     "data": {
      "text/plain": [
       "0.034000000000000002"
      ]
     },
     "execution_count": 14,
     "metadata": {},
     "output_type": "execute_result"
    },
    {
     "data": {
      "image/png": "[encoded data removed]",
      "text/plain": [
       "<matplotlib.figure.Figure at 0x1a1a616a58>"
      ]
     },
     "metadata": {},
     "output_type": "display_data"
    }
   ],
   "source": [
    "performPermutation(D,calcMeanDiff,sides=1)"
   ]
  },
  {
   "cell_type": "markdown",
   "metadata": {},
   "source": [
    "Based on a one-sided test for the directed hypothesis we can reject the hypothesis that the birth weight of babies of smokers have higher or equal birth weight to babies of non-smokers. This means there is likely a real association between smoking and lower birth rate, as this drop (or a larger drop) in weight has only a probability of less than 5% to occurr by chance. "
   ]
  },
  {
   "cell_type": "markdown",
   "metadata": {},
   "source": [
    "### Question 4 (8pt)\n",
    "Determine and report the approximate standard error of the mean difference in birth weight under the Null hypothesis (birth weights for smokers and non-smokers are equal) directly from the samples of the randomization test performed in Question 2 and 3. "
   ]
  },
  {
   "cell_type": "code",
   "execution_count": 15,
   "metadata": {},
   "outputs": [
    {
     "data": {
      "text/plain": [
       "0.24834885985451977"
      ]
     },
     "execution_count": 15,
     "metadata": {},
     "output_type": "execute_result"
    }
   ],
   "source": [
    "def performPermutation(D,fcn,numIterations=500):    \n",
    "    listOfTS =  np.array(range(numIterations),dtype = 'float64')\n",
    "    for i in range(numIterations):\n",
    "        #1. Randomly shuffle the data \n",
    "        S=D.copy()                    # Make copy of the data frame\n",
    "        x = np.array(range(len(D.index))) # Make copy of the data frame\n",
    "        np.random.shuffle(x)          # randomly shuffle x - note that this changes x itself! \n",
    "        y = S.smoke.iloc[x]   # copy the newly reorded values into a new Series  \n",
    "        y = y.reset_index(drop=True)   #reoder the indices \n",
    "        S.smoke=y           # Copy back into the data frame\n",
    "        \n",
    "        #2. Calculate test statistics \n",
    "        listOfTS[i] = fcn(S)\n",
    "\n",
    "    # 3. Caluclate the standard error of the test statistic - \n",
    "    # i.e. the standard deviation of the mean difference under the H0 simulation \n",
    "    return np.std(listOfTS)\n",
    "\n",
    "performPermutation(D,calcMeanDiff)"
   ]
  },
  {
   "cell_type": "markdown",
   "metadata": {},
   "source": [
    "### Question 5 (8pt)\n",
    "Using this value as a standard error under the null-hypothesis, use the normal approximation to determine the p-value for testing the two hypotheses outlined in Question 3. Written answer: Is the answer consistent with the answer you got directly from the randomization test?"
   ]
  },
  {
   "cell_type": "markdown",
   "metadata": {},
   "source": [
    "Under the Null-hypothesis, the mean difference in birth weight is 0. With a standard deviation of the SD = 0.25979, we can now use the normal approximation to determine the p-value for a difference of -0.4716. It is a one-sided test and we are only interested in the left tail (values smaller than -0.4716), so the normal approximation is caluculated as: "
   ]
  },
  {
   "cell_type": "code",
   "execution_count": 16,
   "metadata": {},
   "outputs": [
    {
     "data": {
      "text/plain": [
       "0.034737959719757378"
      ]
     },
     "execution_count": 16,
     "metadata": {},
     "output_type": "execute_result"
    }
   ],
   "source": [
    "ss.norm.cdf(-0.4716,0,0.25979)"
   ]
  },
  {
   "cell_type": "markdown",
   "metadata": {},
   "source": [
    "The normal approximation therefore gives us a p-value of 0.034. We would therefore also reject the null-hypthesis of equal birth weights. "
   ]
  },
  {
   "cell_type": "markdown",
   "metadata": {},
   "source": [
    "## TASK 3: Bayesian inference on average differences in birth weights \n",
    "### Question 1 (10pt)\n",
    "An average drop of birthweight of 0.5lbs is considered to be clinically significant risk. Use a Bayesian hypothesis test to determine how strong the evidence is that smoking is associated with a clinically significant reduction in birth weight. Based on the distribution of the mean difference from the permutation test in Task 2, you decide that it is appropriate to use a normal approximation for the average weight difference, both under the H1 and H0. Further, assume the standard error of the mean difference of 0.25 both for the H1 and the H0. Calculate the probability density for the real mean difference under H1 and H0. Then calculate and report the Bayes Factor of the H1 over the H0. What can you conclude from this result?  "
   ]
  },
  {
   "cell_type": "code",
   "execution_count": 17,
   "metadata": {},
   "outputs": [
    {
     "data": {
      "text/plain": [
       "5.887314786034251"
      ]
     },
     "execution_count": 17,
     "metadata": {},
     "output_type": "execute_result"
    }
   ],
   "source": [
    "se=0.25 # Standard error of mean difference \n",
    "m=calcMeanDiff(D) #Mean difference \n",
    "p0 = ss.norm.pdf(m,0,se) # Probability of data under the H0 \n",
    "p1 = ss.norm.pdf(m,-0.5,se) # Probability of the data under the H1 \n",
    "BF = p1/p0  # Bayes factor \n",
    "BF"
   ]
  },
  {
   "cell_type": "markdown",
   "metadata": {},
   "source": [
    "The Bayes factor of 5.88 indicates positive (but not strong) evidence that smoking is associated with a reduction of birth weight of 0.5kg. "
   ]
  },
  {
   "cell_type": "markdown",
   "metadata": {},
   "source": [
    "### Question 2 (8pt)\n",
    "What is the posterior probability of the H1, assuming that a-priori you had the belief that there was a 70% chance that smoking may reduce the birth weight by 0.5lb. Show clearly the formula used to calculate the posterior probability. Written answer: What is the meaning of this posterior probability? How does the meaning differ from the p-value calculated under Task 2, Question 3? "
   ]
  },
  {
   "cell_type": "code",
   "execution_count": 18,
   "metadata": {},
   "outputs": [
    {
     "data": {
      "text/plain": [
       "0.93214389651600371"
      ]
     },
     "execution_count": 18,
     "metadata": {},
     "output_type": "execute_result"
    }
   ],
   "source": [
    "prior1 = 0.7 \n",
    "prior0 = 0.3 \n",
    "posterior1 = prior1*p1/(prior1*p1+prior0*p0)\n",
    "posterior1"
   ]
  },
  {
   "cell_type": "markdown",
   "metadata": {},
   "source": [
    "The posterior probability of the hypothesis that smoking is associated with a 0.5lb reduction in birthweight is 93.2%. In general, the  posterior probability is p(H1|data). Specifically, it measures our subjective belief that the H1 (rather than H0) is true, based on the fact that our prior belief (before seeing this data) was 70%. Thus, the evidence has increased our confidence in the H1 by 12%. \n",
    "\n",
    "In contrast, the p-value is the probability that we had rejected the H0, assuming the H0 is true - p(reject H0|0). While low p-values can be taken as a sign of evidence that the H1 may be true, they do NOT indicate anything about the probability of the H1 being true. "
   ]
  },
  {
   "cell_type": "markdown",
   "metadata": {},
   "source": [
    "### Question 3 (8pt)\n",
    "A news outlet picks up your result, saying that \"the study shows that smoking among US women causes an average decrease in birth weight of 0.4lbs.\" Can you draw this conclusion from the data? What are two possible problems with such claim?"
   ]
  },
  {
   "cell_type": "markdown",
   "metadata": {},
   "source": [
    "The first problem that the the newspaper claims that the results holds for US women in general. The sample is a random sample from North Carolina, rather than a random sample from the whole US population. Because it is unlikely that the relationship between smoking and birthweight depends on the geographic location (although not impossible!), this is probably the less serious problem. \n",
    "The second problem is that the newspaper makes a causal claim. Because the study is an observational study , other factor such as diet, socio-economic status, stress, etc, may have co-varied with smoking and therefore may have causes some or all of the effect on birth weight. "
   ]
  }
 ],
 "metadata": {
  "kernelspec": {
   "display_name": "Python 3",
   "language": "python",
   "name": "python3"
  },
  "language_info": {
   "codemirror_mode": {
    "name": "ipython",
    "version": 3
   },
   "file_extension": ".py",
   "mimetype": "text/x-python",
   "name": "python",
   "nbconvert_exporter": "python",
   "pygments_lexer": "ipython3",
   "version": "3.8.8"
  }
 },
 "nbformat": 4,
 "nbformat_minor": 4
}

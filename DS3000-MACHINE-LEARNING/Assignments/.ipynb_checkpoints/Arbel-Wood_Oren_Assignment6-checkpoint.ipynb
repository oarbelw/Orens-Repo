{
 "cells": [
  {
   "cell_type": "markdown",
   "metadata": {
    "id": "izqne0Z6IH__"
   },
   "source": [
    "# Assignment 6: Feature selection and regularization\n",
    "\n",
    "# Total: /100\n",
    "\n",
    "## Instructions\n",
    "\n",
    "* Complete the assignment\n",
    "\n",
    "* Once the notebook is complete, **restart** your kernel and **rerun** your cells\n",
    "\n",
    "* Submit this notebook to owl by the deadline\n",
    "\n",
    "* You may use any python library functions you wish to complete the assignment."
   ]
  },
  {
   "cell_type": "code",
   "execution_count": 1,
   "metadata": {
    "id": "GTwVRZnbIGrl"
   },
   "outputs": [],
   "source": [
    "# You may need these\n",
    "import pandas as pd\n",
    "import numpy as np\n",
    "import seaborn as sns\n",
    "import sklearn as sk\n",
    "import sklearn.linear_model as skl\n",
    "from sklearn.pipeline import Pipeline\n",
    "from sklearn import preprocessing\n",
    "from sklearn.preprocessing import StandardScaler, PolynomialFeatures, LabelEncoder, OneHotEncoder\n",
    "from sklearn import metrics\n",
    "from sklearn.preprocessing import PolynomialFeatures\n",
    "from sklearn.preprocessing import StandardScaler \n",
    "from sklearn.model_selection import train_test_split, cross_val_score\n",
    "from sklearn.feature_selection import SelectFromModel\n",
    "from sklearn.feature_selection import SequentialFeatureSelector\n",
    "from sklearn.linear_model import LassoCV, ElasticNetCV\n",
    "import matplotlib.pyplot as plt\n",
    "from IPython.display import display\n",
    "from itertools import groupby\n",
    "\n",
    "\n",
    "seed = 2023\n",
    "np.random.seed(seed)"
   ]
  },
  {
   "cell_type": "markdown",
   "metadata": {
    "id": "G4EmPdu-tV-2"
   },
   "source": [
    "## Question 1: /20 pts\n",
    "\n",
    "\n",
    "Customer Lifetime Value (CLV) is the total income a business can expect from a customer over the entire period of their relationship. It’s an important metric as it costs less to keep existing customers than it does to acquire new ones, so increasing the value of your existing customers is a great way to drive growth. We want to predict CLV for an auto insurance company.\n",
    "\n",
    "1. Read in the `Vehicle_Insurance.csv` dataset and display the last 5 rows.\n",
    "2. Conduct the required data preparation."
   ]
  },
  {
   "cell_type": "markdown",
   "metadata": {
    "id": "8K4pylNyuK5z"
   },
   "source": [
    "### 1.1 Read the dataset and display the last 5 rows"
   ]
  },
  {
   "cell_type": "code",
   "execution_count": 2,
   "metadata": {
    "colab": {
     "base_uri": "https://localhost:8080/",
     "height": 270
    },
    "id": "hW5aHQQoKHtu",
    "outputId": "4b0ebcc3-2e86-49c0-c6de-ed77c2250b20"
   },
   "outputs": [
    {
     "data": {
      "text/html": [
       "<div>\n",
       "<style scoped>\n",
       "    .dataframe tbody tr th:only-of-type {\n",
       "        vertical-align: middle;\n",
       "    }\n",
       "\n",
       "    .dataframe tbody tr th {\n",
       "        vertical-align: top;\n",
       "    }\n",
       "\n",
       "    .dataframe thead th {\n",
       "        text-align: right;\n",
       "    }\n",
       "</style>\n",
       "<table border=\"1\" class=\"dataframe\">\n",
       "  <thead>\n",
       "    <tr style=\"text-align: right;\">\n",
       "      <th></th>\n",
       "      <th>clv</th>\n",
       "      <th>Coverage</th>\n",
       "      <th>Gender</th>\n",
       "      <th>Income</th>\n",
       "      <th>Marital.Status</th>\n",
       "      <th>Monthly.Premium.Auto</th>\n",
       "      <th>Number.of.Open.Complaints</th>\n",
       "      <th>Number.of.Policies</th>\n",
       "      <th>Renew.Offer.Type</th>\n",
       "      <th>Total.Claim.Amount</th>\n",
       "      <th>Vehicle.Class</th>\n",
       "    </tr>\n",
       "  </thead>\n",
       "  <tbody>\n",
       "    <tr>\n",
       "      <th>8625</th>\n",
       "      <td>4100.398533</td>\n",
       "      <td>Premium</td>\n",
       "      <td>F</td>\n",
       "      <td>47761</td>\n",
       "      <td>Single</td>\n",
       "      <td>104</td>\n",
       "      <td>0</td>\n",
       "      <td>1</td>\n",
       "      <td>Offer1</td>\n",
       "      <td>541.282007</td>\n",
       "      <td>Four-Door Car</td>\n",
       "    </tr>\n",
       "    <tr>\n",
       "      <th>8626</th>\n",
       "      <td>3096.511217</td>\n",
       "      <td>Extended</td>\n",
       "      <td>F</td>\n",
       "      <td>21604</td>\n",
       "      <td>Divorced</td>\n",
       "      <td>79</td>\n",
       "      <td>0</td>\n",
       "      <td>1</td>\n",
       "      <td>Offer1</td>\n",
       "      <td>379.200000</td>\n",
       "      <td>Four-Door Car</td>\n",
       "    </tr>\n",
       "    <tr>\n",
       "      <th>8627</th>\n",
       "      <td>8163.890428</td>\n",
       "      <td>Extended</td>\n",
       "      <td>M</td>\n",
       "      <td>0</td>\n",
       "      <td>Single</td>\n",
       "      <td>85</td>\n",
       "      <td>3</td>\n",
       "      <td>2</td>\n",
       "      <td>Offer1</td>\n",
       "      <td>790.784983</td>\n",
       "      <td>Four-Door Car</td>\n",
       "    </tr>\n",
       "    <tr>\n",
       "      <th>8628</th>\n",
       "      <td>7524.442436</td>\n",
       "      <td>Extended</td>\n",
       "      <td>M</td>\n",
       "      <td>21941</td>\n",
       "      <td>Married</td>\n",
       "      <td>96</td>\n",
       "      <td>0</td>\n",
       "      <td>3</td>\n",
       "      <td>Offer3</td>\n",
       "      <td>691.200000</td>\n",
       "      <td>Four-Door Car</td>\n",
       "    </tr>\n",
       "    <tr>\n",
       "      <th>8629</th>\n",
       "      <td>2611.836866</td>\n",
       "      <td>Extended</td>\n",
       "      <td>M</td>\n",
       "      <td>0</td>\n",
       "      <td>Single</td>\n",
       "      <td>77</td>\n",
       "      <td>0</td>\n",
       "      <td>1</td>\n",
       "      <td>Offer4</td>\n",
       "      <td>369.600000</td>\n",
       "      <td>Two-Door Car</td>\n",
       "    </tr>\n",
       "  </tbody>\n",
       "</table>\n",
       "</div>"
      ],
      "text/plain": [
       "              clv  Coverage Gender  Income Marital.Status  \\\n",
       "8625  4100.398533   Premium      F   47761         Single   \n",
       "8626  3096.511217  Extended      F   21604       Divorced   \n",
       "8627  8163.890428  Extended      M       0         Single   \n",
       "8628  7524.442436  Extended      M   21941        Married   \n",
       "8629  2611.836866  Extended      M       0         Single   \n",
       "\n",
       "      Monthly.Premium.Auto  Number.of.Open.Complaints  Number.of.Policies  \\\n",
       "8625                   104                          0                   1   \n",
       "8626                    79                          0                   1   \n",
       "8627                    85                          3                   2   \n",
       "8628                    96                          0                   3   \n",
       "8629                    77                          0                   1   \n",
       "\n",
       "     Renew.Offer.Type  Total.Claim.Amount  Vehicle.Class  \n",
       "8625           Offer1          541.282007  Four-Door Car  \n",
       "8626           Offer1          379.200000  Four-Door Car  \n",
       "8627           Offer1          790.784983  Four-Door Car  \n",
       "8628           Offer3          691.200000  Four-Door Car  \n",
       "8629           Offer4          369.600000   Two-Door Car  "
      ]
     },
     "execution_count": 2,
     "metadata": {},
     "output_type": "execute_result"
    }
   ],
   "source": [
    "df = pd.read_csv(\"Vehicle_Insurance.csv\")\n",
    "df.tail()"
   ]
  },
  {
   "cell_type": "markdown",
   "metadata": {
    "id": "T48PV8tIvQEF"
   },
   "source": [
    "### 1.2 Remove the rows with \"clv\" $> 16000$ as well as those with \"clv\" $< 2200$ from the dataset. What's the shape of the dataframe now?"
   ]
  },
  {
   "cell_type": "code",
   "execution_count": 3,
   "metadata": {
    "id": "uT1uSpcHvgC6"
   },
   "outputs": [
    {
     "name": "stdout",
     "output_type": "stream",
     "text": [
      "original shape:  (8630, 11)\n",
      "new shape:  (8212, 11)\n"
     ]
    }
   ],
   "source": [
    "print(\"original shape: \", df.shape)\n",
    "df = df[df.clv <= 16000]\n",
    "df = df[df.clv >= 2200]\n",
    "print(\"new shape: \", df.shape)\n",
    "df = df.reset_index(drop=True)"
   ]
  },
  {
   "cell_type": "markdown",
   "metadata": {
    "id": "t6h1-f7sxKJa"
   },
   "source": [
    "### 1.3 Using `preprocessing.OneHotEncoder()`, convert all categorical features. Make sure not to add collinear features during the encoding process. Then, display the first 3 rows."
   ]
  },
  {
   "cell_type": "code",
   "execution_count": 4,
   "metadata": {
    "colab": {
     "base_uri": "https://localhost:8080/"
    },
    "id": "roWX2SCqxCDW",
    "outputId": "8a38a574-3c73-4a40-82b7-9b1b32b0d209"
   },
   "outputs": [
    {
     "data": {
      "text/html": [
       "<div>\n",
       "<style scoped>\n",
       "    .dataframe tbody tr th:only-of-type {\n",
       "        vertical-align: middle;\n",
       "    }\n",
       "\n",
       "    .dataframe tbody tr th {\n",
       "        vertical-align: top;\n",
       "    }\n",
       "\n",
       "    .dataframe thead th {\n",
       "        text-align: right;\n",
       "    }\n",
       "</style>\n",
       "<table border=\"1\" class=\"dataframe\">\n",
       "  <thead>\n",
       "    <tr style=\"text-align: right;\">\n",
       "      <th></th>\n",
       "      <th>clv</th>\n",
       "      <th>Income</th>\n",
       "      <th>Monthly.Premium.Auto</th>\n",
       "      <th>Number.of.Open.Complaints</th>\n",
       "      <th>Number.of.Policies</th>\n",
       "      <th>Total.Claim.Amount</th>\n",
       "      <th>Coverage_Extended</th>\n",
       "      <th>Coverage_Premium</th>\n",
       "      <th>Gender_M</th>\n",
       "      <th>Marital.Status_Single</th>\n",
       "      <th>Marital.Status_Divorced</th>\n",
       "      <th>Renew.Offer.Type_Offer3</th>\n",
       "      <th>Renew.Offer.Type_Offer2</th>\n",
       "      <th>Renew.Offer.Type_Offer4</th>\n",
       "      <th>Vehicle.Class_Four-Door Car</th>\n",
       "      <th>Vehicle.Class_SUV</th>\n",
       "      <th>Vehicle.Class_Sports Car</th>\n",
       "      <th>Vehicle.Class_Luxury SUV</th>\n",
       "      <th>Vehicle.Class_Luxury Car</th>\n",
       "    </tr>\n",
       "  </thead>\n",
       "  <tbody>\n",
       "    <tr>\n",
       "      <th>0</th>\n",
       "      <td>2763.519279</td>\n",
       "      <td>56274</td>\n",
       "      <td>69</td>\n",
       "      <td>0</td>\n",
       "      <td>1</td>\n",
       "      <td>384.811147</td>\n",
       "      <td>0.0</td>\n",
       "      <td>0.0</td>\n",
       "      <td>0.0</td>\n",
       "      <td>1.0</td>\n",
       "      <td>0.0</td>\n",
       "      <td>0.0</td>\n",
       "      <td>0.0</td>\n",
       "      <td>0.0</td>\n",
       "      <td>0.0</td>\n",
       "      <td>0.0</td>\n",
       "      <td>0.0</td>\n",
       "      <td>0.0</td>\n",
       "      <td>1.0</td>\n",
       "    </tr>\n",
       "    <tr>\n",
       "      <th>1</th>\n",
       "      <td>6979.535903</td>\n",
       "      <td>0</td>\n",
       "      <td>94</td>\n",
       "      <td>0</td>\n",
       "      <td>8</td>\n",
       "      <td>1131.464935</td>\n",
       "      <td>1.0</td>\n",
       "      <td>0.0</td>\n",
       "      <td>0.0</td>\n",
       "      <td>0.0</td>\n",
       "      <td>1.0</td>\n",
       "      <td>0.0</td>\n",
       "      <td>1.0</td>\n",
       "      <td>0.0</td>\n",
       "      <td>0.0</td>\n",
       "      <td>0.0</td>\n",
       "      <td>0.0</td>\n",
       "      <td>0.0</td>\n",
       "      <td>0.0</td>\n",
       "    </tr>\n",
       "    <tr>\n",
       "      <th>2</th>\n",
       "      <td>12887.431650</td>\n",
       "      <td>48767</td>\n",
       "      <td>108</td>\n",
       "      <td>0</td>\n",
       "      <td>2</td>\n",
       "      <td>566.472247</td>\n",
       "      <td>0.0</td>\n",
       "      <td>1.0</td>\n",
       "      <td>0.0</td>\n",
       "      <td>1.0</td>\n",
       "      <td>0.0</td>\n",
       "      <td>0.0</td>\n",
       "      <td>0.0</td>\n",
       "      <td>0.0</td>\n",
       "      <td>0.0</td>\n",
       "      <td>0.0</td>\n",
       "      <td>0.0</td>\n",
       "      <td>0.0</td>\n",
       "      <td>1.0</td>\n",
       "    </tr>\n",
       "  </tbody>\n",
       "</table>\n",
       "</div>"
      ],
      "text/plain": [
       "            clv  Income  Monthly.Premium.Auto  Number.of.Open.Complaints  \\\n",
       "0   2763.519279   56274                    69                          0   \n",
       "1   6979.535903       0                    94                          0   \n",
       "2  12887.431650   48767                   108                          0   \n",
       "\n",
       "   Number.of.Policies  Total.Claim.Amount  Coverage_Extended  \\\n",
       "0                   1          384.811147                0.0   \n",
       "1                   8         1131.464935                1.0   \n",
       "2                   2          566.472247                0.0   \n",
       "\n",
       "   Coverage_Premium  Gender_M  Marital.Status_Single  Marital.Status_Divorced  \\\n",
       "0               0.0       0.0                    1.0                      0.0   \n",
       "1               0.0       0.0                    0.0                      1.0   \n",
       "2               1.0       0.0                    1.0                      0.0   \n",
       "\n",
       "   Renew.Offer.Type_Offer3  Renew.Offer.Type_Offer2  Renew.Offer.Type_Offer4  \\\n",
       "0                      0.0                      0.0                      0.0   \n",
       "1                      0.0                      1.0                      0.0   \n",
       "2                      0.0                      0.0                      0.0   \n",
       "\n",
       "   Vehicle.Class_Four-Door Car  Vehicle.Class_SUV  Vehicle.Class_Sports Car  \\\n",
       "0                          0.0                0.0                       0.0   \n",
       "1                          0.0                0.0                       0.0   \n",
       "2                          0.0                0.0                       0.0   \n",
       "\n",
       "   Vehicle.Class_Luxury SUV  Vehicle.Class_Luxury Car  \n",
       "0                       0.0                       1.0  \n",
       "1                       0.0                       0.0  \n",
       "2                       0.0                       1.0  "
      ]
     },
     "execution_count": 4,
     "metadata": {},
     "output_type": "execute_result"
    }
   ],
   "source": [
    "dataOHE = df.copy()\n",
    "catdf = df.select_dtypes(include=['object'])\n",
    "\n",
    "ohe = OneHotEncoder()\n",
    "\n",
    "for col in catdf:\n",
    "    values = pd.unique(catdf[col]).tolist()\n",
    "#     print(values)\n",
    "    lenvals = len(values)\n",
    "\n",
    "    X = ohe.fit_transform(catdf[col].values.reshape(-1,1)).toarray()\n",
    "    dfOneHot = pd.DataFrame(X, columns = [str(col)+\"_\"+str(values[i]) for i in range(lenvals)]) \n",
    "    dataOHE = pd.concat([dataOHE, dfOneHot], axis=1)\n",
    "    dataOHE = dataOHE.drop([col], axis=1)\n",
    "cols = dataOHE.columns.tolist()\n",
    "cols = cols[6:]\n",
    "cols = [list(g) for k, g in groupby(cols, key=lambda x: x[0])] #groups by first letter of column\n",
    "# print(col)\n",
    "\n",
    "firsts = [first[0] for first in cols]\n",
    "# print(firsts)\n",
    "for firstcol in firsts:\n",
    "    dataOHE = dataOHE.drop([firstcol], axis=1) #this drops collinear features\n",
    "\n",
    "dataOHE.head(3)"
   ]
  },
  {
   "cell_type": "markdown",
   "metadata": {
    "id": "noBsqu-y1lQU"
   },
   "source": [
    "### 1.4 Use `pandas.DataFrame.apply` to apply square root transformation to \"Total.Claim.Amount\" and log to the target variable. And then, create your `X` and `y`. (No training/test splitting yet) "
   ]
  },
  {
   "cell_type": "code",
   "execution_count": 5,
   "metadata": {},
   "outputs": [],
   "source": [
    "# Apply square root transformation to Total.Claim.Amount\n",
    "dataOHE[\"Total.Claim.Amount\"] = dataOHE[\"Total.Claim.Amount\"].apply(np.sqrt)\n",
    "\n",
    "# Apply log transformation to the target variable\n",
    "dataOHE[\"clv\"] = np.log(df[\"clv\"])\n",
    "\n",
    "# Create X and y\n",
    "X = dataOHE.drop(\"clv\", axis='columns')\n",
    "y = dataOHE[\"clv\"]"
   ]
  },
  {
   "cell_type": "markdown",
   "metadata": {
    "id": "azwMuwal3eL_"
   },
   "source": [
    "### 1.5 Build a new design matrix by applying polynomial expansion on the `X` from Question 1.4."
   ]
  },
  {
   "cell_type": "code",
   "execution_count": 6,
   "metadata": {
    "id": "dSoq2jdp3dI-"
   },
   "outputs": [],
   "source": [
    "PT =  PolynomialFeatures(degree=2, include_bias=False)\n",
    "X_poly = PT.fit_transform(X)"
   ]
  },
  {
   "cell_type": "markdown",
   "metadata": {
    "id": "qIOYW9ue7nab"
   },
   "source": [
    "### 1.6 Standardize your design matrix (from Question 1.5) with `StandardScaler()`, and store the result into a Pandas dataFrame."
   ]
  },
  {
   "cell_type": "code",
   "execution_count": 7,
   "metadata": {
    "id": "_qfJ-MfR9pLe"
   },
   "outputs": [
    {
     "data": {
      "text/html": [
       "<div>\n",
       "<style scoped>\n",
       "    .dataframe tbody tr th:only-of-type {\n",
       "        vertical-align: middle;\n",
       "    }\n",
       "\n",
       "    .dataframe tbody tr th {\n",
       "        vertical-align: top;\n",
       "    }\n",
       "\n",
       "    .dataframe thead th {\n",
       "        text-align: right;\n",
       "    }\n",
       "</style>\n",
       "<table border=\"1\" class=\"dataframe\">\n",
       "  <thead>\n",
       "    <tr style=\"text-align: right;\">\n",
       "      <th></th>\n",
       "      <th>Income</th>\n",
       "      <th>Monthly.Premium.Auto</th>\n",
       "      <th>Number.of.Open.Complaints</th>\n",
       "      <th>Number.of.Policies</th>\n",
       "      <th>Total.Claim.Amount</th>\n",
       "      <th>Coverage_Extended</th>\n",
       "      <th>Coverage_Premium</th>\n",
       "      <th>Gender_M</th>\n",
       "      <th>Marital.Status_Single</th>\n",
       "      <th>Marital.Status_Divorced</th>\n",
       "      <th>...</th>\n",
       "      <th>Vehicle.Class_SUV^2</th>\n",
       "      <th>Vehicle.Class_SUV Vehicle.Class_Sports Car</th>\n",
       "      <th>Vehicle.Class_SUV Vehicle.Class_Luxury SUV</th>\n",
       "      <th>Vehicle.Class_SUV Vehicle.Class_Luxury Car</th>\n",
       "      <th>Vehicle.Class_Sports Car^2</th>\n",
       "      <th>Vehicle.Class_Sports Car Vehicle.Class_Luxury SUV</th>\n",
       "      <th>Vehicle.Class_Sports Car Vehicle.Class_Luxury Car</th>\n",
       "      <th>Vehicle.Class_Luxury SUV^2</th>\n",
       "      <th>Vehicle.Class_Luxury SUV Vehicle.Class_Luxury Car</th>\n",
       "      <th>Vehicle.Class_Luxury Car^2</th>\n",
       "    </tr>\n",
       "  </thead>\n",
       "  <tbody>\n",
       "    <tr>\n",
       "      <th>0</th>\n",
       "      <td>0.603329</td>\n",
       "      <td>-0.712548</td>\n",
       "      <td>-0.420359</td>\n",
       "      <td>-0.830497</td>\n",
       "      <td>0.030067</td>\n",
       "      <td>-0.650746</td>\n",
       "      <td>-0.309768</td>\n",
       "      <td>-0.985733</td>\n",
       "      <td>0.842264</td>\n",
       "      <td>-0.603799</td>\n",
       "      <td>...</td>\n",
       "      <td>-0.118649</td>\n",
       "      <td>0.0</td>\n",
       "      <td>0.0</td>\n",
       "      <td>0.0</td>\n",
       "      <td>-0.486758</td>\n",
       "      <td>0.0</td>\n",
       "      <td>0.0</td>\n",
       "      <td>-0.230121</td>\n",
       "      <td>0.0</td>\n",
       "      <td>1.934254</td>\n",
       "    </tr>\n",
       "    <tr>\n",
       "      <th>1</th>\n",
       "      <td>-1.250653</td>\n",
       "      <td>0.095096</td>\n",
       "      <td>-0.420359</td>\n",
       "      <td>1.994204</td>\n",
       "      <td>2.104114</td>\n",
       "      <td>1.536698</td>\n",
       "      <td>-0.309768</td>\n",
       "      <td>-0.985733</td>\n",
       "      <td>-1.187276</td>\n",
       "      <td>1.656181</td>\n",
       "      <td>...</td>\n",
       "      <td>-0.118649</td>\n",
       "      <td>0.0</td>\n",
       "      <td>0.0</td>\n",
       "      <td>0.0</td>\n",
       "      <td>-0.486758</td>\n",
       "      <td>0.0</td>\n",
       "      <td>0.0</td>\n",
       "      <td>-0.230121</td>\n",
       "      <td>0.0</td>\n",
       "      <td>-0.516995</td>\n",
       "    </tr>\n",
       "    <tr>\n",
       "      <th>2</th>\n",
       "      <td>0.356006</td>\n",
       "      <td>0.547376</td>\n",
       "      <td>-0.420359</td>\n",
       "      <td>-0.426968</td>\n",
       "      <td>0.649009</td>\n",
       "      <td>-0.650746</td>\n",
       "      <td>3.228222</td>\n",
       "      <td>-0.985733</td>\n",
       "      <td>0.842264</td>\n",
       "      <td>-0.603799</td>\n",
       "      <td>...</td>\n",
       "      <td>-0.118649</td>\n",
       "      <td>0.0</td>\n",
       "      <td>0.0</td>\n",
       "      <td>0.0</td>\n",
       "      <td>-0.486758</td>\n",
       "      <td>0.0</td>\n",
       "      <td>0.0</td>\n",
       "      <td>-0.230121</td>\n",
       "      <td>0.0</td>\n",
       "      <td>1.934254</td>\n",
       "    </tr>\n",
       "    <tr>\n",
       "      <th>3</th>\n",
       "      <td>-1.250653</td>\n",
       "      <td>0.482765</td>\n",
       "      <td>-0.420359</td>\n",
       "      <td>1.590676</td>\n",
       "      <td>0.533399</td>\n",
       "      <td>-0.650746</td>\n",
       "      <td>-0.309768</td>\n",
       "      <td>1.014474</td>\n",
       "      <td>0.842264</td>\n",
       "      <td>-0.603799</td>\n",
       "      <td>...</td>\n",
       "      <td>-0.118649</td>\n",
       "      <td>0.0</td>\n",
       "      <td>0.0</td>\n",
       "      <td>0.0</td>\n",
       "      <td>2.054409</td>\n",
       "      <td>0.0</td>\n",
       "      <td>0.0</td>\n",
       "      <td>-0.230121</td>\n",
       "      <td>0.0</td>\n",
       "      <td>-0.516995</td>\n",
       "    </tr>\n",
       "    <tr>\n",
       "      <th>4</th>\n",
       "      <td>0.193551</td>\n",
       "      <td>-0.583325</td>\n",
       "      <td>-0.420359</td>\n",
       "      <td>-0.830497</td>\n",
       "      <td>-1.133194</td>\n",
       "      <td>-0.650746</td>\n",
       "      <td>-0.309768</td>\n",
       "      <td>1.014474</td>\n",
       "      <td>-1.187276</td>\n",
       "      <td>1.656181</td>\n",
       "      <td>...</td>\n",
       "      <td>-0.118649</td>\n",
       "      <td>0.0</td>\n",
       "      <td>0.0</td>\n",
       "      <td>0.0</td>\n",
       "      <td>-0.486758</td>\n",
       "      <td>0.0</td>\n",
       "      <td>0.0</td>\n",
       "      <td>-0.230121</td>\n",
       "      <td>0.0</td>\n",
       "      <td>-0.516995</td>\n",
       "    </tr>\n",
       "    <tr>\n",
       "      <th>...</th>\n",
       "      <td>...</td>\n",
       "      <td>...</td>\n",
       "      <td>...</td>\n",
       "      <td>...</td>\n",
       "      <td>...</td>\n",
       "      <td>...</td>\n",
       "      <td>...</td>\n",
       "      <td>...</td>\n",
       "      <td>...</td>\n",
       "      <td>...</td>\n",
       "      <td>...</td>\n",
       "      <td>...</td>\n",
       "      <td>...</td>\n",
       "      <td>...</td>\n",
       "      <td>...</td>\n",
       "      <td>...</td>\n",
       "      <td>...</td>\n",
       "      <td>...</td>\n",
       "      <td>...</td>\n",
       "      <td>...</td>\n",
       "      <td>...</td>\n",
       "    </tr>\n",
       "    <tr>\n",
       "      <th>8207</th>\n",
       "      <td>0.322863</td>\n",
       "      <td>0.418153</td>\n",
       "      <td>-0.420359</td>\n",
       "      <td>-0.830497</td>\n",
       "      <td>0.569836</td>\n",
       "      <td>-0.650746</td>\n",
       "      <td>3.228222</td>\n",
       "      <td>-0.985733</td>\n",
       "      <td>-1.187276</td>\n",
       "      <td>1.656181</td>\n",
       "      <td>...</td>\n",
       "      <td>-0.118649</td>\n",
       "      <td>0.0</td>\n",
       "      <td>0.0</td>\n",
       "      <td>0.0</td>\n",
       "      <td>-0.486758</td>\n",
       "      <td>0.0</td>\n",
       "      <td>0.0</td>\n",
       "      <td>-0.230121</td>\n",
       "      <td>0.0</td>\n",
       "      <td>-0.516995</td>\n",
       "    </tr>\n",
       "    <tr>\n",
       "      <th>8208</th>\n",
       "      <td>-0.538896</td>\n",
       "      <td>-0.389490</td>\n",
       "      <td>-0.420359</td>\n",
       "      <td>-0.830497</td>\n",
       "      <td>0.008833</td>\n",
       "      <td>1.536698</td>\n",
       "      <td>-0.309768</td>\n",
       "      <td>-0.985733</td>\n",
       "      <td>-1.187276</td>\n",
       "      <td>-0.603799</td>\n",
       "      <td>...</td>\n",
       "      <td>-0.118649</td>\n",
       "      <td>0.0</td>\n",
       "      <td>0.0</td>\n",
       "      <td>0.0</td>\n",
       "      <td>-0.486758</td>\n",
       "      <td>0.0</td>\n",
       "      <td>0.0</td>\n",
       "      <td>-0.230121</td>\n",
       "      <td>0.0</td>\n",
       "      <td>-0.516995</td>\n",
       "    </tr>\n",
       "    <tr>\n",
       "      <th>8209</th>\n",
       "      <td>-1.250653</td>\n",
       "      <td>-0.195656</td>\n",
       "      <td>2.852704</td>\n",
       "      <td>-0.426968</td>\n",
       "      <td>1.288091</td>\n",
       "      <td>1.536698</td>\n",
       "      <td>-0.309768</td>\n",
       "      <td>1.014474</td>\n",
       "      <td>-1.187276</td>\n",
       "      <td>1.656181</td>\n",
       "      <td>...</td>\n",
       "      <td>-0.118649</td>\n",
       "      <td>0.0</td>\n",
       "      <td>0.0</td>\n",
       "      <td>0.0</td>\n",
       "      <td>-0.486758</td>\n",
       "      <td>0.0</td>\n",
       "      <td>0.0</td>\n",
       "      <td>-0.230121</td>\n",
       "      <td>0.0</td>\n",
       "      <td>-0.516995</td>\n",
       "    </tr>\n",
       "    <tr>\n",
       "      <th>8210</th>\n",
       "      <td>-0.527793</td>\n",
       "      <td>0.159707</td>\n",
       "      <td>-0.420359</td>\n",
       "      <td>-0.023439</td>\n",
       "      <td>1.017350</td>\n",
       "      <td>1.536698</td>\n",
       "      <td>-0.309768</td>\n",
       "      <td>1.014474</td>\n",
       "      <td>0.842264</td>\n",
       "      <td>-0.603799</td>\n",
       "      <td>...</td>\n",
       "      <td>-0.118649</td>\n",
       "      <td>0.0</td>\n",
       "      <td>0.0</td>\n",
       "      <td>0.0</td>\n",
       "      <td>-0.486758</td>\n",
       "      <td>0.0</td>\n",
       "      <td>0.0</td>\n",
       "      <td>-0.230121</td>\n",
       "      <td>0.0</td>\n",
       "      <td>-0.516995</td>\n",
       "    </tr>\n",
       "    <tr>\n",
       "      <th>8211</th>\n",
       "      <td>-1.250653</td>\n",
       "      <td>-0.454102</td>\n",
       "      <td>-0.420359</td>\n",
       "      <td>-0.830497</td>\n",
       "      <td>-0.027864</td>\n",
       "      <td>1.536698</td>\n",
       "      <td>-0.309768</td>\n",
       "      <td>1.014474</td>\n",
       "      <td>-1.187276</td>\n",
       "      <td>1.656181</td>\n",
       "      <td>...</td>\n",
       "      <td>-0.118649</td>\n",
       "      <td>0.0</td>\n",
       "      <td>0.0</td>\n",
       "      <td>0.0</td>\n",
       "      <td>-0.486758</td>\n",
       "      <td>0.0</td>\n",
       "      <td>0.0</td>\n",
       "      <td>-0.230121</td>\n",
       "      <td>0.0</td>\n",
       "      <td>1.934254</td>\n",
       "    </tr>\n",
       "  </tbody>\n",
       "</table>\n",
       "<p>8212 rows × 189 columns</p>\n",
       "</div>"
      ],
      "text/plain": [
       "        Income  Monthly.Premium.Auto  Number.of.Open.Complaints  \\\n",
       "0     0.603329             -0.712548                  -0.420359   \n",
       "1    -1.250653              0.095096                  -0.420359   \n",
       "2     0.356006              0.547376                  -0.420359   \n",
       "3    -1.250653              0.482765                  -0.420359   \n",
       "4     0.193551             -0.583325                  -0.420359   \n",
       "...        ...                   ...                        ...   \n",
       "8207  0.322863              0.418153                  -0.420359   \n",
       "8208 -0.538896             -0.389490                  -0.420359   \n",
       "8209 -1.250653             -0.195656                   2.852704   \n",
       "8210 -0.527793              0.159707                  -0.420359   \n",
       "8211 -1.250653             -0.454102                  -0.420359   \n",
       "\n",
       "      Number.of.Policies  Total.Claim.Amount  Coverage_Extended  \\\n",
       "0              -0.830497            0.030067          -0.650746   \n",
       "1               1.994204            2.104114           1.536698   \n",
       "2              -0.426968            0.649009          -0.650746   \n",
       "3               1.590676            0.533399          -0.650746   \n",
       "4              -0.830497           -1.133194          -0.650746   \n",
       "...                  ...                 ...                ...   \n",
       "8207           -0.830497            0.569836          -0.650746   \n",
       "8208           -0.830497            0.008833           1.536698   \n",
       "8209           -0.426968            1.288091           1.536698   \n",
       "8210           -0.023439            1.017350           1.536698   \n",
       "8211           -0.830497           -0.027864           1.536698   \n",
       "\n",
       "      Coverage_Premium  Gender_M  Marital.Status_Single  \\\n",
       "0            -0.309768 -0.985733               0.842264   \n",
       "1            -0.309768 -0.985733              -1.187276   \n",
       "2             3.228222 -0.985733               0.842264   \n",
       "3            -0.309768  1.014474               0.842264   \n",
       "4            -0.309768  1.014474              -1.187276   \n",
       "...                ...       ...                    ...   \n",
       "8207          3.228222 -0.985733              -1.187276   \n",
       "8208         -0.309768 -0.985733              -1.187276   \n",
       "8209         -0.309768  1.014474              -1.187276   \n",
       "8210         -0.309768  1.014474               0.842264   \n",
       "8211         -0.309768  1.014474              -1.187276   \n",
       "\n",
       "      Marital.Status_Divorced  ...  Vehicle.Class_SUV^2  \\\n",
       "0                   -0.603799  ...            -0.118649   \n",
       "1                    1.656181  ...            -0.118649   \n",
       "2                   -0.603799  ...            -0.118649   \n",
       "3                   -0.603799  ...            -0.118649   \n",
       "4                    1.656181  ...            -0.118649   \n",
       "...                       ...  ...                  ...   \n",
       "8207                 1.656181  ...            -0.118649   \n",
       "8208                -0.603799  ...            -0.118649   \n",
       "8209                 1.656181  ...            -0.118649   \n",
       "8210                -0.603799  ...            -0.118649   \n",
       "8211                 1.656181  ...            -0.118649   \n",
       "\n",
       "      Vehicle.Class_SUV Vehicle.Class_Sports Car  \\\n",
       "0                                            0.0   \n",
       "1                                            0.0   \n",
       "2                                            0.0   \n",
       "3                                            0.0   \n",
       "4                                            0.0   \n",
       "...                                          ...   \n",
       "8207                                         0.0   \n",
       "8208                                         0.0   \n",
       "8209                                         0.0   \n",
       "8210                                         0.0   \n",
       "8211                                         0.0   \n",
       "\n",
       "      Vehicle.Class_SUV Vehicle.Class_Luxury SUV  \\\n",
       "0                                            0.0   \n",
       "1                                            0.0   \n",
       "2                                            0.0   \n",
       "3                                            0.0   \n",
       "4                                            0.0   \n",
       "...                                          ...   \n",
       "8207                                         0.0   \n",
       "8208                                         0.0   \n",
       "8209                                         0.0   \n",
       "8210                                         0.0   \n",
       "8211                                         0.0   \n",
       "\n",
       "      Vehicle.Class_SUV Vehicle.Class_Luxury Car  Vehicle.Class_Sports Car^2  \\\n",
       "0                                            0.0                   -0.486758   \n",
       "1                                            0.0                   -0.486758   \n",
       "2                                            0.0                   -0.486758   \n",
       "3                                            0.0                    2.054409   \n",
       "4                                            0.0                   -0.486758   \n",
       "...                                          ...                         ...   \n",
       "8207                                         0.0                   -0.486758   \n",
       "8208                                         0.0                   -0.486758   \n",
       "8209                                         0.0                   -0.486758   \n",
       "8210                                         0.0                   -0.486758   \n",
       "8211                                         0.0                   -0.486758   \n",
       "\n",
       "      Vehicle.Class_Sports Car Vehicle.Class_Luxury SUV  \\\n",
       "0                                                   0.0   \n",
       "1                                                   0.0   \n",
       "2                                                   0.0   \n",
       "3                                                   0.0   \n",
       "4                                                   0.0   \n",
       "...                                                 ...   \n",
       "8207                                                0.0   \n",
       "8208                                                0.0   \n",
       "8209                                                0.0   \n",
       "8210                                                0.0   \n",
       "8211                                                0.0   \n",
       "\n",
       "      Vehicle.Class_Sports Car Vehicle.Class_Luxury Car  \\\n",
       "0                                                   0.0   \n",
       "1                                                   0.0   \n",
       "2                                                   0.0   \n",
       "3                                                   0.0   \n",
       "4                                                   0.0   \n",
       "...                                                 ...   \n",
       "8207                                                0.0   \n",
       "8208                                                0.0   \n",
       "8209                                                0.0   \n",
       "8210                                                0.0   \n",
       "8211                                                0.0   \n",
       "\n",
       "      Vehicle.Class_Luxury SUV^2  \\\n",
       "0                      -0.230121   \n",
       "1                      -0.230121   \n",
       "2                      -0.230121   \n",
       "3                      -0.230121   \n",
       "4                      -0.230121   \n",
       "...                          ...   \n",
       "8207                   -0.230121   \n",
       "8208                   -0.230121   \n",
       "8209                   -0.230121   \n",
       "8210                   -0.230121   \n",
       "8211                   -0.230121   \n",
       "\n",
       "      Vehicle.Class_Luxury SUV Vehicle.Class_Luxury Car  \\\n",
       "0                                                   0.0   \n",
       "1                                                   0.0   \n",
       "2                                                   0.0   \n",
       "3                                                   0.0   \n",
       "4                                                   0.0   \n",
       "...                                                 ...   \n",
       "8207                                                0.0   \n",
       "8208                                                0.0   \n",
       "8209                                                0.0   \n",
       "8210                                                0.0   \n",
       "8211                                                0.0   \n",
       "\n",
       "      Vehicle.Class_Luxury Car^2  \n",
       "0                       1.934254  \n",
       "1                      -0.516995  \n",
       "2                       1.934254  \n",
       "3                      -0.516995  \n",
       "4                      -0.516995  \n",
       "...                          ...  \n",
       "8207                   -0.516995  \n",
       "8208                   -0.516995  \n",
       "8209                   -0.516995  \n",
       "8210                   -0.516995  \n",
       "8211                    1.934254  \n",
       "\n",
       "[8212 rows x 189 columns]"
      ]
     },
     "execution_count": 7,
     "metadata": {},
     "output_type": "execute_result"
    }
   ],
   "source": [
    "poly_scaler = Pipeline([\n",
    "    (\"poly_features\", PolynomialFeatures(degree=2, include_bias=False)),\n",
    "    (\"std_scaler\", StandardScaler())\n",
    "])\n",
    "\n",
    "# Fit and transform the X matrix\n",
    "X_poly_scaled = poly_scaler.fit_transform(X)\n",
    "\n",
    "# # Convert the result to a Pandas DataFrame\n",
    "X_poly_scaled_df = pd.DataFrame(X_poly_scaled, columns=poly_scaler.named_steps[\"poly_features\"].get_feature_names(X.columns))\n",
    "\n",
    "X_poly_scaled_df"
   ]
  },
  {
   "cell_type": "markdown",
   "metadata": {
    "id": "R0Llj1HB4I_f"
   },
   "source": [
    "### 1.7 What is the shape of the resultant DataFrame obtained from question 1.6?"
   ]
  },
  {
   "cell_type": "code",
   "execution_count": 8,
   "metadata": {},
   "outputs": [
    {
     "data": {
      "text/plain": [
       "(8212, 189)"
      ]
     },
     "execution_count": 8,
     "metadata": {},
     "output_type": "execute_result"
    }
   ],
   "source": [
    "X_poly_scaled_df.shape"
   ]
  },
  {
   "cell_type": "markdown",
   "metadata": {
    "id": "WT-POfziGnpm"
   },
   "source": [
    "## Question 2: /7 pts\n",
    "\n",
    "Split the data into training and test sets. Hold out 30% of observations as the test set.  Pass `random_state=seed` to `train_test_split` to ensure you get the same sets per run. The design matrix to pass in to the splitter function is the dataframe whcih you got in Question 1.6. As for the target, you have created it in Question 1.4."
   ]
  },
  {
   "cell_type": "code",
   "execution_count": 9,
   "metadata": {
    "id": "0nA70uSCJMiO"
   },
   "outputs": [
    {
     "name": "stdout",
     "output_type": "stream",
     "text": [
      "number of observations in the training data set:  5748\n",
      "average value of the target variable in the training data set:  8.618109097351635\n"
     ]
    }
   ],
   "source": [
    "Xtrain, Xtest, ytrain, ytest = train_test_split(X_poly_scaled_df, y, test_size = 0.30, random_state=seed)\n",
    "print(\"number of observations in the training data set: \", Xtrain.shape[0])\n",
    "print(\"average value of the target variable in the training data set: \", np.mean(ytrain))"
   ]
  },
  {
   "cell_type": "markdown",
   "metadata": {
    "id": "2LN9bLXV5H3Q"
   },
   "source": [
    "How many observations in your traning data set? What is the average value of the target variable in the traning data set (keep 2 decimal place)?"
   ]
  },
  {
   "cell_type": "markdown",
   "metadata": {
    "id": "hhxxdCrA59Ur"
   },
   "source": [
    "**YOUR ANSWER HERE:** [2pts]\n",
    "number of observations in the training data set:  5748\n",
    "average value of the target variable in the training data set:  8.618109097351635\n"
   ]
  },
  {
   "cell_type": "markdown",
   "metadata": {
    "id": "JSROy1U56I8Y"
   },
   "source": [
    "## Question 3: /23 pts"
   ]
  },
  {
   "cell_type": "markdown",
   "metadata": {
    "id": "HnTESpfO8g2_"
   },
   "source": [
    "### 3.1 Create a SciKit Learn `Ridge` regression object. Using this object, run a ridge regression analysis of the target variable against all the transformed predictor variables using your training data. Include the arguement `alpha=4.0`. In addition, the ridge regression should be fitted with the intercept."
   ]
  },
  {
   "cell_type": "code",
   "execution_count": 10,
   "metadata": {
    "id": "KNbYd9YM5QO3"
   },
   "outputs": [
    {
     "data": {
      "text/plain": [
       "Ridge(alpha=4.0)"
      ]
     },
     "execution_count": 10,
     "metadata": {},
     "output_type": "execute_result"
    }
   ],
   "source": [
    "ridge = skl.Ridge(alpha=4.0, fit_intercept=True)  #true since not already a constant\n",
    "ridge.fit(Xtrain, ytrain)"
   ]
  },
  {
   "cell_type": "markdown",
   "metadata": {
    "id": "TiPa777vIESf"
   },
   "source": [
    "### 3.2 Vary the ridge coeficient `alpha` according to the hint. Use `cross_val_score()` to select the best `alpha` based on 'mean_squared_error'. Include the argument `cv=5`. Report the `alpha` that yields the smallest mean_squared_error.   "
   ]
  },
  {
   "cell_type": "code",
   "execution_count": 11,
   "metadata": {
    "id": "FqbRiqdBICnW"
   },
   "outputs": [],
   "source": [
    "lam = np.exp(np.linspace(-4,1,10))\n",
    "# lam = np.exp(np.linspace(-4,2,10))\n",
    "mse = np.zeros(10)\n",
    "for i in range(lam.size):\n",
    "    cv_scores = cross_val_score(skl.Ridge(alpha=lam[i]), Xtrain, ytrain, cv=5, scoring = 'neg_mean_squared_error')\n",
    "    mse[i] = -cv_scores.mean()"
   ]
  },
  {
   "cell_type": "code",
   "execution_count": 12,
   "metadata": {},
   "outputs": [
    {
     "data": {
      "image/png": "[encoded data removed]",
      "text/plain": [
       "<Figure size 432x288 with 1 Axes>"
      ]
     },
     "metadata": {
      "needs_background": "light"
     },
     "output_type": "display_data"
    },
    {
     "name": "stdout",
     "output_type": "stream",
     "text": [
      "The alpha that yields the smallest mse is:  0.4444444444444447\n"
     ]
    }
   ],
   "source": [
    "plt.scatter(np.log(lam),mse)\n",
    "plt.show()\n",
    "riddf = pd.DataFrame({'x': np.log(lam), 'y': mse})\n",
    "miny = min(riddf.y)\n",
    "lowestx = riddf.loc[riddf['y'] == miny, 'x'].values[0]\n",
    "print(\"The alpha that yields the smallest mse is: \", lowestx)\n"
   ]
  },
  {
   "cell_type": "markdown",
   "metadata": {
    "id": "6sDLY0ZoD2gl"
   },
   "source": [
    "### 3.3 Re-fit the ridge regression with `alpha` being the value obtained in the previous question. `Print` the first 3 parameters of your model."
   ]
  },
  {
   "cell_type": "code",
   "execution_count": 13,
   "metadata": {
    "colab": {
     "base_uri": "https://localhost:8080/"
    },
    "id": "SdW6-rRKDs0H",
    "outputId": "172f9736-466a-4ef2-839a-984c2cee3165"
   },
   "outputs": [
    {
     "name": "stdout",
     "output_type": "stream",
     "text": [
      "The first 3 parameters of the fitted ridge regression model are:  [0.02839762 0.33081133 0.02778567]\n"
     ]
    }
   ],
   "source": [
    "ridge = skl.Ridge(alpha=np.exp(lowestx))\n",
    "ridge.fit(Xtrain, ytrain)\n",
    "print(\"The first 3 parameters of the fitted ridge regression model are: \", ridge.coef_[:3])\n"
   ]
  },
  {
   "cell_type": "markdown",
   "metadata": {
    "id": "0Tkm7rYwZhav"
   },
   "source": [
    "### 3.4 Fit the linear regression without any penalty, and the regression should be fitted with the intercept. `Print` the first 3 parameters of your model."
   ]
  },
  {
   "cell_type": "code",
   "execution_count": 14,
   "metadata": {
    "colab": {
     "base_uri": "https://localhost:8080/"
    },
    "id": "gqo8keT9Z-oz",
    "outputId": "db28a583-b96a-49bb-aa6e-2de5e34f34a2"
   },
   "outputs": [
    {
     "name": "stdout",
     "output_type": "stream",
     "text": [
      "The first 3 parameters of the fitted linear regression model are:  [0.01836491 0.2563095  0.03083429]\n"
     ]
    }
   ],
   "source": [
    "linreg = skl.LinearRegression(fit_intercept=True)\n",
    "linreg.fit(Xtrain,ytrain)\n",
    "print(\"The first 3 parameters of the fitted linear regression model are: \", linreg.coef_[:3])"
   ]
  },
  {
   "cell_type": "markdown",
   "metadata": {
    "id": "sm7Gr6eXaqzP"
   },
   "source": [
    "Comparing the parameters that you obtain in questions 3.3 and 3.4, what do you find?"
   ]
  },
  {
   "cell_type": "markdown",
   "metadata": {
    "id": "3dWojdSQbD1n"
   },
   "source": [
    "**YOUR ANSWER HERE:** [2pts]\n",
    "\n",
    "After comparing these parameters, we can see that the parameters obtained with ridge penalty are slightly higher than those obtained in the linearregression model, as the ridge penalty reduces overfitting, whereas linearregression does not, and is more overfitted to data"
   ]
  },
  {
   "cell_type": "markdown",
   "metadata": {
    "id": "tWgD5DCS4abp"
   },
   "source": [
    "### 3.5 Use your trained model from Question 3.4 to predict over the test set and `print` the first 5 prediction values."
   ]
  },
  {
   "cell_type": "code",
   "execution_count": 15,
   "metadata": {
    "colab": {
     "base_uri": "https://localhost:8080/"
    },
    "id": "jZ2kmfb74usy",
    "outputId": "cb16ef2e-0711-4118-b01d-ff236d8b46d7"
   },
   "outputs": [
    {
     "name": "stdout",
     "output_type": "stream",
     "text": [
      "The first 5 prediction values are:  [9.24241423 8.31634306 8.89556669 8.0829141  8.44511198]\n"
     ]
    }
   ],
   "source": [
    "ypp = linreg.predict(Xtest)\n",
    "print(\"The first 5 prediction values are: \", ypp[:5])"
   ]
  },
  {
   "cell_type": "markdown",
   "metadata": {
    "id": "rbzjtW76e1pD"
   },
   "source": [
    "## Question 4: /25 pts"
   ]
  },
  {
   "cell_type": "markdown",
   "metadata": {
    "id": "fVzCvbKUgQUr"
   },
   "source": [
    "### 4.1 Consider to fit a Lasso regression to the train dataset. Use `lasso_path()` to show the full path of the first 20 coefficients of the Lasso regression. Include the arguement `eps=8e-3` and `n_alphas=50`."
   ]
  },
  {
   "cell_type": "code",
   "execution_count": 16,
   "metadata": {
    "colab": {
     "base_uri": "https://localhost:8080/",
     "height": 279
    },
    "id": "-yYkOTzFe1DT",
    "outputId": "66646ec6-41ed-4e49-954c-733d9716f4d1"
   },
   "outputs": [
    {
     "data": {
      "image/png": "[encoded data removed]",
      "text/plain": [
       "<Figure size 432x288 with 1 Axes>"
      ]
     },
     "metadata": {
      "needs_background": "light"
     },
     "output_type": "display_data"
    }
   ],
   "source": [
    "# Draw a plot to show the path. Legend is not required in the plot.\n",
    "eps = 8e-3 # The smaller eps, the longer the path  \n",
    "n_alphas = 50\n",
    "lambda_lasso, coefs_lasso, _ = skl.lasso_path(Xtrain, ytrain, eps=eps, n_alphas=n_alphas)\n",
    "\n",
    "neg_log_lambda = -np.log(lambda_lasso)\n",
    "for i in range(20):\n",
    "    l1 = plt.plot(neg_log_lambda, coefs_lasso[i,])\n",
    "\n",
    "plt.xlabel('Neg. Log. Lambda')\n",
    "plt.ylabel('Coef.')\n",
    "\n",
    "plt.show()"
   ]
  },
  {
   "cell_type": "markdown",
   "metadata": {
    "id": "CS-5Wbsfh7UL"
   },
   "source": [
    "Describe the trend that shows in your figure."
   ]
  },
  {
   "cell_type": "markdown",
   "metadata": {
    "id": "aOig7gYBiFJ0"
   },
   "source": [
    "**YOUR ANSWER HERE:** [3pts] \n",
    "\n",
    "We see that as lambda slowly increases from a very small to a larger number, the coefficient tends to get smaller and smaller, as seen at around neg log lambda 4, where from there values become more and more negative and smaller, besies one outlier. "
   ]
  },
  {
   "cell_type": "markdown",
   "metadata": {
    "id": "8VqmO6vyjGtm"
   },
   "source": [
    "### 4.2 Use the Scikit Learn's cross-validated LASSO to automatically search for the best tuning parameter of the LASSO regression on the training set with intercept. Include arguments `eps=8e-3`, `n_alphas=30`, `tol=0.001`, `cv=5`, and `random_state=seed`. Report the best tuning parameter and the number of the non-zero coefficients in the model."
   ]
  },
  {
   "cell_type": "code",
   "execution_count": 17,
   "metadata": {
    "id": "XcgZDP9kjNHP"
   },
   "outputs": [
    {
     "name": "stdout",
     "output_type": "stream",
     "text": [
      "Number of non-zero coefficients: 92\n",
      "Best fit: alpha=0.00193,\n"
     ]
    }
   ],
   "source": [
    "LassoBest = LassoCV(eps = 8e-3, \n",
    "                    n_alphas = 30,\n",
    "                    tol = 0.001,\n",
    "                    cv = 5,\n",
    "                    random_state = seed)\n",
    "LassoBest.fit(Xtrain, ytrain)\n",
    "non_zero_coef = np.count_nonzero(LassoBest.coef_)\n",
    "print('Number of non-zero coefficients: %d' % non_zero_coef)\n",
    "print('Best fit: alpha=%.5f,' % LassoBest.alpha_)"
   ]
  },
  {
   "cell_type": "markdown",
   "metadata": {
    "id": "Czdd73jll-QW"
   },
   "source": [
    "### 4.3 Use the Scikit Learn's cross-validated ElasticNet to automatically search for the best tuning parameters of the Elasticnet regression with intercept on the training data set. Include the same argument as question 4.2 as well as `l1_ratio=[.7, .9, .95, .99,1]`. Report the best tuning parameters."
   ]
  },
  {
   "cell_type": "code",
   "execution_count": 18,
   "metadata": {
    "colab": {
     "base_uri": "https://localhost:8080/"
    },
    "id": "fPJuGnkjmcE6",
    "outputId": "83e36fdf-cddc-48b0-e747-8b432644a7bd"
   },
   "outputs": [
    {
     "name": "stdout",
     "output_type": "stream",
     "text": [
      "Best fit: alpha=0.00193,\n"
     ]
    }
   ],
   "source": [
    "l1_ratio=[.7, .9, .95, .99,1]\n",
    "ElasticNet = ElasticNetCV(eps = 8e-3, \n",
    "                          n_alphas = 30,\n",
    "                          l1_ratio = l1_ratio,\n",
    "                          fit_intercept=True,\n",
    "                          tol = 0.001,\n",
    "                          cv = 5,\n",
    "                          random_state = seed )\n",
    "ElasticNet.fit(Xtrain, ytrain)\n",
    "print('Best fit: alpha=%.5f,' % ElasticNet.alpha_)"
   ]
  },
  {
   "cell_type": "markdown",
   "metadata": {
    "id": "yQLwlTQznvfs"
   },
   "source": [
    "From the obtained tuning parameters, is the Elasticnet regression model equivalent to the Lasso regression? Briefly describe the reason. "
   ]
  },
  {
   "cell_type": "markdown",
   "metadata": {
    "id": "imEmw4pdozsc"
   },
   "source": [
    "**YOUR ANSWER HERE:** [3pts]\n",
    "\n",
    "From the obtained tuning parameters being equivalent, we can say that the elastic regression model is equivalent to the lasso regression, and this is because we input 1 in the l1_ratio, as elastic is a mix of ridge and lasso, and lasso=1 where ridge=0, so when elastic uses the exact same penalty as lasso's, it turns out that that penalty of 1 yielded that best fit, meaning that it is an equivalent regression"
   ]
  },
  {
   "cell_type": "markdown",
   "metadata": {
    "id": "mA8w-HPJ93h6"
   },
   "source": [
    "## Question 5: /16 pts"
   ]
  },
  {
   "cell_type": "markdown",
   "metadata": {
    "id": "xGaiH_Y49_Nl"
   },
   "source": [
    "### 5.1 Start from the regression model in question 3.4, use `SequentialFeatureSelector()` to conduct the forward selection for the features of the regression model. Include the argument `n_features_to_select=20`. Report the indices of the selected features. \n",
    "\n",
    "FYI: Running this using 8 physical cores took about 1 minute for me."
   ]
  },
  {
   "cell_type": "code",
   "execution_count": 19,
   "metadata": {
    "id": "jxGV90gx6nDm"
   },
   "outputs": [
    {
     "name": "stdout",
     "output_type": "stream",
     "text": [
      "[  1   3  12  18  19  20  28  36  38  55  56  59  69  75 104 117 118 119\n",
      " 143 168]\n"
     ]
    }
   ],
   "source": [
    "selector = SequentialFeatureSelector(estimator=linreg, \n",
    "                                     n_features_to_select=20,\n",
    "                                     direction='forward')\n",
    "selector.fit(Xtrain,ytrain)\n",
    "selected_features = selector.get_support(indices=True)\n",
    "print(selected_features)\n"
   ]
  },
  {
   "cell_type": "markdown",
   "metadata": {
    "id": "QNFD6RQJ_8m3"
   },
   "source": [
    "What do you need to change about the argument in your model if you want to conduct a backward selection?"
   ]
  },
  {
   "cell_type": "markdown",
   "metadata": {
    "id": "8pawMkg5-3j9"
   },
   "source": [
    "**YOUR ANSWER HERE:** [2pts] \n",
    "\n",
    "selector = SequentialFeatureSelector(estimator=linreg, \n",
    "                                     n_features_to_select=20,\n",
    "                                     direction='backward')"
   ]
  },
  {
   "cell_type": "markdown",
   "metadata": {
    "id": "CBLcnkP71SbP"
   },
   "source": [
    "### 5.2 Re-fit the regular linear regression based on the traning set by using the selected features from the question 5.1. Report the first 3 parameters of your model as indicated with the print function."
   ]
  },
  {
   "cell_type": "code",
   "execution_count": 20,
   "metadata": {
    "id": "k8gVaU4mA6Zw"
   },
   "outputs": [
    {
     "name": "stdout",
     "output_type": "stream",
     "text": [
      "[ 0.50741972  1.07176697 -0.00583106]\n"
     ]
    }
   ],
   "source": [
    "# create a new feature matrix with selected features\n",
    "Xtrain_sel = Xtrain.iloc[:,selected_features]\n",
    "Xtest_sel = Xtest.iloc[:,selected_features]\n",
    "\n",
    "# fit linear regression model\n",
    "linreg_sel = linreg.fit(Xtrain_sel, ytrain)\n",
    "\n",
    "# print first 3 parameters\n",
    "print(linreg_sel.coef_[:3])"
   ]
  },
  {
   "cell_type": "markdown",
   "metadata": {
    "id": "ETqQ_ZMy2oyB"
   },
   "source": [
    "## Question 6: /9 pts"
   ]
  },
  {
   "cell_type": "markdown",
   "metadata": {
    "id": "3V9n4qj68cQn"
   },
   "source": [
    "### 6.1 Make predictions on the test set using your models in questions 3.3, 4.2, 4.3, and 5.2, respectively. Together with the predicted values obtained in question 3.5, report the first 5 rows of predicted values obtained from different models in a single DataFrame."
   ]
  },
  {
   "cell_type": "code",
   "execution_count": 21,
   "metadata": {
    "colab": {
     "base_uri": "https://localhost:8080/",
     "height": 206
    },
    "id": "bcjWPGH82stF",
    "outputId": "1e7bdb5a-62e0-4d5a-b7a7-8846cc06a3c5",
    "scrolled": true
   },
   "outputs": [
    {
     "data": {
      "text/html": [
       "<div>\n",
       "<style scoped>\n",
       "    .dataframe tbody tr th:only-of-type {\n",
       "        vertical-align: middle;\n",
       "    }\n",
       "\n",
       "    .dataframe tbody tr th {\n",
       "        vertical-align: top;\n",
       "    }\n",
       "\n",
       "    .dataframe thead th {\n",
       "        text-align: right;\n",
       "    }\n",
       "</style>\n",
       "<table border=\"1\" class=\"dataframe\">\n",
       "  <thead>\n",
       "    <tr style=\"text-align: right;\">\n",
       "      <th></th>\n",
       "      <th>Ridge(alpha=1.559623497606781)</th>\n",
       "      <th>LassoCV(cv=5, eps=0.008, n_alphas=30, random_state=2023, tol=0.001)</th>\n",
       "      <th>ElasticNetCV(cv=5, eps=0.008, l1_ratio=[0.7, 0.9, 0.95, 0.99, 1], n_alphas=30,\\n             random_state=2023, tol=0.001)</th>\n",
       "      <th>LinearRegression()</th>\n",
       "    </tr>\n",
       "  </thead>\n",
       "  <tbody>\n",
       "    <tr>\n",
       "      <th>0</th>\n",
       "      <td>9.244224</td>\n",
       "      <td>9.142903</td>\n",
       "      <td>9.142903</td>\n",
       "      <td>9.187720</td>\n",
       "    </tr>\n",
       "    <tr>\n",
       "      <th>1</th>\n",
       "      <td>8.317220</td>\n",
       "      <td>8.303288</td>\n",
       "      <td>8.303288</td>\n",
       "      <td>8.286764</td>\n",
       "    </tr>\n",
       "    <tr>\n",
       "      <th>2</th>\n",
       "      <td>8.894495</td>\n",
       "      <td>8.859596</td>\n",
       "      <td>8.859596</td>\n",
       "      <td>8.938219</td>\n",
       "    </tr>\n",
       "    <tr>\n",
       "      <th>3</th>\n",
       "      <td>8.083858</td>\n",
       "      <td>8.085032</td>\n",
       "      <td>8.085032</td>\n",
       "      <td>8.070078</td>\n",
       "    </tr>\n",
       "    <tr>\n",
       "      <th>4</th>\n",
       "      <td>8.433497</td>\n",
       "      <td>8.416404</td>\n",
       "      <td>8.416404</td>\n",
       "      <td>8.445055</td>\n",
       "    </tr>\n",
       "  </tbody>\n",
       "</table>\n",
       "</div>"
      ],
      "text/plain": [
       "   Ridge(alpha=1.559623497606781)  \\\n",
       "0                        9.244224   \n",
       "1                        8.317220   \n",
       "2                        8.894495   \n",
       "3                        8.083858   \n",
       "4                        8.433497   \n",
       "\n",
       "   LassoCV(cv=5, eps=0.008, n_alphas=30, random_state=2023, tol=0.001)  \\\n",
       "0                                           9.142903                     \n",
       "1                                           8.303288                     \n",
       "2                                           8.859596                     \n",
       "3                                           8.085032                     \n",
       "4                                           8.416404                     \n",
       "\n",
       "   ElasticNetCV(cv=5, eps=0.008, l1_ratio=[0.7, 0.9, 0.95, 0.99, 1], n_alphas=30,\\n             random_state=2023, tol=0.001)  \\\n",
       "0                                           9.142903                                                                            \n",
       "1                                           8.303288                                                                            \n",
       "2                                           8.859596                                                                            \n",
       "3                                           8.085032                                                                            \n",
       "4                                           8.416404                                                                            \n",
       "\n",
       "   LinearRegression()  \n",
       "0            9.187720  \n",
       "1            8.286764  \n",
       "2            8.938219  \n",
       "3            8.070078  \n",
       "4            8.445055  "
      ]
     },
     "execution_count": 21,
     "metadata": {},
     "output_type": "execute_result"
    }
   ],
   "source": [
    "#3.3 - ridge\n",
    "#4.2 - LassoBest\n",
    "#4.3 - ElasticNet\n",
    "#5.2 - linreg_sel, Xtest_sel for this because of different size\n",
    "#3.5 ypp\n",
    "##ypp = linreg.predict(Xtest)\n",
    "\n",
    "modells = [ridge,LassoBest,ElasticNet,linreg_sel]\n",
    "modelsDF = pd.DataFrame()\n",
    "\n",
    "for model in modells[:-1]:\n",
    "    ypred = model.predict(Xtest)\n",
    "    modelsDF[str(model)] = ypred\n",
    "\n",
    "ypred = linreg_sel.predict(Xtest_sel)\n",
    "modelsDF[str(linreg_sel)] = ypred\n",
    "\n",
    "modelsDF.head()\n"
   ]
  },
  {
   "cell_type": "markdown",
   "metadata": {
    "id": "jyZgAOlNAKxs"
   },
   "source": [
    "### 6.2 Use `mean_squared_error()` to assess the performance of different models based on all the predicted values mentioned in Question 6.1.  "
   ]
  },
  {
   "cell_type": "code",
   "execution_count": 22,
   "metadata": {
    "colab": {
     "base_uri": "https://localhost:8080/"
    },
    "id": "BnDTK5XG6k08",
    "outputId": "d1b6471e-4890-490e-9611-210ceef598e1"
   },
   "outputs": [
    {
     "name": "stdout",
     "output_type": "stream",
     "text": [
      "{'MSE-Ridge': 0.11015019996177745, 'MSE-LassoCV': 0.10992600726531611, 'MSE-ElasticNetCV': 0.10992600726531611, 'MSE-LinearRegression': 0.11082661763312708}\n",
      "The model which yields the smallest mean squared error on the test dataset is MSE-LassoCV and MSE-ElasticNetCV as they both yield the same mse of 0.109926\n"
     ]
    }
   ],
   "source": [
    "mse = {}\n",
    "for col in modelsDF.iloc[:,:-1]:\n",
    "    mse[\"MSE-\"+str(col.split('(')[0])] = metrics.mean_squared_error(ytest.values, modelsDF[col].values)\n",
    "    #have to use ytest_sel for different sized linreg_sel\n",
    "ypred = linreg_sel.predict(Xtest_sel)\n",
    "mse[\"MSE-\"+str(modelsDF.columns[-1].split('(')[0])] = metrics.mean_squared_error(ytest.values, ypred)\n",
    "print(mse)\n",
    "temp = min(mse.values())\n",
    "res = [key for key in mse if mse[key] == temp]\n",
    "print(\"The model which yields the smallest mean squared error on the test dataset is {} and {} as they both yield the same mse of {:4f}\".format(res[0], res[1], temp))"
   ]
  },
  {
   "cell_type": "markdown",
   "metadata": {
    "id": "C29Tjgo6A-eH"
   },
   "source": [
    "Which model yields the smallest mean squared error on the test dataset?"
   ]
  },
  {
   "cell_type": "markdown",
   "metadata": {
    "id": "rOXIpNBmBcay"
   },
   "source": [
    "**YOUR ANSWER HERE:** [2pts]\n",
    "\n",
    "The model which yields the smallest mean squared error on the test dataset is MSE-LassoCV and MSE-ElasticNetCV as they both yield the same mse of 0.109926"
   ]
  },
  {
   "cell_type": "code",
   "execution_count": null,
   "metadata": {},
   "outputs": [],
   "source": []
  }
 ],
 "metadata": {
  "colab": {
   "provenance": []
  },
  "kernelspec": {
   "display_name": "Python 3",
   "language": "python",
   "name": "python3"
  },
  "language_info": {
   "codemirror_mode": {
    "name": "ipython",
    "version": 3
   },
   "file_extension": ".py",
   "mimetype": "text/x-python",
   "name": "python",
   "nbconvert_exporter": "python",
   "pygments_lexer": "ipython3",
   "version": "3.8.8"
  },
  "vscode": {
   "interpreter": {
    "hash": "33450fd3005a3f920860570602bb6b9ad3febc9347ad497c595fea1c977e6b53"
   }
  }
 },
 "nbformat": 4,
 "nbformat_minor": 1
}

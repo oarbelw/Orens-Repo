{
 "cells": [
  {
   "cell_type": "markdown",
   "metadata": {},
   "source": [
    "# Grade: /100 pts\n",
    "\n",
    "# Assignment 7: Tree methods\n",
    "\n",
    "In this assignment you'll study tree methods. You will use a dataset that contains the premier league (soccer) matches between 2010 and 2021. The data has the following variables:\n",
    "\n",
    "|#|Attribute|Description|\n",
    "|---|---|---|\n",
    "|0|home_team|home team|\n",
    "|1|away_team|away team|\n",
    "|2|result_full|match result|\n",
    "|3|home_clearances|home team clearances in the match|\n",
    "|4|home_corners|home team corners in the match|\n",
    "|5|home_fouls_conceded|home team fouls conceded in the match|\n",
    "|6|home_offsides|home team offsides in the match|\n",
    "|7|home_passes|home team passes in the match|\n",
    "|8|home_possession|home team possession in the match|\n",
    "|9|home_red_cards|home team red cards in the match|\n",
    "|10|home_shots|home team shots in the match|\n",
    "|11|home_shots_on_target|home team shots on target in the match|\n",
    "|12|home_tackles|home team tackles in the match|\n",
    "|13|home_touches|home team touches in the match|\n",
    "|14|home_yellow_cards|home team yellow cards in the match|\n",
    "|15|away_clearances|away tem clearances in the match|\n",
    "|16|away_corners|away team corners in the match|\n",
    "|17|away_fouls_concedevd|away team fouls conceded in the match|\n",
    "|18|away_offsides|away team offsides in the match|\n",
    "|19|away_passes|away team passes in the match|\n",
    "|20|away_possession|away team possession in the match|\n",
    "|21|away_red_cards|away team red cards in the match|\n",
    "|22|away_shots|away team shots in the match|\n",
    "|23|away_shots_on_target|away team shots on target in the match|\n",
    "|24|away_tackles|away team tackles in the match|\n",
    "|25|away_touches|away team touches in the match|\n",
    "|26|away_yellow_cards|away team yellow cards in the match|\n",
    "|27|clearances_avg_home|average home team clearances in the season; accumulated until the last match|\n",
    "|28|corners_avg_home|average home team corners in the season; accumulated until the last match|\n",
    "|29|fouls_conceded_avg_home|average home team fouls conceded in the season; accumulated until the last match|\n",
    "|30|offsides_avg_home|average home team offsides in the season; accumulated until the last match|\n",
    "|31|passes_avg_home|average home team passes in the season; accumulated until the last match|\n",
    "|32|possession_avg_home|average home team possession in the season; accumulated until the last match|\n",
    "|33|red_cards_avg_home|average home team red cards in the season; accumulated until the last match|\n",
    "|34|shots_on_target_avg_home|average home team shots on target in the season; accumulated until the last match|\n",
    "|35|tackles_avg_home|average home team tackles in the season; accumulated until the last match|\n",
    "|36|touches_avg_home|average home team touches in the season; accumulated until the last match|\n",
    "|37|yellow_cards_avg_home|average home team yellow cards in the season; accumulated until the last match|\n",
    "|38|goals_scored_ft_avg_home|average home team goals scored in the season; accumulated until the last match|\n",
    "|39|goals_conced_ft_avg_home|average home team goals conceded in the season; accumulated until the last match|\n",
    "|40|sg_match_ft_acum_home|goals difference in the season; accumulated until the last match|\n",
    "|41|goals_scored_ht_avg_home|average home team goals scored in 1st time in the season; accumulated until the last match|\n",
    "|42|goals_conced_ht_avg_home|average home team goals conceded in 1st time in the season; accumulated until the last match|\n",
    "|43|clearances_avg_away|average away team clearances in the season; accumulated until the last match|\n",
    "|44|corners_avg_away|average away team corners in the season; accumulated until the last match|\n",
    "|45|fouls_conceded_avg_away|average away team fouls conceded in the season; accumulated until the last match|\n",
    "|46|offsides_avg_away|average away team offsides in the season; accumulated until the last match|\n",
    "|47|passes_avg_away|average away team passes in the season; accumulated until the last match|\n",
    "|48|possession_avg_away|average away team possession in the season; accumulated until the last match|\n",
    "|49|red_cards_avg_away|average away team red cards in the season; accumulated until the last match|\n",
    "|50|shots_on_target_avg_away|average away team shots on target in the season; accumulated until the last match|\n",
    "|51|tackles_avg_away|average away team tackles in the season; accumulated until the last match|\n",
    "|52|touches_avg_away|average away team touches in the season; accumulated until the last match|\n",
    "|53|yellow_cards_avg_away|average away team yellow cards in the season; accumulated until the last match|\n",
    "|54|goals_scored_ft_avg_away|average away team goals scored in the season; accumulated until the last match|\n",
    "|55|goals_conced_ft_avg_away|average away team goals conceded in the season; accumulated until the last match|\n",
    "|56|sg_match_ft_acum_away|goals difference in the season; accumulated until the last match|\n",
    "|57|goals_scored_ht_avg_away|average away team goals scored in 1st time in the season; accumulated until the last match|\n",
    "|58|goals_conced_ht_avg_away|average away team goals conceded in 1st time in the season; accumulated until the last match|\n",
    "\n",
    "*Do not forget to include labels in your figures.*\n",
    "\n",
    "*Take advantage of `n_jobs=-1` where applicable.*"
   ]
  },
  {
   "cell_type": "markdown",
   "metadata": {},
   "source": [
    "### <span style=\"color:yellow\"> Global Toolbox </span>"
   ]
  },
  {
   "cell_type": "code",
   "execution_count": 1,
   "metadata": {},
   "outputs": [],
   "source": [
    "import pandas as pd\n",
    "import numpy as np\n",
    "import seaborn as sns\n",
    "import matplotlib.pyplot as plt\n",
    "\n",
    "import sklearn as sk \n",
    "from sklearn.model_selection import  train_test_split, GridSearchCV, StratifiedKFold\n",
    "from sklearn.metrics import accuracy_score, confusion_matrix, ConfusionMatrixDisplay\n",
    "from sklearn.ensemble import RandomForestClassifier\n",
    "import xgboost\n",
    "from xgboost import XGBClassifier\n",
    "\n",
    "import pydotplus \n",
    "from sklearn.tree import export_graphviz\n",
    "from IPython.display import Image\n",
    "\n",
    "import warnings; warnings.filterwarnings('ignore')\n",
    "seed = 310\n",
    "np.random.seed(seed)"
   ]
  },
  {
   "cell_type": "markdown",
   "metadata": {},
   "source": [
    "### Q1.1 - <span style=\"color:red\">[4]</span> - Load and clean the dataset:\n",
    "\n",
    "1. Load the dataset.\n",
    "2. Drop all the variables that you would not have known prior to the match, except for the goals.\n",
    "3. Store the shape of the dataframe in a variable called <span style=\"color:pink\">**shape_vector**</span>.\n",
    "\n",
    "**Points will be deducted if your answer is not in the variable mentioned above**"
   ]
  },
  {
   "cell_type": "code",
   "execution_count": 2,
   "metadata": {},
   "outputs": [
    {
     "data": {
      "text/html": [
       "<div>\n",
       "<style scoped>\n",
       "    .dataframe tbody tr th:only-of-type {\n",
       "        vertical-align: middle;\n",
       "    }\n",
       "\n",
       "    .dataframe tbody tr th {\n",
       "        vertical-align: top;\n",
       "    }\n",
       "\n",
       "    .dataframe thead th {\n",
       "        text-align: right;\n",
       "    }\n",
       "</style>\n",
       "<table border=\"1\" class=\"dataframe\">\n",
       "  <thead>\n",
       "    <tr style=\"text-align: right;\">\n",
       "      <th></th>\n",
       "      <th>home_team</th>\n",
       "      <th>away_team</th>\n",
       "      <th>clearances_avg_home</th>\n",
       "      <th>corners_avg_home</th>\n",
       "      <th>fouls_conceded_avg_home</th>\n",
       "      <th>offsides_avg_home</th>\n",
       "      <th>passes_avg_home</th>\n",
       "      <th>possession_avg_home</th>\n",
       "      <th>red_cards_avg_home</th>\n",
       "      <th>shots_on_target_avg_home</th>\n",
       "      <th>...</th>\n",
       "      <th>tackles_avg_away</th>\n",
       "      <th>touches_avg_away</th>\n",
       "      <th>yellow_cards_avg_away</th>\n",
       "      <th>goals_scored_ft_avg_away</th>\n",
       "      <th>goals_conced_ft_avg_away</th>\n",
       "      <th>sg_match_ft_acum_away</th>\n",
       "      <th>goals_scored_ht_avg_away</th>\n",
       "      <th>goals_conced_ht_avg_away</th>\n",
       "      <th>home_team_goals</th>\n",
       "      <th>away_team_goals</th>\n",
       "    </tr>\n",
       "  </thead>\n",
       "  <tbody>\n",
       "    <tr>\n",
       "      <th>0</th>\n",
       "      <td>Blackpool</td>\n",
       "      <td>West Bromwich Albion</td>\n",
       "      <td>38.4</td>\n",
       "      <td>4.6</td>\n",
       "      <td>11.3</td>\n",
       "      <td>3.4</td>\n",
       "      <td>407.9</td>\n",
       "      <td>48.3</td>\n",
       "      <td>0.1</td>\n",
       "      <td>4.4</td>\n",
       "      <td>...</td>\n",
       "      <td>20.0</td>\n",
       "      <td>584.9</td>\n",
       "      <td>1.6</td>\n",
       "      <td>1.44</td>\n",
       "      <td>1.67</td>\n",
       "      <td>-2.0</td>\n",
       "      <td>0.33</td>\n",
       "      <td>0.78</td>\n",
       "      <td>2</td>\n",
       "      <td>1</td>\n",
       "    </tr>\n",
       "    <tr>\n",
       "      <th>1</th>\n",
       "      <td>Liverpool</td>\n",
       "      <td>Manchester City</td>\n",
       "      <td>29.8</td>\n",
       "      <td>5.6</td>\n",
       "      <td>12.3</td>\n",
       "      <td>2.2</td>\n",
       "      <td>440.1</td>\n",
       "      <td>52.7</td>\n",
       "      <td>0.1</td>\n",
       "      <td>5.3</td>\n",
       "      <td>...</td>\n",
       "      <td>22.0</td>\n",
       "      <td>681.4</td>\n",
       "      <td>2.0</td>\n",
       "      <td>1.61</td>\n",
       "      <td>0.87</td>\n",
       "      <td>23.0</td>\n",
       "      <td>0.87</td>\n",
       "      <td>0.32</td>\n",
       "      <td>3</td>\n",
       "      <td>0</td>\n",
       "    </tr>\n",
       "    <tr>\n",
       "      <th>2</th>\n",
       "      <td>Manchester United</td>\n",
       "      <td>Arsenal</td>\n",
       "      <td>29.1</td>\n",
       "      <td>6.1</td>\n",
       "      <td>10.8</td>\n",
       "      <td>2.9</td>\n",
       "      <td>517.3</td>\n",
       "      <td>57.6</td>\n",
       "      <td>0.0</td>\n",
       "      <td>5.6</td>\n",
       "      <td>...</td>\n",
       "      <td>21.2</td>\n",
       "      <td>748.0</td>\n",
       "      <td>1.8</td>\n",
       "      <td>2.12</td>\n",
       "      <td>1.12</td>\n",
       "      <td>16.0</td>\n",
       "      <td>0.94</td>\n",
       "      <td>0.38</td>\n",
       "      <td>1</td>\n",
       "      <td>0</td>\n",
       "    </tr>\n",
       "    <tr>\n",
       "      <th>3</th>\n",
       "      <td>Stoke City</td>\n",
       "      <td>Aston Villa</td>\n",
       "      <td>32.3</td>\n",
       "      <td>4.0</td>\n",
       "      <td>13.7</td>\n",
       "      <td>2.0</td>\n",
       "      <td>256.0</td>\n",
       "      <td>35.7</td>\n",
       "      <td>0.0</td>\n",
       "      <td>4.0</td>\n",
       "      <td>...</td>\n",
       "      <td>25.0</td>\n",
       "      <td>567.3</td>\n",
       "      <td>2.0</td>\n",
       "      <td>1.33</td>\n",
       "      <td>2.00</td>\n",
       "      <td>-2.0</td>\n",
       "      <td>1.00</td>\n",
       "      <td>1.00</td>\n",
       "      <td>2</td>\n",
       "      <td>1</td>\n",
       "    </tr>\n",
       "    <tr>\n",
       "      <th>4</th>\n",
       "      <td>Fulham</td>\n",
       "      <td>Chelsea</td>\n",
       "      <td>38.7</td>\n",
       "      <td>5.0</td>\n",
       "      <td>12.1</td>\n",
       "      <td>2.9</td>\n",
       "      <td>446.8</td>\n",
       "      <td>51.6</td>\n",
       "      <td>0.0</td>\n",
       "      <td>4.5</td>\n",
       "      <td>...</td>\n",
       "      <td>19.4</td>\n",
       "      <td>728.6</td>\n",
       "      <td>1.4</td>\n",
       "      <td>1.84</td>\n",
       "      <td>0.88</td>\n",
       "      <td>24.0</td>\n",
       "      <td>0.84</td>\n",
       "      <td>0.48</td>\n",
       "      <td>0</td>\n",
       "      <td>0</td>\n",
       "    </tr>\n",
       "  </tbody>\n",
       "</table>\n",
       "<p>5 rows × 36 columns</p>\n",
       "</div>"
      ],
      "text/plain": [
       "           home_team             away_team  clearances_avg_home  \\\n",
       "0          Blackpool  West Bromwich Albion                 38.4   \n",
       "1          Liverpool       Manchester City                 29.8   \n",
       "2  Manchester United               Arsenal                 29.1   \n",
       "3         Stoke City           Aston Villa                 32.3   \n",
       "4             Fulham               Chelsea                 38.7   \n",
       "\n",
       "   corners_avg_home  fouls_conceded_avg_home  offsides_avg_home  \\\n",
       "0               4.6                     11.3                3.4   \n",
       "1               5.6                     12.3                2.2   \n",
       "2               6.1                     10.8                2.9   \n",
       "3               4.0                     13.7                2.0   \n",
       "4               5.0                     12.1                2.9   \n",
       "\n",
       "   passes_avg_home  possession_avg_home  red_cards_avg_home  \\\n",
       "0            407.9                 48.3                 0.1   \n",
       "1            440.1                 52.7                 0.1   \n",
       "2            517.3                 57.6                 0.0   \n",
       "3            256.0                 35.7                 0.0   \n",
       "4            446.8                 51.6                 0.0   \n",
       "\n",
       "   shots_on_target_avg_home  ...  tackles_avg_away  touches_avg_away  \\\n",
       "0                       4.4  ...              20.0             584.9   \n",
       "1                       5.3  ...              22.0             681.4   \n",
       "2                       5.6  ...              21.2             748.0   \n",
       "3                       4.0  ...              25.0             567.3   \n",
       "4                       4.5  ...              19.4             728.6   \n",
       "\n",
       "   yellow_cards_avg_away  goals_scored_ft_avg_away  goals_conced_ft_avg_away  \\\n",
       "0                    1.6                      1.44                      1.67   \n",
       "1                    2.0                      1.61                      0.87   \n",
       "2                    1.8                      2.12                      1.12   \n",
       "3                    2.0                      1.33                      2.00   \n",
       "4                    1.4                      1.84                      0.88   \n",
       "\n",
       "   sg_match_ft_acum_away  goals_scored_ht_avg_away  goals_conced_ht_avg_away  \\\n",
       "0                   -2.0                      0.33                      0.78   \n",
       "1                   23.0                      0.87                      0.32   \n",
       "2                   16.0                      0.94                      0.38   \n",
       "3                   -2.0                      1.00                      1.00   \n",
       "4                   24.0                      0.84                      0.48   \n",
       "\n",
       "   home_team_goals  away_team_goals  \n",
       "0                2                1  \n",
       "1                3                0  \n",
       "2                1                0  \n",
       "3                2                1  \n",
       "4                0                0  \n",
       "\n",
       "[5 rows x 36 columns]"
      ]
     },
     "execution_count": 2,
     "metadata": {},
     "output_type": "execute_result"
    }
   ],
   "source": [
    "df = pd.read_csv(\"PL_matches.csv\")\n",
    "df.drop(df.iloc[:, 3:27], inplace=True, axis=1) #drop from 3 to 27\n",
    "shape_vector = df.shape\n",
    "#easier to get goals, delete result col and make col for each team\n",
    "out_arr = np.char.split(df[\"result_full\"].values.astype(str), sep='-', maxsplit=1)\n",
    "df[\"home_team_goals\"] = [int(arr[0]) for arr in out_arr]\n",
    "df[\"away_team_goals\"] = [int(arr[1]) for arr in out_arr]\n",
    "df = df.drop(\"result_full\", axis=1) \n",
    "df.head()"
   ]
  },
  {
   "cell_type": "markdown",
   "metadata": {},
   "source": [
    "### Q1.2 - <span style=\"color:red\">[10]</span> - Create the target variable:\n",
    "\n",
    "1. Create a new variable (column) in the dataset called \"target\", which will be the target for our classification. This variable will be \"0\" if the home team scored more goals than away team, \"1\" if the away scored more, and \"2\" if they scored the same number of goals. \n",
    "2. In which game was the greatest goal difference? What was the result of the game? Store the home team of the game in **home_team**, away in **away_team** and result in **game_result**.\n",
    "3. Drop all variables related to the  result of the game including the name of the teams, except for the target.\n",
    "4. **Written question:** Is this dataset balanced? Why? Write no more than 2 lines.\n",
    "\n",
    "**Hint:** To create the target variable you should use the split function from pandas. Take a look to the documentation [here](https://pandas.pydata.org/docs/reference/api/pandas.Series.str.split.html).\n",
    "\n",
    "\n",
    "**Points will be deducted if your answer is not in the variable names mentioned above.**"
   ]
  },
  {
   "cell_type": "code",
   "execution_count": 3,
   "metadata": {},
   "outputs": [
    {
     "name": "stdout",
     "output_type": "stream",
     "text": [
      "The game which had the greatest goal difference was Manchester United against Southampton with a score of 9-0\n",
      "0    1795\n",
      "1    1189\n",
      "2     973\n",
      "Name: target, dtype: int64\n"
     ]
    }
   ],
   "source": [
    "#make 0 if home>away goals, else, 1 if smaller, 2 otherwise(equal)\n",
    "df[\"target\"] = np.where(df.home_team_goals>df.away_team_goals,\n",
    "                        0, np.where(df.home_team_goals < df.away_team_goals, 1, 2)) \n",
    "\n",
    "#get greatest goal difference\n",
    "greatest_goal_diff = max(abs(df['home_team_goals'] - df['away_team_goals']))\n",
    "#find greatest goal difference in dataset\n",
    "df2 = df[df[\"home_team_goals\"] - df['away_team_goals'] == greatest_goal_diff]\n",
    "home_team = df2.home_team.values[0]\n",
    "away_team = df2.away_team.values[0]\n",
    "game_result = str(df2.home_team_goals.values[0])+\"-\"+str(df2.away_team_goals.values[0])\n",
    "print(\"The game which had the greatest goal difference was {} against {} with a score of {}\".format(home_team,away_team,game_result))\n",
    "df2 = df.drop([\"home_team\", \"away_team\", \"home_team_goals\", \"away_team_goals\"], axis=1) \n",
    "print(df2['target'].value_counts())\n"
   ]
  },
  {
   "cell_type": "markdown",
   "metadata": {},
   "source": [
    "This dataset is not balanced, as there are 3 variables, of which they are not of equal ratio compared to total observations. This is because the home team wins 1795 times, the away team wins 1189 times, and they tie 973, non of which are similarly ratio'd"
   ]
  },
  {
   "cell_type": "markdown",
   "metadata": {},
   "source": [
    "### Q1.3 - <span style=\"color:red\">[4]</span> - Correlation:\n",
    "\n",
    "- Compute pairwise Pearson correlation coefficient (PCC) of columns and report only those with pairwise correlation absolute value greater than 0.9. The table below illustrates how the output of your code should look like. It is just for illustration and its number of rows (i.e., 3) is not deterministic. (We are checking pairwise correlations amongst the variables - and not each variable with respect to target.) \n",
    "\n",
    "|Index|Variable 1|Variable 2|PCC|\n",
    "|---|---|---|---|\n",
    "|137|passes_avg_home|possession_avg_home|0.935083|\n",
    "|...|...|...|...|\n",
    "|...|...|...|...|\n",
    "\n",
    "  \n",
    "- **Written question:** Using common sense and your understanding of the attributes, can you tell why are these variables correlated? Write no more than 5 sentences.\n",
    "\n",
    "- In the pairwise PCCs, identify those variables without the term \"possession\" in their names and drop them from the dataframe.\n"
   ]
  },
  {
   "cell_type": "code",
   "execution_count": 4,
   "metadata": {},
   "outputs": [
    {
     "data": {
      "text/html": [
       "<div>\n",
       "<style scoped>\n",
       "    .dataframe tbody tr th:only-of-type {\n",
       "        vertical-align: middle;\n",
       "    }\n",
       "\n",
       "    .dataframe tbody tr th {\n",
       "        vertical-align: top;\n",
       "    }\n",
       "\n",
       "    .dataframe thead th {\n",
       "        text-align: right;\n",
       "    }\n",
       "</style>\n",
       "<table border=\"1\" class=\"dataframe\">\n",
       "  <thead>\n",
       "    <tr style=\"text-align: right;\">\n",
       "      <th></th>\n",
       "      <th>Variable 1</th>\n",
       "      <th>Variable 2</th>\n",
       "      <th>PCC</th>\n",
       "    </tr>\n",
       "  </thead>\n",
       "  <tbody>\n",
       "    <tr>\n",
       "      <th>0</th>\n",
       "      <td>passes_avg_home</td>\n",
       "      <td>possession_avg_home</td>\n",
       "      <td>0.935083</td>\n",
       "    </tr>\n",
       "    <tr>\n",
       "      <th>1</th>\n",
       "      <td>passes_avg_home</td>\n",
       "      <td>touches_avg_home</td>\n",
       "      <td>0.990809</td>\n",
       "    </tr>\n",
       "    <tr>\n",
       "      <th>2</th>\n",
       "      <td>possession_avg_home</td>\n",
       "      <td>touches_avg_home</td>\n",
       "      <td>0.950461</td>\n",
       "    </tr>\n",
       "    <tr>\n",
       "      <th>3</th>\n",
       "      <td>passes_avg_away</td>\n",
       "      <td>possession_avg_away</td>\n",
       "      <td>0.934452</td>\n",
       "    </tr>\n",
       "    <tr>\n",
       "      <th>4</th>\n",
       "      <td>passes_avg_away</td>\n",
       "      <td>touches_avg_away</td>\n",
       "      <td>0.990702</td>\n",
       "    </tr>\n",
       "    <tr>\n",
       "      <th>5</th>\n",
       "      <td>possession_avg_away</td>\n",
       "      <td>touches_avg_away</td>\n",
       "      <td>0.949458</td>\n",
       "    </tr>\n",
       "  </tbody>\n",
       "</table>\n",
       "</div>"
      ],
      "text/plain": [
       "            Variable 1           Variable 2       PCC\n",
       "0      passes_avg_home  possession_avg_home  0.935083\n",
       "1      passes_avg_home     touches_avg_home  0.990809\n",
       "2  possession_avg_home     touches_avg_home  0.950461\n",
       "3      passes_avg_away  possession_avg_away  0.934452\n",
       "4      passes_avg_away     touches_avg_away  0.990702\n",
       "5  possession_avg_away     touches_avg_away  0.949458"
      ]
     },
     "execution_count": 4,
     "metadata": {},
     "output_type": "execute_result"
    }
   ],
   "source": [
    "corr = df2.corr(method='pearson').abs()\n",
    "corr = corr.mask(np.tril(np.ones(corr.shape)).astype(np.bool))\n",
    "high_corr = corr[(corr.abs() > 0.9) & (corr.abs() < 1.0)].stack().reset_index()\n",
    "\n",
    "high_corr = high_corr.rename({'level_0': 'Variable 1', \n",
    "                              'level_1': 'Variable 2', 0: 'PCC'}, axis='columns')\n",
    "high_corr"
   ]
  },
  {
   "cell_type": "markdown",
   "metadata": {},
   "source": [
    "**Written Answer:** passes, possession, and touches are the 3 attributes per team that are very highly correlated, because these are all attributes associated with a teams possession of the ball, if you touch the ball a lot, you are making a lot of passes, and if you are making a lot of passes, you have a lot more possession, and vice versa. "
   ]
  },
  {
   "cell_type": "code",
   "execution_count": 5,
   "metadata": {},
   "outputs": [],
   "source": [
    "cols = [col for col in df2.columns if 'possession' not in col]\n",
    "df2 = df2[cols]"
   ]
  },
  {
   "cell_type": "markdown",
   "metadata": {},
   "source": [
    "### Q2.1 - <span style=\"color:red\">[40]</span> - Random Forest\n",
    "- Separate the data into X and y, X should have the predictors and y the target\n",
    "\n",
    "- Create train and test set with 30% of the data in the test set. Use the provided random seed.\n",
    "\n",
    "- Instantiate three [Random Forest Classifier](https://scikit-learn.org/stable/modules/generated/sklearn.ensemble.RandomForestClassifier.html#sklearn.ensemble.RandomForestClassifier.get_params) each with a different method of selection for argument ```max_features```, *i.e.*, \"sqrt\", \"log2\", \"None\". Train them in a `for` loop with the number of trees in the range of 3 to 263 inclusive with step size of 20. Then, plot their OOB scores against number of trees in the forest for each classifier. Which selection method yields a better generalization score?\n",
    "\n",
    "- Obtain the accuracy and the confusion matrix of the model with the best OOB rate. Store the accuracy in a variable called **accuracy1**.\n",
    "\n",
    "- Visualize one arbitrary tree from one of the forests.\n",
    "\n",
    "- **Written question:** Is this a good model? Write no more than 5 sentences.\n",
    "\n",
    "**Points will be deducted if your answer is not in the variable names mentioned above.**\n",
    "\n",
    "**Use random_state = seed in all the methods that take this argument.**"
   ]
  },
  {
   "cell_type": "code",
   "execution_count": 6,
   "metadata": {},
   "outputs": [],
   "source": [
    "X = df2.drop(\"target\", axis=1)\n",
    "y = df2.target\n",
    "Xtrain, Xtest, ytrain, ytest = train_test_split(X, y, test_size=0.3, random_state=seed)"
   ]
  },
  {
   "cell_type": "code",
   "execution_count": 7,
   "metadata": {},
   "outputs": [],
   "source": [
    "sqrt_model = []\n",
    "log2_model = []\n",
    "none_model = []\n",
    "sqrt_oob = []\n",
    "log2_oob = []\n",
    "none_oob = []\n",
    "\n",
    "for model, max_feat, oobscores in zip((sqrt_model, log2_model, none_model),\n",
    "                                      ('sqrt','log2',None),(sqrt_oob,log2_oob,none_oob)):\n",
    "    for n_trees in range(3, 264, 20):\n",
    "        rf = RandomForestClassifier(n_estimators=n_trees, max_features=max_feat, oob_score=True, n_jobs=-1, random_state=seed)\n",
    "        rf.fit(Xtrain, ytrain)\n",
    "        model.append(rf)\n",
    "        oobscores.append(rf.oob_score_)\n",
    "        "
   ]
  },
  {
   "cell_type": "code",
   "execution_count": 8,
   "metadata": {
    "scrolled": false
   },
   "outputs": [
    {
     "data": {
      "image/png": "[encoded data removed]",
      "text/plain": [
       "<Figure size 432x288 with 1 Axes>"
      ]
     },
     "metadata": {
      "needs_background": "light"
     },
     "output_type": "display_data"
    }
   ],
   "source": [
    "for score, model_type in zip((sqrt_oob, log2_oob, none_oob),\n",
    "                             (\"sqrt_model\", \"log2_model\", \"none_model\")):\n",
    "    n_trees = np.arange(3, 264, 20)\n",
    "    plt.plot(n_trees, score, label=model_type)\n",
    "plt.xlabel(\"number of trees\")\n",
    "plt.ylabel(\"oob scores\")\n",
    "plt.legend()\n",
    "plt.show()"
   ]
  },
  {
   "cell_type": "markdown",
   "metadata": {},
   "source": [
    "It looks like the sqrt model has the best generalizatoin score, as it is the most consistent, is mainly the best scores, and also ending off with the highest score."
   ]
  },
  {
   "cell_type": "code",
   "execution_count": 67,
   "metadata": {},
   "outputs": [
    {
     "ename": "InvocationException",
     "evalue": "GraphViz's executables not found",
     "output_type": "error",
     "traceback": [
      "\u001b[0;31m---------------------------------------------------------------------------\u001b[0m",
      "\u001b[0;31mInvocationException\u001b[0m                       Traceback (most recent call last)",
      "\u001b[0;32m<ipython-input-67-d909c80a1795>\u001b[0m in \u001b[0;36m<module>\u001b[0;34m\u001b[0m\n\u001b[1;32m     12\u001b[0m \u001b[0;34m\u001b[0m\u001b[0m\n\u001b[1;32m     13\u001b[0m \u001b[0mgraph\u001b[0m \u001b[0;34m=\u001b[0m \u001b[0mpydotplus\u001b[0m\u001b[0;34m.\u001b[0m\u001b[0mgraph_from_dot_data\u001b[0m\u001b[0;34m(\u001b[0m\u001b[0mdot_data\u001b[0m\u001b[0;34m)\u001b[0m\u001b[0;34m\u001b[0m\u001b[0;34m\u001b[0m\u001b[0m\n\u001b[0;32m---> 14\u001b[0;31m \u001b[0mImage\u001b[0m\u001b[0;34m(\u001b[0m\u001b[0mgraph\u001b[0m\u001b[0;34m.\u001b[0m\u001b[0mcreate_png\u001b[0m\u001b[0;34m(\u001b[0m\u001b[0;34m)\u001b[0m\u001b[0;34m)\u001b[0m\u001b[0;34m\u001b[0m\u001b[0;34m\u001b[0m\u001b[0m\n\u001b[0m\u001b[1;32m     15\u001b[0m \u001b[0;31m# graph = graphviz.Source(dot_data)\u001b[0m\u001b[0;34m\u001b[0m\u001b[0;34m\u001b[0m\u001b[0;34m\u001b[0m\u001b[0m\n\u001b[1;32m     16\u001b[0m \u001b[0;31m# graph\u001b[0m\u001b[0;34m\u001b[0m\u001b[0;34m\u001b[0m\u001b[0;34m\u001b[0m\u001b[0m\n",
      "\u001b[0;32m~/opt/anaconda3/lib/python3.8/site-packages/pydotplus/graphviz.py\u001b[0m in \u001b[0;36m<lambda>\u001b[0;34m(f, prog)\u001b[0m\n\u001b[1;32m   1795\u001b[0m             self.__setattr__(\n\u001b[1;32m   1796\u001b[0m                 \u001b[0;34m'create_'\u001b[0m \u001b[0;34m+\u001b[0m \u001b[0mfrmt\u001b[0m\u001b[0;34m,\u001b[0m\u001b[0;34m\u001b[0m\u001b[0;34m\u001b[0m\u001b[0m\n\u001b[0;32m-> 1797\u001b[0;31m                 \u001b[0;32mlambda\u001b[0m \u001b[0mf\u001b[0m\u001b[0;34m=\u001b[0m\u001b[0mfrmt\u001b[0m\u001b[0;34m,\u001b[0m \u001b[0mprog\u001b[0m\u001b[0;34m=\u001b[0m\u001b[0mself\u001b[0m\u001b[0;34m.\u001b[0m\u001b[0mprog\u001b[0m\u001b[0;34m:\u001b[0m \u001b[0mself\u001b[0m\u001b[0;34m.\u001b[0m\u001b[0mcreate\u001b[0m\u001b[0;34m(\u001b[0m\u001b[0mformat\u001b[0m\u001b[0;34m=\u001b[0m\u001b[0mf\u001b[0m\u001b[0;34m,\u001b[0m \u001b[0mprog\u001b[0m\u001b[0;34m=\u001b[0m\u001b[0mprog\u001b[0m\u001b[0;34m)\u001b[0m\u001b[0;34m\u001b[0m\u001b[0;34m\u001b[0m\u001b[0m\n\u001b[0m\u001b[1;32m   1798\u001b[0m             )\n\u001b[1;32m   1799\u001b[0m             \u001b[0mf\u001b[0m \u001b[0;34m=\u001b[0m \u001b[0mself\u001b[0m\u001b[0;34m.\u001b[0m\u001b[0m__dict__\u001b[0m\u001b[0;34m[\u001b[0m\u001b[0;34m'create_'\u001b[0m \u001b[0;34m+\u001b[0m \u001b[0mfrmt\u001b[0m\u001b[0;34m]\u001b[0m\u001b[0;34m\u001b[0m\u001b[0;34m\u001b[0m\u001b[0m\n",
      "\u001b[0;32m~/opt/anaconda3/lib/python3.8/site-packages/pydotplus/graphviz.py\u001b[0m in \u001b[0;36mcreate\u001b[0;34m(self, prog, format)\u001b[0m\n\u001b[1;32m   1957\u001b[0m             \u001b[0mself\u001b[0m\u001b[0;34m.\u001b[0m\u001b[0mprogs\u001b[0m \u001b[0;34m=\u001b[0m \u001b[0mfind_graphviz\u001b[0m\u001b[0;34m(\u001b[0m\u001b[0;34m)\u001b[0m\u001b[0;34m\u001b[0m\u001b[0;34m\u001b[0m\u001b[0m\n\u001b[1;32m   1958\u001b[0m             \u001b[0;32mif\u001b[0m \u001b[0mself\u001b[0m\u001b[0;34m.\u001b[0m\u001b[0mprogs\u001b[0m \u001b[0;32mis\u001b[0m \u001b[0;32mNone\u001b[0m\u001b[0;34m:\u001b[0m\u001b[0;34m\u001b[0m\u001b[0;34m\u001b[0m\u001b[0m\n\u001b[0;32m-> 1959\u001b[0;31m                 raise InvocationException(\n\u001b[0m\u001b[1;32m   1960\u001b[0m                     'GraphViz\\'s executables not found')\n\u001b[1;32m   1961\u001b[0m \u001b[0;34m\u001b[0m\u001b[0m\n",
      "\u001b[0;31mInvocationException\u001b[0m: GraphViz's executables not found"
     ]
    }
   ],
   "source": [
    "best_model = sqrt_model[np.argmax(sqrt_oob)]\n",
    "ypred = best_model.predict(Xtest)\n",
    "accuracy1 = accuracy_score(ytest, ypred)\n",
    "conf_matrix = confusion_matrix(ytest, ypred)\n",
    "\n",
    "tree = best_model.estimators_[0]\n",
    "\n",
    "dot_data = export_graphviz(tree, out_file=None, \n",
    "                           feature_names=X.columns.tolist(),  \n",
    "                           filled=True, rounded=True,  \n",
    "                           special_characters=True)  \n",
    "\n",
    "graph = pydotplus.graph_from_dot_data(dot_data)  \n",
    "Image(graph.create_png())\n",
    "# graph = graphviz.Source(dot_data)  \n",
    "# graph\n",
    "# dot_data = export_graphviz(tree, out_file=None, \n",
    "#                            feature_names=X.columns.tolist(),  \n",
    "#                            class_names=['0', '1'],  \n",
    "#                            filled=True, rounded=True,  \n",
    "#                            special_characters=True)  \n",
    "# graph = graphviz.Source(dot_data)  \n",
    "# graph\n",
    "\n",
    "# # Draw graph\n",
    "# graph = pydotplus.graph_from_dot_data(dot_data)  \n",
    "\n",
    "# # Show graph\n",
    "# Image(graph.create_png())"
   ]
  },
  {
   "cell_type": "markdown",
   "metadata": {},
   "source": [
    "**Written Answer:** "
   ]
  },
  {
   "cell_type": "markdown",
   "metadata": {},
   "source": [
    "### Q2.2 - <span style=\"color:red\">[9]</span> - What are the 5 most important variables for the best (previous) model? Create a barplot reporting their importance scores based on Gini impurity."
   ]
  },
  {
   "cell_type": "code",
   "execution_count": null,
   "metadata": {},
   "outputs": [],
   "source": [
    "#"
   ]
  },
  {
   "cell_type": "markdown",
   "metadata": {},
   "source": [
    "### Q3.1 - <span style=\"color:red\">[20]</span> - XGBoosting\n",
    "Now we'll repeat the process for the XGB model, using an [```XGBClassifier``` object](https://xgboost.readthedocs.io/en/latest/python/python_api.html).\n",
    "\n",
    "1. Use cross-validated grid search (with 5 stratified validation sets) to find the best values from the lists below for `XGBClassifier`. Use only 40% of the training set for your search, otherwise it will take a long time. Take advantage of `n_jobs=-1`. Report the optimal values found per argument.\n",
    " - Number of trees: [25, 50, 100]\n",
    " - Maximum depth: [8, 25, 42]\n",
    " - Learning rate: [0.1, 0.5, 0.9]\n",
    " \n",
    "2. Train a `XGBClassifier` using the optimal values and report its accuracy as well as the confusion matrix. Store the accuracy in a variable called **accuracy2**.\n",
    "3. Compare the confusion matrix and the accuracy of this model with the previous one. Is the performance of XGBoost better than the RandomForestClassifier in this case?\n",
    "\n",
    "**Points will be deducted if your answer is not in the variable mentioned above.**\n",
    "\n",
    "**Use random_state = seed in all the methods that take this argument.**"
   ]
  },
  {
   "cell_type": "code",
   "execution_count": null,
   "metadata": {},
   "outputs": [],
   "source": [
    "#"
   ]
  },
  {
   "cell_type": "markdown",
   "metadata": {},
   "source": [
    "### Q3.2 - <span style=\"color:red\">[4]</span> - **Written question:** How would you improve the accuracy of the models? Write no more than 5 sentences."
   ]
  },
  {
   "cell_type": "markdown",
   "metadata": {},
   "source": [
    "**Written Answer:** "
   ]
  },
  {
   "cell_type": "markdown",
   "metadata": {},
   "source": [
    "### Q3.3 - <span style=\"color:red\">[9]</span> - What are the 5 most important variables for the XGB classifier? Create a barplot reporting their importance scores based on Gini impurity."
   ]
  },
  {
   "cell_type": "code",
   "execution_count": null,
   "metadata": {},
   "outputs": [],
   "source": [
    "#"
   ]
  }
 ],
 "metadata": {
  "kernelspec": {
   "display_name": "Python 3",
   "language": "python",
   "name": "python3"
  },
  "language_info": {
   "codemirror_mode": {
    "name": "ipython",
    "version": 3
   },
   "file_extension": ".py",
   "mimetype": "text/x-python",
   "name": "python",
   "nbconvert_exporter": "python",
   "pygments_lexer": "ipython3",
   "version": "3.8.8"
  }
 },
 "nbformat": 4,
 "nbformat_minor": 2
}

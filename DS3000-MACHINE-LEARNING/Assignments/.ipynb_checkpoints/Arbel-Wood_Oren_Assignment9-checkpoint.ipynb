{
 "cells": [
  {
   "cell_type": "markdown",
   "metadata": {
    "id": "-yO029ffQWaI"
   },
   "source": [
    "# Grade: /100 pts\n",
    "# Assignment 8: Customer Segmentation with Clustering\n",
    "\n",
    "In this assignment, you will be solving a traditional problem in quantitative marketing: customer segmentation. Having a properly segmented database is extremely important to define marketing campaigns, as it allows companies to define value-centric actions targeted towards customers of different profiles. In this ocassion you are going to analyze customers of an automobile company.\n",
    "\n",
    "Assume you are the owner of a consulting company that is in charge of this project. In this assignment you are going to conduct 2 different strategies for segmentating the potential customers.\n",
    "\n",
    "The information is provided in the document `DATA.csv` which has the following columns:\n",
    "\n",
    "- **ID:** Customer identifier (it does not have prediction power).\n",
    "- **Gender:** Gender of a customer.\n",
    "- **Ever_Married**: Potential customer's marrige status.\n",
    "- **Age**: Potential customer's age.\n",
    "- **Graduated:** Education status of the customer.\n",
    "- **Profession:** Type of customer's career.\n",
    "- **Work_Experience:** Work experience in years.\n",
    "- **Spending_Score:** Level of customer's spending power.\n",
    "- **Family_Size:** Number of family members for the customer.\n",
    "- **Var_1:** Anonymised Category for the customer.\n",
    "\n",
    "\n",
    "### Follow These Steps before submitting\n",
    "Once you are finished, ensure to complete the following steps.\n",
    "\n",
    "1.  Restart your kernel by clicking 'Kernel' > 'Restart & Run All'.\n",
    "\n",
    "2.  Fix any errors which result from this.\n",
    "\n",
    "3.  Repeat steps 1. and 2. until your notebook runs without errors.\n",
    "\n",
    "4.  Submit your completed notebook to OWL by the deadline. \n",
    "\n",
    "5.  Your submission document should be saved in the form: `LastName_FirstName_Assignment9.ipynb`\n"
   ]
  },
  {
   "cell_type": "code",
   "execution_count": 1,
   "metadata": {
    "id": "GCyJlnOeQWao"
   },
   "outputs": [],
   "source": [
    "import numpy as np\n",
    "import pandas as pd\n",
    "import matplotlib.pyplot as plt\n",
    "from sklearn.cluster import AgglomerativeClustering, KMeans\n",
    "from yellowbrick.cluster import KElbowVisualizer, SilhouetteVisualizer\n",
    "# pip install yellowbrick\n",
    "#from yellowbrick.cluster.elbow import kelbow_visualizer\n",
    "from sklearn.preprocessing import StandardScaler\n",
    "from sklearn.metrics import silhouette_samples, silhouette_score\n",
    "import matplotlib.cm as cm\n",
    "from sklearn import preprocessing\n",
    "from sklearn.decomposition import PCA\n",
    "import seaborn as sns\n",
    "import itertools\n",
    "%matplotlib inline"
   ]
  },
  {
   "cell_type": "markdown",
   "metadata": {
    "id": "-_T0o7l0QWav"
   },
   "source": [
    "## Question 1 Loading the data and Preprocessing (10 pts)\n"
   ]
  },
  {
   "cell_type": "markdown",
   "metadata": {
    "id": "Q-YMDYcWLA6Q"
   },
   "source": [
    "1. Import the data. Report the data shape. How many null values in each column?"
   ]
  },
  {
   "cell_type": "code",
   "execution_count": 2,
   "metadata": {
    "id": "qQ4brJA8GAp8"
   },
   "outputs": [
    {
     "data": {
      "text/html": [
       "<div>\n",
       "<style scoped>\n",
       "    .dataframe tbody tr th:only-of-type {\n",
       "        vertical-align: middle;\n",
       "    }\n",
       "\n",
       "    .dataframe tbody tr th {\n",
       "        vertical-align: top;\n",
       "    }\n",
       "\n",
       "    .dataframe thead th {\n",
       "        text-align: right;\n",
       "    }\n",
       "</style>\n",
       "<table border=\"1\" class=\"dataframe\">\n",
       "  <thead>\n",
       "    <tr style=\"text-align: right;\">\n",
       "      <th></th>\n",
       "      <th>ID</th>\n",
       "      <th>Gender</th>\n",
       "      <th>Ever_Married</th>\n",
       "      <th>Age</th>\n",
       "      <th>Graduated</th>\n",
       "      <th>Profession</th>\n",
       "      <th>Work_Experience</th>\n",
       "      <th>Spending_Score</th>\n",
       "      <th>Family_Size</th>\n",
       "      <th>Var_1</th>\n",
       "    </tr>\n",
       "  </thead>\n",
       "  <tbody>\n",
       "    <tr>\n",
       "      <th>0</th>\n",
       "      <td>462809</td>\n",
       "      <td>Male</td>\n",
       "      <td>No</td>\n",
       "      <td>22</td>\n",
       "      <td>No</td>\n",
       "      <td>Healthcare</td>\n",
       "      <td>1.0</td>\n",
       "      <td>Low</td>\n",
       "      <td>4.0</td>\n",
       "      <td>Cat_4</td>\n",
       "    </tr>\n",
       "    <tr>\n",
       "      <th>1</th>\n",
       "      <td>462643</td>\n",
       "      <td>Female</td>\n",
       "      <td>Yes</td>\n",
       "      <td>38</td>\n",
       "      <td>Yes</td>\n",
       "      <td>Engineer</td>\n",
       "      <td>NaN</td>\n",
       "      <td>Average</td>\n",
       "      <td>3.0</td>\n",
       "      <td>Cat_4</td>\n",
       "    </tr>\n",
       "    <tr>\n",
       "      <th>2</th>\n",
       "      <td>466315</td>\n",
       "      <td>Female</td>\n",
       "      <td>Yes</td>\n",
       "      <td>67</td>\n",
       "      <td>Yes</td>\n",
       "      <td>Engineer</td>\n",
       "      <td>1.0</td>\n",
       "      <td>Low</td>\n",
       "      <td>1.0</td>\n",
       "      <td>Cat_6</td>\n",
       "    </tr>\n",
       "    <tr>\n",
       "      <th>3</th>\n",
       "      <td>461735</td>\n",
       "      <td>Male</td>\n",
       "      <td>Yes</td>\n",
       "      <td>67</td>\n",
       "      <td>Yes</td>\n",
       "      <td>Other</td>\n",
       "      <td>0.0</td>\n",
       "      <td>High</td>\n",
       "      <td>2.0</td>\n",
       "      <td>Cat_6</td>\n",
       "    </tr>\n",
       "    <tr>\n",
       "      <th>4</th>\n",
       "      <td>462669</td>\n",
       "      <td>Female</td>\n",
       "      <td>Yes</td>\n",
       "      <td>40</td>\n",
       "      <td>Yes</td>\n",
       "      <td>Entertainment</td>\n",
       "      <td>NaN</td>\n",
       "      <td>High</td>\n",
       "      <td>6.0</td>\n",
       "      <td>Cat_6</td>\n",
       "    </tr>\n",
       "  </tbody>\n",
       "</table>\n",
       "</div>"
      ],
      "text/plain": [
       "       ID  Gender Ever_Married  Age Graduated     Profession  Work_Experience  \\\n",
       "0  462809    Male           No   22        No     Healthcare              1.0   \n",
       "1  462643  Female          Yes   38       Yes       Engineer              NaN   \n",
       "2  466315  Female          Yes   67       Yes       Engineer              1.0   \n",
       "3  461735    Male          Yes   67       Yes          Other              0.0   \n",
       "4  462669  Female          Yes   40       Yes  Entertainment              NaN   \n",
       "\n",
       "  Spending_Score  Family_Size  Var_1  \n",
       "0            Low          4.0  Cat_4  \n",
       "1        Average          3.0  Cat_4  \n",
       "2            Low          1.0  Cat_6  \n",
       "3           High          2.0  Cat_6  \n",
       "4           High          6.0  Cat_6  "
      ]
     },
     "execution_count": 2,
     "metadata": {},
     "output_type": "execute_result"
    }
   ],
   "source": [
    "df = pd.read_csv(\"DATA (1).csv\")\n",
    "df.head()"
   ]
  },
  {
   "cell_type": "code",
   "execution_count": 3,
   "metadata": {},
   "outputs": [
    {
     "name": "stdout",
     "output_type": "stream",
     "text": [
      "Data shape: (8068, 10)\n"
     ]
    },
    {
     "data": {
      "text/plain": [
       "ID                   0\n",
       "Gender               0\n",
       "Ever_Married       140\n",
       "Age                  0\n",
       "Graduated           78\n",
       "Profession           0\n",
       "Work_Experience    829\n",
       "Spending_Score       0\n",
       "Family_Size        335\n",
       "Var_1               76\n",
       "dtype: int64"
      ]
     },
     "execution_count": 3,
     "metadata": {},
     "output_type": "execute_result"
    }
   ],
   "source": [
    "print(\"Data shape:\", df.shape)\n",
    "df.isna().sum()"
   ]
  },
  {
   "cell_type": "markdown",
   "metadata": {
    "id": "UckMnjFLtxEq"
   },
   "source": [
    "2. For the column `Work_Experience` and `Family_Size`, use median value to replace the null values. For each of other columns with null entries, use the most frequent level in a column to replace the null values in this column."
   ]
  },
  {
   "cell_type": "code",
   "execution_count": 4,
   "metadata": {
    "id": "zw7BUF0xGBjF"
   },
   "outputs": [],
   "source": [
    "work_exp_med = df.Work_Experience.median()\n",
    "fam_size_med = df.Family_Size.median()\n",
    "df.Work_Experience = df.Work_Experience.fillna(work_exp_med)\n",
    "df.Family_Size = df.Family_Size.fillna(fam_size_med)"
   ]
  },
  {
   "cell_type": "code",
   "execution_count": 5,
   "metadata": {},
   "outputs": [],
   "source": [
    "for col in df.columns[df.isnull().any()]:\n",
    "    mode = df[col].mode().values[0]\n",
    "    df[col] = df[col].fillna(mode)"
   ]
  },
  {
   "cell_type": "markdown",
   "metadata": {
    "id": "RziYkUa6t4ED"
   },
   "source": [
    "3. Using `preprocessing.OneHotEncoder()`, convert all categorical features. Make sure not to add collinear features during the encoding process. Then, display the first 10 rows."
   ]
  },
  {
   "cell_type": "code",
   "execution_count": 6,
   "metadata": {
    "id": "eTL0_pmrGCDD",
    "scrolled": true
   },
   "outputs": [
    {
     "data": {
      "text/html": [
       "<div>\n",
       "<style scoped>\n",
       "    .dataframe tbody tr th:only-of-type {\n",
       "        vertical-align: middle;\n",
       "    }\n",
       "\n",
       "    .dataframe tbody tr th {\n",
       "        vertical-align: top;\n",
       "    }\n",
       "\n",
       "    .dataframe thead th {\n",
       "        text-align: right;\n",
       "    }\n",
       "</style>\n",
       "<table border=\"1\" class=\"dataframe\">\n",
       "  <thead>\n",
       "    <tr style=\"text-align: right;\">\n",
       "      <th></th>\n",
       "      <th>ID</th>\n",
       "      <th>Age</th>\n",
       "      <th>Work_Experience</th>\n",
       "      <th>Family_Size</th>\n",
       "      <th>Gender_Male</th>\n",
       "      <th>Ever_Married_Yes</th>\n",
       "      <th>Graduated_Yes</th>\n",
       "      <th>Profession_Doctor</th>\n",
       "      <th>Profession_Engineer</th>\n",
       "      <th>Profession_Entertainment</th>\n",
       "      <th>...</th>\n",
       "      <th>Profession_Marketing</th>\n",
       "      <th>Profession_Other</th>\n",
       "      <th>Spending_Score_High</th>\n",
       "      <th>Spending_Score_Low</th>\n",
       "      <th>Var_1_Cat_2</th>\n",
       "      <th>Var_1_Cat_3</th>\n",
       "      <th>Var_1_Cat_4</th>\n",
       "      <th>Var_1_Cat_5</th>\n",
       "      <th>Var_1_Cat_6</th>\n",
       "      <th>Var_1_Cat_7</th>\n",
       "    </tr>\n",
       "  </thead>\n",
       "  <tbody>\n",
       "    <tr>\n",
       "      <th>0</th>\n",
       "      <td>462809</td>\n",
       "      <td>22</td>\n",
       "      <td>1.0</td>\n",
       "      <td>4.0</td>\n",
       "      <td>1.0</td>\n",
       "      <td>0.0</td>\n",
       "      <td>0.0</td>\n",
       "      <td>0.0</td>\n",
       "      <td>0.0</td>\n",
       "      <td>0.0</td>\n",
       "      <td>...</td>\n",
       "      <td>0.0</td>\n",
       "      <td>0.0</td>\n",
       "      <td>0.0</td>\n",
       "      <td>1.0</td>\n",
       "      <td>0.0</td>\n",
       "      <td>0.0</td>\n",
       "      <td>1.0</td>\n",
       "      <td>0.0</td>\n",
       "      <td>0.0</td>\n",
       "      <td>0.0</td>\n",
       "    </tr>\n",
       "    <tr>\n",
       "      <th>1</th>\n",
       "      <td>462643</td>\n",
       "      <td>38</td>\n",
       "      <td>1.0</td>\n",
       "      <td>3.0</td>\n",
       "      <td>0.0</td>\n",
       "      <td>1.0</td>\n",
       "      <td>1.0</td>\n",
       "      <td>0.0</td>\n",
       "      <td>1.0</td>\n",
       "      <td>0.0</td>\n",
       "      <td>...</td>\n",
       "      <td>0.0</td>\n",
       "      <td>0.0</td>\n",
       "      <td>0.0</td>\n",
       "      <td>0.0</td>\n",
       "      <td>0.0</td>\n",
       "      <td>0.0</td>\n",
       "      <td>1.0</td>\n",
       "      <td>0.0</td>\n",
       "      <td>0.0</td>\n",
       "      <td>0.0</td>\n",
       "    </tr>\n",
       "    <tr>\n",
       "      <th>2</th>\n",
       "      <td>466315</td>\n",
       "      <td>67</td>\n",
       "      <td>1.0</td>\n",
       "      <td>1.0</td>\n",
       "      <td>0.0</td>\n",
       "      <td>1.0</td>\n",
       "      <td>1.0</td>\n",
       "      <td>0.0</td>\n",
       "      <td>1.0</td>\n",
       "      <td>0.0</td>\n",
       "      <td>...</td>\n",
       "      <td>0.0</td>\n",
       "      <td>0.0</td>\n",
       "      <td>0.0</td>\n",
       "      <td>1.0</td>\n",
       "      <td>0.0</td>\n",
       "      <td>0.0</td>\n",
       "      <td>0.0</td>\n",
       "      <td>0.0</td>\n",
       "      <td>1.0</td>\n",
       "      <td>0.0</td>\n",
       "    </tr>\n",
       "    <tr>\n",
       "      <th>3</th>\n",
       "      <td>461735</td>\n",
       "      <td>67</td>\n",
       "      <td>0.0</td>\n",
       "      <td>2.0</td>\n",
       "      <td>1.0</td>\n",
       "      <td>1.0</td>\n",
       "      <td>1.0</td>\n",
       "      <td>0.0</td>\n",
       "      <td>0.0</td>\n",
       "      <td>0.0</td>\n",
       "      <td>...</td>\n",
       "      <td>0.0</td>\n",
       "      <td>1.0</td>\n",
       "      <td>1.0</td>\n",
       "      <td>0.0</td>\n",
       "      <td>0.0</td>\n",
       "      <td>0.0</td>\n",
       "      <td>0.0</td>\n",
       "      <td>0.0</td>\n",
       "      <td>1.0</td>\n",
       "      <td>0.0</td>\n",
       "    </tr>\n",
       "    <tr>\n",
       "      <th>4</th>\n",
       "      <td>462669</td>\n",
       "      <td>40</td>\n",
       "      <td>1.0</td>\n",
       "      <td>6.0</td>\n",
       "      <td>0.0</td>\n",
       "      <td>1.0</td>\n",
       "      <td>1.0</td>\n",
       "      <td>0.0</td>\n",
       "      <td>0.0</td>\n",
       "      <td>1.0</td>\n",
       "      <td>...</td>\n",
       "      <td>0.0</td>\n",
       "      <td>0.0</td>\n",
       "      <td>1.0</td>\n",
       "      <td>0.0</td>\n",
       "      <td>0.0</td>\n",
       "      <td>0.0</td>\n",
       "      <td>0.0</td>\n",
       "      <td>0.0</td>\n",
       "      <td>1.0</td>\n",
       "      <td>0.0</td>\n",
       "    </tr>\n",
       "    <tr>\n",
       "      <th>5</th>\n",
       "      <td>461319</td>\n",
       "      <td>56</td>\n",
       "      <td>0.0</td>\n",
       "      <td>2.0</td>\n",
       "      <td>1.0</td>\n",
       "      <td>1.0</td>\n",
       "      <td>0.0</td>\n",
       "      <td>0.0</td>\n",
       "      <td>0.0</td>\n",
       "      <td>0.0</td>\n",
       "      <td>...</td>\n",
       "      <td>0.0</td>\n",
       "      <td>0.0</td>\n",
       "      <td>0.0</td>\n",
       "      <td>0.0</td>\n",
       "      <td>0.0</td>\n",
       "      <td>0.0</td>\n",
       "      <td>0.0</td>\n",
       "      <td>0.0</td>\n",
       "      <td>1.0</td>\n",
       "      <td>0.0</td>\n",
       "    </tr>\n",
       "    <tr>\n",
       "      <th>6</th>\n",
       "      <td>460156</td>\n",
       "      <td>32</td>\n",
       "      <td>1.0</td>\n",
       "      <td>3.0</td>\n",
       "      <td>1.0</td>\n",
       "      <td>0.0</td>\n",
       "      <td>1.0</td>\n",
       "      <td>0.0</td>\n",
       "      <td>0.0</td>\n",
       "      <td>0.0</td>\n",
       "      <td>...</td>\n",
       "      <td>0.0</td>\n",
       "      <td>0.0</td>\n",
       "      <td>0.0</td>\n",
       "      <td>1.0</td>\n",
       "      <td>0.0</td>\n",
       "      <td>0.0</td>\n",
       "      <td>0.0</td>\n",
       "      <td>0.0</td>\n",
       "      <td>1.0</td>\n",
       "      <td>0.0</td>\n",
       "    </tr>\n",
       "    <tr>\n",
       "      <th>7</th>\n",
       "      <td>464347</td>\n",
       "      <td>33</td>\n",
       "      <td>1.0</td>\n",
       "      <td>3.0</td>\n",
       "      <td>0.0</td>\n",
       "      <td>0.0</td>\n",
       "      <td>1.0</td>\n",
       "      <td>0.0</td>\n",
       "      <td>0.0</td>\n",
       "      <td>0.0</td>\n",
       "      <td>...</td>\n",
       "      <td>0.0</td>\n",
       "      <td>0.0</td>\n",
       "      <td>0.0</td>\n",
       "      <td>1.0</td>\n",
       "      <td>0.0</td>\n",
       "      <td>0.0</td>\n",
       "      <td>0.0</td>\n",
       "      <td>0.0</td>\n",
       "      <td>1.0</td>\n",
       "      <td>0.0</td>\n",
       "    </tr>\n",
       "    <tr>\n",
       "      <th>8</th>\n",
       "      <td>465015</td>\n",
       "      <td>61</td>\n",
       "      <td>0.0</td>\n",
       "      <td>3.0</td>\n",
       "      <td>0.0</td>\n",
       "      <td>1.0</td>\n",
       "      <td>1.0</td>\n",
       "      <td>0.0</td>\n",
       "      <td>1.0</td>\n",
       "      <td>0.0</td>\n",
       "      <td>...</td>\n",
       "      <td>0.0</td>\n",
       "      <td>0.0</td>\n",
       "      <td>0.0</td>\n",
       "      <td>1.0</td>\n",
       "      <td>0.0</td>\n",
       "      <td>0.0</td>\n",
       "      <td>0.0</td>\n",
       "      <td>0.0</td>\n",
       "      <td>0.0</td>\n",
       "      <td>1.0</td>\n",
       "    </tr>\n",
       "    <tr>\n",
       "      <th>9</th>\n",
       "      <td>465176</td>\n",
       "      <td>55</td>\n",
       "      <td>1.0</td>\n",
       "      <td>4.0</td>\n",
       "      <td>0.0</td>\n",
       "      <td>1.0</td>\n",
       "      <td>1.0</td>\n",
       "      <td>0.0</td>\n",
       "      <td>0.0</td>\n",
       "      <td>0.0</td>\n",
       "      <td>...</td>\n",
       "      <td>0.0</td>\n",
       "      <td>0.0</td>\n",
       "      <td>0.0</td>\n",
       "      <td>0.0</td>\n",
       "      <td>0.0</td>\n",
       "      <td>0.0</td>\n",
       "      <td>0.0</td>\n",
       "      <td>0.0</td>\n",
       "      <td>1.0</td>\n",
       "      <td>0.0</td>\n",
       "    </tr>\n",
       "  </tbody>\n",
       "</table>\n",
       "<p>10 rows × 21 columns</p>\n",
       "</div>"
      ],
      "text/plain": [
       "       ID  Age  Work_Experience  Family_Size  Gender_Male  Ever_Married_Yes  \\\n",
       "0  462809   22              1.0          4.0          1.0               0.0   \n",
       "1  462643   38              1.0          3.0          0.0               1.0   \n",
       "2  466315   67              1.0          1.0          0.0               1.0   \n",
       "3  461735   67              0.0          2.0          1.0               1.0   \n",
       "4  462669   40              1.0          6.0          0.0               1.0   \n",
       "5  461319   56              0.0          2.0          1.0               1.0   \n",
       "6  460156   32              1.0          3.0          1.0               0.0   \n",
       "7  464347   33              1.0          3.0          0.0               0.0   \n",
       "8  465015   61              0.0          3.0          0.0               1.0   \n",
       "9  465176   55              1.0          4.0          0.0               1.0   \n",
       "\n",
       "   Graduated_Yes  Profession_Doctor  Profession_Engineer  \\\n",
       "0            0.0                0.0                  0.0   \n",
       "1            1.0                0.0                  1.0   \n",
       "2            1.0                0.0                  1.0   \n",
       "3            1.0                0.0                  0.0   \n",
       "4            1.0                0.0                  0.0   \n",
       "5            0.0                0.0                  0.0   \n",
       "6            1.0                0.0                  0.0   \n",
       "7            1.0                0.0                  0.0   \n",
       "8            1.0                0.0                  1.0   \n",
       "9            1.0                0.0                  0.0   \n",
       "\n",
       "   Profession_Entertainment  ...  Profession_Marketing  Profession_Other  \\\n",
       "0                       0.0  ...                   0.0               0.0   \n",
       "1                       0.0  ...                   0.0               0.0   \n",
       "2                       0.0  ...                   0.0               0.0   \n",
       "3                       0.0  ...                   0.0               1.0   \n",
       "4                       1.0  ...                   0.0               0.0   \n",
       "5                       0.0  ...                   0.0               0.0   \n",
       "6                       0.0  ...                   0.0               0.0   \n",
       "7                       0.0  ...                   0.0               0.0   \n",
       "8                       0.0  ...                   0.0               0.0   \n",
       "9                       0.0  ...                   0.0               0.0   \n",
       "\n",
       "   Spending_Score_High  Spending_Score_Low  Var_1_Cat_2  Var_1_Cat_3  \\\n",
       "0                  0.0                 1.0          0.0          0.0   \n",
       "1                  0.0                 0.0          0.0          0.0   \n",
       "2                  0.0                 1.0          0.0          0.0   \n",
       "3                  1.0                 0.0          0.0          0.0   \n",
       "4                  1.0                 0.0          0.0          0.0   \n",
       "5                  0.0                 0.0          0.0          0.0   \n",
       "6                  0.0                 1.0          0.0          0.0   \n",
       "7                  0.0                 1.0          0.0          0.0   \n",
       "8                  0.0                 1.0          0.0          0.0   \n",
       "9                  0.0                 0.0          0.0          0.0   \n",
       "\n",
       "   Var_1_Cat_4  Var_1_Cat_5  Var_1_Cat_6  Var_1_Cat_7  \n",
       "0          1.0          0.0          0.0          0.0  \n",
       "1          1.0          0.0          0.0          0.0  \n",
       "2          0.0          0.0          1.0          0.0  \n",
       "3          0.0          0.0          1.0          0.0  \n",
       "4          0.0          0.0          1.0          0.0  \n",
       "5          0.0          0.0          1.0          0.0  \n",
       "6          0.0          0.0          1.0          0.0  \n",
       "7          0.0          0.0          1.0          0.0  \n",
       "8          0.0          0.0          0.0          1.0  \n",
       "9          0.0          0.0          1.0          0.0  \n",
       "\n",
       "[10 rows x 21 columns]"
      ]
     },
     "execution_count": 6,
     "metadata": {},
     "output_type": "execute_result"
    }
   ],
   "source": [
    "ohe = preprocessing.OneHotEncoder(drop='first')\n",
    "dataOHE = df.copy()\n",
    "categorical_cols = df.select_dtypes(include='object').columns\n",
    "for col in categorical_cols:\n",
    "    n = dataOHE[col].nunique()\n",
    "    un = dataOHE[col].unique()\n",
    "    un.sort()\n",
    "    \n",
    "    dummy = ohe.fit_transform(dataOHE[col].values.reshape(-1,1)).toarray()\n",
    "\n",
    "    # To add this back into the original dataframe \n",
    "    dfOneHot = pd.DataFrame(dummy, columns = [col+\"_\"+str(i) for i in un[1:n]]) \n",
    "    dataOHE = pd.concat([dataOHE.reset_index(drop=True), dfOneHot.reset_index(drop=True)], axis=1)\n",
    "\n",
    "    dataOHE = dataOHE.drop([col], axis=1)\n",
    "\n",
    "dataOHE.head(10)"
   ]
  },
  {
   "cell_type": "markdown",
   "metadata": {
    "id": "6OFhwoz-uBVl"
   },
   "source": [
    "4. Then standardize your data (except the `ID` column) with `StandardScaler()`, and store the result into a Pandas dataFrame."
   ]
  },
  {
   "cell_type": "code",
   "execution_count": 7,
   "metadata": {
    "id": "kdfmiSMsGCnJ"
   },
   "outputs": [
    {
     "data": {
      "text/html": [
       "<div>\n",
       "<style scoped>\n",
       "    .dataframe tbody tr th:only-of-type {\n",
       "        vertical-align: middle;\n",
       "    }\n",
       "\n",
       "    .dataframe tbody tr th {\n",
       "        vertical-align: top;\n",
       "    }\n",
       "\n",
       "    .dataframe thead th {\n",
       "        text-align: right;\n",
       "    }\n",
       "</style>\n",
       "<table border=\"1\" class=\"dataframe\">\n",
       "  <thead>\n",
       "    <tr style=\"text-align: right;\">\n",
       "      <th></th>\n",
       "      <th>Age</th>\n",
       "      <th>Work_Experience</th>\n",
       "      <th>Family_Size</th>\n",
       "      <th>Gender_Male</th>\n",
       "      <th>Ever_Married_Yes</th>\n",
       "      <th>Graduated_Yes</th>\n",
       "      <th>Profession_Doctor</th>\n",
       "      <th>Profession_Engineer</th>\n",
       "      <th>Profession_Entertainment</th>\n",
       "      <th>Profession_Healthcare</th>\n",
       "      <th>Profession_Marketing</th>\n",
       "      <th>Profession_Other</th>\n",
       "      <th>Spending_Score_High</th>\n",
       "      <th>Spending_Score_Low</th>\n",
       "      <th>Var_1_Cat_2</th>\n",
       "      <th>Var_1_Cat_3</th>\n",
       "      <th>Var_1_Cat_4</th>\n",
       "      <th>Var_1_Cat_5</th>\n",
       "      <th>Var_1_Cat_6</th>\n",
       "      <th>Var_1_Cat_7</th>\n",
       "    </tr>\n",
       "  </thead>\n",
       "  <tbody>\n",
       "    <tr>\n",
       "      <th>0</th>\n",
       "      <td>-1.284623</td>\n",
       "      <td>-0.451136</td>\n",
       "      <td>0.762698</td>\n",
       "      <td>0.909164</td>\n",
       "      <td>-1.206653</td>\n",
       "      <td>-1.29219</td>\n",
       "      <td>-0.305328</td>\n",
       "      <td>-0.307988</td>\n",
       "      <td>-0.365110</td>\n",
       "      <td>2.248790</td>\n",
       "      <td>-0.193782</td>\n",
       "      <td>-0.495813</td>\n",
       "      <td>-0.421268</td>\n",
       "      <td>0.808676</td>\n",
       "      <td>-0.23493</td>\n",
       "      <td>-0.336811</td>\n",
       "      <td>2.531528</td>\n",
       "      <td>-0.103187</td>\n",
       "      <td>-1.389085</td>\n",
       "      <td>-0.160657</td>\n",
       "    </tr>\n",
       "    <tr>\n",
       "      <th>1</th>\n",
       "      <td>-0.327151</td>\n",
       "      <td>-0.451136</td>\n",
       "      <td>0.095802</td>\n",
       "      <td>-1.099912</td>\n",
       "      <td>0.828738</td>\n",
       "      <td>0.77388</td>\n",
       "      <td>-0.305328</td>\n",
       "      <td>3.246876</td>\n",
       "      <td>-0.365110</td>\n",
       "      <td>-0.444684</td>\n",
       "      <td>-0.193782</td>\n",
       "      <td>-0.495813</td>\n",
       "      <td>-0.421268</td>\n",
       "      <td>-1.236590</td>\n",
       "      <td>-0.23493</td>\n",
       "      <td>-0.336811</td>\n",
       "      <td>2.531528</td>\n",
       "      <td>-0.103187</td>\n",
       "      <td>-1.389085</td>\n",
       "      <td>-0.160657</td>\n",
       "    </tr>\n",
       "    <tr>\n",
       "      <th>2</th>\n",
       "      <td>1.408268</td>\n",
       "      <td>-0.451136</td>\n",
       "      <td>-1.237990</td>\n",
       "      <td>-1.099912</td>\n",
       "      <td>0.828738</td>\n",
       "      <td>0.77388</td>\n",
       "      <td>-0.305328</td>\n",
       "      <td>3.246876</td>\n",
       "      <td>-0.365110</td>\n",
       "      <td>-0.444684</td>\n",
       "      <td>-0.193782</td>\n",
       "      <td>-0.495813</td>\n",
       "      <td>-0.421268</td>\n",
       "      <td>0.808676</td>\n",
       "      <td>-0.23493</td>\n",
       "      <td>-0.336811</td>\n",
       "      <td>-0.395018</td>\n",
       "      <td>-0.103187</td>\n",
       "      <td>0.719898</td>\n",
       "      <td>-0.160657</td>\n",
       "    </tr>\n",
       "    <tr>\n",
       "      <th>3</th>\n",
       "      <td>1.408268</td>\n",
       "      <td>-0.757410</td>\n",
       "      <td>-0.571094</td>\n",
       "      <td>0.909164</td>\n",
       "      <td>0.828738</td>\n",
       "      <td>0.77388</td>\n",
       "      <td>-0.305328</td>\n",
       "      <td>-0.307988</td>\n",
       "      <td>-0.365110</td>\n",
       "      <td>-0.444684</td>\n",
       "      <td>-0.193782</td>\n",
       "      <td>2.016888</td>\n",
       "      <td>2.373788</td>\n",
       "      <td>-1.236590</td>\n",
       "      <td>-0.23493</td>\n",
       "      <td>-0.336811</td>\n",
       "      <td>-0.395018</td>\n",
       "      <td>-0.103187</td>\n",
       "      <td>0.719898</td>\n",
       "      <td>-0.160657</td>\n",
       "    </tr>\n",
       "    <tr>\n",
       "      <th>4</th>\n",
       "      <td>-0.207467</td>\n",
       "      <td>-0.451136</td>\n",
       "      <td>2.096491</td>\n",
       "      <td>-1.099912</td>\n",
       "      <td>0.828738</td>\n",
       "      <td>0.77388</td>\n",
       "      <td>-0.305328</td>\n",
       "      <td>-0.307988</td>\n",
       "      <td>2.738901</td>\n",
       "      <td>-0.444684</td>\n",
       "      <td>-0.193782</td>\n",
       "      <td>-0.495813</td>\n",
       "      <td>2.373788</td>\n",
       "      <td>-1.236590</td>\n",
       "      <td>-0.23493</td>\n",
       "      <td>-0.336811</td>\n",
       "      <td>-0.395018</td>\n",
       "      <td>-0.103187</td>\n",
       "      <td>0.719898</td>\n",
       "      <td>-0.160657</td>\n",
       "    </tr>\n",
       "    <tr>\n",
       "      <th>5</th>\n",
       "      <td>0.750006</td>\n",
       "      <td>-0.757410</td>\n",
       "      <td>-0.571094</td>\n",
       "      <td>0.909164</td>\n",
       "      <td>0.828738</td>\n",
       "      <td>-1.29219</td>\n",
       "      <td>-0.305328</td>\n",
       "      <td>-0.307988</td>\n",
       "      <td>-0.365110</td>\n",
       "      <td>-0.444684</td>\n",
       "      <td>-0.193782</td>\n",
       "      <td>-0.495813</td>\n",
       "      <td>-0.421268</td>\n",
       "      <td>-1.236590</td>\n",
       "      <td>-0.23493</td>\n",
       "      <td>-0.336811</td>\n",
       "      <td>-0.395018</td>\n",
       "      <td>-0.103187</td>\n",
       "      <td>0.719898</td>\n",
       "      <td>-0.160657</td>\n",
       "    </tr>\n",
       "    <tr>\n",
       "      <th>6</th>\n",
       "      <td>-0.686203</td>\n",
       "      <td>-0.451136</td>\n",
       "      <td>0.095802</td>\n",
       "      <td>0.909164</td>\n",
       "      <td>-1.206653</td>\n",
       "      <td>0.77388</td>\n",
       "      <td>-0.305328</td>\n",
       "      <td>-0.307988</td>\n",
       "      <td>-0.365110</td>\n",
       "      <td>2.248790</td>\n",
       "      <td>-0.193782</td>\n",
       "      <td>-0.495813</td>\n",
       "      <td>-0.421268</td>\n",
       "      <td>0.808676</td>\n",
       "      <td>-0.23493</td>\n",
       "      <td>-0.336811</td>\n",
       "      <td>-0.395018</td>\n",
       "      <td>-0.103187</td>\n",
       "      <td>0.719898</td>\n",
       "      <td>-0.160657</td>\n",
       "    </tr>\n",
       "    <tr>\n",
       "      <th>7</th>\n",
       "      <td>-0.626361</td>\n",
       "      <td>-0.451136</td>\n",
       "      <td>0.095802</td>\n",
       "      <td>-1.099912</td>\n",
       "      <td>-1.206653</td>\n",
       "      <td>0.77388</td>\n",
       "      <td>-0.305328</td>\n",
       "      <td>-0.307988</td>\n",
       "      <td>-0.365110</td>\n",
       "      <td>2.248790</td>\n",
       "      <td>-0.193782</td>\n",
       "      <td>-0.495813</td>\n",
       "      <td>-0.421268</td>\n",
       "      <td>0.808676</td>\n",
       "      <td>-0.23493</td>\n",
       "      <td>-0.336811</td>\n",
       "      <td>-0.395018</td>\n",
       "      <td>-0.103187</td>\n",
       "      <td>0.719898</td>\n",
       "      <td>-0.160657</td>\n",
       "    </tr>\n",
       "    <tr>\n",
       "      <th>8</th>\n",
       "      <td>1.049216</td>\n",
       "      <td>-0.757410</td>\n",
       "      <td>0.095802</td>\n",
       "      <td>-1.099912</td>\n",
       "      <td>0.828738</td>\n",
       "      <td>0.77388</td>\n",
       "      <td>-0.305328</td>\n",
       "      <td>3.246876</td>\n",
       "      <td>-0.365110</td>\n",
       "      <td>-0.444684</td>\n",
       "      <td>-0.193782</td>\n",
       "      <td>-0.495813</td>\n",
       "      <td>-0.421268</td>\n",
       "      <td>0.808676</td>\n",
       "      <td>-0.23493</td>\n",
       "      <td>-0.336811</td>\n",
       "      <td>-0.395018</td>\n",
       "      <td>-0.103187</td>\n",
       "      <td>-1.389085</td>\n",
       "      <td>6.224455</td>\n",
       "    </tr>\n",
       "    <tr>\n",
       "      <th>9</th>\n",
       "      <td>0.690164</td>\n",
       "      <td>-0.451136</td>\n",
       "      <td>0.762698</td>\n",
       "      <td>-1.099912</td>\n",
       "      <td>0.828738</td>\n",
       "      <td>0.77388</td>\n",
       "      <td>-0.305328</td>\n",
       "      <td>-0.307988</td>\n",
       "      <td>-0.365110</td>\n",
       "      <td>-0.444684</td>\n",
       "      <td>-0.193782</td>\n",
       "      <td>-0.495813</td>\n",
       "      <td>-0.421268</td>\n",
       "      <td>-1.236590</td>\n",
       "      <td>-0.23493</td>\n",
       "      <td>-0.336811</td>\n",
       "      <td>-0.395018</td>\n",
       "      <td>-0.103187</td>\n",
       "      <td>0.719898</td>\n",
       "      <td>-0.160657</td>\n",
       "    </tr>\n",
       "  </tbody>\n",
       "</table>\n",
       "</div>"
      ],
      "text/plain": [
       "        Age  Work_Experience  Family_Size  Gender_Male  Ever_Married_Yes  \\\n",
       "0 -1.284623        -0.451136     0.762698     0.909164         -1.206653   \n",
       "1 -0.327151        -0.451136     0.095802    -1.099912          0.828738   \n",
       "2  1.408268        -0.451136    -1.237990    -1.099912          0.828738   \n",
       "3  1.408268        -0.757410    -0.571094     0.909164          0.828738   \n",
       "4 -0.207467        -0.451136     2.096491    -1.099912          0.828738   \n",
       "5  0.750006        -0.757410    -0.571094     0.909164          0.828738   \n",
       "6 -0.686203        -0.451136     0.095802     0.909164         -1.206653   \n",
       "7 -0.626361        -0.451136     0.095802    -1.099912         -1.206653   \n",
       "8  1.049216        -0.757410     0.095802    -1.099912          0.828738   \n",
       "9  0.690164        -0.451136     0.762698    -1.099912          0.828738   \n",
       "\n",
       "   Graduated_Yes  Profession_Doctor  Profession_Engineer  \\\n",
       "0       -1.29219          -0.305328            -0.307988   \n",
       "1        0.77388          -0.305328             3.246876   \n",
       "2        0.77388          -0.305328             3.246876   \n",
       "3        0.77388          -0.305328            -0.307988   \n",
       "4        0.77388          -0.305328            -0.307988   \n",
       "5       -1.29219          -0.305328            -0.307988   \n",
       "6        0.77388          -0.305328            -0.307988   \n",
       "7        0.77388          -0.305328            -0.307988   \n",
       "8        0.77388          -0.305328             3.246876   \n",
       "9        0.77388          -0.305328            -0.307988   \n",
       "\n",
       "   Profession_Entertainment  Profession_Healthcare  Profession_Marketing  \\\n",
       "0                 -0.365110               2.248790             -0.193782   \n",
       "1                 -0.365110              -0.444684             -0.193782   \n",
       "2                 -0.365110              -0.444684             -0.193782   \n",
       "3                 -0.365110              -0.444684             -0.193782   \n",
       "4                  2.738901              -0.444684             -0.193782   \n",
       "5                 -0.365110              -0.444684             -0.193782   \n",
       "6                 -0.365110               2.248790             -0.193782   \n",
       "7                 -0.365110               2.248790             -0.193782   \n",
       "8                 -0.365110              -0.444684             -0.193782   \n",
       "9                 -0.365110              -0.444684             -0.193782   \n",
       "\n",
       "   Profession_Other  Spending_Score_High  Spending_Score_Low  Var_1_Cat_2  \\\n",
       "0         -0.495813            -0.421268            0.808676     -0.23493   \n",
       "1         -0.495813            -0.421268           -1.236590     -0.23493   \n",
       "2         -0.495813            -0.421268            0.808676     -0.23493   \n",
       "3          2.016888             2.373788           -1.236590     -0.23493   \n",
       "4         -0.495813             2.373788           -1.236590     -0.23493   \n",
       "5         -0.495813            -0.421268           -1.236590     -0.23493   \n",
       "6         -0.495813            -0.421268            0.808676     -0.23493   \n",
       "7         -0.495813            -0.421268            0.808676     -0.23493   \n",
       "8         -0.495813            -0.421268            0.808676     -0.23493   \n",
       "9         -0.495813            -0.421268           -1.236590     -0.23493   \n",
       "\n",
       "   Var_1_Cat_3  Var_1_Cat_4  Var_1_Cat_5  Var_1_Cat_6  Var_1_Cat_7  \n",
       "0    -0.336811     2.531528    -0.103187    -1.389085    -0.160657  \n",
       "1    -0.336811     2.531528    -0.103187    -1.389085    -0.160657  \n",
       "2    -0.336811    -0.395018    -0.103187     0.719898    -0.160657  \n",
       "3    -0.336811    -0.395018    -0.103187     0.719898    -0.160657  \n",
       "4    -0.336811    -0.395018    -0.103187     0.719898    -0.160657  \n",
       "5    -0.336811    -0.395018    -0.103187     0.719898    -0.160657  \n",
       "6    -0.336811    -0.395018    -0.103187     0.719898    -0.160657  \n",
       "7    -0.336811    -0.395018    -0.103187     0.719898    -0.160657  \n",
       "8    -0.336811    -0.395018    -0.103187    -1.389085     6.224455  \n",
       "9    -0.336811    -0.395018    -0.103187     0.719898    -0.160657  "
      ]
     },
     "execution_count": 7,
     "metadata": {},
     "output_type": "execute_result"
    }
   ],
   "source": [
    "# scaled_numeric = StandardScaler().fit_transform(df)\n",
    "notid = dataOHE.iloc[:,1:] #gets everything besides first (id)\n",
    "\n",
    "scaled_numeric = StandardScaler().fit_transform(notid)\n",
    "df_scaled = pd.DataFrame(scaled_numeric, columns=notid.columns)\n",
    "df_scaled.head(10)"
   ]
  },
  {
   "cell_type": "markdown",
   "metadata": {
    "id": "mI_GK7TXu510"
   },
   "source": [
    "## Question 2: First Strategy (45 pts)\n",
    "\n",
    "1. We use K-means method to conduct the clustering analysis by setting the seed to 9. Use the [KelbowVisualizer](https://www.scikit-yb.org/en/latest/api/cluster/elbow.html) function to find the optimal number of clusters, where sets `k=(2,10)` and `metric` as default. **Written answer: Can you find the optimal number of clusters using the elbow method?**"
   ]
  },
  {
   "cell_type": "code",
   "execution_count": 8,
   "metadata": {
    "id": "_XeVQERBvLL7",
    "scrolled": false
   },
   "outputs": [
    {
     "name": "stderr",
     "output_type": "stream",
     "text": [
      "/Users/oren/opt/anaconda3/lib/python3.8/site-packages/sklearn/cluster/_kmeans.py:870: FutureWarning: The default value of `n_init` will change from 10 to 'auto' in 1.4. Set the value of `n_init` explicitly to suppress the warning\n",
      "  warnings.warn(\n",
      "/Users/oren/opt/anaconda3/lib/python3.8/site-packages/sklearn/cluster/_kmeans.py:870: FutureWarning: The default value of `n_init` will change from 10 to 'auto' in 1.4. Set the value of `n_init` explicitly to suppress the warning\n",
      "  warnings.warn(\n",
      "/Users/oren/opt/anaconda3/lib/python3.8/site-packages/sklearn/cluster/_kmeans.py:870: FutureWarning: The default value of `n_init` will change from 10 to 'auto' in 1.4. Set the value of `n_init` explicitly to suppress the warning\n",
      "  warnings.warn(\n",
      "/Users/oren/opt/anaconda3/lib/python3.8/site-packages/sklearn/cluster/_kmeans.py:870: FutureWarning: The default value of `n_init` will change from 10 to 'auto' in 1.4. Set the value of `n_init` explicitly to suppress the warning\n",
      "  warnings.warn(\n",
      "/Users/oren/opt/anaconda3/lib/python3.8/site-packages/sklearn/cluster/_kmeans.py:870: FutureWarning: The default value of `n_init` will change from 10 to 'auto' in 1.4. Set the value of `n_init` explicitly to suppress the warning\n",
      "  warnings.warn(\n",
      "/Users/oren/opt/anaconda3/lib/python3.8/site-packages/sklearn/cluster/_kmeans.py:870: FutureWarning: The default value of `n_init` will change from 10 to 'auto' in 1.4. Set the value of `n_init` explicitly to suppress the warning\n",
      "  warnings.warn(\n",
      "/Users/oren/opt/anaconda3/lib/python3.8/site-packages/sklearn/cluster/_kmeans.py:870: FutureWarning: The default value of `n_init` will change from 10 to 'auto' in 1.4. Set the value of `n_init` explicitly to suppress the warning\n",
      "  warnings.warn(\n",
      "/Users/oren/opt/anaconda3/lib/python3.8/site-packages/sklearn/cluster/_kmeans.py:870: FutureWarning: The default value of `n_init` will change from 10 to 'auto' in 1.4. Set the value of `n_init` explicitly to suppress the warning\n",
      "  warnings.warn(\n",
      "/Users/oren/opt/anaconda3/lib/python3.8/site-packages/yellowbrick/utils/kneed.py:156: YellowbrickWarning: No 'knee' or 'elbow point' detected This could be due to bad clustering, no actual clusters being formed etc.\n",
      "  warnings.warn(warning_message, YellowbrickWarning)\n",
      "/Users/oren/opt/anaconda3/lib/python3.8/site-packages/yellowbrick/cluster/elbow.py:374: YellowbrickWarning: No 'knee' or 'elbow' point detected, pass `locate_elbow=False` to remove the warning\n",
      "  warnings.warn(warning_message, YellowbrickWarning)\n"
     ]
    },
    {
     "data": {
      "image/png": "[encoded data removed]",
      "text/plain": [
       "<Figure size 432x288 with 2 Axes>"
      ]
     },
     "metadata": {},
     "output_type": "display_data"
    }
   ],
   "source": [
    "KClusterer = KMeans(random_state=9)\n",
    "visualizer = KElbowVisualizer(KClusterer, \n",
    "                              k=(2,10)\n",
    "                             ) \n",
    "visualizer.fit(df_scaled)      \n",
    "visualizer.show()\n",
    "plt.show()"
   ]
  },
  {
   "cell_type": "markdown",
   "metadata": {
    "id": "mSn2fZ5Sv-xO"
   },
   "source": [
    "**Written answer (2 pts):** the visualizer fails to find an optimal number of clusters using the elbow method"
   ]
  },
  {
   "cell_type": "markdown",
   "metadata": {
    "id": "jtonBc3gxKZx"
   },
   "source": [
    "2. Try between 2 and 6 clusters, using a seed of 9, and draw the silouhette plot for the K-means analysis. Report the silhouette scores. Do NOT use the built-in function `SilhouetteVisualizer()`."
   ]
  },
  {
   "cell_type": "code",
   "execution_count": 9,
   "metadata": {},
   "outputs": [
    {
     "name": "stderr",
     "output_type": "stream",
     "text": [
      "/Users/oren/opt/anaconda3/lib/python3.8/site-packages/sklearn/cluster/_kmeans.py:870: FutureWarning: The default value of `n_init` will change from 10 to 'auto' in 1.4. Set the value of `n_init` explicitly to suppress the warning\n",
      "  warnings.warn(\n"
     ]
    },
    {
     "name": "stdout",
     "output_type": "stream",
     "text": [
      "For n_clusters = 2 The average silhouette_score is : 0.1317\n"
     ]
    },
    {
     "name": "stderr",
     "output_type": "stream",
     "text": [
      "/Users/oren/opt/anaconda3/lib/python3.8/site-packages/sklearn/cluster/_kmeans.py:870: FutureWarning: The default value of `n_init` will change from 10 to 'auto' in 1.4. Set the value of `n_init` explicitly to suppress the warning\n",
      "  warnings.warn(\n"
     ]
    },
    {
     "name": "stdout",
     "output_type": "stream",
     "text": [
      "For n_clusters = 3 The average silhouette_score is : 0.1422\n"
     ]
    },
    {
     "name": "stderr",
     "output_type": "stream",
     "text": [
      "/Users/oren/opt/anaconda3/lib/python3.8/site-packages/sklearn/cluster/_kmeans.py:870: FutureWarning: The default value of `n_init` will change from 10 to 'auto' in 1.4. Set the value of `n_init` explicitly to suppress the warning\n",
      "  warnings.warn(\n"
     ]
    },
    {
     "name": "stdout",
     "output_type": "stream",
     "text": [
      "For n_clusters = 4 The average silhouette_score is : 0.1529\n"
     ]
    },
    {
     "name": "stderr",
     "output_type": "stream",
     "text": [
      "/Users/oren/opt/anaconda3/lib/python3.8/site-packages/sklearn/cluster/_kmeans.py:870: FutureWarning: The default value of `n_init` will change from 10 to 'auto' in 1.4. Set the value of `n_init` explicitly to suppress the warning\n",
      "  warnings.warn(\n"
     ]
    },
    {
     "name": "stdout",
     "output_type": "stream",
     "text": [
      "For n_clusters = 5 The average silhouette_score is : 0.1431\n"
     ]
    },
    {
     "name": "stderr",
     "output_type": "stream",
     "text": [
      "/Users/oren/opt/anaconda3/lib/python3.8/site-packages/sklearn/cluster/_kmeans.py:870: FutureWarning: The default value of `n_init` will change from 10 to 'auto' in 1.4. Set the value of `n_init` explicitly to suppress the warning\n",
      "  warnings.warn(\n"
     ]
    },
    {
     "name": "stdout",
     "output_type": "stream",
     "text": [
      "For n_clusters = 6 The average silhouette_score is : 0.1491\n"
     ]
    },
    {
     "data": {
      "image/png": "[encoded data removed]",
      "text/plain": [
       "<Figure size 864x720 with 5 Axes>"
      ]
     },
     "metadata": {
      "needs_background": "light"
     },
     "output_type": "display_data"
    }
   ],
   "source": [
    "from matplotlib.ticker import FixedLocator, FixedFormatter\n",
    "import matplotlib as mpl\n",
    "\n",
    "plt.figure(figsize=(12, 10))\n",
    "\n",
    "for k in range(2, 7):\n",
    "    plt.subplot(2, 3, k - 1)\n",
    "    \n",
    "    kmeans = KMeans(n_clusters=k, random_state=9)\n",
    "    y_pred = kmeans.fit_predict(df_scaled)\n",
    "    silhouette_coefficients = silhouette_samples(df_scaled, y_pred)\n",
    "\n",
    "    padding = len(df_scaled) // 30\n",
    "    pos = padding\n",
    "    ticks = []\n",
    "    for i in range(k):\n",
    "        coeffs = silhouette_coefficients[y_pred == i]\n",
    "        coeffs.sort()\n",
    "\n",
    "        color = mpl.cm.Spectral(i / k)\n",
    "        plt.fill_betweenx(np.arange(pos, pos + len(coeffs)), 0, coeffs,\n",
    "                          facecolor=color, edgecolor=color, alpha=0.7)\n",
    "        ticks.append(pos + len(coeffs) // 2)\n",
    "        pos += len(coeffs) + padding\n",
    "\n",
    "    plt.gca().yaxis.set_major_locator(FixedLocator(ticks))\n",
    "    plt.gca().yaxis.set_major_formatter(FixedFormatter(range(k)))\n",
    "    if k in (3, 5):\n",
    "        plt.ylabel(\"Cluster\")\n",
    "    \n",
    "    if k in (5, 6):\n",
    "        plt.gca().set_xticks([-0.1, 0, 0.2, 0.4, 0.6, 0.8, 1])\n",
    "        plt.xlabel(\"Silhouette Coefficient\")\n",
    "    else:\n",
    "        plt.tick_params(labelbottom=False)\n",
    "\n",
    "    silhouette_avg = silhouette_score(df_scaled, y_pred)\n",
    "    print(\"For n_clusters =\", k,\n",
    "      \"The average silhouette_score is :\", silhouette_avg.round(4))\n",
    "\n",
    "    plt.axvline(x=silhouette_avg, color=\"red\", linestyle=\"--\")\n",
    "    plt.title(\"$k={}$\".format(k), fontsize=16)\n",
    "\n",
    "plt.show()\n"
   ]
  },
  {
   "cell_type": "markdown",
   "metadata": {
    "id": "_ulj2b_I1RBN"
   },
   "source": [
    "**What is the optimal number of clusters using the silhouette method?**"
   ]
  },
  {
   "cell_type": "markdown",
   "metadata": {
    "id": "VB_96Z382IHF"
   },
   "source": [
    "**ANSWER HERE (2pts):**  the optimal number of clusters using this method is 4 as it has the highest average silhouette score, and there seems to be the least amount of of bad clustering, as there seems to be only a bit of the yellow cluster not clustered properly"
   ]
  },
  {
   "cell_type": "markdown",
   "metadata": {
    "id": "ybsMsxKj3TRX"
   },
   "source": [
    "3. Use the first and second principle components of the data as the x and y axis, draw the scatter plot where points are differentiated by clusters. Hints: you need to first perform dimension reduction with PCA using 2 components."
   ]
  },
  {
   "cell_type": "code",
   "execution_count": 10,
   "metadata": {
    "id": "IFMmhbjnGzq9"
   },
   "outputs": [
    {
     "name": "stderr",
     "output_type": "stream",
     "text": [
      "/Users/oren/opt/anaconda3/lib/python3.8/site-packages/sklearn/cluster/_kmeans.py:870: FutureWarning: The default value of `n_init` will change from 10 to 'auto' in 1.4. Set the value of `n_init` explicitly to suppress the warning\n",
      "  warnings.warn(\n"
     ]
    },
    {
     "data": {
      "image/png": "[encoded data removed]",
      "text/plain": [
       "<Figure size 432x288 with 1 Axes>"
      ]
     },
     "metadata": {
      "needs_background": "light"
     },
     "output_type": "display_data"
    }
   ],
   "source": [
    "# perform PCA to reduce dimensionality\n",
    "pca = PCA(n_components=2)\n",
    "df_pca = pca.fit_transform(df_scaled)\n",
    "kmeans4 = KMeans(n_clusters=4, random_state=9)\n",
    "cluster_labels = kmeans4.fit_predict(df_scaled)\n",
    "\n",
    "# Assign cluster labels to each data point\n",
    "plt.scatter(df_pca[:,0], df_pca[:,1], c=cluster_labels, cmap='viridis')\n",
    "plt.xlabel('PC 1')\n",
    "plt.ylabel('PC 2')\n",
    "plt.title('K-means Clustering')\n",
    "plt.show()"
   ]
  },
  {
   "cell_type": "markdown",
   "metadata": {
    "id": "a0t9OdyD4nQ_"
   },
   "source": [
    "\n",
    "4. The objective of any cluster analysis over customer data is to create a reasonable segmentation of your customers. Using the number of clusters you have decided in Question 1, create a table (using `pandas.DataFrame.groupby`) of the averages per variable (`Age`, `Work_Experience`, `Family_Size`) of each cluster (use the original, non-scaled, variables). Write a conclusion on the characteristics of each cluster."
   ]
  },
  {
   "cell_type": "code",
   "execution_count": 11,
   "metadata": {
    "id": "jYHaH4EDG0jA"
   },
   "outputs": [
    {
     "data": {
      "text/html": [
       "<div>\n",
       "<style scoped>\n",
       "    .dataframe tbody tr th:only-of-type {\n",
       "        vertical-align: middle;\n",
       "    }\n",
       "\n",
       "    .dataframe tbody tr th {\n",
       "        vertical-align: top;\n",
       "    }\n",
       "\n",
       "    .dataframe thead th {\n",
       "        text-align: right;\n",
       "    }\n",
       "</style>\n",
       "<table border=\"1\" class=\"dataframe\">\n",
       "  <thead>\n",
       "    <tr style=\"text-align: right;\">\n",
       "      <th></th>\n",
       "      <th>Age</th>\n",
       "      <th>Work_Experience</th>\n",
       "      <th>Family_Size</th>\n",
       "    </tr>\n",
       "    <tr>\n",
       "      <th>Cluster</th>\n",
       "      <th></th>\n",
       "      <th></th>\n",
       "      <th></th>\n",
       "    </tr>\n",
       "  </thead>\n",
       "  <tbody>\n",
       "    <tr>\n",
       "      <th>A</th>\n",
       "      <td>38.630542</td>\n",
       "      <td>2.512315</td>\n",
       "      <td>3.221675</td>\n",
       "    </tr>\n",
       "    <tr>\n",
       "      <th>B</th>\n",
       "      <td>54.010712</td>\n",
       "      <td>2.095072</td>\n",
       "      <td>2.653455</td>\n",
       "    </tr>\n",
       "    <tr>\n",
       "      <th>C</th>\n",
       "      <td>32.471245</td>\n",
       "      <td>3.036477</td>\n",
       "      <td>2.853105</td>\n",
       "    </tr>\n",
       "    <tr>\n",
       "      <th>D</th>\n",
       "      <td>38.936581</td>\n",
       "      <td>2.186581</td>\n",
       "      <td>3.493566</td>\n",
       "    </tr>\n",
       "  </tbody>\n",
       "</table>\n",
       "</div>"
      ],
      "text/plain": [
       "               Age  Work_Experience  Family_Size\n",
       "Cluster                                         \n",
       "A        38.630542         2.512315     3.221675\n",
       "B        54.010712         2.095072     2.653455\n",
       "C        32.471245         3.036477     2.853105\n",
       "D        38.936581         2.186581     3.493566"
      ]
     },
     "execution_count": 11,
     "metadata": {},
     "output_type": "execute_result"
    }
   ],
   "source": [
    "clusters = kmeans4.labels_\n",
    "dataOHE['Cluster'] = clusters\n",
    "dataOHE['Cluster'] = dataOHE['Cluster'].replace({0: 'A', 1: 'B', 2: 'C', 3: 'D'})\n",
    "d = dataOHE.groupby('Cluster')[['Age', 'Work_Experience', 'Family_Size']].mean()\n",
    "dataOHE.drop('Cluster', axis=1)\n",
    "d"
   ]
  },
  {
   "cell_type": "markdown",
   "metadata": {
    "id": "jWdOw-3r43mM"
   },
   "source": [
    "**ANSWER HERE (2pts):** \n",
    "\n",
    "Cluster A: this is a middle aged group with a good amount of work experience and a large family. This is probably a group of people that are more work reliant to support a family.\n",
    "\n",
    "\n",
    "Cluster D: this is also a middle aged group except in comparison to cluster A, it has little work experience but the largest family of all the groups. This is a group of people that are more family focused and do not need to rely on work experience.\n",
    "\n",
    "\n",
    "Cluster B: this is the oldest age group by far, which characterizes them from the other clusters, they have the smallest family and the smallest work experience, indicating that they are retired and have no dependencies (children) young enough to be a customer\n",
    "\n",
    "\n",
    "Cluster D: this is the youngest age group which sets them apart, as well as their largest amount of work experience (and mediocre family size), which sets them apart as they are most likely younger people coming out of universities with jobs."
   ]
  },
  {
   "cell_type": "markdown",
   "metadata": {
    "id": "E6gDux4OLA6W"
   },
   "source": [
    "## Question 3: Second Strategy (45 pts) \n",
    "\n",
    "1. First performing dimension reduction with PCA using 4 components. Look for the best number of clusters (between 3 to 6) using `Agglomerative clustering` with `affinity = 'cosine'` and `linkage = 'average'` and Silhuoette analysis."
   ]
  },
  {
   "cell_type": "code",
   "execution_count": 12,
   "metadata": {
    "id": "dce5jc4iGxR8"
   },
   "outputs": [
    {
     "name": "stderr",
     "output_type": "stream",
     "text": [
      "/Users/oren/opt/anaconda3/lib/python3.8/site-packages/sklearn/cluster/_agglomerative.py:983: FutureWarning: Attribute `affinity` was deprecated in version 1.2 and will be removed in 1.4. Use `metric` instead\n",
      "  warnings.warn(\n"
     ]
    },
    {
     "name": "stdout",
     "output_type": "stream",
     "text": [
      "For n_clusters = 3 The average silhouette_score is : 0.2618\n"
     ]
    },
    {
     "name": "stderr",
     "output_type": "stream",
     "text": [
      "/Users/oren/opt/anaconda3/lib/python3.8/site-packages/sklearn/cluster/_agglomerative.py:983: FutureWarning: Attribute `affinity` was deprecated in version 1.2 and will be removed in 1.4. Use `metric` instead\n",
      "  warnings.warn(\n"
     ]
    },
    {
     "name": "stdout",
     "output_type": "stream",
     "text": [
      "For n_clusters = 4 The average silhouette_score is : 0.2784\n"
     ]
    },
    {
     "name": "stderr",
     "output_type": "stream",
     "text": [
      "/Users/oren/opt/anaconda3/lib/python3.8/site-packages/sklearn/cluster/_agglomerative.py:983: FutureWarning: Attribute `affinity` was deprecated in version 1.2 and will be removed in 1.4. Use `metric` instead\n",
      "  warnings.warn(\n"
     ]
    },
    {
     "name": "stdout",
     "output_type": "stream",
     "text": [
      "For n_clusters = 5 The average silhouette_score is : 0.2235\n"
     ]
    },
    {
     "name": "stderr",
     "output_type": "stream",
     "text": [
      "/Users/oren/opt/anaconda3/lib/python3.8/site-packages/sklearn/cluster/_agglomerative.py:983: FutureWarning: Attribute `affinity` was deprecated in version 1.2 and will be removed in 1.4. Use `metric` instead\n",
      "  warnings.warn(\n"
     ]
    },
    {
     "name": "stdout",
     "output_type": "stream",
     "text": [
      "For n_clusters = 6 The average silhouette_score is : 0.2071\n"
     ]
    }
   ],
   "source": [
    "pca = PCA(n_components=4)\n",
    "df_pca = pca.fit_transform(df_scaled)\n",
    "for k in range(3, 7):\n",
    "    Agglom = AgglomerativeClustering(n_clusters=k,    \n",
    "                                    affinity='cosine', \n",
    "                                    linkage=\"average\")\n",
    "    cluster_labels = Agglom.fit_predict(df_pca)\n",
    "    silhouette_avg = silhouette_score(df_pca, cluster_labels)\n",
    "    print(\"For n_clusters =\", k, \"The average silhouette_score is :\", silhouette_avg.round(4))"
   ]
  },
  {
   "cell_type": "markdown",
   "metadata": {
    "id": "ykO7i7x3LA6Y"
   },
   "source": [
    "**Written Answer:** How many clusters is select based on the previous results?"
   ]
  },
  {
   "cell_type": "markdown",
   "metadata": {
    "id": "dvahLU56LA6Y"
   },
   "source": [
    "**ANSWER HERE (2pts):** Based on these results, we should select 4 clusters as it has the highest average silhouette score of 0.2709"
   ]
  },
  {
   "cell_type": "markdown",
   "metadata": {
    "id": "Fm6hm162-zDQ"
   },
   "source": [
    "2. Graph the scatter plot of the PCA-transformed data differentiated by cluster. Use the first and second principal components of the data as the x and y axis.\n"
   ]
  },
  {
   "cell_type": "code",
   "execution_count": 13,
   "metadata": {
    "id": "F5fNrKXBGxto"
   },
   "outputs": [
    {
     "name": "stderr",
     "output_type": "stream",
     "text": [
      "/Users/oren/opt/anaconda3/lib/python3.8/site-packages/sklearn/cluster/_agglomerative.py:983: FutureWarning: Attribute `affinity` was deprecated in version 1.2 and will be removed in 1.4. Use `metric` instead\n",
      "  warnings.warn(\n"
     ]
    },
    {
     "data": {
      "image/png": "[encoded data removed]",
      "text/plain": [
       "<Figure size 432x288 with 1 Axes>"
      ]
     },
     "metadata": {
      "needs_background": "light"
     },
     "output_type": "display_data"
    }
   ],
   "source": [
    "#use 4 as it is the best from earlier\n",
    "Agglom4 = AgglomerativeClustering(n_clusters=4,    \n",
    "                                    affinity='cosine', \n",
    "                                    linkage=\"average\")\n",
    "cluster_labels = Agglom4.fit_predict(df_pca)\n",
    "\n",
    "plt.scatter(df_pca[:,0], df_pca[:,1], c=cluster_labels, cmap='viridis')\n",
    "plt.xlabel('PC 1')\n",
    "plt.ylabel('PC 2')\n",
    "plt.title('K-means Clustering')\n",
    "plt.show()"
   ]
  },
  {
   "cell_type": "markdown",
   "metadata": {
    "id": "0iBhExCs_gsk"
   },
   "source": [
    "3. Make the boxplot `Age` vs `Family_Size` based on the dataFrame before standardization, and use `hue = \"Your_Cluster_Label\"` in the plot function to show the differences among clusters."
   ]
  },
  {
   "cell_type": "code",
   "execution_count": 14,
   "metadata": {
    "scrolled": true
   },
   "outputs": [
    {
     "data": {
      "text/plain": [
       "<Axes: xlabel='Family_Size', ylabel='Age'>"
      ]
     },
     "execution_count": 14,
     "metadata": {},
     "output_type": "execute_result"
    },
    {
     "data": {
      "image/png": "[encoded data removed]",
      "text/plain": [
       "<Figure size 1800x720 with 1 Axes>"
      ]
     },
     "metadata": {
      "needs_background": "light"
     },
     "output_type": "display_data"
    }
   ],
   "source": [
    "plt.figure(figsize=(25, 10))\n",
    "sns.boxplot(x = dataOHE.Family_Size, y = dataOHE.Age, hue = cluster_labels)"
   ]
  },
  {
   "cell_type": "markdown",
   "metadata": {
    "id": "IOEPJq5eGyEm"
   },
   "source": [
    "Yes, you need to provide one boxplot with Age as y-axis, Family_Size as x-axis and hue='Your_Cluster_Label, so that clusters are differentiated by colors.\n",
    "\n"
   ]
  },
  {
   "cell_type": "markdown",
   "metadata": {
    "id": "VL6byidbACf4"
   },
   "source": [
    "4. Using the number of clusters you have decided in Question 2 and `pandas.DataFrame.groupby`, create a table of the averages per variable (`Age`, `Work_Experience`, `Family_Size`) of each cluster (use the original, non-scaled, variables). Write a conclusion on the characteristics of each cluster."
   ]
  },
  {
   "cell_type": "code",
   "execution_count": 15,
   "metadata": {
    "id": "IqlQAa3bGyv-"
   },
   "outputs": [
    {
     "data": {
      "text/html": [
       "<div>\n",
       "<style scoped>\n",
       "    .dataframe tbody tr th:only-of-type {\n",
       "        vertical-align: middle;\n",
       "    }\n",
       "\n",
       "    .dataframe tbody tr th {\n",
       "        vertical-align: top;\n",
       "    }\n",
       "\n",
       "    .dataframe thead th {\n",
       "        text-align: right;\n",
       "    }\n",
       "</style>\n",
       "<table border=\"1\" class=\"dataframe\">\n",
       "  <thead>\n",
       "    <tr style=\"text-align: right;\">\n",
       "      <th></th>\n",
       "      <th>Age</th>\n",
       "      <th>Work_Experience</th>\n",
       "      <th>Family_Size</th>\n",
       "    </tr>\n",
       "    <tr>\n",
       "      <th>Cluster</th>\n",
       "      <th></th>\n",
       "      <th></th>\n",
       "      <th></th>\n",
       "    </tr>\n",
       "  </thead>\n",
       "  <tbody>\n",
       "    <tr>\n",
       "      <th>A</th>\n",
       "      <td>30.696441</td>\n",
       "      <td>2.932740</td>\n",
       "      <td>3.132028</td>\n",
       "    </tr>\n",
       "    <tr>\n",
       "      <th>B</th>\n",
       "      <td>55.474798</td>\n",
       "      <td>2.133737</td>\n",
       "      <td>2.560148</td>\n",
       "    </tr>\n",
       "    <tr>\n",
       "      <th>C</th>\n",
       "      <td>44.423358</td>\n",
       "      <td>2.197810</td>\n",
       "      <td>2.972993</td>\n",
       "    </tr>\n",
       "    <tr>\n",
       "      <th>D</th>\n",
       "      <td>42.194079</td>\n",
       "      <td>2.576754</td>\n",
       "      <td>2.798246</td>\n",
       "    </tr>\n",
       "  </tbody>\n",
       "</table>\n",
       "</div>"
      ],
      "text/plain": [
       "               Age  Work_Experience  Family_Size\n",
       "Cluster                                         \n",
       "A        30.696441         2.932740     3.132028\n",
       "B        55.474798         2.133737     2.560148\n",
       "C        44.423358         2.197810     2.972993\n",
       "D        42.194079         2.576754     2.798246"
      ]
     },
     "execution_count": 15,
     "metadata": {},
     "output_type": "execute_result"
    }
   ],
   "source": [
    "clusters = Agglom4.labels_\n",
    "dataOHE['Cluster'] = clusters\n",
    "dataOHE['Cluster'] = dataOHE['Cluster'].replace({0: 'A', 1: 'B', 2: 'C', 3: 'D'})\n",
    "d = dataOHE.groupby('Cluster')[['Age', 'Work_Experience', 'Family_Size']].mean()\n",
    "dataOHE.drop('Cluster', axis=1)\n",
    "d"
   ]
  },
  {
   "cell_type": "markdown",
   "metadata": {
    "id": "HEu2VKbrAnmy"
   },
   "source": [
    "**ANSWER HERE (2pts):** \n",
    "\n",
    "Cluster A: this cluster is categorized by all its variables, as it has the lowest average age by far, despite having the largest family size and work experience, as they are most likely younger people with work experience from jobs right out of university, and either have kids or are financially attached to their parents\n",
    "\n",
    "Cluster B: this cluster is categorized by their age, as they are significantly older than the rest, and have the littlest work experience and littlest family size, as they are all old people out of work with no young financial dependencies. \n",
    "\n",
    "Cluster C and B: These clusters are the most similar, except C is older has less work experience and less family size. Thus, group D is likey working more with more young kids as financial dependencies"
   ]
  }
 ],
 "metadata": {
  "colab": {
   "provenance": []
  },
  "kernelspec": {
   "display_name": "Python 3",
   "language": "python",
   "name": "python3"
  },
  "language_info": {
   "codemirror_mode": {
    "name": "ipython",
    "version": 3
   },
   "file_extension": ".py",
   "mimetype": "text/x-python",
   "name": "python",
   "nbconvert_exporter": "python",
   "pygments_lexer": "ipython3",
   "version": "3.8.8"
  }
 },
 "nbformat": 4,
 "nbformat_minor": 1
}

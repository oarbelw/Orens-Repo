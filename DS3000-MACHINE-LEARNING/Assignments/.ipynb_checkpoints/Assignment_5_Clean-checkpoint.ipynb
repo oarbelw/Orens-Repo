{
 "cells": [
  {
   "cell_type": "markdown",
   "metadata": {
    "id": "KS8_b7ZzQrOQ"
   },
   "source": [
    "# Grade: /100 pts\n",
    "\n",
    "# Assignment 05: Model Selection & Cross Validation\n",
    "\n",
    "In this assignment you will be using a #TidyTuesday dataset on Spotify songs to build a classification model for predicting Spotify song popularity.\n",
    "\n",
    "The dataset has already been preprocessed, and is ready to be used! \n",
    "\n",
    "The Spotify songs dataset has provided you with data for 30947 Spotify songs.  Your job: build a model or models, perform model selection using cross validation techniques, and evaluate your final selected model.\n",
    "\n",
    "### The Dataset\n",
    "\n",
    "The data is stored in a csv file called `spotify_pre.csv`.  The data includes some information about playlist genre, playlist subgenre, danceability, energy, key, loudness, mode, speechiness, acousticness, instrumentalness, liveness, valence, tempo, and duration. The target variable is `track_popularity`, which has two categories `high` and `low`.\n",
    "\n",
    "\n",
    "### Follow These Steps before submitting\n",
    "Once you are finished, ensure to complete the following steps.\n",
    "\n",
    "1.  Restart your kernel by clicking 'Kernel' > 'Restart & Run All'.\n",
    "\n",
    "2.  Fix any errors which result from this.\n",
    "\n",
    "3.  Repeat steps 1. and 2. until your notebook runs without errors.\n",
    "\n",
    "4.  Submit your completed notebook to OWL by the deadline. \n",
    "\n",
    "5.  Your submission document should be saved in the form: `LastName_FirstName_Assignment5.ipynb`\n",
    "\n",
    "---"
   ]
  },
  {
   "cell_type": "code",
   "execution_count": 23,
   "metadata": {
    "id": "hV01UYGeQrOS"
   },
   "outputs": [],
   "source": [
    "import pandas as pd\n",
    "import numpy as np\n",
    "import matplotlib.pyplot as plt\n",
    "import seaborn as sns\n",
    "from plotnine import *\n",
    "from sklearn.model_selection import train_test_split,StratifiedKFold,cross_val_score\n",
    "from sklearn.linear_model import LogisticRegression, LinearRegression\n",
    "from sklearn.pipeline import Pipeline\n",
    "from sklearn.preprocessing import StandardScaler, PolynomialFeatures\n",
    "from sklearn.metrics import make_scorer, mean_squared_error,roc_curve, auc, roc_auc_score\n",
    "from sklearn.base import BaseEstimator, TransformerMixin\n",
    "\n",
    "pd.set_option('display.max_columns', 500)\n",
    "plt.style.use('ggplot')\n",
    "%matplotlib inline"
   ]
  },
  {
   "cell_type": "markdown",
   "metadata": {
    "id": "P8OR-sYkQrOU"
   },
   "source": [
    "_____"
   ]
  },
  {
   "cell_type": "markdown",
   "metadata": {
    "id": "735oycK-QrOU"
   },
   "source": [
    "### Question 1: /15pts\n",
    "\n",
    "First, import the dataset `spotify_pre.csv` as a dataframe and print out a few rows and get metadata of the csv file to have a rough understanding of the type of each column."
   ]
  },
  {
   "cell_type": "code",
   "execution_count": 24,
   "metadata": {
    "id": "4yBYxJe2QrOU"
   },
   "outputs": [
    {
     "data": {
      "text/html": [
       "<div>\n",
       "<style scoped>\n",
       "    .dataframe tbody tr th:only-of-type {\n",
       "        vertical-align: middle;\n",
       "    }\n",
       "\n",
       "    .dataframe tbody tr th {\n",
       "        vertical-align: top;\n",
       "    }\n",
       "\n",
       "    .dataframe thead th {\n",
       "        text-align: right;\n",
       "    }\n",
       "</style>\n",
       "<table border=\"1\" class=\"dataframe\">\n",
       "  <thead>\n",
       "    <tr style=\"text-align: right;\">\n",
       "      <th></th>\n",
       "      <th>track_popularity</th>\n",
       "      <th>playlist_genre</th>\n",
       "      <th>playlist_subgenre</th>\n",
       "      <th>danceability</th>\n",
       "      <th>energy</th>\n",
       "      <th>key</th>\n",
       "      <th>loudness</th>\n",
       "      <th>mode</th>\n",
       "      <th>speechiness</th>\n",
       "      <th>acousticness</th>\n",
       "      <th>instrumentalness</th>\n",
       "      <th>liveness</th>\n",
       "      <th>valence</th>\n",
       "      <th>tempo</th>\n",
       "      <th>duration_m</th>\n",
       "    </tr>\n",
       "  </thead>\n",
       "  <tbody>\n",
       "    <tr>\n",
       "      <th>0</th>\n",
       "      <td>low</td>\n",
       "      <td>pop</td>\n",
       "      <td>dance pop</td>\n",
       "      <td>0.748</td>\n",
       "      <td>0.916</td>\n",
       "      <td>6</td>\n",
       "      <td>-2.634</td>\n",
       "      <td>major</td>\n",
       "      <td>0.0583</td>\n",
       "      <td>0.1020</td>\n",
       "      <td>0.000000</td>\n",
       "      <td>0.0653</td>\n",
       "      <td>0.518</td>\n",
       "      <td>122.036</td>\n",
       "      <td>3.245900</td>\n",
       "    </tr>\n",
       "    <tr>\n",
       "      <th>1</th>\n",
       "      <td>low</td>\n",
       "      <td>pop</td>\n",
       "      <td>dance pop</td>\n",
       "      <td>0.726</td>\n",
       "      <td>0.815</td>\n",
       "      <td>11</td>\n",
       "      <td>-4.969</td>\n",
       "      <td>major</td>\n",
       "      <td>0.0373</td>\n",
       "      <td>0.0724</td>\n",
       "      <td>0.004210</td>\n",
       "      <td>0.3570</td>\n",
       "      <td>0.693</td>\n",
       "      <td>99.972</td>\n",
       "      <td>2.710000</td>\n",
       "    </tr>\n",
       "    <tr>\n",
       "      <th>2</th>\n",
       "      <td>high</td>\n",
       "      <td>pop</td>\n",
       "      <td>dance pop</td>\n",
       "      <td>0.675</td>\n",
       "      <td>0.931</td>\n",
       "      <td>1</td>\n",
       "      <td>-3.432</td>\n",
       "      <td>minor</td>\n",
       "      <td>0.0742</td>\n",
       "      <td>0.0794</td>\n",
       "      <td>0.000023</td>\n",
       "      <td>0.1100</td>\n",
       "      <td>0.613</td>\n",
       "      <td>124.008</td>\n",
       "      <td>2.943600</td>\n",
       "    </tr>\n",
       "    <tr>\n",
       "      <th>3</th>\n",
       "      <td>low</td>\n",
       "      <td>pop</td>\n",
       "      <td>dance pop</td>\n",
       "      <td>0.718</td>\n",
       "      <td>0.930</td>\n",
       "      <td>7</td>\n",
       "      <td>-3.778</td>\n",
       "      <td>major</td>\n",
       "      <td>0.1020</td>\n",
       "      <td>0.0287</td>\n",
       "      <td>0.000009</td>\n",
       "      <td>0.2040</td>\n",
       "      <td>0.277</td>\n",
       "      <td>121.956</td>\n",
       "      <td>2.818217</td>\n",
       "    </tr>\n",
       "    <tr>\n",
       "      <th>4</th>\n",
       "      <td>low</td>\n",
       "      <td>pop</td>\n",
       "      <td>dance pop</td>\n",
       "      <td>0.650</td>\n",
       "      <td>0.833</td>\n",
       "      <td>1</td>\n",
       "      <td>-4.672</td>\n",
       "      <td>major</td>\n",
       "      <td>0.0359</td>\n",
       "      <td>0.0803</td>\n",
       "      <td>0.000000</td>\n",
       "      <td>0.0833</td>\n",
       "      <td>0.725</td>\n",
       "      <td>123.976</td>\n",
       "      <td>3.150867</td>\n",
       "    </tr>\n",
       "  </tbody>\n",
       "</table>\n",
       "</div>"
      ],
      "text/plain": [
       "  track_popularity playlist_genre playlist_subgenre  danceability  energy  \\\n",
       "0              low            pop         dance pop         0.748   0.916   \n",
       "1              low            pop         dance pop         0.726   0.815   \n",
       "2             high            pop         dance pop         0.675   0.931   \n",
       "3              low            pop         dance pop         0.718   0.930   \n",
       "4              low            pop         dance pop         0.650   0.833   \n",
       "\n",
       "   key  loudness   mode  speechiness  acousticness  instrumentalness  \\\n",
       "0    6    -2.634  major       0.0583        0.1020          0.000000   \n",
       "1   11    -4.969  major       0.0373        0.0724          0.004210   \n",
       "2    1    -3.432  minor       0.0742        0.0794          0.000023   \n",
       "3    7    -3.778  major       0.1020        0.0287          0.000009   \n",
       "4    1    -4.672  major       0.0359        0.0803          0.000000   \n",
       "\n",
       "   liveness  valence    tempo  duration_m  \n",
       "0    0.0653    0.518  122.036    3.245900  \n",
       "1    0.3570    0.693   99.972    2.710000  \n",
       "2    0.1100    0.613  124.008    2.943600  \n",
       "3    0.2040    0.277  121.956    2.818217  \n",
       "4    0.0833    0.725  123.976    3.150867  "
      ]
     },
     "execution_count": 24,
     "metadata": {},
     "output_type": "execute_result"
    }
   ],
   "source": [
    "# Import the dataset etc.\n",
    "df = pd.read_csv(\"spotify_pre.csv\")\n",
    "df.head()\n"
   ]
  },
  {
   "cell_type": "code",
   "execution_count": 25,
   "metadata": {},
   "outputs": [
    {
     "name": "stdout",
     "output_type": "stream",
     "text": [
      "<class 'pandas.core.frame.DataFrame'>\n",
      "RangeIndex: 30947 entries, 0 to 30946\n",
      "Data columns (total 15 columns):\n",
      " #   Column             Non-Null Count  Dtype  \n",
      "---  ------             --------------  -----  \n",
      " 0   track_popularity   30947 non-null  object \n",
      " 1   playlist_genre     30947 non-null  object \n",
      " 2   playlist_subgenre  30947 non-null  object \n",
      " 3   danceability       30947 non-null  float64\n",
      " 4   energy             30947 non-null  float64\n",
      " 5   key                30947 non-null  int64  \n",
      " 6   loudness           30947 non-null  float64\n",
      " 7   mode               30947 non-null  object \n",
      " 8   speechiness        30947 non-null  float64\n",
      " 9   acousticness       30947 non-null  float64\n",
      " 10  instrumentalness   30947 non-null  float64\n",
      " 11  liveness           30947 non-null  float64\n",
      " 12  valence            30947 non-null  float64\n",
      " 13  tempo              30947 non-null  float64\n",
      " 14  duration_m         30947 non-null  float64\n",
      "dtypes: float64(10), int64(1), object(4)\n",
      "memory usage: 3.5+ MB\n",
      "None\n"
     ]
    }
   ],
   "source": [
    "#to get metadata\n",
    "print(df.info())"
   ]
  },
  {
   "cell_type": "markdown",
   "metadata": {
    "id": "DIUfwJPhQrOW"
   },
   "source": [
    "Finally create a barchart of playlist_subgenre with each bar showing the proportion of track_popularity categories (use ggplot with 'fill' option set to 'track_popularity'). Make sure to flip cartesian coordinates so that horizontal becomes vertical, and vertical, horizontal.\n",
    "\n",
    "**Make sure to check out some online resources for plotting with ggplot in Python**"
   ]
  },
  {
   "cell_type": "code",
   "execution_count": 26,
   "metadata": {
    "id": "xpcuv_pHQrOW"
   },
   "outputs": [
    {
     "ename": "AttributeError",
     "evalue": "module 'pandas' has no attribute 'tslib'",
     "output_type": "error",
     "traceback": [
      "\u001b[0;31m---------------------------------------------------------------------------\u001b[0m",
      "\u001b[0;31mAttributeError\u001b[0m                            Traceback (most recent call last)",
      "\u001b[0;32m<ipython-input-26-1a103cd2ffcf>\u001b[0m in \u001b[0;36m<module>\u001b[0;34m\u001b[0m\n\u001b[1;32m      1\u001b[0m \u001b[0;31m# Code to construct the barchart\u001b[0m\u001b[0;34m\u001b[0m\u001b[0;34m\u001b[0m\u001b[0;34m\u001b[0m\u001b[0m\n\u001b[0;32m----> 2\u001b[0;31m \u001b[0;32mfrom\u001b[0m \u001b[0mggplot\u001b[0m \u001b[0;32mimport\u001b[0m \u001b[0;34m*\u001b[0m\u001b[0;34m\u001b[0m\u001b[0;34m\u001b[0m\u001b[0m\n\u001b[0m\u001b[1;32m      3\u001b[0m \u001b[0;31m##i have been trying to figure out a work around for this error and I have not come to a conclusion\u001b[0m\u001b[0;34m\u001b[0m\u001b[0;34m\u001b[0m\u001b[0;34m\u001b[0m\u001b[0m\n",
      "\u001b[0;32m~/opt/anaconda3/lib/python3.8/site-packages/ggplot/__init__.py\u001b[0m in \u001b[0;36m<module>\u001b[0;34m\u001b[0m\n\u001b[1;32m     17\u001b[0m \u001b[0;34m\u001b[0m\u001b[0m\n\u001b[1;32m     18\u001b[0m \u001b[0;34m\u001b[0m\u001b[0m\n\u001b[0;32m---> 19\u001b[0;31m \u001b[0;32mfrom\u001b[0m \u001b[0;34m.\u001b[0m\u001b[0mgeoms\u001b[0m \u001b[0;32mimport\u001b[0m \u001b[0mgeom_area\u001b[0m\u001b[0;34m,\u001b[0m \u001b[0mgeom_blank\u001b[0m\u001b[0;34m,\u001b[0m \u001b[0mgeom_boxplot\u001b[0m\u001b[0;34m,\u001b[0m \u001b[0mgeom_line\u001b[0m\u001b[0;34m,\u001b[0m \u001b[0mgeom_point\u001b[0m\u001b[0;34m,\u001b[0m \u001b[0mgeom_jitter\u001b[0m\u001b[0;34m,\u001b[0m \u001b[0mgeom_histogram\u001b[0m\u001b[0;34m,\u001b[0m \u001b[0mgeom_density\u001b[0m\u001b[0;34m,\u001b[0m \u001b[0mgeom_hline\u001b[0m\u001b[0;34m,\u001b[0m \u001b[0mgeom_vline\u001b[0m\u001b[0;34m,\u001b[0m \u001b[0mgeom_bar\u001b[0m\u001b[0;34m,\u001b[0m \u001b[0mgeom_abline\u001b[0m\u001b[0;34m,\u001b[0m \u001b[0mgeom_tile\u001b[0m\u001b[0;34m,\u001b[0m \u001b[0mgeom_rect\u001b[0m\u001b[0;34m,\u001b[0m \u001b[0mgeom_bin2d\u001b[0m\u001b[0;34m,\u001b[0m \u001b[0mgeom_step\u001b[0m\u001b[0;34m,\u001b[0m \u001b[0mgeom_text\u001b[0m\u001b[0;34m,\u001b[0m \u001b[0mgeom_path\u001b[0m\u001b[0;34m,\u001b[0m \u001b[0mgeom_ribbon\u001b[0m\u001b[0;34m,\u001b[0m \u001b[0mgeom_now_its_art\u001b[0m\u001b[0;34m,\u001b[0m \u001b[0mgeom_violin\u001b[0m\u001b[0;34m,\u001b[0m \u001b[0mgeom_errorbar\u001b[0m\u001b[0;34m,\u001b[0m \u001b[0mgeom_polygon\u001b[0m\u001b[0;34m\u001b[0m\u001b[0;34m\u001b[0m\u001b[0m\n\u001b[0m\u001b[1;32m     20\u001b[0m \u001b[0;32mfrom\u001b[0m \u001b[0;34m.\u001b[0m\u001b[0mstats\u001b[0m \u001b[0;32mimport\u001b[0m \u001b[0mstat_smooth\u001b[0m\u001b[0;34m,\u001b[0m \u001b[0mstat_density\u001b[0m\u001b[0;34m\u001b[0m\u001b[0;34m\u001b[0m\u001b[0m\n\u001b[1;32m     21\u001b[0m \u001b[0;34m\u001b[0m\u001b[0m\n",
      "\u001b[0;32m~/opt/anaconda3/lib/python3.8/site-packages/ggplot/geoms/__init__.py\u001b[0m in \u001b[0;36m<module>\u001b[0;34m\u001b[0m\n\u001b[0;32m----> 1\u001b[0;31m \u001b[0;32mfrom\u001b[0m \u001b[0;34m.\u001b[0m\u001b[0mgeom_abline\u001b[0m \u001b[0;32mimport\u001b[0m \u001b[0mgeom_abline\u001b[0m\u001b[0;34m\u001b[0m\u001b[0;34m\u001b[0m\u001b[0m\n\u001b[0m\u001b[1;32m      2\u001b[0m \u001b[0;32mfrom\u001b[0m \u001b[0;34m.\u001b[0m\u001b[0mgeom_area\u001b[0m \u001b[0;32mimport\u001b[0m \u001b[0mgeom_area\u001b[0m\u001b[0;34m\u001b[0m\u001b[0;34m\u001b[0m\u001b[0m\n\u001b[1;32m      3\u001b[0m \u001b[0;32mfrom\u001b[0m \u001b[0;34m.\u001b[0m\u001b[0mgeom_bar\u001b[0m \u001b[0;32mimport\u001b[0m \u001b[0mgeom_bar\u001b[0m\u001b[0;34m\u001b[0m\u001b[0;34m\u001b[0m\u001b[0m\n\u001b[1;32m      4\u001b[0m \u001b[0;32mfrom\u001b[0m \u001b[0;34m.\u001b[0m\u001b[0mgeom_bin2d\u001b[0m \u001b[0;32mimport\u001b[0m \u001b[0mgeom_bin2d\u001b[0m\u001b[0;34m\u001b[0m\u001b[0;34m\u001b[0m\u001b[0m\n\u001b[1;32m      5\u001b[0m \u001b[0;32mfrom\u001b[0m \u001b[0;34m.\u001b[0m\u001b[0mgeom_blank\u001b[0m \u001b[0;32mimport\u001b[0m \u001b[0mgeom_blank\u001b[0m\u001b[0;34m\u001b[0m\u001b[0;34m\u001b[0m\u001b[0m\n",
      "\u001b[0;32m~/opt/anaconda3/lib/python3.8/site-packages/ggplot/geoms/geom_abline.py\u001b[0m in \u001b[0;36m<module>\u001b[0;34m\u001b[0m\n\u001b[0;32m----> 1\u001b[0;31m \u001b[0;32mfrom\u001b[0m \u001b[0;34m.\u001b[0m\u001b[0mgeom\u001b[0m \u001b[0;32mimport\u001b[0m \u001b[0mgeom\u001b[0m\u001b[0;34m\u001b[0m\u001b[0;34m\u001b[0m\u001b[0m\n\u001b[0m\u001b[1;32m      2\u001b[0m \u001b[0;34m\u001b[0m\u001b[0m\n\u001b[1;32m      3\u001b[0m \u001b[0;32mclass\u001b[0m \u001b[0mgeom_abline\u001b[0m\u001b[0;34m(\u001b[0m\u001b[0mgeom\u001b[0m\u001b[0;34m)\u001b[0m\u001b[0;34m:\u001b[0m\u001b[0;34m\u001b[0m\u001b[0;34m\u001b[0m\u001b[0m\n\u001b[1;32m      4\u001b[0m     \"\"\"\n\u001b[1;32m      5\u001b[0m     \u001b[0mLine\u001b[0m \u001b[0mspecified\u001b[0m \u001b[0mby\u001b[0m \u001b[0mslope\u001b[0m \u001b[0;32mand\u001b[0m \u001b[0mintercept\u001b[0m\u001b[0;34m\u001b[0m\u001b[0;34m\u001b[0m\u001b[0m\n",
      "\u001b[0;32m~/opt/anaconda3/lib/python3.8/site-packages/ggplot/geoms/geom.py\u001b[0m in \u001b[0;36m<module>\u001b[0;34m\u001b[0m\n\u001b[1;32m      1\u001b[0m from __future__ import (absolute_import, division, print_function,\n\u001b[1;32m      2\u001b[0m                         unicode_literals)\n\u001b[0;32m----> 3\u001b[0;31m \u001b[0;32mfrom\u001b[0m \u001b[0;34m.\u001b[0m\u001b[0;34m.\u001b[0m\u001b[0mggplot\u001b[0m \u001b[0;32mimport\u001b[0m \u001b[0mggplot\u001b[0m\u001b[0;34m\u001b[0m\u001b[0;34m\u001b[0m\u001b[0m\n\u001b[0m\u001b[1;32m      4\u001b[0m \u001b[0;32mfrom\u001b[0m \u001b[0;34m.\u001b[0m\u001b[0;34m.\u001b[0m\u001b[0maes\u001b[0m \u001b[0;32mimport\u001b[0m \u001b[0maes\u001b[0m\u001b[0;34m\u001b[0m\u001b[0;34m\u001b[0m\u001b[0m\n\u001b[1;32m      5\u001b[0m \u001b[0;34m\u001b[0m\u001b[0m\n",
      "\u001b[0;32m~/opt/anaconda3/lib/python3.8/site-packages/ggplot/ggplot.py\u001b[0m in \u001b[0;36m<module>\u001b[0;34m\u001b[0m\n\u001b[1;32m     11\u001b[0m \u001b[0;32mimport\u001b[0m \u001b[0mwarnings\u001b[0m\u001b[0;34m\u001b[0m\u001b[0;34m\u001b[0m\u001b[0m\n\u001b[1;32m     12\u001b[0m \u001b[0;34m\u001b[0m\u001b[0m\n\u001b[0;32m---> 13\u001b[0;31m \u001b[0;32mfrom\u001b[0m \u001b[0;34m.\u001b[0m\u001b[0maes\u001b[0m \u001b[0;32mimport\u001b[0m \u001b[0maes\u001b[0m\u001b[0;34m\u001b[0m\u001b[0;34m\u001b[0m\u001b[0m\n\u001b[0m\u001b[1;32m     14\u001b[0m \u001b[0;32mfrom\u001b[0m \u001b[0;34m.\u001b[0m\u001b[0mlegend\u001b[0m \u001b[0;32mimport\u001b[0m \u001b[0mmake_legend\u001b[0m\u001b[0;34m\u001b[0m\u001b[0;34m\u001b[0m\u001b[0m\n\u001b[1;32m     15\u001b[0m \u001b[0;32mfrom\u001b[0m \u001b[0;34m.\u001b[0m\u001b[0mthemes\u001b[0m \u001b[0;32mimport\u001b[0m \u001b[0mtheme_gray\u001b[0m\u001b[0;34m\u001b[0m\u001b[0;34m\u001b[0m\u001b[0m\n",
      "\u001b[0;32m~/opt/anaconda3/lib/python3.8/site-packages/ggplot/aes.py\u001b[0m in \u001b[0;36m<module>\u001b[0;34m\u001b[0m\n\u001b[1;32m      9\u001b[0m \u001b[0;32mfrom\u001b[0m \u001b[0mpatsy\u001b[0m\u001b[0;34m.\u001b[0m\u001b[0meval\u001b[0m \u001b[0;32mimport\u001b[0m \u001b[0mEvalEnvironment\u001b[0m\u001b[0;34m\u001b[0m\u001b[0;34m\u001b[0m\u001b[0m\n\u001b[1;32m     10\u001b[0m \u001b[0;34m\u001b[0m\u001b[0m\n\u001b[0;32m---> 11\u001b[0;31m \u001b[0;32mfrom\u001b[0m \u001b[0;34m.\u001b[0m \u001b[0;32mimport\u001b[0m \u001b[0mutils\u001b[0m\u001b[0;34m\u001b[0m\u001b[0;34m\u001b[0m\u001b[0m\n\u001b[0m\u001b[1;32m     12\u001b[0m \u001b[0;34m\u001b[0m\u001b[0m\n\u001b[1;32m     13\u001b[0m \u001b[0;32mimport\u001b[0m \u001b[0mnumpy\u001b[0m \u001b[0;32mas\u001b[0m \u001b[0mnp\u001b[0m\u001b[0;34m\u001b[0m\u001b[0;34m\u001b[0m\u001b[0m\n",
      "\u001b[0;32m~/opt/anaconda3/lib/python3.8/site-packages/ggplot/utils.py\u001b[0m in \u001b[0;36m<module>\u001b[0;34m\u001b[0m\n\u001b[1;32m     79\u001b[0m \u001b[0;34m\u001b[0m\u001b[0m\n\u001b[1;32m     80\u001b[0m date_types = (\n\u001b[0;32m---> 81\u001b[0;31m     \u001b[0mpd\u001b[0m\u001b[0;34m.\u001b[0m\u001b[0mtslib\u001b[0m\u001b[0;34m.\u001b[0m\u001b[0mTimestamp\u001b[0m\u001b[0;34m,\u001b[0m\u001b[0;34m\u001b[0m\u001b[0;34m\u001b[0m\u001b[0m\n\u001b[0m\u001b[1;32m     82\u001b[0m     \u001b[0mpd\u001b[0m\u001b[0;34m.\u001b[0m\u001b[0mDatetimeIndex\u001b[0m\u001b[0;34m,\u001b[0m\u001b[0;34m\u001b[0m\u001b[0;34m\u001b[0m\u001b[0m\n\u001b[1;32m     83\u001b[0m     \u001b[0mpd\u001b[0m\u001b[0;34m.\u001b[0m\u001b[0mPeriod\u001b[0m\u001b[0;34m,\u001b[0m\u001b[0;34m\u001b[0m\u001b[0;34m\u001b[0m\u001b[0m\n",
      "\u001b[0;32m~/opt/anaconda3/lib/python3.8/site-packages/pandas/__init__.py\u001b[0m in \u001b[0;36m__getattr__\u001b[0;34m(name)\u001b[0m\n\u001b[1;32m    262\u001b[0m         \u001b[0;32mreturn\u001b[0m \u001b[0m_SparseArray\u001b[0m\u001b[0;34m\u001b[0m\u001b[0;34m\u001b[0m\u001b[0m\n\u001b[1;32m    263\u001b[0m \u001b[0;34m\u001b[0m\u001b[0m\n\u001b[0;32m--> 264\u001b[0;31m     \u001b[0;32mraise\u001b[0m \u001b[0mAttributeError\u001b[0m\u001b[0;34m(\u001b[0m\u001b[0;34mf\"module 'pandas' has no attribute '{name}'\"\u001b[0m\u001b[0;34m)\u001b[0m\u001b[0;34m\u001b[0m\u001b[0;34m\u001b[0m\u001b[0m\n\u001b[0m\u001b[1;32m    265\u001b[0m \u001b[0;34m\u001b[0m\u001b[0m\n\u001b[1;32m    266\u001b[0m \u001b[0;34m\u001b[0m\u001b[0m\n",
      "\u001b[0;31mAttributeError\u001b[0m: module 'pandas' has no attribute 'tslib'"
     ]
    }
   ],
   "source": [
    "# Code to construct the barchart\n",
    "from ggplot import *\n",
    "##i have been trying to figure out a work around for this error and I have not come to a conclusion"
   ]
  },
  {
   "cell_type": "code",
   "execution_count": 27,
   "metadata": {},
   "outputs": [
    {
     "data": {
      "image/png": "[encoded data removed]",
      "text/plain": [
       "<Figure size 640x480 with 1 Axes>"
      ]
     },
     "metadata": {},
     "output_type": "display_data"
    },
    {
     "name": "stdout",
     "output_type": "stream",
     "text": [
      "\n"
     ]
    }
   ],
   "source": [
    "p = ggplot(df, aes(x='playlist_subgenre', fill='track_popularity')) + \\\n",
    "    geom_bar(position='fill') + \\\n",
    "    coord_flip()\n",
    "print(p)"
   ]
  },
  {
   "cell_type": "markdown",
   "metadata": {
    "id": "hG4NT8m-QrOX"
   },
   "source": [
    "Which category of playlist_subgenre is more likely to gain popularity?"
   ]
  },
  {
   "cell_type": "markdown",
   "metadata": {
    "id": "2Wf96QToQrOX"
   },
   "source": [
    "As indicated above, post-teen pop is the subgenre to gain popularity"
   ]
  },
  {
   "cell_type": "markdown",
   "metadata": {
    "id": "qaSULCSLQrOX"
   },
   "source": [
    "_____________"
   ]
  },
  {
   "cell_type": "markdown",
   "metadata": {
    "id": "cEyHXZNTQrOY"
   },
   "source": [
    "### Question 2: /10pts\n",
    "\n",
    "\n",
    "Now, you will create boxplots with x axis set to `playlist_genre` and y axis set to `instrumentalness` and color option set to `track_popularity`. Make sure to change the y axis scale into log10 scale for a better representation."
   ]
  },
  {
   "cell_type": "code",
   "execution_count": 43,
   "metadata": {
    "id": "Z2zMeeG1QrOY"
   },
   "outputs": [
    {
     "name": "stderr",
     "output_type": "stream",
     "text": [
      "/Users/oren/opt/anaconda3/lib/python3.8/site-packages/pandas/core/arraylike.py:402: RuntimeWarning: divide by zero encountered in log10\n",
      "/Users/oren/opt/anaconda3/lib/python3.8/site-packages/plotnine/layer.py:333: PlotnineWarning: stat_boxplot : Removed 11500 rows containing non-finite values.\n"
     ]
    },
    {
     "data": {
      "image/png": "[encoded data removed]",
      "text/plain": [
       "<Figure size 640x480 with 1 Axes>"
      ]
     },
     "metadata": {},
     "output_type": "display_data"
    },
    {
     "data": {
      "text/plain": [
       "<ggplot: (8763624192765)>"
      ]
     },
     "execution_count": 43,
     "metadata": {},
     "output_type": "execute_result"
    }
   ],
   "source": [
    "## Your code\n",
    "df['instrumentalness_log10'] = np.log10(df['instrumentalness'])\n",
    "(ggplot(df, aes(x='playlist_genre', y='instrumentalness_log10', fill='track_popularity'))\n",
    " + geom_boxplot()\n",
    " + labs(x='Playlist Genre', y='Log10 of Instrumentalness', fill='Track Popularity')) #for labels"
   ]
  },
  {
   "cell_type": "code",
   "execution_count": 44,
   "metadata": {},
   "outputs": [
    {
     "name": "stderr",
     "output_type": "stream",
     "text": [
      "/Users/oren/opt/anaconda3/lib/python3.8/site-packages/pandas/core/arraylike.py:402: RuntimeWarning: divide by zero encountered in log10\n",
      "/Users/oren/opt/anaconda3/lib/python3.8/site-packages/plotnine/layer.py:333: PlotnineWarning: stat_boxplot : Removed 11500 rows containing non-finite values.\n"
     ]
    },
    {
     "data": {
      "image/png": "[encoded data removed]",
      "text/plain": [
       "<Figure size 640x480 with 1 Axes>"
      ]
     },
     "metadata": {},
     "output_type": "display_data"
    },
    {
     "data": {
      "text/plain": [
       "<ggplot: (8765253970854)>"
      ]
     },
     "execution_count": 44,
     "metadata": {},
     "output_type": "execute_result"
    }
   ],
   "source": [
    "## Your code\n",
    "df['instrumentalness_log10'] = np.log10(df['instrumentalness'])\n",
    "(ggplot(df, aes(x='playlist_genre', y='instrumentalness_log10'))\n",
    " + geom_boxplot()\n",
    " + labs(x='Playlist Genre', y='Log10 of Instrumentalness')) #for labels"
   ]
  },
  {
   "cell_type": "markdown",
   "metadata": {
    "id": "xjGqsJkHQrOY"
   },
   "source": [
    "With track_popularity taken into account, does instrumentalness score differ within some of playlist genres?"
   ]
  },
  {
   "cell_type": "markdown",
   "metadata": {
    "id": "2kNAFum8QrOY"
   },
   "source": [
    "it is apparent that usually a track with higher popularity has a higher instrumentalness score"
   ]
  },
  {
   "cell_type": "markdown",
   "metadata": {
    "id": "xlUWhfmKQrOb"
   },
   "source": [
    "___________"
   ]
  },
  {
   "cell_type": "markdown",
   "metadata": {
    "id": "GMFFFTPgQrOb"
   },
   "source": [
    "### Question 3: /10\n",
    "\n",
    "Create a basic logistic regression model (with default penalization) named `model1`. You need to create a model pipeline to be fit later. (Use `solver='lbfgs'`, `max_iter=10000` and `random_state=0`)"
   ]
  },
  {
   "cell_type": "markdown",
   "metadata": {
    "id": "fxX8D0D5QrOc"
   },
   "source": [
    "The predictor variables are `mode`, and `loudness`. Use the following chunk of code. You will use `Data1` to build your model."
   ]
  },
  {
   "cell_type": "code",
   "execution_count": 45,
   "metadata": {
    "id": "VJ7YxoTHQrOc"
   },
   "outputs": [],
   "source": [
    "# Your code\n",
    "\n",
    "Data1 = df[['track_popularity', 'mode', 'loudness']] \n",
    "Data1 = pd.get_dummies(Data1, drop_first=True) \n",
    "Data1 = Data1.rename({'track_popularity_low': 'track_popularity'}, axis='columns') \n",
    "Data1.head()\n",
    "\n",
    "model1 = Pipeline([\n",
    "    ('scaler', StandardScaler()),\n",
    "    ('logreg', LogisticRegression(penalty='l2', solver='lbfgs', max_iter=10000, random_state=0))\n",
    "])\n"
   ]
  },
  {
   "cell_type": "markdown",
   "metadata": {
    "id": "r3p7WxjCQrOd"
   },
   "source": [
    "Now that you have created the pipeline, fit `model1` for predicting the target variable, track_popularity, with the two predictors. Use a 70/30 train-test split of the data, remember to set `random_state=0` in the function `train_test_split`. After that, evaluate this model plotting the ROC curve and reporting the AUC value. "
   ]
  },
  {
   "cell_type": "code",
   "execution_count": 46,
   "metadata": {
    "id": "Xsfeb7TJQrOd"
   },
   "outputs": [
    {
     "data": {
      "text/plain": [
       "Pipeline(steps=[('scaler', StandardScaler()),\n",
       "                ('logreg', LogisticRegression(max_iter=10000, random_state=0))])"
      ]
     },
     "execution_count": 46,
     "metadata": {},
     "output_type": "execute_result"
    }
   ],
   "source": [
    "# np.random.seed(0);np.random.rand(5)\n",
    "# Create the training and test data\n",
    "X = Data1.drop('track_popularity', axis='columns').values \n",
    "y = Data1.track_popularity.values \n",
    "\n",
    "Xtrain, Xtest, ytrain, ytest = train_test_split(X, y, test_size=0.3, random_state=0)\n",
    "\n",
    "#Fit the model\n",
    "model1.fit(Xtrain, ytrain)"
   ]
  },
  {
   "cell_type": "code",
   "execution_count": 47,
   "metadata": {
    "id": "_WUH81AmQrOd"
   },
   "outputs": [
    {
     "name": "stdout",
     "output_type": "stream",
     "text": [
      "0.566\n"
     ]
    },
    {
     "data": {
      "image/png": "[encoded data removed]",
      "text/plain": [
       "<Figure size 432x288 with 1 Axes>"
      ]
     },
     "metadata": {
      "needs_background": "light"
     },
     "output_type": "display_data"
    }
   ],
   "source": [
    "# Create the ROC curve and report AUC\n",
    "y_pred_prob_ = model1.predict_proba(Xtest)[:, 1]\n",
    "\n",
    "fpr1, tpr1, _ = roc_curve(ytest, y_pred_prob_) \n",
    "fpr, tpr, thresholds = roc_curve(ytest, y_pred_prob_)\n",
    "\n",
    "ax = sns.lineplot(x=fpr1,y=tpr1)\n",
    "\n",
    "ax.set_xlabel(\"FP Rate\")\n",
    "ax.set_ylabel(\"TP Rate\")\n",
    "\n",
    "print(auc(fpr1,tpr1).round(3))"
   ]
  },
  {
   "cell_type": "markdown",
   "metadata": {
    "id": "z5AtryUjQrOd"
   },
   "source": [
    "At this point, would you use the baseline model as your final model? Why or why not?"
   ]
  },
  {
   "cell_type": "markdown",
   "metadata": {
    "id": "PMwV6zYIQrOe"
   },
   "source": [
    "above is not a good classifier, as the auc is close to 0, and the roc is pretty linear with no clear ability to distinguish between classes well."
   ]
  },
  {
   "cell_type": "markdown",
   "metadata": {
    "id": "_4H1s8aXQrOe"
   },
   "source": [
    "____________"
   ]
  },
  {
   "cell_type": "markdown",
   "metadata": {
    "id": "RNfdL2r1QrOe"
   },
   "source": [
    "### Question 4: /40\n",
    "\n",
    "Here, we want to determine the best single numeric feature model to predict the track_popularity. To be specific, you are going to create a model per each predictor: 'danceability', 'energy', 'key', 'loudness', 'speechiness', 'acousticness', 'instrumentalness', 'liveness', 'valence', 'tempo', 'duration_m'. Make sure to use the cross-validation technique to make your decision. Please make sure to use 'pd.get_dummies(, drop_first=True)' to encode the target variable, and change the column name 'track_popularity_low' to 'track_popularity', as in previous question."
   ]
  },
  {
   "cell_type": "markdown",
   "metadata": {
    "id": "bXVfpsoPQrOe"
   },
   "source": [
    "You remember that *cross-validation* technique is used to find the expected test error of the models. In addition, in the next code, 5 different folds are displayed using 5 fold cross-validation. In this case it is used `StratifiedKFold()` function."
   ]
  },
  {
   "cell_type": "markdown",
   "metadata": {
    "id": "DhFdgljUQrOe"
   },
   "source": [
    "#### 4.1: /5\n",
    "**Define a function `AUC_calculation` with inputs `(X, y, index_train, index_test)`  which calculates the AUC of the `model1` trained on `index_train` and tested on `index_test`.**"
   ]
  },
  {
   "cell_type": "code",
   "execution_count": 48,
   "metadata": {
    "id": "bewwPK00QrOf"
   },
   "outputs": [],
   "source": [
    "# Your code\n",
    "def AUC_calculation(X, y, index_train, index_test):\n",
    "    Xtrain, ytrain = X.iloc[index_train], y.iloc[index_train]\n",
    "    Xtest, ytest = X.iloc[index_test], y.iloc[index_test]\n",
    "    \n",
    "    model1.fit(Xtrain,ytrain)\n",
    "    \n",
    "    y_pred_prob_ = model1.predict_proba(Xtest)[:, 1]\n",
    "\n",
    "    fpr1, tpr1, _ = roc_curve(ytest, y_pred_prob_) \n",
    "    fpr, tpr, thresholds = roc_curve(ytest, y_pred_prob_)\n",
    "    \n",
    "    roc_auc = auc(fpr1,tpr1).round(3)\n",
    "    \n",
    "    return roc_auc\n",
    "    "
   ]
  },
  {
   "cell_type": "markdown",
   "metadata": {
    "id": "swFFeY9JQrOf"
   },
   "source": [
    "#### 4.2: /8\n",
    "**Using `AUC_calculation` create a function named `AUC_cross_validation` which has as input (X, y, n_fold). `AUC_cross_validation` does a `n_fold` cross validation (using `StratifiedKFold`) and its output should be a list with the AUC for each fold.** "
   ]
  },
  {
   "cell_type": "code",
   "execution_count": 49,
   "metadata": {
    "id": "90HeM0BBQrOf"
   },
   "outputs": [],
   "source": [
    "# Your code\n",
    "def AUC_cross_validation(X,y,n_fold):\n",
    "    str_kf = StratifiedKFold(n_splits=n_fold) \n",
    "    auc_lst = []\n",
    "    for j, (index_train, index_test) in enumerate(str_kf.split(X,y)):\n",
    "        roc_auc = AUC_calculation(X, y, index_train, index_test)\n",
    "        auc_lst.append(roc_auc)\n",
    "#str_kf = StratifiedKFold(n_splits=5) for j, (index_train, index_test) in enumerate(str_kf.split(X,y)):\n",
    " ##enumerate has the index and the elements in the folds\n",
    " ##print(k, (index_train, index_test))\n",
    "#plt.plot(index_train, [j+1 for s in index_train], '.')\n",
    "#plt.title('Cross Validation ')\n",
    "    return auc_lst"
   ]
  },
  {
   "cell_type": "markdown",
   "metadata": {
    "id": "JYOq26FRQrOf"
   },
   "source": [
    "#### 4.3: /5\n",
    "**Now you are ready to estimate and compare through cross validation the performance of all the *simple models* that only use one numeric predictor as input. Prepare you dataset here!**"
   ]
  },
  {
   "cell_type": "code",
   "execution_count": 50,
   "metadata": {
    "id": "8biTXRo5QrOf"
   },
   "outputs": [
    {
     "data": {
      "text/html": [
       "<div>\n",
       "<style scoped>\n",
       "    .dataframe tbody tr th:only-of-type {\n",
       "        vertical-align: middle;\n",
       "    }\n",
       "\n",
       "    .dataframe tbody tr th {\n",
       "        vertical-align: top;\n",
       "    }\n",
       "\n",
       "    .dataframe thead th {\n",
       "        text-align: right;\n",
       "    }\n",
       "</style>\n",
       "<table border=\"1\" class=\"dataframe\">\n",
       "  <thead>\n",
       "    <tr style=\"text-align: right;\">\n",
       "      <th></th>\n",
       "      <th>danceability</th>\n",
       "      <th>energy</th>\n",
       "      <th>key</th>\n",
       "      <th>loudness</th>\n",
       "      <th>speechiness</th>\n",
       "      <th>acousticness</th>\n",
       "      <th>instrumentalness</th>\n",
       "      <th>liveness</th>\n",
       "      <th>valence</th>\n",
       "      <th>tempo</th>\n",
       "      <th>duration_m</th>\n",
       "      <th>track_popularity</th>\n",
       "    </tr>\n",
       "  </thead>\n",
       "  <tbody>\n",
       "    <tr>\n",
       "      <th>0</th>\n",
       "      <td>0.748</td>\n",
       "      <td>0.916</td>\n",
       "      <td>6</td>\n",
       "      <td>-2.634</td>\n",
       "      <td>0.0583</td>\n",
       "      <td>0.1020</td>\n",
       "      <td>0.000000</td>\n",
       "      <td>0.0653</td>\n",
       "      <td>0.518</td>\n",
       "      <td>122.036</td>\n",
       "      <td>3.245900</td>\n",
       "      <td>1</td>\n",
       "    </tr>\n",
       "    <tr>\n",
       "      <th>1</th>\n",
       "      <td>0.726</td>\n",
       "      <td>0.815</td>\n",
       "      <td>11</td>\n",
       "      <td>-4.969</td>\n",
       "      <td>0.0373</td>\n",
       "      <td>0.0724</td>\n",
       "      <td>0.004210</td>\n",
       "      <td>0.3570</td>\n",
       "      <td>0.693</td>\n",
       "      <td>99.972</td>\n",
       "      <td>2.710000</td>\n",
       "      <td>1</td>\n",
       "    </tr>\n",
       "    <tr>\n",
       "      <th>2</th>\n",
       "      <td>0.675</td>\n",
       "      <td>0.931</td>\n",
       "      <td>1</td>\n",
       "      <td>-3.432</td>\n",
       "      <td>0.0742</td>\n",
       "      <td>0.0794</td>\n",
       "      <td>0.000023</td>\n",
       "      <td>0.1100</td>\n",
       "      <td>0.613</td>\n",
       "      <td>124.008</td>\n",
       "      <td>2.943600</td>\n",
       "      <td>0</td>\n",
       "    </tr>\n",
       "    <tr>\n",
       "      <th>3</th>\n",
       "      <td>0.718</td>\n",
       "      <td>0.930</td>\n",
       "      <td>7</td>\n",
       "      <td>-3.778</td>\n",
       "      <td>0.1020</td>\n",
       "      <td>0.0287</td>\n",
       "      <td>0.000009</td>\n",
       "      <td>0.2040</td>\n",
       "      <td>0.277</td>\n",
       "      <td>121.956</td>\n",
       "      <td>2.818217</td>\n",
       "      <td>1</td>\n",
       "    </tr>\n",
       "    <tr>\n",
       "      <th>4</th>\n",
       "      <td>0.650</td>\n",
       "      <td>0.833</td>\n",
       "      <td>1</td>\n",
       "      <td>-4.672</td>\n",
       "      <td>0.0359</td>\n",
       "      <td>0.0803</td>\n",
       "      <td>0.000000</td>\n",
       "      <td>0.0833</td>\n",
       "      <td>0.725</td>\n",
       "      <td>123.976</td>\n",
       "      <td>3.150867</td>\n",
       "      <td>1</td>\n",
       "    </tr>\n",
       "  </tbody>\n",
       "</table>\n",
       "</div>"
      ],
      "text/plain": [
       "   danceability  energy  key  loudness  speechiness  acousticness  \\\n",
       "0         0.748   0.916    6    -2.634       0.0583        0.1020   \n",
       "1         0.726   0.815   11    -4.969       0.0373        0.0724   \n",
       "2         0.675   0.931    1    -3.432       0.0742        0.0794   \n",
       "3         0.718   0.930    7    -3.778       0.1020        0.0287   \n",
       "4         0.650   0.833    1    -4.672       0.0359        0.0803   \n",
       "\n",
       "   instrumentalness  liveness  valence    tempo  duration_m  track_popularity  \n",
       "0          0.000000    0.0653    0.518  122.036    3.245900                 1  \n",
       "1          0.004210    0.3570    0.693   99.972    2.710000                 1  \n",
       "2          0.000023    0.1100    0.613  124.008    2.943600                 0  \n",
       "3          0.000009    0.2040    0.277  121.956    2.818217                 1  \n",
       "4          0.000000    0.0833    0.725  123.976    3.150867                 1  "
      ]
     },
     "execution_count": 50,
     "metadata": {},
     "output_type": "execute_result"
    }
   ],
   "source": [
    "# Your code\n",
    "predictors = ['track_popularity','danceability', 'energy', 'key', \n",
    "            'loudness', 'speechiness', 'acousticness', \n",
    "            'instrumentalness', 'liveness', 'valence', \n",
    "            'tempo', 'duration_m']\n",
    "\n",
    "\n",
    "D = df[predictors]\n",
    "D = pd.get_dummies(D, drop_first=True) \n",
    "D = D.rename({'track_popularity_low': 'track_popularity'}, axis='columns') \n",
    "\n",
    "all_numeric_data = D[predictors].drop('track_popularity', axis='columns') \n",
    "\n",
    "D.head()"
   ]
  },
  {
   "cell_type": "markdown",
   "metadata": {
    "id": "gV9fTCLGQrOg"
   },
   "source": [
    "#### 4.4: /8\n",
    "\n",
    "**Use your function `AUC_cross_validation` to compute cross-validation estimates of the AUC for each single numeric feature model, use a data frame (named `AUC_models`) to report the AUC value for each fold and each of the models. (Use `n_fold=10`).**\n",
    "\n",
    "**The column names of `AUC_models` have to be in the form `Simple-numeric predictor variable`, e.g., `simple-tempo`.**"
   ]
  },
  {
   "cell_type": "code",
   "execution_count": 51,
   "metadata": {
    "id": "GGFsF5d8QrOg"
   },
   "outputs": [],
   "source": [
    "# Construct AUC_models dataframe\n",
    "AUC_models = pd.DataFrame(columns=['Fold'] + ['Simple-' + p for p in all_numeric_data])\n",
    "\n",
    "for p in all_numeric_data:\n",
    "    X = D[[p]]\n",
    "    y = D['track_popularity']\n",
    "    auc_lst = AUC_cross_validation(X, y, n_fold=10)\n",
    "    AUC_models[f'Simple-{p}'] = auc_lst\n",
    "# add the fold numbers to the AUC_models dataframe\n",
    "AUC_models['Fold'] = [f'Fold-{i}' for i in range(1, 11)]"
   ]
  },
  {
   "cell_type": "code",
   "execution_count": 52,
   "metadata": {
    "id": "idnPJrUjQrOg"
   },
   "outputs": [
    {
     "name": "stdout",
     "output_type": "stream",
     "text": [
      "      Fold  Simple-danceability  Simple-energy  Simple-key  Simple-loudness  \\\n",
      "0   Fold-1                0.556          0.607       0.482            0.553   \n",
      "1   Fold-2                0.487          0.358       0.530            0.710   \n",
      "2   Fold-3                0.465          0.579       0.517            0.529   \n",
      "3   Fold-4                0.751          0.554       0.458            0.625   \n",
      "4   Fold-5                0.470          0.569       0.527            0.436   \n",
      "5   Fold-6                0.459          0.553       0.515            0.586   \n",
      "6   Fold-7                0.644          0.395       0.488            0.745   \n",
      "7   Fold-8                0.528          0.447       0.513            0.691   \n",
      "8   Fold-9                0.580          0.867       0.518            0.338   \n",
      "9  Fold-10                0.542          0.674       0.495            0.468   \n",
      "\n",
      "   Simple-speechiness  Simple-acousticness  Simple-instrumentalness  \\\n",
      "0               0.459                0.597                    0.632   \n",
      "1               0.418                0.371                    0.664   \n",
      "2               0.292                0.556                    0.487   \n",
      "3               0.259                0.495                    0.658   \n",
      "4               0.432                0.566                    0.497   \n",
      "5               0.501                0.502                    0.585   \n",
      "6               0.546                0.518                    0.560   \n",
      "7               0.451                0.511                    0.691   \n",
      "8               0.458                0.800                    0.849   \n",
      "9               0.512                0.706                    0.710   \n",
      "\n",
      "   Simple-liveness  Simple-valence  Simple-tempo  Simple-duration_m  \n",
      "0            0.522           0.496         0.555              0.565  \n",
      "1            0.513           0.563         0.461              0.399  \n",
      "2            0.552           0.437         0.438              0.611  \n",
      "3            0.502           0.513         0.528              0.569  \n",
      "4            0.523           0.552         0.513              0.388  \n",
      "5            0.511           0.462         0.495              0.513  \n",
      "6            0.530           0.618         0.497              0.543  \n",
      "7            0.520           0.453         0.423              0.684  \n",
      "8            0.574           0.633         0.328              0.466  \n",
      "9            0.501           0.630         0.366              0.588  \n"
     ]
    }
   ],
   "source": [
    "# Print AUC_models dataframe \n",
    "print(AUC_models)"
   ]
  },
  {
   "cell_type": "markdown",
   "metadata": {
    "id": "0mfBTLfnQrOh"
   },
   "source": [
    "#### 4.5: /7\n",
    "\n",
    "**Decide which of the studied models has the best and the worst performance, using a boxplot (without presenting outliers) that shows the distribution of the previous AUC scores for every model.** (Do not forget labels!)"
   ]
  },
  {
   "cell_type": "code",
   "execution_count": 53,
   "metadata": {},
   "outputs": [
    {
     "data": {
      "image/png": "[encoded data removed]",
      "text/plain": [
       "<Figure size 1800x576 with 1 Axes>"
      ]
     },
     "metadata": {
      "needs_background": "light"
     },
     "output_type": "display_data"
    }
   ],
   "source": [
    "AUC_nofold = AUC_models.drop('Fold', axis='columns') \n",
    "AUC_nofold.plot(kind=\"box\", figsize = (25, 8), showfliers=False)\n",
    "plt.xlabel('Models')\n",
    "plt.ylabel('AUC') \n",
    "plt.show()"
   ]
  },
  {
   "cell_type": "markdown",
   "metadata": {
    "id": "PiuIHM2OQrOh"
   },
   "source": [
    "It appears that instrumentalness is the model with the best performance as it seems to have the highest median and the range starts and ends the highest. The model that seems to have the worst performance is either speechiness or tempo, as they both have small AUC."
   ]
  },
  {
   "cell_type": "markdown",
   "metadata": {
    "id": "8Rze33nJQrOh"
   },
   "source": [
    "#### 4.6: /7\n",
    "**Now, lets compare these models with the one including all the numeric variables** \n",
    "\n",
    "**You again will use  10-fold cross-validation to determine if this new model has better performance, and at the end, you want to plot the boxplots with the information of this new model.**  "
   ]
  },
  {
   "cell_type": "code",
   "execution_count": 66,
   "metadata": {
    "id": "MHGVcfPKQrOh"
   },
   "outputs": [
    {
     "data": {
      "image/png": "[encoded data removed]",
      "text/plain": [
       "<Figure size 2160x720 with 1 Axes>"
      ]
     },
     "metadata": {
      "needs_background": "light"
     },
     "output_type": "display_data"
    }
   ],
   "source": [
    "# Your code\n",
    "X = all_numeric_data\n",
    "y = D['track_popularity']\n",
    "\n",
    "All_num_AUC_model = pd.DataFrame(columns=['Fold'] + ['Simple-All_Numerical'])\n",
    "\n",
    "all_numeric_lst = AUC_cross_validation(X, y, n_fold=10)\n",
    "All_num_AUC_model['Simple-All_Numerical'] = all_numeric_lst\n",
    "All_num_AUC_model['Fold'] = [f'Fold-{i}' for i in range(1, 11)]\n",
    "\n",
    "All_num_AUC_nofold = All_num_AUC_model.drop('Fold', axis='columns')\n",
    "all_models = AUC_nofold.copy()\n",
    "all_models['Simple-All_Numerical'] = All_num_AUC_nofold.values\n",
    "\n",
    "all_models.plot(kind=\"box\", figsize = (30, 10), showfliers=False)\n",
    "plt.xlabel('Models')\n",
    "plt.ylabel('AUC') \n",
    "plt.show()"
   ]
  },
  {
   "cell_type": "markdown",
   "metadata": {
    "id": "Pn8cPzsiQrOi"
   },
   "source": [
    "_____________"
   ]
  },
  {
   "cell_type": "markdown",
   "metadata": {
    "id": "KEK9WRo5QrOi"
   },
   "source": [
    "### Question 5: /10\n",
    "\n",
    "Finally, you are going to include all the numeric predictors as well as the categorical variable `mode` in the model. Make sure to encode the categorical variable. Use the 10-fold cross-validation to evaluate the performance of this model. Print the AUC mean for all the models (including previous models) in ascending order."
   ]
  },
  {
   "cell_type": "code",
   "execution_count": 40,
   "metadata": {},
   "outputs": [],
   "source": [
    "#Hint: Specify degree=2 and do NOT include the column with power 0 \n",
    "#(i.e., the column with all elements being 1)"
   ]
  },
  {
   "cell_type": "code",
   "execution_count": 113,
   "metadata": {
    "scrolled": true
   },
   "outputs": [
    {
     "name": "stdout",
     "output_type": "stream",
     "text": [
      "('Simple-speechiness', 0.4328)\n",
      "('Simple-tempo', 0.4604)\n",
      "('Simple-key', 0.5043)\n",
      "('Simple-liveness', 0.5248)\n",
      "('Simple-duration_m', 0.5326)\n",
      "('Simple-valence', 0.5357)\n",
      "('Simple-danceability', 0.5482)\n",
      "('Simple-energy', 0.5603)\n",
      "('Simple-acousticness', 0.5622)\n",
      "('Simple-loudness', 0.5681)\n",
      "('Simple-instrumentalness', 0.6333)\n",
      "('Simple-with_mode', 0.6603)\n",
      "('Simple-All_Numerical', 0.6608)\n"
     ]
    }
   ],
   "source": [
    "# Your code\n",
    "new_data = df[predictors+[\"mode\"]]\n",
    "new_preds = new_data.drop('track_popularity', axis='columns') \n",
    "\n",
    "Data = pd.get_dummies(new_preds, drop_first=True) \n",
    "Data.head()\n",
    "\n",
    "mode_AUC_model = pd.DataFrame(columns=['Fold'] + ['Simple-with_mode'])\n",
    "\n",
    "X = Data\n",
    "y = D['track_popularity']\n",
    "\n",
    "mode_numeric_lst = AUC_cross_validation(X, y, n_fold=10)\n",
    "mode_AUC_model['Simple-with_mode'] = mode_numeric_lst\n",
    "mode_AUC_model['Fold'] = [f'Fold-{i}' for i in range(1, 11)]\n",
    "\n",
    "\n",
    "complete_all_models = all_models.copy()\n",
    "complete_all_models['Simple-with_mode'] = mode_AUC_model['Simple-with_mode'].values\n",
    "# complete_all_models\n",
    "mean_dct = {}\n",
    "for col in complete_all_models:\n",
    "    mean = np.mean(complete_all_models[col].values).round(4)\n",
    "    mean_dct[col] = mean\n",
    "    \n",
    "ascending_mean_list = sorted(mean_dct.items(), key=lambda x:x[1])\n",
    "for i in ascending_mean_list:\n",
    "    print(i)\n"
   ]
  },
  {
   "cell_type": "markdown",
   "metadata": {
    "id": "Uq-8d5KKQrOj"
   },
   "source": [
    "Which of the above models is the best model? Why? "
   ]
  },
  {
   "cell_type": "markdown",
   "metadata": {
    "id": "-lMD3NrZQrOj"
   },
   "source": [
    "The best model seems the be the simple-All_numerical model that contains the original 11 strictly numerical values, as it has the largest area under curve"
   ]
  },
  {
   "cell_type": "markdown",
   "metadata": {
    "id": "pyW6s0nGQrOj"
   },
   "source": [
    "______________"
   ]
  },
  {
   "cell_type": "markdown",
   "metadata": {
    "id": "B-o4HnvCQrOk"
   },
   "source": [
    "### Question 6: /15pts\n",
    "\n",
    "Now it is time to train it on all the training data. Estimate the performance of this model on the test data and do the following (For this, use a 70/30 train-test split of the data, remember to set `random_state=0` in the function `train_test_split` ): \n",
    "\n",
    "- Use boostrap technique to find the 95% CI for the AUC. \n",
    "- Plot the distribution of the boostrap AUC scores."
   ]
  },
  {
   "cell_type": "code",
   "execution_count": 117,
   "metadata": {},
   "outputs": [],
   "source": [
    "def bootstrap(y_true, y_pred, num_rounds=1000):\n",
    "    n = len(y_true)\n",
    "    aucs = np.zeros(num_rounds)\n",
    "    for i in range(num_rounds):\n",
    "        idx = np.random.choice(n, n, replace=True)\n",
    "        aucs[i] = roc_auc_score(y_true[idx], y_pred[idx])\n",
    "    return np.percentile(aucs, [2.5, 97.5]), aucs.mean()"
   ]
  },
  {
   "cell_type": "code",
   "execution_count": null,
   "metadata": {},
   "outputs": [],
   "source": [
    "def BootstrapPred(MODEL, X_train, y_train, X_test, numboot=100):\n",
    "    y_pred = np.zeros(numboot)\n",
    "    for i in range(numboot):\n",
    "        X_fit = X_train.sample(Xtrain.shape[0], replace=True)\n",
    "        y_fit = y_train[X_fit.index]\n",
    "        y_pred[i]=np.exp(MODEL.fit(X_fit, y_fit).predict(X_test)).mean() # record bootstrap statistic\n",
    "    return y_pred"
   ]
  },
  {
   "cell_type": "code",
   "execution_count": 122,
   "metadata": {
    "id": "B-Zb6SFDQrOk"
   },
   "outputs": [
    {
     "ename": "KeyError",
     "evalue": "'[4705, 9043, 1770, 6546, 255, 3490, 4376, 7619, 4799, 7654, 482, 1381, 590, 8208, 2598, 3854, 5999, 9029, 4784, 4123, 5803, 5010, 5006, 4812, 7681, 1287, 3109, 7495, 2452, 2191, 6159, 4523, 4342, 2557, 585, 653, 7758, 7629, 1157, 1685, 2286, 4365, 6545, 8489, 5663, 3340, 3275, 1105, 6719, 8322, 7042, 8515, 7147, 3195, 4031, 5216, 8440, 7634, 1476, 2618, 8505, 8857, 7756, 53, 5032, 2538, 3829, 2260, 4229, 1197, 4294, 8847, 5282, 4187, 2523, 2001, 2996, 1719, 2386, 6703, 4359, 6741, 1238, 4378, 8508, 8415, 7129, 623, 762, 1413, 8027, 3187, 2048, 3918, 2062, 1048, 7567, 5751, 3207, 5168, 5191, 3293, 5421, 1149, 4547, 5908, 4286, 5055, 1836, 7450, 5991, 843, 2561, 3469, 6512, 107, 5242, 4003, 5511, 8144, 4339, 8183, 6593, 3799, 3752, 1512, 1999, 2145, 7711, 6864, 1461, 3704, 721, 601, 4461, 2283, 3747, 8682, 2150, 1974, 3964, 2368, 8232, 5674, 7682, 7412, 4622, 7616, 4157, 5245, 5634, 4618, 554, 7019, 4385, 4869, 4736, 1659, 6757, 7736, 4146, 5143, 3726, 9218, 3100, 8823, 1956, 7225, 5429, 2097, 8323, 8042, 8674, 5525, 8832, 5992, 1248, 1849, 5139, 8660, 6300, 5158, 367, 3546, 3414, 465, 666, 3893, 8431, 1281, 7469, 3843, 5085, 713, 5524, 6081, 2029, 6181, 7181, 468, 1453, 784, 3441, 2065, 915, 4233, 5795, 57, 2334, 1365, 3792, 83, 2032, 5390, 5832, 2263, 884, 1179, 1345, 2428, 776, 7358, 6502, 4306, 8091, 9210, 5876, 6567, 2765, 2046, 2451, 1714, 5106, 109, 8751, 6842, 1401, 4205, 5072, 7246, 813, 8443, 5585, 6380, 8634, 6039, 3819, 8622, 6923, 5279, 3920, 8825, 3379, 7548, 2163, 1394, 4590, 4892, 5350, 1109, 1282, 9146, 2085, 3790, 7467, 3871, 8934, 1629, 6377, 2060, 7609, 2473, 2469, 871, 4291, 3764, 495, 442, 1631, 1778, 6430, 3296, 2095, 3816, 3198, 3129, 4542, 4428, 4614, 5230, 2397, 7490, 6542, 7518, 8313, 274, 4265, 4767, 3335, 4980, 8735, 5155, 1879, 5327, 8083, 1279, 4720, 8552, 3437, 8259, 7938, 7945, 7677, 4218, 6364, 4587, 1731, 3987, 421, 8269, 90, 4724, 6987, 475, 7760, 139, 8190, 4464, 6869, 4001, 4253, 1824, 3365, 2911, 7373, 3107, 9114, 4215, 2175, 2716, 4986, 8483, 3128, 6082, 5637, 5296, 5940, 2522, 328, 1403, 6769, 8205, 8557, 6241, 1326, 4174, 4948, 4813, 2603, 7823, 9264, 1881, 8290, 7625, 6565, 5842, 7572, 4681, 1112, 9076, 1223, 9283, 7960, 3786, 5, 8978, 1810, 4919, 6106, 2605, 2422, 7028, 6138, 4634, 8049, 3485, 2214, 5645, 678, 5678, 6124, 4015, 7862, 8139, 5955, 529, 849, 3661, 8203, 4095, 4971, 5630, 1674, 6861, 6583, 5901, 5880, 7332, 1912, 1862, 7315, 7884, 7127, 5029, 4655, 687, 2186, 7164, 2313, 2995, 290, 4472, 4085, 5787, 8055, 7912, 711, 534, 4972, 8651, 4162, 7354, 5120, 4527, 2273, 3957, 2965, 6838, 7887, 8098, 4503, 4865, 4225, 3592, 4561, 974, 2740, 1928, 1246, 531, 7234, 3930, 4570, 2281, 5649, 7728, 2871, 5450, 3334, 5535, 851, 4856, 3341, 7480, 5442, 5654, 3454, 6679, 5692, 6501, 9230, 2064, 6176, 7375, 3734, 4032, 564, 8990, 2487, 3017, 1543, 259, 5428, 77, 138, 4749, 2236, 3133, 4633, 2196, 6007, 7603, 2222, 6911, 1068, 1404, 4654, 7335, 984, 4943, 9161, 7219, 5054, 4932, 8538, 3482, 3812, 6976, 6707, 3891, 3407, 7733, 5135, 2480, 5228, 2569, 6508, 2847, 4543, 6829, 2034, 7035, 5200, 8944, 3145, 586, 8038, 3801, 5946, 2467, 2938, 4926, 6104, 5923, 8164, 5707, 8370, 8846, 6594, 3839, 1843, 2208, 6166, 7186, 3061, 7055, 3428, 1141, 3686, 346, 6036, 8113, 6324, 8567, 6436, 5939, 1304, 6194, 6120, 4805, 7623, 4270, 2775, 4210, 5784, 2805, 4744, 7085, 8991, 6102, 3996, 7463, 8994, 8044, 3210, 3589, 5894, 5338, 3750, 3160, 3425, 4221, 4167, 8912, 1866, 4190, 848, 7304, 1623, 134, 2441, 2502, 2580, 3894, 3074, 4399, 8105, 8799, 3573, 5111, 7196, 1827, 7069, 4377, 9215, 2405, 4998, 715, 3389, 3135, 8796, 4497, 2684, 2693, 4579, 253, 7592, 7111, 6742, 141, 4901, 4322, 5852, 7565, 5980, 7942, 3408, 6697, 9223, 6390, 3575, 6384, 4059, 4657, 2669, 2779, 5480, 3041, 8069, 5491, 4942, 24, 6446, 5310, 433, 2589, 4126, 6365, 2889, 7425, 4601, 1055, 5303, 1031, 5205, 646, 5344, 5182, 8471, 7052, 667, 7825, 803, 1816, 5884, 5658, 5598, 671, 6949, 7797, 1900, 3438, 7135, 1311, 368, 977, 8547, 2629, 5941, 6044, 8159, 6336, 5364, 7380, 9275, 8181, 6636, 2678, 4471, 8153, 8034, 1923, 5752, 3759, 3462, 1093, 2876, 4429, 5672, 8300, 8494, 3466, 2067, 5837, 2999, 2902, 3327, 2423, 1145, 7763, 2579, 3271, 2355, 8291, 674, 8605, 8911, 7615, 7381, 4452, 8428, 3978, 9227, 9229, 1767, 6652, 3235, 2749, 6299, 8504, 7511, 2751, 7627, 2895, 6386, 2532, 5581, 6736, 582, 5926, 3205, 7481, 9120, 8777, 333, 8926, 3702, 1463, 2608, 4686, 4307, 3126, 193, 6438, 7253, 3725, 1040, 277, 3386, 2498, 7713, 8838, 305, 3049, 8265, 1962, 5776, 4192, 3774, 5417, 6258, 1588, 4829, 4760, 5257, 50, 3613, 2053, 4462, 8938, 6600, 8533, 4669, 825, 854, 3406, 4621, 6650, 4854, 828, 2959, 8477, 7051, 5309, 2527, 2, 4690, 1727, 200, 478, 1481, 5001, 5533, 2643, 4469, 2988, 3013, 8332, 1198, 4785, 5994, 1812, 3958, 7659, 8543, 8740, 466, 4944, 3632, 5729, 5391, 7577, 8519, 7124, 7744, 180, 5251, 509, 1420, 7505, 4708, 6208, 8529, 9191, 8983, 5905, 7946, 6210, 460, 2254, 2141, 5477, 5399, 2372, 9098, 1491, 4513, 3817, 5316, 2497, 8125, 89, 286, 4480, 5376, 5372, 3105, 1445, 5564, 754, 4442, 4496, 7866, 6118, 3610, 127, 2450, 662, 2160, 3464, 4882, 657, 5651, 5024, 2432, 2293, 257, 4848, 4119, 5519, 8378, 1472, 3504, 1907, 7773, 5915, 1338, 205, 6690, 1877, 8525, 3524, 7651, 2909, 4875, 5486, 5867, 317, 4466, 3612, 1100, 7880, 8263, 4180, 7165, 3540, 8871, 1771, 2548, 1036, 3876, 1892, 541, 2897, 6555, 1551, 8568, 7257, 2447, 8600, 3458, 2707, 7766, 3954, 1902, 7122, 2851, 1119, 7784, 6163, 8081, 4094, 8899, 8739, 3465, 5582, 2404, 9054, 7935, 4695, 8741, 4134, 3650, 1407, 6454, 4222, 6766, 7348, 3785, 7235, 758, 8030, 5378, 263, 6451, 4733, 4596, 7050, 3767, 1743, 8976, 6825, 6460, 6647, 1389, 4363, 8517, 6717, 8805, 7397, 3570, 2342, 1742, 6832, 5599, 2686, 4796, 1042, 2102, 5956, 6327, 8012, 4331, 6726, 1080, 1130, 7116, 3184, 7444, 5683, 6695, 4975, 1435, 3347, 7521, 7310, 955, 6746, 58, 7905, 3139, 873, 2269, 4641, 898, 8852, 2495, 7517, 8499, 7198, 6835, 8842, 4997, 868, 4678, 40, 9041, 8014, 5830, 3582, 4766, 8288, 1736, 3657, 6040, 5550, 8060, 4930, 1890, 215, 8854, 6077, 207, 8681, 2530, 960, 1903, 2506, 4061, 7284, 6775, 8743, 767, 7306, 8285, 1718, 6724, 345, 6045, 3577, 1115, 805, 4304, 618, 6003, 2656, 5123, 262, 4739, 6764, 2979, 2499, 240, 1168, 5325, 5747, 6325, 6352, 8395, 1199, 247, 2573, 4729, 6855, 8023, 8564, 4350, 4605, 545, 7452, 2055, 7083, 3082, 2152, 9086, 3770, 84, 7101, 5698, 7874, 3955, 569, 8775, 1563, 9021, 2944, 2577, 5119, 2683, 6479, 8057, 839, 1650, 7931, 6350, 7600, 4768, 3051, 2130, 8629, 4649, 4328, 2352, 2010, 6402, 3170, 6790, 5730, 2072, 7390, 451, 9239, 480, 1309, 1932, 4292, 6462, 4642, 7925, 7102, 5523, 9135, 3909, 2843, 8224, 8628, 8074, 4810, 703, 4635, 360, 4198, 5255, 5009, 1492, 4697, 2490, 11, 2993, 2486, 5657, 4026, 5363, 5222, 746, 566, 1522, 6524, 2985, 8580, 7830, 7920, 4757, 5432, 6872, 2331, 4409, 6143, 2129, 689, 3835, 8502, 26, 859, 2832, 5003, 7093, 6383, 7003, 6668, 487, 4417, 1386, 1367, 6630, 2353, 1987, 2153, 5080, 4216, 2929, 6057, 7089, 1409, 5609, 1969, 8243, 2454, 4885, 6808, 7897, 4321, 5572, 3793, 6554, 318, 7105, 4361, 3423, 4957, 9036, 4620, 285, 8546, 860, 6657, 7813, 3421, 5011, 4896, 1240, 7533, 5447, 2731, 2946, 942, 1975, 7023, 6570, 3181, 3742, 6385, 1755, 1855, 1327, 5891, 6202, 8526, 6963, 7388, 4779, 256, 2252, 5482, 8982, 8180, 6656, 8672, 8247, 7432, 4178, 2565, 8050, 6461, 5851, 6160, 3915, 6464, 3084, 2351, 7729, 6556, 5680, 5382, 3755, 2624, 4132, 7596, 6772, 1337, 6010, 5968, 1784, 2274, 4517, 903, 3857, 6334, 7974, 8918, 9071, 2637, 1613, 2932, 3874, 786, 3670, 5229, 8310, 4182, 9270, 5215, 6849, 5320, 3360, 7992, 1521, 1531, 4088, 8684, 6191, 6514, 8940, 1260, 6715, 8007, 288, 5247, 6735, 7474, 4525, 7350, 2757, 2434, 6962, 3004, 2381, 6148, 4646, 4153, 1544, 872, 197, 7738, 5764, 213, 4876, 4257, 6541, 3411, 1664, 5945, 6000, 922, 6429, 4181, 6371, 2279, 5560, 6062, 5277, 5850, 4953, 7719, 4185, 6531, 186, 710, 844, 4437, 1528, 2076, 5505, 5924, 695, 8137, 8128, 4470, 8653, 7612, 1869, 8358, 3722, 4381, 8582, 3424, 5779, 1868, 1144, 8959, 4062, 1372, 2505, 2484, 8937, 7201, 7953, 525, 2823, 1655, 4250, 8186, 6358, 4353, 2815, 9245, 4886, 6485, 1823, 7531, 4781, 814, 5302, 2229, 5913, 3685, 6427, 3257, 551, 5583, 8270, 2367, 3824, 6792, 7215, 7259, 8821, 8418, 7090, 7180, 2171, 164, 9051, 8005, 6526, 7536, 3096, 8841, 3565, 6142, 8467, 2525, 8658, 7026, 6500, 4531, 1980, 2100, 8945, 6353, 2016, 583, 3923, 9183, 7040, 1206, 1959, 3741, 1737, 9180, 5021, 827, 1318, 3113, 6197, 592, 5502, 5879, 2570, 8328, 3031, 1929, 1393, 7889, 3809, 5844, 4709, 2715, 4789, 3625, 4973, 4160, 4748, 720, 7513, 7379, 6628, 6469, 5889, 1692, 347, 5929, 8762, 1713, 7818, 8473, 21, 20, 2366, 5789, 8465, 542, 3639, 7303, 4494, 3602, 7194, 7048, 2453, 6190, 5045, 5838, 5117, 149, 5534, 6571, 3780, 2591, 3648, 163, 6995, 1684, 2540, 1510, 773, 629, 7624, 5615, 7826, 4921, 1846, 4723, 510, 2127, 264, 9118, 842, 712, 3574, 2456, 7962, 8214, 6900, 8952, 3467, 856, 8677, 2421, 1997, 4811, 5420, 8503, 3694, 7703, 6056, 5517, 2869, 4740, 5712, 3867, 1456, 492, 327, 8831, 4815, 5571, 4280, 2314, 2061, 7492, 9251, 2165, 3672, 7355, 6915, 6676, 93, 1368, 2820, 3402, 2106, 925, 3154, 5426, 8433, 7059, 2554, 2724, 2012, 7575, 3297, 6363, 6073, 1215, 8468, 9194, 382, 513, 6426, 8747, 744, 3142, 7707, 6249, 8435, 2507, 4147, 4099, 8492, 5067, 8253, 4052, 4575, 7522, 3545, 2758, 5367, 3141, 1072, 1860, 2730, 7593, 5580, 5912, 1487, 7359, 2301, 1616, 7483, 8932, 8572, 4583, 8711, 2636, 1950, 910, 1294, 419, 2964, 280, 7560, 7643, 7410, 6141, 2031, 2493, 3736, 1740, 8430, 4392, 6520, 535, 1431, 9144, 2242, 9094, 577, 2602, 8849, 111, 3716, 9083, 4368, 4235, 1571, 7080, 6047, 6957, 8061, 8694, 4097, 3880, 7216, 8882, 4021, 5484, 493, 7917, 6875, 1960, 994, 7423, 4081, 4916, 7427, 3620, 4913, 467, 3095, 7584, 5050, 3635, 3568, 616, 2328, 5234, 1032, 3749, 3124, 8829, 8802, 920, 647, 912, 1506, 3158, 8786, 2752, 7932, 6920, 6876, 6238, 3698, 1292, 5198, 4195, 8620, 5280, 6117, 8560, 363, 4797, 9133, 8828, 116, 7929, 938, 1930, 4473, 1720, 4677, 2392, 6549, 3519, 3227, 6552, 5750, 8791, 2679, 8200, 7352, 6731, 1796, 457, 3924, 3104, 3405, 2671, 2309, 4206, 5020, 7250, 7377, 8749, 7865, 7400, 7342, 411, 6873, 6477, 6627, 565, 3754, 1954, 3643, 5202, 6951, 1895, 2257, 4863, 4612, 5724, 5512, 1887, 6273, 7669, 5213, 7822, 8613, 4778, 4356, 8101, 523, 8569, 2950, 2244, 9012, 1537, 2136, 7382, 8604, 2682, 8840, 4653, 2859, 4693, 4063, 5248, 8798, 4212, 2958, 967, 3679, 3252, 167, 7940, 5369, 8980, 9117, 2116, 7013, 5918, 7233, 6997, 1865, 7646, 6729, 211, 802, 1982, 5561, 7502, 4485, 1286, 3286, 5335, 4316, 6014, 1183, 5737, 1756, 434, 8234, 6448, 6867, 1904, 6221, 4170, 6532, 801, 1243, 5410, 6130, 1562, 561, 3810, 3703, 6257, 120, 7289, 8984, 3683, 1353, 5819, 222, 1825, 5595, 5846, 500, 2688, 1697, 8087, 7131, 2104, 7656, 1176, 4625, 2855, 5220, 9181, 8286, 8235, 7864, 7772, 7188, 8158, 4549, 2898, 1025, 4967, 8008, 4850, 4002, 8281, 5854, 3567, 2593, 8558, 458, 409, 9150, 2511, 6507, 2852, 479, 3791, 7445, 6782, 3757, 2078, 2891, 8534, 2114, 2380, 3221, 2138, 2797, 1733, 8168, 8808, 2670, 7667, 5860, 1729, 5706, 3523, 4012, 376, 8756, 3091, 7292, 4836, 8334, 5041, 6575, 6235, 3218, 4124, 7039, 7032, 2320, 8559, 9188, 7393, 2840, 1414, 1033, 5887, 1515, 4019, 8258, 1666, 3732, 7691, 3596, 8638, 907, 6305, 8397, 9257, 8155, 2836, 8610, 608, 5761, 8848, 8119, 1339, 1253, 4271, 4676, 7326, 5236, 8686, 4817, 724, 3030, 8196, 6711, 8254, 7441, 7027, 4255, 9136, 3322, 6374, 1335, 2718, 3731, 8299, 3921, 8070, 2654, 7447, 6048, 3245, 1375, 2088, 7037, 5552, 6521, 6250, 1257, 5209, 7824, 8624, 5156, 2913, 4905, 6110, 7514, 4096, 2000, 1625, 8388, 1221, 9010, 8002, 63, 5084, 3794, 7530, 1131, 244, 9265, 8472, 6414, 7848, 1269, 5133, 5150, 2280, 7941, 5708, 1014, 4259, 343, 2800, 4272, 3710, 7464, 2966, 8772, 9175, 3751, 3399, 9, 3007, 1478, 2228, 6266, 4325, 9222, 4223, 8166, 9049, 8287, 2986, 4105, 4398, 1933, 2183, 7563, 2853, 7872, 1152, 314, 896, 3669, 2837, 3333, 6945, 5996, 6424, 7835, 5239, 6688, 6961, 9172, 1422, 7493, 3011, 8194, 4189, 8642, 3827, 7262, 5515, 8361, 8154, 5633, 6579, 3447, 6290, 161, 1776, 4727, 1839, 831, 5632, 4754, 2438, 8875, 9052, 8475, 5401, 5125, 1949, 5947, 6215, 5498, 8444, 5869, 6788, 7285, 3497, 4073, 1973, 6337, 576, 8360, 2514, 7443, 6511, 2647, 6058, 3266, 2182, 4324, 8708, 5452, 3054, 407, 7740, 4554, 1200, 378, 6270, 9067, 7652, 1325, 5262, 6408, 5494, 1275, 6681, 9057, 67, 4459, 52, 7329, 3005, 7396, 7030, 386, 1535, 2825, 6860, 961, 2445, 5604, 5973, 5671, 7509, 5783, 4482, 8670, 3608, 4045, 7169, 8669, 6387, 5114, 6269, 2865, 15, 46, 9065, 2551, 6642, 4544, 1532, 4113, 4327, 3896, 578, 2892, 7179, 5030, 3396, 7408, 7594, 553, 7526, 4125, 7231, 8227, 4910, 3975, 2149, 9079, 8248, 199, 1552, 4300, 2714, 4770, 6941, 749, 2419, 1527, 3241, 2433, 4950, 3453, 8535, 8237, 3463, 5804, 5556, 3913, 1276, 5311, 5958, 4820, 1451, 8593, 5164, 6490, 7459, 6203, 4509, 3265, 1910, 3642, 7895, 995, 4982, 8146, 3591, 6614, 954, 370, 4574, 1534, 3962, 1272, 3073, 7258, 5513, 8228, 8699, 1585, 8837, 8606, 8217, 1573, 5758, 5102, 3098, 3884, 3029, 3056, 7771, 5573, 4660, 3323, 5985, 7021, 8920, 797, 1542, 6879, 7785, 8707, 8730, 8988, 6019, 3048, 3917, 1953, 933, 8160, 7387, 7173, 6381, 8992, 471, 212, 2810, 7365, 6420, 7296, 8901, 2256, 87, 9160, 5103, 1306, 7961, 8192, 4795, 8162, 5476, 7245, 10, 937, 8462, 4492, 8947, 320, 5735, 8974, 7202, 293, 1591, 7777, 2975, 5807, 6809, 726, 9022, 1852, 1095, 6026, 4600, 5623, 160, 353, 4219, 905, 2359, 1333, 3912, 6357, 5137, 1570, 2192, 3163, 5326, 7957, 6188, 4240, 7018, 3555, 8436, 2713, 1914, 5299, 7816, 7286, 2517, 1802, 7334, 2665, 5436, 1124, 2928, 636, 1516, 5396, 464, 6830, 985, 5359, 4107, 1642, 5259, 7324, 3228, 3410, 8602, 5177, 5100, 8401, 4537, 6699, 5023, 632, 1125, 4474, 1967, 3068, 1859, 4493, 2324, 4077, 3993, 781, 3055, 3943, 8565, 6533, 5629, 3179, 7399, 5260, 5434, 5607, 5853, 6990, 1417, 8250, 1672, 6050, 476, 3889, 7061, 6262, 7966, 5081, 3712, 7970, 71, 7821, 5516, 8542, 6787, 2957, 2674, 4366, 7608, 144, 2935, 5092, 2038, 9192, 4397, 8206, 5568, 549, 2170, 3788, 2045, 630, 6092, 3902, 5584, 7419, 605, 3312, 3355, 5091, 5631, 400, 4684, 2809, 1396, 359, 1430, 4090, 1193, 5052, 885, 857, 7748, 7795, 9237, 5098, 1283, 117, 113, 6822, 8485, 4121, 6967, 3684, 6070, 3671, 7706, 4006, 1374, 567, 5181, 4722, 5614, 7103, 3783, 6985, 1449, 611, 3486, 4184, 2056, 3966, 5736, 655, 7800, 5732, 5932, 2553, 7680, 7802, 3247, 4084, 3717, 2083, 9123, 310, 866, 5185, 5826, 5715, 4200, 7255, 996, 8893, 3378, 7580, 2472, 8025, 483, 1296, 7726, 8275, 1667, 3150, 4278, 4208, 2839, 5717, 4576, 6887, 4715, 4199, 5703, 669, 104, 5812, 9165, 1300, 596, 3000, 2662, 4416, 3653, 7237, 6680, 3418, 2981, 4846, 2613, 4652, 226, 9100, 5079, 2883, 1473, 7943, 4871, 5349, 1408, 9009, 6981, 6960, 5591, 9014, 2982, 2488, 2738, 6011, 8981, 928, 7878, 6807, 3922, 2089, 8989, 5545, 170, 2248, 2501, 9252, 4110, 4852, 6931, 356, 1580, 5771, 1614, 3292, 6341, 8715, 8874, 4246, 2706, 6744, 1819, 3249, 7549, 8112, 201, 7264, 8896, 6730, 3138, 6897, 469, 423, 966, 8063, 108, 4870, 174, 5160, 131, 6344, 3511, 4989, 6240, 47, 6659, 8571, 1896, 4236, 5295, 1350, 3328, 4010, 3452, 2789, 3123, 5256, 1803, 3688, 2417, 1171, 626, 1936, 6145, 6850, 1690, 8836, 4438, 1061, 6928, 2176, 983, 3517, 612, 1757, 7831, 8501, 5144, 1208, 8138, 8754, 5611, 4568, 4354, 384, 9113, 3982, 3494, 2036, 9008, 3946, 7836, 1051, 8722, 1167, 3189, 267, 5864, 4411, 3826, 190, 7796, 8891, 2209, 2311, 6318, 6252, 7867, 649, 4016, 3529, 8351, 72, 9185, 6376, 5046, 2755, 1704, 5627, 4334, 3944, 6568, 6581, 7242, 5919, 2005, 911, 5576, 3324, 5848, 3276, 4448, 3980, 8279, 4139, 6453, 2142, 6977, 330, 574, 1745, 5183, 602, 8881, 5265, 2811, 5749, 2645, 7853, 3919, 6272, 7689, 7058, 1397, 4828, 337, 5227, 1837, 5647, 2960, 3646, 2362, 533, 5977, 2767, 28, 8807, 4299, 425, 3174, 9169, 4305, 6564, 2211, 1935, 8080, 5171, 2026, 6754, 7683, 6174, 7488, 7610, 5122, 6779, 6091, 4384, 7271, 7113, 8185, 3627, 5593, 7328, 2667, 450, 6179, 1037, 8212, 3092, 3331, 6135, 1251, 9201, 979, 1158, 4311, 9176, 5381, 6605, 1214, 514, 6578, 3506, 7980, 7504, 8917, 3200, 5159, 4344, 7857, 3153, 5978, 8750, 4674, 2644, 1001, 1497, 3339, 7006, 3849, 7717, 4104, 152, 6686, 550, 997, 1236, 7645, 833, 2444, 7227, 7002, 5204, 5549, 4256, 1480, 7967, 3772, 6597, 504, 9107, 2877, 5596, 447, 3114, 1050, 2305, 6651, 6139, 2860, 6959, 5317, 4260, 7197, 7764, 4444, 4488, 5454, 5014, 3795, 5223, 8977, 5097, 8376, 7559, 2413, 2782, 2781, 5986, 7439, 6447, 6094, 6762, 6157, 4993, 708, 6051, 8765, 2632, 1610, 5481, 8963, 210, 890, 8294, 951, 1830, 2787, 2035, 4735, 3362, 1146, 3040, 8126, 8437, 8284, 3349, 1735, 233, 5526, 1196, 38, 4952, 6234, 1820, 7142, 1705, 3973, 354, 428, 6918, 5497, 2121, 1181, 1519, 4814, 8377, 7950, 5402, 2125, 852, 7424, 3771, 6037, 6281, 2199, 3542, 8696, 6041, 2193, 6468, 3242, 2219, 2970, 3369, 8182, 6759, 796, 5810, 8599, 5993, 3870, 5673, 9015, 2304, 8718, 137, 4995, 6589, 6335, 6049, 3942, 7611, 668, 5324, 904, 6074, 6988, 1122, 3626, 4490, 867, 2251, 5798, 3300, 2583, 5950, 3938, 6132, 7927, 8760, 3134, 527, 7046, 5503, 949, 418, 81, 739, 5471, 6953, 6340, 1436, 2659, 2914, 6474, 741, 3929, 9111, 6704, 2521, 5871, 8417, 3287, 3001, 6030, 361, 2401, 7022, 6972, 7991, 4535, 5095, 6544, 702, 9231, 1120, 9056, 473, 4161, 1848, 7207, 5646, 2741, 6760, 8348, 9031, 96, 1612, 395, 4364, 1555, 2934, 4065, 9221, 3178, 5221, 5305, 5412, 9142, 597, 2610, 2698, 615, 2098, 8986, 2435, 6689, 1066, 1213, 4783, 4648, 4186, 9093, 5337, 5983, 2640, 5059, 8033, 5033, 8404, 6276, 7630, 3282, 5027, 6251, 4135, 1744, 606, 3066, 1878, 6328, 1575, 6539, 3251, 237, 680, 5193, 970, 1188, 7339, 3326, 607, 7788, 3956, 6207, 2316, 1606, 5716, 8540, 5890, 1788, 853, 5773, 6113, 3953, 5290, 6921, 2695, 1577, 8167, 3936, 7290, 1204, 5995, 5504, 539, 6400, 1477, 344, 2927, 444, 2890, 8764, 4224, 1637, 5377, 2915, 8646, 3185, 1899, 9053, 1645, 417, 3927, 1185, 8782, 1475, 2562, 5677, 4358, 8876, 6025, 5833, 8941, 8448, 9087, 2210, 8301, 8773, 9208, 5700, 1395, 3693, 3067, 4599, 2406, 8165, 1273, 7498, 6434, 1485, 8276, 1917, 793, 3994, 7948, 4873, 2926, 8178, 7581, 2492, 2798, 8123, 7837, 4020, 8644, 1035, 1299, 372, 3284, 3903, 6843, 908, 2139, 3308, 7182, 3680, 2394, 1595, 782, 2144, 8452, 3605, 6837, 6111, 1323, 688, 1709, 6416, 4118, 8353, 445, 7247, 3461, 2780, 1202, 3304, 7547, 8851, 5818, 6185, 6893, 1508, 4679, 2760, 5473, 4338, 3789, 1822, 1927, 981, 95, 5178, 8607, 1398, 2864, 1484, 670, 4268, 7639, 2920, 3216, 4908, 6493, 8972, 4533, 3753, 8675, 7812, 3535, 1938, 239, 412, 9241, 2727, 3714, 5900, 27, 3343, 6465, 1489, 8419, 6576, 6401, 6412, 2953, 6219, 110, 6463, 2822, 3572, 1889, 7491, 1675, 17, 6708, 4966, 455, 7458, 6228, 3330, 4994, 3989, 3914, 2390, 5829, 5714, 6509, 5208, 2050, 3027, 7024, 5659, 2174, 4924, 4830, 3404, 7557, 7325, 306, 1117, 8922, 6749, 5802, 3034, 3985, 7228, 5121, 8520, 7606, 334, 8592, 4039, 5151, 9092, 6806, 4128, 5470, 1046, 945, 3500, 8331, 4264, 6702, 5713, 6116, 3313, 6786, 1898, 8318, 8939, 7479, 1009, 8256, 4845, 268, 2954, 3845, 7494, 7534, 2762, 3881, 8324, 3820, 5540, 3132, 7690, 8692, 7062, 6852, 3552, 7911, 6548, 6097, 6845, 6767, 4859, 7254, 7166, 7855, 7392, 7144, 3916, 8969, 3636, 1488, 1388, 4835, 7095, 9023, 2821, 6763, 9179, 3961, 4514, 1939, 6591, 3548, 5083, 1255, 3802, 269, 7200, 9195, 7047, 5472, 5602, 8804, 105, 214, 2828, 8768, 8093, 1946, 2295, 3213, 4530, 4759, 2167, 4719, 8189, 7882, 3390, 2833, 6640, 5096, 1703, 1723, 404, 3495, 4234, 8873, 8897, 7017, 4909, 1874, 4555, 6180, 8373, 8251, 7520, 2867, 2437, 5400, 8561, 3773, 6606, 9148, 2831, 1071, 6201, 7205, 3253, 3904, 2977, 6499, 2513, 2759, 3687, 5292, 3032, 1415, 2225, 2147, 9032, 491, 374, 5902, 6649, 8736, 8673, 1366, 3350, 6314, 8844, 4458, 2087, 2592, 49, 5681, 7440, 8806, 2699, 8820, 8618, 4500, 2878, 1934, 635, 7697, 2510, 8347, 2725, 2866, 3665, 2681, 8597, 4078, 5070, 5406, 7859, 9095, 2126, 7403, 2830, 3025, 6362, 391, 6342, 6958, 3143, 761, 7217, 1064, 8619, 6728, 1147, 8111, 3798, 5555, 2653, 3999, 6231, 3628, 6841, 5594, 1320, 2948, 2630, 5271, 6694, 5283, 5909, 512, 5743, 6338, 2785, 8655, 5785, 1424, 1538, 2148, 8211, 8914, 7984, 7190, 5874, 496, 3201, 5013, 9167, 4281, 2265, 4732, 9003, 7637, 656, 8757, 8625, 8445, 5690, 4756, 1162, 3556, 8971, 1546, 3260, 2333, 8118, 6379, 8639, 5071, 6709, 5148, 4457, 1349, 2249, 6407, 6637, 1945, 3878, 8497, 6332, 3709, 2427, 8721, 3196, 6748, 8778, 7716, 4923, 887, 5863, 8320, 8089, 4403, 6710, 1673, 9242, 5553, 6478, 8916, 2303, 462, 7321, 544, 2940, 1175, 2267, 3014, 2290, 5152, 4862, 6043, 6950, 7270, 2410, 1021, 3264, 1698, 73, 1465, 2300, 0, 6993, 6487, 1222, 4899, 9232, 86, 5748, 594, 3099, 4577, 5345, 6903, 7312, 8374, 14, 4087, 7730, 3083, 7152, 7368, 8752, 2768, 3837, 1159, 3087, 1815, 1504, 7361, 6187, 685, 7177, 6005, 4201, 2704, 8188, 8826, 4888, 6004, 4072, 6279, 8581, 7977, 4520, 3352, 3617, 2801, 5107, 501, 6452, 3202, 5531, 8116, 5801, 9039, 6672, 7995, 2223, 2354, 1256, 6874, 5628, 2178, 4964, 2457, 4232, 2973, 7074, 3808, 3192, 2918, 9081, 7506, 7378, 1023, 9147, 4374, 8131, 289, 8389, 497, 5878, 1695, 5201, 6339, 987, 3419, 6515, 3647, 562, 8075, 3713, 6584, 5805, 6367, 9062, 7098, 4611, 2720, 8032, 6561, 4851, 3934, 2412, 7647, 3947, 6306, 7856, 5664, 7924, 8824, 234, 1926, 7893, 5546, 2246, 8392, 638, 8652, 2555, 1249, 6603, 4154, 5873, 2848, 5099, 3699, 4556, 6388, 2771, 6592, 8252, 7313, 1280, 3990, 1882, 6119, 1747, 716, 5897, 6770, 1931, 9040, 41, 6415, 1525, 194, 3493, 2327, 3910, 430, 5087, 486, 7515, 4395, 1452, 6878, 3455, 732, 8407, 8591, 1156, 8621, 8095, 9038, 4176, 7852, 7278, 8539, 9027, 1798, 3451, 5793, 227, 4619, 8710, 4597, 7097, 1768, 8408, 3623, 3828, 6623, 8536, 4372, 7794, 1530, 8588, 4145, 2458, 4550, 621, 9072, 8411, 5304, 5384, 2816, 9026, 8776, 2115, 9226, 1978, 1233, 771, 3412, 7746, 8486, 3489, 4849, 8274, 8665, 8509, 742, 9121, 3233, 972, 3215, 7554, 1716, 1835, 1163, 1383, 5170, 3898, 8001, 2732, 8459, 2073, 1344, 1818, 530, 8133, 8648, 6432, 2111, 8962, 9246, 2408, 1539, 115, 4323, 3952, 4742, 2754, 3531, 532, 3299, 1918, 5600, 6129, 1989, 383, 6347, 3072, 2941, 4017, 9253, 6127, 9159, 8578, 8052, 5825, 8446, 4405, 1955, 6899, 2277, 8496, 7776, 2476, 3586, 2002, 1600, 3823, 1683, 9143, 2556, 5048, 3848, 2963, 8657, 6205, 4822, 5774, 1661, 2994, 8702, 2734, 432, 8368, 932, 628, 5872, 326, 7952, 91, 946, 4478, 4177, 8231, 2030, 3346, 5676, 4569, 2933, 1298, 7741, 8577, 4362, 3563, 6833, 8723, 2978, 3621, 3288, 5763, 3191, 3796, 6247, 8975, 2132, 6819, 2806, 2282, 5038, 3561, 3059, 8948, 8114, 6540, 7792, 5934, 5468, 5387, 5240, 2790, 7508, 5314, 673, 5903, 5195, 6243, 1750, 5669, 2766, 1850, 2746, 118, 3821, 5456, 6200, 4262, 4730, 2796, 1601, 1364, 307, 2382, 3479, 6287, 1764, 4974, 2799, 1599, 3735, 4207, 2071, 9164, 7578, 8713, 8913, 4510, 2584, 7819, 7617, 1468, 9106, 3729, 4602, 7671, 7226, 283, 4540, 8579, 1947, 1347, 3155, 1712, 5411, 8453, 7206, 5558, 4746, 7468, 1979, 5733, 7573, 6480, 5542, 7602, 4351, 6758, 1782, 1689, 1297, 1030, 6613, 3434, 3554, 593, 7159, 7774, 8906, 9151, 3981, 8010, 9047, 8720, 54, 3536, 8029, 6149, 9139, 3475, 3290, 266, 5925, 2885, 9220, 6904, 7108, 5965, 7524, 1017, 9091, 5849, 4101, 7846, 1558, 7751, 3217, 9177, 5115, 1224, 6394, 3564, 7930, 3811, 1856, 5034, 6723, 4196, 4370, 4387, 5246, 8731, 2880, 4332, 9134, 3306, 6866, 392, 6216, 3319, 5478, 2943, 6288, 4675, 8171, 4082, 3188, 6242, 6777, 1262, 1608, 804, 3571, 6827, 1010, 1134, 3728, 2123, 7904, 956, 3357, 8734, 3255, 5974, 2558, 7871, 5650, 7666, 2261, 4284, 16, 5756, 3167, 9166, 819, 3223, 229, 1232, 8176, 3204, 7268, 1004, 485, 7752, 6311, 9108, 6445, 3609, 4163, 3842, 7213, 4038, 7132, 6982, 1274, 8835, 4560, 4070, 8420, 9244, 8931, 588, 2989, 7221, 4396, 4928, 4911, 1840, 8365, 4302, 300, 8809, 3108, 4844, 8716, 2564, 7914, 9234, 6863, 863, 4931, 7383, 4227, 8298, 537, 3028, 3301, 2845, 4060, 7809, 7626, 5686, 2773, 55, 101, 8790, 3576, 7679, 7955, 5398, 7807, 2278, 4699, 3778, 7146, 1082, 5475, 9158, 6696, 7138, 1, 8970, 9045, 7854, 8745, 34, 8161, 3, 6483, 2737, 3513, 5414, 1806, 7244, 1462, 2166, 2289, 677, 7417, 3538, 9209, 9097, 8748, 5601, 7189, 3262, 2006, 1920, 1578, 7191, 8693, 7633, 6136, 738, 1604, 7314, 9058, 4834, 3371, 7134, 6824, 1590, 699] not in index'",
     "output_type": "error",
     "traceback": [
      "\u001b[0;31m---------------------------------------------------------------------------\u001b[0m",
      "\u001b[0;31mKeyError\u001b[0m                                  Traceback (most recent call last)",
      "\u001b[0;32m<ipython-input-122-666cdf21c1dd>\u001b[0m in \u001b[0;36m<module>\u001b[0;34m\u001b[0m\n\u001b[1;32m     13\u001b[0m \u001b[0mp_2\u001b[0m \u001b[0;34m=\u001b[0m \u001b[0;36m1\u001b[0m\u001b[0;34m-\u001b[0m\u001b[0mp_1\u001b[0m\u001b[0;34m\u001b[0m\u001b[0;34m\u001b[0m\u001b[0m\n\u001b[1;32m     14\u001b[0m \u001b[0;34m\u001b[0m\u001b[0m\n\u001b[0;32m---> 15\u001b[0;31m \u001b[0mci\u001b[0m\u001b[0;34m,\u001b[0m \u001b[0mauc_mean\u001b[0m \u001b[0;34m=\u001b[0m \u001b[0mbootstrap\u001b[0m\u001b[0;34m(\u001b[0m\u001b[0mytest\u001b[0m\u001b[0;34m,\u001b[0m \u001b[0my_test_pred\u001b[0m\u001b[0;34m)\u001b[0m\u001b[0;34m\u001b[0m\u001b[0;34m\u001b[0m\u001b[0m\n\u001b[0m\u001b[1;32m     16\u001b[0m \u001b[0;34m\u001b[0m\u001b[0m\n\u001b[1;32m     17\u001b[0m \u001b[0;34m\u001b[0m\u001b[0m\n",
      "\u001b[0;32m<ipython-input-117-cb67c4779dc9>\u001b[0m in \u001b[0;36mbootstrap\u001b[0;34m(y_true, y_pred, num_rounds)\u001b[0m\n\u001b[1;32m      4\u001b[0m     \u001b[0;32mfor\u001b[0m \u001b[0mi\u001b[0m \u001b[0;32min\u001b[0m \u001b[0mrange\u001b[0m\u001b[0;34m(\u001b[0m\u001b[0mnum_rounds\u001b[0m\u001b[0;34m)\u001b[0m\u001b[0;34m:\u001b[0m\u001b[0;34m\u001b[0m\u001b[0;34m\u001b[0m\u001b[0m\n\u001b[1;32m      5\u001b[0m         \u001b[0midx\u001b[0m \u001b[0;34m=\u001b[0m \u001b[0mnp\u001b[0m\u001b[0;34m.\u001b[0m\u001b[0mrandom\u001b[0m\u001b[0;34m.\u001b[0m\u001b[0mchoice\u001b[0m\u001b[0;34m(\u001b[0m\u001b[0mn\u001b[0m\u001b[0;34m,\u001b[0m \u001b[0mn\u001b[0m\u001b[0;34m,\u001b[0m \u001b[0mreplace\u001b[0m\u001b[0;34m=\u001b[0m\u001b[0;32mTrue\u001b[0m\u001b[0;34m)\u001b[0m\u001b[0;34m\u001b[0m\u001b[0;34m\u001b[0m\u001b[0m\n\u001b[0;32m----> 6\u001b[0;31m         \u001b[0maucs\u001b[0m\u001b[0;34m[\u001b[0m\u001b[0mi\u001b[0m\u001b[0;34m]\u001b[0m \u001b[0;34m=\u001b[0m \u001b[0mroc_auc_score\u001b[0m\u001b[0;34m(\u001b[0m\u001b[0my_true\u001b[0m\u001b[0;34m[\u001b[0m\u001b[0midx\u001b[0m\u001b[0;34m]\u001b[0m\u001b[0;34m,\u001b[0m \u001b[0my_pred\u001b[0m\u001b[0;34m[\u001b[0m\u001b[0midx\u001b[0m\u001b[0;34m]\u001b[0m\u001b[0;34m)\u001b[0m\u001b[0;34m\u001b[0m\u001b[0;34m\u001b[0m\u001b[0m\n\u001b[0m\u001b[1;32m      7\u001b[0m     \u001b[0;32mreturn\u001b[0m \u001b[0mnp\u001b[0m\u001b[0;34m.\u001b[0m\u001b[0mpercentile\u001b[0m\u001b[0;34m(\u001b[0m\u001b[0maucs\u001b[0m\u001b[0;34m,\u001b[0m \u001b[0;34m[\u001b[0m\u001b[0;36m2.5\u001b[0m\u001b[0;34m,\u001b[0m \u001b[0;36m97.5\u001b[0m\u001b[0;34m]\u001b[0m\u001b[0;34m)\u001b[0m\u001b[0;34m,\u001b[0m \u001b[0maucs\u001b[0m\u001b[0;34m.\u001b[0m\u001b[0mmean\u001b[0m\u001b[0;34m(\u001b[0m\u001b[0;34m)\u001b[0m\u001b[0;34m\u001b[0m\u001b[0;34m\u001b[0m\u001b[0m\n",
      "\u001b[0;32m~/opt/anaconda3/lib/python3.8/site-packages/pandas/core/series.py\u001b[0m in \u001b[0;36m__getitem__\u001b[0;34m(self, key)\u001b[0m\n\u001b[1;32m   1005\u001b[0m             \u001b[0;32mreturn\u001b[0m \u001b[0mself\u001b[0m\u001b[0;34m.\u001b[0m\u001b[0m_get_values\u001b[0m\u001b[0;34m(\u001b[0m\u001b[0mkey\u001b[0m\u001b[0;34m)\u001b[0m\u001b[0;34m\u001b[0m\u001b[0;34m\u001b[0m\u001b[0m\n\u001b[1;32m   1006\u001b[0m \u001b[0;34m\u001b[0m\u001b[0m\n\u001b[0;32m-> 1007\u001b[0;31m         \u001b[0;32mreturn\u001b[0m \u001b[0mself\u001b[0m\u001b[0;34m.\u001b[0m\u001b[0m_get_with\u001b[0m\u001b[0;34m(\u001b[0m\u001b[0mkey\u001b[0m\u001b[0;34m)\u001b[0m\u001b[0;34m\u001b[0m\u001b[0;34m\u001b[0m\u001b[0m\n\u001b[0m\u001b[1;32m   1008\u001b[0m \u001b[0;34m\u001b[0m\u001b[0m\n\u001b[1;32m   1009\u001b[0m     \u001b[0;32mdef\u001b[0m \u001b[0m_get_with\u001b[0m\u001b[0;34m(\u001b[0m\u001b[0mself\u001b[0m\u001b[0;34m,\u001b[0m \u001b[0mkey\u001b[0m\u001b[0;34m)\u001b[0m\u001b[0;34m:\u001b[0m\u001b[0;34m\u001b[0m\u001b[0;34m\u001b[0m\u001b[0m\n",
      "\u001b[0;32m~/opt/anaconda3/lib/python3.8/site-packages/pandas/core/series.py\u001b[0m in \u001b[0;36m_get_with\u001b[0;34m(self, key)\u001b[0m\n\u001b[1;32m   1040\u001b[0m             \u001b[0;31m#  (i.e. self.iloc) or label-based (i.e. self.loc)\u001b[0m\u001b[0;34m\u001b[0m\u001b[0;34m\u001b[0m\u001b[0;34m\u001b[0m\u001b[0m\n\u001b[1;32m   1041\u001b[0m             \u001b[0;32mif\u001b[0m \u001b[0;32mnot\u001b[0m \u001b[0mself\u001b[0m\u001b[0;34m.\u001b[0m\u001b[0mindex\u001b[0m\u001b[0;34m.\u001b[0m\u001b[0m_should_fallback_to_positional\u001b[0m\u001b[0;34m:\u001b[0m\u001b[0;34m\u001b[0m\u001b[0;34m\u001b[0m\u001b[0m\n\u001b[0;32m-> 1042\u001b[0;31m                 \u001b[0;32mreturn\u001b[0m \u001b[0mself\u001b[0m\u001b[0;34m.\u001b[0m\u001b[0mloc\u001b[0m\u001b[0;34m[\u001b[0m\u001b[0mkey\u001b[0m\u001b[0;34m]\u001b[0m\u001b[0;34m\u001b[0m\u001b[0;34m\u001b[0m\u001b[0m\n\u001b[0m\u001b[1;32m   1043\u001b[0m             \u001b[0;32melse\u001b[0m\u001b[0;34m:\u001b[0m\u001b[0;34m\u001b[0m\u001b[0;34m\u001b[0m\u001b[0m\n\u001b[1;32m   1044\u001b[0m                 \u001b[0;32mreturn\u001b[0m \u001b[0mself\u001b[0m\u001b[0;34m.\u001b[0m\u001b[0miloc\u001b[0m\u001b[0;34m[\u001b[0m\u001b[0mkey\u001b[0m\u001b[0;34m]\u001b[0m\u001b[0;34m\u001b[0m\u001b[0;34m\u001b[0m\u001b[0m\n",
      "\u001b[0;32m~/opt/anaconda3/lib/python3.8/site-packages/pandas/core/indexing.py\u001b[0m in \u001b[0;36m__getitem__\u001b[0;34m(self, key)\u001b[0m\n\u001b[1;32m   1071\u001b[0m \u001b[0;34m\u001b[0m\u001b[0m\n\u001b[1;32m   1072\u001b[0m             \u001b[0mmaybe_callable\u001b[0m \u001b[0;34m=\u001b[0m \u001b[0mcom\u001b[0m\u001b[0;34m.\u001b[0m\u001b[0mapply_if_callable\u001b[0m\u001b[0;34m(\u001b[0m\u001b[0mkey\u001b[0m\u001b[0;34m,\u001b[0m \u001b[0mself\u001b[0m\u001b[0;34m.\u001b[0m\u001b[0mobj\u001b[0m\u001b[0;34m)\u001b[0m\u001b[0;34m\u001b[0m\u001b[0;34m\u001b[0m\u001b[0m\n\u001b[0;32m-> 1073\u001b[0;31m             \u001b[0;32mreturn\u001b[0m \u001b[0mself\u001b[0m\u001b[0;34m.\u001b[0m\u001b[0m_getitem_axis\u001b[0m\u001b[0;34m(\u001b[0m\u001b[0mmaybe_callable\u001b[0m\u001b[0;34m,\u001b[0m \u001b[0maxis\u001b[0m\u001b[0;34m=\u001b[0m\u001b[0maxis\u001b[0m\u001b[0;34m)\u001b[0m\u001b[0;34m\u001b[0m\u001b[0;34m\u001b[0m\u001b[0m\n\u001b[0m\u001b[1;32m   1074\u001b[0m \u001b[0;34m\u001b[0m\u001b[0m\n\u001b[1;32m   1075\u001b[0m     \u001b[0;32mdef\u001b[0m \u001b[0m_is_scalar_access\u001b[0m\u001b[0;34m(\u001b[0m\u001b[0mself\u001b[0m\u001b[0;34m,\u001b[0m \u001b[0mkey\u001b[0m\u001b[0;34m:\u001b[0m \u001b[0mtuple\u001b[0m\u001b[0;34m)\u001b[0m\u001b[0;34m:\u001b[0m\u001b[0;34m\u001b[0m\u001b[0;34m\u001b[0m\u001b[0m\n",
      "\u001b[0;32m~/opt/anaconda3/lib/python3.8/site-packages/pandas/core/indexing.py\u001b[0m in \u001b[0;36m_getitem_axis\u001b[0;34m(self, key, axis)\u001b[0m\n\u001b[1;32m   1299\u001b[0m                     \u001b[0;32mraise\u001b[0m \u001b[0mValueError\u001b[0m\u001b[0;34m(\u001b[0m\u001b[0;34m\"Cannot index with multidimensional key\"\u001b[0m\u001b[0;34m)\u001b[0m\u001b[0;34m\u001b[0m\u001b[0;34m\u001b[0m\u001b[0m\n\u001b[1;32m   1300\u001b[0m \u001b[0;34m\u001b[0m\u001b[0m\n\u001b[0;32m-> 1301\u001b[0;31m                 \u001b[0;32mreturn\u001b[0m \u001b[0mself\u001b[0m\u001b[0;34m.\u001b[0m\u001b[0m_getitem_iterable\u001b[0m\u001b[0;34m(\u001b[0m\u001b[0mkey\u001b[0m\u001b[0;34m,\u001b[0m \u001b[0maxis\u001b[0m\u001b[0;34m=\u001b[0m\u001b[0maxis\u001b[0m\u001b[0;34m)\u001b[0m\u001b[0;34m\u001b[0m\u001b[0;34m\u001b[0m\u001b[0m\n\u001b[0m\u001b[1;32m   1302\u001b[0m \u001b[0;34m\u001b[0m\u001b[0m\n\u001b[1;32m   1303\u001b[0m             \u001b[0;31m# nested tuple slicing\u001b[0m\u001b[0;34m\u001b[0m\u001b[0;34m\u001b[0m\u001b[0;34m\u001b[0m\u001b[0m\n",
      "\u001b[0;32m~/opt/anaconda3/lib/python3.8/site-packages/pandas/core/indexing.py\u001b[0m in \u001b[0;36m_getitem_iterable\u001b[0;34m(self, key, axis)\u001b[0m\n\u001b[1;32m   1237\u001b[0m \u001b[0;34m\u001b[0m\u001b[0m\n\u001b[1;32m   1238\u001b[0m         \u001b[0;31m# A collection of keys\u001b[0m\u001b[0;34m\u001b[0m\u001b[0;34m\u001b[0m\u001b[0;34m\u001b[0m\u001b[0m\n\u001b[0;32m-> 1239\u001b[0;31m         \u001b[0mkeyarr\u001b[0m\u001b[0;34m,\u001b[0m \u001b[0mindexer\u001b[0m \u001b[0;34m=\u001b[0m \u001b[0mself\u001b[0m\u001b[0;34m.\u001b[0m\u001b[0m_get_listlike_indexer\u001b[0m\u001b[0;34m(\u001b[0m\u001b[0mkey\u001b[0m\u001b[0;34m,\u001b[0m \u001b[0maxis\u001b[0m\u001b[0;34m)\u001b[0m\u001b[0;34m\u001b[0m\u001b[0;34m\u001b[0m\u001b[0m\n\u001b[0m\u001b[1;32m   1240\u001b[0m         return self.obj._reindex_with_indexers(\n\u001b[1;32m   1241\u001b[0m             \u001b[0;34m{\u001b[0m\u001b[0maxis\u001b[0m\u001b[0;34m:\u001b[0m \u001b[0;34m[\u001b[0m\u001b[0mkeyarr\u001b[0m\u001b[0;34m,\u001b[0m \u001b[0mindexer\u001b[0m\u001b[0;34m]\u001b[0m\u001b[0;34m}\u001b[0m\u001b[0;34m,\u001b[0m \u001b[0mcopy\u001b[0m\u001b[0;34m=\u001b[0m\u001b[0;32mTrue\u001b[0m\u001b[0;34m,\u001b[0m \u001b[0mallow_dups\u001b[0m\u001b[0;34m=\u001b[0m\u001b[0;32mTrue\u001b[0m\u001b[0;34m\u001b[0m\u001b[0;34m\u001b[0m\u001b[0m\n",
      "\u001b[0;32m~/opt/anaconda3/lib/python3.8/site-packages/pandas/core/indexing.py\u001b[0m in \u001b[0;36m_get_listlike_indexer\u001b[0;34m(self, key, axis)\u001b[0m\n\u001b[1;32m   1430\u001b[0m         \u001b[0maxis_name\u001b[0m \u001b[0;34m=\u001b[0m \u001b[0mself\u001b[0m\u001b[0;34m.\u001b[0m\u001b[0mobj\u001b[0m\u001b[0;34m.\u001b[0m\u001b[0m_get_axis_name\u001b[0m\u001b[0;34m(\u001b[0m\u001b[0maxis\u001b[0m\u001b[0;34m)\u001b[0m\u001b[0;34m\u001b[0m\u001b[0;34m\u001b[0m\u001b[0m\n\u001b[1;32m   1431\u001b[0m \u001b[0;34m\u001b[0m\u001b[0m\n\u001b[0;32m-> 1432\u001b[0;31m         \u001b[0mkeyarr\u001b[0m\u001b[0;34m,\u001b[0m \u001b[0mindexer\u001b[0m \u001b[0;34m=\u001b[0m \u001b[0max\u001b[0m\u001b[0;34m.\u001b[0m\u001b[0m_get_indexer_strict\u001b[0m\u001b[0;34m(\u001b[0m\u001b[0mkey\u001b[0m\u001b[0;34m,\u001b[0m \u001b[0maxis_name\u001b[0m\u001b[0;34m)\u001b[0m\u001b[0;34m\u001b[0m\u001b[0;34m\u001b[0m\u001b[0m\n\u001b[0m\u001b[1;32m   1433\u001b[0m \u001b[0;34m\u001b[0m\u001b[0m\n\u001b[1;32m   1434\u001b[0m         \u001b[0;32mreturn\u001b[0m \u001b[0mkeyarr\u001b[0m\u001b[0;34m,\u001b[0m \u001b[0mindexer\u001b[0m\u001b[0;34m\u001b[0m\u001b[0;34m\u001b[0m\u001b[0m\n",
      "\u001b[0;32m~/opt/anaconda3/lib/python3.8/site-packages/pandas/core/indexes/base.py\u001b[0m in \u001b[0;36m_get_indexer_strict\u001b[0;34m(self, key, axis_name)\u001b[0m\n\u001b[1;32m   6068\u001b[0m             \u001b[0mkeyarr\u001b[0m\u001b[0;34m,\u001b[0m \u001b[0mindexer\u001b[0m\u001b[0;34m,\u001b[0m \u001b[0mnew_indexer\u001b[0m \u001b[0;34m=\u001b[0m \u001b[0mself\u001b[0m\u001b[0;34m.\u001b[0m\u001b[0m_reindex_non_unique\u001b[0m\u001b[0;34m(\u001b[0m\u001b[0mkeyarr\u001b[0m\u001b[0;34m)\u001b[0m\u001b[0;34m\u001b[0m\u001b[0;34m\u001b[0m\u001b[0m\n\u001b[1;32m   6069\u001b[0m \u001b[0;34m\u001b[0m\u001b[0m\n\u001b[0;32m-> 6070\u001b[0;31m         \u001b[0mself\u001b[0m\u001b[0;34m.\u001b[0m\u001b[0m_raise_if_missing\u001b[0m\u001b[0;34m(\u001b[0m\u001b[0mkeyarr\u001b[0m\u001b[0;34m,\u001b[0m \u001b[0mindexer\u001b[0m\u001b[0;34m,\u001b[0m \u001b[0maxis_name\u001b[0m\u001b[0;34m)\u001b[0m\u001b[0;34m\u001b[0m\u001b[0;34m\u001b[0m\u001b[0m\n\u001b[0m\u001b[1;32m   6071\u001b[0m \u001b[0;34m\u001b[0m\u001b[0m\n\u001b[1;32m   6072\u001b[0m         \u001b[0mkeyarr\u001b[0m \u001b[0;34m=\u001b[0m \u001b[0mself\u001b[0m\u001b[0;34m.\u001b[0m\u001b[0mtake\u001b[0m\u001b[0;34m(\u001b[0m\u001b[0mindexer\u001b[0m\u001b[0;34m)\u001b[0m\u001b[0;34m\u001b[0m\u001b[0;34m\u001b[0m\u001b[0m\n",
      "\u001b[0;32m~/opt/anaconda3/lib/python3.8/site-packages/pandas/core/indexes/base.py\u001b[0m in \u001b[0;36m_raise_if_missing\u001b[0;34m(self, key, indexer, axis_name)\u001b[0m\n\u001b[1;32m   6131\u001b[0m \u001b[0;34m\u001b[0m\u001b[0m\n\u001b[1;32m   6132\u001b[0m             \u001b[0mnot_found\u001b[0m \u001b[0;34m=\u001b[0m \u001b[0mlist\u001b[0m\u001b[0;34m(\u001b[0m\u001b[0mensure_index\u001b[0m\u001b[0;34m(\u001b[0m\u001b[0mkey\u001b[0m\u001b[0;34m)\u001b[0m\u001b[0;34m[\u001b[0m\u001b[0mmissing_mask\u001b[0m\u001b[0;34m.\u001b[0m\u001b[0mnonzero\u001b[0m\u001b[0;34m(\u001b[0m\u001b[0;34m)\u001b[0m\u001b[0;34m[\u001b[0m\u001b[0;36m0\u001b[0m\u001b[0;34m]\u001b[0m\u001b[0;34m]\u001b[0m\u001b[0;34m.\u001b[0m\u001b[0munique\u001b[0m\u001b[0;34m(\u001b[0m\u001b[0;34m)\u001b[0m\u001b[0;34m)\u001b[0m\u001b[0;34m\u001b[0m\u001b[0;34m\u001b[0m\u001b[0m\n\u001b[0;32m-> 6133\u001b[0;31m             \u001b[0;32mraise\u001b[0m \u001b[0mKeyError\u001b[0m\u001b[0;34m(\u001b[0m\u001b[0;34mf\"{not_found} not in index\"\u001b[0m\u001b[0;34m)\u001b[0m\u001b[0;34m\u001b[0m\u001b[0;34m\u001b[0m\u001b[0m\n\u001b[0m\u001b[1;32m   6134\u001b[0m \u001b[0;34m\u001b[0m\u001b[0m\n\u001b[1;32m   6135\u001b[0m     \u001b[0;34m@\u001b[0m\u001b[0moverload\u001b[0m\u001b[0;34m\u001b[0m\u001b[0;34m\u001b[0m\u001b[0m\n",
      "\u001b[0;31mKeyError\u001b[0m: '[4705, 9043, 1770, 6546, 255, 3490, 4376, 7619, 4799, 7654, 482, 1381, 590, 8208, 2598, 3854, 5999, 9029, 4784, 4123, 5803, 5010, 5006, 4812, 7681, 1287, 3109, 7495, 2452, 2191, 6159, 4523, 4342, 2557, 585, 653, 7758, 7629, 1157, 1685, 2286, 4365, 6545, 8489, 5663, 3340, 3275, 1105, 6719, 8322, 7042, 8515, 7147, 3195, 4031, 5216, 8440, 7634, 1476, 2618, 8505, 8857, 7756, 53, 5032, 2538, 3829, 2260, 4229, 1197, 4294, 8847, 5282, 4187, 2523, 2001, 2996, 1719, 2386, 6703, 4359, 6741, 1238, 4378, 8508, 8415, 7129, 623, 762, 1413, 8027, 3187, 2048, 3918, 2062, 1048, 7567, 5751, 3207, 5168, 5191, 3293, 5421, 1149, 4547, 5908, 4286, 5055, 1836, 7450, 5991, 843, 2561, 3469, 6512, 107, 5242, 4003, 5511, 8144, 4339, 8183, 6593, 3799, 3752, 1512, 1999, 2145, 7711, 6864, 1461, 3704, 721, 601, 4461, 2283, 3747, 8682, 2150, 1974, 3964, 2368, 8232, 5674, 7682, 7412, 4622, 7616, 4157, 5245, 5634, 4618, 554, 7019, 4385, 4869, 4736, 1659, 6757, 7736, 4146, 5143, 3726, 9218, 3100, 8823, 1956, 7225, 5429, 2097, 8323, 8042, 8674, 5525, 8832, 5992, 1248, 1849, 5139, 8660, 6300, 5158, 367, 3546, 3414, 465, 666, 3893, 8431, 1281, 7469, 3843, 5085, 713, 5524, 6081, 2029, 6181, 7181, 468, 1453, 784, 3441, 2065, 915, 4233, 5795, 57, 2334, 1365, 3792, 83, 2032, 5390, 5832, 2263, 884, 1179, 1345, 2428, 776, 7358, 6502, 4306, 8091, 9210, 5876, 6567, 2765, 2046, 2451, 1714, 5106, 109, 8751, 6842, 1401, 4205, 5072, 7246, 813, 8443, 5585, 6380, 8634, 6039, 3819, 8622, 6923, 5279, 3920, 8825, 3379, 7548, 2163, 1394, 4590, 4892, 5350, 1109, 1282, 9146, 2085, 3790, 7467, 3871, 8934, 1629, 6377, 2060, 7609, 2473, 2469, 871, 4291, 3764, 495, 442, 1631, 1778, 6430, 3296, 2095, 3816, 3198, 3129, 4542, 4428, 4614, 5230, 2397, 7490, 6542, 7518, 8313, 274, 4265, 4767, 3335, 4980, 8735, 5155, 1879, 5327, 8083, 1279, 4720, 8552, 3437, 8259, 7938, 7945, 7677, 4218, 6364, 4587, 1731, 3987, 421, 8269, 90, 4724, 6987, 475, 7760, 139, 8190, 4464, 6869, 4001, 4253, 1824, 3365, 2911, 7373, 3107, 9114, 4215, 2175, 2716, 4986, 8483, 3128, 6082, 5637, 5296, 5940, 2522, 328, 1403, 6769, 8205, 8557, 6241, 1326, 4174, 4948, 4813, 2603, 7823, 9264, 1881, 8290, 7625, 6565, 5842, 7572, 4681, 1112, 9076, 1223, 9283, 7960, 3786, 5, 8978, 1810, 4919, 6106, 2605, 2422, 7028, 6138, 4634, 8049, 3485, 2214, 5645, 678, 5678, 6124, 4015, 7862, 8139, 5955, 529, 849, 3661, 8203, 4095, 4971, 5630, 1674, 6861, 6583, 5901, 5880, 7332, 1912, 1862, 7315, 7884, 7127, 5029, 4655, 687, 2186, 7164, 2313, 2995, 290, 4472, 4085, 5787, 8055, 7912, 711, 534, 4972, 8651, 4162, 7354, 5120, 4527, 2273, 3957, 2965, 6838, 7887, 8098, 4503, 4865, 4225, 3592, 4561, 974, 2740, 1928, 1246, 531, 7234, 3930, 4570, 2281, 5649, 7728, 2871, 5450, 3334, 5535, 851, 4856, 3341, 7480, 5442, 5654, 3454, 6679, 5692, 6501, 9230, 2064, 6176, 7375, 3734, 4032, 564, 8990, 2487, 3017, 1543, 259, 5428, 77, 138, 4749, 2236, 3133, 4633, 2196, 6007, 7603, 2222, 6911, 1068, 1404, 4654, 7335, 984, 4943, 9161, 7219, 5054, 4932, 8538, 3482, 3812, 6976, 6707, 3891, 3407, 7733, 5135, 2480, 5228, 2569, 6508, 2847, 4543, 6829, 2034, 7035, 5200, 8944, 3145, 586, 8038, 3801, 5946, 2467, 2938, 4926, 6104, 5923, 8164, 5707, 8370, 8846, 6594, 3839, 1843, 2208, 6166, 7186, 3061, 7055, 3428, 1141, 3686, 346, 6036, 8113, 6324, 8567, 6436, 5939, 1304, 6194, 6120, 4805, 7623, 4270, 2775, 4210, 5784, 2805, 4744, 7085, 8991, 6102, 3996, 7463, 8994, 8044, 3210, 3589, 5894, 5338, 3750, 3160, 3425, 4221, 4167, 8912, 1866, 4190, 848, 7304, 1623, 134, 2441, 2502, 2580, 3894, 3074, 4399, 8105, 8799, 3573, 5111, 7196, 1827, 7069, 4377, 9215, 2405, 4998, 715, 3389, 3135, 8796, 4497, 2684, 2693, 4579, 253, 7592, 7111, 6742, 141, 4901, 4322, 5852, 7565, 5980, 7942, 3408, 6697, 9223, 6390, 3575, 6384, 4059, 4657, 2669, 2779, 5480, 3041, 8069, 5491, 4942, 24, 6446, 5310, 433, 2589, 4126, 6365, 2889, 7425, 4601, 1055, 5303, 1031, 5205, 646, 5344, 5182, 8471, 7052, 667, 7825, 803, 1816, 5884, 5658, 5598, 671, 6949, 7797, 1900, 3438, 7135, 1311, 368, 977, 8547, 2629, 5941, 6044, 8159, 6336, 5364, 7380, 9275, 8181, 6636, 2678, 4471, 8153, 8034, 1923, 5752, 3759, 3462, 1093, 2876, 4429, 5672, 8300, 8494, 3466, 2067, 5837, 2999, 2902, 3327, 2423, 1145, 7763, 2579, 3271, 2355, 8291, 674, 8605, 8911, 7615, 7381, 4452, 8428, 3978, 9227, 9229, 1767, 6652, 3235, 2749, 6299, 8504, 7511, 2751, 7627, 2895, 6386, 2532, 5581, 6736, 582, 5926, 3205, 7481, 9120, 8777, 333, 8926, 3702, 1463, 2608, 4686, 4307, 3126, 193, 6438, 7253, 3725, 1040, 277, 3386, 2498, 7713, 8838, 305, 3049, 8265, 1962, 5776, 4192, 3774, 5417, 6258, 1588, 4829, 4760, 5257, 50, 3613, 2053, 4462, 8938, 6600, 8533, 4669, 825, 854, 3406, 4621, 6650, 4854, 828, 2959, 8477, 7051, 5309, 2527, 2, 4690, 1727, 200, 478, 1481, 5001, 5533, 2643, 4469, 2988, 3013, 8332, 1198, 4785, 5994, 1812, 3958, 7659, 8543, 8740, 466, 4944, 3632, 5729, 5391, 7577, 8519, 7124, 7744, 180, 5251, 509, 1420, 7505, 4708, 6208, 8529, 9191, 8983, 5905, 7946, 6210, 460, 2254, 2141, 5477, 5399, 2372, 9098, 1491, 4513, 3817, 5316, 2497, 8125, 89, 286, 4480, 5376, 5372, 3105, 1445, 5564, 754, 4442, 4496, 7866, 6118, 3610, 127, 2450, 662, 2160, 3464, 4882, 657, 5651, 5024, 2432, 2293, 257, 4848, 4119, 5519, 8378, 1472, 3504, 1907, 7773, 5915, 1338, 205, 6690, 1877, 8525, 3524, 7651, 2909, 4875, 5486, 5867, 317, 4466, 3612, 1100, 7880, 8263, 4180, 7165, 3540, 8871, 1771, 2548, 1036, 3876, 1892, 541, 2897, 6555, 1551, 8568, 7257, 2447, 8600, 3458, 2707, 7766, 3954, 1902, 7122, 2851, 1119, 7784, 6163, 8081, 4094, 8899, 8739, 3465, 5582, 2404, 9054, 7935, 4695, 8741, 4134, 3650, 1407, 6454, 4222, 6766, 7348, 3785, 7235, 758, 8030, 5378, 263, 6451, 4733, 4596, 7050, 3767, 1743, 8976, 6825, 6460, 6647, 1389, 4363, 8517, 6717, 8805, 7397, 3570, 2342, 1742, 6832, 5599, 2686, 4796, 1042, 2102, 5956, 6327, 8012, 4331, 6726, 1080, 1130, 7116, 3184, 7444, 5683, 6695, 4975, 1435, 3347, 7521, 7310, 955, 6746, 58, 7905, 3139, 873, 2269, 4641, 898, 8852, 2495, 7517, 8499, 7198, 6835, 8842, 4997, 868, 4678, 40, 9041, 8014, 5830, 3582, 4766, 8288, 1736, 3657, 6040, 5550, 8060, 4930, 1890, 215, 8854, 6077, 207, 8681, 2530, 960, 1903, 2506, 4061, 7284, 6775, 8743, 767, 7306, 8285, 1718, 6724, 345, 6045, 3577, 1115, 805, 4304, 618, 6003, 2656, 5123, 262, 4739, 6764, 2979, 2499, 240, 1168, 5325, 5747, 6325, 6352, 8395, 1199, 247, 2573, 4729, 6855, 8023, 8564, 4350, 4605, 545, 7452, 2055, 7083, 3082, 2152, 9086, 3770, 84, 7101, 5698, 7874, 3955, 569, 8775, 1563, 9021, 2944, 2577, 5119, 2683, 6479, 8057, 839, 1650, 7931, 6350, 7600, 4768, 3051, 2130, 8629, 4649, 4328, 2352, 2010, 6402, 3170, 6790, 5730, 2072, 7390, 451, 9239, 480, 1309, 1932, 4292, 6462, 4642, 7925, 7102, 5523, 9135, 3909, 2843, 8224, 8628, 8074, 4810, 703, 4635, 360, 4198, 5255, 5009, 1492, 4697, 2490, 11, 2993, 2486, 5657, 4026, 5363, 5222, 746, 566, 1522, 6524, 2985, 8580, 7830, 7920, 4757, 5432, 6872, 2331, 4409, 6143, 2129, 689, 3835, 8502, 26, 859, 2832, 5003, 7093, 6383, 7003, 6668, 487, 4417, 1386, 1367, 6630, 2353, 1987, 2153, 5080, 4216, 2929, 6057, 7089, 1409, 5609, 1969, 8243, 2454, 4885, 6808, 7897, 4321, 5572, 3793, 6554, 318, 7105, 4361, 3423, 4957, 9036, 4620, 285, 8546, 860, 6657, 7813, 3421, 5011, 4896, 1240, 7533, 5447, 2731, 2946, 942, 1975, 7023, 6570, 3181, 3742, 6385, 1755, 1855, 1327, 5891, 6202, 8526, 6963, 7388, 4779, 256, 2252, 5482, 8982, 8180, 6656, 8672, 8247, 7432, 4178, 2565, 8050, 6461, 5851, 6160, 3915, 6464, 3084, 2351, 7729, 6556, 5680, 5382, 3755, 2624, 4132, 7596, 6772, 1337, 6010, 5968, 1784, 2274, 4517, 903, 3857, 6334, 7974, 8918, 9071, 2637, 1613, 2932, 3874, 786, 3670, 5229, 8310, 4182, 9270, 5215, 6849, 5320, 3360, 7992, 1521, 1531, 4088, 8684, 6191, 6514, 8940, 1260, 6715, 8007, 288, 5247, 6735, 7474, 4525, 7350, 2757, 2434, 6962, 3004, 2381, 6148, 4646, 4153, 1544, 872, 197, 7738, 5764, 213, 4876, 4257, 6541, 3411, 1664, 5945, 6000, 922, 6429, 4181, 6371, 2279, 5560, 6062, 5277, 5850, 4953, 7719, 4185, 6531, 186, 710, 844, 4437, 1528, 2076, 5505, 5924, 695, 8137, 8128, 4470, 8653, 7612, 1869, 8358, 3722, 4381, 8582, 3424, 5779, 1868, 1144, 8959, 4062, 1372, 2505, 2484, 8937, 7201, 7953, 525, 2823, 1655, 4250, 8186, 6358, 4353, 2815, 9245, 4886, 6485, 1823, 7531, 4781, 814, 5302, 2229, 5913, 3685, 6427, 3257, 551, 5583, 8270, 2367, 3824, 6792, 7215, 7259, 8821, 8418, 7090, 7180, 2171, 164, 9051, 8005, 6526, 7536, 3096, 8841, 3565, 6142, 8467, 2525, 8658, 7026, 6500, 4531, 1980, 2100, 8945, 6353, 2016, 583, 3923, 9183, 7040, 1206, 1959, 3741, 1737, 9180, 5021, 827, 1318, 3113, 6197, 592, 5502, 5879, 2570, 8328, 3031, 1929, 1393, 7889, 3809, 5844, 4709, 2715, 4789, 3625, 4973, 4160, 4748, 720, 7513, 7379, 6628, 6469, 5889, 1692, 347, 5929, 8762, 1713, 7818, 8473, 21, 20, 2366, 5789, 8465, 542, 3639, 7303, 4494, 3602, 7194, 7048, 2453, 6190, 5045, 5838, 5117, 149, 5534, 6571, 3780, 2591, 3648, 163, 6995, 1684, 2540, 1510, 773, 629, 7624, 5615, 7826, 4921, 1846, 4723, 510, 2127, 264, 9118, 842, 712, 3574, 2456, 7962, 8214, 6900, 8952, 3467, 856, 8677, 2421, 1997, 4811, 5420, 8503, 3694, 7703, 6056, 5517, 2869, 4740, 5712, 3867, 1456, 492, 327, 8831, 4815, 5571, 4280, 2314, 2061, 7492, 9251, 2165, 3672, 7355, 6915, 6676, 93, 1368, 2820, 3402, 2106, 925, 3154, 5426, 8433, 7059, 2554, 2724, 2012, 7575, 3297, 6363, 6073, 1215, 8468, 9194, 382, 513, 6426, 8747, 744, 3142, 7707, 6249, 8435, 2507, 4147, 4099, 8492, 5067, 8253, 4052, 4575, 7522, 3545, 2758, 5367, 3141, 1072, 1860, 2730, 7593, 5580, 5912, 1487, 7359, 2301, 1616, 7483, 8932, 8572, 4583, 8711, 2636, 1950, 910, 1294, 419, 2964, 280, 7560, 7643, 7410, 6141, 2031, 2493, 3736, 1740, 8430, 4392, 6520, 535, 1431, 9144, 2242, 9094, 577, 2602, 8849, 111, 3716, 9083, 4368, 4235, 1571, 7080, 6047, 6957, 8061, 8694, 4097, 3880, 7216, 8882, 4021, 5484, 493, 7917, 6875, 1960, 994, 7423, 4081, 4916, 7427, 3620, 4913, 467, 3095, 7584, 5050, 3635, 3568, 616, 2328, 5234, 1032, 3749, 3124, 8829, 8802, 920, 647, 912, 1506, 3158, 8786, 2752, 7932, 6920, 6876, 6238, 3698, 1292, 5198, 4195, 8620, 5280, 6117, 8560, 363, 4797, 9133, 8828, 116, 7929, 938, 1930, 4473, 1720, 4677, 2392, 6549, 3519, 3227, 6552, 5750, 8791, 2679, 8200, 7352, 6731, 1796, 457, 3924, 3104, 3405, 2671, 2309, 4206, 5020, 7250, 7377, 8749, 7865, 7400, 7342, 411, 6873, 6477, 6627, 565, 3754, 1954, 3643, 5202, 6951, 1895, 2257, 4863, 4612, 5724, 5512, 1887, 6273, 7669, 5213, 7822, 8613, 4778, 4356, 8101, 523, 8569, 2950, 2244, 9012, 1537, 2136, 7382, 8604, 2682, 8840, 4653, 2859, 4693, 4063, 5248, 8798, 4212, 2958, 967, 3679, 3252, 167, 7940, 5369, 8980, 9117, 2116, 7013, 5918, 7233, 6997, 1865, 7646, 6729, 211, 802, 1982, 5561, 7502, 4485, 1286, 3286, 5335, 4316, 6014, 1183, 5737, 1756, 434, 8234, 6448, 6867, 1904, 6221, 4170, 6532, 801, 1243, 5410, 6130, 1562, 561, 3810, 3703, 6257, 120, 7289, 8984, 3683, 1353, 5819, 222, 1825, 5595, 5846, 500, 2688, 1697, 8087, 7131, 2104, 7656, 1176, 4625, 2855, 5220, 9181, 8286, 8235, 7864, 7772, 7188, 8158, 4549, 2898, 1025, 4967, 8008, 4850, 4002, 8281, 5854, 3567, 2593, 8558, 458, 409, 9150, 2511, 6507, 2852, 479, 3791, 7445, 6782, 3757, 2078, 2891, 8534, 2114, 2380, 3221, 2138, 2797, 1733, 8168, 8808, 2670, 7667, 5860, 1729, 5706, 3523, 4012, 376, 8756, 3091, 7292, 4836, 8334, 5041, 6575, 6235, 3218, 4124, 7039, 7032, 2320, 8559, 9188, 7393, 2840, 1414, 1033, 5887, 1515, 4019, 8258, 1666, 3732, 7691, 3596, 8638, 907, 6305, 8397, 9257, 8155, 2836, 8610, 608, 5761, 8848, 8119, 1339, 1253, 4271, 4676, 7326, 5236, 8686, 4817, 724, 3030, 8196, 6711, 8254, 7441, 7027, 4255, 9136, 3322, 6374, 1335, 2718, 3731, 8299, 3921, 8070, 2654, 7447, 6048, 3245, 1375, 2088, 7037, 5552, 6521, 6250, 1257, 5209, 7824, 8624, 5156, 2913, 4905, 6110, 7514, 4096, 2000, 1625, 8388, 1221, 9010, 8002, 63, 5084, 3794, 7530, 1131, 244, 9265, 8472, 6414, 7848, 1269, 5133, 5150, 2280, 7941, 5708, 1014, 4259, 343, 2800, 4272, 3710, 7464, 2966, 8772, 9175, 3751, 3399, 9, 3007, 1478, 2228, 6266, 4325, 9222, 4223, 8166, 9049, 8287, 2986, 4105, 4398, 1933, 2183, 7563, 2853, 7872, 1152, 314, 896, 3669, 2837, 3333, 6945, 5996, 6424, 7835, 5239, 6688, 6961, 9172, 1422, 7493, 3011, 8194, 4189, 8642, 3827, 7262, 5515, 8361, 8154, 5633, 6579, 3447, 6290, 161, 1776, 4727, 1839, 831, 5632, 4754, 2438, 8875, 9052, 8475, 5401, 5125, 1949, 5947, 6215, 5498, 8444, 5869, 6788, 7285, 3497, 4073, 1973, 6337, 576, 8360, 2514, 7443, 6511, 2647, 6058, 3266, 2182, 4324, 8708, 5452, 3054, 407, 7740, 4554, 1200, 378, 6270, 9067, 7652, 1325, 5262, 6408, 5494, 1275, 6681, 9057, 67, 4459, 52, 7329, 3005, 7396, 7030, 386, 1535, 2825, 6860, 961, 2445, 5604, 5973, 5671, 7509, 5783, 4482, 8670, 3608, 4045, 7169, 8669, 6387, 5114, 6269, 2865, 15, 46, 9065, 2551, 6642, 4544, 1532, 4113, 4327, 3896, 578, 2892, 7179, 5030, 3396, 7408, 7594, 553, 7526, 4125, 7231, 8227, 4910, 3975, 2149, 9079, 8248, 199, 1552, 4300, 2714, 4770, 6941, 749, 2419, 1527, 3241, 2433, 4950, 3453, 8535, 8237, 3463, 5804, 5556, 3913, 1276, 5311, 5958, 4820, 1451, 8593, 5164, 6490, 7459, 6203, 4509, 3265, 1910, 3642, 7895, 995, 4982, 8146, 3591, 6614, 954, 370, 4574, 1534, 3962, 1272, 3073, 7258, 5513, 8228, 8699, 1585, 8837, 8606, 8217, 1573, 5758, 5102, 3098, 3884, 3029, 3056, 7771, 5573, 4660, 3323, 5985, 7021, 8920, 797, 1542, 6879, 7785, 8707, 8730, 8988, 6019, 3048, 3917, 1953, 933, 8160, 7387, 7173, 6381, 8992, 471, 212, 2810, 7365, 6420, 7296, 8901, 2256, 87, 9160, 5103, 1306, 7961, 8192, 4795, 8162, 5476, 7245, 10, 937, 8462, 4492, 8947, 320, 5735, 8974, 7202, 293, 1591, 7777, 2975, 5807, 6809, 726, 9022, 1852, 1095, 6026, 4600, 5623, 160, 353, 4219, 905, 2359, 1333, 3912, 6357, 5137, 1570, 2192, 3163, 5326, 7957, 6188, 4240, 7018, 3555, 8436, 2713, 1914, 5299, 7816, 7286, 2517, 1802, 7334, 2665, 5436, 1124, 2928, 636, 1516, 5396, 464, 6830, 985, 5359, 4107, 1642, 5259, 7324, 3228, 3410, 8602, 5177, 5100, 8401, 4537, 6699, 5023, 632, 1125, 4474, 1967, 3068, 1859, 4493, 2324, 4077, 3993, 781, 3055, 3943, 8565, 6533, 5629, 3179, 7399, 5260, 5434, 5607, 5853, 6990, 1417, 8250, 1672, 6050, 476, 3889, 7061, 6262, 7966, 5081, 3712, 7970, 71, 7821, 5516, 8542, 6787, 2957, 2674, 4366, 7608, 144, 2935, 5092, 2038, 9192, 4397, 8206, 5568, 549, 2170, 3788, 2045, 630, 6092, 3902, 5584, 7419, 605, 3312, 3355, 5091, 5631, 400, 4684, 2809, 1396, 359, 1430, 4090, 1193, 5052, 885, 857, 7748, 7795, 9237, 5098, 1283, 117, 113, 6822, 8485, 4121, 6967, 3684, 6070, 3671, 7706, 4006, 1374, 567, 5181, 4722, 5614, 7103, 3783, 6985, 1449, 611, 3486, 4184, 2056, 3966, 5736, 655, 7800, 5732, 5932, 2553, 7680, 7802, 3247, 4084, 3717, 2083, 9123, 310, 866, 5185, 5826, 5715, 4200, 7255, 996, 8893, 3378, 7580, 2472, 8025, 483, 1296, 7726, 8275, 1667, 3150, 4278, 4208, 2839, 5717, 4576, 6887, 4715, 4199, 5703, 669, 104, 5812, 9165, 1300, 596, 3000, 2662, 4416, 3653, 7237, 6680, 3418, 2981, 4846, 2613, 4652, 226, 9100, 5079, 2883, 1473, 7943, 4871, 5349, 1408, 9009, 6981, 6960, 5591, 9014, 2982, 2488, 2738, 6011, 8981, 928, 7878, 6807, 3922, 2089, 8989, 5545, 170, 2248, 2501, 9252, 4110, 4852, 6931, 356, 1580, 5771, 1614, 3292, 6341, 8715, 8874, 4246, 2706, 6744, 1819, 3249, 7549, 8112, 201, 7264, 8896, 6730, 3138, 6897, 469, 423, 966, 8063, 108, 4870, 174, 5160, 131, 6344, 3511, 4989, 6240, 47, 6659, 8571, 1896, 4236, 5295, 1350, 3328, 4010, 3452, 2789, 3123, 5256, 1803, 3688, 2417, 1171, 626, 1936, 6145, 6850, 1690, 8836, 4438, 1061, 6928, 2176, 983, 3517, 612, 1757, 7831, 8501, 5144, 1208, 8138, 8754, 5611, 4568, 4354, 384, 9113, 3982, 3494, 2036, 9008, 3946, 7836, 1051, 8722, 1167, 3189, 267, 5864, 4411, 3826, 190, 7796, 8891, 2209, 2311, 6318, 6252, 7867, 649, 4016, 3529, 8351, 72, 9185, 6376, 5046, 2755, 1704, 5627, 4334, 3944, 6568, 6581, 7242, 5919, 2005, 911, 5576, 3324, 5848, 3276, 4448, 3980, 8279, 4139, 6453, 2142, 6977, 330, 574, 1745, 5183, 602, 8881, 5265, 2811, 5749, 2645, 7853, 3919, 6272, 7689, 7058, 1397, 4828, 337, 5227, 1837, 5647, 2960, 3646, 2362, 533, 5977, 2767, 28, 8807, 4299, 425, 3174, 9169, 4305, 6564, 2211, 1935, 8080, 5171, 2026, 6754, 7683, 6174, 7488, 7610, 5122, 6779, 6091, 4384, 7271, 7113, 8185, 3627, 5593, 7328, 2667, 450, 6179, 1037, 8212, 3092, 3331, 6135, 1251, 9201, 979, 1158, 4311, 9176, 5381, 6605, 1214, 514, 6578, 3506, 7980, 7504, 8917, 3200, 5159, 4344, 7857, 3153, 5978, 8750, 4674, 2644, 1001, 1497, 3339, 7006, 3849, 7717, 4104, 152, 6686, 550, 997, 1236, 7645, 833, 2444, 7227, 7002, 5204, 5549, 4256, 1480, 7967, 3772, 6597, 504, 9107, 2877, 5596, 447, 3114, 1050, 2305, 6651, 6139, 2860, 6959, 5317, 4260, 7197, 7764, 4444, 4488, 5454, 5014, 3795, 5223, 8977, 5097, 8376, 7559, 2413, 2782, 2781, 5986, 7439, 6447, 6094, 6762, 6157, 4993, 708, 6051, 8765, 2632, 1610, 5481, 8963, 210, 890, 8294, 951, 1830, 2787, 2035, 4735, 3362, 1146, 3040, 8126, 8437, 8284, 3349, 1735, 233, 5526, 1196, 38, 4952, 6234, 1820, 7142, 1705, 3973, 354, 428, 6918, 5497, 2121, 1181, 1519, 4814, 8377, 7950, 5402, 2125, 852, 7424, 3771, 6037, 6281, 2199, 3542, 8696, 6041, 2193, 6468, 3242, 2219, 2970, 3369, 8182, 6759, 796, 5810, 8599, 5993, 3870, 5673, 9015, 2304, 8718, 137, 4995, 6589, 6335, 6049, 3942, 7611, 668, 5324, 904, 6074, 6988, 1122, 3626, 4490, 867, 2251, 5798, 3300, 2583, 5950, 3938, 6132, 7927, 8760, 3134, 527, 7046, 5503, 949, 418, 81, 739, 5471, 6953, 6340, 1436, 2659, 2914, 6474, 741, 3929, 9111, 6704, 2521, 5871, 8417, 3287, 3001, 6030, 361, 2401, 7022, 6972, 7991, 4535, 5095, 6544, 702, 9231, 1120, 9056, 473, 4161, 1848, 7207, 5646, 2741, 6760, 8348, 9031, 96, 1612, 395, 4364, 1555, 2934, 4065, 9221, 3178, 5221, 5305, 5412, 9142, 597, 2610, 2698, 615, 2098, 8986, 2435, 6689, 1066, 1213, 4783, 4648, 4186, 9093, 5337, 5983, 2640, 5059, 8033, 5033, 8404, 6276, 7630, 3282, 5027, 6251, 4135, 1744, 606, 3066, 1878, 6328, 1575, 6539, 3251, 237, 680, 5193, 970, 1188, 7339, 3326, 607, 7788, 3956, 6207, 2316, 1606, 5716, 8540, 5890, 1788, 853, 5773, 6113, 3953, 5290, 6921, 2695, 1577, 8167, 3936, 7290, 1204, 5995, 5504, 539, 6400, 1477, 344, 2927, 444, 2890, 8764, 4224, 1637, 5377, 2915, 8646, 3185, 1899, 9053, 1645, 417, 3927, 1185, 8782, 1475, 2562, 5677, 4358, 8876, 6025, 5833, 8941, 8448, 9087, 2210, 8301, 8773, 9208, 5700, 1395, 3693, 3067, 4599, 2406, 8165, 1273, 7498, 6434, 1485, 8276, 1917, 793, 3994, 7948, 4873, 2926, 8178, 7581, 2492, 2798, 8123, 7837, 4020, 8644, 1035, 1299, 372, 3284, 3903, 6843, 908, 2139, 3308, 7182, 3680, 2394, 1595, 782, 2144, 8452, 3605, 6837, 6111, 1323, 688, 1709, 6416, 4118, 8353, 445, 7247, 3461, 2780, 1202, 3304, 7547, 8851, 5818, 6185, 6893, 1508, 4679, 2760, 5473, 4338, 3789, 1822, 1927, 981, 95, 5178, 8607, 1398, 2864, 1484, 670, 4268, 7639, 2920, 3216, 4908, 6493, 8972, 4533, 3753, 8675, 7812, 3535, 1938, 239, 412, 9241, 2727, 3714, 5900, 27, 3343, 6465, 1489, 8419, 6576, 6401, 6412, 2953, 6219, 110, 6463, 2822, 3572, 1889, 7491, 1675, 17, 6708, 4966, 455, 7458, 6228, 3330, 4994, 3989, 3914, 2390, 5829, 5714, 6509, 5208, 2050, 3027, 7024, 5659, 2174, 4924, 4830, 3404, 7557, 7325, 306, 1117, 8922, 6749, 5802, 3034, 3985, 7228, 5121, 8520, 7606, 334, 8592, 4039, 5151, 9092, 6806, 4128, 5470, 1046, 945, 3500, 8331, 4264, 6702, 5713, 6116, 3313, 6786, 1898, 8318, 8939, 7479, 1009, 8256, 4845, 268, 2954, 3845, 7494, 7534, 2762, 3881, 8324, 3820, 5540, 3132, 7690, 8692, 7062, 6852, 3552, 7911, 6548, 6097, 6845, 6767, 4859, 7254, 7166, 7855, 7392, 7144, 3916, 8969, 3636, 1488, 1388, 4835, 7095, 9023, 2821, 6763, 9179, 3961, 4514, 1939, 6591, 3548, 5083, 1255, 3802, 269, 7200, 9195, 7047, 5472, 5602, 8804, 105, 214, 2828, 8768, 8093, 1946, 2295, 3213, 4530, 4759, 2167, 4719, 8189, 7882, 3390, 2833, 6640, 5096, 1703, 1723, 404, 3495, 4234, 8873, 8897, 7017, 4909, 1874, 4555, 6180, 8373, 8251, 7520, 2867, 2437, 5400, 8561, 3773, 6606, 9148, 2831, 1071, 6201, 7205, 3253, 3904, 2977, 6499, 2513, 2759, 3687, 5292, 3032, 1415, 2225, 2147, 9032, 491, 374, 5902, 6649, 8736, 8673, 1366, 3350, 6314, 8844, 4458, 2087, 2592, 49, 5681, 7440, 8806, 2699, 8820, 8618, 4500, 2878, 1934, 635, 7697, 2510, 8347, 2725, 2866, 3665, 2681, 8597, 4078, 5070, 5406, 7859, 9095, 2126, 7403, 2830, 3025, 6362, 391, 6342, 6958, 3143, 761, 7217, 1064, 8619, 6728, 1147, 8111, 3798, 5555, 2653, 3999, 6231, 3628, 6841, 5594, 1320, 2948, 2630, 5271, 6694, 5283, 5909, 512, 5743, 6338, 2785, 8655, 5785, 1424, 1538, 2148, 8211, 8914, 7984, 7190, 5874, 496, 3201, 5013, 9167, 4281, 2265, 4732, 9003, 7637, 656, 8757, 8625, 8445, 5690, 4756, 1162, 3556, 8971, 1546, 3260, 2333, 8118, 6379, 8639, 5071, 6709, 5148, 4457, 1349, 2249, 6407, 6637, 1945, 3878, 8497, 6332, 3709, 2427, 8721, 3196, 6748, 8778, 7716, 4923, 887, 5863, 8320, 8089, 4403, 6710, 1673, 9242, 5553, 6478, 8916, 2303, 462, 7321, 544, 2940, 1175, 2267, 3014, 2290, 5152, 4862, 6043, 6950, 7270, 2410, 1021, 3264, 1698, 73, 1465, 2300, 0, 6993, 6487, 1222, 4899, 9232, 86, 5748, 594, 3099, 4577, 5345, 6903, 7312, 8374, 14, 4087, 7730, 3083, 7152, 7368, 8752, 2768, 3837, 1159, 3087, 1815, 1504, 7361, 6187, 685, 7177, 6005, 4201, 2704, 8188, 8826, 4888, 6004, 4072, 6279, 8581, 7977, 4520, 3352, 3617, 2801, 5107, 501, 6452, 3202, 5531, 8116, 5801, 9039, 6672, 7995, 2223, 2354, 1256, 6874, 5628, 2178, 4964, 2457, 4232, 2973, 7074, 3808, 3192, 2918, 9081, 7506, 7378, 1023, 9147, 4374, 8131, 289, 8389, 497, 5878, 1695, 5201, 6339, 987, 3419, 6515, 3647, 562, 8075, 3713, 6584, 5805, 6367, 9062, 7098, 4611, 2720, 8032, 6561, 4851, 3934, 2412, 7647, 3947, 6306, 7856, 5664, 7924, 8824, 234, 1926, 7893, 5546, 2246, 8392, 638, 8652, 2555, 1249, 6603, 4154, 5873, 2848, 5099, 3699, 4556, 6388, 2771, 6592, 8252, 7313, 1280, 3990, 1882, 6119, 1747, 716, 5897, 6770, 1931, 9040, 41, 6415, 1525, 194, 3493, 2327, 3910, 430, 5087, 486, 7515, 4395, 1452, 6878, 3455, 732, 8407, 8591, 1156, 8621, 8095, 9038, 4176, 7852, 7278, 8539, 9027, 1798, 3451, 5793, 227, 4619, 8710, 4597, 7097, 1768, 8408, 3623, 3828, 6623, 8536, 4372, 7794, 1530, 8588, 4145, 2458, 4550, 621, 9072, 8411, 5304, 5384, 2816, 9026, 8776, 2115, 9226, 1978, 1233, 771, 3412, 7746, 8486, 3489, 4849, 8274, 8665, 8509, 742, 9121, 3233, 972, 3215, 7554, 1716, 1835, 1163, 1383, 5170, 3898, 8001, 2732, 8459, 2073, 1344, 1818, 530, 8133, 8648, 6432, 2111, 8962, 9246, 2408, 1539, 115, 4323, 3952, 4742, 2754, 3531, 532, 3299, 1918, 5600, 6129, 1989, 383, 6347, 3072, 2941, 4017, 9253, 6127, 9159, 8578, 8052, 5825, 8446, 4405, 1955, 6899, 2277, 8496, 7776, 2476, 3586, 2002, 1600, 3823, 1683, 9143, 2556, 5048, 3848, 2963, 8657, 6205, 4822, 5774, 1661, 2994, 8702, 2734, 432, 8368, 932, 628, 5872, 326, 7952, 91, 946, 4478, 4177, 8231, 2030, 3346, 5676, 4569, 2933, 1298, 7741, 8577, 4362, 3563, 6833, 8723, 2978, 3621, 3288, 5763, 3191, 3796, 6247, 8975, 2132, 6819, 2806, 2282, 5038, 3561, 3059, 8948, 8114, 6540, 7792, 5934, 5468, 5387, 5240, 2790, 7508, 5314, 673, 5903, 5195, 6243, 1750, 5669, 2766, 1850, 2746, 118, 3821, 5456, 6200, 4262, 4730, 2796, 1601, 1364, 307, 2382, 3479, 6287, 1764, 4974, 2799, 1599, 3735, 4207, 2071, 9164, 7578, 8713, 8913, 4510, 2584, 7819, 7617, 1468, 9106, 3729, 4602, 7671, 7226, 283, 4540, 8579, 1947, 1347, 3155, 1712, 5411, 8453, 7206, 5558, 4746, 7468, 1979, 5733, 7573, 6480, 5542, 7602, 4351, 6758, 1782, 1689, 1297, 1030, 6613, 3434, 3554, 593, 7159, 7774, 8906, 9151, 3981, 8010, 9047, 8720, 54, 3536, 8029, 6149, 9139, 3475, 3290, 266, 5925, 2885, 9220, 6904, 7108, 5965, 7524, 1017, 9091, 5849, 4101, 7846, 1558, 7751, 3217, 9177, 5115, 1224, 6394, 3564, 7930, 3811, 1856, 5034, 6723, 4196, 4370, 4387, 5246, 8731, 2880, 4332, 9134, 3306, 6866, 392, 6216, 3319, 5478, 2943, 6288, 4675, 8171, 4082, 3188, 6242, 6777, 1262, 1608, 804, 3571, 6827, 1010, 1134, 3728, 2123, 7904, 956, 3357, 8734, 3255, 5974, 2558, 7871, 5650, 7666, 2261, 4284, 16, 5756, 3167, 9166, 819, 3223, 229, 1232, 8176, 3204, 7268, 1004, 485, 7752, 6311, 9108, 6445, 3609, 4163, 3842, 7213, 4038, 7132, 6982, 1274, 8835, 4560, 4070, 8420, 9244, 8931, 588, 2989, 7221, 4396, 4928, 4911, 1840, 8365, 4302, 300, 8809, 3108, 4844, 8716, 2564, 7914, 9234, 6863, 863, 4931, 7383, 4227, 8298, 537, 3028, 3301, 2845, 4060, 7809, 7626, 5686, 2773, 55, 101, 8790, 3576, 7679, 7955, 5398, 7807, 2278, 4699, 3778, 7146, 1082, 5475, 9158, 6696, 7138, 1, 8970, 9045, 7854, 8745, 34, 8161, 3, 6483, 2737, 3513, 5414, 1806, 7244, 1462, 2166, 2289, 677, 7417, 3538, 9209, 9097, 8748, 5601, 7189, 3262, 2006, 1920, 1578, 7191, 8693, 7633, 6136, 738, 1604, 7314, 9058, 4834, 3371, 7134, 6824, 1590, 699] not in index'"
     ]
    }
   ],
   "source": [
    "# Your code\n",
    "X = all_numeric_data\n",
    "y = D['track_popularity']\n",
    "\n",
    "Xtrain, Xtest, ytrain, ytest = train_test_split(X, y, test_size=0.3, random_state=0)\n",
    "\n",
    "y_test_pred = model1.predict_proba(Xtest)[:, 1]\n",
    "\n",
    "# Bootstrap with CL of 95%\n",
    "boot_CL = 95/100 \n",
    "\n",
    "p_1 = (1-boot_CL)/2\n",
    "p_2 = 1-p_1\n",
    "\n",
    "ci, auc_mean = bootstrap(ytest, y_test_pred)\n",
    "\n",
    "print(\"Bootstrap estimate of AUC:\", auc_mean)\n",
    "print(\"95% confidence interval for AUC:\", ci)\n",
    "\n",
    "# boot_quant = np.quantile(mean_yhat_boot-yhat_s.mean(), [p_1, p_2])\n",
    "\n",
    "# boot_ci = [((yhat_s.mean() - boot_quant[1])*1e-6).round(3), \n",
    "#            ((yhat_s.mean() - boot_quant[0])*1e-6).round(3)]\n",
    "# print(\"Boot confidence interval is\",boot_ci,'- in million euros.')\n"
   ]
  },
  {
   "cell_type": "code",
   "execution_count": null,
   "metadata": {
    "id": "_PprUnpXQrOk"
   },
   "outputs": [],
   "source": [
    "# Your code"
   ]
  },
  {
   "cell_type": "code",
   "execution_count": null,
   "metadata": {
    "id": "rzIOXRi-DImH"
   },
   "outputs": [],
   "source": [
    "# Your code"
   ]
  },
  {
   "cell_type": "markdown",
   "metadata": {
    "id": "i46nJCdcQrOk"
   },
   "source": [
    "Is the test AUC close to the AUC cross validation of the model you chose? Why do you think this is the case?"
   ]
  },
  {
   "cell_type": "markdown",
   "metadata": {
    "id": "fve0IvwJQrOl"
   },
   "source": [
    "**ANSWER HERE:**"
   ]
  }
 ],
 "metadata": {
  "colab": {
   "provenance": []
  },
  "kernelspec": {
   "display_name": "Python 3",
   "language": "python",
   "name": "python3"
  },
  "language_info": {
   "codemirror_mode": {
    "name": "ipython",
    "version": 3
   },
   "file_extension": ".py",
   "mimetype": "text/x-python",
   "name": "python",
   "nbconvert_exporter": "python",
   "pygments_lexer": "ipython3",
   "version": "3.8.8"
  }
 },
 "nbformat": 4,
 "nbformat_minor": 1
}

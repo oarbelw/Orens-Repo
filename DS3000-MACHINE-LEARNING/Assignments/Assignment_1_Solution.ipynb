{
 "cells": [
  {
   "cell_type": "markdown",
   "metadata": {
    "id": "mEK2QYPrX78R"
   },
   "source": [
    "# Grade: /100 points\n",
    "\n",
    "# Assignment 01: Supervised learning, Linear models, and Loss functions\n",
    "\n",
    "In this assignment, you're going to write your own methods to fit a linear model using either an OLS or LAD cost function.  \n",
    "\n",
    "## Data set \n",
    "\n",
    "We will examine a data set containing 200 observations. The data set has 3 variables:\n",
    "\n",
    "1. $y$: the outcome of interest.\n",
    "2. $x1$: first predictor.\n",
    "3. $x2$: second predictor.\n",
    "\n",
    "## Follow These Steps Before Submitting\n",
    "Once you are finished, ensure to complete the following steps.\n",
    "\n",
    "1.  Restart your kernel by clicking 'Kernel' > 'Restart & Run All'.\n",
    "\n",
    "2.  Fix any errors which result from this.\n",
    "\n",
    "3.  Repeat steps 1. and 2. until your notebook runs without errors.\n",
    "\n",
    "4.  Submit your completed notebook to OWL by the deadline.\n",
    "\n",
    "\n",
    "## Preliminaries"
   ]
  },
  {
   "cell_type": "code",
   "execution_count": 1,
   "metadata": {
    "id": "aBu-equFX78Y"
   },
   "outputs": [],
   "source": [
    "# Import all the necessary packages: \n",
    "import matplotlib.pyplot as plt \n",
    "import numpy as np\n",
    "import pandas as pd\n",
    "import scipy.stats as ss \n",
    "import scipy.optimize as so\n",
    "from sklearn import linear_model\n",
    "\n",
    "%matplotlib inline"
   ]
  },
  {
   "cell_type": "markdown",
   "metadata": {
    "id": "rBv9WDghTVHx",
    "outputId": "03ea85f6-d46d-4c35-8f10-1cca830ff3dc"
   },
   "source": [
    "#### Before you start...\n",
    "\n",
    "Recall that L1 loss function (sum of magnitudes, used for LAD model):\n",
    "\n",
    "$$L_1(\\theta) = \\sum_{i=1}^{n} \\lvert {y_i-\\hat{y_i}} \\rvert$$\n",
    "\n",
    "L2 loss function (RSS, residual sum of squares, used for OLS model):\n",
    "\n",
    "$$L_2(\\theta) = \\sum_{i=1}^{n} ({y_i-\\hat{y_i}})^2$$"
   ]
  },
  {
   "cell_type": "markdown",
   "metadata": {
    "id": "m8CtqKgpX78f"
   },
   "source": [
    "\n",
    "## Part 1\n",
    "### Question 1.1:  /10 points\n",
    "\n",
    "\n",
    "Read the `my_dataset.csv` file as a `pandas.DataFrame` and (1) change column names $x1$ and $x2$ to pred_1 and pred_2, respectively (2) print the first 10 rows. Remove the 5th observation since its pred_1 value is an outlier. Using the resulted data set from the previous step, for the 5th observation replace its pred_1 value (i.e., NAN) with 9.5. Print the first 10 rows of the final data set. Plot a scatterplot for every pairwise combination (scatterplot matrix), and briefly discuss the relationships between the variables. Based on your findings, discuss whether a simple linear regression is appropriate here or not."
   ]
  },
  {
   "cell_type": "code",
   "execution_count": null,
   "metadata": {
    "id": "WdFNvFsRUdx9"
   },
   "outputs": [],
   "source": [
    "# YOUR CODE HERE"
   ]
  },
  {
   "cell_type": "code",
   "execution_count": 3,
   "metadata": {
    "colab": {
     "base_uri": "https://localhost:8080/",
     "height": 554
    },
    "id": "Je80N0V6X78n",
    "outputId": "315ddc56-3e84-4c0a-e45d-b64a00e7ff7d"
   },
   "outputs": [
    {
     "name": "stdout",
     "output_type": "stream",
     "text": [
      "           y  pred_1  pred_2\n",
      "0  25.265621     3.6     3.1\n",
      "1  63.512826     8.1     9.7\n",
      "2  25.441710     4.7     6.4\n",
      "3  79.286388     9.0     5.6\n",
      "4  36.271320   100.0     5.2\n",
      "5  86.271320     NaN     4.6\n",
      "6   3.015506     1.4     9.0\n",
      "7  36.834794     5.8     4.3\n",
      "8  80.558765     9.1     3.6\n",
      "9  45.601815     6.0     2.5\n"
     ]
    },
    {
     "data": {
      "text/html": [
       "\n",
       "  <div id=\"df-7f986d91-ef28-40f4-a484-bfafb531e710\">\n",
       "    <div class=\"colab-df-container\">\n",
       "      <div>\n",
       "<style scoped>\n",
       "    .dataframe tbody tr th:only-of-type {\n",
       "        vertical-align: middle;\n",
       "    }\n",
       "\n",
       "    .dataframe tbody tr th {\n",
       "        vertical-align: top;\n",
       "    }\n",
       "\n",
       "    .dataframe thead th {\n",
       "        text-align: right;\n",
       "    }\n",
       "</style>\n",
       "<table border=\"1\" class=\"dataframe\">\n",
       "  <thead>\n",
       "    <tr style=\"text-align: right;\">\n",
       "      <th></th>\n",
       "      <th>y</th>\n",
       "      <th>pred_1</th>\n",
       "      <th>pred_2</th>\n",
       "    </tr>\n",
       "  </thead>\n",
       "  <tbody>\n",
       "    <tr>\n",
       "      <th>0</th>\n",
       "      <td>25.265621</td>\n",
       "      <td>3.6</td>\n",
       "      <td>3.1</td>\n",
       "    </tr>\n",
       "    <tr>\n",
       "      <th>1</th>\n",
       "      <td>63.512826</td>\n",
       "      <td>8.1</td>\n",
       "      <td>9.7</td>\n",
       "    </tr>\n",
       "    <tr>\n",
       "      <th>2</th>\n",
       "      <td>25.441710</td>\n",
       "      <td>4.7</td>\n",
       "      <td>6.4</td>\n",
       "    </tr>\n",
       "    <tr>\n",
       "      <th>3</th>\n",
       "      <td>79.286388</td>\n",
       "      <td>9.0</td>\n",
       "      <td>5.6</td>\n",
       "    </tr>\n",
       "    <tr>\n",
       "      <th>4</th>\n",
       "      <td>86.271320</td>\n",
       "      <td>9.5</td>\n",
       "      <td>4.6</td>\n",
       "    </tr>\n",
       "    <tr>\n",
       "      <th>5</th>\n",
       "      <td>3.015506</td>\n",
       "      <td>1.4</td>\n",
       "      <td>9.0</td>\n",
       "    </tr>\n",
       "    <tr>\n",
       "      <th>6</th>\n",
       "      <td>36.834794</td>\n",
       "      <td>5.8</td>\n",
       "      <td>4.3</td>\n",
       "    </tr>\n",
       "    <tr>\n",
       "      <th>7</th>\n",
       "      <td>80.558765</td>\n",
       "      <td>9.1</td>\n",
       "      <td>3.6</td>\n",
       "    </tr>\n",
       "    <tr>\n",
       "      <th>8</th>\n",
       "      <td>45.601815</td>\n",
       "      <td>6.0</td>\n",
       "      <td>2.5</td>\n",
       "    </tr>\n",
       "    <tr>\n",
       "      <th>9</th>\n",
       "      <td>33.299944</td>\n",
       "      <td>5.1</td>\n",
       "      <td>2.5</td>\n",
       "    </tr>\n",
       "  </tbody>\n",
       "</table>\n",
       "</div>\n",
       "      <button class=\"colab-df-convert\" onclick=\"convertToInteractive('df-7f986d91-ef28-40f4-a484-bfafb531e710')\"\n",
       "              title=\"Convert this dataframe to an interactive table.\"\n",
       "              style=\"display:none;\">\n",
       "        \n",
       "  <svg xmlns=\"http://www.w3.org/2000/svg\" height=\"24px\"viewBox=\"0 0 24 24\"\n",
       "       width=\"24px\">\n",
       "    <path d=\"M0 0h24v24H0V0z\" fill=\"none\"/>\n",
       "    <path d=\"M18.56 5.44l.94 2.06.94-2.06 2.06-.94-2.06-.94-.94-2.06-.94 2.06-2.06.94zm-11 1L8.5 8.5l.94-2.06 2.06-.94-2.06-.94L8.5 2.5l-.94 2.06-2.06.94zm10 10l.94 2.06.94-2.06 2.06-.94-2.06-.94-.94-2.06-.94 2.06-2.06.94z\"/><path d=\"M17.41 7.96l-1.37-1.37c-.4-.4-.92-.59-1.43-.59-.52 0-1.04.2-1.43.59L10.3 9.45l-7.72 7.72c-.78.78-.78 2.05 0 2.83L4 21.41c.39.39.9.59 1.41.59.51 0 1.02-.2 1.41-.59l7.78-7.78 2.81-2.81c.8-.78.8-2.07 0-2.86zM5.41 20L4 18.59l7.72-7.72 1.47 1.35L5.41 20z\"/>\n",
       "  </svg>\n",
       "      </button>\n",
       "      \n",
       "  <style>\n",
       "    .colab-df-container {\n",
       "      display:flex;\n",
       "      flex-wrap:wrap;\n",
       "      gap: 12px;\n",
       "    }\n",
       "\n",
       "    .colab-df-convert {\n",
       "      background-color: #E8F0FE;\n",
       "      border: none;\n",
       "      border-radius: 50%;\n",
       "      cursor: pointer;\n",
       "      display: none;\n",
       "      fill: #1967D2;\n",
       "      height: 32px;\n",
       "      padding: 0 0 0 0;\n",
       "      width: 32px;\n",
       "    }\n",
       "\n",
       "    .colab-df-convert:hover {\n",
       "      background-color: #E2EBFA;\n",
       "      box-shadow: 0px 1px 2px rgba(60, 64, 67, 0.3), 0px 1px 3px 1px rgba(60, 64, 67, 0.15);\n",
       "      fill: #174EA6;\n",
       "    }\n",
       "\n",
       "    [theme=dark] .colab-df-convert {\n",
       "      background-color: #3B4455;\n",
       "      fill: #D2E3FC;\n",
       "    }\n",
       "\n",
       "    [theme=dark] .colab-df-convert:hover {\n",
       "      background-color: #434B5C;\n",
       "      box-shadow: 0px 1px 3px 1px rgba(0, 0, 0, 0.15);\n",
       "      filter: drop-shadow(0px 1px 2px rgba(0, 0, 0, 0.3));\n",
       "      fill: #FFFFFF;\n",
       "    }\n",
       "  </style>\n",
       "\n",
       "      <script>\n",
       "        const buttonEl =\n",
       "          document.querySelector('#df-7f986d91-ef28-40f4-a484-bfafb531e710 button.colab-df-convert');\n",
       "        buttonEl.style.display =\n",
       "          google.colab.kernel.accessAllowed ? 'block' : 'none';\n",
       "\n",
       "        async function convertToInteractive(key) {\n",
       "          const element = document.querySelector('#df-7f986d91-ef28-40f4-a484-bfafb531e710');\n",
       "          const dataTable =\n",
       "            await google.colab.kernel.invokeFunction('convertToInteractive',\n",
       "                                                     [key], {});\n",
       "          if (!dataTable) return;\n",
       "\n",
       "          const docLinkHtml = 'Like what you see? Visit the ' +\n",
       "            '<a target=\"_blank\" href=https://colab.research.google.com/notebooks/data_table.ipynb>data table notebook</a>'\n",
       "            + ' to learn more about interactive tables.';\n",
       "          element.innerHTML = '';\n",
       "          dataTable['output_type'] = 'display_data';\n",
       "          await google.colab.output.renderOutput(dataTable, element);\n",
       "          const docLink = document.createElement('div');\n",
       "          docLink.innerHTML = docLinkHtml;\n",
       "          element.appendChild(docLink);\n",
       "        }\n",
       "      </script>\n",
       "    </div>\n",
       "  </div>\n",
       "  "
      ],
      "text/plain": [
       "           y  pred_1  pred_2\n",
       "0  25.265621     3.6     3.1\n",
       "1  63.512826     8.1     9.7\n",
       "2  25.441710     4.7     6.4\n",
       "3  79.286388     9.0     5.6\n",
       "4  86.271320     9.5     4.6\n",
       "5   3.015506     1.4     9.0\n",
       "6  36.834794     5.8     4.3\n",
       "7  80.558765     9.1     3.6\n",
       "8  45.601815     6.0     2.5\n",
       "9  33.299944     5.1     2.5"
      ]
     },
     "execution_count": 3,
     "metadata": {},
     "output_type": "execute_result"
    }
   ],
   "source": [
    "# Read in the data with pandas\n",
    "my_data = pd.read_csv('my_dataset.csv')\n",
    "\n",
    "# change column names and look at the first few rows\n",
    "\n",
    "my_data = my_data.rename(columns = {'x1':'pred_1', 'x2':'pred_2'})\n",
    "\n",
    "print(my_data.head(10))\n",
    "\n",
    "# remove the 5th observation since its pred_1 value is an outlier\n",
    "\n",
    "my_data = my_data.drop(index=4)\n",
    "\n",
    "my_data = my_data.reset_index(drop=True)\n",
    "\n",
    "# using the resulted data set from previous step, replace pred_1 value (i.e., NAN) with 9.5 for the 5th observation\n",
    "\n",
    "my_data.iloc[4, 1] = 9.5\n",
    "\n",
    "my_data.head(10)\n",
    "\n",
    "# 3 pts\n",
    "# 1 pt deduction for each missing part"
   ]
  },
  {
   "cell_type": "code",
   "execution_count": 5,
   "metadata": {
    "colab": {
     "base_uri": "https://localhost:8080/",
     "height": 461
    },
    "id": "Nazt2KiOlQ4I",
    "outputId": "6045d6ca-9e96-47f4-9947-d5e9ede956f5"
   },
   "outputs": [
    {
     "data": {
      "text/plain": [
       "array([[<matplotlib.axes._subplots.AxesSubplot object at 0x7f9989531a90>,\n",
       "        <matplotlib.axes._subplots.AxesSubplot object at 0x7f9989505ee0>,\n",
       "        <matplotlib.axes._subplots.AxesSubplot object at 0x7f99894c3340>],\n",
       "       [<matplotlib.axes._subplots.AxesSubplot object at 0x7f998946f730>,\n",
       "        <matplotlib.axes._subplots.AxesSubplot object at 0x7f998949ab20>,\n",
       "        <matplotlib.axes._subplots.AxesSubplot object at 0x7f998944ae50>],\n",
       "       [<matplotlib.axes._subplots.AxesSubplot object at 0x7f998944af40>,\n",
       "        <matplotlib.axes._subplots.AxesSubplot object at 0x7f99894043d0>,\n",
       "        <matplotlib.axes._subplots.AxesSubplot object at 0x7f99893dfb50>]],\n",
       "      dtype=object)"
      ]
     },
     "execution_count": 5,
     "metadata": {},
     "output_type": "execute_result"
    },
    {
     "data": {
      "image/png": "[encoded data removed]",
      "text/plain": [
       "<Figure size 432x288 with 9 Axes>"
      ]
     },
     "metadata": {
      "needs_background": "light"
     },
     "output_type": "display_data"
    }
   ],
   "source": [
    "# create the scatterplot matrix with density plot\n",
    "pd.plotting.scatter_matrix(my_data, alpha = 0.2, diagonal='kde')\n",
    "\n",
    "# 4 pts"
   ]
  },
  {
   "cell_type": "markdown",
   "metadata": {
    "id": "XUVK0ZGmTAcE"
   },
   "source": [
    "**Written answer: What do you see here? Discuss your findings**"
   ]
  },
  {
   "cell_type": "markdown",
   "metadata": {
    "id": "yV_8qnmSUFP2"
   },
   "source": [
    "A: There is a nonlinear relationship (strong correlation) between y and pred_1. This indicates that a\n",
    "polynomial regression may perform better than a simple linear regression. We cannot see a clear specific relationship between\n",
    "y and pred_2, pred_1 and pred_2. [3 pts]"
   ]
  },
  {
   "cell_type": "markdown",
   "metadata": {
    "id": "aLTkjzp2X78w"
   },
   "source": [
    "### Question 1.2: /5 point\n",
    "\n",
    "Recall that the linear model, we obtain predictions by computing \n",
    "\n",
    "$$ \\hat{\\mathbf{y}} = \\mathbf{X} \\hat{\\beta} $$\n",
    "\n",
    "Here, $\\mathbf{X}$ is a design matrix which includes a column of ones, $\\hat{\\beta}$ are coefficients, and $\\hat{\\mathbf{y}}$ are outcomes.  Write a function `linearModelPredict` to compute linear model predictions given data and a coefficient vector.  The function should take as it's arguments a 1d-array of coefficients `b` and the design matrix `X` as a 2d-array and return linear model predictions `yp`.\n",
    "\n",
    "Test the function by setting \n",
    "\n",
    "```\n",
    "X = np.array([[1,0],[1,-1],[1,2]])\n",
    "b = np.array([0.1,0.3])\n",
    "```\n",
    "\n",
    "Call your function using these values. \n",
    "\n",
    "Report $\\hat{\\mathbf{y}}$. \n",
    "\n",
    "What is the dimensionality of the numpy-array that you get back? \n",
    "\n",
    "Hint:  Read the documentation for `np.dot` or the `@` operator in `numpy`."
   ]
  },
  {
   "cell_type": "code",
   "execution_count": null,
   "metadata": {
    "id": "So7kD_OPVQNI"
   },
   "outputs": [],
   "source": [
    "# Your code here."
   ]
  },
  {
   "cell_type": "code",
   "execution_count": 4,
   "metadata": {
    "colab": {
     "base_uri": "https://localhost:8080/"
    },
    "id": "pcK1l84IX78y",
    "outputId": "f8057496-5501-47d3-c42f-69bc6b38e6e4"
   },
   "outputs": [
    {
     "name": "stdout",
     "output_type": "stream",
     "text": [
      "X@b is [ 0.1 -0.2  0.7]\n"
     ]
    }
   ],
   "source": [
    "def linearModelPredict(b,X):\n",
    "    # Numpy does matrix multiplication in a few ways.\n",
    "    # The dot or @ operator are most common.\n",
    "    # b should always have the same dimensionality as X has columns.\n",
    "    yp = np.dot(X,b) \n",
    "\n",
    "    return yp\n",
    "\n",
    "# Test \n",
    "X = np.array([[1,0],[1,-1],[1,2]])\n",
    "b = np.array([0.1,0.3])\n",
    "print(\"X@b is %s\" % str(linearModelPredict(b,X)))\n",
    "\n",
    "# 3pt"
   ]
  },
  {
   "cell_type": "code",
   "execution_count": 6,
   "metadata": {
    "colab": {
     "base_uri": "https://localhost:8080/"
    },
    "id": "1vV2pmHkX782",
    "outputId": "488b484a-ba24-4eb0-9865-d2d5ec4d50bf"
   },
   "outputs": [
    {
     "name": "stdout",
     "output_type": "stream",
     "text": [
      "Using a 2d array...\n",
      "X looks like:\n",
      " [[1. 0.]\n",
      " [0. 1.]]\n",
      "b looks like:\n",
      " [[2.]\n",
      " [2.]]\n",
      "X@b is \n",
      "  [[2.]\n",
      " [2.]]\n",
      "\n",
      "\n",
      "Using a 1d array...\n",
      "X looks like:\n",
      " [[1. 0.]\n",
      " [0. 1.]]\n",
      "b looks like:\n",
      " [2. 2.]\n",
      "X@b is \n",
      "  [2. 2.]\n"
     ]
    }
   ],
   "source": [
    "# Note that b can either be a 2d array or a 1d array and the multiplication will still work\n",
    "# This requires you to be cognizant about shapes and keep track of the dimension.\n",
    "# Here are some examples\n",
    "\n",
    "# b is a 2d array\n",
    "print('Using a 2d array...')\n",
    "X = np.eye(2)\n",
    "b = 2*np.ones(2).reshape(-1,1)\n",
    "\n",
    "print(\"X looks like:\\n\", X)\n",
    "print(\"b looks like:\\n\", b)\n",
    "#Note, the result of this multiplication is a 2d array\n",
    "print(\"X@b is \\n \", linearModelPredict(b,X))\n",
    "\n",
    "\n",
    "# b is a 1d array\n",
    "print('\\n\\nUsing a 1d array...')\n",
    "X = np.eye(2)\n",
    "b = 2*np.ones(2)\n",
    "\n",
    "print(\"X looks like:\\n\", X)\n",
    "print(\"b looks like:\\n\", b)\n",
    "#Note, the result of this multiplication is a 1d array\n",
    "print(\"X@b is \\n \", linearModelPredict(b,X))\n",
    "\n",
    "\n",
    "# 2pt "
   ]
  },
  {
   "cell_type": "markdown",
   "metadata": {
    "id": "CrZokVidX787"
   },
   "source": [
    "### Question 1.3: /15 points\n",
    "\n",
    "Write a function `linearModelLossRSS` which computes and returns the loss function for an OLS model parameterized by $\\beta$, as well as the gradient of the loss.  The function should take as its first argument a 1d-array `beta` of coefficients for the linear model, as its second argument the design matrix `X` as a 2d-array, and as its third argument a 1d-array `y` of observed outcomes.\n",
    "\n",
    "Test the function with the values \n",
    "\n",
    "```\n",
    "X = np.array([[1,0,1.5],[1,-1,0.5],[1,2,2.5]])\n",
    "b = np.array([0.1,0.3,0.85])\n",
    "y = np.array([1.3,0.3,2]) \n",
    "```\n",
    "\n",
    "Report the loss and the gradient. \n"
   ]
  },
  {
   "cell_type": "code",
   "execution_count": null,
   "metadata": {
    "id": "IHuS9PJJVZiW"
   },
   "outputs": [],
   "source": [
    "# Your code here."
   ]
  },
  {
   "cell_type": "code",
   "execution_count": 7,
   "metadata": {
    "id": "Yvj02lSRX78_"
   },
   "outputs": [],
   "source": [
    "def linearModelLossRSS(b,X,y):\n",
    "    # The loss is really a function of b.  The b changes, the X and y stay fixed.\n",
    "    # Make predictions\n",
    "    predY = linearModelPredict(b,X)\n",
    "\n",
    "    # Compute residuals.  This is an array.  The dimension of res will depend on if\n",
    "    # b is 1d or 2d.  If b is 2d, predY will be 2d, and so res will be 2d due to something\n",
    "    # called \"array broadcasting\".\n",
    "    \n",
    "    res = y-predY\n",
    "    # Simply sum up the squared residuals.  This is the value of our loss.\n",
    "    residual_sum_of_squares = sum(res**2) \n",
    "    \n",
    "    # Because res is a vector, we can take the product of res with X.\n",
    "    # Since X is two dimensional because it is a design matrix, this results in a\n",
    "    # 2d array.  The gradient has three elements because there are three parameters.\n",
    "    gradient=-2*np.dot(res,X)\n",
    "\n",
    "    return (residual_sum_of_squares, gradient)\n",
    "\n",
    "# 8 points the correct function."
   ]
  },
  {
   "cell_type": "code",
   "execution_count": 8,
   "metadata": {
    "colab": {
     "base_uri": "https://localhost:8080/"
    },
    "id": "SA7fxyQQVwWQ",
    "outputId": "c3ea9614-e802-4859-f8c7-cb729603b330",
    "scrolled": true
   },
   "outputs": [
    {
     "name": "stdout",
     "output_type": "stream",
     "text": [
      "RSS is 0.6918750000000002\n",
      "gradient:\n",
      " [1.65  3.45  4.275]\n"
     ]
    }
   ],
   "source": [
    "X = np.array([[1,0,1.5],[1,-1,0.5],[1,2,2.5]])\n",
    "b = np.array([0.1,0.3,0.85])\n",
    "y = np.array([1.3,0.3,2])\n",
    "rss, grad =linearModelLossRSS(b,X,y)\n",
    "\n",
    "print(\"RSS is\", rss)\n",
    "print(\"gradient:\\n\", grad)\n",
    "\n",
    "# 4 points the examples."
   ]
  },
  {
   "cell_type": "markdown",
   "metadata": {
    "id": "O7tEGnLsVb4L"
   },
   "source": [
    "**Written answer**: To minimize the loss, do you need increase or decrease the value of the parameters? "
   ]
  },
  {
   "cell_type": "markdown",
   "metadata": {
    "id": "4xISREmuX79B"
   },
   "source": [
    "A: The gradient is positive for all three parameters, therefore they need to be decreased to minimize the cost. [3 points the right answer]"
   ]
  },
  {
   "cell_type": "markdown",
   "metadata": {
    "id": "zpfl2A86X79D"
   },
   "source": [
    "### Question 1.4:  /15 points. \n",
    "\n",
    "Now that you've implemented a loss function in question 1.3, it is now time to minimize it!\n",
    "\n",
    "Write a function `linearModelFit` to fit a linear model.  The function should take as its first argument the design matrix `X` as a 2d-array, as its second argument a 1d-array `y` of outcomes, and as its third argument a function  `lossfcn` which returns as a tuple the value of the loss, as well as the gradient of the loss. As a result, it should return the estimated betas and the $R^2$. \n",
    "\n",
    "Test the function with the values: \n",
    "```\n",
    "X = np.array([[1,0,1.5],[1,-1,0.5],[1,2,2.5]])\n",
    "y = np.array([1.3,0.3,2])\n",
    "```\n",
    "\n",
    "Report best parameters and the fitted $R^2$ \n"
   ]
  },
  {
   "cell_type": "code",
   "execution_count": 10,
   "metadata": {
    "colab": {
     "base_uri": "https://localhost:8080/"
    },
    "id": "y9iYDHb2X79J",
    "outputId": "7d641484-c203-4e8d-a7c8-3ad69a787327"
   },
   "outputs": [
    {
     "name": "stdout",
     "output_type": "stream",
     "text": [
      "Optimization terminated successfully.\n",
      "         Current function value: 0.000000\n",
      "         Iterations: 13\n",
      "         Function evaluations: 14\n",
      "         Gradient evaluations: 14\n",
      "Betas are [-0.65000159 -0.30000055  1.30000129]\n",
      "R²:\n",
      " 0.9999999999996051\n"
     ]
    }
   ],
   "source": [
    "def linearModelFit(X,y,lossfcn = linearModelLossRSS):\n",
    "    # Because we know b has to have the some dimension as X has columns,\n",
    "    # We can use the number of columns to determine the size of betas\n",
    "    # In this case, we use a 2d array\n",
    "    nrows,ncols = X.shape\n",
    "    betas=np.zeros((ncols,1))\n",
    "    # Optimize the loss\n",
    "    RES = so.minimize(lossfcn,betas,args=(X,y),jac=True, options={'disp': True})\n",
    "    # Obtain estimates from the optimizer\n",
    "    estimated_betas=RES.x \n",
    "    # Compute goodness of fit.\n",
    "    diff = y-np.mean(y)\n",
    "    TSS = sum(diff**2)\n",
    "    RSS,deriv = linearModelLossRSS(estimated_betas,X,y)\n",
    "    R2 = 1-RSS/TSS \n",
    "\n",
    "    return (estimated_betas,R2)\n",
    "\n",
    "\n",
    "X = np.array([[1,0,1.5],[1,-1,0.5],[1,2,2.5]])\n",
    "y = np.array([1.3,0.3,2])\n",
    "beta , R2 = linearModelFit(X,y)\n",
    "\n",
    "print(\"Betas are\", beta)\n",
    "print(\"R\\u00b2:\\n\", R2)\n",
    "\n",
    "# 5 points for betas and 5 points for r2"
   ]
  },
  {
   "cell_type": "markdown",
   "metadata": {
    "id": "CJ2ZergqX79L"
   },
   "source": [
    "### Question 1.5: /15 points\n",
    "\n",
    "Use the above functions to fit your model to the my_data. Use $y$ as the target variable and pred_1 as the predictor. Then use your model and the fitted parameters to make predictions along a grid of equally spaced values for the pred_1 variable. Note that, these new values must be within the original range of the pred_1 variable.  \n",
    "\n",
    "Plot the data and add a line for the predicted values. You can get these by generating a new X-matrix with 100 equally spaced values (using for example [```np.linspace```](https://numpy.org/doc/stable/reference/generated/numpy.linspace.html)). Also report the $R^2$ value for the fit. You can do this by either printing out the $R^2$ of the fit or putting it on your plot via the `annotate` function in matplotlib.\n"
   ]
  },
  {
   "cell_type": "code",
   "execution_count": 12,
   "metadata": {
    "colab": {
     "base_uri": "https://localhost:8080/",
     "height": 569
    },
    "id": "GBFucpfAX79P",
    "outputId": "2deacabe-cf9e-4f8b-b4e1-d65c40fc29b0"
   },
   "outputs": [
    {
     "name": "stdout",
     "output_type": "stream",
     "text": [
      "Optimization terminated successfully.\n",
      "         Current function value: 6953.752030\n",
      "         Iterations: 4\n",
      "         Function evaluations: 7\n",
      "         Gradient evaluations: 7\n"
     ]
    },
    {
     "data": {
      "image/png": "[encoded data removed]",
      "text/plain": [
       "<Figure size 720x480 with 1 Axes>"
      ]
     },
     "metadata": {
      "needs_background": "light"
     },
     "output_type": "display_data"
    }
   ],
   "source": [
    "# Fit the data \n",
    "y = my_data.y.values\n",
    "pred_1 = my_data.pred_1.values\n",
    "N = pred_1.size\n",
    "X = np.c_[np.ones(N), pred_1]\n",
    "betas, R2 = linearModelFit(X,y)\n",
    "\n",
    "# Create new data\n",
    "pred_grid = np.linspace(pred_1.min(), pred_1.max(), 100)\n",
    "# Turn it into a design matrix\n",
    "Xn = np.c_[np.ones(pred_grid.size), pred_grid]\n",
    "\n",
    "# Compute predictions with the new data and estimated coefficients\n",
    "yn = linearModelPredict(betas, Xn)\n",
    "\n",
    "fig, ax = plt.subplots(dpi = 120)\n",
    "my_data.plot.scatter(x='pred_1', y='y', alpha=0.75, ax=ax)\n",
    "ax.set_xlabel('pred_1')\n",
    "ax.set_ylabel('target')\n",
    "\n",
    "ax.plot(pred_grid, yn, color = 'red')\n",
    "ax.annotate('R\\u00b2: {R2}'.format(R2=round(R2, 2)), \n",
    "            xy=(0.2, 0.8), \n",
    "            xycoords='axes fraction',\n",
    "            ha='center',\n",
    "            fontsize = 16)\n",
    "\n",
    "ax.set_title('RSS Model')\n",
    "\n",
    "plt.show()\n",
    "\n",
    "# 5 points for fitted line (some have incorrect fitted line plotted starting with X.min() = 1)\n",
    "# 5 points for scatter plots with a fitted line\n",
    "# 5 points deducted if R2 was not reported\n",
    "# students are required to calculate R2 manually here"
   ]
  },
  {
   "cell_type": "markdown",
   "metadata": {
    "id": "A3emHgAcX79R"
   },
   "source": [
    "## Part 2: LAD Regression\n",
    "\n",
    "### Question 2.1:  /15 points\n",
    "\n",
    "In the previous section, we worked with the squared loss.  Now, we'll implement a linear model with least absolute deviation loss.\n",
    "\n",
    "Write a function `linearModelLossLAD` which computes the least absolute deviation loss function for a linear model  parameterized by $\\beta$, as well as the gradient of the loss.  The function should take as its first argument a 1d-array `beta` of coefficients for the linear model, as its second argument the design matrix `X` as a 2d-array, and as its third argument a 1d-array `y` of observed outcomes.\n",
    "\n",
    "Test the function with the values \n",
    "\n",
    "```\n",
    "X = np.array([[1,0,1.5],[1,-1,0.5],[1,2,2.5]])\n",
    "b = np.array([0.1,0.3,0.85])\n",
    "y = np.array([1.3,0.3,2]) \n",
    "```\n",
    "\n",
    "Report the loss and the gradient. "
   ]
  },
  {
   "cell_type": "code",
   "execution_count": 13,
   "metadata": {
    "colab": {
     "base_uri": "https://localhost:8080/"
    },
    "id": "RWX_FGplX79S",
    "outputId": "aa80854d-1f1c-4717-be65-a95ed162d037"
   },
   "outputs": [
    {
     "name": "stdout",
     "output_type": "stream",
     "text": [
      "LAD is 0.9750000000000001\n",
      "gradient:\n",
      " [1.  3.  3.5]\n"
     ]
    }
   ],
   "source": [
    "def linearModelLossLAD(b,X,y):\n",
    "    # Same concept as before, different loss\n",
    "    predY = linearModelPredict(b,X)\n",
    "    res = y-predY\n",
    "    sres = np.sign(res); \n",
    "    sum_abs_dev = sum(abs(res))\n",
    "    # Note the gradients are computed using the sign of the residuals\n",
    "    grad =- (np.dot(sres,X))\n",
    "\n",
    "    return (sum_abs_dev,grad)\n",
    "\n",
    "X = np.array([[1,0,1.5],[1,-1,0.5],[1,2,2.5]])\n",
    "b = np.array([0.1,0.3,0.85])\n",
    "y = np.array([1.3,0.3,2]) \n",
    "lad, grad =linearModelLossLAD(b,X,y)\n",
    "\n",
    "print(\"LAD is\", lad)\n",
    "print(\"gradient:\\n\", grad)\n",
    "# If the gradient is not correct or not reported, deduct 5pts"
   ]
  },
  {
   "cell_type": "markdown",
   "metadata": {
    "id": "MTx_xIR5X79V"
   },
   "source": [
    "### Question 2.2: /10 points\n",
    "\n",
    "\n",
    "Use the above functions to fit your LAD model. Use your model to make predictions along a grid of 100 equally spaced values for pred_1.  Once fit, add the fitted line to the scatter plot as in question 1.5.  Also report the $R^2$-value. \n",
    "\n",
    "**Written answer**: What is the difference in the fit obtained with an L1 as compared to the L2 cost function? How their $R^2$ values compare? Why?  \n",
    "\n",
    "Note: If you recieve an error from the optimizer, it may be because the loss function for the LAD model is not differentiable at its minimum.  This will lead to some gradient based optimizers to fail to converge.  If this happens to you then pass `method=\"Powell\"` to `scipy.optimize.minimize`.\n",
    "\n"
   ]
  },
  {
   "cell_type": "code",
   "execution_count": 14,
   "metadata": {
    "colab": {
     "base_uri": "https://localhost:8080/",
     "height": 586
    },
    "id": "BS-EFwn0X79V",
    "outputId": "5498a591-1e23-4849-98b3-377f3e82c3c3"
   },
   "outputs": [
    {
     "name": "stdout",
     "output_type": "stream",
     "text": [
      "Warning: Desired error not necessarily achieved due to precision loss.\n",
      "         Current function value: 947.483439\n",
      "         Iterations: 7\n",
      "         Function evaluations: 76\n",
      "         Gradient evaluations: 73\n",
      "[-17.76826618  10.33659494]\n"
     ]
    },
    {
     "data": {
      "image/png": "[encoded data removed]",
      "text/plain": [
       "<Figure size 720x480 with 1 Axes>"
      ]
     },
     "metadata": {
      "needs_background": "light"
     },
     "output_type": "display_data"
    }
   ],
   "source": [
    "# Same as above\n",
    "y = my_data.y.values\n",
    "pred_1 = my_data.pred_1.values\n",
    "N = pred_1.size\n",
    "X = np.c_[np.ones(N), pred_1]\n",
    "betas, R2 = linearModelFit(X, y, lossfcn=linearModelLossLAD)\n",
    "print(betas)\n",
    "\n",
    "pred_grid = np.linspace(pred_1.min(), pred_1.max(), 100)\n",
    "Xn = np.c_[np.ones(pred_grid.size), pred_grid]\n",
    "yn = linearModelPredict(betas, Xn)\n",
    "\n",
    "fig, ax = plt.subplots(dpi = 120)\n",
    "my_data.plot.scatter(x='pred_1', y='y', alpha=0.75, ax=ax)\n",
    "ax.set_xlabel('pred_1')\n",
    "ax.set_ylabel('target')\n",
    "\n",
    "ax.plot(pred_grid, yn, color = 'red', linestyle = '--')\n",
    "ax.annotate('R\\u00b2: {R2}'.format(R2=round(R2, 2)), \n",
    "            xy=(0.2, 0.8), \n",
    "            xycoords='axes fraction',\n",
    "            ha='center',\n",
    "            fontsize = 16)\n",
    "\n",
    "ax.set_title('LAD Model')\n",
    "\n",
    "# Display the image\n",
    "plt.show()\n",
    "\n",
    "# 8 points\n",
    "# We do not double penalize if they made wrong gradient calculation in the previous question"
   ]
  },
  {
   "cell_type": "markdown",
   "metadata": {
    "id": "UYbaeWI5X79Y"
   },
   "source": [
    "Written answer: The LAD fit does not give as much weight to the outliers as the OLS fit. The $R^2$ value is identical, however. One would normally expect OLS to be slightly higher than LAD due to the optimization function being optimized. [2 points]"
   ]
  },
  {
   "cell_type": "markdown",
   "metadata": {
    "id": "4Tza7fD4X79a"
   },
   "source": [
    "### Question 2.3: /15 points\n",
    "\n",
    "Now we will use all data for the fit. Fit an OLS model to the my_data with the `linear_model` module from the `sklearn` package by using the [`LinearRegression`](https://scikit-learn.org/stable/modules/generated/sklearn.linear_model.LinearRegression.html) class.  In no more than two sentences, comment on the $R^2$ values from `sklearn` and the $R^2$ values from your models. Are they similar?"
   ]
  },
  {
   "cell_type": "code",
   "execution_count": 15,
   "metadata": {
    "colab": {
     "base_uri": "https://localhost:8080/"
    },
    "id": "5RXsmo7pX79c",
    "outputId": "30ed30d5-2a41-45f2-acec-fcabff232beb"
   },
   "outputs": [
    {
     "name": "stdout",
     "output_type": "stream",
     "text": [
      "OLS R²: 0.96\n",
      "intercept: -9.511249114860405\n",
      "coefficients: [10.09468235 -1.23868899]\n"
     ]
    }
   ],
   "source": [
    "y = my_data.y\n",
    "X = my_data[['pred_1', 'pred_2']]\n",
    "model = linear_model.LinearRegression().fit(X, y)\n",
    "\n",
    "print(f'OLS R\\u00b2: {model.score(X,y).round(2)}')\n",
    "print(f'intercept: {model.intercept_}')\n",
    "print(f'coefficients: {model.coef_}')\n",
    "# 10 points\n",
    "# If they did only with pred_1 as predictor deduct all the points\n",
    "# 1 mark deducted if they add a column of ones before fitting the LinearRegression() as the function add the column of ones by default."
   ]
  },
  {
   "cell_type": "markdown",
   "metadata": {
    "id": "FQJl6CwAl9hu"
   },
   "source": [
    "Written answer: The $R^2$ now is 0.96, which is very close to the 0.95 when pred_1 was used as the only predictor in the model. This suggest that pred_1 is the most important predictor. [5 pts]"
   ]
  }
 ],
 "metadata": {
  "colab": {
   "provenance": []
  },
  "kernelspec": {
   "display_name": "Python 3",
   "language": "python",
   "name": "python3"
  },
  "language_info": {
   "codemirror_mode": {
    "name": "ipython",
    "version": 3
   },
   "file_extension": ".py",
   "mimetype": "text/x-python",
   "name": "python",
   "nbconvert_exporter": "python",
   "pygments_lexer": "ipython3",
   "version": "3.8.8"
  }
 },
 "nbformat": 4,
 "nbformat_minor": 1
}

{
 "cells": [
  {
   "cell_type": "markdown",
   "metadata": {
    "id": "Z__Ux3ZqGVmO"
   },
   "source": [
    "# Grade: /100 Mark(s)\n",
    "\n",
    "# Assignment 02: Maximum Likelihood\n",
    "\n",
    "\n",
    "### Maximum Likelihood\n",
    "\n",
    "The exponential distribution https://en.wikipedia.org/wiki/Exponential_distribution is a continuous probability distribution often used to predict time when an event might ocurr, for instance Earthquake. \n",
    "\n",
    "If we know $y$ is influenced by feature $x$, then we can use the maximum likelihood principle to develop a regression model that estimates the mean of $Y$ given $X=x$."
   ]
  },
  {
   "cell_type": "code",
   "execution_count": 2,
   "metadata": {
    "id": "oNR5_78NGVmS"
   },
   "outputs": [],
   "source": [
    "# Packages for this assignment\n",
    "import numpy as np\n",
    "import matplotlib.pyplot as plt\n",
    "import pandas as pd\n",
    "from scipy.optimize import minimize\n",
    "from sklearn.linear_model import LinearRegression"
   ]
  },
  {
   "cell_type": "markdown",
   "metadata": {
    "id": "VmUVT942GVmT"
   },
   "source": [
    "### Question 1: /10 Marks\n",
    "\n",
    "The negative log likelihood for a exponential random variable is\n",
    "\n",
    "$$\\ell(\\lambda; \\mathbf{y}) = -\\sum_{i=1}^N\\Bigg(\\ln(\\lambda) - \\lambda y_i \\Bigg)$$\n",
    "\n",
    "Here, $\\mathbf{y}=(y_i) \\in \\mathbb{R^N}$ is a vector  and $\\lambda$ is a scalar value.\n",
    "\n",
    "Define a function called `exponentialNegLogLikelihood` that takes a vector  $\\mathbf{y}$ and a parameter $\\lambda$ and returns the negative log likelihood.\n",
    "\n",
    "Test your function by calling it with `lamb = 2` and `y = np.array([1, 4, 6, 0])`.\n",
    "\n",
    "Test your function by calling it with `lamb = np.array([1, 0.5, 2, 5])` and  `y = np.array([1.5, 2.1, 3.4, 0])`.\n",
    "\n",
    "Answer in markdown:\n",
    "\n",
    "* What happens when you set an element of lamb to 0 or a negative number. Why?"
   ]
  },
  {
   "cell_type": "code",
   "execution_count": 3,
   "metadata": {
    "id": "5okkxPQuGVmT"
   },
   "outputs": [],
   "source": [
    "def exponentialNegLogLikelihood(lamb, y):\n",
    "    neg_log_lik = -np.sum(np.log(lamb) - y * (lamb))\n",
    "    return neg_log_lik\n",
    "#4 pts"
   ]
  },
  {
   "cell_type": "code",
   "execution_count": 4,
   "metadata": {
    "colab": {
     "base_uri": "https://localhost:8080/"
    },
    "executionInfo": {
     "elapsed": 9,
     "status": "ok",
     "timestamp": 1642773242936,
     "user": {
      "displayName": "Sherly Paola Alfonso Sanchez",
      "photoUrl": "https://lh3.googleusercontent.com/a-/AOh14GijrV5WVdbIJAyqF5INLE4mArbounb3tab5kiCFIw=s64",
      "userId": "17112094500915447092"
     },
     "user_tz": 300
    },
    "id": "Cdpaw7Q1GVmU",
    "outputId": "2a02349e-59c1-4339-cb84-18bd09af2a73"
   },
   "outputs": [
    {
     "data": {
      "text/plain": [
       "19.227411277760222"
      ]
     },
     "execution_count": 4,
     "metadata": {},
     "output_type": "execute_result"
    }
   ],
   "source": [
    "# Test the function\n",
    "lamb = 2\n",
    "y = np.array([1, 4, 6, 0])\n",
    "exponentialNegLogLikelihood(lamb, y)\n",
    "# 1pt"
   ]
  },
  {
   "cell_type": "code",
   "execution_count": 5,
   "metadata": {
    "colab": {
     "base_uri": "https://localhost:8080/"
    },
    "executionInfo": {
     "elapsed": 8,
     "status": "ok",
     "timestamp": 1642773242936,
     "user": {
      "displayName": "Sherly Paola Alfonso Sanchez",
      "photoUrl": "https://lh3.googleusercontent.com/a-/AOh14GijrV5WVdbIJAyqF5INLE4mArbounb3tab5kiCFIw=s64",
      "userId": "17112094500915447092"
     },
     "user_tz": 300
    },
    "id": "HKq3LZQIGVmV",
    "outputId": "76cf8fe8-6fdf-49aa-9468-f756bbbfbc72"
   },
   "outputs": [
    {
     "name": "stdout",
     "output_type": "stream",
     "text": [
      "7.740562087565899\n"
     ]
    }
   ],
   "source": [
    "# What happens when you call the function with lamb=np.array([1, 0.5, 2, 5]) and y=np.array([1.5, 2.1, 3.4, 0])?\n",
    "lamb = np.array([1, 0.5, 2, 5])\n",
    "y = np.array([1.5, 2.1, 3.4, 0])\n",
    "print(f\"{exponentialNegLogLikelihood(lamb, y)}\")\n",
    "# 1 pt"
   ]
  },
  {
   "cell_type": "code",
   "execution_count": 6,
   "metadata": {
    "colab": {
     "base_uri": "https://localhost:8080/"
    },
    "executionInfo": {
     "elapsed": 131,
     "status": "ok",
     "timestamp": 1642773243061,
     "user": {
      "displayName": "Sherly Paola Alfonso Sanchez",
      "photoUrl": "https://lh3.googleusercontent.com/a-/AOh14GijrV5WVdbIJAyqF5INLE4mArbounb3tab5kiCFIw=s64",
      "userId": "17112094500915447092"
     },
     "user_tz": 300
    },
    "id": "JB5fBJlLGVmV",
    "outputId": "f147b1b4-2a09-42ae-fe30-9b947f859aaf"
   },
   "outputs": [
    {
     "name": "stdout",
     "output_type": "stream",
     "text": [
      "inf\n"
     ]
    },
    {
     "name": "stderr",
     "output_type": "stream",
     "text": [
      "/var/folders/ls/r3k1n_891_nf47gq9lchwwr40000gn/T/ipykernel_89994/3980655123.py:2: RuntimeWarning: divide by zero encountered in log\n",
      "  neg_log_lik = -np.sum(np.log(lamb) - y * (lamb))\n"
     ]
    }
   ],
   "source": [
    "# What happens when you set an element of lam to 0 or a negative number. Why?\n",
    "lamb = 0\n",
    "y = np.array([1.5, 2.1, 3.4, 0])\n",
    "print(exponentialNegLogLikelihood(lamb, y))\n",
    "# 1 pt"
   ]
  },
  {
   "cell_type": "code",
   "execution_count": 7,
   "metadata": {
    "colab": {
     "base_uri": "https://localhost:8080/"
    },
    "executionInfo": {
     "elapsed": 10,
     "status": "ok",
     "timestamp": 1642773243062,
     "user": {
      "displayName": "Sherly Paola Alfonso Sanchez",
      "photoUrl": "https://lh3.googleusercontent.com/a-/AOh14GijrV5WVdbIJAyqF5INLE4mArbounb3tab5kiCFIw=s64",
      "userId": "17112094500915447092"
     },
     "user_tz": 300
    },
    "id": "l3DXMPaBGVmW",
    "outputId": "464a9ebe-c174-4f52-bdb8-7d1745a45735"
   },
   "outputs": [
    {
     "name": "stderr",
     "output_type": "stream",
     "text": [
      "/var/folders/ls/r3k1n_891_nf47gq9lchwwr40000gn/T/ipykernel_89994/3980655123.py:2: RuntimeWarning: invalid value encountered in log\n",
      "  neg_log_lik = -np.sum(np.log(lamb) - y * (lamb))\n"
     ]
    },
    {
     "data": {
      "text/plain": [
       "nan"
      ]
     },
     "execution_count": 7,
     "metadata": {},
     "output_type": "execute_result"
    }
   ],
   "source": [
    "lamb = -1\n",
    "y = np.array([1.5, 2.1, 3.4, 0])\n",
    "exponentialNegLogLikelihood(lamb, y)\n",
    "#1 pt"
   ]
  },
  {
   "cell_type": "markdown",
   "metadata": {
    "id": "k85jNtMXGVmW"
   },
   "source": [
    "**Written Answer:** \n",
    "\n",
    "1.[1pt] When the element of lamb is set to 0, then the result is `inf` since $$\\lim_{x \\rightarrow 0^+}\\ln(x)=-\\infty.$$ If lamb is a negative number, the result is nan which means not a number and this is because the logarithm is not defined for a negative number. "
   ]
  },
  {
   "cell_type": "markdown",
   "metadata": {
    "id": "hLcgtM3gGVmX"
   },
   "source": [
    "---\n",
    "\n",
    "### Question 2: /15 Marks\n",
    "\n",
    "Write a function called `exponentialRegressionNegLogLikelihood` that takes as arguments a vector $\\mathbf{y}$ , a design matrix $\\mathbf{X}$ of features, and a vector $\\mathbf{\\beta}$ of parameters. The function should return the negative log likelihood of this dataset, assuming that each element of  $\\mathbf{y}$ is independent, and exponentially distributed with $\\lambda=\\exp(-\\mathbf{X}\\beta)$.\n",
    "\n",
    "Test your function by calling it with \n",
    "* `b = np.array([1, 3])`\n",
    "* `X = np.array([[1.4, 2.1, 3], [2.2, 3, 1.5]]).T`\n",
    "* `y = np.array([0, 2.5, 10])`"
   ]
  },
  {
   "cell_type": "code",
   "execution_count": 8,
   "metadata": {
    "id": "5SC8fRojGVmX"
   },
   "outputs": [],
   "source": [
    "def exponentialRegressionNegLogLikelihood(b, X, y):\n",
    "    # Here we have to be carefull since the mean of the exponential distribution is not the same $\\lambda$ parameter.\n",
    "    lamb = np.exp(-X @ b)\n",
    "    # Use exponentialNegLogLikelihood to compute the likelihood\n",
    "    neg_log_lik = exponentialNegLogLikelihood(lamb, y)\n",
    "    return neg_log_lik"
   ]
  },
  {
   "cell_type": "code",
   "execution_count": 9,
   "metadata": {
    "colab": {
     "base_uri": "https://localhost:8080/"
    },
    "executionInfo": {
     "elapsed": 9,
     "status": "ok",
     "timestamp": 1642773243062,
     "user": {
      "displayName": "Sherly Paola Alfonso Sanchez",
      "photoUrl": "https://lh3.googleusercontent.com/a-/AOh14GijrV5WVdbIJAyqF5INLE4mArbounb3tab5kiCFIw=s64",
      "userId": "17112094500915447092"
     },
     "user_tz": 300
    },
    "id": "aCwgYTjiGVmY",
    "outputId": "e7bad48b-9867-4fba-cce0-32697ac34209"
   },
   "outputs": [
    {
     "data": {
      "text/plain": [
       "26.60556862451103"
      ]
     },
     "execution_count": 9,
     "metadata": {},
     "output_type": "execute_result"
    }
   ],
   "source": [
    "# Test your function \n",
    "b = np.array([1, 3])\n",
    "X = np.array([[1.4, 2.1, 3], [2.2, 3, 1.5]]).T\n",
    "y = np.array([0, 2.5, 10])\n",
    "exponentialRegressionNegLogLikelihood(b, X, y)"
   ]
  },
  {
   "cell_type": "markdown",
   "metadata": {
    "id": "G9XV1DaJGVmY"
   },
   "source": [
    "### Question 3: /10 Marks\n",
    "\n",
    "a) In `exponentialRegressionNegLogLikelihood`, what problem can happen if we assume that $\\lambda = \\mathbf{X}\\beta$?.\n",
    "\n",
    "\n",
    "b) What property of the exponential distribution is guaranteed when we assume that $\\lambda$ has the form of $\\exp(-\\mathbf{X}\\beta)$?: \n",
    "\n",
    "No more than 2 lines for each answer.\n",
    "\n",
    "---\n",
    "\n",
    "\n",
    "a)[5 pts] If $\\lambda$ has the form of $\\mathbf{X}\\beta$, we cannot guarantee that $\\lambda$ always has positive values. If $\\lambda$ is zero or negative, then log of $\\lambda$ will be undefined as required for the `exponentialNegLogLikelihood`function.\n",
    "\n",
    "b)[5 pts] When $\\exp(-\\mathbf{X}\\beta)$ is used, we guarantee that the parameter $\\lambda$ of the exponential distribution is positive."
   ]
  },
  {
   "cell_type": "markdown",
   "metadata": {
    "id": "4euBU8yfGVmZ"
   },
   "source": [
    "### Question 4: /2.5 Marks\n",
    "\n",
    "Define a function called `Prediction` whose arguments are a vector of coefficents $\\beta$ and a design matrix $\\mathbf{X}$, and its outputs are predictions of the form $\\widehat{\\mathbf{y}} = \\exp(\\mathbf{X}\\beta)$. \n",
    "\n",
    "Test your function by calling it with \n",
    "* `b = np.array([1, 3])`\n",
    "* `X = np.array([[1.4, 2.1, 3], [2.2, 3, 1.5]]).T`"
   ]
  },
  {
   "cell_type": "code",
   "execution_count": 10,
   "metadata": {
    "id": "tysS6_lKGVmZ"
   },
   "outputs": [],
   "source": [
    "def Prediction(b, X):\n",
    "    yhat = np.exp(X @ b)\n",
    "    return yhat"
   ]
  },
  {
   "cell_type": "code",
   "execution_count": 11,
   "metadata": {
    "colab": {
     "base_uri": "https://localhost:8080/"
    },
    "executionInfo": {
     "elapsed": 7,
     "status": "ok",
     "timestamp": 1642773243063,
     "user": {
      "displayName": "Sherly Paola Alfonso Sanchez",
      "photoUrl": "https://lh3.googleusercontent.com/a-/AOh14GijrV5WVdbIJAyqF5INLE4mArbounb3tab5kiCFIw=s64",
      "userId": "17112094500915447092"
     },
     "user_tz": 300
    },
    "id": "jF3zxQwmGVmZ",
    "outputId": "1248e4c4-af67-42c1-f5c5-ffaa01fc5230"
   },
   "outputs": [
    {
     "data": {
      "text/plain": [
       "array([ 2980.96, 66171.16,  1808.04])"
      ]
     },
     "execution_count": 11,
     "metadata": {},
     "output_type": "execute_result"
    }
   ],
   "source": [
    "# Test the function\n",
    "b = np.array([1, 3])\n",
    "X = np.array([[1.4, 2.1, 3], [2.2, 3, 1.5]]).T\n",
    "np.round(Prediction(b, X),2)"
   ]
  },
  {
   "cell_type": "markdown",
   "metadata": {
    "id": "xD9sS7SwGVmZ"
   },
   "source": [
    "### Question 5: /15 Marks\n",
    "\n",
    "Define a function called `Model_fit` which accepts as its first argument a design matrix $\\mathbf{X}$ and as its second argument a vector of $\\mathbf{y}$. Its output should be the maximum likelihood estimates for the coefficients of exponential regression of $\\mathbf{y}$ onto $\\mathbf{X}$.\n",
    "\n",
    "Test your function by calling it with \n",
    "* `X = np.array([[1.4, 2.1, 3], [2.2, 3, 1.5]]).T`\n",
    "* `y = np.array([0, 2.5, 10])`\n",
    "\n",
    "Write the estimated coefficient $b$."
   ]
  },
  {
   "cell_type": "code",
   "execution_count": 12,
   "metadata": {
    "id": "Dvcyhi2LGVma"
   },
   "outputs": [],
   "source": [
    "def Model_fit(X, y):\n",
    "    # Instantiate a guess for the betas, beta_start, so that the optimizer has somewhere to start\n",
    "    # Keep in mind what shape the beta_start should be. It shoud have the same number of elements as X as columns\n",
    "    nrows, ncols = X.shape\n",
    "    beta_start = np.zeros((ncols, 1))\n",
    "    # Minimize the appropriate likelihood function\n",
    "    mle = minimize(exponentialRegressionNegLogLikelihood, beta_start, args = (X, y), method = \"Powell\")\n",
    "    # Extract the maximum likelihood estimates from the optimizer.\n",
    "    betas = mle.x\n",
    "    return betas\n",
    "# 10 pts"
   ]
  },
  {
   "cell_type": "code",
   "execution_count": 13,
   "metadata": {
    "colab": {
     "base_uri": "https://localhost:8080/"
    },
    "executionInfo": {
     "elapsed": 6,
     "status": "ok",
     "timestamp": 1642773243063,
     "user": {
      "displayName": "Sherly Paola Alfonso Sanchez",
      "photoUrl": "https://lh3.googleusercontent.com/a-/AOh14GijrV5WVdbIJAyqF5INLE4mArbounb3tab5kiCFIw=s64",
      "userId": "17112094500915447092"
     },
     "user_tz": 300
    },
    "id": "dpFPecADGVma",
    "outputId": "45733f85-d4c4-42a1-e829-652718259d20"
   },
   "outputs": [
    {
     "name": "stdout",
     "output_type": "stream",
     "text": [
      "The estimated b is [ 1.17119176 -0.72067184]\n"
     ]
    }
   ],
   "source": [
    "# Show the code to find estimated b\n",
    "X = np.array([[1.4, 2.1, 3], [2.2, 3, 1.5]]).T\n",
    "y = np.array([0, 2.5, 10])\n",
    "print(f\"The estimated b is {Model_fit(X, y)}\")\n",
    "# 5 pts\n",
    "# Consider here the answer could vary depending on the b_start but should be near to [1.1 -0.7]"
   ]
  },
  {
   "cell_type": "markdown",
   "metadata": {},
   "source": [
    "### Question 6: /2.5 Marks\n",
    "\n",
    "Define a function called `Squared_residual` which accepts as its first argument a design matrix $\\mathbf{X}$, its second argument a vector of $\\mathbf{y}$ and its third argument a vector $\\beta$. Its output should be squared residual of the exponential regression model. This residual is defined as \n",
    "\n",
    "$$\n",
    "\\text{squared-residual} = \\dfrac{1}{n}\\sum_i (y_i-\\hat{y}_i)^2\n",
    "$$\n",
    "\n",
    "Test your function by calling it with \n",
    "* `X = np.array([[1.4, 2.1, 3], [2.2, 3, 1.5]]).T`\n",
    "* `y = np.array([2980, 66171, 1808])`\n",
    "* `b = np.array([1, 3])`\n"
   ]
  },
  {
   "cell_type": "code",
   "execution_count": 14,
   "metadata": {},
   "outputs": [],
   "source": [
    "def Squared_residual(X,y,b):\n",
    "    y_hat = Prediction(b,X)\n",
    "    return np.mean(np.square(y-y_hat))"
   ]
  },
  {
   "cell_type": "code",
   "execution_count": 15,
   "metadata": {},
   "outputs": [
    {
     "data": {
      "text/plain": [
       "0.315064022352556"
      ]
     },
     "execution_count": 15,
     "metadata": {},
     "output_type": "execute_result"
    }
   ],
   "source": [
    "b = np.array([1, 3])\n",
    "X = np.array([[1.4, 2.1, 3], [2.2, 3, 1.5]]).T\n",
    "y = np.array([2980, 66171, 1808])\n",
    "Squared_residual(X,y,b)"
   ]
  },
  {
   "cell_type": "markdown",
   "metadata": {
    "id": "u39d5e41GVma"
   },
   "source": [
    "### Question 7: /20 Mark(s)\n",
    "\n",
    "Use the data `exponential_regression.csv`, where $y$ represents time units to fit a exponential regression using the functions that you already have created. \n",
    "\n",
    "* What are the estimated coefficients?\n",
    "* Plot a scatterplot of the data that includes the model prediction over $x \\in [-2.14, 2.14]$. Do not forget to include a graph title.\n",
    "* Report the Squared residual in the plot"
   ]
  },
  {
   "cell_type": "code",
   "execution_count": 16,
   "metadata": {
    "colab": {
     "base_uri": "https://localhost:8080/"
    },
    "executionInfo": {
     "elapsed": 6,
     "status": "ok",
     "timestamp": 1642773243064,
     "user": {
      "displayName": "Sherly Paola Alfonso Sanchez",
      "photoUrl": "https://lh3.googleusercontent.com/a-/AOh14GijrV5WVdbIJAyqF5INLE4mArbounb3tab5kiCFIw=s64",
      "userId": "17112094500915447092"
     },
     "user_tz": 300
    },
    "id": "Wy9GbqvOGVma",
    "outputId": "731a11a8-9227-40ab-b145-cdc5c33ddfb2"
   },
   "outputs": [
    {
     "name": "stdout",
     "output_type": "stream",
     "text": [
      "The estimated coefficients are :[ 0.07120564 -1.75117875]\n"
     ]
    }
   ],
   "source": [
    "# Loading in the data.  \n",
    "# Notice that this file is separated by semicolon\n",
    "df = pd.read_csv('exponential_regression.csv', sep = ';')\n",
    "\n",
    "# Create the design matrix\n",
    "x = df.x.values \n",
    "X = np.c_[np.ones(x.shape), x]\n",
    "y = df.y.values\n",
    "\n",
    "# Find the maximum likelihood estimates for the coefficients for this data\n",
    "betas = Model_fit(X, y)\n",
    "print(f'The estimated coefficients are :{betas}')\n",
    "# 10 pts"
   ]
  },
  {
   "cell_type": "code",
   "execution_count": 17,
   "metadata": {
    "colab": {
     "base_uri": "https://localhost:8080/",
     "height": 312
    },
    "executionInfo": {
     "elapsed": 426,
     "status": "ok",
     "timestamp": 1642773243485,
     "user": {
      "displayName": "Sherly Paola Alfonso Sanchez",
      "photoUrl": "https://lh3.googleusercontent.com/a-/AOh14GijrV5WVdbIJAyqF5INLE4mArbounb3tab5kiCFIw=s64",
      "userId": "17112094500915447092"
     },
     "user_tz": 300
    },
    "id": "cVoc5sAtGVmb",
    "outputId": "f2b86897-2966-473b-f385-1797f39c8b36"
   },
   "outputs": [
    {
     "name": "stderr",
     "output_type": "stream",
     "text": [
      "/Users/danielguerrero/miniforge3/lib/python3.9/site-packages/pandas/plotting/_matplotlib/core.py:1114: UserWarning: No data for colormapping provided via 'c'. Parameters 'cmap' will be ignored\n",
      "  scatter = ax.scatter(\n"
     ]
    },
    {
     "data": {
      "image/png": "[encoded data removed]",
      "text/plain": [
       "<Figure size 432x288 with 1 Axes>"
      ]
     },
     "metadata": {
      "needs_background": "light"
     },
     "output_type": "display_data"
    }
   ],
   "source": [
    "# Scatterplot the data. \n",
    "scatter1 = df.plot.scatter(x = 'x', y = 'y', color = 'DarkGreen', alpha = 0.5)\n",
    "scatter1.set_title('Scatter Plot')\n",
    "\n",
    "# Create the new data to graphic the prediction\n",
    "newx = np.linspace(-2.14, 2.14, 1001)\n",
    "newX = np.c_[np.ones(newx.size), newx]\n",
    "\n",
    "# Predictions on the new data\n",
    "y_predicted = Prediction(betas, newX)\n",
    "\n",
    "# Squared error\n",
    "sr = Squared_residual(X,df.y.values,betas)\n",
    "\n",
    "# Finally, plot the predictions on the same axis and color the predictions red\n",
    "scatter1.plot(newx, y_predicted, color = 'red')\n",
    "scatter1.annotate(f\"Error: {sr:.2f}\",(0,30),fontsize=12)\n",
    "plt.show()\n",
    "# 10 pts"
   ]
  },
  {
   "cell_type": "markdown",
   "metadata": {
    "id": "UQxKy5DwGVmb"
   },
   "source": [
    "### Question 8:  /10 Marks\n",
    "\n",
    "Fit a linear regression (ordinary least squares) to the data, and obtain parameter estimates and and plot the predictions over the same range. Report the Squared residual in the plot\n"
   ]
  },
  {
   "cell_type": "code",
   "execution_count": 18,
   "metadata": {
    "colab": {
     "base_uri": "https://localhost:8080/",
     "height": 329
    },
    "executionInfo": {
     "elapsed": 154,
     "status": "ok",
     "timestamp": 1642773243630,
     "user": {
      "displayName": "Sherly Paola Alfonso Sanchez",
      "photoUrl": "https://lh3.googleusercontent.com/a-/AOh14GijrV5WVdbIJAyqF5INLE4mArbounb3tab5kiCFIw=s64",
      "userId": "17112094500915447092"
     },
     "user_tz": 300
    },
    "id": "UednfjUlGVmb",
    "outputId": "522905c4-3209-413b-b84c-ebd37261c43a"
   },
   "outputs": [
    {
     "name": "stdout",
     "output_type": "stream",
     "text": [
      "The estimated coefficients using linear regression are [ 0.         -5.11409159]\n"
     ]
    },
    {
     "name": "stderr",
     "output_type": "stream",
     "text": [
      "/Users/danielguerrero/miniforge3/lib/python3.9/site-packages/pandas/plotting/_matplotlib/core.py:1114: UserWarning: No data for colormapping provided via 'c'. Parameters 'cmap' will be ignored\n",
      "  scatter = ax.scatter(\n"
     ]
    },
    {
     "data": {
      "text/plain": [
       "Text(0, 30, 'Error: 29736420.33')"
      ]
     },
     "execution_count": 18,
     "metadata": {},
     "output_type": "execute_result"
    },
    {
     "data": {
      "image/png": "[encoded data removed]",
      "text/plain": [
       "<Figure size 432x288 with 1 Axes>"
      ]
     },
     "metadata": {
      "needs_background": "light"
     },
     "output_type": "display_data"
    }
   ],
   "source": [
    "# fit the linear regression model\n",
    "ols_fit = LinearRegression().fit(X, y)\n",
    "betas_r = ols_fit.coef_ \n",
    "print(f'The estimated coefficients using linear regression are {betas_r}')\n",
    "# 5 pts\n",
    "\n",
    "# Make predictions on the new data\n",
    "y_predicted = ols_fit.predict(newX)\n",
    "\n",
    "\n",
    "# Squared error\n",
    "sr_r = Squared_residual(X,df.y.values,betas_r)\n",
    "\n",
    "\n",
    "# Plot a scatter plot of the data and your model's predictions\n",
    "scatter2 = df.plot.scatter(x = 'x', y = 'y', color = 'DarkGreen', alpha = 0.5)\n",
    "scatter2.plot(newx, y_predicted, color = 'red')\n",
    "scatter2.set_title('Scatter Plot with the Regression Line')\n",
    "scatter2.annotate(f\"Error: {sr_r:.2f}\",(0,30),fontsize=12)\n",
    "# 15 pts"
   ]
  },
  {
   "cell_type": "markdown",
   "metadata": {},
   "source": [
    "### Question 9:  /10 Marks\n",
    "\n",
    "Fit a linear regression (ordinary least squares) to the data with a square term, and obtain parameter estimates and and plot the predictions over the same range. Report the Squared residual in the plot.\n",
    "\n",
    "Note that in this case the matrix X should look like \n",
    "\n",
    "$X =[[1,x_1,x_1^2],[1,x_2,x_2^2],...]$\n"
   ]
  },
  {
   "cell_type": "code",
   "execution_count": 19,
   "metadata": {},
   "outputs": [
    {
     "name": "stdout",
     "output_type": "stream",
     "text": [
      "The estimated coefficients using linear regression are [ 0.         -4.96170882  4.34031982]\n"
     ]
    },
    {
     "name": "stderr",
     "output_type": "stream",
     "text": [
      "/Users/danielguerrero/miniforge3/lib/python3.9/site-packages/pandas/plotting/_matplotlib/core.py:1114: UserWarning: No data for colormapping provided via 'c'. Parameters 'cmap' will be ignored\n",
      "  scatter = ax.scatter(\n"
     ]
    },
    {
     "data": {
      "text/plain": [
       "Text(0, 30, 'Error: 2054208442129692581953536.00')"
      ]
     },
     "execution_count": 19,
     "metadata": {},
     "output_type": "execute_result"
    },
    {
     "data": {
      "image/png": "[encoded data removed]",
      "text/plain": [
       "<Figure size 432x288 with 1 Axes>"
      ]
     },
     "metadata": {
      "needs_background": "light"
     },
     "output_type": "display_data"
    }
   ],
   "source": [
    "# fit the linear regression model\n",
    "ols_fit = LinearRegression().fit(np.c_[X, np.square(X[:,1])], y)\n",
    "betas_sq = ols_fit.coef_ \n",
    "print(f'The estimated coefficients using linear regression are {betas_sq}')\n",
    "# 5 pts\n",
    "\n",
    "# Make predictions on the new data\n",
    "y_predicted = ols_fit.predict(np.c_[newX, np.square(newX[:,1])])\n",
    "\n",
    "# Squared error\n",
    "sr_sq = Squared_residual(np.c_[X, np.square(X[:,1])],df.y.values,betas_sq)\n",
    "\n",
    "# Plot a scatter plot of the data and your model's predictions\n",
    "scatter2 = df.plot.scatter(x = 'x', y = 'y', color = 'DarkGreen', alpha = 0.5)\n",
    "scatter2.plot(newx, y_predicted, color = 'red')\n",
    "scatter2.set_title('Scatter Plot with the Regression Line')\n",
    "scatter2.annotate(f\"Error: {sr_sq:.2f}\",(0,30),fontsize=12)\n",
    "# 15 pts"
   ]
  },
  {
   "cell_type": "markdown",
   "metadata": {
    "id": "tyvGOxYDGVmb"
   },
   "source": [
    "### Question 10: /5 Mark(s)\n",
    "\n",
    "Between this three models which one would you select? What is the major problem with predictions from the other two models? Remember that in this case $y$ is measured in time units."
   ]
  },
  {
   "cell_type": "markdown",
   "metadata": {
    "id": "64N7WkQ4GVmc"
   },
   "source": [
    "#### Answer\n",
    "\n",
    "In this case, the linear regression model underestimates the values of $y$ for $x \\in [-2.14, -1.5] \\cup [1, 2.14]$. Indeed there is a more significant problem which is some predictions are negative, and this does not make sense with the fact that the model is intended to predict time values. This problem does not occur with the exponential regression model. In the case the squared linear the problem is that it does not follow the trend when $x>1$."
   ]
  },
  {
   "cell_type": "code",
   "execution_count": 20,
   "metadata": {},
   "outputs": [
    {
     "name": "stdout",
     "output_type": "stream",
     "text": [
      "Q1 Correct +10\n",
      "Q2 Correct +15\n",
      "Q4 Correct +2.5\n",
      "Q5 Correct +15\n",
      "Q6 Correct +2.5\n",
      "Q7 Correct +20\n"
     ]
    }
   ],
   "source": [
    "assert np.round(exponentialNegLogLikelihood(2, np.array([1, 4, 6, 0])),2)==19.23, \"Q1 Incorrect -10\"\n",
    "print(\"Q1 Correct +10\")\n",
    "assert np.round(exponentialRegressionNegLogLikelihood(np.array([1, 3]), np.array([[1.4, 2.1, 3], [2.2, 3, 1.5]]).T, np.array([0, 2.5, 10])),2) == 26.61, \"Q2 Incorrect -15\"\n",
    "print(\"Q2 Correct +15\")\n",
    "assert (np.round(Prediction(b = np.array([1, 3]), X = np.array([[1.4, 2.1, 3], [2.2, 3, 1.5]]).T),2) == np.array([ 2980.96, 66171.16,  1808.04])).all , \"Q2 Incorrect -15\"\n",
    "print(\"Q4 Correct +2.5\")\n",
    "assert (np.round(Model_fit(np.array([[1.4, 2.1, 3], [2.2, 3, 1.5]]).T, np.array([0, 2.5, 10])),2) == np.array([1.17,-0.72])).all, \"Q5 Incorrect -15\"\n",
    "print(\"Q5 Correct +15\")\n",
    "assert np.round(Squared_residual(np.array([[1.4, 2.1, 3], [2.2, 3, 1.5]]).T,np.array([2980, 66171, 1808]),np.array([1, 3])),2) == 0.32, \"Q6 Incorrect -2.5\"\n",
    "print(\"Q6 Correct +2.5\")\n",
    "assert (np.round(Model_fit(np.c_[np.ones(x.shape), x], y = df.y.values),2) == np.array([0.07,-1.75])).all , \"Q7 Incorrect -20\"\n",
    "print(\"Q7 Correct +20\")"
   ]
  },
  {
   "cell_type": "markdown",
   "metadata": {
    "id": "zyjwKgcsGVmc"
   },
   "source": [
    "### Follow These Instructions\n",
    "\n",
    "Once you are finished, ensure to complete the following steps.\n",
    "\n",
    "1.  Restart your kernel by clicking 'Kernel' > 'Restart & Run All'.\n",
    "\n",
    "2.  Fix any errors which result from this.\n",
    "\n",
    "3.  Repeat steps 1. and 2. until your notebook runs without errors.\n",
    "\n",
    "4.  Submit your completed notebook to OWL by the deadline."
   ]
  }
 ],
 "metadata": {
  "colab": {
   "name": "Assignment_2_Solutions.ipynb",
   "provenance": []
  },
  "kernelspec": {
   "display_name": "Python 3",
   "language": "python",
   "name": "python3"
  },
  "language_info": {
   "codemirror_mode": {
    "name": "ipython",
    "version": 3
   },
   "file_extension": ".py",
   "mimetype": "text/x-python",
   "name": "python",
   "nbconvert_exporter": "python",
   "pygments_lexer": "ipython3",
   "version": "3.8.8"
  },
  "vscode": {
   "interpreter": {
    "hash": "7a629f88739bb99df36ee3169b5f674a3a3506dd75f237fb1b2703d7911537b3"
   }
  }
 },
 "nbformat": 4,
 "nbformat_minor": 1
}

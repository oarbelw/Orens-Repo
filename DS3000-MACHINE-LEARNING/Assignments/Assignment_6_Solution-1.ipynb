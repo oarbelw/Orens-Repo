{
 "cells": [
  {
   "cell_type": "markdown",
   "metadata": {
    "id": "izqne0Z6IH__"
   },
   "source": [
    "# Assignment 6: Feature selection and regularization\n",
    "\n",
    "# Total: /100\n",
    "\n",
    "## Instructions\n",
    "\n",
    "* Complete the assignment\n",
    "\n",
    "* Once the notebook is complete, **restart** your kernel and **rerun** your cells\n",
    "\n",
    "* Submit this notebook to owl by the deadline\n",
    "\n",
    "* You may use any python library functions you wish to complete the assignment."
   ]
  },
  {
   "cell_type": "code",
   "execution_count": 1,
   "metadata": {
    "id": "GTwVRZnbIGrl"
   },
   "outputs": [],
   "source": [
    "# You may need these\n",
    "import pandas as pd\n",
    "import numpy as np\n",
    "import seaborn as sns\n",
    "import sklearn as sk\n",
    "import sklearn.linear_model as skl\n",
    "from sklearn import preprocessing\n",
    "from sklearn import metrics\n",
    "from sklearn.preprocessing import PolynomialFeatures\n",
    "from sklearn.preprocessing import StandardScaler \n",
    "from sklearn.model_selection import train_test_split, cross_val_score, KFold, RepeatedKFold, ShuffleSplit, LeaveOneOut\n",
    "from sklearn.feature_selection import SelectFromModel\n",
    "from sklearn.feature_selection import SequentialFeatureSelector\n",
    "from sklearn.linear_model import LassoCV\n",
    "import matplotlib.pyplot as plt\n",
    "from IPython.display import display\n",
    "\n",
    "seed = 2023\n",
    "np.random.seed(seed)"
   ]
  },
  {
   "cell_type": "markdown",
   "metadata": {
    "id": "G4EmPdu-tV-2"
   },
   "source": [
    "## Question 1: /20 pts\n",
    "\n",
    "\n",
    "Customer Lifetime Value (CLV) is the total income a business can expect from a customer over the entire period of their relationship. It’s an important metric as it costs less to keep existing customers than it does to acquire new ones, so increasing the value of your existing customers is a great way to drive growth. We want to predict CLV for an auto insurance company.\n",
    "\n",
    "1. Read in the `Vehicle_Insurance.csv` dataset and display the last 5 rows.\n",
    "2. Conduct the required data preparation."
   ]
  },
  {
   "cell_type": "markdown",
   "metadata": {
    "id": "8K4pylNyuK5z"
   },
   "source": [
    "### 1.1 Read the dataset and display the last 5 rows"
   ]
  },
  {
   "cell_type": "code",
   "execution_count": null,
   "metadata": {
    "colab": {
     "base_uri": "https://localhost:8080/",
     "height": 270
    },
    "id": "hW5aHQQoKHtu",
    "outputId": "f15f6373-6143-447d-a689-4da0f3ed6334"
   },
   "outputs": [
    {
     "data": {
      "text/html": [
       "\n",
       "  <div id=\"df-7a94f0ba-dcb9-4f90-8eac-803247a4a313\">\n",
       "    <div class=\"colab-df-container\">\n",
       "      <div>\n",
       "<style scoped>\n",
       "    .dataframe tbody tr th:only-of-type {\n",
       "        vertical-align: middle;\n",
       "    }\n",
       "\n",
       "    .dataframe tbody tr th {\n",
       "        vertical-align: top;\n",
       "    }\n",
       "\n",
       "    .dataframe thead th {\n",
       "        text-align: right;\n",
       "    }\n",
       "</style>\n",
       "<table border=\"1\" class=\"dataframe\">\n",
       "  <thead>\n",
       "    <tr style=\"text-align: right;\">\n",
       "      <th></th>\n",
       "      <th>clv</th>\n",
       "      <th>Coverage</th>\n",
       "      <th>Gender</th>\n",
       "      <th>Income</th>\n",
       "      <th>Marital.Status</th>\n",
       "      <th>Monthly.Premium.Auto</th>\n",
       "      <th>Number.of.Open.Complaints</th>\n",
       "      <th>Number.of.Policies</th>\n",
       "      <th>Renew.Offer.Type</th>\n",
       "      <th>Total.Claim.Amount</th>\n",
       "      <th>Vehicle.Class</th>\n",
       "    </tr>\n",
       "  </thead>\n",
       "  <tbody>\n",
       "    <tr>\n",
       "      <th>8625</th>\n",
       "      <td>4100.398533</td>\n",
       "      <td>Premium</td>\n",
       "      <td>F</td>\n",
       "      <td>47761</td>\n",
       "      <td>Single</td>\n",
       "      <td>104</td>\n",
       "      <td>0</td>\n",
       "      <td>1</td>\n",
       "      <td>Offer1</td>\n",
       "      <td>541.282007</td>\n",
       "      <td>Four-Door Car</td>\n",
       "    </tr>\n",
       "    <tr>\n",
       "      <th>8626</th>\n",
       "      <td>3096.511217</td>\n",
       "      <td>Extended</td>\n",
       "      <td>F</td>\n",
       "      <td>21604</td>\n",
       "      <td>Divorced</td>\n",
       "      <td>79</td>\n",
       "      <td>0</td>\n",
       "      <td>1</td>\n",
       "      <td>Offer1</td>\n",
       "      <td>379.200000</td>\n",
       "      <td>Four-Door Car</td>\n",
       "    </tr>\n",
       "    <tr>\n",
       "      <th>8627</th>\n",
       "      <td>8163.890428</td>\n",
       "      <td>Extended</td>\n",
       "      <td>M</td>\n",
       "      <td>0</td>\n",
       "      <td>Single</td>\n",
       "      <td>85</td>\n",
       "      <td>3</td>\n",
       "      <td>2</td>\n",
       "      <td>Offer1</td>\n",
       "      <td>790.784983</td>\n",
       "      <td>Four-Door Car</td>\n",
       "    </tr>\n",
       "    <tr>\n",
       "      <th>8628</th>\n",
       "      <td>7524.442436</td>\n",
       "      <td>Extended</td>\n",
       "      <td>M</td>\n",
       "      <td>21941</td>\n",
       "      <td>Married</td>\n",
       "      <td>96</td>\n",
       "      <td>0</td>\n",
       "      <td>3</td>\n",
       "      <td>Offer3</td>\n",
       "      <td>691.200000</td>\n",
       "      <td>Four-Door Car</td>\n",
       "    </tr>\n",
       "    <tr>\n",
       "      <th>8629</th>\n",
       "      <td>2611.836866</td>\n",
       "      <td>Extended</td>\n",
       "      <td>M</td>\n",
       "      <td>0</td>\n",
       "      <td>Single</td>\n",
       "      <td>77</td>\n",
       "      <td>0</td>\n",
       "      <td>1</td>\n",
       "      <td>Offer4</td>\n",
       "      <td>369.600000</td>\n",
       "      <td>Two-Door Car</td>\n",
       "    </tr>\n",
       "  </tbody>\n",
       "</table>\n",
       "</div>\n",
       "      <button class=\"colab-df-convert\" onclick=\"convertToInteractive('df-7a94f0ba-dcb9-4f90-8eac-803247a4a313')\"\n",
       "              title=\"Convert this dataframe to an interactive table.\"\n",
       "              style=\"display:none;\">\n",
       "        \n",
       "  <svg xmlns=\"http://www.w3.org/2000/svg\" height=\"24px\"viewBox=\"0 0 24 24\"\n",
       "       width=\"24px\">\n",
       "    <path d=\"M0 0h24v24H0V0z\" fill=\"none\"/>\n",
       "    <path d=\"M18.56 5.44l.94 2.06.94-2.06 2.06-.94-2.06-.94-.94-2.06-.94 2.06-2.06.94zm-11 1L8.5 8.5l.94-2.06 2.06-.94-2.06-.94L8.5 2.5l-.94 2.06-2.06.94zm10 10l.94 2.06.94-2.06 2.06-.94-2.06-.94-.94-2.06-.94 2.06-2.06.94z\"/><path d=\"M17.41 7.96l-1.37-1.37c-.4-.4-.92-.59-1.43-.59-.52 0-1.04.2-1.43.59L10.3 9.45l-7.72 7.72c-.78.78-.78 2.05 0 2.83L4 21.41c.39.39.9.59 1.41.59.51 0 1.02-.2 1.41-.59l7.78-7.78 2.81-2.81c.8-.78.8-2.07 0-2.86zM5.41 20L4 18.59l7.72-7.72 1.47 1.35L5.41 20z\"/>\n",
       "  </svg>\n",
       "      </button>\n",
       "      \n",
       "  <style>\n",
       "    .colab-df-container {\n",
       "      display:flex;\n",
       "      flex-wrap:wrap;\n",
       "      gap: 12px;\n",
       "    }\n",
       "\n",
       "    .colab-df-convert {\n",
       "      background-color: #E8F0FE;\n",
       "      border: none;\n",
       "      border-radius: 50%;\n",
       "      cursor: pointer;\n",
       "      display: none;\n",
       "      fill: #1967D2;\n",
       "      height: 32px;\n",
       "      padding: 0 0 0 0;\n",
       "      width: 32px;\n",
       "    }\n",
       "\n",
       "    .colab-df-convert:hover {\n",
       "      background-color: #E2EBFA;\n",
       "      box-shadow: 0px 1px 2px rgba(60, 64, 67, 0.3), 0px 1px 3px 1px rgba(60, 64, 67, 0.15);\n",
       "      fill: #174EA6;\n",
       "    }\n",
       "\n",
       "    [theme=dark] .colab-df-convert {\n",
       "      background-color: #3B4455;\n",
       "      fill: #D2E3FC;\n",
       "    }\n",
       "\n",
       "    [theme=dark] .colab-df-convert:hover {\n",
       "      background-color: #434B5C;\n",
       "      box-shadow: 0px 1px 3px 1px rgba(0, 0, 0, 0.15);\n",
       "      filter: drop-shadow(0px 1px 2px rgba(0, 0, 0, 0.3));\n",
       "      fill: #FFFFFF;\n",
       "    }\n",
       "  </style>\n",
       "\n",
       "      <script>\n",
       "        const buttonEl =\n",
       "          document.querySelector('#df-7a94f0ba-dcb9-4f90-8eac-803247a4a313 button.colab-df-convert');\n",
       "        buttonEl.style.display =\n",
       "          google.colab.kernel.accessAllowed ? 'block' : 'none';\n",
       "\n",
       "        async function convertToInteractive(key) {\n",
       "          const element = document.querySelector('#df-7a94f0ba-dcb9-4f90-8eac-803247a4a313');\n",
       "          const dataTable =\n",
       "            await google.colab.kernel.invokeFunction('convertToInteractive',\n",
       "                                                     [key], {});\n",
       "          if (!dataTable) return;\n",
       "\n",
       "          const docLinkHtml = 'Like what you see? Visit the ' +\n",
       "            '<a target=\"_blank\" href=https://colab.research.google.com/notebooks/data_table.ipynb>data table notebook</a>'\n",
       "            + ' to learn more about interactive tables.';\n",
       "          element.innerHTML = '';\n",
       "          dataTable['output_type'] = 'display_data';\n",
       "          await google.colab.output.renderOutput(dataTable, element);\n",
       "          const docLink = document.createElement('div');\n",
       "          docLink.innerHTML = docLinkHtml;\n",
       "          element.appendChild(docLink);\n",
       "        }\n",
       "      </script>\n",
       "    </div>\n",
       "  </div>\n",
       "  "
      ],
      "text/plain": [
       "              clv  Coverage Gender  Income Marital.Status  \\\n",
       "8625  4100.398533   Premium      F   47761         Single   \n",
       "8626  3096.511217  Extended      F   21604       Divorced   \n",
       "8627  8163.890428  Extended      M       0         Single   \n",
       "8628  7524.442436  Extended      M   21941        Married   \n",
       "8629  2611.836866  Extended      M       0         Single   \n",
       "\n",
       "      Monthly.Premium.Auto  Number.of.Open.Complaints  Number.of.Policies  \\\n",
       "8625                   104                          0                   1   \n",
       "8626                    79                          0                   1   \n",
       "8627                    85                          3                   2   \n",
       "8628                    96                          0                   3   \n",
       "8629                    77                          0                   1   \n",
       "\n",
       "     Renew.Offer.Type  Total.Claim.Amount  Vehicle.Class  \n",
       "8625           Offer1          541.282007  Four-Door Car  \n",
       "8626           Offer1          379.200000  Four-Door Car  \n",
       "8627           Offer1          790.784983  Four-Door Car  \n",
       "8628           Offer3          691.200000  Four-Door Car  \n",
       "8629           Offer4          369.600000   Two-Door Car  "
      ]
     },
     "execution_count": 2,
     "metadata": {},
     "output_type": "execute_result"
    }
   ],
   "source": [
    "Data=pd.read_csv(\"Vehicle_Insurance.csv\")\n",
    "Data.tail()\n",
    "\n",
    "# 1 pt"
   ]
  },
  {
   "cell_type": "markdown",
   "metadata": {
    "id": "T48PV8tIvQEF"
   },
   "source": [
    "### 1.2 Keep only the rows with $2200 \\leq$ \"clv\" $\\leq 16000$ from the dataset. What's the shape of the dataframe now?"
   ]
  },
  {
   "cell_type": "code",
   "execution_count": null,
   "metadata": {
    "colab": {
     "base_uri": "https://localhost:8080/"
    },
    "id": "uT1uSpcHvgC6",
    "outputId": "3e0b367d-8e01-4fba-cbc0-4e2d632932aa"
   },
   "outputs": [
    {
     "data": {
      "text/plain": [
       "(8212, 11)"
      ]
     },
     "execution_count": 3,
     "metadata": {},
     "output_type": "execute_result"
    }
   ],
   "source": [
    "Data=Data[(Data.clv>=2200)&(Data.clv<=16000)]\n",
    "\n",
    "Data.shape\n",
    "\n",
    "# 3 pts"
   ]
  },
  {
   "cell_type": "markdown",
   "metadata": {
    "id": "t6h1-f7sxKJa"
   },
   "source": [
    "### 1.3 Using `preprocessing.OneHotEncoder()`, convert all categorical features. Make sure not to add collinear features during the encoding process. Then, display the first 3 rows."
   ]
  },
  {
   "cell_type": "code",
   "execution_count": null,
   "metadata": {
    "colab": {
     "base_uri": "https://localhost:8080/",
     "height": 207
    },
    "id": "roWX2SCqxCDW",
    "outputId": "4b1fa4a9-412e-4847-c6c1-637b6644a53e"
   },
   "outputs": [
    {
     "data": {
      "text/html": [
       "\n",
       "  <div id=\"df-9a2c5473-61e4-4e4f-887f-6c049e00dd65\">\n",
       "    <div class=\"colab-df-container\">\n",
       "      <div>\n",
       "<style scoped>\n",
       "    .dataframe tbody tr th:only-of-type {\n",
       "        vertical-align: middle;\n",
       "    }\n",
       "\n",
       "    .dataframe tbody tr th {\n",
       "        vertical-align: top;\n",
       "    }\n",
       "\n",
       "    .dataframe thead th {\n",
       "        text-align: right;\n",
       "    }\n",
       "</style>\n",
       "<table border=\"1\" class=\"dataframe\">\n",
       "  <thead>\n",
       "    <tr style=\"text-align: right;\">\n",
       "      <th></th>\n",
       "      <th>clv</th>\n",
       "      <th>Income</th>\n",
       "      <th>Monthly.Premium.Auto</th>\n",
       "      <th>Number.of.Open.Complaints</th>\n",
       "      <th>Number.of.Policies</th>\n",
       "      <th>Total.Claim.Amount</th>\n",
       "      <th>Coverage0</th>\n",
       "      <th>Coverage1</th>\n",
       "      <th>Gender0</th>\n",
       "      <th>Marital.Status0</th>\n",
       "      <th>Marital.Status1</th>\n",
       "      <th>Renew.Offer.Type0</th>\n",
       "      <th>Renew.Offer.Type1</th>\n",
       "      <th>Renew.Offer.Type2</th>\n",
       "      <th>Vehicle.Class0</th>\n",
       "      <th>Vehicle.Class1</th>\n",
       "      <th>Vehicle.Class2</th>\n",
       "      <th>Vehicle.Class3</th>\n",
       "      <th>Vehicle.Class4</th>\n",
       "    </tr>\n",
       "  </thead>\n",
       "  <tbody>\n",
       "    <tr>\n",
       "      <th>0</th>\n",
       "      <td>2763.519279</td>\n",
       "      <td>56274</td>\n",
       "      <td>69</td>\n",
       "      <td>0</td>\n",
       "      <td>1</td>\n",
       "      <td>384.811147</td>\n",
       "      <td>0.0</td>\n",
       "      <td>0.0</td>\n",
       "      <td>0.0</td>\n",
       "      <td>1.0</td>\n",
       "      <td>0.0</td>\n",
       "      <td>0.0</td>\n",
       "      <td>0.0</td>\n",
       "      <td>0.0</td>\n",
       "      <td>0.0</td>\n",
       "      <td>0.0</td>\n",
       "      <td>0.0</td>\n",
       "      <td>0.0</td>\n",
       "      <td>1.0</td>\n",
       "    </tr>\n",
       "    <tr>\n",
       "      <th>1</th>\n",
       "      <td>6979.535903</td>\n",
       "      <td>0</td>\n",
       "      <td>94</td>\n",
       "      <td>0</td>\n",
       "      <td>8</td>\n",
       "      <td>1131.464935</td>\n",
       "      <td>1.0</td>\n",
       "      <td>0.0</td>\n",
       "      <td>0.0</td>\n",
       "      <td>0.0</td>\n",
       "      <td>1.0</td>\n",
       "      <td>0.0</td>\n",
       "      <td>1.0</td>\n",
       "      <td>0.0</td>\n",
       "      <td>0.0</td>\n",
       "      <td>0.0</td>\n",
       "      <td>0.0</td>\n",
       "      <td>0.0</td>\n",
       "      <td>0.0</td>\n",
       "    </tr>\n",
       "    <tr>\n",
       "      <th>2</th>\n",
       "      <td>12887.431650</td>\n",
       "      <td>48767</td>\n",
       "      <td>108</td>\n",
       "      <td>0</td>\n",
       "      <td>2</td>\n",
       "      <td>566.472247</td>\n",
       "      <td>0.0</td>\n",
       "      <td>1.0</td>\n",
       "      <td>0.0</td>\n",
       "      <td>1.0</td>\n",
       "      <td>0.0</td>\n",
       "      <td>0.0</td>\n",
       "      <td>0.0</td>\n",
       "      <td>0.0</td>\n",
       "      <td>0.0</td>\n",
       "      <td>0.0</td>\n",
       "      <td>0.0</td>\n",
       "      <td>0.0</td>\n",
       "      <td>1.0</td>\n",
       "    </tr>\n",
       "  </tbody>\n",
       "</table>\n",
       "</div>\n",
       "      <button class=\"colab-df-convert\" onclick=\"convertToInteractive('df-9a2c5473-61e4-4e4f-887f-6c049e00dd65')\"\n",
       "              title=\"Convert this dataframe to an interactive table.\"\n",
       "              style=\"display:none;\">\n",
       "        \n",
       "  <svg xmlns=\"http://www.w3.org/2000/svg\" height=\"24px\"viewBox=\"0 0 24 24\"\n",
       "       width=\"24px\">\n",
       "    <path d=\"M0 0h24v24H0V0z\" fill=\"none\"/>\n",
       "    <path d=\"M18.56 5.44l.94 2.06.94-2.06 2.06-.94-2.06-.94-.94-2.06-.94 2.06-2.06.94zm-11 1L8.5 8.5l.94-2.06 2.06-.94-2.06-.94L8.5 2.5l-.94 2.06-2.06.94zm10 10l.94 2.06.94-2.06 2.06-.94-2.06-.94-.94-2.06-.94 2.06-2.06.94z\"/><path d=\"M17.41 7.96l-1.37-1.37c-.4-.4-.92-.59-1.43-.59-.52 0-1.04.2-1.43.59L10.3 9.45l-7.72 7.72c-.78.78-.78 2.05 0 2.83L4 21.41c.39.39.9.59 1.41.59.51 0 1.02-.2 1.41-.59l7.78-7.78 2.81-2.81c.8-.78.8-2.07 0-2.86zM5.41 20L4 18.59l7.72-7.72 1.47 1.35L5.41 20z\"/>\n",
       "  </svg>\n",
       "      </button>\n",
       "      \n",
       "  <style>\n",
       "    .colab-df-container {\n",
       "      display:flex;\n",
       "      flex-wrap:wrap;\n",
       "      gap: 12px;\n",
       "    }\n",
       "\n",
       "    .colab-df-convert {\n",
       "      background-color: #E8F0FE;\n",
       "      border: none;\n",
       "      border-radius: 50%;\n",
       "      cursor: pointer;\n",
       "      display: none;\n",
       "      fill: #1967D2;\n",
       "      height: 32px;\n",
       "      padding: 0 0 0 0;\n",
       "      width: 32px;\n",
       "    }\n",
       "\n",
       "    .colab-df-convert:hover {\n",
       "      background-color: #E2EBFA;\n",
       "      box-shadow: 0px 1px 2px rgba(60, 64, 67, 0.3), 0px 1px 3px 1px rgba(60, 64, 67, 0.15);\n",
       "      fill: #174EA6;\n",
       "    }\n",
       "\n",
       "    [theme=dark] .colab-df-convert {\n",
       "      background-color: #3B4455;\n",
       "      fill: #D2E3FC;\n",
       "    }\n",
       "\n",
       "    [theme=dark] .colab-df-convert:hover {\n",
       "      background-color: #434B5C;\n",
       "      box-shadow: 0px 1px 3px 1px rgba(0, 0, 0, 0.15);\n",
       "      filter: drop-shadow(0px 1px 2px rgba(0, 0, 0, 0.3));\n",
       "      fill: #FFFFFF;\n",
       "    }\n",
       "  </style>\n",
       "\n",
       "      <script>\n",
       "        const buttonEl =\n",
       "          document.querySelector('#df-9a2c5473-61e4-4e4f-887f-6c049e00dd65 button.colab-df-convert');\n",
       "        buttonEl.style.display =\n",
       "          google.colab.kernel.accessAllowed ? 'block' : 'none';\n",
       "\n",
       "        async function convertToInteractive(key) {\n",
       "          const element = document.querySelector('#df-9a2c5473-61e4-4e4f-887f-6c049e00dd65');\n",
       "          const dataTable =\n",
       "            await google.colab.kernel.invokeFunction('convertToInteractive',\n",
       "                                                     [key], {});\n",
       "          if (!dataTable) return;\n",
       "\n",
       "          const docLinkHtml = 'Like what you see? Visit the ' +\n",
       "            '<a target=\"_blank\" href=https://colab.research.google.com/notebooks/data_table.ipynb>data table notebook</a>'\n",
       "            + ' to learn more about interactive tables.';\n",
       "          element.innerHTML = '';\n",
       "          dataTable['output_type'] = 'display_data';\n",
       "          await google.colab.output.renderOutput(dataTable, element);\n",
       "          const docLink = document.createElement('div');\n",
       "          docLink.innerHTML = docLinkHtml;\n",
       "          element.appendChild(docLink);\n",
       "        }\n",
       "      </script>\n",
       "    </div>\n",
       "  </div>\n",
       "  "
      ],
      "text/plain": [
       "            clv  Income  Monthly.Premium.Auto  Number.of.Open.Complaints  \\\n",
       "0   2763.519279   56274                    69                          0   \n",
       "1   6979.535903       0                    94                          0   \n",
       "2  12887.431650   48767                   108                          0   \n",
       "\n",
       "   Number.of.Policies  Total.Claim.Amount  Coverage0  Coverage1  Gender0  \\\n",
       "0                   1          384.811147        0.0        0.0      0.0   \n",
       "1                   8         1131.464935        1.0        0.0      0.0   \n",
       "2                   2          566.472247        0.0        1.0      0.0   \n",
       "\n",
       "   Marital.Status0  Marital.Status1  Renew.Offer.Type0  Renew.Offer.Type1  \\\n",
       "0              1.0              0.0                0.0                0.0   \n",
       "1              0.0              1.0                0.0                1.0   \n",
       "2              1.0              0.0                0.0                0.0   \n",
       "\n",
       "   Renew.Offer.Type2  Vehicle.Class0  Vehicle.Class1  Vehicle.Class2  \\\n",
       "0                0.0             0.0             0.0             0.0   \n",
       "1                0.0             0.0             0.0             0.0   \n",
       "2                0.0             0.0             0.0             0.0   \n",
       "\n",
       "   Vehicle.Class3  Vehicle.Class4  \n",
       "0             0.0             1.0  \n",
       "1             0.0             0.0  \n",
       "2             0.0             1.0  "
      ]
     },
     "execution_count": 4,
     "metadata": {},
     "output_type": "execute_result"
    }
   ],
   "source": [
    "ohe = preprocessing.OneHotEncoder(drop='first')\n",
    "dataOHE = Data.copy()\n",
    "\n",
    "categorical_cols = Data.select_dtypes(include='object').columns\n",
    "\n",
    "for col in categorical_cols:\n",
    "    n = dataOHE[col].nunique()\n",
    "\n",
    "    #reshape the 1-D array to 2-D as fit_transform expects 2-D and finally fit the object \n",
    "    dummy = ohe.fit_transform(dataOHE[col].values.reshape(-1,1)).toarray()\n",
    "\n",
    "    # To add this back into the original dataframe \n",
    "    dfOneHot = pd.DataFrame(dummy, columns = [col+str(int(i)) for i in range(n-1)]) \n",
    "    dataOHE = pd.concat([dataOHE.reset_index(drop=True), dfOneHot.reset_index(drop=True)], axis=1)\n",
    "\n",
    "    #droping the cwork_rate_att column \n",
    "    dataOHE = dataOHE.drop([col], axis=1)\n",
    "\n",
    "dataOHE.head(3)\n",
    "\n",
    "# 6 pts"
   ]
  },
  {
   "cell_type": "markdown",
   "metadata": {
    "id": "noBsqu-y1lQU"
   },
   "source": [
    "### 1.4 Use `pandas.DataFrame.apply` to apply square root transformation to \"Total.Claim.Amount\" and log to the target variable. And then, create your `X` and `y`.  (No training/test splitting yet) "
   ]
  },
  {
   "cell_type": "code",
   "execution_count": null,
   "metadata": {
    "id": "D3mbtN9ljGIe"
   },
   "outputs": [],
   "source": [
    "dataOHE['Total.Claim.Amount'] = dataOHE['Total.Claim.Amount'].apply(np.sqrt)\n",
    "dataOHE['clv'] = dataOHE['clv'].apply(np.log)\n",
    "\n",
    "y = dataOHE['clv']\n",
    "X= dataOHE.drop('clv', axis='columns')\n",
    "\n",
    "# 3 pts"
   ]
  },
  {
   "cell_type": "markdown",
   "metadata": {
    "id": "azwMuwal3eL_"
   },
   "source": [
    "### 1.5 Build a new design matrix by applying polynomial expansion on the `X` from Question 1.4."
   ]
  },
  {
   "cell_type": "code",
   "execution_count": null,
   "metadata": {
    "id": "dSoq2jdp3dI-"
   },
   "outputs": [],
   "source": [
    "# Specify degree=2 and do NOT include the column with power 0 (i.e., column with all elements being 1)\n",
    " \n",
    "poly = sk.preprocessing.PolynomialFeatures(degree=2, interaction_only=False, include_bias=False)\n",
    "poly_X = poly.fit_transform(X)\n",
    "\n",
    "# 3 pts"
   ]
  },
  {
   "cell_type": "markdown",
   "metadata": {
    "id": "qIOYW9ue7nab"
   },
   "source": [
    "### 1.6 Standardize your design matrix (from Question 1.5) with `StandardScaler()`, and store the result into a Pandas dataFrame."
   ]
  },
  {
   "cell_type": "code",
   "execution_count": null,
   "metadata": {
    "id": "_qfJ-MfR9pLe"
   },
   "outputs": [],
   "source": [
    "scalar = StandardScaler()\n",
    "scalar.fit(poly_X) \n",
    "scaled_X = scalar.transform(poly_X) \n",
    "\n",
    "# 1 pt"
   ]
  },
  {
   "cell_type": "code",
   "execution_count": null,
   "metadata": {
    "colab": {
     "base_uri": "https://localhost:8080/",
     "height": 299
    },
    "id": "dFWCncAgJxrx",
    "outputId": "0c7366d0-5a1c-40c9-8eec-78f79f246802"
   },
   "outputs": [
    {
     "data": {
      "text/html": [
       "\n",
       "  <div id=\"df-8ad1368d-120d-4284-a0df-0ccb8b2e9c2b\">\n",
       "    <div class=\"colab-df-container\">\n",
       "      <div>\n",
       "<style scoped>\n",
       "    .dataframe tbody tr th:only-of-type {\n",
       "        vertical-align: middle;\n",
       "    }\n",
       "\n",
       "    .dataframe tbody tr th {\n",
       "        vertical-align: top;\n",
       "    }\n",
       "\n",
       "    .dataframe thead th {\n",
       "        text-align: right;\n",
       "    }\n",
       "</style>\n",
       "<table border=\"1\" class=\"dataframe\">\n",
       "  <thead>\n",
       "    <tr style=\"text-align: right;\">\n",
       "      <th></th>\n",
       "      <th>0</th>\n",
       "      <th>1</th>\n",
       "      <th>2</th>\n",
       "      <th>3</th>\n",
       "      <th>4</th>\n",
       "      <th>5</th>\n",
       "      <th>6</th>\n",
       "      <th>7</th>\n",
       "      <th>8</th>\n",
       "      <th>9</th>\n",
       "      <th>...</th>\n",
       "      <th>179</th>\n",
       "      <th>180</th>\n",
       "      <th>181</th>\n",
       "      <th>182</th>\n",
       "      <th>183</th>\n",
       "      <th>184</th>\n",
       "      <th>185</th>\n",
       "      <th>186</th>\n",
       "      <th>187</th>\n",
       "      <th>188</th>\n",
       "    </tr>\n",
       "  </thead>\n",
       "  <tbody>\n",
       "    <tr>\n",
       "      <th>0</th>\n",
       "      <td>0.603329</td>\n",
       "      <td>-0.712548</td>\n",
       "      <td>-0.420359</td>\n",
       "      <td>-0.830497</td>\n",
       "      <td>0.030067</td>\n",
       "      <td>-0.650746</td>\n",
       "      <td>-0.309768</td>\n",
       "      <td>-0.985733</td>\n",
       "      <td>0.842264</td>\n",
       "      <td>-0.603799</td>\n",
       "      <td>...</td>\n",
       "      <td>-0.118649</td>\n",
       "      <td>0.0</td>\n",
       "      <td>0.0</td>\n",
       "      <td>0.0</td>\n",
       "      <td>-0.486758</td>\n",
       "      <td>0.0</td>\n",
       "      <td>0.0</td>\n",
       "      <td>-0.230121</td>\n",
       "      <td>0.0</td>\n",
       "      <td>1.934254</td>\n",
       "    </tr>\n",
       "    <tr>\n",
       "      <th>1</th>\n",
       "      <td>-1.250653</td>\n",
       "      <td>0.095096</td>\n",
       "      <td>-0.420359</td>\n",
       "      <td>1.994204</td>\n",
       "      <td>2.104114</td>\n",
       "      <td>1.536698</td>\n",
       "      <td>-0.309768</td>\n",
       "      <td>-0.985733</td>\n",
       "      <td>-1.187276</td>\n",
       "      <td>1.656181</td>\n",
       "      <td>...</td>\n",
       "      <td>-0.118649</td>\n",
       "      <td>0.0</td>\n",
       "      <td>0.0</td>\n",
       "      <td>0.0</td>\n",
       "      <td>-0.486758</td>\n",
       "      <td>0.0</td>\n",
       "      <td>0.0</td>\n",
       "      <td>-0.230121</td>\n",
       "      <td>0.0</td>\n",
       "      <td>-0.516995</td>\n",
       "    </tr>\n",
       "    <tr>\n",
       "      <th>2</th>\n",
       "      <td>0.356006</td>\n",
       "      <td>0.547376</td>\n",
       "      <td>-0.420359</td>\n",
       "      <td>-0.426968</td>\n",
       "      <td>0.649009</td>\n",
       "      <td>-0.650746</td>\n",
       "      <td>3.228222</td>\n",
       "      <td>-0.985733</td>\n",
       "      <td>0.842264</td>\n",
       "      <td>-0.603799</td>\n",
       "      <td>...</td>\n",
       "      <td>-0.118649</td>\n",
       "      <td>0.0</td>\n",
       "      <td>0.0</td>\n",
       "      <td>0.0</td>\n",
       "      <td>-0.486758</td>\n",
       "      <td>0.0</td>\n",
       "      <td>0.0</td>\n",
       "      <td>-0.230121</td>\n",
       "      <td>0.0</td>\n",
       "      <td>1.934254</td>\n",
       "    </tr>\n",
       "    <tr>\n",
       "      <th>3</th>\n",
       "      <td>-1.250653</td>\n",
       "      <td>0.482765</td>\n",
       "      <td>-0.420359</td>\n",
       "      <td>1.590676</td>\n",
       "      <td>0.533399</td>\n",
       "      <td>-0.650746</td>\n",
       "      <td>-0.309768</td>\n",
       "      <td>1.014474</td>\n",
       "      <td>0.842264</td>\n",
       "      <td>-0.603799</td>\n",
       "      <td>...</td>\n",
       "      <td>-0.118649</td>\n",
       "      <td>0.0</td>\n",
       "      <td>0.0</td>\n",
       "      <td>0.0</td>\n",
       "      <td>2.054409</td>\n",
       "      <td>0.0</td>\n",
       "      <td>0.0</td>\n",
       "      <td>-0.230121</td>\n",
       "      <td>0.0</td>\n",
       "      <td>-0.516995</td>\n",
       "    </tr>\n",
       "    <tr>\n",
       "      <th>4</th>\n",
       "      <td>0.193551</td>\n",
       "      <td>-0.583325</td>\n",
       "      <td>-0.420359</td>\n",
       "      <td>-0.830497</td>\n",
       "      <td>-1.133194</td>\n",
       "      <td>-0.650746</td>\n",
       "      <td>-0.309768</td>\n",
       "      <td>1.014474</td>\n",
       "      <td>-1.187276</td>\n",
       "      <td>1.656181</td>\n",
       "      <td>...</td>\n",
       "      <td>-0.118649</td>\n",
       "      <td>0.0</td>\n",
       "      <td>0.0</td>\n",
       "      <td>0.0</td>\n",
       "      <td>-0.486758</td>\n",
       "      <td>0.0</td>\n",
       "      <td>0.0</td>\n",
       "      <td>-0.230121</td>\n",
       "      <td>0.0</td>\n",
       "      <td>-0.516995</td>\n",
       "    </tr>\n",
       "  </tbody>\n",
       "</table>\n",
       "<p>5 rows × 189 columns</p>\n",
       "</div>\n",
       "      <button class=\"colab-df-convert\" onclick=\"convertToInteractive('df-8ad1368d-120d-4284-a0df-0ccb8b2e9c2b')\"\n",
       "              title=\"Convert this dataframe to an interactive table.\"\n",
       "              style=\"display:none;\">\n",
       "        \n",
       "  <svg xmlns=\"http://www.w3.org/2000/svg\" height=\"24px\"viewBox=\"0 0 24 24\"\n",
       "       width=\"24px\">\n",
       "    <path d=\"M0 0h24v24H0V0z\" fill=\"none\"/>\n",
       "    <path d=\"M18.56 5.44l.94 2.06.94-2.06 2.06-.94-2.06-.94-.94-2.06-.94 2.06-2.06.94zm-11 1L8.5 8.5l.94-2.06 2.06-.94-2.06-.94L8.5 2.5l-.94 2.06-2.06.94zm10 10l.94 2.06.94-2.06 2.06-.94-2.06-.94-.94-2.06-.94 2.06-2.06.94z\"/><path d=\"M17.41 7.96l-1.37-1.37c-.4-.4-.92-.59-1.43-.59-.52 0-1.04.2-1.43.59L10.3 9.45l-7.72 7.72c-.78.78-.78 2.05 0 2.83L4 21.41c.39.39.9.59 1.41.59.51 0 1.02-.2 1.41-.59l7.78-7.78 2.81-2.81c.8-.78.8-2.07 0-2.86zM5.41 20L4 18.59l7.72-7.72 1.47 1.35L5.41 20z\"/>\n",
       "  </svg>\n",
       "      </button>\n",
       "      \n",
       "  <style>\n",
       "    .colab-df-container {\n",
       "      display:flex;\n",
       "      flex-wrap:wrap;\n",
       "      gap: 12px;\n",
       "    }\n",
       "\n",
       "    .colab-df-convert {\n",
       "      background-color: #E8F0FE;\n",
       "      border: none;\n",
       "      border-radius: 50%;\n",
       "      cursor: pointer;\n",
       "      display: none;\n",
       "      fill: #1967D2;\n",
       "      height: 32px;\n",
       "      padding: 0 0 0 0;\n",
       "      width: 32px;\n",
       "    }\n",
       "\n",
       "    .colab-df-convert:hover {\n",
       "      background-color: #E2EBFA;\n",
       "      box-shadow: 0px 1px 2px rgba(60, 64, 67, 0.3), 0px 1px 3px 1px rgba(60, 64, 67, 0.15);\n",
       "      fill: #174EA6;\n",
       "    }\n",
       "\n",
       "    [theme=dark] .colab-df-convert {\n",
       "      background-color: #3B4455;\n",
       "      fill: #D2E3FC;\n",
       "    }\n",
       "\n",
       "    [theme=dark] .colab-df-convert:hover {\n",
       "      background-color: #434B5C;\n",
       "      box-shadow: 0px 1px 3px 1px rgba(0, 0, 0, 0.15);\n",
       "      filter: drop-shadow(0px 1px 2px rgba(0, 0, 0, 0.3));\n",
       "      fill: #FFFFFF;\n",
       "    }\n",
       "  </style>\n",
       "\n",
       "      <script>\n",
       "        const buttonEl =\n",
       "          document.querySelector('#df-8ad1368d-120d-4284-a0df-0ccb8b2e9c2b button.colab-df-convert');\n",
       "        buttonEl.style.display =\n",
       "          google.colab.kernel.accessAllowed ? 'block' : 'none';\n",
       "\n",
       "        async function convertToInteractive(key) {\n",
       "          const element = document.querySelector('#df-8ad1368d-120d-4284-a0df-0ccb8b2e9c2b');\n",
       "          const dataTable =\n",
       "            await google.colab.kernel.invokeFunction('convertToInteractive',\n",
       "                                                     [key], {});\n",
       "          if (!dataTable) return;\n",
       "\n",
       "          const docLinkHtml = 'Like what you see? Visit the ' +\n",
       "            '<a target=\"_blank\" href=https://colab.research.google.com/notebooks/data_table.ipynb>data table notebook</a>'\n",
       "            + ' to learn more about interactive tables.';\n",
       "          element.innerHTML = '';\n",
       "          dataTable['output_type'] = 'display_data';\n",
       "          await google.colab.output.renderOutput(dataTable, element);\n",
       "          const docLink = document.createElement('div');\n",
       "          docLink.innerHTML = docLinkHtml;\n",
       "          element.appendChild(docLink);\n",
       "        }\n",
       "      </script>\n",
       "    </div>\n",
       "  </div>\n",
       "  "
      ],
      "text/plain": [
       "        0         1         2         3         4         5         6    \\\n",
       "0  0.603329 -0.712548 -0.420359 -0.830497  0.030067 -0.650746 -0.309768   \n",
       "1 -1.250653  0.095096 -0.420359  1.994204  2.104114  1.536698 -0.309768   \n",
       "2  0.356006  0.547376 -0.420359 -0.426968  0.649009 -0.650746  3.228222   \n",
       "3 -1.250653  0.482765 -0.420359  1.590676  0.533399 -0.650746 -0.309768   \n",
       "4  0.193551 -0.583325 -0.420359 -0.830497 -1.133194 -0.650746 -0.309768   \n",
       "\n",
       "        7         8         9    ...       179  180  181  182       183  184  \\\n",
       "0 -0.985733  0.842264 -0.603799  ... -0.118649  0.0  0.0  0.0 -0.486758  0.0   \n",
       "1 -0.985733 -1.187276  1.656181  ... -0.118649  0.0  0.0  0.0 -0.486758  0.0   \n",
       "2 -0.985733  0.842264 -0.603799  ... -0.118649  0.0  0.0  0.0 -0.486758  0.0   \n",
       "3  1.014474  0.842264 -0.603799  ... -0.118649  0.0  0.0  0.0  2.054409  0.0   \n",
       "4  1.014474 -1.187276  1.656181  ... -0.118649  0.0  0.0  0.0 -0.486758  0.0   \n",
       "\n",
       "   185       186  187       188  \n",
       "0  0.0 -0.230121  0.0  1.934254  \n",
       "1  0.0 -0.230121  0.0 -0.516995  \n",
       "2  0.0 -0.230121  0.0  1.934254  \n",
       "3  0.0 -0.230121  0.0 -0.516995  \n",
       "4  0.0 -0.230121  0.0 -0.516995  \n",
       "\n",
       "[5 rows x 189 columns]"
      ]
     },
     "execution_count": 8,
     "metadata": {},
     "output_type": "execute_result"
    }
   ],
   "source": [
    "XDF = pd.DataFrame(scaled_X)\n",
    "XDF.head()\n",
    "\n",
    "# 1 pt"
   ]
  },
  {
   "cell_type": "markdown",
   "metadata": {
    "id": "R0Llj1HB4I_f"
   },
   "source": [
    "### 1.7 What is the shape of the resultant DataFrame obtained from question 1.6?"
   ]
  },
  {
   "cell_type": "code",
   "execution_count": null,
   "metadata": {
    "colab": {
     "base_uri": "https://localhost:8080/"
    },
    "id": "mnTYhqo0jGIg",
    "outputId": "0ebd8ccf-a002-44ed-e084-3e66a17e1747"
   },
   "outputs": [
    {
     "data": {
      "text/plain": [
       "(8212, 189)"
      ]
     },
     "execution_count": 9,
     "metadata": {},
     "output_type": "execute_result"
    }
   ],
   "source": [
    "XDF.shape\n",
    "\n",
    "# 2 pts"
   ]
  },
  {
   "cell_type": "markdown",
   "metadata": {
    "id": "WT-POfziGnpm"
   },
   "source": [
    "## Question 2: /7 pts\n",
    "\n",
    "Split the data into training and test sets. Hold out 30% of observations as the test set.  Pass `random_state=seed` to `train_test_split` to ensure you get the same sets per run. The design matrix to pass in to the splitter function is the dataframe whcih you got in Question 1.6. As for the target, you have created it in Question 1.4."
   ]
  },
  {
   "cell_type": "code",
   "execution_count": null,
   "metadata": {
    "colab": {
     "base_uri": "https://localhost:8080/"
    },
    "id": "0nA70uSCJMiO",
    "outputId": "1952c89f-6eac-4a18-83cc-bcef103d6573"
   },
   "outputs": [
    {
     "name": "stdout",
     "output_type": "stream",
     "text": [
      "(5748, 189)\n"
     ]
    },
    {
     "data": {
      "text/plain": [
       "8.62"
      ]
     },
     "execution_count": 10,
     "metadata": {},
     "output_type": "execute_result"
    }
   ],
   "source": [
    "X_train, X_test, y_train, y_test = train_test_split(XDF , y, test_size=0.3, random_state=seed)\n",
    "\n",
    "print(X_train.shape)\n",
    "\n",
    "round(y_train.mean(),2)\n",
    "\n",
    "# 5 pts"
   ]
  },
  {
   "cell_type": "markdown",
   "metadata": {
    "id": "2LN9bLXV5H3Q"
   },
   "source": [
    "How many observations in your traning data set? What is the average value of the target variable in the traning data set (keep 2 decimal place)?"
   ]
  },
  {
   "cell_type": "markdown",
   "metadata": {
    "id": "hhxxdCrA59Ur"
   },
   "source": [
    "**YOUR ANSWER HERE:** [2pts]\n",
    "\n",
    "5748 observations in the traning data set. And the average value of the target variable in the traning data set is 8.62."
   ]
  },
  {
   "cell_type": "markdown",
   "metadata": {
    "id": "JSROy1U56I8Y"
   },
   "source": [
    "## Question 3: /23 pts"
   ]
  },
  {
   "cell_type": "markdown",
   "metadata": {
    "id": "HnTESpfO8g2_"
   },
   "source": [
    "### 3.1 Create a SciKit Learn `Ridge` regression object. Using this object, run a ridge regression analysis of the target variable against all the transformed predictor variables using your training data. Include the arguement `alpha=4.0`. In addition, the ridge regression should be fitted with the intercept."
   ]
  },
  {
   "cell_type": "code",
   "execution_count": null,
   "metadata": {
    "id": "KNbYd9YM5QO3"
   },
   "outputs": [],
   "source": [
    "ridge = skl.Ridge(alpha=4.0, fit_intercept=True)\n",
    "\n",
    "RL =ridge.fit(X_train,y_train)\n",
    "\n",
    "# 5 pts"
   ]
  },
  {
   "cell_type": "markdown",
   "metadata": {
    "id": "TiPa777vIESf"
   },
   "source": [
    "### 3.2 Vary the ridge coeficient `alpha` according to the hint. Use `cross_val_score()` to select the best `alpha` based on 'mean_squared_error'. Include the argument `cv=5`. Report the `alpha` that yields the smallest mean_squared_error.   "
   ]
  },
  {
   "cell_type": "code",
   "execution_count": null,
   "metadata": {
    "id": "FqbRiqdBICnW"
   },
   "outputs": [],
   "source": [
    "lam = np.exp(np.linspace(-4,1,10))\n",
    "\n",
    "mse = np.zeros(10)\n",
    "for i in range(lam.size):\n",
    "    cv_scores = cross_val_score(skl.Ridge(alpha=lam[i]), X_train, y_train, cv=5, scoring = 'neg_mean_squared_error')\n",
    "    mse[i]=-cv_scores.mean()\n",
    "\n",
    "# 6 pts"
   ]
  },
  {
   "cell_type": "code",
   "execution_count": null,
   "metadata": {
    "colab": {
     "base_uri": "https://localhost:8080/"
    },
    "id": "qsZa8UVDI5U6",
    "outputId": "20aac5c4-681f-4c53-fd62-c70ee7a49ecc"
   },
   "outputs": [
    {
     "data": {
      "text/plain": [
       "1.559623497606781"
      ]
     },
     "execution_count": 13,
     "metadata": {},
     "output_type": "execute_result"
    }
   ],
   "source": [
    "lam[np.argmin(mse)]\n",
    "# 2 pts"
   ]
  },
  {
   "cell_type": "markdown",
   "metadata": {
    "id": "6sDLY0ZoD2gl"
   },
   "source": [
    "### 3.3 Re-fit the ridge regression with `alpha` being the value obtained in the previous question. `Print` the first 3 parameters of your model."
   ]
  },
  {
   "cell_type": "code",
   "execution_count": null,
   "metadata": {
    "colab": {
     "base_uri": "https://localhost:8080/"
    },
    "id": "SdW6-rRKDs0H",
    "outputId": "d4c30074-edba-424d-e36c-574113f056db"
   },
   "outputs": [
    {
     "name": "stdout",
     "output_type": "stream",
     "text": [
      "The first 3 parameters of the model are : [0.02839762 0.33081133 0.02778567]\n"
     ]
    }
   ],
   "source": [
    "ridge = skl.Ridge(alpha=lam[np.argmin(mse)], fit_intercept=True)\n",
    "\n",
    "RL =ridge.fit(X_train,y_train)\n",
    "\n",
    "print(f'The first 3 parameters of the model are : {RL.coef_[0:3]}')\n",
    "\n",
    "# 3 pts"
   ]
  },
  {
   "cell_type": "markdown",
   "metadata": {
    "id": "0Tkm7rYwZhav"
   },
   "source": [
    "### 3.4 Fit the linear regression without any penalty, and the regression should be fitted with the intercept. `Print` the first 3 parameters of your model."
   ]
  },
  {
   "cell_type": "code",
   "execution_count": null,
   "metadata": {
    "colab": {
     "base_uri": "https://localhost:8080/"
    },
    "id": "gqo8keT9Z-oz",
    "outputId": "493e270b-394e-4151-b6e1-7e493e17445d"
   },
   "outputs": [
    {
     "name": "stdout",
     "output_type": "stream",
     "text": [
      "The first 3 parameters of the model are : [0.01836491 0.22405672 0.0293542 ]\n"
     ]
    }
   ],
   "source": [
    "Reg = skl.LinearRegression(fit_intercept=True)\n",
    "\n",
    "RGL = Reg.fit(X_train,y_train)\n",
    "\n",
    "print(f'The first 3 parameters of the model are : {RGL.coef_[0:3]}')\n",
    "\n",
    "# 3 pts"
   ]
  },
  {
   "cell_type": "markdown",
   "metadata": {
    "id": "sm7Gr6eXaqzP"
   },
   "source": [
    "Comparing the parameters that you obtain in questions 3.3 and 3.4, what do you find?"
   ]
  },
  {
   "cell_type": "markdown",
   "metadata": {
    "id": "3dWojdSQbD1n"
   },
   "source": [
    "**YOUR ANSWER HERE:** [2pts]\n",
    "\n",
    "The Ridge has resulted in larger parameters except for the last one."
   ]
  },
  {
   "cell_type": "markdown",
   "metadata": {
    "id": "tWgD5DCS4abp"
   },
   "source": [
    "### 3.5 Use your trained model from Question 3.4 to predict over the test set and `print` the first 5 prediction values."
   ]
  },
  {
   "cell_type": "code",
   "execution_count": null,
   "metadata": {
    "colab": {
     "base_uri": "https://localhost:8080/"
    },
    "id": "jZ2kmfb74usy",
    "outputId": "464c5fb3-cab8-47db-ec92-1f40ca25e445"
   },
   "outputs": [
    {
     "name": "stdout",
     "output_type": "stream",
     "text": [
      "[9.23937373 8.30926286 8.89959489 8.09344255 8.43944697]\n"
     ]
    }
   ],
   "source": [
    "yp = RGL.predict(X_test)\n",
    "\n",
    "print(yp[0:5])\n",
    "\n",
    "# 2 pts"
   ]
  },
  {
   "cell_type": "markdown",
   "metadata": {
    "id": "rbzjtW76e1pD"
   },
   "source": [
    "## Question 4: /25 pts"
   ]
  },
  {
   "cell_type": "markdown",
   "metadata": {
    "id": "fVzCvbKUgQUr"
   },
   "source": [
    "### 4.1 Consider to fit a Lasso regression to the train dataset. Use `lasso_path()` to show the full path of the first 20 coefficients of the Lasso regression. Include the arguement `eps=8e-3` and `n_alphas=50`."
   ]
  },
  {
   "cell_type": "code",
   "execution_count": null,
   "metadata": {
    "colab": {
     "base_uri": "https://localhost:8080/",
     "height": 279
    },
    "id": "-yYkOTzFe1DT",
    "outputId": "d3f178db-284c-4c92-e46e-94b5e67408f9"
   },
   "outputs": [
    {
     "data": {
      "image/png": "[encoded data removed]",
      "text/plain": [
       "<Figure size 432x288 with 1 Axes>"
      ]
     },
     "metadata": {
      "needs_background": "light"
     },
     "output_type": "display_data"
    }
   ],
   "source": [
    "# Draw a plot to show the path. Legend is not required in the plot. \n",
    "lambda_lasso, coefs_lasso, _ = skl.lasso_path(X_train,y_train, eps=8e-3, n_alphas=50, alphas= None)\n",
    "\n",
    "neg_log_lambda = -np.log(lambda_lasso)\n",
    "for i in range(20):\n",
    "    l1 = plt.plot(neg_log_lambda, coefs_lasso[i,])\n",
    "\n",
    "plt.xlabel('Neg. Log. Lambda')\n",
    "plt.ylabel('Coef.')\n",
    "\n",
    "plt.show()\n",
    "\n",
    "# 7 pts"
   ]
  },
  {
   "cell_type": "markdown",
   "metadata": {
    "id": "CS-5Wbsfh7UL"
   },
   "source": [
    "Describe the trend that shows in your figure."
   ]
  },
  {
   "cell_type": "markdown",
   "metadata": {
    "id": "aOig7gYBiFJ0"
   },
   "source": [
    "**YOUR ANSWER HERE:** [3pts] \n",
    "\n",
    "On the x-axis, a larger value corresponds to a smaller tuning parameter associated with the regularization (i.e. smaller strength of the penalization). Larger values on the x-axis yield more non-zero coefficients.*"
   ]
  },
  {
   "cell_type": "markdown",
   "metadata": {
    "id": "8VqmO6vyjGtm"
   },
   "source": [
    "### 4.2 Use the Scikit Learn's cross-validated LASSO to automatically search for the best tuning parameter of the LASSO regression on the training set with intercept. Include arguments `eps=8e-3`, `n_alphas=30`, `tol=0.001`, `cv=5`, and `random_state=seed`. Report the best tuning parameter and the number of the non-zero coefficients in the model."
   ]
  },
  {
   "cell_type": "code",
   "execution_count": null,
   "metadata": {
    "id": "XcgZDP9kjNHP"
   },
   "outputs": [],
   "source": [
    "LASS = skl.LassoCV(eps=8e-3,\n",
    "                   n_alphas=30,\n",
    "                   alphas=None,\n",
    "                   fit_intercept=True,\n",
    "                   tol=0.001,\n",
    "                   cv=5, \n",
    "                   n_jobs=4,\n",
    "                   random_state=seed)\n",
    "\n",
    "# 5 pts"
   ]
  },
  {
   "cell_type": "code",
   "execution_count": null,
   "metadata": {
    "colab": {
     "base_uri": "https://localhost:8080/"
    },
    "id": "_EHSoocfjhN0",
    "outputId": "fa849795-1124-4367-f927-934b180eca46"
   },
   "outputs": [
    {
     "data": {
      "text/plain": [
       "LassoCV(cv=5, eps=0.008, n_alphas=30, n_jobs=4, random_state=2023, tol=0.001)"
      ]
     },
     "execution_count": 20,
     "metadata": {},
     "output_type": "execute_result"
    }
   ],
   "source": [
    "LASS.fit(X_train,y_train)\n",
    "\n",
    "# 1 pt"
   ]
  },
  {
   "cell_type": "code",
   "execution_count": null,
   "metadata": {
    "colab": {
     "base_uri": "https://localhost:8080/"
    },
    "id": "YgUFyO98jsBx",
    "outputId": "a5a30e18-c04f-4557-dcaa-a908dc81841f"
   },
   "outputs": [
    {
     "name": "stdout",
     "output_type": "stream",
     "text": [
      "Best fit: alpha=0.002\n"
     ]
    }
   ],
   "source": [
    "# Print best tuning parameter\n",
    "print('Best fit: alpha=%.3f' % LASS.alpha_)\n",
    "\n",
    "# 1 pt"
   ]
  },
  {
   "cell_type": "code",
   "execution_count": null,
   "metadata": {
    "colab": {
     "base_uri": "https://localhost:8080/"
    },
    "id": "mJBcH32X8Vr7",
    "outputId": "67b5502c-7960-454c-aea2-2b2e789ea925"
   },
   "outputs": [
    {
     "data": {
      "text/plain": [
       "92"
      ]
     },
     "execution_count": 56,
     "metadata": {},
     "output_type": "execute_result"
    }
   ],
   "source": [
    "LASS.coef_.size-sum(LASS.coef_==0)\n",
    "\n",
    "# 1 pt"
   ]
  },
  {
   "cell_type": "markdown",
   "metadata": {
    "id": "Czdd73jll-QW"
   },
   "source": [
    "### 4.3 Use the Scikit Learn's cross-validated ElasticNet to automatically search for the best tuning parameters of the Elasticnet regression with intercept on the training data set. Include the same argument as question 4.2 as well as `l1_ratio=[.7, .9, .95, .99,1]`. Report the best tuning parameters."
   ]
  },
  {
   "cell_type": "code",
   "execution_count": null,
   "metadata": {
    "colab": {
     "base_uri": "https://localhost:8080/"
    },
    "id": "fPJuGnkjmcE6",
    "outputId": "83e36fdf-cddc-48b0-e747-8b432644a7bd"
   },
   "outputs": [
    {
     "data": {
      "text/html": [
       "<style>#sk-container-id-2 {color: black;background-color: white;}#sk-container-id-2 pre{padding: 0;}#sk-container-id-2 div.sk-toggleable {background-color: white;}#sk-container-id-2 label.sk-toggleable__label {cursor: pointer;display: block;width: 100%;margin-bottom: 0;padding: 0.3em;box-sizing: border-box;text-align: center;}#sk-container-id-2 label.sk-toggleable__label-arrow:before {content: \"▸\";float: left;margin-right: 0.25em;color: #696969;}#sk-container-id-2 label.sk-toggleable__label-arrow:hover:before {color: black;}#sk-container-id-2 div.sk-estimator:hover label.sk-toggleable__label-arrow:before {color: black;}#sk-container-id-2 div.sk-toggleable__content {max-height: 0;max-width: 0;overflow: hidden;text-align: left;background-color: #f0f8ff;}#sk-container-id-2 div.sk-toggleable__content pre {margin: 0.2em;color: black;border-radius: 0.25em;background-color: #f0f8ff;}#sk-container-id-2 input.sk-toggleable__control:checked~div.sk-toggleable__content {max-height: 200px;max-width: 100%;overflow: auto;}#sk-container-id-2 input.sk-toggleable__control:checked~label.sk-toggleable__label-arrow:before {content: \"▾\";}#sk-container-id-2 div.sk-estimator input.sk-toggleable__control:checked~label.sk-toggleable__label {background-color: #d4ebff;}#sk-container-id-2 div.sk-label input.sk-toggleable__control:checked~label.sk-toggleable__label {background-color: #d4ebff;}#sk-container-id-2 input.sk-hidden--visually {border: 0;clip: rect(1px 1px 1px 1px);clip: rect(1px, 1px, 1px, 1px);height: 1px;margin: -1px;overflow: hidden;padding: 0;position: absolute;width: 1px;}#sk-container-id-2 div.sk-estimator {font-family: monospace;background-color: #f0f8ff;border: 1px dotted black;border-radius: 0.25em;box-sizing: border-box;margin-bottom: 0.5em;}#sk-container-id-2 div.sk-estimator:hover {background-color: #d4ebff;}#sk-container-id-2 div.sk-parallel-item::after {content: \"\";width: 100%;border-bottom: 1px solid gray;flex-grow: 1;}#sk-container-id-2 div.sk-label:hover label.sk-toggleable__label {background-color: #d4ebff;}#sk-container-id-2 div.sk-serial::before {content: \"\";position: absolute;border-left: 1px solid gray;box-sizing: border-box;top: 0;bottom: 0;left: 50%;z-index: 0;}#sk-container-id-2 div.sk-serial {display: flex;flex-direction: column;align-items: center;background-color: white;padding-right: 0.2em;padding-left: 0.2em;position: relative;}#sk-container-id-2 div.sk-item {position: relative;z-index: 1;}#sk-container-id-2 div.sk-parallel {display: flex;align-items: stretch;justify-content: center;background-color: white;position: relative;}#sk-container-id-2 div.sk-item::before, #sk-container-id-2 div.sk-parallel-item::before {content: \"\";position: absolute;border-left: 1px solid gray;box-sizing: border-box;top: 0;bottom: 0;left: 50%;z-index: -1;}#sk-container-id-2 div.sk-parallel-item {display: flex;flex-direction: column;z-index: 1;position: relative;background-color: white;}#sk-container-id-2 div.sk-parallel-item:first-child::after {align-self: flex-end;width: 50%;}#sk-container-id-2 div.sk-parallel-item:last-child::after {align-self: flex-start;width: 50%;}#sk-container-id-2 div.sk-parallel-item:only-child::after {width: 0;}#sk-container-id-2 div.sk-dashed-wrapped {border: 1px dashed gray;margin: 0 0.4em 0.5em 0.4em;box-sizing: border-box;padding-bottom: 0.4em;background-color: white;}#sk-container-id-2 div.sk-label label {font-family: monospace;font-weight: bold;display: inline-block;line-height: 1.2em;}#sk-container-id-2 div.sk-label-container {text-align: center;}#sk-container-id-2 div.sk-container {/* jupyter's `normalize.less` sets `[hidden] { display: none; }` but bootstrap.min.css set `[hidden] { display: none !important; }` so we also need the `!important` here to be able to override the default hidden behavior on the sphinx rendered scikit-learn.org. See: https://github.com/scikit-learn/scikit-learn/issues/21755 */display: inline-block !important;position: relative;}#sk-container-id-2 div.sk-text-repr-fallback {display: none;}</style><div id=\"sk-container-id-2\" class=\"sk-top-container\"><div class=\"sk-text-repr-fallback\"><pre>ElasticNetCV(cv=5, eps=0.008, l1_ratio=[0.7, 0.9, 0.95, 0.99, 1], n_alphas=30,\n",
       "             n_jobs=4, random_state=2023, tol=0.001)</pre><b>In a Jupyter environment, please rerun this cell to show the HTML representation or trust the notebook. <br />On GitHub, the HTML representation is unable to render, please try loading this page with nbviewer.org.</b></div><div class=\"sk-container\" hidden><div class=\"sk-item\"><div class=\"sk-estimator sk-toggleable\"><input class=\"sk-toggleable__control sk-hidden--visually\" id=\"sk-estimator-id-2\" type=\"checkbox\" checked><label for=\"sk-estimator-id-2\" class=\"sk-toggleable__label sk-toggleable__label-arrow\">ElasticNetCV</label><div class=\"sk-toggleable__content\"><pre>ElasticNetCV(cv=5, eps=0.008, l1_ratio=[0.7, 0.9, 0.95, 0.99, 1], n_alphas=30,\n",
       "             n_jobs=4, random_state=2023, tol=0.001)</pre></div></div></div></div></div>"
      ],
      "text/plain": [
       "ElasticNetCV(cv=5, eps=0.008, l1_ratio=[0.7, 0.9, 0.95, 0.99, 1], n_alphas=30,\n",
       "             n_jobs=4, random_state=2023, tol=0.001)"
      ]
     },
     "execution_count": 57,
     "metadata": {},
     "output_type": "execute_result"
    }
   ],
   "source": [
    "Elastic = skl.ElasticNetCV(eps=8e-3,\n",
    "                           n_alphas=30,\n",
    "                           alphas=None,\n",
    "                           fit_intercept=True,\n",
    "                           l1_ratio=[ .7, .9, .95, .99,1],\n",
    "                           tol=0.001,\n",
    "                           cv=5,\n",
    "                           n_jobs=4,\n",
    "                           random_state=seed)\n",
    "\n",
    "Elastic.fit(X_train,y_train)\n",
    "\n",
    "# 3 pts"
   ]
  },
  {
   "cell_type": "code",
   "execution_count": null,
   "metadata": {
    "colab": {
     "base_uri": "https://localhost:8080/"
    },
    "id": "eyFLO7oGmnnn",
    "outputId": "2dd8dc8a-716b-4b00-a527-30f52cac61f6"
   },
   "outputs": [
    {
     "name": "stdout",
     "output_type": "stream",
     "text": [
      "Best fit: alpha=0.002, l1_ratio=1.000\n"
     ]
    }
   ],
   "source": [
    "# Print best coefficients\n",
    "print('Best fit: alpha=%.3f, l1_ratio=%.3f' % (Elastic.alpha_, Elastic.l1_ratio_))\n",
    "\n",
    "# 1 pt"
   ]
  },
  {
   "cell_type": "markdown",
   "metadata": {
    "id": "yQLwlTQznvfs"
   },
   "source": [
    "From the obtained tuning parameters, is the Elasticnet regression model equivalent to the Lasso regression? Briefly describe the reason. "
   ]
  },
  {
   "cell_type": "markdown",
   "metadata": {
    "id": "imEmw4pdozsc"
   },
   "source": [
    "**YOUR ANSWER HERE:** [3pts]\n",
    "\n",
    "Yes. Since the l1_ratio=1, the Elasticnet regression model degenerates to the Lasso regression."
   ]
  },
  {
   "cell_type": "markdown",
   "metadata": {
    "id": "mA8w-HPJ93h6"
   },
   "source": [
    "## Question 5: /16 pts"
   ]
  },
  {
   "cell_type": "markdown",
   "metadata": {
    "id": "xGaiH_Y49_Nl"
   },
   "source": [
    "### 5.1 Start from the regression model in question 3.4, use `SequentialFeatureSelector()` to conduct the forward selection for the features of the regression model. Include the argument `n_features_to_select=20`. Report the indices of the selected features. \n",
    "\n",
    "FYI: Running this using 8 physical cores took about 1 minute for me."
   ]
  },
  {
   "cell_type": "code",
   "execution_count": null,
   "metadata": {
    "id": "jxGV90gx6nDm"
   },
   "outputs": [],
   "source": [
    "sfs = SequentialFeatureSelector(Reg, n_features_to_select=20, n_jobs=8)\n",
    "\n",
    "#4pts"
   ]
  },
  {
   "cell_type": "code",
   "execution_count": null,
   "metadata": {
    "colab": {
     "base_uri": "https://localhost:8080/"
    },
    "id": "OSmYRMPu7Hwd",
    "outputId": "302a2f25-357c-4397-8578-24b541f7811d"
   },
   "outputs": [
    {
     "data": {
      "text/html": [
       "<style>#sk-container-id-5 {color: black;background-color: white;}#sk-container-id-5 pre{padding: 0;}#sk-container-id-5 div.sk-toggleable {background-color: white;}#sk-container-id-5 label.sk-toggleable__label {cursor: pointer;display: block;width: 100%;margin-bottom: 0;padding: 0.3em;box-sizing: border-box;text-align: center;}#sk-container-id-5 label.sk-toggleable__label-arrow:before {content: \"▸\";float: left;margin-right: 0.25em;color: #696969;}#sk-container-id-5 label.sk-toggleable__label-arrow:hover:before {color: black;}#sk-container-id-5 div.sk-estimator:hover label.sk-toggleable__label-arrow:before {color: black;}#sk-container-id-5 div.sk-toggleable__content {max-height: 0;max-width: 0;overflow: hidden;text-align: left;background-color: #f0f8ff;}#sk-container-id-5 div.sk-toggleable__content pre {margin: 0.2em;color: black;border-radius: 0.25em;background-color: #f0f8ff;}#sk-container-id-5 input.sk-toggleable__control:checked~div.sk-toggleable__content {max-height: 200px;max-width: 100%;overflow: auto;}#sk-container-id-5 input.sk-toggleable__control:checked~label.sk-toggleable__label-arrow:before {content: \"▾\";}#sk-container-id-5 div.sk-estimator input.sk-toggleable__control:checked~label.sk-toggleable__label {background-color: #d4ebff;}#sk-container-id-5 div.sk-label input.sk-toggleable__control:checked~label.sk-toggleable__label {background-color: #d4ebff;}#sk-container-id-5 input.sk-hidden--visually {border: 0;clip: rect(1px 1px 1px 1px);clip: rect(1px, 1px, 1px, 1px);height: 1px;margin: -1px;overflow: hidden;padding: 0;position: absolute;width: 1px;}#sk-container-id-5 div.sk-estimator {font-family: monospace;background-color: #f0f8ff;border: 1px dotted black;border-radius: 0.25em;box-sizing: border-box;margin-bottom: 0.5em;}#sk-container-id-5 div.sk-estimator:hover {background-color: #d4ebff;}#sk-container-id-5 div.sk-parallel-item::after {content: \"\";width: 100%;border-bottom: 1px solid gray;flex-grow: 1;}#sk-container-id-5 div.sk-label:hover label.sk-toggleable__label {background-color: #d4ebff;}#sk-container-id-5 div.sk-serial::before {content: \"\";position: absolute;border-left: 1px solid gray;box-sizing: border-box;top: 0;bottom: 0;left: 50%;z-index: 0;}#sk-container-id-5 div.sk-serial {display: flex;flex-direction: column;align-items: center;background-color: white;padding-right: 0.2em;padding-left: 0.2em;position: relative;}#sk-container-id-5 div.sk-item {position: relative;z-index: 1;}#sk-container-id-5 div.sk-parallel {display: flex;align-items: stretch;justify-content: center;background-color: white;position: relative;}#sk-container-id-5 div.sk-item::before, #sk-container-id-5 div.sk-parallel-item::before {content: \"\";position: absolute;border-left: 1px solid gray;box-sizing: border-box;top: 0;bottom: 0;left: 50%;z-index: -1;}#sk-container-id-5 div.sk-parallel-item {display: flex;flex-direction: column;z-index: 1;position: relative;background-color: white;}#sk-container-id-5 div.sk-parallel-item:first-child::after {align-self: flex-end;width: 50%;}#sk-container-id-5 div.sk-parallel-item:last-child::after {align-self: flex-start;width: 50%;}#sk-container-id-5 div.sk-parallel-item:only-child::after {width: 0;}#sk-container-id-5 div.sk-dashed-wrapped {border: 1px dashed gray;margin: 0 0.4em 0.5em 0.4em;box-sizing: border-box;padding-bottom: 0.4em;background-color: white;}#sk-container-id-5 div.sk-label label {font-family: monospace;font-weight: bold;display: inline-block;line-height: 1.2em;}#sk-container-id-5 div.sk-label-container {text-align: center;}#sk-container-id-5 div.sk-container {/* jupyter's `normalize.less` sets `[hidden] { display: none; }` but bootstrap.min.css set `[hidden] { display: none !important; }` so we also need the `!important` here to be able to override the default hidden behavior on the sphinx rendered scikit-learn.org. See: https://github.com/scikit-learn/scikit-learn/issues/21755 */display: inline-block !important;position: relative;}#sk-container-id-5 div.sk-text-repr-fallback {display: none;}</style><div id=\"sk-container-id-5\" class=\"sk-top-container\"><div class=\"sk-text-repr-fallback\"><pre>SequentialFeatureSelector(estimator=LinearRegression(), n_features_to_select=20,\n",
       "                          n_jobs=8)</pre><b>In a Jupyter environment, please rerun this cell to show the HTML representation or trust the notebook. <br />On GitHub, the HTML representation is unable to render, please try loading this page with nbviewer.org.</b></div><div class=\"sk-container\" hidden><div class=\"sk-item sk-dashed-wrapped\"><div class=\"sk-label-container\"><div class=\"sk-label sk-toggleable\"><input class=\"sk-toggleable__control sk-hidden--visually\" id=\"sk-estimator-id-9\" type=\"checkbox\" ><label for=\"sk-estimator-id-9\" class=\"sk-toggleable__label sk-toggleable__label-arrow\">SequentialFeatureSelector</label><div class=\"sk-toggleable__content\"><pre>SequentialFeatureSelector(estimator=LinearRegression(), n_features_to_select=20,\n",
       "                          n_jobs=8)</pre></div></div></div><div class=\"sk-parallel\"><div class=\"sk-parallel-item\"><div class=\"sk-item\"><div class=\"sk-label-container\"><div class=\"sk-label sk-toggleable\"><input class=\"sk-toggleable__control sk-hidden--visually\" id=\"sk-estimator-id-10\" type=\"checkbox\" ><label for=\"sk-estimator-id-10\" class=\"sk-toggleable__label sk-toggleable__label-arrow\">estimator: LinearRegression</label><div class=\"sk-toggleable__content\"><pre>LinearRegression()</pre></div></div></div><div class=\"sk-serial\"><div class=\"sk-item\"><div class=\"sk-estimator sk-toggleable\"><input class=\"sk-toggleable__control sk-hidden--visually\" id=\"sk-estimator-id-11\" type=\"checkbox\" ><label for=\"sk-estimator-id-11\" class=\"sk-toggleable__label sk-toggleable__label-arrow\">LinearRegression</label><div class=\"sk-toggleable__content\"><pre>LinearRegression()</pre></div></div></div></div></div></div></div></div></div></div>"
      ],
      "text/plain": [
       "SequentialFeatureSelector(estimator=LinearRegression(), n_features_to_select=20,\n",
       "                          n_jobs=8)"
      ]
     },
     "execution_count": 65,
     "metadata": {},
     "output_type": "execute_result"
    }
   ],
   "source": [
    "sfs.fit(X_train,y_train)\n",
    "\n",
    "#2pts"
   ]
  },
  {
   "cell_type": "code",
   "execution_count": null,
   "metadata": {
    "colab": {
     "base_uri": "https://localhost:8080/"
    },
    "id": "SiqM8YFH-JXD",
    "outputId": "610fd63a-a9a6-4b54-f1ec-2bdd575fd8ce"
   },
   "outputs": [
    {
     "data": {
      "text/plain": [
       "array([  1,   3,  12,  18,  19,  20,  28,  36,  38,  55,  59,  69,  75,\n",
       "       104, 117, 118, 119, 126, 131, 143])"
      ]
     },
     "execution_count": 66,
     "metadata": {},
     "output_type": "execute_result"
    }
   ],
   "source": [
    "SL_F=sfs.get_support()\n",
    "np.where(SL_F==True)[0]\n",
    "\n",
    "#4pts"
   ]
  },
  {
   "cell_type": "markdown",
   "metadata": {
    "id": "QNFD6RQJ_8m3"
   },
   "source": [
    "What do you need to change about the argument in your model if you want to conduct a backward selection?"
   ]
  },
  {
   "cell_type": "markdown",
   "metadata": {
    "id": "8pawMkg5-3j9"
   },
   "source": [
    "**YOUR ANSWER HERE:** [2pts] \n",
    "\n",
    "We need to pass in the argument `direction='backward'` to the model."
   ]
  },
  {
   "cell_type": "markdown",
   "metadata": {
    "id": "CBLcnkP71SbP"
   },
   "source": [
    "### 5.2 Re-fit the regular linear regression based on the traning set by using the selected features from the question 5.1. Report the first 3 parameters of your model as indicated with the print function."
   ]
  },
  {
   "cell_type": "code",
   "execution_count": null,
   "metadata": {
    "id": "k8gVaU4mA6Zw"
   },
   "outputs": [],
   "source": [
    "X_train1 =sfs.transform(X_train)\n",
    "X_test1  =sfs.transform(X_test)\n",
    "\n",
    "#2pts"
   ]
  },
  {
   "cell_type": "code",
   "execution_count": null,
   "metadata": {
    "colab": {
     "base_uri": "https://localhost:8080/"
    },
    "id": "OWxqcU_KBWBn",
    "outputId": "6191ddf3-2d74-409b-efb0-7d339b008692"
   },
   "outputs": [
    {
     "name": "stdout",
     "output_type": "stream",
     "text": [
      "The first 3 parameters of the model are : [ 0.48181157  1.07122953 -0.0122778 ]\n"
     ]
    }
   ],
   "source": [
    "RGL1= Reg.fit(X_train1,y_train)\n",
    "print(f'The first 3 parameters of the model are : {RGL1.coef_[0:3]}')\n",
    "\n",
    "#2pts"
   ]
  },
  {
   "cell_type": "markdown",
   "metadata": {
    "id": "ETqQ_ZMy2oyB"
   },
   "source": [
    "## Question 6: /9 pts"
   ]
  },
  {
   "cell_type": "markdown",
   "metadata": {
    "id": "3V9n4qj68cQn"
   },
   "source": [
    "### 6.1 Make predictions on the test set using your models in questions 3.3, 4.2, 4.3, and 5.2, respectively. Together with the predicted values obtained in question 3.5, report the first 5 rows of predicted values obtained from different models in a single DataFrame."
   ]
  },
  {
   "cell_type": "code",
   "execution_count": null,
   "metadata": {
    "colab": {
     "base_uri": "https://localhost:8080/",
     "height": 206
    },
    "id": "bcjWPGH82stF",
    "outputId": "1e7bdb5a-62e0-4d5a-b7a7-8846cc06a3c5"
   },
   "outputs": [
    {
     "data": {
      "text/html": [
       "<div>\n",
       "<style scoped>\n",
       "    .dataframe tbody tr th:only-of-type {\n",
       "        vertical-align: middle;\n",
       "    }\n",
       "\n",
       "    .dataframe tbody tr th {\n",
       "        vertical-align: top;\n",
       "    }\n",
       "\n",
       "    .dataframe thead th {\n",
       "        text-align: right;\n",
       "    }\n",
       "</style>\n",
       "<table border=\"1\" class=\"dataframe\">\n",
       "  <thead>\n",
       "    <tr style=\"text-align: right;\">\n",
       "      <th></th>\n",
       "      <th>Linear Reg</th>\n",
       "      <th>Forward selection</th>\n",
       "      <th>Ridge</th>\n",
       "      <th>LASSO</th>\n",
       "      <th>Elasticnet</th>\n",
       "    </tr>\n",
       "  </thead>\n",
       "  <tbody>\n",
       "    <tr>\n",
       "      <th>0</th>\n",
       "      <td>9.239557</td>\n",
       "      <td>9.197035</td>\n",
       "      <td>9.244224</td>\n",
       "      <td>9.142903</td>\n",
       "      <td>9.142903</td>\n",
       "    </tr>\n",
       "    <tr>\n",
       "      <th>1</th>\n",
       "      <td>8.319282</td>\n",
       "      <td>8.300987</td>\n",
       "      <td>8.317220</td>\n",
       "      <td>8.303288</td>\n",
       "      <td>8.303288</td>\n",
       "    </tr>\n",
       "    <tr>\n",
       "      <th>2</th>\n",
       "      <td>8.895637</td>\n",
       "      <td>8.910826</td>\n",
       "      <td>8.894495</td>\n",
       "      <td>8.859596</td>\n",
       "      <td>8.859596</td>\n",
       "    </tr>\n",
       "    <tr>\n",
       "      <th>3</th>\n",
       "      <td>8.082100</td>\n",
       "      <td>8.025311</td>\n",
       "      <td>8.083858</td>\n",
       "      <td>8.085032</td>\n",
       "      <td>8.085032</td>\n",
       "    </tr>\n",
       "    <tr>\n",
       "      <th>4</th>\n",
       "      <td>8.446955</td>\n",
       "      <td>8.445480</td>\n",
       "      <td>8.433497</td>\n",
       "      <td>8.416404</td>\n",
       "      <td>8.416404</td>\n",
       "    </tr>\n",
       "  </tbody>\n",
       "</table>\n",
       "</div>"
      ],
      "text/plain": [
       "   Linear Reg  Forward selection     Ridge     LASSO  Elasticnet\n",
       "0    9.239557           9.197035  9.244224  9.142903    9.142903\n",
       "1    8.319282           8.300987  8.317220  8.303288    8.303288\n",
       "2    8.895637           8.910826  8.894495  8.859596    8.859596\n",
       "3    8.082100           8.025311  8.083858  8.085032    8.085032\n",
       "4    8.446955           8.445480  8.433497  8.416404    8.416404"
      ]
     },
     "execution_count": 74,
     "metadata": {},
     "output_type": "execute_result"
    }
   ],
   "source": [
    "yp1  = RGL1.predict(X_test1)\n",
    "yp_r = RL.predict(X_test)\n",
    "yp_l = LASS.predict(X_test)\n",
    "yp_E = Elastic.predict(X_test)\n",
    "pd.DataFrame({'Linear Reg':yp, 'Forward selection': yp1, 'Ridge': yp_r, 'LASSO': yp_l, 'Elasticnet': yp_E}).head()\n",
    "\n",
    "#3pts"
   ]
  },
  {
   "cell_type": "markdown",
   "metadata": {
    "id": "jyZgAOlNAKxs"
   },
   "source": [
    "### 6.2 Use `mean_squared_error()` to assess the performance of different models based on all the predicted values mentioned in Question 6.1.  "
   ]
  },
  {
   "cell_type": "code",
   "execution_count": null,
   "metadata": {
    "colab": {
     "base_uri": "https://localhost:8080/"
    },
    "id": "BnDTK5XG6k08",
    "outputId": "d1b6471e-4890-490e-9611-210ceef598e1"
   },
   "outputs": [
    {
     "data": {
      "text/plain": [
       "3"
      ]
     },
     "execution_count": 75,
     "metadata": {},
     "output_type": "execute_result"
    }
   ],
   "source": [
    "MSE   = metrics.mean_squared_error(y_test,yp)\n",
    "MSE1  = metrics.mean_squared_error(y_test,yp1)\n",
    "MSE_r = metrics.mean_squared_error(y_test,yp_r)\n",
    "MSE_l = metrics.mean_squared_error(y_test,yp_l)\n",
    "MSE_E = metrics.mean_squared_error(y_test,yp_E)\n",
    "\n",
    "MSE_all=pd.Series([MSE, MSE1, MSE_r,MSE_l, MSE_E])\n",
    "MSE_all.argmin()\n",
    "\n",
    "#4pts"
   ]
  },
  {
   "cell_type": "markdown",
   "metadata": {
    "id": "C29Tjgo6A-eH"
   },
   "source": [
    "Which model yields the smallest mean squared error on the test dataset?"
   ]
  },
  {
   "cell_type": "markdown",
   "metadata": {
    "id": "rOXIpNBmBcay"
   },
   "source": [
    "**YOUR ANSWER HERE:** [2pts]\n",
    "\n",
    "The LASSO regression leads to the smallest mean squared error on the test dataset."
   ]
  }
 ],
 "metadata": {
  "colab": {
   "provenance": []
  },
  "kernelspec": {
   "display_name": "Python 3",
   "language": "python",
   "name": "python3"
  },
  "language_info": {
   "codemirror_mode": {
    "name": "ipython",
    "version": 3
   },
   "file_extension": ".py",
   "mimetype": "text/x-python",
   "name": "python",
   "nbconvert_exporter": "python",
   "pygments_lexer": "ipython3",
   "version": "3.8.8"
  },
  "vscode": {
   "interpreter": {
    "hash": "33450fd3005a3f920860570602bb6b9ad3febc9347ad497c595fea1c977e6b53"
   }
  }
 },
 "nbformat": 4,
 "nbformat_minor": 1
}
